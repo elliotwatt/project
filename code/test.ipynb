{
 "cells": [
  {
   "cell_type": "code",
   "execution_count": 1,
   "metadata": {},
   "outputs": [
    {
     "data": {
      "application/javascript": "(function(root) {\n  function now() {\n    return new Date();\n  }\n\n  var force = true;\n  var py_version = '3.2.1'.replace('rc', '-rc.').replace('.dev', '-dev.');\n  var is_dev = py_version.indexOf(\"+\") !== -1 || py_version.indexOf(\"-\") !== -1;\n  var reloading = false;\n  var Bokeh = root.Bokeh;\n  var bokeh_loaded = Bokeh != null && (Bokeh.version === py_version || (Bokeh.versions !== undefined && Bokeh.versions.has(py_version)));\n\n  if (typeof (root._bokeh_timeout) === \"undefined\" || force) {\n    root._bokeh_timeout = Date.now() + 5000;\n    root._bokeh_failed_load = false;\n  }\n\n  function run_callbacks() {\n    try {\n      root._bokeh_onload_callbacks.forEach(function(callback) {\n        if (callback != null)\n          callback();\n      });\n    } finally {\n      delete root._bokeh_onload_callbacks;\n    }\n    console.debug(\"Bokeh: all callbacks have finished\");\n  }\n\n  function load_libs(css_urls, js_urls, js_modules, js_exports, callback) {\n    if (css_urls == null) css_urls = [];\n    if (js_urls == null) js_urls = [];\n    if (js_modules == null) js_modules = [];\n    if (js_exports == null) js_exports = {};\n\n    root._bokeh_onload_callbacks.push(callback);\n\n    if (root._bokeh_is_loading > 0) {\n      console.debug(\"Bokeh: BokehJS is being loaded, scheduling callback at\", now());\n      return null;\n    }\n    if (js_urls.length === 0 && js_modules.length === 0 && Object.keys(js_exports).length === 0) {\n      run_callbacks();\n      return null;\n    }\n    if (!reloading) {\n      console.debug(\"Bokeh: BokehJS not loaded, scheduling load and callback at\", now());\n    }\n\n    function on_load() {\n      root._bokeh_is_loading--;\n      if (root._bokeh_is_loading === 0) {\n        console.debug(\"Bokeh: all BokehJS libraries/stylesheets loaded\");\n        run_callbacks()\n      }\n    }\n    window._bokeh_on_load = on_load\n\n    function on_error() {\n      console.error(\"failed to load \" + url);\n    }\n\n    var skip = [];\n    if (window.requirejs) {\n      window.requirejs.config({'packages': {}, 'paths': {'jspanel': 'https://cdn.jsdelivr.net/npm/jspanel4@4.12.0/dist/jspanel', 'jspanel-modal': 'https://cdn.jsdelivr.net/npm/jspanel4@4.12.0/dist/extensions/modal/jspanel.modal', 'jspanel-tooltip': 'https://cdn.jsdelivr.net/npm/jspanel4@4.12.0/dist/extensions/tooltip/jspanel.tooltip', 'jspanel-hint': 'https://cdn.jsdelivr.net/npm/jspanel4@4.12.0/dist/extensions/hint/jspanel.hint', 'jspanel-layout': 'https://cdn.jsdelivr.net/npm/jspanel4@4.12.0/dist/extensions/layout/jspanel.layout', 'jspanel-contextmenu': 'https://cdn.jsdelivr.net/npm/jspanel4@4.12.0/dist/extensions/contextmenu/jspanel.contextmenu', 'jspanel-dock': 'https://cdn.jsdelivr.net/npm/jspanel4@4.12.0/dist/extensions/dock/jspanel.dock', 'gridstack': 'https://cdn.jsdelivr.net/npm/gridstack@7.2.3/dist/gridstack-all', 'notyf': 'https://cdn.jsdelivr.net/npm/notyf@3/notyf.min'}, 'shim': {'jspanel': {'exports': 'jsPanel'}, 'gridstack': {'exports': 'GridStack'}}});\n      require([\"jspanel\"], function(jsPanel) {\n\twindow.jsPanel = jsPanel\n\ton_load()\n      })\n      require([\"jspanel-modal\"], function() {\n\ton_load()\n      })\n      require([\"jspanel-tooltip\"], function() {\n\ton_load()\n      })\n      require([\"jspanel-hint\"], function() {\n\ton_load()\n      })\n      require([\"jspanel-layout\"], function() {\n\ton_load()\n      })\n      require([\"jspanel-contextmenu\"], function() {\n\ton_load()\n      })\n      require([\"jspanel-dock\"], function() {\n\ton_load()\n      })\n      require([\"gridstack\"], function(GridStack) {\n\twindow.GridStack = GridStack\n\ton_load()\n      })\n      require([\"notyf\"], function() {\n\ton_load()\n      })\n      root._bokeh_is_loading = css_urls.length + 9;\n    } else {\n      root._bokeh_is_loading = css_urls.length + js_urls.length + js_modules.length + Object.keys(js_exports).length;\n    }\n\n    var existing_stylesheets = []\n    var links = document.getElementsByTagName('link')\n    for (var i = 0; i < links.length; i++) {\n      var link = links[i]\n      if (link.href != null) {\n\texisting_stylesheets.push(link.href)\n      }\n    }\n    for (var i = 0; i < css_urls.length; i++) {\n      var url = css_urls[i];\n      if (existing_stylesheets.indexOf(url) !== -1) {\n\ton_load()\n\tcontinue;\n      }\n      const element = document.createElement(\"link\");\n      element.onload = on_load;\n      element.onerror = on_error;\n      element.rel = \"stylesheet\";\n      element.type = \"text/css\";\n      element.href = url;\n      console.debug(\"Bokeh: injecting link tag for BokehJS stylesheet: \", url);\n      document.body.appendChild(element);\n    }    if (((window['jsPanel'] !== undefined) && (!(window['jsPanel'] instanceof HTMLElement))) || window.requirejs) {\n      var urls = ['https://cdn.holoviz.org/panel/1.2.3/dist/bundled/floatpanel/jspanel4@4.12.0/dist/jspanel.js', 'https://cdn.holoviz.org/panel/1.2.3/dist/bundled/floatpanel/jspanel4@4.12.0/dist/extensions/modal/jspanel.modal.js', 'https://cdn.holoviz.org/panel/1.2.3/dist/bundled/floatpanel/jspanel4@4.12.0/dist/extensions/tooltip/jspanel.tooltip.js', 'https://cdn.holoviz.org/panel/1.2.3/dist/bundled/floatpanel/jspanel4@4.12.0/dist/extensions/hint/jspanel.hint.js', 'https://cdn.holoviz.org/panel/1.2.3/dist/bundled/floatpanel/jspanel4@4.12.0/dist/extensions/layout/jspanel.layout.js', 'https://cdn.holoviz.org/panel/1.2.3/dist/bundled/floatpanel/jspanel4@4.12.0/dist/extensions/contextmenu/jspanel.contextmenu.js', 'https://cdn.holoviz.org/panel/1.2.3/dist/bundled/floatpanel/jspanel4@4.12.0/dist/extensions/dock/jspanel.dock.js'];\n      for (var i = 0; i < urls.length; i++) {\n        skip.push(urls[i])\n      }\n    }    if (((window['GridStack'] !== undefined) && (!(window['GridStack'] instanceof HTMLElement))) || window.requirejs) {\n      var urls = ['https://cdn.holoviz.org/panel/1.2.3/dist/bundled/gridstack/gridstack@7.2.3/dist/gridstack-all.js'];\n      for (var i = 0; i < urls.length; i++) {\n        skip.push(urls[i])\n      }\n    }    if (((window['Notyf'] !== undefined) && (!(window['Notyf'] instanceof HTMLElement))) || window.requirejs) {\n      var urls = ['https://cdn.holoviz.org/panel/1.2.3/dist/bundled/notificationarea/notyf@3/notyf.min.js'];\n      for (var i = 0; i < urls.length; i++) {\n        skip.push(urls[i])\n      }\n    }    var existing_scripts = []\n    var scripts = document.getElementsByTagName('script')\n    for (var i = 0; i < scripts.length; i++) {\n      var script = scripts[i]\n      if (script.src != null) {\n\texisting_scripts.push(script.src)\n      }\n    }\n    for (var i = 0; i < js_urls.length; i++) {\n      var url = js_urls[i];\n      if (skip.indexOf(url) !== -1 || existing_scripts.indexOf(url) !== -1) {\n\tif (!window.requirejs) {\n\t  on_load();\n\t}\n\tcontinue;\n      }\n      var element = document.createElement('script');\n      element.onload = on_load;\n      element.onerror = on_error;\n      element.async = false;\n      element.src = url;\n      console.debug(\"Bokeh: injecting script tag for BokehJS library: \", url);\n      document.head.appendChild(element);\n    }\n    for (var i = 0; i < js_modules.length; i++) {\n      var url = js_modules[i];\n      if (skip.indexOf(url) !== -1 || existing_scripts.indexOf(url) !== -1) {\n\tif (!window.requirejs) {\n\t  on_load();\n\t}\n\tcontinue;\n      }\n      var element = document.createElement('script');\n      element.onload = on_load;\n      element.onerror = on_error;\n      element.async = false;\n      element.src = url;\n      element.type = \"module\";\n      console.debug(\"Bokeh: injecting script tag for BokehJS library: \", url);\n      document.head.appendChild(element);\n    }\n    for (const name in js_exports) {\n      var url = js_exports[name];\n      if (skip.indexOf(url) >= 0 || root[name] != null) {\n\tif (!window.requirejs) {\n\t  on_load();\n\t}\n\tcontinue;\n      }\n      var element = document.createElement('script');\n      element.onerror = on_error;\n      element.async = false;\n      element.type = \"module\";\n      console.debug(\"Bokeh: injecting script tag for BokehJS library: \", url);\n      element.textContent = `\n      import ${name} from \"${url}\"\n      window.${name} = ${name}\n      window._bokeh_on_load()\n      `\n      document.head.appendChild(element);\n    }\n    if (!js_urls.length && !js_modules.length) {\n      on_load()\n    }\n  };\n\n  function inject_raw_css(css) {\n    const element = document.createElement(\"style\");\n    element.appendChild(document.createTextNode(css));\n    document.body.appendChild(element);\n  }\n\n  var js_urls = [\"https://cdn.bokeh.org/bokeh/release/bokeh-3.2.1.min.js\", \"https://cdn.bokeh.org/bokeh/release/bokeh-gl-3.2.1.min.js\", \"https://cdn.bokeh.org/bokeh/release/bokeh-widgets-3.2.1.min.js\", \"https://cdn.bokeh.org/bokeh/release/bokeh-tables-3.2.1.min.js\", \"https://cdn.holoviz.org/panel/1.2.3/dist/panel.min.js\"];\n  var js_modules = [];\n  var js_exports = {};\n  var css_urls = [];\n  var inline_js = [    function(Bokeh) {\n      Bokeh.set_log_level(\"info\");\n    },\nfunction(Bokeh) {} // ensure no trailing comma for IE\n  ];\n\n  function run_inline_js() {\n    if ((root.Bokeh !== undefined) || (force === true)) {\n      for (var i = 0; i < inline_js.length; i++) {\n        inline_js[i].call(root, root.Bokeh);\n      }\n      // Cache old bokeh versions\n      if (Bokeh != undefined && !reloading) {\n\tvar NewBokeh = root.Bokeh;\n\tif (Bokeh.versions === undefined) {\n\t  Bokeh.versions = new Map();\n\t}\n\tif (NewBokeh.version !== Bokeh.version) {\n\t  Bokeh.versions.set(NewBokeh.version, NewBokeh)\n\t}\n\troot.Bokeh = Bokeh;\n      }} else if (Date.now() < root._bokeh_timeout) {\n      setTimeout(run_inline_js, 100);\n    } else if (!root._bokeh_failed_load) {\n      console.log(\"Bokeh: BokehJS failed to load within specified timeout.\");\n      root._bokeh_failed_load = true;\n    }\n    root._bokeh_is_initializing = false\n  }\n\n  function load_or_wait() {\n    // Implement a backoff loop that tries to ensure we do not load multiple\n    // versions of Bokeh and its dependencies at the same time.\n    // In recent versions we use the root._bokeh_is_initializing flag\n    // to determine whether there is an ongoing attempt to initialize\n    // bokeh, however for backward compatibility we also try to ensure\n    // that we do not start loading a newer (Panel>=1.0 and Bokeh>3) version\n    // before older versions are fully initialized.\n    if (root._bokeh_is_initializing && Date.now() > root._bokeh_timeout) {\n      root._bokeh_is_initializing = false;\n      root._bokeh_onload_callbacks = undefined;\n      console.log(\"Bokeh: BokehJS was loaded multiple times but one version failed to initialize.\");\n      load_or_wait();\n    } else if (root._bokeh_is_initializing || (typeof root._bokeh_is_initializing === \"undefined\" && root._bokeh_onload_callbacks !== undefined)) {\n      setTimeout(load_or_wait, 100);\n    } else {\n      Bokeh = root.Bokeh;\n      bokeh_loaded = Bokeh != null && (Bokeh.version === py_version || (Bokeh.versions !== undefined && Bokeh.versions.has(py_version)));\n      root._bokeh_is_initializing = true\n      root._bokeh_onload_callbacks = []\n      if (!reloading && (!bokeh_loaded || is_dev)) {\n\troot.Bokeh = undefined;\n      }\n      load_libs(css_urls, js_urls, js_modules, js_exports, function() {\n\tconsole.debug(\"Bokeh: BokehJS plotting callback run at\", now());\n\trun_inline_js();\n      });\n    }\n  }\n  // Give older versions of the autoload script a head-start to ensure\n  // they initialize before we start loading newer version.\n  setTimeout(load_or_wait, 100)\n}(window));",
      "application/vnd.holoviews_load.v0+json": ""
     },
     "metadata": {},
     "output_type": "display_data"
    },
    {
     "data": {
      "application/javascript": "\nif ((window.PyViz === undefined) || (window.PyViz instanceof HTMLElement)) {\n  window.PyViz = {comms: {}, comm_status:{}, kernels:{}, receivers: {}, plot_index: []}\n}\n\n\n    function JupyterCommManager() {\n    }\n\n    JupyterCommManager.prototype.register_target = function(plot_id, comm_id, msg_handler) {\n      if (window.comm_manager || ((window.Jupyter !== undefined) && (Jupyter.notebook.kernel != null))) {\n        var comm_manager = window.comm_manager || Jupyter.notebook.kernel.comm_manager;\n        comm_manager.register_target(comm_id, function(comm) {\n          comm.on_msg(msg_handler);\n        });\n      } else if ((plot_id in window.PyViz.kernels) && (window.PyViz.kernels[plot_id])) {\n        window.PyViz.kernels[plot_id].registerCommTarget(comm_id, function(comm) {\n          comm.onMsg = msg_handler;\n        });\n      } else if (typeof google != 'undefined' && google.colab.kernel != null) {\n        google.colab.kernel.comms.registerTarget(comm_id, (comm) => {\n          var messages = comm.messages[Symbol.asyncIterator]();\n          function processIteratorResult(result) {\n            var message = result.value;\n            console.log(message)\n            var content = {data: message.data, comm_id};\n            var buffers = []\n            for (var buffer of message.buffers || []) {\n              buffers.push(new DataView(buffer))\n            }\n            var metadata = message.metadata || {};\n            var msg = {content, buffers, metadata}\n            msg_handler(msg);\n            return messages.next().then(processIteratorResult);\n          }\n          return messages.next().then(processIteratorResult);\n        })\n      }\n    }\n\n    JupyterCommManager.prototype.get_client_comm = function(plot_id, comm_id, msg_handler) {\n      if (comm_id in window.PyViz.comms) {\n        return window.PyViz.comms[comm_id];\n      } else if (window.comm_manager || ((window.Jupyter !== undefined) && (Jupyter.notebook.kernel != null))) {\n        var comm_manager = window.comm_manager || Jupyter.notebook.kernel.comm_manager;\n        var comm = comm_manager.new_comm(comm_id, {}, {}, {}, comm_id);\n        if (msg_handler) {\n          comm.on_msg(msg_handler);\n        }\n      } else if ((plot_id in window.PyViz.kernels) && (window.PyViz.kernels[plot_id])) {\n        var comm = window.PyViz.kernels[plot_id].connectToComm(comm_id);\n        comm.open();\n        if (msg_handler) {\n          comm.onMsg = msg_handler;\n        }\n      } else if (typeof google != 'undefined' && google.colab.kernel != null) {\n        var comm_promise = google.colab.kernel.comms.open(comm_id)\n        comm_promise.then((comm) => {\n          window.PyViz.comms[comm_id] = comm;\n          if (msg_handler) {\n            var messages = comm.messages[Symbol.asyncIterator]();\n            function processIteratorResult(result) {\n              var message = result.value;\n              var content = {data: message.data};\n              var metadata = message.metadata || {comm_id};\n              var msg = {content, metadata}\n              msg_handler(msg);\n              return messages.next().then(processIteratorResult);\n            }\n            return messages.next().then(processIteratorResult);\n          }\n        }) \n        var sendClosure = (data, metadata, buffers, disposeOnDone) => {\n          return comm_promise.then((comm) => {\n            comm.send(data, metadata, buffers, disposeOnDone);\n          });\n        };\n        var comm = {\n          send: sendClosure\n        };\n      }\n      window.PyViz.comms[comm_id] = comm;\n      return comm;\n    }\n    window.PyViz.comm_manager = new JupyterCommManager();\n    \n\n\nvar JS_MIME_TYPE = 'application/javascript';\nvar HTML_MIME_TYPE = 'text/html';\nvar EXEC_MIME_TYPE = 'application/vnd.holoviews_exec.v0+json';\nvar CLASS_NAME = 'output';\n\n/**\n * Render data to the DOM node\n */\nfunction render(props, node) {\n  var div = document.createElement(\"div\");\n  var script = document.createElement(\"script\");\n  node.appendChild(div);\n  node.appendChild(script);\n}\n\n/**\n * Handle when a new output is added\n */\nfunction handle_add_output(event, handle) {\n  var output_area = handle.output_area;\n  var output = handle.output;\n  if ((output.data == undefined) || (!output.data.hasOwnProperty(EXEC_MIME_TYPE))) {\n    return\n  }\n  var id = output.metadata[EXEC_MIME_TYPE][\"id\"];\n  var toinsert = output_area.element.find(\".\" + CLASS_NAME.split(' ')[0]);\n  if (id !== undefined) {\n    var nchildren = toinsert.length;\n    var html_node = toinsert[nchildren-1].children[0];\n    html_node.innerHTML = output.data[HTML_MIME_TYPE];\n    var scripts = [];\n    var nodelist = html_node.querySelectorAll(\"script\");\n    for (var i in nodelist) {\n      if (nodelist.hasOwnProperty(i)) {\n        scripts.push(nodelist[i])\n      }\n    }\n\n    scripts.forEach( function (oldScript) {\n      var newScript = document.createElement(\"script\");\n      var attrs = [];\n      var nodemap = oldScript.attributes;\n      for (var j in nodemap) {\n        if (nodemap.hasOwnProperty(j)) {\n          attrs.push(nodemap[j])\n        }\n      }\n      attrs.forEach(function(attr) { newScript.setAttribute(attr.name, attr.value) });\n      newScript.appendChild(document.createTextNode(oldScript.innerHTML));\n      oldScript.parentNode.replaceChild(newScript, oldScript);\n    });\n    if (JS_MIME_TYPE in output.data) {\n      toinsert[nchildren-1].children[1].textContent = output.data[JS_MIME_TYPE];\n    }\n    output_area._hv_plot_id = id;\n    if ((window.Bokeh !== undefined) && (id in Bokeh.index)) {\n      window.PyViz.plot_index[id] = Bokeh.index[id];\n    } else {\n      window.PyViz.plot_index[id] = null;\n    }\n  } else if (output.metadata[EXEC_MIME_TYPE][\"server_id\"] !== undefined) {\n    var bk_div = document.createElement(\"div\");\n    bk_div.innerHTML = output.data[HTML_MIME_TYPE];\n    var script_attrs = bk_div.children[0].attributes;\n    for (var i = 0; i < script_attrs.length; i++) {\n      toinsert[toinsert.length - 1].childNodes[1].setAttribute(script_attrs[i].name, script_attrs[i].value);\n    }\n    // store reference to server id on output_area\n    output_area._bokeh_server_id = output.metadata[EXEC_MIME_TYPE][\"server_id\"];\n  }\n}\n\n/**\n * Handle when an output is cleared or removed\n */\nfunction handle_clear_output(event, handle) {\n  var id = handle.cell.output_area._hv_plot_id;\n  var server_id = handle.cell.output_area._bokeh_server_id;\n  if (((id === undefined) || !(id in PyViz.plot_index)) && (server_id !== undefined)) { return; }\n  var comm = window.PyViz.comm_manager.get_client_comm(\"hv-extension-comm\", \"hv-extension-comm\", function () {});\n  if (server_id !== null) {\n    comm.send({event_type: 'server_delete', 'id': server_id});\n    return;\n  } else if (comm !== null) {\n    comm.send({event_type: 'delete', 'id': id});\n  }\n  delete PyViz.plot_index[id];\n  if ((window.Bokeh !== undefined) & (id in window.Bokeh.index)) {\n    var doc = window.Bokeh.index[id].model.document\n    doc.clear();\n    const i = window.Bokeh.documents.indexOf(doc);\n    if (i > -1) {\n      window.Bokeh.documents.splice(i, 1);\n    }\n  }\n}\n\n/**\n * Handle kernel restart event\n */\nfunction handle_kernel_cleanup(event, handle) {\n  delete PyViz.comms[\"hv-extension-comm\"];\n  window.PyViz.plot_index = {}\n}\n\n/**\n * Handle update_display_data messages\n */\nfunction handle_update_output(event, handle) {\n  handle_clear_output(event, {cell: {output_area: handle.output_area}})\n  handle_add_output(event, handle)\n}\n\nfunction register_renderer(events, OutputArea) {\n  function append_mime(data, metadata, element) {\n    // create a DOM node to render to\n    var toinsert = this.create_output_subarea(\n    metadata,\n    CLASS_NAME,\n    EXEC_MIME_TYPE\n    );\n    this.keyboard_manager.register_events(toinsert);\n    // Render to node\n    var props = {data: data, metadata: metadata[EXEC_MIME_TYPE]};\n    render(props, toinsert[0]);\n    element.append(toinsert);\n    return toinsert\n  }\n\n  events.on('output_added.OutputArea', handle_add_output);\n  events.on('output_updated.OutputArea', handle_update_output);\n  events.on('clear_output.CodeCell', handle_clear_output);\n  events.on('delete.Cell', handle_clear_output);\n  events.on('kernel_ready.Kernel', handle_kernel_cleanup);\n\n  OutputArea.prototype.register_mime_type(EXEC_MIME_TYPE, append_mime, {\n    safe: true,\n    index: 0\n  });\n}\n\nif (window.Jupyter !== undefined) {\n  try {\n    var events = require('base/js/events');\n    var OutputArea = require('notebook/js/outputarea').OutputArea;\n    if (OutputArea.prototype.mime_types().indexOf(EXEC_MIME_TYPE) == -1) {\n      register_renderer(events, OutputArea);\n    }\n  } catch(err) {\n  }\n}\n",
      "application/vnd.holoviews_load.v0+json": ""
     },
     "metadata": {},
     "output_type": "display_data"
    },
    {
     "data": {
      "text/html": [
       "<style>*[data-root-id],\n",
       "*[data-root-id] > * {\n",
       "  box-sizing: border-box;\n",
       "  font-family: var(--jp-ui-font-family);\n",
       "  font-size: var(--jp-ui-font-size1);\n",
       "  color: var(--vscode-editor-foreground, var(--jp-ui-font-color1));\n",
       "}\n",
       "\n",
       "/* Override VSCode background color */\n",
       ".cell-output-ipywidget-background:has(\n",
       "    > .cell-output-ipywidget-background > .lm-Widget > *[data-root-id]\n",
       "  ),\n",
       ".cell-output-ipywidget-background:has(> .lm-Widget > *[data-root-id]) {\n",
       "  background-color: transparent !important;\n",
       "}\n",
       "</style>"
      ]
     },
     "metadata": {},
     "output_type": "display_data"
    }
   ],
   "source": [
    "import alpaca_trade_api as tradeapi\n",
    "from dotenv import load_dotenv\n",
    "import pandas as pd\n",
    "from datetime import date\n",
    "from CanaryFinancialCalculations import CanaryFinancialCalculations \n",
    "import cvxpy as cp\n",
    "import hvplot.pandas\n",
    "import warnings\n",
    "from bokeh.models import HoverTool"
   ]
  },
  {
   "cell_type": "code",
   "execution_count": 2,
   "metadata": {},
   "outputs": [],
   "source": [
    "warnings.filterwarnings('ignore')"
   ]
  },
  {
   "cell_type": "code",
   "execution_count": 3,
   "metadata": {},
   "outputs": [],
   "source": [
    "alpaca_api_key = 'PK306FA7SFOSMY9LBUZ4'\n",
    "alpaca_secret_key = 'oNujbWMi3ZLrZuVggRN1DnZBLs38EJO00cwyOgsE'\n",
    "base_url = 'https://paper-api.alpaca.markets'\n",
    "\n",
    "alpaca = tradeapi.REST(\n",
    "    alpaca_api_key,\n",
    "    alpaca_secret_key,\n",
    "    base_url,\n",
    "    api_version=\"v2\")\n",
    "\n",
    "tickers = [\"AZO\", \"NFLX\", \"AMD\", \"BKNG\"]\n",
    "benchmark= [\"SPY\"]\n",
    "timeframe = '1Day'\n",
    "initial_investment = 10000\n",
    "weights = [(1 / len(tickers))] * len(tickers)\n",
    "weights_spy = [1]\n",
    "\n",
    "start_date = pd.Timestamp(\"2018-01-01\", tz=\"America/New_York\").isoformat()\n",
    "end_date = pd.Timestamp(\"2023-01-01\", tz=\"America/New_York\").isoformat()\n",
    "\n",
    "portfolio_df = alpaca.get_bars(\n",
    "    tickers,\n",
    "    timeframe,\n",
    "    start=start_date,\n",
    "    end=end_date\n",
    ").df\n"
   ]
  },
  {
   "cell_type": "markdown",
   "metadata": {},
   "source": [
    "# User Portfolio"
   ]
  },
  {
   "cell_type": "code",
   "execution_count": 4,
   "metadata": {},
   "outputs": [
    {
     "data": {
      "text/html": [
       "<div>\n",
       "<style scoped>\n",
       "    .dataframe tbody tr th:only-of-type {\n",
       "        vertical-align: middle;\n",
       "    }\n",
       "\n",
       "    .dataframe tbody tr th {\n",
       "        vertical-align: top;\n",
       "    }\n",
       "\n",
       "    .dataframe thead th {\n",
       "        text-align: right;\n",
       "    }\n",
       "</style>\n",
       "<table border=\"1\" class=\"dataframe\">\n",
       "  <thead>\n",
       "    <tr style=\"text-align: right;\">\n",
       "      <th>symbol</th>\n",
       "      <th>AMD</th>\n",
       "      <th>AZO</th>\n",
       "      <th>BKNG</th>\n",
       "      <th>NFLX</th>\n",
       "    </tr>\n",
       "    <tr>\n",
       "      <th>timestamp</th>\n",
       "      <th></th>\n",
       "      <th></th>\n",
       "      <th></th>\n",
       "      <th></th>\n",
       "    </tr>\n",
       "  </thead>\n",
       "  <tbody>\n",
       "    <tr>\n",
       "      <th>2018-01-02 05:00:00+00:00</th>\n",
       "      <td>10.98</td>\n",
       "      <td>736.54</td>\n",
       "      <td>1784.75</td>\n",
       "      <td>201.070</td>\n",
       "    </tr>\n",
       "    <tr>\n",
       "      <th>2018-01-03 05:00:00+00:00</th>\n",
       "      <td>11.55</td>\n",
       "      <td>749.43</td>\n",
       "      <td>1824.16</td>\n",
       "      <td>205.050</td>\n",
       "    </tr>\n",
       "    <tr>\n",
       "      <th>2018-01-04 05:00:00+00:00</th>\n",
       "      <td>12.12</td>\n",
       "      <td>761.26</td>\n",
       "      <td>1807.25</td>\n",
       "      <td>205.630</td>\n",
       "    </tr>\n",
       "    <tr>\n",
       "      <th>2018-01-05 05:00:00+00:00</th>\n",
       "      <td>11.88</td>\n",
       "      <td>775.50</td>\n",
       "      <td>1823.54</td>\n",
       "      <td>209.990</td>\n",
       "    </tr>\n",
       "    <tr>\n",
       "      <th>2018-01-08 05:00:00+00:00</th>\n",
       "      <td>12.28</td>\n",
       "      <td>766.48</td>\n",
       "      <td>1851.81</td>\n",
       "      <td>212.050</td>\n",
       "    </tr>\n",
       "    <tr>\n",
       "      <th>...</th>\n",
       "      <td>...</td>\n",
       "      <td>...</td>\n",
       "      <td>...</td>\n",
       "      <td>...</td>\n",
       "    </tr>\n",
       "    <tr>\n",
       "      <th>2022-12-23 05:00:00+00:00</th>\n",
       "      <td>64.52</td>\n",
       "      <td>2430.65</td>\n",
       "      <td>1971.52</td>\n",
       "      <td>294.965</td>\n",
       "    </tr>\n",
       "    <tr>\n",
       "      <th>2022-12-27 05:00:00+00:00</th>\n",
       "      <td>63.27</td>\n",
       "      <td>2454.32</td>\n",
       "      <td>1998.27</td>\n",
       "      <td>284.170</td>\n",
       "    </tr>\n",
       "    <tr>\n",
       "      <th>2022-12-28 05:00:00+00:00</th>\n",
       "      <td>62.57</td>\n",
       "      <td>2461.63</td>\n",
       "      <td>1958.84</td>\n",
       "      <td>276.880</td>\n",
       "    </tr>\n",
       "    <tr>\n",
       "      <th>2022-12-29 05:00:00+00:00</th>\n",
       "      <td>64.82</td>\n",
       "      <td>2464.38</td>\n",
       "      <td>2003.51</td>\n",
       "      <td>291.120</td>\n",
       "    </tr>\n",
       "    <tr>\n",
       "      <th>2022-12-30 05:00:00+00:00</th>\n",
       "      <td>64.77</td>\n",
       "      <td>2466.18</td>\n",
       "      <td>2015.28</td>\n",
       "      <td>294.880</td>\n",
       "    </tr>\n",
       "  </tbody>\n",
       "</table>\n",
       "<p>1259 rows × 4 columns</p>\n",
       "</div>"
      ],
      "text/plain": [
       "symbol                       AMD      AZO     BKNG     NFLX\n",
       "timestamp                                                  \n",
       "2018-01-02 05:00:00+00:00  10.98   736.54  1784.75  201.070\n",
       "2018-01-03 05:00:00+00:00  11.55   749.43  1824.16  205.050\n",
       "2018-01-04 05:00:00+00:00  12.12   761.26  1807.25  205.630\n",
       "2018-01-05 05:00:00+00:00  11.88   775.50  1823.54  209.990\n",
       "2018-01-08 05:00:00+00:00  12.28   766.48  1851.81  212.050\n",
       "...                          ...      ...      ...      ...\n",
       "2022-12-23 05:00:00+00:00  64.52  2430.65  1971.52  294.965\n",
       "2022-12-27 05:00:00+00:00  63.27  2454.32  1998.27  284.170\n",
       "2022-12-28 05:00:00+00:00  62.57  2461.63  1958.84  276.880\n",
       "2022-12-29 05:00:00+00:00  64.82  2464.38  2003.51  291.120\n",
       "2022-12-30 05:00:00+00:00  64.77  2466.18  2015.28  294.880\n",
       "\n",
       "[1259 rows x 4 columns]"
      ]
     },
     "execution_count": 4,
     "metadata": {},
     "output_type": "execute_result"
    }
   ],
   "source": [
    "portfolio_df = portfolio_df.pivot(columns='symbol', values='close')\n",
    "portfolio_df"
   ]
  },
  {
   "cell_type": "code",
   "execution_count": 5,
   "metadata": {},
   "outputs": [
    {
     "data": {
      "text/html": [
       "<div>\n",
       "<style scoped>\n",
       "    .dataframe tbody tr th:only-of-type {\n",
       "        vertical-align: middle;\n",
       "    }\n",
       "\n",
       "    .dataframe tbody tr th {\n",
       "        vertical-align: top;\n",
       "    }\n",
       "\n",
       "    .dataframe thead th {\n",
       "        text-align: right;\n",
       "    }\n",
       "</style>\n",
       "<table border=\"1\" class=\"dataframe\">\n",
       "  <thead>\n",
       "    <tr style=\"text-align: right;\">\n",
       "      <th></th>\n",
       "      <th>Portfolio</th>\n",
       "    </tr>\n",
       "    <tr>\n",
       "      <th>Date</th>\n",
       "      <th></th>\n",
       "    </tr>\n",
       "  </thead>\n",
       "  <tbody>\n",
       "    <tr>\n",
       "      <th>2018-01-02</th>\n",
       "      <td>683.33500</td>\n",
       "    </tr>\n",
       "    <tr>\n",
       "      <th>2018-01-03</th>\n",
       "      <td>697.54750</td>\n",
       "    </tr>\n",
       "    <tr>\n",
       "      <th>2018-01-04</th>\n",
       "      <td>696.56500</td>\n",
       "    </tr>\n",
       "    <tr>\n",
       "      <th>2018-01-05</th>\n",
       "      <td>705.22750</td>\n",
       "    </tr>\n",
       "    <tr>\n",
       "      <th>2018-01-08</th>\n",
       "      <td>710.65500</td>\n",
       "    </tr>\n",
       "    <tr>\n",
       "      <th>...</th>\n",
       "      <td>...</td>\n",
       "    </tr>\n",
       "    <tr>\n",
       "      <th>2022-12-23</th>\n",
       "      <td>1190.41375</td>\n",
       "    </tr>\n",
       "    <tr>\n",
       "      <th>2022-12-27</th>\n",
       "      <td>1200.00750</td>\n",
       "    </tr>\n",
       "    <tr>\n",
       "      <th>2022-12-28</th>\n",
       "      <td>1189.98000</td>\n",
       "    </tr>\n",
       "    <tr>\n",
       "      <th>2022-12-29</th>\n",
       "      <td>1205.95750</td>\n",
       "    </tr>\n",
       "    <tr>\n",
       "      <th>2022-12-30</th>\n",
       "      <td>1210.27750</td>\n",
       "    </tr>\n",
       "  </tbody>\n",
       "</table>\n",
       "<p>1259 rows × 1 columns</p>\n",
       "</div>"
      ],
      "text/plain": [
       "             Portfolio\n",
       "Date                  \n",
       "2018-01-02   683.33500\n",
       "2018-01-03   697.54750\n",
       "2018-01-04   696.56500\n",
       "2018-01-05   705.22750\n",
       "2018-01-08   710.65500\n",
       "...                ...\n",
       "2022-12-23  1190.41375\n",
       "2022-12-27  1200.00750\n",
       "2022-12-28  1189.98000\n",
       "2022-12-29  1205.95750\n",
       "2022-12-30  1210.27750\n",
       "\n",
       "[1259 rows x 1 columns]"
      ]
     },
     "execution_count": 5,
     "metadata": {},
     "output_type": "execute_result"
    }
   ],
   "source": [
    "portfolio_added = portfolio_df\n",
    "portfolio_added = portfolio_added.dot(weights)\n",
    "portfolio_added_df = pd.DataFrame(portfolio_added)\n",
    "portfolio_added_df.columns = ['Portfolio']\n",
    "portfolio_added_df.index = portfolio_added_df.index.date\n",
    "portfolio_added_df.index.name='Date'\n",
    "portfolio_added_df"
   ]
  },
  {
   "cell_type": "code",
   "execution_count": 6,
   "metadata": {},
   "outputs": [
    {
     "data": {
      "text/html": [
       "<div>\n",
       "<style scoped>\n",
       "    .dataframe tbody tr th:only-of-type {\n",
       "        vertical-align: middle;\n",
       "    }\n",
       "\n",
       "    .dataframe tbody tr th {\n",
       "        vertical-align: top;\n",
       "    }\n",
       "\n",
       "    .dataframe thead th {\n",
       "        text-align: right;\n",
       "    }\n",
       "</style>\n",
       "<table border=\"1\" class=\"dataframe\">\n",
       "  <thead>\n",
       "    <tr style=\"text-align: right;\">\n",
       "      <th>symbol</th>\n",
       "      <th>AMD</th>\n",
       "      <th>AZO</th>\n",
       "      <th>BKNG</th>\n",
       "      <th>NFLX</th>\n",
       "    </tr>\n",
       "    <tr>\n",
       "      <th>Date</th>\n",
       "      <th></th>\n",
       "      <th></th>\n",
       "      <th></th>\n",
       "      <th></th>\n",
       "    </tr>\n",
       "  </thead>\n",
       "  <tbody>\n",
       "    <tr>\n",
       "      <th>2018-01-03</th>\n",
       "      <td>0.051913</td>\n",
       "      <td>0.017501</td>\n",
       "      <td>0.022082</td>\n",
       "      <td>0.019794</td>\n",
       "    </tr>\n",
       "    <tr>\n",
       "      <th>2018-01-04</th>\n",
       "      <td>0.049351</td>\n",
       "      <td>0.015785</td>\n",
       "      <td>-0.009270</td>\n",
       "      <td>0.002829</td>\n",
       "    </tr>\n",
       "    <tr>\n",
       "      <th>2018-01-05</th>\n",
       "      <td>-0.019802</td>\n",
       "      <td>0.018706</td>\n",
       "      <td>0.009014</td>\n",
       "      <td>0.021203</td>\n",
       "    </tr>\n",
       "    <tr>\n",
       "      <th>2018-01-08</th>\n",
       "      <td>0.033670</td>\n",
       "      <td>-0.011631</td>\n",
       "      <td>0.015503</td>\n",
       "      <td>0.009810</td>\n",
       "    </tr>\n",
       "    <tr>\n",
       "      <th>2018-01-09</th>\n",
       "      <td>-0.037459</td>\n",
       "      <td>0.005832</td>\n",
       "      <td>0.007279</td>\n",
       "      <td>-0.012921</td>\n",
       "    </tr>\n",
       "    <tr>\n",
       "      <th>...</th>\n",
       "      <td>...</td>\n",
       "      <td>...</td>\n",
       "      <td>...</td>\n",
       "      <td>...</td>\n",
       "    </tr>\n",
       "    <tr>\n",
       "      <th>2022-12-23</th>\n",
       "      <td>0.010335</td>\n",
       "      <td>0.011145</td>\n",
       "      <td>0.019933</td>\n",
       "      <td>-0.009353</td>\n",
       "    </tr>\n",
       "    <tr>\n",
       "      <th>2022-12-27</th>\n",
       "      <td>-0.019374</td>\n",
       "      <td>0.009738</td>\n",
       "      <td>0.013568</td>\n",
       "      <td>-0.036598</td>\n",
       "    </tr>\n",
       "    <tr>\n",
       "      <th>2022-12-28</th>\n",
       "      <td>-0.011064</td>\n",
       "      <td>0.002978</td>\n",
       "      <td>-0.019732</td>\n",
       "      <td>-0.025654</td>\n",
       "    </tr>\n",
       "    <tr>\n",
       "      <th>2022-12-29</th>\n",
       "      <td>0.035960</td>\n",
       "      <td>0.001117</td>\n",
       "      <td>0.022804</td>\n",
       "      <td>0.051430</td>\n",
       "    </tr>\n",
       "    <tr>\n",
       "      <th>2022-12-30</th>\n",
       "      <td>-0.000771</td>\n",
       "      <td>0.000730</td>\n",
       "      <td>0.005875</td>\n",
       "      <td>0.012916</td>\n",
       "    </tr>\n",
       "  </tbody>\n",
       "</table>\n",
       "<p>1258 rows × 4 columns</p>\n",
       "</div>"
      ],
      "text/plain": [
       "symbol           AMD       AZO      BKNG      NFLX\n",
       "Date                                              \n",
       "2018-01-03  0.051913  0.017501  0.022082  0.019794\n",
       "2018-01-04  0.049351  0.015785 -0.009270  0.002829\n",
       "2018-01-05 -0.019802  0.018706  0.009014  0.021203\n",
       "2018-01-08  0.033670 -0.011631  0.015503  0.009810\n",
       "2018-01-09 -0.037459  0.005832  0.007279 -0.012921\n",
       "...              ...       ...       ...       ...\n",
       "2022-12-23  0.010335  0.011145  0.019933 -0.009353\n",
       "2022-12-27 -0.019374  0.009738  0.013568 -0.036598\n",
       "2022-12-28 -0.011064  0.002978 -0.019732 -0.025654\n",
       "2022-12-29  0.035960  0.001117  0.022804  0.051430\n",
       "2022-12-30 -0.000771  0.000730  0.005875  0.012916\n",
       "\n",
       "[1258 rows x 4 columns]"
      ]
     },
     "execution_count": 6,
     "metadata": {},
     "output_type": "execute_result"
    }
   ],
   "source": [
    "\n",
    "portfolio_df_pct = portfolio_df.pct_change()\n",
    "portfolio_df_pct.index = portfolio_df_pct.index.date\n",
    "portfolio_df_pct = portfolio_df_pct.dropna()\n",
    "portfolio_df_pct.index.name='Date'\n",
    "portfolio_df_pct"
   ]
  },
  {
   "cell_type": "code",
   "execution_count": 7,
   "metadata": {},
   "outputs": [
    {
     "data": {
      "text/html": [
       "<div>\n",
       "<style scoped>\n",
       "    .dataframe tbody tr th:only-of-type {\n",
       "        vertical-align: middle;\n",
       "    }\n",
       "\n",
       "    .dataframe tbody tr th {\n",
       "        vertical-align: top;\n",
       "    }\n",
       "\n",
       "    .dataframe thead th {\n",
       "        text-align: right;\n",
       "    }\n",
       "</style>\n",
       "<table border=\"1\" class=\"dataframe\">\n",
       "  <thead>\n",
       "    <tr style=\"text-align: right;\">\n",
       "      <th></th>\n",
       "      <th>Portfolio</th>\n",
       "    </tr>\n",
       "    <tr>\n",
       "      <th>Date</th>\n",
       "      <th></th>\n",
       "    </tr>\n",
       "  </thead>\n",
       "  <tbody>\n",
       "    <tr>\n",
       "      <th>2018-01-03</th>\n",
       "      <td>0.027822</td>\n",
       "    </tr>\n",
       "    <tr>\n",
       "      <th>2018-01-04</th>\n",
       "      <td>0.014674</td>\n",
       "    </tr>\n",
       "    <tr>\n",
       "      <th>2018-01-05</th>\n",
       "      <td>0.007280</td>\n",
       "    </tr>\n",
       "    <tr>\n",
       "      <th>2018-01-08</th>\n",
       "      <td>0.011838</td>\n",
       "    </tr>\n",
       "    <tr>\n",
       "      <th>2018-01-09</th>\n",
       "      <td>-0.009317</td>\n",
       "    </tr>\n",
       "    <tr>\n",
       "      <th>...</th>\n",
       "      <td>...</td>\n",
       "    </tr>\n",
       "    <tr>\n",
       "      <th>2022-12-23</th>\n",
       "      <td>0.008015</td>\n",
       "    </tr>\n",
       "    <tr>\n",
       "      <th>2022-12-27</th>\n",
       "      <td>-0.008166</td>\n",
       "    </tr>\n",
       "    <tr>\n",
       "      <th>2022-12-28</th>\n",
       "      <td>-0.013368</td>\n",
       "    </tr>\n",
       "    <tr>\n",
       "      <th>2022-12-29</th>\n",
       "      <td>0.027828</td>\n",
       "    </tr>\n",
       "    <tr>\n",
       "      <th>2022-12-30</th>\n",
       "      <td>0.004687</td>\n",
       "    </tr>\n",
       "  </tbody>\n",
       "</table>\n",
       "<p>1258 rows × 1 columns</p>\n",
       "</div>"
      ],
      "text/plain": [
       "            Portfolio\n",
       "Date                 \n",
       "2018-01-03   0.027822\n",
       "2018-01-04   0.014674\n",
       "2018-01-05   0.007280\n",
       "2018-01-08   0.011838\n",
       "2018-01-09  -0.009317\n",
       "...               ...\n",
       "2022-12-23   0.008015\n",
       "2022-12-27  -0.008166\n",
       "2022-12-28  -0.013368\n",
       "2022-12-29   0.027828\n",
       "2022-12-30   0.004687\n",
       "\n",
       "[1258 rows x 1 columns]"
      ]
     },
     "execution_count": 7,
     "metadata": {},
     "output_type": "execute_result"
    }
   ],
   "source": [
    "user_returns = portfolio_df_pct.dot(weights)\n",
    "user_returns_df = pd.DataFrame(user_returns)\n",
    "user_returns_df.columns = ['Portfolio']\n",
    "user_returns_df"
   ]
  },
  {
   "cell_type": "markdown",
   "metadata": {},
   "source": [
    "# Benchmark Dataframe"
   ]
  },
  {
   "cell_type": "code",
   "execution_count": 8,
   "metadata": {},
   "outputs": [],
   "source": [
    "benchmark_df = alpaca.get_bars(\n",
    "    benchmark,\n",
    "    timeframe,\n",
    "    start=start_date,\n",
    "    end=end_date\n",
    ").df\n"
   ]
  },
  {
   "cell_type": "code",
   "execution_count": 9,
   "metadata": {},
   "outputs": [
    {
     "data": {
      "text/html": [
       "<div>\n",
       "<style scoped>\n",
       "    .dataframe tbody tr th:only-of-type {\n",
       "        vertical-align: middle;\n",
       "    }\n",
       "\n",
       "    .dataframe tbody tr th {\n",
       "        vertical-align: top;\n",
       "    }\n",
       "\n",
       "    .dataframe thead th {\n",
       "        text-align: right;\n",
       "    }\n",
       "</style>\n",
       "<table border=\"1\" class=\"dataframe\">\n",
       "  <thead>\n",
       "    <tr style=\"text-align: right;\">\n",
       "      <th>symbol</th>\n",
       "      <th>SPY</th>\n",
       "    </tr>\n",
       "    <tr>\n",
       "      <th>Date</th>\n",
       "      <th></th>\n",
       "    </tr>\n",
       "  </thead>\n",
       "  <tbody>\n",
       "    <tr>\n",
       "      <th>2018-01-03</th>\n",
       "      <td>0.006325</td>\n",
       "    </tr>\n",
       "    <tr>\n",
       "      <th>2018-01-04</th>\n",
       "      <td>0.004067</td>\n",
       "    </tr>\n",
       "    <tr>\n",
       "      <th>2018-01-05</th>\n",
       "      <td>0.006739</td>\n",
       "    </tr>\n",
       "    <tr>\n",
       "      <th>2018-01-08</th>\n",
       "      <td>0.001865</td>\n",
       "    </tr>\n",
       "    <tr>\n",
       "      <th>2018-01-09</th>\n",
       "      <td>0.002264</td>\n",
       "    </tr>\n",
       "    <tr>\n",
       "      <th>...</th>\n",
       "      <td>...</td>\n",
       "    </tr>\n",
       "    <tr>\n",
       "      <th>2022-12-23</th>\n",
       "      <td>0.005752</td>\n",
       "    </tr>\n",
       "    <tr>\n",
       "      <th>2022-12-27</th>\n",
       "      <td>-0.003943</td>\n",
       "    </tr>\n",
       "    <tr>\n",
       "      <th>2022-12-28</th>\n",
       "      <td>-0.012428</td>\n",
       "    </tr>\n",
       "    <tr>\n",
       "      <th>2022-12-29</th>\n",
       "      <td>0.018000</td>\n",
       "    </tr>\n",
       "    <tr>\n",
       "      <th>2022-12-30</th>\n",
       "      <td>-0.002634</td>\n",
       "    </tr>\n",
       "  </tbody>\n",
       "</table>\n",
       "<p>1258 rows × 1 columns</p>\n",
       "</div>"
      ],
      "text/plain": [
       "symbol           SPY\n",
       "Date                \n",
       "2018-01-03  0.006325\n",
       "2018-01-04  0.004067\n",
       "2018-01-05  0.006739\n",
       "2018-01-08  0.001865\n",
       "2018-01-09  0.002264\n",
       "...              ...\n",
       "2022-12-23  0.005752\n",
       "2022-12-27 -0.003943\n",
       "2022-12-28 -0.012428\n",
       "2022-12-29  0.018000\n",
       "2022-12-30 -0.002634\n",
       "\n",
       "[1258 rows x 1 columns]"
      ]
     },
     "execution_count": 9,
     "metadata": {},
     "output_type": "execute_result"
    }
   ],
   "source": [
    "benchmark_df = benchmark_df.pivot(columns='symbol', values='close')\n",
    "benchmark_df_pct = benchmark_df.pct_change()\n",
    "benchmark_df_pct.index = benchmark_df_pct.index.date\n",
    "benchmark_df_pct = benchmark_df_pct.dropna()\n",
    "benchmark_df_pct.index.name='Date'\n",
    "benchmark_df_pct"
   ]
  },
  {
   "cell_type": "code",
   "execution_count": 10,
   "metadata": {},
   "outputs": [
    {
     "data": {
      "text/html": [
       "<div>\n",
       "<style scoped>\n",
       "    .dataframe tbody tr th:only-of-type {\n",
       "        vertical-align: middle;\n",
       "    }\n",
       "\n",
       "    .dataframe tbody tr th {\n",
       "        vertical-align: top;\n",
       "    }\n",
       "\n",
       "    .dataframe thead th {\n",
       "        text-align: right;\n",
       "    }\n",
       "</style>\n",
       "<table border=\"1\" class=\"dataframe\">\n",
       "  <thead>\n",
       "    <tr style=\"text-align: right;\">\n",
       "      <th>symbol</th>\n",
       "      <th>SPY</th>\n",
       "    </tr>\n",
       "    <tr>\n",
       "      <th>Date</th>\n",
       "      <th></th>\n",
       "    </tr>\n",
       "  </thead>\n",
       "  <tbody>\n",
       "    <tr>\n",
       "      <th>2018-01-02</th>\n",
       "      <td>268.77</td>\n",
       "    </tr>\n",
       "    <tr>\n",
       "      <th>2018-01-03</th>\n",
       "      <td>270.47</td>\n",
       "    </tr>\n",
       "    <tr>\n",
       "      <th>2018-01-04</th>\n",
       "      <td>271.57</td>\n",
       "    </tr>\n",
       "    <tr>\n",
       "      <th>2018-01-05</th>\n",
       "      <td>273.40</td>\n",
       "    </tr>\n",
       "    <tr>\n",
       "      <th>2018-01-08</th>\n",
       "      <td>273.91</td>\n",
       "    </tr>\n",
       "    <tr>\n",
       "      <th>...</th>\n",
       "      <td>...</td>\n",
       "    </tr>\n",
       "    <tr>\n",
       "      <th>2022-12-23</th>\n",
       "      <td>382.91</td>\n",
       "    </tr>\n",
       "    <tr>\n",
       "      <th>2022-12-27</th>\n",
       "      <td>381.40</td>\n",
       "    </tr>\n",
       "    <tr>\n",
       "      <th>2022-12-28</th>\n",
       "      <td>376.66</td>\n",
       "    </tr>\n",
       "    <tr>\n",
       "      <th>2022-12-29</th>\n",
       "      <td>383.44</td>\n",
       "    </tr>\n",
       "    <tr>\n",
       "      <th>2022-12-30</th>\n",
       "      <td>382.43</td>\n",
       "    </tr>\n",
       "  </tbody>\n",
       "</table>\n",
       "<p>1259 rows × 1 columns</p>\n",
       "</div>"
      ],
      "text/plain": [
       "symbol         SPY\n",
       "Date              \n",
       "2018-01-02  268.77\n",
       "2018-01-03  270.47\n",
       "2018-01-04  271.57\n",
       "2018-01-05  273.40\n",
       "2018-01-08  273.91\n",
       "...            ...\n",
       "2022-12-23  382.91\n",
       "2022-12-27  381.40\n",
       "2022-12-28  376.66\n",
       "2022-12-29  383.44\n",
       "2022-12-30  382.43\n",
       "\n",
       "[1259 rows x 1 columns]"
      ]
     },
     "execution_count": 10,
     "metadata": {},
     "output_type": "execute_result"
    }
   ],
   "source": [
    "benchmark_df.index = benchmark_df.index.date\n",
    "benchmark_df.index.name='Date'\n",
    "benchmark_df"
   ]
  },
  {
   "cell_type": "markdown",
   "metadata": {},
   "source": [
    "# Combining Portfolio and SPY"
   ]
  },
  {
   "cell_type": "code",
   "execution_count": 11,
   "metadata": {},
   "outputs": [
    {
     "data": {
      "text/html": [
       "<div>\n",
       "<style scoped>\n",
       "    .dataframe tbody tr th:only-of-type {\n",
       "        vertical-align: middle;\n",
       "    }\n",
       "\n",
       "    .dataframe tbody tr th {\n",
       "        vertical-align: top;\n",
       "    }\n",
       "\n",
       "    .dataframe thead th {\n",
       "        text-align: right;\n",
       "    }\n",
       "</style>\n",
       "<table border=\"1\" class=\"dataframe\">\n",
       "  <thead>\n",
       "    <tr style=\"text-align: right;\">\n",
       "      <th></th>\n",
       "      <th>Portfolio</th>\n",
       "      <th>SPY</th>\n",
       "    </tr>\n",
       "    <tr>\n",
       "      <th>Date</th>\n",
       "      <th></th>\n",
       "      <th></th>\n",
       "    </tr>\n",
       "  </thead>\n",
       "  <tbody>\n",
       "    <tr>\n",
       "      <th>2018-01-03</th>\n",
       "      <td>0.027822</td>\n",
       "      <td>0.006325</td>\n",
       "    </tr>\n",
       "    <tr>\n",
       "      <th>2018-01-04</th>\n",
       "      <td>0.014674</td>\n",
       "      <td>0.004067</td>\n",
       "    </tr>\n",
       "    <tr>\n",
       "      <th>2018-01-05</th>\n",
       "      <td>0.007280</td>\n",
       "      <td>0.006739</td>\n",
       "    </tr>\n",
       "    <tr>\n",
       "      <th>2018-01-08</th>\n",
       "      <td>0.011838</td>\n",
       "      <td>0.001865</td>\n",
       "    </tr>\n",
       "    <tr>\n",
       "      <th>2018-01-09</th>\n",
       "      <td>-0.009317</td>\n",
       "      <td>0.002264</td>\n",
       "    </tr>\n",
       "    <tr>\n",
       "      <th>...</th>\n",
       "      <td>...</td>\n",
       "      <td>...</td>\n",
       "    </tr>\n",
       "    <tr>\n",
       "      <th>2022-12-23</th>\n",
       "      <td>0.008015</td>\n",
       "      <td>0.005752</td>\n",
       "    </tr>\n",
       "    <tr>\n",
       "      <th>2022-12-27</th>\n",
       "      <td>-0.008166</td>\n",
       "      <td>-0.003943</td>\n",
       "    </tr>\n",
       "    <tr>\n",
       "      <th>2022-12-28</th>\n",
       "      <td>-0.013368</td>\n",
       "      <td>-0.012428</td>\n",
       "    </tr>\n",
       "    <tr>\n",
       "      <th>2022-12-29</th>\n",
       "      <td>0.027828</td>\n",
       "      <td>0.018000</td>\n",
       "    </tr>\n",
       "    <tr>\n",
       "      <th>2022-12-30</th>\n",
       "      <td>0.004687</td>\n",
       "      <td>-0.002634</td>\n",
       "    </tr>\n",
       "  </tbody>\n",
       "</table>\n",
       "<p>1258 rows × 2 columns</p>\n",
       "</div>"
      ],
      "text/plain": [
       "            Portfolio       SPY\n",
       "Date                           \n",
       "2018-01-03   0.027822  0.006325\n",
       "2018-01-04   0.014674  0.004067\n",
       "2018-01-05   0.007280  0.006739\n",
       "2018-01-08   0.011838  0.001865\n",
       "2018-01-09  -0.009317  0.002264\n",
       "...               ...       ...\n",
       "2022-12-23   0.008015  0.005752\n",
       "2022-12-27  -0.008166 -0.003943\n",
       "2022-12-28  -0.013368 -0.012428\n",
       "2022-12-29   0.027828  0.018000\n",
       "2022-12-30   0.004687 -0.002634\n",
       "\n",
       "[1258 rows x 2 columns]"
      ]
     },
     "execution_count": 11,
     "metadata": {},
     "output_type": "execute_result"
    }
   ],
   "source": [
    "comparing_portfolios = pd.concat([user_returns_df, benchmark_df_pct], axis=1, join='inner')\n",
    "comparing_portfolios"
   ]
  },
  {
   "cell_type": "markdown",
   "metadata": {},
   "source": [
    "# Cumulative Returns"
   ]
  },
  {
   "cell_type": "code",
   "execution_count": 12,
   "metadata": {},
   "outputs": [
    {
     "data": {
      "text/html": [
       "<div>\n",
       "<style scoped>\n",
       "    .dataframe tbody tr th:only-of-type {\n",
       "        vertical-align: middle;\n",
       "    }\n",
       "\n",
       "    .dataframe tbody tr th {\n",
       "        vertical-align: top;\n",
       "    }\n",
       "\n",
       "    .dataframe thead th {\n",
       "        text-align: right;\n",
       "    }\n",
       "</style>\n",
       "<table border=\"1\" class=\"dataframe\">\n",
       "  <thead>\n",
       "    <tr style=\"text-align: right;\">\n",
       "      <th></th>\n",
       "      <th>Profit</th>\n",
       "    </tr>\n",
       "    <tr>\n",
       "      <th>Date</th>\n",
       "      <th></th>\n",
       "    </tr>\n",
       "  </thead>\n",
       "  <tbody>\n",
       "    <tr>\n",
       "      <th>2018-01-03</th>\n",
       "      <td>10278.222352</td>\n",
       "    </tr>\n",
       "    <tr>\n",
       "      <th>2018-01-04</th>\n",
       "      <td>10429.041229</td>\n",
       "    </tr>\n",
       "    <tr>\n",
       "      <th>2018-01-05</th>\n",
       "      <td>10504.966412</td>\n",
       "    </tr>\n",
       "    <tr>\n",
       "      <th>2018-01-08</th>\n",
       "      <td>10629.323239</td>\n",
       "    </tr>\n",
       "    <tr>\n",
       "      <th>2018-01-09</th>\n",
       "      <td>10530.285729</td>\n",
       "    </tr>\n",
       "    <tr>\n",
       "      <th>...</th>\n",
       "      <td>...</td>\n",
       "    </tr>\n",
       "    <tr>\n",
       "      <th>2022-12-23</th>\n",
       "      <td>30434.741712</td>\n",
       "    </tr>\n",
       "    <tr>\n",
       "      <th>2022-12-27</th>\n",
       "      <td>30186.203601</td>\n",
       "    </tr>\n",
       "    <tr>\n",
       "      <th>2022-12-28</th>\n",
       "      <td>29782.681979</td>\n",
       "    </tr>\n",
       "    <tr>\n",
       "      <th>2022-12-29</th>\n",
       "      <td>30611.470033</td>\n",
       "    </tr>\n",
       "    <tr>\n",
       "      <th>2022-12-30</th>\n",
       "      <td>30754.956447</td>\n",
       "    </tr>\n",
       "  </tbody>\n",
       "</table>\n",
       "<p>1258 rows × 1 columns</p>\n",
       "</div>"
      ],
      "text/plain": [
       "                  Profit\n",
       "Date                    \n",
       "2018-01-03  10278.222352\n",
       "2018-01-04  10429.041229\n",
       "2018-01-05  10504.966412\n",
       "2018-01-08  10629.323239\n",
       "2018-01-09  10530.285729\n",
       "...                  ...\n",
       "2022-12-23  30434.741712\n",
       "2022-12-27  30186.203601\n",
       "2022-12-28  29782.681979\n",
       "2022-12-29  30611.470033\n",
       "2022-12-30  30754.956447\n",
       "\n",
       "[1258 rows x 1 columns]"
      ]
     },
     "execution_count": 12,
     "metadata": {},
     "output_type": "execute_result"
    }
   ],
   "source": [
    "user_cumulative_returns = CanaryFinancialCalculations.cumulative_returns(user_returns_df, initial_investment)\n",
    "user_cumulative_returns"
   ]
  },
  {
   "cell_type": "code",
   "execution_count": 13,
   "metadata": {},
   "outputs": [
    {
     "data": {
      "text/html": [
       "<div>\n",
       "<style scoped>\n",
       "    .dataframe tbody tr th:only-of-type {\n",
       "        vertical-align: middle;\n",
       "    }\n",
       "\n",
       "    .dataframe tbody tr th {\n",
       "        vertical-align: top;\n",
       "    }\n",
       "\n",
       "    .dataframe thead th {\n",
       "        text-align: right;\n",
       "    }\n",
       "</style>\n",
       "<table border=\"1\" class=\"dataframe\">\n",
       "  <thead>\n",
       "    <tr style=\"text-align: right;\">\n",
       "      <th></th>\n",
       "      <th>Profit</th>\n",
       "    </tr>\n",
       "    <tr>\n",
       "      <th>Date</th>\n",
       "      <th></th>\n",
       "    </tr>\n",
       "  </thead>\n",
       "  <tbody>\n",
       "    <tr>\n",
       "      <th>2018-01-03</th>\n",
       "      <td>10063.251107</td>\n",
       "    </tr>\n",
       "    <tr>\n",
       "      <th>2018-01-04</th>\n",
       "      <td>10104.178294</td>\n",
       "    </tr>\n",
       "    <tr>\n",
       "      <th>2018-01-05</th>\n",
       "      <td>10172.266250</td>\n",
       "    </tr>\n",
       "    <tr>\n",
       "      <th>2018-01-08</th>\n",
       "      <td>10191.241582</td>\n",
       "    </tr>\n",
       "    <tr>\n",
       "      <th>2018-01-09</th>\n",
       "      <td>10214.309633</td>\n",
       "    </tr>\n",
       "    <tr>\n",
       "      <th>...</th>\n",
       "      <td>...</td>\n",
       "    </tr>\n",
       "    <tr>\n",
       "      <th>2022-12-23</th>\n",
       "      <td>14246.753730</td>\n",
       "    </tr>\n",
       "    <tr>\n",
       "      <th>2022-12-27</th>\n",
       "      <td>14190.571864</td>\n",
       "    </tr>\n",
       "    <tr>\n",
       "      <th>2022-12-28</th>\n",
       "      <td>14014.212896</td>\n",
       "    </tr>\n",
       "    <tr>\n",
       "      <th>2022-12-29</th>\n",
       "      <td>14266.473193</td>\n",
       "    </tr>\n",
       "    <tr>\n",
       "      <th>2022-12-30</th>\n",
       "      <td>14228.894594</td>\n",
       "    </tr>\n",
       "  </tbody>\n",
       "</table>\n",
       "<p>1258 rows × 1 columns</p>\n",
       "</div>"
      ],
      "text/plain": [
       "                  Profit\n",
       "Date                    \n",
       "2018-01-03  10063.251107\n",
       "2018-01-04  10104.178294\n",
       "2018-01-05  10172.266250\n",
       "2018-01-08  10191.241582\n",
       "2018-01-09  10214.309633\n",
       "...                  ...\n",
       "2022-12-23  14246.753730\n",
       "2022-12-27  14190.571864\n",
       "2022-12-28  14014.212896\n",
       "2022-12-29  14266.473193\n",
       "2022-12-30  14228.894594\n",
       "\n",
       "[1258 rows x 1 columns]"
      ]
     },
     "execution_count": 13,
     "metadata": {},
     "output_type": "execute_result"
    }
   ],
   "source": [
    "benchmark_returns = CanaryFinancialCalculations.cumulative_returns(benchmark_df_pct, initial_investment)\n",
    "benchmark_returns"
   ]
  },
  {
   "cell_type": "markdown",
   "metadata": {},
   "source": [
    "# Covariance"
   ]
  },
  {
   "cell_type": "code",
   "execution_count": 14,
   "metadata": {},
   "outputs": [
    {
     "data": {
      "text/plain": [
       "Date\n",
       "2018-01-03         NaN\n",
       "2018-01-04         NaN\n",
       "2018-01-05         NaN\n",
       "2018-01-08         NaN\n",
       "2018-01-09         NaN\n",
       "                ...   \n",
       "2022-12-23    0.000219\n",
       "2022-12-27    0.000220\n",
       "2022-12-28    0.000219\n",
       "2022-12-29    0.000248\n",
       "2022-12-30    0.000166\n",
       "Length: 1258, dtype: float64"
      ]
     },
     "execution_count": 14,
     "metadata": {},
     "output_type": "execute_result"
    }
   ],
   "source": [
    "user_covariance = CanaryFinancialCalculations.covariance(comparing_portfolios, \"Portfolio\", \"SPY\")\n",
    "user_covariance"
   ]
  },
  {
   "cell_type": "markdown",
   "metadata": {},
   "source": [
    "# Variance"
   ]
  },
  {
   "cell_type": "code",
   "execution_count": 15,
   "metadata": {},
   "outputs": [
    {
     "data": {
      "text/plain": [
       "Date\n",
       "2018-01-03         NaN\n",
       "2018-01-04         NaN\n",
       "2018-01-05         NaN\n",
       "2018-01-08         NaN\n",
       "2018-01-09         NaN\n",
       "                ...   \n",
       "2022-12-23    0.000175\n",
       "2022-12-27    0.000175\n",
       "2022-12-28    0.000171\n",
       "2022-12-29    0.000190\n",
       "2022-12-30    0.000134\n",
       "Name: SPY, Length: 1258, dtype: float64"
      ]
     },
     "execution_count": 15,
     "metadata": {},
     "output_type": "execute_result"
    }
   ],
   "source": [
    "user_variance = CanaryFinancialCalculations.variance(comparing_portfolios, \"SPY\")\n",
    "user_variance"
   ]
  },
  {
   "cell_type": "markdown",
   "metadata": {},
   "source": [
    "# Beta"
   ]
  },
  {
   "cell_type": "code",
   "execution_count": 16,
   "metadata": {},
   "outputs": [
    {
     "data": {
      "text/html": [
       "<div>\n",
       "<style scoped>\n",
       "    .dataframe tbody tr th:only-of-type {\n",
       "        vertical-align: middle;\n",
       "    }\n",
       "\n",
       "    .dataframe tbody tr th {\n",
       "        vertical-align: top;\n",
       "    }\n",
       "\n",
       "    .dataframe thead th {\n",
       "        text-align: right;\n",
       "    }\n",
       "</style>\n",
       "<table border=\"1\" class=\"dataframe\">\n",
       "  <thead>\n",
       "    <tr style=\"text-align: right;\">\n",
       "      <th></th>\n",
       "      <th>Beta</th>\n",
       "    </tr>\n",
       "    <tr>\n",
       "      <th>Date</th>\n",
       "      <th></th>\n",
       "    </tr>\n",
       "  </thead>\n",
       "  <tbody>\n",
       "    <tr>\n",
       "      <th>2018-02-01</th>\n",
       "      <td>1.183638</td>\n",
       "    </tr>\n",
       "    <tr>\n",
       "      <th>2018-02-02</th>\n",
       "      <td>1.139588</td>\n",
       "    </tr>\n",
       "    <tr>\n",
       "      <th>2018-02-05</th>\n",
       "      <td>1.086309</td>\n",
       "    </tr>\n",
       "    <tr>\n",
       "      <th>2018-02-06</th>\n",
       "      <td>1.083101</td>\n",
       "    </tr>\n",
       "    <tr>\n",
       "      <th>2018-02-07</th>\n",
       "      <td>1.079957</td>\n",
       "    </tr>\n",
       "    <tr>\n",
       "      <th>...</th>\n",
       "      <td>...</td>\n",
       "    </tr>\n",
       "    <tr>\n",
       "      <th>2022-12-23</th>\n",
       "      <td>1.252632</td>\n",
       "    </tr>\n",
       "    <tr>\n",
       "      <th>2022-12-27</th>\n",
       "      <td>1.256542</td>\n",
       "    </tr>\n",
       "    <tr>\n",
       "      <th>2022-12-28</th>\n",
       "      <td>1.281794</td>\n",
       "    </tr>\n",
       "    <tr>\n",
       "      <th>2022-12-29</th>\n",
       "      <td>1.303438</td>\n",
       "    </tr>\n",
       "    <tr>\n",
       "      <th>2022-12-30</th>\n",
       "      <td>1.243895</td>\n",
       "    </tr>\n",
       "  </tbody>\n",
       "</table>\n",
       "<p>1238 rows × 1 columns</p>\n",
       "</div>"
      ],
      "text/plain": [
       "                Beta\n",
       "Date                \n",
       "2018-02-01  1.183638\n",
       "2018-02-02  1.139588\n",
       "2018-02-05  1.086309\n",
       "2018-02-06  1.083101\n",
       "2018-02-07  1.079957\n",
       "...              ...\n",
       "2022-12-23  1.252632\n",
       "2022-12-27  1.256542\n",
       "2022-12-28  1.281794\n",
       "2022-12-29  1.303438\n",
       "2022-12-30  1.243895\n",
       "\n",
       "[1238 rows x 1 columns]"
      ]
     },
     "execution_count": 16,
     "metadata": {},
     "output_type": "execute_result"
    }
   ],
   "source": [
    "user_beta = CanaryFinancialCalculations.beta(user_covariance, user_variance)\n",
    "user_beta"
   ]
  },
  {
   "cell_type": "markdown",
   "metadata": {},
   "source": [
    "# Drawdown"
   ]
  },
  {
   "cell_type": "code",
   "execution_count": 17,
   "metadata": {},
   "outputs": [
    {
     "data": {
      "text/html": [
       "<div>\n",
       "<style scoped>\n",
       "    .dataframe tbody tr th:only-of-type {\n",
       "        vertical-align: middle;\n",
       "    }\n",
       "\n",
       "    .dataframe tbody tr th {\n",
       "        vertical-align: top;\n",
       "    }\n",
       "\n",
       "    .dataframe thead th {\n",
       "        text-align: right;\n",
       "    }\n",
       "</style>\n",
       "<table border=\"1\" class=\"dataframe\">\n",
       "  <thead>\n",
       "    <tr style=\"text-align: right;\">\n",
       "      <th></th>\n",
       "      <th>Portfolio</th>\n",
       "    </tr>\n",
       "    <tr>\n",
       "      <th>Date</th>\n",
       "      <th></th>\n",
       "    </tr>\n",
       "  </thead>\n",
       "  <tbody>\n",
       "    <tr>\n",
       "      <th>2018-01-02</th>\n",
       "      <td>0.00</td>\n",
       "    </tr>\n",
       "    <tr>\n",
       "      <th>2018-01-03</th>\n",
       "      <td>2.04</td>\n",
       "    </tr>\n",
       "    <tr>\n",
       "      <th>2018-01-04</th>\n",
       "      <td>2.04</td>\n",
       "    </tr>\n",
       "    <tr>\n",
       "      <th>2018-01-05</th>\n",
       "      <td>3.10</td>\n",
       "    </tr>\n",
       "    <tr>\n",
       "      <th>2018-01-08</th>\n",
       "      <td>3.84</td>\n",
       "    </tr>\n",
       "    <tr>\n",
       "      <th>...</th>\n",
       "      <td>...</td>\n",
       "    </tr>\n",
       "    <tr>\n",
       "      <th>2022-12-23</th>\n",
       "      <td>57.19</td>\n",
       "    </tr>\n",
       "    <tr>\n",
       "      <th>2022-12-27</th>\n",
       "      <td>57.19</td>\n",
       "    </tr>\n",
       "    <tr>\n",
       "      <th>2022-12-28</th>\n",
       "      <td>57.19</td>\n",
       "    </tr>\n",
       "    <tr>\n",
       "      <th>2022-12-29</th>\n",
       "      <td>57.19</td>\n",
       "    </tr>\n",
       "    <tr>\n",
       "      <th>2022-12-30</th>\n",
       "      <td>57.19</td>\n",
       "    </tr>\n",
       "  </tbody>\n",
       "</table>\n",
       "<p>1259 rows × 1 columns</p>\n",
       "</div>"
      ],
      "text/plain": [
       "            Portfolio\n",
       "Date                 \n",
       "2018-01-02       0.00\n",
       "2018-01-03       2.04\n",
       "2018-01-04       2.04\n",
       "2018-01-05       3.10\n",
       "2018-01-08       3.84\n",
       "...               ...\n",
       "2022-12-23      57.19\n",
       "2022-12-27      57.19\n",
       "2022-12-28      57.19\n",
       "2022-12-29      57.19\n",
       "2022-12-30      57.19\n",
       "\n",
       "[1259 rows x 1 columns]"
      ]
     },
     "execution_count": 17,
     "metadata": {},
     "output_type": "execute_result"
    }
   ],
   "source": [
    "user_daily_drawdown = CanaryFinancialCalculations.daily_drawdown(portfolio_added_df)\n",
    "user_daily_drawdown"
   ]
  },
  {
   "cell_type": "markdown",
   "metadata": {},
   "source": [
    "# Annual Returns"
   ]
  },
  {
   "cell_type": "code",
   "execution_count": 18,
   "metadata": {},
   "outputs": [
    {
     "data": {
      "text/plain": [
       "12.111524656294836"
      ]
     },
     "execution_count": 18,
     "metadata": {},
     "output_type": "execute_result"
    }
   ],
   "source": [
    "user_annual_returns = CanaryFinancialCalculations.annual_return(portfolio_added_df, 'Portfolio')\n",
    "user_annual_returns"
   ]
  },
  {
   "cell_type": "code",
   "execution_count": 19,
   "metadata": {},
   "outputs": [
    {
     "data": {
      "text/plain": [
       "7.308526750062572"
      ]
     },
     "execution_count": 19,
     "metadata": {},
     "output_type": "execute_result"
    }
   ],
   "source": [
    "benchmark_annual_return = CanaryFinancialCalculations.annual_return(benchmark_df, 'SPY')\n",
    "benchmark_annual_return"
   ]
  },
  {
   "cell_type": "markdown",
   "metadata": {},
   "source": [
    "# Tracking Error"
   ]
  },
  {
   "cell_type": "code",
   "execution_count": 20,
   "metadata": {},
   "outputs": [
    {
     "data": {
      "text/plain": [
       "4.802997906232265"
      ]
     },
     "execution_count": 20,
     "metadata": {},
     "output_type": "execute_result"
    }
   ],
   "source": [
    "user_tracking_error = CanaryFinancialCalculations.tracking_error(user_annual_returns, benchmark_annual_return)\n",
    "user_tracking_error"
   ]
  },
  {
   "cell_type": "markdown",
   "metadata": {},
   "source": [
    "# Sharpe Ratio"
   ]
  },
  {
   "cell_type": "code",
   "execution_count": 21,
   "metadata": {},
   "outputs": [
    {
     "data": {
      "text/html": [
       "<div>\n",
       "<style scoped>\n",
       "    .dataframe tbody tr th:only-of-type {\n",
       "        vertical-align: middle;\n",
       "    }\n",
       "\n",
       "    .dataframe tbody tr th {\n",
       "        vertical-align: top;\n",
       "    }\n",
       "\n",
       "    .dataframe thead th {\n",
       "        text-align: right;\n",
       "    }\n",
       "</style>\n",
       "<table border=\"1\" class=\"dataframe\">\n",
       "  <thead>\n",
       "    <tr style=\"text-align: right;\">\n",
       "      <th></th>\n",
       "      <th>Sharpe Ratio</th>\n",
       "    </tr>\n",
       "  </thead>\n",
       "  <tbody>\n",
       "    <tr>\n",
       "      <th>Portfolio</th>\n",
       "      <td>0.888538</td>\n",
       "    </tr>\n",
       "  </tbody>\n",
       "</table>\n",
       "</div>"
      ],
      "text/plain": [
       "           Sharpe Ratio\n",
       "Portfolio      0.888538"
      ]
     },
     "execution_count": 21,
     "metadata": {},
     "output_type": "execute_result"
    }
   ],
   "source": [
    "user_sharpe_ratio = CanaryFinancialCalculations.sharpe_ratio(user_returns_df)\n",
    "user_sharpe_ratio"
   ]
  },
  {
   "cell_type": "markdown",
   "metadata": {},
   "source": [
    "# Return on Investment"
   ]
  },
  {
   "cell_type": "code",
   "execution_count": 22,
   "metadata": {},
   "outputs": [
    {
     "data": {
      "text/plain": [
       "207.55"
      ]
     },
     "execution_count": 22,
     "metadata": {},
     "output_type": "execute_result"
    }
   ],
   "source": [
    "user_roi = CanaryFinancialCalculations.return_on_investment(user_cumulative_returns, 'Profit', initial_investment)\n",
    "user_roi = user_roi.round(2)\n",
    "user_roi"
   ]
  },
  {
   "cell_type": "code",
   "execution_count": 23,
   "metadata": {},
   "outputs": [
    {
     "data": {
      "text/plain": [
       "42.29"
      ]
     },
     "execution_count": 23,
     "metadata": {},
     "output_type": "execute_result"
    }
   ],
   "source": [
    "benchmark_roi = CanaryFinancialCalculations.return_on_investment(benchmark_returns, 'Profit', initial_investment)\n",
    "benchmark_roi = benchmark_roi.round(2)\n",
    "benchmark_roi"
   ]
  },
  {
   "cell_type": "code",
   "execution_count": 24,
   "metadata": {},
   "outputs": [
    {
     "data": {
      "text/html": [
       "<div>\n",
       "<style scoped>\n",
       "    .dataframe tbody tr th:only-of-type {\n",
       "        vertical-align: middle;\n",
       "    }\n",
       "\n",
       "    .dataframe tbody tr th {\n",
       "        vertical-align: top;\n",
       "    }\n",
       "\n",
       "    .dataframe thead th {\n",
       "        text-align: right;\n",
       "    }\n",
       "</style>\n",
       "<table border=\"1\" class=\"dataframe\">\n",
       "  <thead>\n",
       "    <tr style=\"text-align: right;\">\n",
       "      <th></th>\n",
       "      <th>Compared</th>\n",
       "      <th>Percentage</th>\n",
       "    </tr>\n",
       "  </thead>\n",
       "  <tbody>\n",
       "    <tr>\n",
       "      <th>0</th>\n",
       "      <td>Portfolio</td>\n",
       "      <td>207.55</td>\n",
       "    </tr>\n",
       "    <tr>\n",
       "      <th>1</th>\n",
       "      <td>SPY</td>\n",
       "      <td>42.29</td>\n",
       "    </tr>\n",
       "  </tbody>\n",
       "</table>\n",
       "</div>"
      ],
      "text/plain": [
       "    Compared  Percentage\n",
       "0  Portfolio      207.55\n",
       "1        SPY       42.29"
      ]
     },
     "execution_count": 24,
     "metadata": {},
     "output_type": "execute_result"
    }
   ],
   "source": [
    "compared_roi = pd.DataFrame({\n",
    "    'Compared': ['Portfolio', 'SPY'],\n",
    "    'Percentage': [user_roi, benchmark_roi]\n",
    "})\n",
    "compared_roi"
   ]
  },
  {
   "cell_type": "markdown",
   "metadata": {},
   "source": [
    "# Standard Deviation"
   ]
  },
  {
   "cell_type": "code",
   "execution_count": 25,
   "metadata": {},
   "outputs": [
    {
     "data": {
      "text/html": [
       "<div>\n",
       "<style scoped>\n",
       "    .dataframe tbody tr th:only-of-type {\n",
       "        vertical-align: middle;\n",
       "    }\n",
       "\n",
       "    .dataframe tbody tr th {\n",
       "        vertical-align: top;\n",
       "    }\n",
       "\n",
       "    .dataframe thead th {\n",
       "        text-align: right;\n",
       "    }\n",
       "</style>\n",
       "<table border=\"1\" class=\"dataframe\">\n",
       "  <thead>\n",
       "    <tr style=\"text-align: right;\">\n",
       "      <th></th>\n",
       "      <th>Portfolio</th>\n",
       "    </tr>\n",
       "    <tr>\n",
       "      <th>Date</th>\n",
       "      <th></th>\n",
       "    </tr>\n",
       "  </thead>\n",
       "  <tbody>\n",
       "    <tr>\n",
       "      <th>2018-02-01</th>\n",
       "      <td>0.012578</td>\n",
       "    </tr>\n",
       "    <tr>\n",
       "      <th>2018-02-02</th>\n",
       "      <td>0.013268</td>\n",
       "    </tr>\n",
       "    <tr>\n",
       "      <th>2018-02-05</th>\n",
       "      <td>0.016323</td>\n",
       "    </tr>\n",
       "    <tr>\n",
       "      <th>2018-02-06</th>\n",
       "      <td>0.016863</td>\n",
       "    </tr>\n",
       "    <tr>\n",
       "      <th>2018-02-07</th>\n",
       "      <td>0.016791</td>\n",
       "    </tr>\n",
       "    <tr>\n",
       "      <th>...</th>\n",
       "      <td>...</td>\n",
       "    </tr>\n",
       "    <tr>\n",
       "      <th>2022-12-23</th>\n",
       "      <td>0.018111</td>\n",
       "    </tr>\n",
       "    <tr>\n",
       "      <th>2022-12-27</th>\n",
       "      <td>0.018161</td>\n",
       "    </tr>\n",
       "    <tr>\n",
       "      <th>2022-12-28</th>\n",
       "      <td>0.018204</td>\n",
       "    </tr>\n",
       "    <tr>\n",
       "      <th>2022-12-29</th>\n",
       "      <td>0.019300</td>\n",
       "    </tr>\n",
       "    <tr>\n",
       "      <th>2022-12-30</th>\n",
       "      <td>0.016040</td>\n",
       "    </tr>\n",
       "  </tbody>\n",
       "</table>\n",
       "<p>1238 rows × 1 columns</p>\n",
       "</div>"
      ],
      "text/plain": [
       "            Portfolio\n",
       "Date                 \n",
       "2018-02-01   0.012578\n",
       "2018-02-02   0.013268\n",
       "2018-02-05   0.016323\n",
       "2018-02-06   0.016863\n",
       "2018-02-07   0.016791\n",
       "...               ...\n",
       "2022-12-23   0.018111\n",
       "2022-12-27   0.018161\n",
       "2022-12-28   0.018204\n",
       "2022-12-29   0.019300\n",
       "2022-12-30   0.016040\n",
       "\n",
       "[1238 rows x 1 columns]"
      ]
     },
     "execution_count": 25,
     "metadata": {},
     "output_type": "execute_result"
    }
   ],
   "source": [
    "user_std = CanaryFinancialCalculations.standard_deviation(user_returns_df)\n",
    "user_std"
   ]
  },
  {
   "cell_type": "markdown",
   "metadata": {},
   "source": [
    "# Portfolio Distribution"
   ]
  },
  {
   "cell_type": "code",
   "execution_count": 26,
   "metadata": {},
   "outputs": [
    {
     "data": {
      "application/vnd.plotly.v1+json": {
       "config": {
        "plotlyServerURL": "https://plot.ly"
       },
       "data": [
        {
         "domain": {
          "x": [
           0,
           1
          ],
          "y": [
           0,
           1
          ]
         },
         "hole": 0.5,
         "hovertemplate": "label=%{label}<br>value=%{value}<extra></extra>",
         "labels": [
          "AZO",
          "NFLX",
          "AMD",
          "BKNG"
         ],
         "legendgroup": "",
         "name": "",
         "showlegend": true,
         "type": "pie",
         "values": [
          0.25,
          0.25,
          0.25,
          0.25
         ]
        }
       ],
       "layout": {
        "legend": {
         "tracegroupgap": 0
        },
        "margin": {
         "t": 60
        },
        "template": {
         "data": {
          "bar": [
           {
            "error_x": {
             "color": "#2a3f5f"
            },
            "error_y": {
             "color": "#2a3f5f"
            },
            "marker": {
             "line": {
              "color": "#E5ECF6",
              "width": 0.5
             },
             "pattern": {
              "fillmode": "overlay",
              "size": 10,
              "solidity": 0.2
             }
            },
            "type": "bar"
           }
          ],
          "barpolar": [
           {
            "marker": {
             "line": {
              "color": "#E5ECF6",
              "width": 0.5
             },
             "pattern": {
              "fillmode": "overlay",
              "size": 10,
              "solidity": 0.2
             }
            },
            "type": "barpolar"
           }
          ],
          "carpet": [
           {
            "aaxis": {
             "endlinecolor": "#2a3f5f",
             "gridcolor": "white",
             "linecolor": "white",
             "minorgridcolor": "white",
             "startlinecolor": "#2a3f5f"
            },
            "baxis": {
             "endlinecolor": "#2a3f5f",
             "gridcolor": "white",
             "linecolor": "white",
             "minorgridcolor": "white",
             "startlinecolor": "#2a3f5f"
            },
            "type": "carpet"
           }
          ],
          "choropleth": [
           {
            "colorbar": {
             "outlinewidth": 0,
             "ticks": ""
            },
            "type": "choropleth"
           }
          ],
          "contour": [
           {
            "colorbar": {
             "outlinewidth": 0,
             "ticks": ""
            },
            "colorscale": [
             [
              0,
              "#0d0887"
             ],
             [
              0.1111111111111111,
              "#46039f"
             ],
             [
              0.2222222222222222,
              "#7201a8"
             ],
             [
              0.3333333333333333,
              "#9c179e"
             ],
             [
              0.4444444444444444,
              "#bd3786"
             ],
             [
              0.5555555555555556,
              "#d8576b"
             ],
             [
              0.6666666666666666,
              "#ed7953"
             ],
             [
              0.7777777777777778,
              "#fb9f3a"
             ],
             [
              0.8888888888888888,
              "#fdca26"
             ],
             [
              1,
              "#f0f921"
             ]
            ],
            "type": "contour"
           }
          ],
          "contourcarpet": [
           {
            "colorbar": {
             "outlinewidth": 0,
             "ticks": ""
            },
            "type": "contourcarpet"
           }
          ],
          "heatmap": [
           {
            "colorbar": {
             "outlinewidth": 0,
             "ticks": ""
            },
            "colorscale": [
             [
              0,
              "#0d0887"
             ],
             [
              0.1111111111111111,
              "#46039f"
             ],
             [
              0.2222222222222222,
              "#7201a8"
             ],
             [
              0.3333333333333333,
              "#9c179e"
             ],
             [
              0.4444444444444444,
              "#bd3786"
             ],
             [
              0.5555555555555556,
              "#d8576b"
             ],
             [
              0.6666666666666666,
              "#ed7953"
             ],
             [
              0.7777777777777778,
              "#fb9f3a"
             ],
             [
              0.8888888888888888,
              "#fdca26"
             ],
             [
              1,
              "#f0f921"
             ]
            ],
            "type": "heatmap"
           }
          ],
          "heatmapgl": [
           {
            "colorbar": {
             "outlinewidth": 0,
             "ticks": ""
            },
            "colorscale": [
             [
              0,
              "#0d0887"
             ],
             [
              0.1111111111111111,
              "#46039f"
             ],
             [
              0.2222222222222222,
              "#7201a8"
             ],
             [
              0.3333333333333333,
              "#9c179e"
             ],
             [
              0.4444444444444444,
              "#bd3786"
             ],
             [
              0.5555555555555556,
              "#d8576b"
             ],
             [
              0.6666666666666666,
              "#ed7953"
             ],
             [
              0.7777777777777778,
              "#fb9f3a"
             ],
             [
              0.8888888888888888,
              "#fdca26"
             ],
             [
              1,
              "#f0f921"
             ]
            ],
            "type": "heatmapgl"
           }
          ],
          "histogram": [
           {
            "marker": {
             "pattern": {
              "fillmode": "overlay",
              "size": 10,
              "solidity": 0.2
             }
            },
            "type": "histogram"
           }
          ],
          "histogram2d": [
           {
            "colorbar": {
             "outlinewidth": 0,
             "ticks": ""
            },
            "colorscale": [
             [
              0,
              "#0d0887"
             ],
             [
              0.1111111111111111,
              "#46039f"
             ],
             [
              0.2222222222222222,
              "#7201a8"
             ],
             [
              0.3333333333333333,
              "#9c179e"
             ],
             [
              0.4444444444444444,
              "#bd3786"
             ],
             [
              0.5555555555555556,
              "#d8576b"
             ],
             [
              0.6666666666666666,
              "#ed7953"
             ],
             [
              0.7777777777777778,
              "#fb9f3a"
             ],
             [
              0.8888888888888888,
              "#fdca26"
             ],
             [
              1,
              "#f0f921"
             ]
            ],
            "type": "histogram2d"
           }
          ],
          "histogram2dcontour": [
           {
            "colorbar": {
             "outlinewidth": 0,
             "ticks": ""
            },
            "colorscale": [
             [
              0,
              "#0d0887"
             ],
             [
              0.1111111111111111,
              "#46039f"
             ],
             [
              0.2222222222222222,
              "#7201a8"
             ],
             [
              0.3333333333333333,
              "#9c179e"
             ],
             [
              0.4444444444444444,
              "#bd3786"
             ],
             [
              0.5555555555555556,
              "#d8576b"
             ],
             [
              0.6666666666666666,
              "#ed7953"
             ],
             [
              0.7777777777777778,
              "#fb9f3a"
             ],
             [
              0.8888888888888888,
              "#fdca26"
             ],
             [
              1,
              "#f0f921"
             ]
            ],
            "type": "histogram2dcontour"
           }
          ],
          "mesh3d": [
           {
            "colorbar": {
             "outlinewidth": 0,
             "ticks": ""
            },
            "type": "mesh3d"
           }
          ],
          "parcoords": [
           {
            "line": {
             "colorbar": {
              "outlinewidth": 0,
              "ticks": ""
             }
            },
            "type": "parcoords"
           }
          ],
          "pie": [
           {
            "automargin": true,
            "type": "pie"
           }
          ],
          "scatter": [
           {
            "fillpattern": {
             "fillmode": "overlay",
             "size": 10,
             "solidity": 0.2
            },
            "type": "scatter"
           }
          ],
          "scatter3d": [
           {
            "line": {
             "colorbar": {
              "outlinewidth": 0,
              "ticks": ""
             }
            },
            "marker": {
             "colorbar": {
              "outlinewidth": 0,
              "ticks": ""
             }
            },
            "type": "scatter3d"
           }
          ],
          "scattercarpet": [
           {
            "marker": {
             "colorbar": {
              "outlinewidth": 0,
              "ticks": ""
             }
            },
            "type": "scattercarpet"
           }
          ],
          "scattergeo": [
           {
            "marker": {
             "colorbar": {
              "outlinewidth": 0,
              "ticks": ""
             }
            },
            "type": "scattergeo"
           }
          ],
          "scattergl": [
           {
            "marker": {
             "colorbar": {
              "outlinewidth": 0,
              "ticks": ""
             }
            },
            "type": "scattergl"
           }
          ],
          "scattermapbox": [
           {
            "marker": {
             "colorbar": {
              "outlinewidth": 0,
              "ticks": ""
             }
            },
            "type": "scattermapbox"
           }
          ],
          "scatterpolar": [
           {
            "marker": {
             "colorbar": {
              "outlinewidth": 0,
              "ticks": ""
             }
            },
            "type": "scatterpolar"
           }
          ],
          "scatterpolargl": [
           {
            "marker": {
             "colorbar": {
              "outlinewidth": 0,
              "ticks": ""
             }
            },
            "type": "scatterpolargl"
           }
          ],
          "scatterternary": [
           {
            "marker": {
             "colorbar": {
              "outlinewidth": 0,
              "ticks": ""
             }
            },
            "type": "scatterternary"
           }
          ],
          "surface": [
           {
            "colorbar": {
             "outlinewidth": 0,
             "ticks": ""
            },
            "colorscale": [
             [
              0,
              "#0d0887"
             ],
             [
              0.1111111111111111,
              "#46039f"
             ],
             [
              0.2222222222222222,
              "#7201a8"
             ],
             [
              0.3333333333333333,
              "#9c179e"
             ],
             [
              0.4444444444444444,
              "#bd3786"
             ],
             [
              0.5555555555555556,
              "#d8576b"
             ],
             [
              0.6666666666666666,
              "#ed7953"
             ],
             [
              0.7777777777777778,
              "#fb9f3a"
             ],
             [
              0.8888888888888888,
              "#fdca26"
             ],
             [
              1,
              "#f0f921"
             ]
            ],
            "type": "surface"
           }
          ],
          "table": [
           {
            "cells": {
             "fill": {
              "color": "#EBF0F8"
             },
             "line": {
              "color": "white"
             }
            },
            "header": {
             "fill": {
              "color": "#C8D4E3"
             },
             "line": {
              "color": "white"
             }
            },
            "type": "table"
           }
          ]
         },
         "layout": {
          "annotationdefaults": {
           "arrowcolor": "#2a3f5f",
           "arrowhead": 0,
           "arrowwidth": 1
          },
          "autotypenumbers": "strict",
          "coloraxis": {
           "colorbar": {
            "outlinewidth": 0,
            "ticks": ""
           }
          },
          "colorscale": {
           "diverging": [
            [
             0,
             "#8e0152"
            ],
            [
             0.1,
             "#c51b7d"
            ],
            [
             0.2,
             "#de77ae"
            ],
            [
             0.3,
             "#f1b6da"
            ],
            [
             0.4,
             "#fde0ef"
            ],
            [
             0.5,
             "#f7f7f7"
            ],
            [
             0.6,
             "#e6f5d0"
            ],
            [
             0.7,
             "#b8e186"
            ],
            [
             0.8,
             "#7fbc41"
            ],
            [
             0.9,
             "#4d9221"
            ],
            [
             1,
             "#276419"
            ]
           ],
           "sequential": [
            [
             0,
             "#0d0887"
            ],
            [
             0.1111111111111111,
             "#46039f"
            ],
            [
             0.2222222222222222,
             "#7201a8"
            ],
            [
             0.3333333333333333,
             "#9c179e"
            ],
            [
             0.4444444444444444,
             "#bd3786"
            ],
            [
             0.5555555555555556,
             "#d8576b"
            ],
            [
             0.6666666666666666,
             "#ed7953"
            ],
            [
             0.7777777777777778,
             "#fb9f3a"
            ],
            [
             0.8888888888888888,
             "#fdca26"
            ],
            [
             1,
             "#f0f921"
            ]
           ],
           "sequentialminus": [
            [
             0,
             "#0d0887"
            ],
            [
             0.1111111111111111,
             "#46039f"
            ],
            [
             0.2222222222222222,
             "#7201a8"
            ],
            [
             0.3333333333333333,
             "#9c179e"
            ],
            [
             0.4444444444444444,
             "#bd3786"
            ],
            [
             0.5555555555555556,
             "#d8576b"
            ],
            [
             0.6666666666666666,
             "#ed7953"
            ],
            [
             0.7777777777777778,
             "#fb9f3a"
            ],
            [
             0.8888888888888888,
             "#fdca26"
            ],
            [
             1,
             "#f0f921"
            ]
           ]
          },
          "colorway": [
           "#636efa",
           "#EF553B",
           "#00cc96",
           "#ab63fa",
           "#FFA15A",
           "#19d3f3",
           "#FF6692",
           "#B6E880",
           "#FF97FF",
           "#FECB52"
          ],
          "font": {
           "color": "#2a3f5f"
          },
          "geo": {
           "bgcolor": "white",
           "lakecolor": "white",
           "landcolor": "#E5ECF6",
           "showlakes": true,
           "showland": true,
           "subunitcolor": "white"
          },
          "hoverlabel": {
           "align": "left"
          },
          "hovermode": "closest",
          "mapbox": {
           "style": "light"
          },
          "paper_bgcolor": "white",
          "plot_bgcolor": "#E5ECF6",
          "polar": {
           "angularaxis": {
            "gridcolor": "white",
            "linecolor": "white",
            "ticks": ""
           },
           "bgcolor": "#E5ECF6",
           "radialaxis": {
            "gridcolor": "white",
            "linecolor": "white",
            "ticks": ""
           }
          },
          "scene": {
           "xaxis": {
            "backgroundcolor": "#E5ECF6",
            "gridcolor": "white",
            "gridwidth": 2,
            "linecolor": "white",
            "showbackground": true,
            "ticks": "",
            "zerolinecolor": "white"
           },
           "yaxis": {
            "backgroundcolor": "#E5ECF6",
            "gridcolor": "white",
            "gridwidth": 2,
            "linecolor": "white",
            "showbackground": true,
            "ticks": "",
            "zerolinecolor": "white"
           },
           "zaxis": {
            "backgroundcolor": "#E5ECF6",
            "gridcolor": "white",
            "gridwidth": 2,
            "linecolor": "white",
            "showbackground": true,
            "ticks": "",
            "zerolinecolor": "white"
           }
          },
          "shapedefaults": {
           "line": {
            "color": "#2a3f5f"
           }
          },
          "ternary": {
           "aaxis": {
            "gridcolor": "white",
            "linecolor": "white",
            "ticks": ""
           },
           "baxis": {
            "gridcolor": "white",
            "linecolor": "white",
            "ticks": ""
           },
           "bgcolor": "#E5ECF6",
           "caxis": {
            "gridcolor": "white",
            "linecolor": "white",
            "ticks": ""
           }
          },
          "title": {
           "x": 0.05
          },
          "xaxis": {
           "automargin": true,
           "gridcolor": "white",
           "linecolor": "white",
           "ticks": "",
           "title": {
            "standoff": 15
           },
           "zerolinecolor": "white",
           "zerolinewidth": 2
          },
          "yaxis": {
           "automargin": true,
           "gridcolor": "white",
           "linecolor": "white",
           "ticks": "",
           "title": {
            "standoff": 15
           },
           "zerolinecolor": "white",
           "zerolinewidth": 2
          }
         }
        }
       }
      }
     },
     "metadata": {},
     "output_type": "display_data"
    }
   ],
   "source": [
    "user_portfolio_distribution = CanaryFinancialCalculations.portfolio_distribution_chart(tickers, weights)\n",
    "user_portfolio_distribution"
   ]
  },
  {
   "cell_type": "markdown",
   "metadata": {},
   "source": [
    "# Cumulative Return Chart"
   ]
  },
  {
   "cell_type": "code",
   "execution_count": 34,
   "metadata": {},
   "outputs": [
    {
     "data": {
      "text/html": [
       "<div>\n",
       "<style scoped>\n",
       "    .dataframe tbody tr th:only-of-type {\n",
       "        vertical-align: middle;\n",
       "    }\n",
       "\n",
       "    .dataframe tbody tr th {\n",
       "        vertical-align: top;\n",
       "    }\n",
       "\n",
       "    .dataframe thead th {\n",
       "        text-align: right;\n",
       "    }\n",
       "</style>\n",
       "<table border=\"1\" class=\"dataframe\">\n",
       "  <thead>\n",
       "    <tr style=\"text-align: right;\">\n",
       "      <th></th>\n",
       "      <th>Date</th>\n",
       "      <th>Portfolio</th>\n",
       "      <th>SPY</th>\n",
       "    </tr>\n",
       "  </thead>\n",
       "  <tbody>\n",
       "    <tr>\n",
       "      <th>0</th>\n",
       "      <td>2018-01-03</td>\n",
       "      <td>10278.0</td>\n",
       "      <td>10063.0</td>\n",
       "    </tr>\n",
       "    <tr>\n",
       "      <th>1</th>\n",
       "      <td>2018-01-04</td>\n",
       "      <td>10429.0</td>\n",
       "      <td>10104.0</td>\n",
       "    </tr>\n",
       "    <tr>\n",
       "      <th>2</th>\n",
       "      <td>2018-01-05</td>\n",
       "      <td>10505.0</td>\n",
       "      <td>10172.0</td>\n",
       "    </tr>\n",
       "    <tr>\n",
       "      <th>3</th>\n",
       "      <td>2018-01-08</td>\n",
       "      <td>10629.0</td>\n",
       "      <td>10191.0</td>\n",
       "    </tr>\n",
       "    <tr>\n",
       "      <th>4</th>\n",
       "      <td>2018-01-09</td>\n",
       "      <td>10530.0</td>\n",
       "      <td>10214.0</td>\n",
       "    </tr>\n",
       "    <tr>\n",
       "      <th>...</th>\n",
       "      <td>...</td>\n",
       "      <td>...</td>\n",
       "      <td>...</td>\n",
       "    </tr>\n",
       "    <tr>\n",
       "      <th>1253</th>\n",
       "      <td>2022-12-23</td>\n",
       "      <td>30435.0</td>\n",
       "      <td>14247.0</td>\n",
       "    </tr>\n",
       "    <tr>\n",
       "      <th>1254</th>\n",
       "      <td>2022-12-27</td>\n",
       "      <td>30186.0</td>\n",
       "      <td>14191.0</td>\n",
       "    </tr>\n",
       "    <tr>\n",
       "      <th>1255</th>\n",
       "      <td>2022-12-28</td>\n",
       "      <td>29783.0</td>\n",
       "      <td>14014.0</td>\n",
       "    </tr>\n",
       "    <tr>\n",
       "      <th>1256</th>\n",
       "      <td>2022-12-29</td>\n",
       "      <td>30611.0</td>\n",
       "      <td>14266.0</td>\n",
       "    </tr>\n",
       "    <tr>\n",
       "      <th>1257</th>\n",
       "      <td>2022-12-30</td>\n",
       "      <td>30755.0</td>\n",
       "      <td>14229.0</td>\n",
       "    </tr>\n",
       "  </tbody>\n",
       "</table>\n",
       "<p>1258 rows × 3 columns</p>\n",
       "</div>"
      ],
      "text/plain": [
       "            Date  Portfolio      SPY\n",
       "0     2018-01-03    10278.0  10063.0\n",
       "1     2018-01-04    10429.0  10104.0\n",
       "2     2018-01-05    10505.0  10172.0\n",
       "3     2018-01-08    10629.0  10191.0\n",
       "4     2018-01-09    10530.0  10214.0\n",
       "...          ...        ...      ...\n",
       "1253  2022-12-23    30435.0  14247.0\n",
       "1254  2022-12-27    30186.0  14191.0\n",
       "1255  2022-12-28    29783.0  14014.0\n",
       "1256  2022-12-29    30611.0  14266.0\n",
       "1257  2022-12-30    30755.0  14229.0\n",
       "\n",
       "[1258 rows x 3 columns]"
      ]
     },
     "execution_count": 34,
     "metadata": {},
     "output_type": "execute_result"
    }
   ],
   "source": [
    "compared_cumulative_returns = pd.concat([user_cumulative_returns, benchmark_returns], axis=1, join='inner')\n",
    "compared_cumulative_returns.columns = ['Portfolio', 'SPY']\n",
    "compared_cumulative_returns = compared_cumulative_returns.round()\n",
    "compared_cumulative_returns = compared_cumulative_returns.reset_index()\n",
    "compared_cumulative_returns"
   ]
  },
  {
   "cell_type": "code",
   "execution_count": 35,
   "metadata": {},
   "outputs": [
    {
     "data": {},
     "metadata": {},
     "output_type": "display_data"
    },
    {
     "data": {
      "application/vnd.holoviews_exec.v0+json": "",
      "text/html": [
       "<div id='p1321'>\n",
       "  <div id=\"a5c9c702-2203-4cf9-a9d4-ad3e811300f4\" data-root-id=\"p1321\" style=\"display: contents;\"></div>\n",
       "</div>\n",
       "<script type=\"application/javascript\">(function(root) {\n",
       "  var docs_json = {\"7908c92b-64ab-43af-8b39-ec32ed1e92b3\":{\"version\":\"3.2.1\",\"title\":\"Bokeh Application\",\"roots\":[{\"type\":\"object\",\"name\":\"Row\",\"id\":\"p1321\",\"attributes\":{\"name\":\"Row01518\",\"tags\":[\"embedded\"],\"stylesheets\":[\"\\n:host(.pn-loading.pn-arc):before, .pn-loading.pn-arc:before {\\n  background-image: url(\\\"data:image/svg+xml;base64,PHN2ZyB4bWxucz0iaHR0cDovL3d3dy53My5vcmcvMjAwMC9zdmciIHN0eWxlPSJtYXJnaW46IGF1dG87IGJhY2tncm91bmQ6IG5vbmU7IGRpc3BsYXk6IGJsb2NrOyBzaGFwZS1yZW5kZXJpbmc6IGF1dG87IiB2aWV3Qm94PSIwIDAgMTAwIDEwMCIgcHJlc2VydmVBc3BlY3RSYXRpbz0ieE1pZFlNaWQiPiAgPGNpcmNsZSBjeD0iNTAiIGN5PSI1MCIgZmlsbD0ibm9uZSIgc3Ryb2tlPSIjYzNjM2MzIiBzdHJva2Utd2lkdGg9IjEwIiByPSIzNSIgc3Ryb2tlLWRhc2hhcnJheT0iMTY0LjkzMzYxNDMxMzQ2NDE1IDU2Ljk3Nzg3MTQzNzgyMTM4Ij4gICAgPGFuaW1hdGVUcmFuc2Zvcm0gYXR0cmlidXRlTmFtZT0idHJhbnNmb3JtIiB0eXBlPSJyb3RhdGUiIHJlcGVhdENvdW50PSJpbmRlZmluaXRlIiBkdXI9IjFzIiB2YWx1ZXM9IjAgNTAgNTA7MzYwIDUwIDUwIiBrZXlUaW1lcz0iMDsxIj48L2FuaW1hdGVUcmFuc2Zvcm0+ICA8L2NpcmNsZT48L3N2Zz4=\\\");\\n  background-size: auto calc(min(50%, 400px));\\n}\",{\"type\":\"object\",\"name\":\"ImportedStyleSheet\",\"id\":\"p1324\",\"attributes\":{\"url\":\"https://cdn.holoviz.org/panel/1.2.3/dist/css/loading.css\"}},{\"type\":\"object\",\"name\":\"ImportedStyleSheet\",\"id\":\"p1409\",\"attributes\":{\"url\":\"https://cdn.holoviz.org/panel/1.2.3/dist/css/listpanel.css\"}},{\"type\":\"object\",\"name\":\"ImportedStyleSheet\",\"id\":\"p1322\",\"attributes\":{\"url\":\"https://cdn.holoviz.org/panel/1.2.3/dist/bundled/theme/default.css\"}},{\"type\":\"object\",\"name\":\"ImportedStyleSheet\",\"id\":\"p1323\",\"attributes\":{\"url\":\"https://cdn.holoviz.org/panel/1.2.3/dist/bundled/theme/native.css\"}}],\"min_width\":820,\"margin\":0,\"sizing_mode\":\"stretch_width\",\"align\":\"start\",\"children\":[{\"type\":\"object\",\"name\":\"Spacer\",\"id\":\"p1325\",\"attributes\":{\"name\":\"HSpacer01529\",\"stylesheets\":[\"\\n:host(.pn-loading.pn-arc):before, .pn-loading.pn-arc:before {\\n  background-image: url(\\\"data:image/svg+xml;base64,PHN2ZyB4bWxucz0iaHR0cDovL3d3dy53My5vcmcvMjAwMC9zdmciIHN0eWxlPSJtYXJnaW46IGF1dG87IGJhY2tncm91bmQ6IG5vbmU7IGRpc3BsYXk6IGJsb2NrOyBzaGFwZS1yZW5kZXJpbmc6IGF1dG87IiB2aWV3Qm94PSIwIDAgMTAwIDEwMCIgcHJlc2VydmVBc3BlY3RSYXRpbz0ieE1pZFlNaWQiPiAgPGNpcmNsZSBjeD0iNTAiIGN5PSI1MCIgZmlsbD0ibm9uZSIgc3Ryb2tlPSIjYzNjM2MzIiBzdHJva2Utd2lkdGg9IjEwIiByPSIzNSIgc3Ryb2tlLWRhc2hhcnJheT0iMTY0LjkzMzYxNDMxMzQ2NDE1IDU2Ljk3Nzg3MTQzNzgyMTM4Ij4gICAgPGFuaW1hdGVUcmFuc2Zvcm0gYXR0cmlidXRlTmFtZT0idHJhbnNmb3JtIiB0eXBlPSJyb3RhdGUiIHJlcGVhdENvdW50PSJpbmRlZmluaXRlIiBkdXI9IjFzIiB2YWx1ZXM9IjAgNTAgNTA7MzYwIDUwIDUwIiBrZXlUaW1lcz0iMDsxIj48L2FuaW1hdGVUcmFuc2Zvcm0+ICA8L2NpcmNsZT48L3N2Zz4=\\\");\\n  background-size: auto calc(min(50%, 400px));\\n}\",{\"id\":\"p1324\"},{\"id\":\"p1322\"},{\"id\":\"p1323\"}],\"margin\":0,\"sizing_mode\":\"stretch_width\",\"align\":\"start\"}},{\"type\":\"object\",\"name\":\"Figure\",\"id\":\"p1336\",\"attributes\":{\"width\":820,\"height\":500,\"margin\":[5,10],\"sizing_mode\":\"fixed\",\"align\":\"start\",\"x_range\":{\"type\":\"object\",\"name\":\"Range1d\",\"id\":\"p1326\",\"attributes\":{\"tags\":[[[\"Date\",\"Date\",null]],[]],\"start\":1514937600000.0,\"end\":1672358400000.0,\"reset_start\":1514937600000.0,\"reset_end\":1672358400000.0}},\"y_range\":{\"type\":\"object\",\"name\":\"Range1d\",\"id\":\"p1327\",\"attributes\":{\"tags\":[[[\"Value\",\"Value\",null]],{\"type\":\"map\",\"entries\":[[\"invert_yaxis\",false],[\"autorange\",false]]}],\"start\":4842.9,\"end\":46148.1,\"reset_start\":4842.9,\"reset_end\":46148.1}},\"x_scale\":{\"type\":\"object\",\"name\":\"LinearScale\",\"id\":\"p1346\"},\"y_scale\":{\"type\":\"object\",\"name\":\"LinearScale\",\"id\":\"p1347\"},\"title\":{\"type\":\"object\",\"name\":\"Title\",\"id\":\"p1339\",\"attributes\":{\"text_color\":\"black\",\"text_font_size\":\"12pt\"}},\"renderers\":[{\"type\":\"object\",\"name\":\"GlyphRenderer\",\"id\":\"p1386\",\"attributes\":{\"name\":\"Portfolio\",\"data_source\":{\"type\":\"object\",\"name\":\"ColumnDataSource\",\"id\":\"p1377\",\"attributes\":{\"selected\":{\"type\":\"object\",\"name\":\"Selection\",\"id\":\"p1378\",\"attributes\":{\"indices\":[],\"line_indices\":[]}},\"selection_policy\":{\"type\":\"object\",\"name\":\"UnionRenderers\",\"id\":\"p1379\"},\"data\":{\"type\":\"map\",\"entries\":[[\"Date\",{\"type\":\"ndarray\",\"array\":{\"type\":\"bytes\",\"data\":\"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\"},\"shape\":[1258],\"dtype\":\"float64\",\"order\":\"little\"}],[\"Value\",{\"type\":\"ndarray\",\"array\":{\"type\":\"bytes\",\"data\":\"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\"},\"shape\":[1258],\"dtype\":\"float64\",\"order\":\"little\"}],[\"Variable\",[\"Portfolio\",\"Portfolio\",\"Portfolio\",\"Portfolio\",\"Portfolio\",\"Portfolio\",\"Portfolio\",\"Portfolio\",\"Portfolio\",\"Portfolio\",\"Portfolio\",\"Portfolio\",\"Portfolio\",\"Portfolio\",\"Portfolio\",\"Portfolio\",\"Portfolio\",\"Portfolio\",\"Portfolio\",\"Portfolio\",\"Portfolio\",\"Portfolio\",\"Portfolio\",\"Portfolio\",\"Portfolio\",\"Portfolio\",\"Portfolio\",\"Portfolio\",\"Portfolio\",\"Portfolio\",\"Portfolio\",\"Portfolio\",\"Portfolio\",\"Portfolio\",\"Portfolio\",\"Portfolio\",\"Portfolio\",\"Portfolio\",\"Portfolio\",\"Portfolio\",\"Portfolio\",\"Portfolio\",\"Portfolio\",\"Portfolio\",\"Portfolio\",\"Portfolio\",\"Portfolio\",\"Portfolio\",\"Portfolio\",\"Portfolio\",\"Portfolio\",\"Portfolio\",\"Portfolio\",\"Portfolio\",\"Portfolio\",\"Portfolio\",\"Portfolio\",\"Portfolio\",\"Portfolio\",\"Portfolio\",\"Portfolio\",\"Portfolio\",\"Portfolio\",\"Portfolio\",\"Portfolio\",\"Portfolio\",\"Portfolio\",\"Portfolio\",\"Portfolio\",\"Portfolio\",\"Portfolio\",\"Portfolio\",\"Portfolio\",\"Portfolio\",\"Portfolio\",\"Portfolio\",\"Portfolio\",\"Portfolio\",\"Portfolio\",\"Portfolio\",\"Portfolio\",\"Portfolio\",\"Portfolio\",\"Portfolio\",\"Portfolio\",\"Portfolio\",\"Portfolio\",\"Portfolio\",\"Portfolio\",\"Portfolio\",\"Portfolio\",\"Portfolio\",\"Portfolio\",\"Portfolio\",\"Portfolio\",\"Portfolio\",\"Portfolio\",\"Portfolio\",\"Portfolio\",\"Portfolio\",\"Portfolio\",\"Portfolio\",\"Portfolio\",\"Portfolio\",\"Portfolio\",\"Portfolio\",\"Portfolio\",\"Portfolio\",\"Portfolio\",\"Portfolio\",\"Portfolio\",\"Portfolio\",\"Portfolio\",\"Portfolio\",\"Portfolio\",\"Portfolio\",\"Portfolio\",\"Portfolio\",\"Portfolio\",\"Portfolio\",\"Portfolio\",\"Portfolio\",\"Portfolio\",\"Portfolio\",\"Portfolio\",\"Portfolio\",\"Portfolio\",\"Portfolio\",\"Portfolio\",\"Portfolio\",\"Portfolio\",\"Portfolio\",\"Portfolio\",\"Portfolio\",\"Portfolio\",\"Portfolio\",\"Portfolio\",\"Portfolio\",\"Portfolio\",\"Portfolio\",\"Portfolio\",\"Portfolio\",\"Portfolio\",\"Portfolio\",\"Portfolio\",\"Portfolio\",\"Portfolio\",\"Portfolio\",\"Portfolio\",\"Portfolio\",\"Portfolio\",\"Portfolio\",\"Portfolio\",\"Portfolio\",\"Portfolio\",\"Portfolio\",\"Portfolio\",\"Portfolio\",\"Portfolio\",\"Portfolio\",\"Portfolio\",\"Portfolio\",\"Portfolio\",\"Portfolio\",\"Portfolio\",\"Portfolio\",\"Portfolio\",\"Portfolio\",\"Portfolio\",\"Portfolio\",\"Portfolio\",\"Portfolio\",\"Portfolio\",\"Portfolio\",\"Portfolio\",\"Portfolio\",\"Portfolio\",\"Portfolio\",\"Portfolio\",\"Portfolio\",\"Portfolio\",\"Portfolio\",\"Portfolio\",\"Portfolio\",\"Portfolio\",\"Portfolio\",\"Portfolio\",\"Portfolio\",\"Portfolio\",\"Portfolio\",\"Portfolio\",\"Portfolio\",\"Portfolio\",\"Portfolio\",\"Portfolio\",\"Portfolio\",\"Portfolio\",\"Portfolio\",\"Portfolio\",\"Portfolio\",\"Portfolio\",\"Portfolio\",\"Portfolio\",\"Portfolio\",\"Portfolio\",\"Portfolio\",\"Portfolio\",\"Portfolio\",\"Portfolio\",\"Portfolio\",\"Portfolio\",\"Portfolio\",\"Portfolio\",\"Portfolio\",\"Portfolio\",\"Portfolio\",\"Portfolio\",\"Portfolio\",\"Portfolio\",\"Portfolio\",\"Portfolio\",\"Portfolio\",\"Portfolio\",\"Portfolio\",\"Portfolio\",\"Portfolio\",\"Portfolio\",\"Portfolio\",\"Portfolio\",\"Portfolio\",\"Portfolio\",\"Portfolio\",\"Portfolio\",\"Portfolio\",\"Portfolio\",\"Portfolio\",\"Portfolio\",\"Portfolio\",\"Portfolio\",\"Portfolio\",\"Portfolio\",\"Portfolio\",\"Portfolio\",\"Portfolio\",\"Portfolio\",\"Portfolio\",\"Portfolio\",\"Portfolio\",\"Portfolio\",\"Portfolio\",\"Portfolio\",\"Portfolio\",\"Portfolio\",\"Portfolio\",\"Portfolio\",\"Portfolio\",\"Portfolio\",\"Portfolio\",\"Portfolio\",\"Portfolio\",\"Portfolio\",\"Portfolio\",\"Portfolio\",\"Portfolio\",\"Portfolio\",\"Portfolio\",\"Portfolio\",\"Portfolio\",\"Portfolio\",\"Portfolio\",\"Portfolio\",\"Portfolio\",\"Portfolio\",\"Portfolio\",\"Portfolio\",\"Portfolio\",\"Portfolio\",\"Portfolio\",\"Portfolio\",\"Portfolio\",\"Portfolio\",\"Portfolio\",\"Portfolio\",\"Portfolio\",\"Portfolio\",\"Portfolio\",\"Portfolio\",\"Portfolio\",\"Portfolio\",\"Portfolio\",\"Portfolio\",\"Portfolio\",\"Portfolio\",\"Portfolio\",\"Portfolio\",\"Portfolio\",\"Portfolio\",\"Portfolio\",\"Portfolio\",\"Portfolio\",\"Portfolio\",\"Portfolio\",\"Portfolio\",\"Portfolio\",\"Portfolio\",\"Portfolio\",\"Portfolio\",\"Portfolio\",\"Portfolio\",\"Portfolio\",\"Portfolio\",\"Portfolio\",\"Portfolio\",\"Portfolio\",\"Portfolio\",\"Portfolio\",\"Portfolio\",\"Portfolio\",\"Portfolio\",\"Portfolio\",\"Portfolio\",\"Portfolio\",\"Portfolio\",\"Portfolio\",\"Portfolio\",\"Portfolio\",\"Portfolio\",\"Portfolio\",\"Portfolio\",\"Portfolio\",\"Portfolio\",\"Portfolio\",\"Portfolio\",\"Portfolio\",\"Portfolio\",\"Portfolio\",\"Portfolio\",\"Portfolio\",\"Portfolio\",\"Portfolio\",\"Portfolio\",\"Portfolio\",\"Portfolio\",\"Portfolio\",\"Portfolio\",\"Portfolio\",\"Portfolio\",\"Portfolio\",\"Portfolio\",\"Portfolio\",\"Portfolio\",\"Portfolio\",\"Portfolio\",\"Portfolio\",\"Portfolio\",\"Portfolio\",\"Portfolio\",\"Portfolio\",\"Portfolio\",\"Portfolio\",\"Portfolio\",\"Portfolio\",\"Portfolio\",\"Portfolio\",\"Portfolio\",\"Portfolio\",\"Portfolio\",\"Portfolio\",\"Portfolio\",\"Portfolio\",\"Portfolio\",\"Portfolio\",\"Portfolio\",\"Portfolio\",\"Portfolio\",\"Portfolio\",\"Portfolio\",\"Portfolio\",\"Portfolio\",\"Portfolio\",\"Portfolio\",\"Portfolio\",\"Portfolio\",\"Portfolio\",\"Portfolio\",\"Portfolio\",\"Portfolio\",\"Portfolio\",\"Portfolio\",\"Portfolio\",\"Portfolio\",\"Portfolio\",\"Portfolio\",\"Portfolio\",\"Portfolio\",\"Portfolio\",\"Portfolio\",\"Portfolio\",\"Portfolio\",\"Portfolio\",\"Portfolio\",\"Portfolio\",\"Portfolio\",\"Portfolio\",\"Portfolio\",\"Portfolio\",\"Portfolio\",\"Portfolio\",\"Portfolio\",\"Portfolio\",\"Portfolio\",\"Portfolio\",\"Portfolio\",\"Portfolio\",\"Portfolio\",\"Portfolio\",\"Portfolio\",\"Portfolio\",\"Portfolio\",\"Portfolio\",\"Portfolio\",\"Portfolio\",\"Portfolio\",\"Portfolio\",\"Portfolio\",\"Portfolio\",\"Portfolio\",\"Portfolio\",\"Portfolio\",\"Portfolio\",\"Portfolio\",\"Portfolio\",\"Portfolio\",\"Portfolio\",\"Portfolio\",\"Portfolio\",\"Portfolio\",\"Portfolio\",\"Portfolio\",\"Portfolio\",\"Portfolio\",\"Portfolio\",\"Portfolio\",\"Portfolio\",\"Portfolio\",\"Portfolio\",\"Portfolio\",\"Portfolio\",\"Portfolio\",\"Portfolio\",\"Portfolio\",\"Portfolio\",\"Portfolio\",\"Portfolio\",\"Portfolio\",\"Portfolio\",\"Portfolio\",\"Portfolio\",\"Portfolio\",\"Portfolio\",\"Portfolio\",\"Portfolio\",\"Portfolio\",\"Portfolio\",\"Portfolio\",\"Portfolio\",\"Portfolio\",\"Portfolio\",\"Portfolio\",\"Portfolio\",\"Portfolio\",\"Portfolio\",\"Portfolio\",\"Portfolio\",\"Portfolio\",\"Portfolio\",\"Portfolio\",\"Portfolio\",\"Portfolio\",\"Portfolio\",\"Portfolio\",\"Portfolio\",\"Portfolio\",\"Portfolio\",\"Portfolio\",\"Portfolio\",\"Portfolio\",\"Portfolio\",\"Portfolio\",\"Portfolio\",\"Portfolio\",\"Portfolio\",\"Portfolio\",\"Portfolio\",\"Portfolio\",\"Portfolio\",\"Portfolio\",\"Portfolio\",\"Portfolio\",\"Portfolio\",\"Portfolio\",\"Portfolio\",\"Portfolio\",\"Portfolio\",\"Portfolio\",\"Portfolio\",\"Portfolio\",\"Portfolio\",\"Portfolio\",\"Portfolio\",\"Portfolio\",\"Portfolio\",\"Portfolio\",\"Portfolio\",\"Portfolio\",\"Portfolio\",\"Portfolio\",\"Portfolio\",\"Portfolio\",\"Portfolio\",\"Portfolio\",\"Portfolio\",\"Portfolio\",\"Portfolio\",\"Portfolio\",\"Portfolio\",\"Portfolio\",\"Portfolio\",\"Portfolio\",\"Portfolio\",\"Portfolio\",\"Portfolio\",\"Portfolio\",\"Portfolio\",\"Portfolio\",\"Portfolio\",\"Portfolio\",\"Portfolio\",\"Portfolio\",\"Portfolio\",\"Portfolio\",\"Portfolio\",\"Portfolio\",\"Portfolio\",\"Portfolio\",\"Portfolio\",\"Portfolio\",\"Portfolio\",\"Portfolio\",\"Portfolio\",\"Portfolio\",\"Portfolio\",\"Portfolio\",\"Portfolio\",\"Portfolio\",\"Portfolio\",\"Portfolio\",\"Portfolio\",\"Portfolio\",\"Portfolio\",\"Portfolio\",\"Portfolio\",\"Portfolio\",\"Portfolio\",\"Portfolio\",\"Portfolio\",\"Portfolio\",\"Portfolio\",\"Portfolio\",\"Portfolio\",\"Portfolio\",\"Portfolio\",\"Portfolio\",\"Portfolio\",\"Portfolio\",\"Portfolio\",\"Portfolio\",\"Portfolio\",\"Portfolio\",\"Portfolio\",\"Portfolio\",\"Portfolio\",\"Portfolio\",\"Portfolio\",\"Portfolio\",\"Portfolio\",\"Portfolio\",\"Portfolio\",\"Portfolio\",\"Portfolio\",\"Portfolio\",\"Portfolio\",\"Portfolio\",\"Portfolio\",\"Portfolio\",\"Portfolio\",\"Portfolio\",\"Portfolio\",\"Portfolio\",\"Portfolio\",\"Portfolio\",\"Portfolio\",\"Portfolio\",\"Portfolio\",\"Portfolio\",\"Portfolio\",\"Portfolio\",\"Portfolio\",\"Portfolio\",\"Portfolio\",\"Portfolio\",\"Portfolio\",\"Portfolio\",\"Portfolio\",\"Portfolio\",\"Portfolio\",\"Portfolio\",\"Portfolio\",\"Portfolio\",\"Portfolio\",\"Portfolio\",\"Portfolio\",\"Portfolio\",\"Portfolio\",\"Portfolio\",\"Portfolio\",\"Portfolio\",\"Portfolio\",\"Portfolio\",\"Portfolio\",\"Portfolio\",\"Portfolio\",\"Portfolio\",\"Portfolio\",\"Portfolio\",\"Portfolio\",\"Portfolio\",\"Portfolio\",\"Portfolio\",\"Portfolio\",\"Portfolio\",\"Portfolio\",\"Portfolio\",\"Portfolio\",\"Portfolio\",\"Portfolio\",\"Portfolio\",\"Portfolio\",\"Portfolio\",\"Portfolio\",\"Portfolio\",\"Portfolio\",\"Portfolio\",\"Portfolio\",\"Portfolio\",\"Portfolio\",\"Portfolio\",\"Portfolio\",\"Portfolio\",\"Portfolio\",\"Portfolio\",\"Portfolio\",\"Portfolio\",\"Portfolio\",\"Portfolio\",\"Portfolio\",\"Portfolio\",\"Portfolio\",\"Portfolio\",\"Portfolio\",\"Portfolio\",\"Portfolio\",\"Portfolio\",\"Portfolio\",\"Portfolio\",\"Portfolio\",\"Portfolio\",\"Portfolio\",\"Portfolio\",\"Portfolio\",\"Portfolio\",\"Portfolio\",\"Portfolio\",\"Portfolio\",\"Portfolio\",\"Portfolio\",\"Portfolio\",\"Portfolio\",\"Portfolio\",\"Portfolio\",\"Portfolio\",\"Portfolio\",\"Portfolio\",\"Portfolio\",\"Portfolio\",\"Portfolio\",\"Portfolio\",\"Portfolio\",\"Portfolio\",\"Portfolio\",\"Portfolio\",\"Portfolio\",\"Portfolio\",\"Portfolio\",\"Portfolio\",\"Portfolio\",\"Portfolio\",\"Portfolio\",\"Portfolio\",\"Portfolio\",\"Portfolio\",\"Portfolio\",\"Portfolio\",\"Portfolio\",\"Portfolio\",\"Portfolio\",\"Portfolio\",\"Portfolio\",\"Portfolio\",\"Portfolio\",\"Portfolio\",\"Portfolio\",\"Portfolio\",\"Portfolio\",\"Portfolio\",\"Portfolio\",\"Portfolio\",\"Portfolio\",\"Portfolio\",\"Portfolio\",\"Portfolio\",\"Portfolio\",\"Portfolio\",\"Portfolio\",\"Portfolio\",\"Portfolio\",\"Portfolio\",\"Portfolio\",\"Portfolio\",\"Portfolio\",\"Portfolio\",\"Portfolio\",\"Portfolio\",\"Portfolio\",\"Portfolio\",\"Portfolio\",\"Portfolio\",\"Portfolio\",\"Portfolio\",\"Portfolio\",\"Portfolio\",\"Portfolio\",\"Portfolio\",\"Portfolio\",\"Portfolio\",\"Portfolio\",\"Portfolio\",\"Portfolio\",\"Portfolio\",\"Portfolio\",\"Portfolio\",\"Portfolio\",\"Portfolio\",\"Portfolio\",\"Portfolio\",\"Portfolio\",\"Portfolio\",\"Portfolio\",\"Portfolio\",\"Portfolio\",\"Portfolio\",\"Portfolio\",\"Portfolio\",\"Portfolio\",\"Portfolio\",\"Portfolio\",\"Portfolio\",\"Portfolio\",\"Portfolio\",\"Portfolio\",\"Portfolio\",\"Portfolio\",\"Portfolio\",\"Portfolio\",\"Portfolio\",\"Portfolio\",\"Portfolio\",\"Portfolio\",\"Portfolio\",\"Portfolio\",\"Portfolio\",\"Portfolio\",\"Portfolio\",\"Portfolio\",\"Portfolio\",\"Portfolio\",\"Portfolio\",\"Portfolio\",\"Portfolio\",\"Portfolio\",\"Portfolio\",\"Portfolio\",\"Portfolio\",\"Portfolio\",\"Portfolio\",\"Portfolio\",\"Portfolio\",\"Portfolio\",\"Portfolio\",\"Portfolio\",\"Portfolio\",\"Portfolio\",\"Portfolio\",\"Portfolio\",\"Portfolio\",\"Portfolio\",\"Portfolio\",\"Portfolio\",\"Portfolio\",\"Portfolio\",\"Portfolio\",\"Portfolio\",\"Portfolio\",\"Portfolio\",\"Portfolio\",\"Portfolio\",\"Portfolio\",\"Portfolio\",\"Portfolio\",\"Portfolio\",\"Portfolio\",\"Portfolio\",\"Portfolio\",\"Portfolio\",\"Portfolio\",\"Portfolio\",\"Portfolio\",\"Portfolio\",\"Portfolio\",\"Portfolio\",\"Portfolio\",\"Portfolio\",\"Portfolio\",\"Portfolio\",\"Portfolio\",\"Portfolio\",\"Portfolio\",\"Portfolio\",\"Portfolio\",\"Portfolio\",\"Portfolio\",\"Portfolio\",\"Portfolio\",\"Portfolio\",\"Portfolio\",\"Portfolio\",\"Portfolio\",\"Portfolio\",\"Portfolio\",\"Portfolio\",\"Portfolio\",\"Portfolio\",\"Portfolio\",\"Portfolio\",\"Portfolio\",\"Portfolio\",\"Portfolio\",\"Portfolio\",\"Portfolio\",\"Portfolio\",\"Portfolio\",\"Portfolio\",\"Portfolio\",\"Portfolio\",\"Portfolio\",\"Portfolio\",\"Portfolio\",\"Portfolio\",\"Portfolio\",\"Portfolio\",\"Portfolio\",\"Portfolio\",\"Portfolio\",\"Portfolio\",\"Portfolio\",\"Portfolio\",\"Portfolio\",\"Portfolio\",\"Portfolio\",\"Portfolio\",\"Portfolio\",\"Portfolio\",\"Portfolio\",\"Portfolio\",\"Portfolio\",\"Portfolio\",\"Portfolio\",\"Portfolio\",\"Portfolio\",\"Portfolio\",\"Portfolio\",\"Portfolio\",\"Portfolio\",\"Portfolio\",\"Portfolio\",\"Portfolio\",\"Portfolio\",\"Portfolio\",\"Portfolio\",\"Portfolio\",\"Portfolio\",\"Portfolio\",\"Portfolio\",\"Portfolio\",\"Portfolio\",\"Portfolio\",\"Portfolio\",\"Portfolio\",\"Portfolio\",\"Portfolio\",\"Portfolio\",\"Portfolio\",\"Portfolio\",\"Portfolio\",\"Portfolio\",\"Portfolio\",\"Portfolio\",\"Portfolio\",\"Portfolio\",\"Portfolio\",\"Portfolio\",\"Portfolio\",\"Portfolio\",\"Portfolio\",\"Portfolio\",\"Portfolio\",\"Portfolio\",\"Portfolio\",\"Portfolio\",\"Portfolio\",\"Portfolio\",\"Portfolio\",\"Portfolio\",\"Portfolio\",\"Portfolio\",\"Portfolio\",\"Portfolio\",\"Portfolio\",\"Portfolio\",\"Portfolio\",\"Portfolio\",\"Portfolio\",\"Portfolio\",\"Portfolio\",\"Portfolio\",\"Portfolio\",\"Portfolio\",\"Portfolio\",\"Portfolio\",\"Portfolio\",\"Portfolio\",\"Portfolio\",\"Portfolio\",\"Portfolio\",\"Portfolio\",\"Portfolio\",\"Portfolio\",\"Portfolio\",\"Portfolio\",\"Portfolio\",\"Portfolio\",\"Portfolio\",\"Portfolio\",\"Portfolio\",\"Portfolio\",\"Portfolio\",\"Portfolio\",\"Portfolio\",\"Portfolio\",\"Portfolio\",\"Portfolio\",\"Portfolio\",\"Portfolio\",\"Portfolio\",\"Portfolio\",\"Portfolio\",\"Portfolio\",\"Portfolio\",\"Portfolio\",\"Portfolio\",\"Portfolio\",\"Portfolio\",\"Portfolio\",\"Portfolio\",\"Portfolio\",\"Portfolio\",\"Portfolio\",\"Portfolio\",\"Portfolio\",\"Portfolio\",\"Portfolio\",\"Portfolio\",\"Portfolio\",\"Portfolio\",\"Portfolio\",\"Portfolio\",\"Portfolio\",\"Portfolio\",\"Portfolio\",\"Portfolio\",\"Portfolio\",\"Portfolio\",\"Portfolio\",\"Portfolio\",\"Portfolio\",\"Portfolio\",\"Portfolio\",\"Portfolio\",\"Portfolio\",\"Portfolio\",\"Portfolio\",\"Portfolio\",\"Portfolio\",\"Portfolio\",\"Portfolio\",\"Portfolio\",\"Portfolio\",\"Portfolio\",\"Portfolio\",\"Portfolio\",\"Portfolio\",\"Portfolio\",\"Portfolio\",\"Portfolio\",\"Portfolio\",\"Portfolio\",\"Portfolio\",\"Portfolio\",\"Portfolio\",\"Portfolio\",\"Portfolio\",\"Portfolio\",\"Portfolio\",\"Portfolio\",\"Portfolio\",\"Portfolio\",\"Portfolio\",\"Portfolio\",\"Portfolio\",\"Portfolio\",\"Portfolio\",\"Portfolio\",\"Portfolio\",\"Portfolio\",\"Portfolio\",\"Portfolio\",\"Portfolio\",\"Portfolio\",\"Portfolio\",\"Portfolio\",\"Portfolio\",\"Portfolio\",\"Portfolio\",\"Portfolio\",\"Portfolio\",\"Portfolio\",\"Portfolio\",\"Portfolio\",\"Portfolio\",\"Portfolio\",\"Portfolio\",\"Portfolio\",\"Portfolio\",\"Portfolio\",\"Portfolio\",\"Portfolio\",\"Portfolio\",\"Portfolio\",\"Portfolio\",\"Portfolio\",\"Portfolio\",\"Portfolio\",\"Portfolio\",\"Portfolio\",\"Portfolio\",\"Portfolio\",\"Portfolio\",\"Portfolio\",\"Portfolio\",\"Portfolio\",\"Portfolio\",\"Portfolio\",\"Portfolio\",\"Portfolio\",\"Portfolio\",\"Portfolio\",\"Portfolio\",\"Portfolio\",\"Portfolio\",\"Portfolio\",\"Portfolio\",\"Portfolio\",\"Portfolio\",\"Portfolio\",\"Portfolio\",\"Portfolio\",\"Portfolio\",\"Portfolio\",\"Portfolio\",\"Portfolio\",\"Portfolio\",\"Portfolio\",\"Portfolio\",\"Portfolio\",\"Portfolio\",\"Portfolio\",\"Portfolio\",\"Portfolio\",\"Portfolio\",\"Portfolio\",\"Portfolio\",\"Portfolio\",\"Portfolio\",\"Portfolio\",\"Portfolio\",\"Portfolio\",\"Portfolio\",\"Portfolio\",\"Portfolio\",\"Portfolio\",\"Portfolio\",\"Portfolio\",\"Portfolio\",\"Portfolio\",\"Portfolio\",\"Portfolio\",\"Portfolio\",\"Portfolio\",\"Portfolio\",\"Portfolio\",\"Portfolio\",\"Portfolio\",\"Portfolio\",\"Portfolio\",\"Portfolio\",\"Portfolio\",\"Portfolio\",\"Portfolio\",\"Portfolio\",\"Portfolio\",\"Portfolio\",\"Portfolio\",\"Portfolio\",\"Portfolio\",\"Portfolio\",\"Portfolio\",\"Portfolio\",\"Portfolio\",\"Portfolio\",\"Portfolio\",\"Portfolio\",\"Portfolio\",\"Portfolio\",\"Portfolio\",\"Portfolio\",\"Portfolio\",\"Portfolio\",\"Portfolio\",\"Portfolio\",\"Portfolio\",\"Portfolio\",\"Portfolio\",\"Portfolio\",\"Portfolio\",\"Portfolio\",\"Portfolio\",\"Portfolio\",\"Portfolio\",\"Portfolio\",\"Portfolio\",\"Portfolio\",\"Portfolio\",\"Portfolio\",\"Portfolio\",\"Portfolio\",\"Portfolio\",\"Portfolio\",\"Portfolio\",\"Portfolio\",\"Portfolio\",\"Portfolio\",\"Portfolio\",\"Portfolio\",\"Portfolio\",\"Portfolio\",\"Portfolio\",\"Portfolio\",\"Portfolio\",\"Portfolio\",\"Portfolio\",\"Portfolio\",\"Portfolio\",\"Portfolio\",\"Portfolio\",\"Portfolio\",\"Portfolio\",\"Portfolio\",\"Portfolio\",\"Portfolio\",\"Portfolio\",\"Portfolio\",\"Portfolio\",\"Portfolio\",\"Portfolio\",\"Portfolio\",\"Portfolio\",\"Portfolio\",\"Portfolio\",\"Portfolio\",\"Portfolio\",\"Portfolio\",\"Portfolio\",\"Portfolio\",\"Portfolio\",\"Portfolio\",\"Portfolio\",\"Portfolio\",\"Portfolio\",\"Portfolio\",\"Portfolio\",\"Portfolio\",\"Portfolio\",\"Portfolio\",\"Portfolio\",\"Portfolio\",\"Portfolio\",\"Portfolio\",\"Portfolio\",\"Portfolio\",\"Portfolio\",\"Portfolio\",\"Portfolio\",\"Portfolio\",\"Portfolio\",\"Portfolio\",\"Portfolio\",\"Portfolio\",\"Portfolio\",\"Portfolio\",\"Portfolio\",\"Portfolio\",\"Portfolio\",\"Portfolio\",\"Portfolio\",\"Portfolio\",\"Portfolio\",\"Portfolio\",\"Portfolio\"]]]}}},\"view\":{\"type\":\"object\",\"name\":\"CDSView\",\"id\":\"p1387\",\"attributes\":{\"filter\":{\"type\":\"object\",\"name\":\"AllIndices\",\"id\":\"p1388\"}}},\"glyph\":{\"type\":\"object\",\"name\":\"Line\",\"id\":\"p1383\",\"attributes\":{\"tags\":[\"apply_ranges\"],\"x\":{\"type\":\"field\",\"field\":\"Date\"},\"y\":{\"type\":\"field\",\"field\":\"Value\"},\"line_color\":\"#30a2da\",\"line_width\":2}},\"selection_glyph\":{\"type\":\"object\",\"name\":\"Line\",\"id\":\"p1391\",\"attributes\":{\"tags\":[\"apply_ranges\"],\"x\":{\"type\":\"field\",\"field\":\"Date\"},\"y\":{\"type\":\"field\",\"field\":\"Value\"},\"line_color\":\"#30a2da\",\"line_width\":2}},\"nonselection_glyph\":{\"type\":\"object\",\"name\":\"Line\",\"id\":\"p1384\",\"attributes\":{\"tags\":[\"apply_ranges\"],\"x\":{\"type\":\"field\",\"field\":\"Date\"},\"y\":{\"type\":\"field\",\"field\":\"Value\"},\"line_color\":\"#30a2da\",\"line_alpha\":0.1,\"line_width\":2}},\"muted_glyph\":{\"type\":\"object\",\"name\":\"Line\",\"id\":\"p1385\",\"attributes\":{\"tags\":[\"apply_ranges\"],\"x\":{\"type\":\"field\",\"field\":\"Date\"},\"y\":{\"type\":\"field\",\"field\":\"Value\"},\"line_color\":\"#30a2da\",\"line_alpha\":0.2,\"line_width\":2}}}},{\"type\":\"object\",\"name\":\"GlyphRenderer\",\"id\":\"p1401\",\"attributes\":{\"name\":\"SPY\",\"data_source\":{\"type\":\"object\",\"name\":\"ColumnDataSource\",\"id\":\"p1392\",\"attributes\":{\"selected\":{\"type\":\"object\",\"name\":\"Selection\",\"id\":\"p1393\",\"attributes\":{\"indices\":[],\"line_indices\":[]}},\"selection_policy\":{\"type\":\"object\",\"name\":\"UnionRenderers\",\"id\":\"p1394\"},\"data\":{\"type\":\"map\",\"entries\":[[\"Date\",{\"type\":\"ndarray\",\"array\":{\"type\":\"bytes\",\"data\":\"AACAFJULdkIAAEB65wt2QgAAAOA5DHZCAABAETENdkIAAAB3gw12QgAAwNzVDXZCAACAQigOdkIAAECoeg52QgAAQD/ED3ZCAAAApRYQdkIAAMAKaRB2QgAAgHC7EHZCAADAobIRdkIAAIAHBRJ2QgAAQG1XEnZCAAAA06kSdkIAAMA4/BJ2QgAAAGrzE3ZCAADAz0UUdkIAAIA1mBR2QgAAQJvqFHZCAAAAAT0VdkIAAEAyNBZ2QgAAAJiGFnZCAADA/dgWdkIAAIBjKxd2QgAAQMl9F3ZCAACA+nQYdkIAAEBgxxh2QgAAAMYZGXZCAADAK2wZdkIAAICRvhl2QgAAgCgIG3ZCAABAjlobdkIAAAD0rBt2QgAAwFn/G3ZCAAAAi/YcdkIAAMDwSB12QgAAgFabHXZCAABAvO0ddkIAAAAiQB52QgAAQFM3H3ZCAAAAuYkfdkIAAMAe3B92QgAAgIQuIHZCAABA6oAgdkIAAIAbeCF2QgAAQIHKIXZCAAAA5xwidkIAAMBMbyJ2QgAAgLLBInZCAADA47gjdkIAAIBJCyR2QgAAQK9dJHZCAAAAFbAkdkIAAMB6AiV2QgAAAKz5JXZCAADAEUwmdkIAAIB3niZ2QgAAQN3wJnZCAABAdDoodkIAAADajCh2QgAAwD/fKHZCAACApTEpdkIAAEALhCl2QgAAgDx7KnZCAABAos0qdkIAAAAIICt2QgAAwG1yK3ZCAACA08QrdkIAAMAEvCx2QgAAgGoOLXZCAABA0GAtdkIAAAA2sy12QgAAwJsFLnZCAAAAzfwudkIAAMAyTy92QgAAgJihL3ZCAABA/vMvdkIAAABkRjB2QgAAQJU9MXZCAAAA+48xdkIAAMBg4jF2QgAAgMY0MnZCAABALIcydkIAAIBdfjN2QgAAQMPQM3ZCAAAAKSM0dkIAAMCOdTR2QgAAgPTHNHZCAADAJb81dkIAAICLETZ2QgAAQPFjNnZCAAAAV7Y2dkIAAMC8CDd2QgAAAO7/N3ZCAADAU1I4dkIAAIC5pDh2QgAAQB/3OHZCAAAAhUk5dkIAAAAckzp2QgAAwIHlOnZCAACA5zc7dkIAAEBNijt2QgAAgH6BPHZCAABA5NM8dkIAAABKJj12QgAAwK94PXZCAACAFcs9dkIAAMBGwj52QgAAgKwUP3ZCAABAEmc/dkIAAAB4uT92QgAAwN0LQHZCAAAADwNBdkIAAMB0VUF2QgAAgNqnQXZCAABAQPpBdkIAAACmTEJ2QgAAQNdDQ3ZCAAAAPZZDdkIAAMCi6EN2QgAAgAg7RHZCAABAbo1EdkIAAICfhEV2QgAAQAXXRXZCAADA0HtGdkIAAIA2zkZ2QgAAwGfFR3ZCAACAzRdIdkIAAEAzakh2QgAAAJm8SHZCAADA/g5JdkIAAAAwBkp2QgAAwJVYSnZCAACA+6pKdkIAAEBh/Up2QgAAAMdPS3ZCAABA+EZMdkIAAABemUx2QgAAwMPrTHZCAACAKT5NdkIAAECPkE12QgAAgMCHTnZCAABAJtpOdkIAAACMLE92QgAAwPF+T3ZCAACAV9FPdkIAAMCIyFB2QgAAgO4aUXZCAABAVG1RdkIAAAC6v1F2QgAAwB8SUnZCAAAAUQlTdkIAAMC2W1N2QgAAgByuU3ZCAABAggBUdkIAAADoUlR2QgAAQBlKVXZCAAAAf5xVdkIAAMDk7lV2QgAAgEpBVnZCAABAsJNWdkIAAIDhild2QgAAQEfdV3ZCAAAArS9YdkIAAMASglh2QgAAgHjUWHZCAACADx5adkIAAEB1cFp2QgAAANvCWnZCAADAQBVbdkIAAAByDFx2QgAAwNdeXHZCAACAPbFcdkIAAECjA112QgAAAAlWXXZCAABAOk1edkIAAACgn152QgAAwAXyXnZCAACAa0RfdkIAAEDRll92QgAAgAKOYHZCAABAaOBgdkIAAADOMmF2QgAAwDOFYXZCAACAmddhdkIAAMDKzmJ2QgAAgDAhY3ZCAABAlnNjdkIAAAD8xWN2QgAAwGEYZHZCAAAAkw9ldkIAAMD4YWV2QgAAgF60ZXZCAABAxAZmdkIAAAAqWWZ2QgAAQFtQZ3ZCAAAAwaJndkIAAMAm9Wd2QgAAgIxHaHZCAABA8plodkIAAIAjkWl2QgAAQInjaXZCAAAA7zVqdkIAAMBUiGp2QgAAgLraanZCAADA69FrdkIAAIBRJGx2QgAAQLd2bHZCAAAAHclsdkIAAMCCG212QgAAALQSbnZCAADAGWVudkIAAIB/t252QgAAQOUJb3ZCAAAAS1xvdkIAAEB8U3B2QgAAAOKlcHZCAADAR/hwdkIAAICtSnF2QgAAQBOdcXZCAACARJRydkIAAECq5nJ2QgAAABA5c3ZCAACA291zdkIAAMAM1XR2QgAAgHIndXZCAABA2Hl1dkIAAAA+zHV2QgAAwKMednZCAAAA1RV3dkIAAMA6aHd2QgAAQAYNeHZCAAAAbF94dkIAAECdVnl2QgAAAAOpeXZCAADAaPt5dkIAAIDOTXp2QgAAQDSgenZCAACAZZd7dkIAAEDL6Xt2QgAAADE8fHZCAADAlo58dkIAAID84Hx2QgAAwC3YfXZCAABA+Xx+dkIAAABfz352QgAAwMQhf3ZCAAAA9hiAdkIAAIDBvYB2QgAAQCcQgXZCAAAAjWKBdkIAAEC+WYJ2QgAAACSsgnZCAADAif6CdkIAAIDvUIN2QgAAQFWjg3ZCAACAhpqEdkIAAEDs7IR2QgAAAFI/hXZCAADAt5GFdkIAAIAd5IV2QgAAgLQth3ZCAABAGoCHdkIAAACA0od2QgAAwOUkiHZCAAAAFxyJdkIAAMB8bol2QgAAgOLAiXZCAABASBOKdkIAAACuZYp2QgAAQN9ci3ZCAAAARa+LdkIAAMCqAYx2QgAAgBBUjHZCAABAdqaMdkIAAICnnY12QgAAQA3wjXZCAAAAc0KOdkIAAMDYlI52QgAAgD7njnZCAACA1TCQdkIAAEA7g5B2QgAAAKHVkHZCAADABiiRdkIAAAA4H5J2QgAAwJ1xknZCAACAA8SSdkIAAEBpFpN2QgAAAM9ok3ZCAABAAGCUdkIAAABmspR2QgAAwMsElXZCAACAMVeVdkIAAECXqZV2QgAAgMiglnZCAABALvOWdkIAAACURZd2QgAAwPmXl3ZCAACAX+qXdkIAAMCQ4Zh2QgAAgPYzmXZCAABAXIaZdkIAAADC2Jl2QgAAwCcrmnZCAAAAWSKbdkIAAMC+dJt2QgAAgCTHm3ZCAABAihmcdkIAAADwa5x2QgAAQCFjnXZCAAAAh7WddkIAAMDsB552QgAAgFJannZCAABAuKyedkIAAIDpo592QgAAQE/2n3ZCAAAAtUigdkIAAMAam6B2QgAAgIDtoHZCAADAseShdkIAAIAXN6J2QgAAQH2JonZCAAAA49uidkIAAAB6JaR2QgAAwN93pHZCAACARcqkdkIAAECrHKV2QgAAABFvpXZCAABAQmamdkIAAACouKZ2QgAAwA0Lp3ZCAACAc12ndkIAAEDZr6d2QgAAgAqnqHZCAABAcPmodkIAAADWS6l2QgAAwDueqXZCAACAofCpdkIAAMDS56p2QgAAgDg6q3ZCAABAnoyrdkIAAAAE36t2QgAAwGkxrHZCAAAAmyitdkIAAMAAe612QgAAgGbNrXZCAABAzB+udkIAAAAycq52QgAAAMm7r3ZCAADALg6wdkIAAICUYLB2QgAAQPqysHZCAACAK6qxdkIAAECR/LF2QgAAAPdOsnZCAADAXKGydkIAAIDC87J2QgAAwPPqs3ZCAACAWT20dkIAAEC/j7R2QgAAACXitHZCAADAijS1dkIAAAC8K7Z2QgAAwCF+tnZCAACAh9C2dkIAAEDtIrd2QgAAAFN1t3ZCAABAhGy4dkIAAADqvrh2QgAAwE8RuXZCAACAtWO5dkIAAEAbtrl2QgAAgEytunZCAABAsv+6dkIAAAAYUrt2QgAAgOP2u3ZCAADAFO68dkIAAIB6QL12QgAAQOCSvXZCAAAARuW9dkIAAMCrN752QgAAAN0uv3ZCAADAQoG/dkIAAICo0792QgAAQA4mwHZCAAAAdHjAdkIAAEClb8F2QgAAAAvCwXZCAADAcBTCdkIAAIDWZsJ2QgAAQDy5wnZCAACAbbDDdkIAAEDTAsR2QgAAADlVxHZCAADAnqfEdkIAAIAE+sR2QgAAwDXxxXZCAACAm0PGdkIAAEABlsZ2QgAAAGfoxnZCAADAzDrHdkIAAAD+Mch2QgAAwGOEyHZCAACAydbIdkIAAEAvKcl2QgAAAJV7yXZCAABAxnLKdkIAAAAsxcp2QgAAwJEXy3ZCAACA92nLdkIAAEBdvMt2QgAAgI6zzHZCAABA9AXNdkIAAABaWM12QgAAwL+qzXZCAACAJf3NdkIAAIC8Rs92QgAAQCKZz3ZCAAAAiOvPdkIAAMDtPdB2QgAAAB810XZCAADAhIfRdkIAAIDq2dF2QgAAQFAs0nZCAAAAtn7SdkIAAEDnddN2QgAAAE3I03ZCAADAshrUdkIAAIAYbdR2QgAAQH6/1HZCAACAr7bVdkIAAEAVCdZ2QgAAAHtb1nZCAADA4K3WdkIAAIBGANd2QgAAwHf313ZCAACA3UnYdkIAAEBDnNh2QgAAAKnu2HZCAADADkHZdkIAAABAONp2QgAAwKWK2nZCAACAC93adkIAAEBxL9t2QgAAANeB23ZCAABACHncdkIAAABuy9x2QgAAwNMd3XZCAACAOXDddkIAAECfwt12QgAAgNC53nZCAABANgzfdkIAAACcXt92QgAAwAGx33ZCAACAZwPgdkIAAMCY+uB2QgAAgP5M4XZCAABAZJ/hdkIAAADK8eF2QgAAwC9E4nZCAAAAYTvjdkIAAMDGjeN2QgAAgCzg43ZCAABAkjLkdkIAAAD4hOR2QgAAQCl85XZCAAAAj87ldkIAAMD0IOZ2QgAAgFpz5nZCAABAwMXmdkIAAIDxvOd2QgAAQFcP6HZCAAAAvWHodkIAAMAitOh2QgAAgIgG6XZCAADAuf3pdkIAAIAfUOp2QgAAQIWi6nZCAADAUEfrdkIAAACCPux2QgAAwOeQ7HZCAACATePsdkIAAECzNe12QgAAABmI7XZCAABASn/udkIAAACw0e52QgAAwBUk73ZCAACAe3bvdkIAAEDhyO92QgAAgBLA8HZCAABAeBLxdkIAAADeZPF2QgAAwEO38XZCAACAqQnydkIAAMDaAPN2QgAAgEBT83ZCAAAADPjzdkIAAMBxSvR2QgAAAKNB9XZCAADACJT1dkIAAEDUOPZ2QgAAADqL9nZCAABAa4L3dkIAAADR1Pd2QgAAwDYn+HZCAACAnHn4dkIAAEACzPh2QgAAgDPD+XZCAABAmRX6dkIAAAD/Z/p2QgAAwGS6+nZCAACAygz7dkIAAIBhVvx2QgAAQMeo/HZCAAAALfv8dkIAAMCSTf12QgAAAMRE/nZCAADAKZf+dkIAAICP6f52QgAAQPU7/3ZCAAAAW47/dkIAAECMhQB3QgAAAPLXAHdCAADAVyoBd0IAAIC9fAF3QgAAQCPPAXdCAACAVMYCd0IAAEC6GAN3QgAAACBrA3dCAADAhb0Dd0IAAIDrDwR3QgAAgIJZBXdCAABA6KsFd0IAAABO/gV3QgAAwLNQBndCAAAA5UcHd0IAAMBKmgd3QgAAgLDsB3dCAABAFj8Id0IAAAB8kQh3QgAAQK2ICXdCAAAAE9sJd0IAAMB4LQp3QgAAgN5/CndCAABARNIKd0IAAIB1yQt3QgAAQNsbDHdCAAAAQW4Md0IAAMCmwAx3QgAAgAwTDXdCAADAPQoOd0IAAICjXA53QgAAQAmvDndCAAAAbwEPd0IAAMDUUw93QgAAAAZLEHdCAADAa50Qd0IAAIDR7xB3QgAAQDdCEXdCAAAAnZQRd0IAAEDOixJ3QgAAADTeEndCAADAmTATd0IAAID/ghN3QgAAQGXVE3dCAACAlswUd0IAAED8HhV3QgAAAGJxFXdCAADAx8MVd0IAAMBeDRd3QgAAgMRfF3dCAABAKrIXd0IAAACQBBh3QgAAwPVWGHdCAAAAJ04Zd0IAAMCMoBl3QgAAgPLyGXdCAABAWEUad0IAAAC+lxp3QgAAQO+OG3dCAAAAVeEbd0IAAMC6Mxx3QgAAgCCGHHdCAABAhtgcd0IAAIC3zx13QgAAQB0iHndCAAAAg3Qed0IAAMDoxh53QgAAgE4ZH3dCAADAfxAgd0IAAIDlYiB3QgAAQEu1IHdCAAAAsQchd0IAAMAWWiF3QgAAAEhRIndCAADAraMid0IAAIAT9iJ3QgAAQHlII3dCAAAA35ojd0IAAAB25CR3QgAAwNs2JXdCAACAQYkld0IAAECn2yV3QgAAgNjSJndCAABAPiUnd0IAAACkdyd3QgAAwAnKJ3dCAACAbxwod0IAAMCgEyl3QgAAgAZmKXdCAABAbLgpd0IAAADSCip3QgAAwDddKndCAAAAaVQrd0IAAMDOpit3QgAAgDT5K3dCAABAmkssd0IAAAAAnix3QgAAQDGVLXdCAAAAl+ctd0IAAMD8OS53QgAAgGKMLndCAABAyN4ud0IAAID51S93QgAAQF8oMHdCAAAAxXowd0IAAMAqzTB3QgAAwMEWMndCAACAJ2kyd0IAAECNuzJ3QgAAAPMNM3dCAADAWGAzd0IAAACKVzR3QgAAwO+pNHdCAACAVfw0d0IAAEC7TjV3QgAAACGhNXdCAABAUpg2d0IAAAC46jZ3QgAAwB09N3dCAACAg483d0IAAEDp4Td3QgAAgBrZOHdCAABAgCs5d0IAAADmfTl3QgAAwEvQOXdCAACAsSI6d0IAAMDiGTt3QgAAgEhsO3dCAABArr47d0IAAAAUETx3QgAAwHljPHdCAAAAq1o9d0IAAMAQrT13QgAAgHb/PXdCAABA3FE+d0IAAABCpD53QgAAQHObP3dCAAAA2e0/d0IAAMA+QEB3QgAAgKSSQHdCAABACuVAd0IAAIA73EF3QgAAQKEuQndCAAAAB4FCd0IAAMBs00J3QgAAgNIlQ3dCAADAAx1Ed0IAAIBpb0R3QgAAQM/BRHdCAAAANRRFd0IAAMCaZkV3QgAAwDGwRndCAACAlwJHd0IAAED9VEd3QgAAAGOnR3dCAABAlJ5Id0IAAAD68Eh3QgAAwF9DSXdCAACAxZVJd0IAAEAr6El3QgAAgFzfSndCAABAwjFLd0IAAAAohEt3QgAAwI3WS3dCAACA8yhMd0IAAMAkIE13QgAAgIpyTXdCAABA8MRNd0IAAABWF053QgAAwLtpTndCAAAA7WBPd0IAAMBSs093QgAAgLgFUHdCAABAHlhQd0IAAACEqlB3QgAAQLWhUXdCAAAAG/RRd0IAAMCARlJ3QgAAgOaYUndCAABATOtSd0IAAIB94lN3QgAAQOM0VHdCAAAASYdUd0IAAMCu2VR3QgAAgBQsVXdCAADARSNWd0IAAICrdVZ3QgAAQBHIVndCAAAAdxpXd0IAAMDcbFd3QgAAAA5kWHdCAADAc7ZYd0IAAIDZCFl3QgAAQD9bWXdCAAAApa1Zd0IAAEDWpFp3QgAAADz3WndCAADAoUlbd0IAAIAHnFt3QgAAQG3uW3dCAACAnuVcd0IAAEAEOF13QgAAAGqKXXdCAADAz9xdd0IAAIA1L153QgAAwGYmX3dCAACAzHhfd0IAAEAyy193QgAAwP1vYHdCAAAAL2dhd0IAAMCUuWF3QgAAgPoLYndCAABAYF5id0IAAADGsGJ3QgAAQPenY3dCAAAAXfpjd0IAAMDCTGR3QgAAgCifZHdCAABAjvFkd0IAAIC/6GV3QgAAQCU7ZndCAAAAi41md0IAAMDw32Z3QgAAgFYyZ3dCAADAhylod0IAAIDte2h3QgAAQFPOaHdCAAAAuSBpd0IAAABQamp3QgAAwLW8andCAACAGw9rd0IAAECBYWt3QgAAQBirbHdCAAAAfv1sd0IAAMDjT213QgAAgEmibXdCAABAr/Rtd0IAAIDg6253QgAAQEY+b3dCAAAArJBvd0IAAMAR4293QgAAgHc1cHdCAACADn9xd0IAAEB00XF3QgAAANojcndCAADAP3Zyd0IAAABxbXN3QgAAwNa/c3dCAACAPBJ0d0IAAECiZHR3QgAAAAi3dHdCAABAOa51d0IAAACfAHZ3QgAAwARTdndCAACAaqV2d0IAAEDQ93Z3QgAAgAHvd3dCAABAZ0F4d0IAAADNk3h3QgAAwDLmeHdCAACAmDh5d0IAAIAvgnp3QgAAQJXUendCAAAA+yZ7d0IAAMBgeXt3QgAAAJJwfHdCAADA98J8d0IAAIBdFX13QgAAQMNnfXdCAAAAKbp9d0IAAEBasX53QgAAAMADf3dCAADAJVZ/d0IAAICLqH93QgAAQPH6f3dCAACAIvKAd0IAAECIRIF3QgAAAO6WgXdCAADAU+mBd0IAAIC5O4J3QgAAwOoyg3dCAACAUIWDd0IAAEC214N3QgAAABwqhHdCAADAgXyEd0IAAACzc4V3QgAAwBjGhXdCAACAfhiGd0IAAEDkaoZ3QgAAAEq9hndCAABAe7SHd0IAAADhBoh3QgAAwEZZiHdCAACArKuId0IAAIBD9Yl3QgAAQKlHindCAAAAD5qKd0IAAMB07Ip3QgAAgNo+i3dCAADACzaMd0IAAIBxiIx3QgAAQNfajHdCAAAAPS2Nd0IAAMCif413QgAAANR2jndCAADAOcmOd0IAAICfG493QgAAQAVuj3dCAAAAa8CPd0IAAECct5B3QgAAAAIKkXdCAADAZ1yRd0IAAIDNrpF3QgAAQDMBkndCAACAZPiSd0IAAEDKSpN3QgAAADCdk3dCAADAle+Td0IAAID7QZR3QgAAwCw5lXdCAACAkouVd0IAAED43ZV3QgAAAF4wlndCAADAw4KWd0IAAAD1eZd3QgAAwFrMl3dCAACAwB6Yd0IAAEAmcZh3QgAAAIzDmHdCAABAvbqZd0IAAAAjDZp3QgAAwIhfmndCAACA7rGad0IAAEBUBJt3QgAAQOtNnHdCAAAAUaCcd0IAAMC28px3QgAAgBxFnXdCAADATTyed0IAAICzjp53QgAAQBnhnndCAAAAfzOfd0IAAMDkhZ93QgAAABZ9oHdCAADAe8+gd0IAAIDhIaF3QgAAQEd0oXdCAAAArcahd0IAAEDevaJ3QgAAAEQQo3dCAADAqWKjd0IAAIAPtaN3QgAAQHUHpHdCAACApv6kd0IAAEAMUaV3QgAAAHKjpXdCAADA1/Wld0IAAIA9SKZ3QgAAgNSRp3dCAABAOuSnd0IAAACgNqh3QgAAwAWJqHdCAAAAN4Cpd0IAAMCc0ql3QgAAgAIlqndCAABAaHeqd0IAAADOyap3QgAAQP/Aq3dCAAAAZROsd0IAAMDKZax3QgAAgDC4rHdCAABAlgqtd0IAAIDHAa53QgAAQC1UrndCAAAAk6aud0IAAMD4+K53QgAAgF5Lr3dCAADAj0Kwd0IAAID1lLB3QgAAQFvnsHdCAAAAwTmxd0IAAMAmjLF3QgAAAFiDsndCAADAvdWyd0IAAIAjKLN3QgAAQIl6s3dCAAAA78yzd0IAAEAgxLR3QgAAAIYWtXdCAADA62i1d0IAAIBRu7V3QgAAQLcNtndCAACA6AS3d0IAAEBOV7d3QgAAALSpt3dCAADAGfy3d0IAAIB/Trh3QgAAwLBFuXdCAACAFpi5d0IAAEB86rl3QgAAAOI8undCAADAR4+6d0IAAMDe2Lt3QgAAgEQrvHdCAABAqn28d0IAAAAQ0Lx3QgAAQEHHvXdCAAAApxm+d0IAAMAMbL53QgAAgHK+vndCAABA2BC/d0IAAIAJCMB3QgAAQG9awHdCAAAA1azAd0IAAMA6/8B3QgAAgKBRwXdCAADA0UjCd0IAAIA3m8J3QgAAQJ3twndCAAAAA0DDd0IAAMBoksN3QgAAAJqJxHdCAADA/9vEd0IAAIBlLsV3QgAAQMuAxXdCAAAAMdPFd0IAAEBiysZ3QgAAAMgcx3dCAADALW/Hd0IAAICTwcd3QgAAQPkTyHdCAACAKgvJd0IAAECQXcl3QgAAAPavyXdCAADAWwLKd0IAAIDBVMp3QgAAwPJLy3dCAACAWJ7Ld0IAAEC+8Mt3QgAAACRDzHdCAADAiZXMd0IAAAC7jM13QgAAwCDfzXdCAACAhjHOd0IAAEDsg853QgAAAFLWzndCAABAg83Pd0IAAADpH9B3QgAAwE5y0HdCAACAtMTQd0IAAEAaF9F3QgAAgEsO0ndCAABAsWDSd0IAAAAXs9J3QgAAwHwF03dCAACA4lfTd0IAAMATT9R3QgAAgHmh1HdCAABA3/PUd0IAAMCqmNV3QgAAANyP1ndCAADAQeLWd0IAAICnNNd3QgAAQA2H13dCAAAAc9nXd0IAAECk0Nh3QgAAAAoj2XdCAADAb3XZd0IAAIDVx9l3QgAAQDsa2ndCAACAbBHbd0IAAEDSY9t3QgAAADi223dCAADAnQjcd0IAAIADW9x3QgAAwDRS3XdCAACAmqTdd0IAAEAA9913QgAAAGZJ3ndCAAAA/ZLfd0IAAMBi5d93QgAAgMg34HdCAABALorgd0IAAACU3OB3QgAAQMXT4XdCAAAAKybid0IAAMCQeOJ3QgAAgPbK4ndCAABAXB3jd0IAAICNFOR3QgAAQPNm5HdCAAAAWbnkd0IAAMC+C+V3QgAAgCRe5XdCAACAu6fmd0IAAEAh+uZ3QgAAAIdM53dCAADA7J7nd0IAAAAeluh3QgAAwIPo6HdCAACA6Trpd0IAAEBPjel3QgAAALXf6XdCAABA5tbqd0IAAABMKet3QgAAwLF763dCAACAF87rd0IAAEB9IOx3QgAAgK4X7XdCAABAFGrtd0IAAAB6vO13QgAAwN8O7ndCAACARWHud0IAAMB2WO93QgAAgNyq73dCAABAQv3vd0IAAACoT/B3QgAAwA2i8HdCAADApOvxd0IAAIAKPvJ3QgAAQHCQ8ndCAAAA1uLyd0IAAEAH2vN3QgAAAG0s9HdCAADA0n70d0IAAIA40fR3QgAAQJ4j9XdCAACAzxr2d0IAAEA1bfZ3QgAAAJu/9ndCAADAABL3d0IAAIBmZPd3QgAAwJdb+HdCAACA/a34d0IAAEBjAPl3QgAAAMlS+XdCAADALqX5d0IAAABgnPp3QgAAwMXu+ndCAACAK0H7d0IAAECRk/t3QgAAAPfl+3dCAABAKN38d0IAAACOL/13QgAAwPOB/XdCAACAWdT9d0IAAEC/Jv53QgAAgPAd/3dCAABAVnD/d0IAAAC8wv93QgAAwCEVAHhCAACAh2cAeEIAAMC4XgF4QgAAgB6xAXhCAABAhAMCeEIAAADqVQJ4QgAAAIGfA3hCAADA5vEDeEIAAIBMRAR4QgAAQLKWBHhCAAAAGOkEeEIAAEBJ4AV4QgAAAK8yBnhCAADAFIUGeEIAAIB61wZ4QgAAQOApB3hCAACAESEIeEIAAEB3cwh4QgAAAN3FCHhCAADAQhgJeEIAAICoagl4QgAAwNlhCnhCAACAP7QKeEIAAEClBgt4QgAAAAtZC3hCAADAcKsLeEIAAACiogx4QgAAwAf1DHhCAACAbUcNeEIAAEDTmQ14QgAAADnsDXhCAABAauMOeEIAAADQNQ94QgAAwDWID3hCAACAm9oPeEIAAEABLRB4QgAAQJh2EXhCAAAA/sgReEIAAMBjGxJ4QgAAgMltEnhCAADA+mQTeEIAAIBgtxN4QgAAQMYJFHhCAAAALFwUeEIAAMCRrhR4QgAAAMOlFXhCAADAKPgVeEIAAICOShZ4QgAAQPScFnhCAAAAWu8WeEIAAADxOBh4QgAAwFaLGHhCAACAvN0YeEIAAEAiMBl4QgAAgFMnGnhCAABAuXkaeEIAAAAfzBp4QgAAwIQeG3hCAACA6nAbeEIAAICBuhx4QgAAQOcMHXhCAAAATV8deEIAAMCysR14QgAAAOSoHnhCAADASfseeEIAAICvTR94QgAAQBWgH3hCAAAAe/IfeEIAAECs6SB4QgAAABI8IXhCAADAd44heEIAAIDd4CF4QgAAQEMzInhCAACAdCojeEIAAEDafCN4QgAAAEDPI3hCAADApSEkeEIAAIALdCR4QgAAwDxrJXhCAACAor0leEIAAEAIECZ4QgAAAG5iJnhCAADA07QmeEIAAAAFrCd4QgAAwGr+J3hCAACA0FAoeEIAAEA2oyh4QgAAAJz1KHhCAABAzewpeEIAAAAzPyp4QgAAwJiRKnhCAACA/uMqeEIAAEBkNit4QgAAgJUtLHhCAABA+38seEIAAABh0ix4QgAAwMYkLXhCAACALHcteEIAAMBdbi54QgAAgMPALnhCAABAKRMveEIAAACPZS94QgAAwPS3L3hCAADAiwExeEIAAIDxUzF4QgAAQFemMXhCAAAAvfgxeEIAAEDu7zJ4QgAAAFRCM3hCAADAuZQzeEIAAIAf5zN4QgAAQIU5NHhCAACAtjA1eEIAAEAcgzV4QgAAAILVNXhCAADA5yc2eEIAAIBNejZ4QgAAwH5xN3hCAACA5MM3eEIAAEBKFjh4QgAAALBoOHhCAADAFbs4eEIAAABHsjl4QgAAwKwEOnhCAACAElc6eEIAAEB4qTp4QgAAAN77OnhCAABAD/M7eEIAAAB1RTx4QgAAwNqXPHhCAACAQOo8eEIAAECmPD14QgAAgNczPnhCAABAPYY+eEIAAACj2D54QgAAwAgrP3hCAACAbn0/eEIAAMCfdEB4QgAAgAXHQHhCAABAaxlBeEIAAADRa0F4QgAAwDa+QXhCAAAAaLVCeEIAAMDNB0N4QgAAgDNaQ3hCAABAmaxDeEIAAAD//kN4QgAAQDD2RHhCAAAAlkhFeEIAAMD7mkV4QgAAgGHtRXhCAABAxz9GeEIAAID4Nkd4QgAAQF6JR3hCAAAAxNtHeEIAAMApLkh4QgAAgI+ASHhCAADAwHdJeEIAAIAmykl4QgAAQIwcSnhCAADAV8FKeEIAAACJuEt4QgAAwO4KTHhCAACAVF1MeEIAAEC6r0x4QgAAACACTXhCAABAUflNeEIAAAC3S054QgAAwByeTnhCAACAgvBOeEIAAEDoQk94QgAAgBk6UHhCAABAf4xQeEIAAADl3lB4QgAAwEoxUXhCAACAsINReEIAAMDhelJ4QgAAgEfNUnhCAABArR9TeEIAAAATclN4QgAAwHjEU3hCAADADw5VeEIAAIB1YFV4QgAAQNuyVXhCAAAAQQVWeEI=\"},\"shape\":[1258],\"dtype\":\"float64\",\"order\":\"little\"}],[\"Value\",{\"type\":\"ndarray\",\"array\":{\"type\":\"bytes\",\"data\":\"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\"},\"shape\":[1258],\"dtype\":\"float64\",\"order\":\"little\"}],[\"Variable\",[\"SPY\",\"SPY\",\"SPY\",\"SPY\",\"SPY\",\"SPY\",\"SPY\",\"SPY\",\"SPY\",\"SPY\",\"SPY\",\"SPY\",\"SPY\",\"SPY\",\"SPY\",\"SPY\",\"SPY\",\"SPY\",\"SPY\",\"SPY\",\"SPY\",\"SPY\",\"SPY\",\"SPY\",\"SPY\",\"SPY\",\"SPY\",\"SPY\",\"SPY\",\"SPY\",\"SPY\",\"SPY\",\"SPY\",\"SPY\",\"SPY\",\"SPY\",\"SPY\",\"SPY\",\"SPY\",\"SPY\",\"SPY\",\"SPY\",\"SPY\",\"SPY\",\"SPY\",\"SPY\",\"SPY\",\"SPY\",\"SPY\",\"SPY\",\"SPY\",\"SPY\",\"SPY\",\"SPY\",\"SPY\",\"SPY\",\"SPY\",\"SPY\",\"SPY\",\"SPY\",\"SPY\",\"SPY\",\"SPY\",\"SPY\",\"SPY\",\"SPY\",\"SPY\",\"SPY\",\"SPY\",\"SPY\",\"SPY\",\"SPY\",\"SPY\",\"SPY\",\"SPY\",\"SPY\",\"SPY\",\"SPY\",\"SPY\",\"SPY\",\"SPY\",\"SPY\",\"SPY\",\"SPY\",\"SPY\",\"SPY\",\"SPY\",\"SPY\",\"SPY\",\"SPY\",\"SPY\",\"SPY\",\"SPY\",\"SPY\",\"SPY\",\"SPY\",\"SPY\",\"SPY\",\"SPY\",\"SPY\",\"SPY\",\"SPY\",\"SPY\",\"SPY\",\"SPY\",\"SPY\",\"SPY\",\"SPY\",\"SPY\",\"SPY\",\"SPY\",\"SPY\",\"SPY\",\"SPY\",\"SPY\",\"SPY\",\"SPY\",\"SPY\",\"SPY\",\"SPY\",\"SPY\",\"SPY\",\"SPY\",\"SPY\",\"SPY\",\"SPY\",\"SPY\",\"SPY\",\"SPY\",\"SPY\",\"SPY\",\"SPY\",\"SPY\",\"SPY\",\"SPY\",\"SPY\",\"SPY\",\"SPY\",\"SPY\",\"SPY\",\"SPY\",\"SPY\",\"SPY\",\"SPY\",\"SPY\",\"SPY\",\"SPY\",\"SPY\",\"SPY\",\"SPY\",\"SPY\",\"SPY\",\"SPY\",\"SPY\",\"SPY\",\"SPY\",\"SPY\",\"SPY\",\"SPY\",\"SPY\",\"SPY\",\"SPY\",\"SPY\",\"SPY\",\"SPY\",\"SPY\",\"SPY\",\"SPY\",\"SPY\",\"SPY\",\"SPY\",\"SPY\",\"SPY\",\"SPY\",\"SPY\",\"SPY\",\"SPY\",\"SPY\",\"SPY\",\"SPY\",\"SPY\",\"SPY\",\"SPY\",\"SPY\",\"SPY\",\"SPY\",\"SPY\",\"SPY\",\"SPY\",\"SPY\",\"SPY\",\"SPY\",\"SPY\",\"SPY\",\"SPY\",\"SPY\",\"SPY\",\"SPY\",\"SPY\",\"SPY\",\"SPY\",\"SPY\",\"SPY\",\"SPY\",\"SPY\",\"SPY\",\"SPY\",\"SPY\",\"SPY\",\"SPY\",\"SPY\",\"SPY\",\"SPY\",\"SPY\",\"SPY\",\"SPY\",\"SPY\",\"SPY\",\"SPY\",\"SPY\",\"SPY\",\"SPY\",\"SPY\",\"SPY\",\"SPY\",\"SPY\",\"SPY\",\"SPY\",\"SPY\",\"SPY\",\"SPY\",\"SPY\",\"SPY\",\"SPY\",\"SPY\",\"SPY\",\"SPY\",\"SPY\",\"SPY\",\"SPY\",\"SPY\",\"SPY\",\"SPY\",\"SPY\",\"SPY\",\"SPY\",\"SPY\",\"SPY\",\"SPY\",\"SPY\",\"SPY\",\"SPY\",\"SPY\",\"SPY\",\"SPY\",\"SPY\",\"SPY\",\"SPY\",\"SPY\",\"SPY\",\"SPY\",\"SPY\",\"SPY\",\"SPY\",\"SPY\",\"SPY\",\"SPY\",\"SPY\",\"SPY\",\"SPY\",\"SPY\",\"SPY\",\"SPY\",\"SPY\",\"SPY\",\"SPY\",\"SPY\",\"SPY\",\"SPY\",\"SPY\",\"SPY\",\"SPY\",\"SPY\",\"SPY\",\"SPY\",\"SPY\",\"SPY\",\"SPY\",\"SPY\",\"SPY\",\"SPY\",\"SPY\",\"SPY\",\"SPY\",\"SPY\",\"SPY\",\"SPY\",\"SPY\",\"SPY\",\"SPY\",\"SPY\",\"SPY\",\"SPY\",\"SPY\",\"SPY\",\"SPY\",\"SPY\",\"SPY\",\"SPY\",\"SPY\",\"SPY\",\"SPY\",\"SPY\",\"SPY\",\"SPY\",\"SPY\",\"SPY\",\"SPY\",\"SPY\",\"SPY\",\"SPY\",\"SPY\",\"SPY\",\"SPY\",\"SPY\",\"SPY\",\"SPY\",\"SPY\",\"SPY\",\"SPY\",\"SPY\",\"SPY\",\"SPY\",\"SPY\",\"SPY\",\"SPY\",\"SPY\",\"SPY\",\"SPY\",\"SPY\",\"SPY\",\"SPY\",\"SPY\",\"SPY\",\"SPY\",\"SPY\",\"SPY\",\"SPY\",\"SPY\",\"SPY\",\"SPY\",\"SPY\",\"SPY\",\"SPY\",\"SPY\",\"SPY\",\"SPY\",\"SPY\",\"SPY\",\"SPY\",\"SPY\",\"SPY\",\"SPY\",\"SPY\",\"SPY\",\"SPY\",\"SPY\",\"SPY\",\"SPY\",\"SPY\",\"SPY\",\"SPY\",\"SPY\",\"SPY\",\"SPY\",\"SPY\",\"SPY\",\"SPY\",\"SPY\",\"SPY\",\"SPY\",\"SPY\",\"SPY\",\"SPY\",\"SPY\",\"SPY\",\"SPY\",\"SPY\",\"SPY\",\"SPY\",\"SPY\",\"SPY\",\"SPY\",\"SPY\",\"SPY\",\"SPY\",\"SPY\",\"SPY\",\"SPY\",\"SPY\",\"SPY\",\"SPY\",\"SPY\",\"SPY\",\"SPY\",\"SPY\",\"SPY\",\"SPY\",\"SPY\",\"SPY\",\"SPY\",\"SPY\",\"SPY\",\"SPY\",\"SPY\",\"SPY\",\"SPY\",\"SPY\",\"SPY\",\"SPY\",\"SPY\",\"SPY\",\"SPY\",\"SPY\",\"SPY\",\"SPY\",\"SPY\",\"SPY\",\"SPY\",\"SPY\",\"SPY\",\"SPY\",\"SPY\",\"SPY\",\"SPY\",\"SPY\",\"SPY\",\"SPY\",\"SPY\",\"SPY\",\"SPY\",\"SPY\",\"SPY\",\"SPY\",\"SPY\",\"SPY\",\"SPY\",\"SPY\",\"SPY\",\"SPY\",\"SPY\",\"SPY\",\"SPY\",\"SPY\",\"SPY\",\"SPY\",\"SPY\",\"SPY\",\"SPY\",\"SPY\",\"SPY\",\"SPY\",\"SPY\",\"SPY\",\"SPY\",\"SPY\",\"SPY\",\"SPY\",\"SPY\",\"SPY\",\"SPY\",\"SPY\",\"SPY\",\"SPY\",\"SPY\",\"SPY\",\"SPY\",\"SPY\",\"SPY\",\"SPY\",\"SPY\",\"SPY\",\"SPY\",\"SPY\",\"SPY\",\"SPY\",\"SPY\",\"SPY\",\"SPY\",\"SPY\",\"SPY\",\"SPY\",\"SPY\",\"SPY\",\"SPY\",\"SPY\",\"SPY\",\"SPY\",\"SPY\",\"SPY\",\"SPY\",\"SPY\",\"SPY\",\"SPY\",\"SPY\",\"SPY\",\"SPY\",\"SPY\",\"SPY\",\"SPY\",\"SPY\",\"SPY\",\"SPY\",\"SPY\",\"SPY\",\"SPY\",\"SPY\",\"SPY\",\"SPY\",\"SPY\",\"SPY\",\"SPY\",\"SPY\",\"SPY\",\"SPY\",\"SPY\",\"SPY\",\"SPY\",\"SPY\",\"SPY\",\"SPY\",\"SPY\",\"SPY\",\"SPY\",\"SPY\",\"SPY\",\"SPY\",\"SPY\",\"SPY\",\"SPY\",\"SPY\",\"SPY\",\"SPY\",\"SPY\",\"SPY\",\"SPY\",\"SPY\",\"SPY\",\"SPY\",\"SPY\",\"SPY\",\"SPY\",\"SPY\",\"SPY\",\"SPY\",\"SPY\",\"SPY\",\"SPY\",\"SPY\",\"SPY\",\"SPY\",\"SPY\",\"SPY\",\"SPY\",\"SPY\",\"SPY\",\"SPY\",\"SPY\",\"SPY\",\"SPY\",\"SPY\",\"SPY\",\"SPY\",\"SPY\",\"SPY\",\"SPY\",\"SPY\",\"SPY\",\"SPY\",\"SPY\",\"SPY\",\"SPY\",\"SPY\",\"SPY\",\"SPY\",\"SPY\",\"SPY\",\"SPY\",\"SPY\",\"SPY\",\"SPY\",\"SPY\",\"SPY\",\"SPY\",\"SPY\",\"SPY\",\"SPY\",\"SPY\",\"SPY\",\"SPY\",\"SPY\",\"SPY\",\"SPY\",\"SPY\",\"SPY\",\"SPY\",\"SPY\",\"SPY\",\"SPY\",\"SPY\",\"SPY\",\"SPY\",\"SPY\",\"SPY\",\"SPY\",\"SPY\",\"SPY\",\"SPY\",\"SPY\",\"SPY\",\"SPY\",\"SPY\",\"SPY\",\"SPY\",\"SPY\",\"SPY\",\"SPY\",\"SPY\",\"SPY\",\"SPY\",\"SPY\",\"SPY\",\"SPY\",\"SPY\",\"SPY\",\"SPY\",\"SPY\",\"SPY\",\"SPY\",\"SPY\",\"SPY\",\"SPY\",\"SPY\",\"SPY\",\"SPY\",\"SPY\",\"SPY\",\"SPY\",\"SPY\",\"SPY\",\"SPY\",\"SPY\",\"SPY\",\"SPY\",\"SPY\",\"SPY\",\"SPY\",\"SPY\",\"SPY\",\"SPY\",\"SPY\",\"SPY\",\"SPY\",\"SPY\",\"SPY\",\"SPY\",\"SPY\",\"SPY\",\"SPY\",\"SPY\",\"SPY\",\"SPY\",\"SPY\",\"SPY\",\"SPY\",\"SPY\",\"SPY\",\"SPY\",\"SPY\",\"SPY\",\"SPY\",\"SPY\",\"SPY\",\"SPY\",\"SPY\",\"SPY\",\"SPY\",\"SPY\",\"SPY\",\"SPY\",\"SPY\",\"SPY\",\"SPY\",\"SPY\",\"SPY\",\"SPY\",\"SPY\",\"SPY\",\"SPY\",\"SPY\",\"SPY\",\"SPY\",\"SPY\",\"SPY\",\"SPY\",\"SPY\",\"SPY\",\"SPY\",\"SPY\",\"SPY\",\"SPY\",\"SPY\",\"SPY\",\"SPY\",\"SPY\",\"SPY\",\"SPY\",\"SPY\",\"SPY\",\"SPY\",\"SPY\",\"SPY\",\"SPY\",\"SPY\",\"SPY\",\"SPY\",\"SPY\",\"SPY\",\"SPY\",\"SPY\",\"SPY\",\"SPY\",\"SPY\",\"SPY\",\"SPY\",\"SPY\",\"SPY\",\"SPY\",\"SPY\",\"SPY\",\"SPY\",\"SPY\",\"SPY\",\"SPY\",\"SPY\",\"SPY\",\"SPY\",\"SPY\",\"SPY\",\"SPY\",\"SPY\",\"SPY\",\"SPY\",\"SPY\",\"SPY\",\"SPY\",\"SPY\",\"SPY\",\"SPY\",\"SPY\",\"SPY\",\"SPY\",\"SPY\",\"SPY\",\"SPY\",\"SPY\",\"SPY\",\"SPY\",\"SPY\",\"SPY\",\"SPY\",\"SPY\",\"SPY\",\"SPY\",\"SPY\",\"SPY\",\"SPY\",\"SPY\",\"SPY\",\"SPY\",\"SPY\",\"SPY\",\"SPY\",\"SPY\",\"SPY\",\"SPY\",\"SPY\",\"SPY\",\"SPY\",\"SPY\",\"SPY\",\"SPY\",\"SPY\",\"SPY\",\"SPY\",\"SPY\",\"SPY\",\"SPY\",\"SPY\",\"SPY\",\"SPY\",\"SPY\",\"SPY\",\"SPY\",\"SPY\",\"SPY\",\"SPY\",\"SPY\",\"SPY\",\"SPY\",\"SPY\",\"SPY\",\"SPY\",\"SPY\",\"SPY\",\"SPY\",\"SPY\",\"SPY\",\"SPY\",\"SPY\",\"SPY\",\"SPY\",\"SPY\",\"SPY\",\"SPY\",\"SPY\",\"SPY\",\"SPY\",\"SPY\",\"SPY\",\"SPY\",\"SPY\",\"SPY\",\"SPY\",\"SPY\",\"SPY\",\"SPY\",\"SPY\",\"SPY\",\"SPY\",\"SPY\",\"SPY\",\"SPY\",\"SPY\",\"SPY\",\"SPY\",\"SPY\",\"SPY\",\"SPY\",\"SPY\",\"SPY\",\"SPY\",\"SPY\",\"SPY\",\"SPY\",\"SPY\",\"SPY\",\"SPY\",\"SPY\",\"SPY\",\"SPY\",\"SPY\",\"SPY\",\"SPY\",\"SPY\",\"SPY\",\"SPY\",\"SPY\",\"SPY\",\"SPY\",\"SPY\",\"SPY\",\"SPY\",\"SPY\",\"SPY\",\"SPY\",\"SPY\",\"SPY\",\"SPY\",\"SPY\",\"SPY\",\"SPY\",\"SPY\",\"SPY\",\"SPY\",\"SPY\",\"SPY\",\"SPY\",\"SPY\",\"SPY\",\"SPY\",\"SPY\",\"SPY\",\"SPY\",\"SPY\",\"SPY\",\"SPY\",\"SPY\",\"SPY\",\"SPY\",\"SPY\",\"SPY\",\"SPY\",\"SPY\",\"SPY\",\"SPY\",\"SPY\",\"SPY\",\"SPY\",\"SPY\",\"SPY\",\"SPY\",\"SPY\",\"SPY\",\"SPY\",\"SPY\",\"SPY\",\"SPY\",\"SPY\",\"SPY\",\"SPY\",\"SPY\",\"SPY\",\"SPY\",\"SPY\",\"SPY\",\"SPY\",\"SPY\",\"SPY\",\"SPY\",\"SPY\",\"SPY\",\"SPY\",\"SPY\",\"SPY\",\"SPY\",\"SPY\",\"SPY\",\"SPY\",\"SPY\",\"SPY\",\"SPY\",\"SPY\",\"SPY\",\"SPY\",\"SPY\",\"SPY\",\"SPY\",\"SPY\",\"SPY\",\"SPY\",\"SPY\",\"SPY\",\"SPY\",\"SPY\",\"SPY\",\"SPY\",\"SPY\",\"SPY\",\"SPY\",\"SPY\",\"SPY\",\"SPY\",\"SPY\",\"SPY\",\"SPY\",\"SPY\",\"SPY\",\"SPY\",\"SPY\",\"SPY\",\"SPY\",\"SPY\",\"SPY\",\"SPY\",\"SPY\",\"SPY\",\"SPY\",\"SPY\",\"SPY\",\"SPY\",\"SPY\",\"SPY\",\"SPY\",\"SPY\",\"SPY\",\"SPY\",\"SPY\",\"SPY\",\"SPY\",\"SPY\",\"SPY\",\"SPY\",\"SPY\",\"SPY\",\"SPY\",\"SPY\",\"SPY\",\"SPY\",\"SPY\",\"SPY\",\"SPY\",\"SPY\",\"SPY\",\"SPY\",\"SPY\",\"SPY\",\"SPY\",\"SPY\",\"SPY\",\"SPY\",\"SPY\",\"SPY\",\"SPY\",\"SPY\",\"SPY\",\"SPY\",\"SPY\",\"SPY\",\"SPY\",\"SPY\",\"SPY\",\"SPY\",\"SPY\",\"SPY\",\"SPY\",\"SPY\",\"SPY\",\"SPY\",\"SPY\",\"SPY\",\"SPY\",\"SPY\",\"SPY\",\"SPY\",\"SPY\",\"SPY\",\"SPY\",\"SPY\",\"SPY\",\"SPY\",\"SPY\",\"SPY\",\"SPY\",\"SPY\",\"SPY\",\"SPY\",\"SPY\",\"SPY\",\"SPY\",\"SPY\",\"SPY\",\"SPY\",\"SPY\",\"SPY\",\"SPY\",\"SPY\",\"SPY\",\"SPY\",\"SPY\",\"SPY\",\"SPY\",\"SPY\",\"SPY\",\"SPY\",\"SPY\",\"SPY\",\"SPY\",\"SPY\",\"SPY\",\"SPY\",\"SPY\",\"SPY\",\"SPY\",\"SPY\",\"SPY\",\"SPY\",\"SPY\",\"SPY\",\"SPY\",\"SPY\",\"SPY\",\"SPY\",\"SPY\",\"SPY\",\"SPY\",\"SPY\",\"SPY\",\"SPY\",\"SPY\",\"SPY\",\"SPY\",\"SPY\",\"SPY\",\"SPY\",\"SPY\",\"SPY\",\"SPY\",\"SPY\",\"SPY\",\"SPY\",\"SPY\",\"SPY\",\"SPY\",\"SPY\",\"SPY\",\"SPY\",\"SPY\",\"SPY\",\"SPY\",\"SPY\",\"SPY\",\"SPY\",\"SPY\",\"SPY\",\"SPY\",\"SPY\",\"SPY\",\"SPY\",\"SPY\",\"SPY\",\"SPY\",\"SPY\",\"SPY\",\"SPY\",\"SPY\",\"SPY\",\"SPY\",\"SPY\",\"SPY\",\"SPY\",\"SPY\",\"SPY\",\"SPY\",\"SPY\",\"SPY\",\"SPY\",\"SPY\",\"SPY\",\"SPY\",\"SPY\",\"SPY\",\"SPY\",\"SPY\",\"SPY\",\"SPY\",\"SPY\",\"SPY\",\"SPY\",\"SPY\",\"SPY\",\"SPY\",\"SPY\",\"SPY\",\"SPY\",\"SPY\",\"SPY\",\"SPY\",\"SPY\",\"SPY\",\"SPY\",\"SPY\",\"SPY\",\"SPY\",\"SPY\",\"SPY\",\"SPY\",\"SPY\",\"SPY\",\"SPY\",\"SPY\",\"SPY\",\"SPY\",\"SPY\",\"SPY\",\"SPY\",\"SPY\",\"SPY\",\"SPY\",\"SPY\",\"SPY\",\"SPY\",\"SPY\",\"SPY\",\"SPY\",\"SPY\",\"SPY\",\"SPY\",\"SPY\",\"SPY\",\"SPY\",\"SPY\",\"SPY\",\"SPY\",\"SPY\",\"SPY\",\"SPY\",\"SPY\",\"SPY\",\"SPY\",\"SPY\",\"SPY\",\"SPY\",\"SPY\",\"SPY\",\"SPY\",\"SPY\",\"SPY\",\"SPY\",\"SPY\",\"SPY\",\"SPY\",\"SPY\",\"SPY\",\"SPY\",\"SPY\",\"SPY\",\"SPY\",\"SPY\",\"SPY\",\"SPY\",\"SPY\",\"SPY\",\"SPY\",\"SPY\",\"SPY\",\"SPY\",\"SPY\",\"SPY\",\"SPY\",\"SPY\",\"SPY\",\"SPY\",\"SPY\",\"SPY\",\"SPY\",\"SPY\",\"SPY\",\"SPY\",\"SPY\",\"SPY\",\"SPY\",\"SPY\",\"SPY\",\"SPY\",\"SPY\",\"SPY\",\"SPY\",\"SPY\",\"SPY\",\"SPY\",\"SPY\",\"SPY\",\"SPY\",\"SPY\",\"SPY\",\"SPY\",\"SPY\"]]]}}},\"view\":{\"type\":\"object\",\"name\":\"CDSView\",\"id\":\"p1402\",\"attributes\":{\"filter\":{\"type\":\"object\",\"name\":\"AllIndices\",\"id\":\"p1403\"}}},\"glyph\":{\"type\":\"object\",\"name\":\"Line\",\"id\":\"p1398\",\"attributes\":{\"tags\":[\"apply_ranges\"],\"x\":{\"type\":\"field\",\"field\":\"Date\"},\"y\":{\"type\":\"field\",\"field\":\"Value\"},\"line_color\":\"#fc4f30\",\"line_width\":2}},\"selection_glyph\":{\"type\":\"object\",\"name\":\"Line\",\"id\":\"p1405\",\"attributes\":{\"tags\":[\"apply_ranges\"],\"x\":{\"type\":\"field\",\"field\":\"Date\"},\"y\":{\"type\":\"field\",\"field\":\"Value\"},\"line_color\":\"#fc4f30\",\"line_width\":2}},\"nonselection_glyph\":{\"type\":\"object\",\"name\":\"Line\",\"id\":\"p1399\",\"attributes\":{\"tags\":[\"apply_ranges\"],\"x\":{\"type\":\"field\",\"field\":\"Date\"},\"y\":{\"type\":\"field\",\"field\":\"Value\"},\"line_color\":\"#fc4f30\",\"line_alpha\":0.1,\"line_width\":2}},\"muted_glyph\":{\"type\":\"object\",\"name\":\"Line\",\"id\":\"p1400\",\"attributes\":{\"tags\":[\"apply_ranges\"],\"x\":{\"type\":\"field\",\"field\":\"Date\"},\"y\":{\"type\":\"field\",\"field\":\"Value\"},\"line_color\":\"#fc4f30\",\"line_alpha\":0.2,\"line_width\":2}}}}],\"toolbar\":{\"type\":\"object\",\"name\":\"Toolbar\",\"id\":\"p1345\",\"attributes\":{\"tools\":[{\"type\":\"object\",\"name\":\"WheelZoomTool\",\"id\":\"p1331\",\"attributes\":{\"tags\":[\"hv_created\"],\"zoom_together\":\"none\"}},{\"type\":\"object\",\"name\":\"HoverTool\",\"id\":\"p1332\",\"attributes\":{\"tags\":[\"hv_created\"],\"renderers\":[{\"id\":\"p1386\"},{\"id\":\"p1401\"}],\"tooltips\":[[\"Variable\",\"@{Variable}\"],[\"Date\",\"@{Date}{%F %T}\"],[\"Value\",\"@{Value}\"]],\"formatters\":{\"type\":\"map\",\"entries\":[[\"@{Date}\",\"datetime\"]]}}},{\"type\":\"object\",\"name\":\"SaveTool\",\"id\":\"p1370\"},{\"type\":\"object\",\"name\":\"PanTool\",\"id\":\"p1371\"},{\"type\":\"object\",\"name\":\"BoxZoomTool\",\"id\":\"p1372\",\"attributes\":{\"overlay\":{\"type\":\"object\",\"name\":\"BoxAnnotation\",\"id\":\"p1373\",\"attributes\":{\"syncable\":false,\"level\":\"overlay\",\"visible\":false,\"left_units\":\"canvas\",\"right_units\":\"canvas\",\"bottom_units\":\"canvas\",\"top_units\":\"canvas\",\"line_color\":\"black\",\"line_alpha\":1.0,\"line_width\":2,\"line_dash\":[4,4],\"fill_color\":\"lightgrey\",\"fill_alpha\":0.5}}}},{\"type\":\"object\",\"name\":\"ResetTool\",\"id\":\"p1374\"}],\"active_drag\":{\"id\":\"p1371\"},\"active_scroll\":{\"id\":\"p1331\"}}},\"left\":[{\"type\":\"object\",\"name\":\"LinearAxis\",\"id\":\"p1365\",\"attributes\":{\"ticker\":{\"type\":\"object\",\"name\":\"BasicTicker\",\"id\":\"p1366\",\"attributes\":{\"mantissas\":[1,2,5]}},\"formatter\":{\"type\":\"object\",\"name\":\"PrintfTickFormatter\",\"id\":\"p1376\",\"attributes\":{\"format\":\"%.0f\"}},\"axis_label\":\"Value\",\"major_label_policy\":{\"type\":\"object\",\"name\":\"AllLabels\",\"id\":\"p1368\"}}}],\"above\":[{\"type\":\"object\",\"name\":\"Legend\",\"id\":\"p1389\",\"attributes\":{\"location\":[0,0],\"orientation\":\"horizontal\",\"title\":\"Variable\",\"click_policy\":\"mute\",\"items\":[{\"type\":\"object\",\"name\":\"LegendItem\",\"id\":\"p1390\",\"attributes\":{\"label\":{\"type\":\"value\",\"value\":\"Portfolio\"},\"renderers\":[{\"id\":\"p1386\"}]}},{\"type\":\"object\",\"name\":\"LegendItem\",\"id\":\"p1404\",\"attributes\":{\"label\":{\"type\":\"value\",\"value\":\"SPY\"},\"renderers\":[{\"id\":\"p1401\"}]}}]}}],\"below\":[{\"type\":\"object\",\"name\":\"DatetimeAxis\",\"id\":\"p1348\",\"attributes\":{\"ticker\":{\"type\":\"object\",\"name\":\"DatetimeTicker\",\"id\":\"p1349\",\"attributes\":{\"num_minor_ticks\":5,\"tickers\":[{\"type\":\"object\",\"name\":\"AdaptiveTicker\",\"id\":\"p1350\",\"attributes\":{\"num_minor_ticks\":0,\"mantissas\":[1,2,5],\"max_interval\":500.0}},{\"type\":\"object\",\"name\":\"AdaptiveTicker\",\"id\":\"p1351\",\"attributes\":{\"num_minor_ticks\":0,\"base\":60,\"mantissas\":[1,2,5,10,15,20,30],\"min_interval\":1000.0,\"max_interval\":1800000.0}},{\"type\":\"object\",\"name\":\"AdaptiveTicker\",\"id\":\"p1352\",\"attributes\":{\"num_minor_ticks\":0,\"base\":24,\"mantissas\":[1,2,4,6,8,12],\"min_interval\":3600000.0,\"max_interval\":43200000.0}},{\"type\":\"object\",\"name\":\"DaysTicker\",\"id\":\"p1353\",\"attributes\":{\"days\":[1,2,3,4,5,6,7,8,9,10,11,12,13,14,15,16,17,18,19,20,21,22,23,24,25,26,27,28,29,30,31]}},{\"type\":\"object\",\"name\":\"DaysTicker\",\"id\":\"p1354\",\"attributes\":{\"days\":[1,4,7,10,13,16,19,22,25,28]}},{\"type\":\"object\",\"name\":\"DaysTicker\",\"id\":\"p1355\",\"attributes\":{\"days\":[1,8,15,22]}},{\"type\":\"object\",\"name\":\"DaysTicker\",\"id\":\"p1356\",\"attributes\":{\"days\":[1,15]}},{\"type\":\"object\",\"name\":\"MonthsTicker\",\"id\":\"p1357\",\"attributes\":{\"months\":[0,1,2,3,4,5,6,7,8,9,10,11]}},{\"type\":\"object\",\"name\":\"MonthsTicker\",\"id\":\"p1358\",\"attributes\":{\"months\":[0,2,4,6,8,10]}},{\"type\":\"object\",\"name\":\"MonthsTicker\",\"id\":\"p1359\",\"attributes\":{\"months\":[0,4,8]}},{\"type\":\"object\",\"name\":\"MonthsTicker\",\"id\":\"p1360\",\"attributes\":{\"months\":[0,6]}},{\"type\":\"object\",\"name\":\"YearsTicker\",\"id\":\"p1361\"}]}},\"formatter\":{\"type\":\"object\",\"name\":\"PrintfTickFormatter\",\"id\":\"p1375\",\"attributes\":{\"format\":\"%.0f\"}},\"axis_label\":\"Date\",\"major_label_policy\":{\"type\":\"object\",\"name\":\"AllLabels\",\"id\":\"p1363\"}}}],\"center\":[{\"type\":\"object\",\"name\":\"Grid\",\"id\":\"p1364\",\"attributes\":{\"axis\":{\"id\":\"p1348\"},\"grid_line_color\":null}},{\"type\":\"object\",\"name\":\"Grid\",\"id\":\"p1369\",\"attributes\":{\"dimension\":1,\"axis\":{\"id\":\"p1365\"},\"grid_line_color\":null}}],\"min_border_top\":10,\"min_border_bottom\":10,\"min_border_left\":10,\"min_border_right\":10,\"output_backend\":\"webgl\"}},{\"type\":\"object\",\"name\":\"Spacer\",\"id\":\"p1407\",\"attributes\":{\"name\":\"HSpacer01532\",\"stylesheets\":[\"\\n:host(.pn-loading.pn-arc):before, .pn-loading.pn-arc:before {\\n  background-image: url(\\\"data:image/svg+xml;base64,PHN2ZyB4bWxucz0iaHR0cDovL3d3dy53My5vcmcvMjAwMC9zdmciIHN0eWxlPSJtYXJnaW46IGF1dG87IGJhY2tncm91bmQ6IG5vbmU7IGRpc3BsYXk6IGJsb2NrOyBzaGFwZS1yZW5kZXJpbmc6IGF1dG87IiB2aWV3Qm94PSIwIDAgMTAwIDEwMCIgcHJlc2VydmVBc3BlY3RSYXRpbz0ieE1pZFlNaWQiPiAgPGNpcmNsZSBjeD0iNTAiIGN5PSI1MCIgZmlsbD0ibm9uZSIgc3Ryb2tlPSIjYzNjM2MzIiBzdHJva2Utd2lkdGg9IjEwIiByPSIzNSIgc3Ryb2tlLWRhc2hhcnJheT0iMTY0LjkzMzYxNDMxMzQ2NDE1IDU2Ljk3Nzg3MTQzNzgyMTM4Ij4gICAgPGFuaW1hdGVUcmFuc2Zvcm0gYXR0cmlidXRlTmFtZT0idHJhbnNmb3JtIiB0eXBlPSJyb3RhdGUiIHJlcGVhdENvdW50PSJpbmRlZmluaXRlIiBkdXI9IjFzIiB2YWx1ZXM9IjAgNTAgNTA7MzYwIDUwIDUwIiBrZXlUaW1lcz0iMDsxIj48L2FuaW1hdGVUcmFuc2Zvcm0+ICA8L2NpcmNsZT48L3N2Zz4=\\\");\\n  background-size: auto calc(min(50%, 400px));\\n}\",{\"id\":\"p1324\"},{\"id\":\"p1322\"},{\"id\":\"p1323\"}],\"margin\":0,\"sizing_mode\":\"stretch_width\",\"align\":\"start\"}}]}}],\"defs\":[{\"type\":\"model\",\"name\":\"ReactiveHTML1\"},{\"type\":\"model\",\"name\":\"FlexBox1\",\"properties\":[{\"name\":\"align_content\",\"kind\":\"Any\",\"default\":\"flex-start\"},{\"name\":\"align_items\",\"kind\":\"Any\",\"default\":\"flex-start\"},{\"name\":\"flex_direction\",\"kind\":\"Any\",\"default\":\"row\"},{\"name\":\"flex_wrap\",\"kind\":\"Any\",\"default\":\"wrap\"},{\"name\":\"justify_content\",\"kind\":\"Any\",\"default\":\"flex-start\"}]},{\"type\":\"model\",\"name\":\"FloatPanel1\",\"properties\":[{\"name\":\"config\",\"kind\":\"Any\",\"default\":{\"type\":\"map\"}},{\"name\":\"contained\",\"kind\":\"Any\",\"default\":true},{\"name\":\"position\",\"kind\":\"Any\",\"default\":\"right-top\"},{\"name\":\"offsetx\",\"kind\":\"Any\",\"default\":null},{\"name\":\"offsety\",\"kind\":\"Any\",\"default\":null},{\"name\":\"theme\",\"kind\":\"Any\",\"default\":\"primary\"},{\"name\":\"status\",\"kind\":\"Any\",\"default\":\"normalized\"}]},{\"type\":\"model\",\"name\":\"GridStack1\",\"properties\":[{\"name\":\"mode\",\"kind\":\"Any\",\"default\":\"warn\"},{\"name\":\"ncols\",\"kind\":\"Any\",\"default\":null},{\"name\":\"nrows\",\"kind\":\"Any\",\"default\":null},{\"name\":\"allow_resize\",\"kind\":\"Any\",\"default\":true},{\"name\":\"allow_drag\",\"kind\":\"Any\",\"default\":true},{\"name\":\"state\",\"kind\":\"Any\",\"default\":[]}]},{\"type\":\"model\",\"name\":\"drag1\",\"properties\":[{\"name\":\"slider_width\",\"kind\":\"Any\",\"default\":5},{\"name\":\"slider_color\",\"kind\":\"Any\",\"default\":\"black\"},{\"name\":\"value\",\"kind\":\"Any\",\"default\":50}]},{\"type\":\"model\",\"name\":\"click1\",\"properties\":[{\"name\":\"terminal_output\",\"kind\":\"Any\",\"default\":\"\"},{\"name\":\"debug_name\",\"kind\":\"Any\",\"default\":\"\"},{\"name\":\"clears\",\"kind\":\"Any\",\"default\":0}]},{\"type\":\"model\",\"name\":\"FastWrapper1\",\"properties\":[{\"name\":\"object\",\"kind\":\"Any\",\"default\":null},{\"name\":\"style\",\"kind\":\"Any\",\"default\":null}]},{\"type\":\"model\",\"name\":\"NotificationAreaBase1\",\"properties\":[{\"name\":\"js_events\",\"kind\":\"Any\",\"default\":{\"type\":\"map\"}},{\"name\":\"position\",\"kind\":\"Any\",\"default\":\"bottom-right\"},{\"name\":\"_clear\",\"kind\":\"Any\",\"default\":0}]},{\"type\":\"model\",\"name\":\"NotificationArea1\",\"properties\":[{\"name\":\"js_events\",\"kind\":\"Any\",\"default\":{\"type\":\"map\"}},{\"name\":\"notifications\",\"kind\":\"Any\",\"default\":[]},{\"name\":\"position\",\"kind\":\"Any\",\"default\":\"bottom-right\"},{\"name\":\"_clear\",\"kind\":\"Any\",\"default\":0},{\"name\":\"types\",\"kind\":\"Any\",\"default\":[{\"type\":\"map\",\"entries\":[[\"type\",\"warning\"],[\"background\",\"#ffc107\"],[\"icon\",{\"type\":\"map\",\"entries\":[[\"className\",\"fas fa-exclamation-triangle\"],[\"tagName\",\"i\"],[\"color\",\"white\"]]}]]},{\"type\":\"map\",\"entries\":[[\"type\",\"info\"],[\"background\",\"#007bff\"],[\"icon\",{\"type\":\"map\",\"entries\":[[\"className\",\"fas fa-info-circle\"],[\"tagName\",\"i\"],[\"color\",\"white\"]]}]]}]}]},{\"type\":\"model\",\"name\":\"Notification\",\"properties\":[{\"name\":\"background\",\"kind\":\"Any\",\"default\":null},{\"name\":\"duration\",\"kind\":\"Any\",\"default\":3000},{\"name\":\"icon\",\"kind\":\"Any\",\"default\":null},{\"name\":\"message\",\"kind\":\"Any\",\"default\":\"\"},{\"name\":\"notification_type\",\"kind\":\"Any\",\"default\":null},{\"name\":\"_destroyed\",\"kind\":\"Any\",\"default\":false}]},{\"type\":\"model\",\"name\":\"TemplateActions1\",\"properties\":[{\"name\":\"open_modal\",\"kind\":\"Any\",\"default\":0},{\"name\":\"close_modal\",\"kind\":\"Any\",\"default\":0}]},{\"type\":\"model\",\"name\":\"BootstrapTemplateActions1\",\"properties\":[{\"name\":\"open_modal\",\"kind\":\"Any\",\"default\":0},{\"name\":\"close_modal\",\"kind\":\"Any\",\"default\":0}]},{\"type\":\"model\",\"name\":\"MaterialTemplateActions1\",\"properties\":[{\"name\":\"open_modal\",\"kind\":\"Any\",\"default\":0},{\"name\":\"close_modal\",\"kind\":\"Any\",\"default\":0}]}]}};\n",
       "  var render_items = [{\"docid\":\"7908c92b-64ab-43af-8b39-ec32ed1e92b3\",\"roots\":{\"p1321\":\"a5c9c702-2203-4cf9-a9d4-ad3e811300f4\"},\"root_ids\":[\"p1321\"]}];\n",
       "  var docs = Object.values(docs_json)\n",
       "  if (!docs) {\n",
       "    return\n",
       "  }\n",
       "  const py_version = docs[0].version.replace('rc', '-rc.').replace('.dev', '-dev.')\n",
       "  const is_dev = py_version.indexOf(\"+\") !== -1 || py_version.indexOf(\"-\") !== -1\n",
       "  function embed_document(root) {\n",
       "    var Bokeh = get_bokeh(root)\n",
       "    Bokeh.embed.embed_items_notebook(docs_json, render_items);\n",
       "    for (const render_item of render_items) {\n",
       "      for (const root_id of render_item.root_ids) {\n",
       "\tconst id_el = document.getElementById(root_id)\n",
       "\tif (id_el.children.length && (id_el.children[0].className === 'bk-root')) {\n",
       "\t  const root_el = id_el.children[0]\n",
       "\t  root_el.id = root_el.id + '-rendered'\n",
       "\t}\n",
       "      }\n",
       "    }\n",
       "  }\n",
       "  function get_bokeh(root) {\n",
       "    if (root.Bokeh === undefined) {\n",
       "      return null\n",
       "    } else if (root.Bokeh.version !== py_version && !is_dev) {\n",
       "      if (root.Bokeh.versions === undefined || !root.Bokeh.versions.has(py_version)) {\n",
       "\treturn null\n",
       "      }\n",
       "      return root.Bokeh.versions.get(py_version);\n",
       "    } else if (root.Bokeh.version === py_version) {\n",
       "      return root.Bokeh\n",
       "    }\n",
       "    return null\n",
       "  }\n",
       "  function is_loaded(root) {\n",
       "    var Bokeh = get_bokeh(root)\n",
       "    return (Bokeh != null && Bokeh.Panel !== undefined)\n",
       "  }\n",
       "  if (is_loaded(root)) {\n",
       "    embed_document(root);\n",
       "  } else {\n",
       "    var attempts = 0;\n",
       "    var timer = setInterval(function(root) {\n",
       "      if (is_loaded(root)) {\n",
       "        clearInterval(timer);\n",
       "        embed_document(root);\n",
       "      } else if (document.readyState == \"complete\") {\n",
       "        attempts++;\n",
       "        if (attempts > 200) {\n",
       "          clearInterval(timer);\n",
       "\t  var Bokeh = get_bokeh(root)\n",
       "\t  if (Bokeh == null || Bokeh.Panel == null) {\n",
       "            console.warn(\"Panel: ERROR: Unable to run Panel code because Bokeh or Panel library is missing\");\n",
       "\t  } else {\n",
       "\t    console.warn(\"Panel: WARNING: Attempting to render but not all required libraries could be resolved.\")\n",
       "\t    embed_document(root)\n",
       "\t  }\n",
       "        }\n",
       "      }\n",
       "    }, 25, root)\n",
       "  }\n",
       "})(window);</script>"
      ],
      "text/plain": [
       ":NdOverlay   [Variable]\n",
       "   :Curve   [Date]   (Value)"
      ]
     },
     "execution_count": 35,
     "metadata": {
      "application/vnd.holoviews_exec.v0+json": {
       "id": "p1321"
      }
     },
     "output_type": "execute_result"
    }
   ],
   "source": [
    "user_cr_chart = CanaryFinancialCalculations.cumulative_return_chart(compared_cumulative_returns, 'Portfolio', 'SPY', 'Date')\n",
    "user_cr_chart"
   ]
  },
  {
   "cell_type": "markdown",
   "metadata": {},
   "source": [
    "# Return on Investment Chart"
   ]
  },
  {
   "cell_type": "code",
   "execution_count": 29,
   "metadata": {},
   "outputs": [
    {
     "data": {},
     "metadata": {},
     "output_type": "display_data"
    },
    {
     "data": {
      "application/vnd.holoviews_exec.v0+json": "",
      "text/html": [
       "<div id='p1096'>\n",
       "  <div id=\"f81bb70e-8f9f-4f6e-b786-8eaabdb204c8\" data-root-id=\"p1096\" style=\"display: contents;\"></div>\n",
       "</div>\n",
       "<script type=\"application/javascript\">(function(root) {\n",
       "  var docs_json = {\"a1789da1-2de1-4337-afd0-2d5fee1ad5c8\":{\"version\":\"3.2.1\",\"title\":\"Bokeh Application\",\"roots\":[{\"type\":\"object\",\"name\":\"Row\",\"id\":\"p1096\",\"attributes\":{\"name\":\"Row01048\",\"tags\":[\"embedded\"],\"stylesheets\":[\"\\n:host(.pn-loading.pn-arc):before, .pn-loading.pn-arc:before {\\n  background-image: url(\\\"data:image/svg+xml;base64,PHN2ZyB4bWxucz0iaHR0cDovL3d3dy53My5vcmcvMjAwMC9zdmciIHN0eWxlPSJtYXJnaW46IGF1dG87IGJhY2tncm91bmQ6IG5vbmU7IGRpc3BsYXk6IGJsb2NrOyBzaGFwZS1yZW5kZXJpbmc6IGF1dG87IiB2aWV3Qm94PSIwIDAgMTAwIDEwMCIgcHJlc2VydmVBc3BlY3RSYXRpbz0ieE1pZFlNaWQiPiAgPGNpcmNsZSBjeD0iNTAiIGN5PSI1MCIgZmlsbD0ibm9uZSIgc3Ryb2tlPSIjYzNjM2MzIiBzdHJva2Utd2lkdGg9IjEwIiByPSIzNSIgc3Ryb2tlLWRhc2hhcnJheT0iMTY0LjkzMzYxNDMxMzQ2NDE1IDU2Ljk3Nzg3MTQzNzgyMTM4Ij4gICAgPGFuaW1hdGVUcmFuc2Zvcm0gYXR0cmlidXRlTmFtZT0idHJhbnNmb3JtIiB0eXBlPSJyb3RhdGUiIHJlcGVhdENvdW50PSJpbmRlZmluaXRlIiBkdXI9IjFzIiB2YWx1ZXM9IjAgNTAgNTA7MzYwIDUwIDUwIiBrZXlUaW1lcz0iMDsxIj48L2FuaW1hdGVUcmFuc2Zvcm0+ICA8L2NpcmNsZT48L3N2Zz4=\\\");\\n  background-size: auto calc(min(50%, 400px));\\n}\",{\"type\":\"object\",\"name\":\"ImportedStyleSheet\",\"id\":\"p1099\",\"attributes\":{\"url\":\"https://cdn.holoviz.org/panel/1.2.3/dist/css/loading.css\"}},{\"type\":\"object\",\"name\":\"ImportedStyleSheet\",\"id\":\"p1151\",\"attributes\":{\"url\":\"https://cdn.holoviz.org/panel/1.2.3/dist/css/listpanel.css\"}},{\"type\":\"object\",\"name\":\"ImportedStyleSheet\",\"id\":\"p1097\",\"attributes\":{\"url\":\"https://cdn.holoviz.org/panel/1.2.3/dist/bundled/theme/default.css\"}},{\"type\":\"object\",\"name\":\"ImportedStyleSheet\",\"id\":\"p1098\",\"attributes\":{\"url\":\"https://cdn.holoviz.org/panel/1.2.3/dist/bundled/theme/native.css\"}}],\"min_width\":700,\"margin\":0,\"sizing_mode\":\"stretch_width\",\"align\":\"start\",\"children\":[{\"type\":\"object\",\"name\":\"Spacer\",\"id\":\"p1100\",\"attributes\":{\"name\":\"HSpacer01059\",\"stylesheets\":[\"\\n:host(.pn-loading.pn-arc):before, .pn-loading.pn-arc:before {\\n  background-image: url(\\\"data:image/svg+xml;base64,PHN2ZyB4bWxucz0iaHR0cDovL3d3dy53My5vcmcvMjAwMC9zdmciIHN0eWxlPSJtYXJnaW46IGF1dG87IGJhY2tncm91bmQ6IG5vbmU7IGRpc3BsYXk6IGJsb2NrOyBzaGFwZS1yZW5kZXJpbmc6IGF1dG87IiB2aWV3Qm94PSIwIDAgMTAwIDEwMCIgcHJlc2VydmVBc3BlY3RSYXRpbz0ieE1pZFlNaWQiPiAgPGNpcmNsZSBjeD0iNTAiIGN5PSI1MCIgZmlsbD0ibm9uZSIgc3Ryb2tlPSIjYzNjM2MzIiBzdHJva2Utd2lkdGg9IjEwIiByPSIzNSIgc3Ryb2tlLWRhc2hhcnJheT0iMTY0LjkzMzYxNDMxMzQ2NDE1IDU2Ljk3Nzg3MTQzNzgyMTM4Ij4gICAgPGFuaW1hdGVUcmFuc2Zvcm0gYXR0cmlidXRlTmFtZT0idHJhbnNmb3JtIiB0eXBlPSJyb3RhdGUiIHJlcGVhdENvdW50PSJpbmRlZmluaXRlIiBkdXI9IjFzIiB2YWx1ZXM9IjAgNTAgNTA7MzYwIDUwIDUwIiBrZXlUaW1lcz0iMDsxIj48L2FuaW1hdGVUcmFuc2Zvcm0+ICA8L2NpcmNsZT48L3N2Zz4=\\\");\\n  background-size: auto calc(min(50%, 400px));\\n}\",{\"id\":\"p1099\"},{\"id\":\"p1097\"},{\"id\":\"p1098\"}],\"margin\":0,\"sizing_mode\":\"stretch_width\",\"align\":\"start\"}},{\"type\":\"object\",\"name\":\"Figure\",\"id\":\"p1108\",\"attributes\":{\"width\":700,\"height\":300,\"margin\":[5,10],\"sizing_mode\":\"fixed\",\"align\":\"start\",\"x_range\":{\"type\":\"object\",\"name\":\"FactorRange\",\"id\":\"p1101\",\"attributes\":{\"tags\":[[[\"Compared\",\"Compared\",null]],[]],\"factors\":[\"Portfolio\",\"SPY\"]}},\"y_range\":{\"type\":\"object\",\"name\":\"Range1d\",\"id\":\"p1102\",\"attributes\":{\"tags\":[[[\"Percentage\",\"Percentage\",null]],{\"type\":\"map\",\"entries\":[[\"invert_yaxis\",false],[\"autorange\",false]]}],\"end\":224.07600000000002,\"reset_start\":0.0,\"reset_end\":224.07600000000002}},\"x_scale\":{\"type\":\"object\",\"name\":\"CategoricalScale\",\"id\":\"p1118\"},\"y_scale\":{\"type\":\"object\",\"name\":\"LinearScale\",\"id\":\"p1119\"},\"title\":{\"type\":\"object\",\"name\":\"Title\",\"id\":\"p1111\",\"attributes\":{\"text\":\"Portfolio ROI vs. SPY ROI\",\"text_color\":\"black\",\"text_font_size\":\"12pt\"}},\"renderers\":[{\"type\":\"object\",\"name\":\"GlyphRenderer\",\"id\":\"p1144\",\"attributes\":{\"data_source\":{\"type\":\"object\",\"name\":\"ColumnDataSource\",\"id\":\"p1135\",\"attributes\":{\"selected\":{\"type\":\"object\",\"name\":\"Selection\",\"id\":\"p1136\",\"attributes\":{\"indices\":[],\"line_indices\":[]}},\"selection_policy\":{\"type\":\"object\",\"name\":\"UnionRenderers\",\"id\":\"p1137\"},\"data\":{\"type\":\"map\",\"entries\":[[\"Compared\",[\"Portfolio\",\"SPY\"]],[\"Percentage\",{\"type\":\"ndarray\",\"array\":{\"type\":\"bytes\",\"data\":\"mpmZmZnxaUCF61G4HiVFQA==\"},\"shape\":[2],\"dtype\":\"float64\",\"order\":\"little\"}]]}}},\"view\":{\"type\":\"object\",\"name\":\"CDSView\",\"id\":\"p1145\",\"attributes\":{\"filter\":{\"type\":\"object\",\"name\":\"AllIndices\",\"id\":\"p1146\"}}},\"glyph\":{\"type\":\"object\",\"name\":\"VBar\",\"id\":\"p1141\",\"attributes\":{\"tags\":[\"apply_ranges\"],\"x\":{\"type\":\"field\",\"field\":\"Compared\"},\"width\":{\"type\":\"value\",\"value\":0.8},\"top\":{\"type\":\"field\",\"field\":\"Percentage\"},\"fill_color\":{\"type\":\"value\",\"value\":\"green\"},\"hatch_color\":{\"type\":\"value\",\"value\":\"green\"}}},\"selection_glyph\":{\"type\":\"object\",\"name\":\"VBar\",\"id\":\"p1147\",\"attributes\":{\"tags\":[\"apply_ranges\"],\"x\":{\"type\":\"field\",\"field\":\"Compared\"},\"width\":{\"type\":\"value\",\"value\":0.8},\"bottom\":{\"type\":\"value\",\"value\":0},\"top\":{\"type\":\"field\",\"field\":\"Percentage\"},\"line_color\":{\"type\":\"value\",\"value\":\"black\"},\"line_alpha\":{\"type\":\"value\",\"value\":1.0},\"line_width\":{\"type\":\"value\",\"value\":1},\"line_join\":{\"type\":\"value\",\"value\":\"bevel\"},\"line_cap\":{\"type\":\"value\",\"value\":\"butt\"},\"line_dash\":{\"type\":\"value\",\"value\":[]},\"line_dash_offset\":{\"type\":\"value\",\"value\":0},\"fill_color\":{\"type\":\"value\",\"value\":\"green\"},\"fill_alpha\":{\"type\":\"value\",\"value\":1.0},\"hatch_color\":{\"type\":\"value\",\"value\":\"green\"},\"hatch_alpha\":{\"type\":\"value\",\"value\":1.0},\"hatch_scale\":{\"type\":\"value\",\"value\":12.0},\"hatch_pattern\":{\"type\":\"value\",\"value\":null},\"hatch_weight\":{\"type\":\"value\",\"value\":1.0}}},\"nonselection_glyph\":{\"type\":\"object\",\"name\":\"VBar\",\"id\":\"p1142\",\"attributes\":{\"tags\":[\"apply_ranges\"],\"x\":{\"type\":\"field\",\"field\":\"Compared\"},\"width\":{\"type\":\"value\",\"value\":0.8},\"top\":{\"type\":\"field\",\"field\":\"Percentage\"},\"line_alpha\":{\"type\":\"value\",\"value\":0.1},\"fill_color\":{\"type\":\"value\",\"value\":\"green\"},\"fill_alpha\":{\"type\":\"value\",\"value\":0.1},\"hatch_color\":{\"type\":\"value\",\"value\":\"green\"},\"hatch_alpha\":{\"type\":\"value\",\"value\":0.1}}},\"muted_glyph\":{\"type\":\"object\",\"name\":\"VBar\",\"id\":\"p1143\",\"attributes\":{\"tags\":[\"apply_ranges\"],\"x\":{\"type\":\"field\",\"field\":\"Compared\"},\"width\":{\"type\":\"value\",\"value\":0.8},\"top\":{\"type\":\"field\",\"field\":\"Percentage\"},\"line_alpha\":{\"type\":\"value\",\"value\":0.2},\"fill_color\":{\"type\":\"value\",\"value\":\"green\"},\"fill_alpha\":{\"type\":\"value\",\"value\":0.2},\"hatch_color\":{\"type\":\"value\",\"value\":\"green\"},\"hatch_alpha\":{\"type\":\"value\",\"value\":0.2}}}}}],\"toolbar\":{\"type\":\"object\",\"name\":\"Toolbar\",\"id\":\"p1117\",\"attributes\":{\"tools\":[{\"type\":\"object\",\"name\":\"WheelZoomTool\",\"id\":\"p1106\",\"attributes\":{\"tags\":[\"hv_created\"],\"zoom_together\":\"none\"}},{\"type\":\"object\",\"name\":\"HoverTool\",\"id\":\"p1107\",\"attributes\":{\"tags\":[\"hv_created\"],\"renderers\":[{\"id\":\"p1144\"}],\"tooltips\":[[\"Compared\",\"@{Compared}\"],[\"Percentage\",\"@{Percentage}\"]]}},{\"type\":\"object\",\"name\":\"SaveTool\",\"id\":\"p1130\"},{\"type\":\"object\",\"name\":\"PanTool\",\"id\":\"p1131\"},{\"type\":\"object\",\"name\":\"BoxZoomTool\",\"id\":\"p1132\",\"attributes\":{\"overlay\":{\"type\":\"object\",\"name\":\"BoxAnnotation\",\"id\":\"p1133\",\"attributes\":{\"syncable\":false,\"level\":\"overlay\",\"visible\":false,\"left_units\":\"canvas\",\"right_units\":\"canvas\",\"bottom_units\":\"canvas\",\"top_units\":\"canvas\",\"line_color\":\"black\",\"line_alpha\":1.0,\"line_width\":2,\"line_dash\":[4,4],\"fill_color\":\"lightgrey\",\"fill_alpha\":0.5}}}},{\"type\":\"object\",\"name\":\"ResetTool\",\"id\":\"p1134\"}],\"active_drag\":{\"id\":\"p1131\"},\"active_scroll\":{\"id\":\"p1106\"}}},\"left\":[{\"type\":\"object\",\"name\":\"LinearAxis\",\"id\":\"p1125\",\"attributes\":{\"ticker\":{\"type\":\"object\",\"name\":\"BasicTicker\",\"id\":\"p1126\",\"attributes\":{\"mantissas\":[1,2,5]}},\"formatter\":{\"type\":\"object\",\"name\":\"BasicTickFormatter\",\"id\":\"p1127\"},\"axis_label\":\"Percentage\",\"major_label_policy\":{\"type\":\"object\",\"name\":\"AllLabels\",\"id\":\"p1128\"}}}],\"below\":[{\"type\":\"object\",\"name\":\"CategoricalAxis\",\"id\":\"p1120\",\"attributes\":{\"ticker\":{\"type\":\"object\",\"name\":\"CategoricalTicker\",\"id\":\"p1121\"},\"formatter\":{\"type\":\"object\",\"name\":\"CategoricalTickFormatter\",\"id\":\"p1122\"},\"axis_label\":\"Compared\",\"major_label_policy\":{\"type\":\"object\",\"name\":\"AllLabels\",\"id\":\"p1123\"}}}],\"center\":[{\"type\":\"object\",\"name\":\"Grid\",\"id\":\"p1124\",\"attributes\":{\"axis\":{\"id\":\"p1120\"},\"grid_line_color\":null}},{\"type\":\"object\",\"name\":\"Grid\",\"id\":\"p1129\",\"attributes\":{\"dimension\":1,\"axis\":{\"id\":\"p1125\"},\"grid_line_color\":null}}],\"min_border_top\":10,\"min_border_bottom\":10,\"min_border_left\":10,\"min_border_right\":10,\"output_backend\":\"webgl\"}},{\"type\":\"object\",\"name\":\"Spacer\",\"id\":\"p1149\",\"attributes\":{\"name\":\"HSpacer01062\",\"stylesheets\":[\"\\n:host(.pn-loading.pn-arc):before, .pn-loading.pn-arc:before {\\n  background-image: url(\\\"data:image/svg+xml;base64,PHN2ZyB4bWxucz0iaHR0cDovL3d3dy53My5vcmcvMjAwMC9zdmciIHN0eWxlPSJtYXJnaW46IGF1dG87IGJhY2tncm91bmQ6IG5vbmU7IGRpc3BsYXk6IGJsb2NrOyBzaGFwZS1yZW5kZXJpbmc6IGF1dG87IiB2aWV3Qm94PSIwIDAgMTAwIDEwMCIgcHJlc2VydmVBc3BlY3RSYXRpbz0ieE1pZFlNaWQiPiAgPGNpcmNsZSBjeD0iNTAiIGN5PSI1MCIgZmlsbD0ibm9uZSIgc3Ryb2tlPSIjYzNjM2MzIiBzdHJva2Utd2lkdGg9IjEwIiByPSIzNSIgc3Ryb2tlLWRhc2hhcnJheT0iMTY0LjkzMzYxNDMxMzQ2NDE1IDU2Ljk3Nzg3MTQzNzgyMTM4Ij4gICAgPGFuaW1hdGVUcmFuc2Zvcm0gYXR0cmlidXRlTmFtZT0idHJhbnNmb3JtIiB0eXBlPSJyb3RhdGUiIHJlcGVhdENvdW50PSJpbmRlZmluaXRlIiBkdXI9IjFzIiB2YWx1ZXM9IjAgNTAgNTA7MzYwIDUwIDUwIiBrZXlUaW1lcz0iMDsxIj48L2FuaW1hdGVUcmFuc2Zvcm0+ICA8L2NpcmNsZT48L3N2Zz4=\\\");\\n  background-size: auto calc(min(50%, 400px));\\n}\",{\"id\":\"p1099\"},{\"id\":\"p1097\"},{\"id\":\"p1098\"}],\"margin\":0,\"sizing_mode\":\"stretch_width\",\"align\":\"start\"}}]}}],\"defs\":[{\"type\":\"model\",\"name\":\"ReactiveHTML1\"},{\"type\":\"model\",\"name\":\"FlexBox1\",\"properties\":[{\"name\":\"align_content\",\"kind\":\"Any\",\"default\":\"flex-start\"},{\"name\":\"align_items\",\"kind\":\"Any\",\"default\":\"flex-start\"},{\"name\":\"flex_direction\",\"kind\":\"Any\",\"default\":\"row\"},{\"name\":\"flex_wrap\",\"kind\":\"Any\",\"default\":\"wrap\"},{\"name\":\"justify_content\",\"kind\":\"Any\",\"default\":\"flex-start\"}]},{\"type\":\"model\",\"name\":\"FloatPanel1\",\"properties\":[{\"name\":\"config\",\"kind\":\"Any\",\"default\":{\"type\":\"map\"}},{\"name\":\"contained\",\"kind\":\"Any\",\"default\":true},{\"name\":\"position\",\"kind\":\"Any\",\"default\":\"right-top\"},{\"name\":\"offsetx\",\"kind\":\"Any\",\"default\":null},{\"name\":\"offsety\",\"kind\":\"Any\",\"default\":null},{\"name\":\"theme\",\"kind\":\"Any\",\"default\":\"primary\"},{\"name\":\"status\",\"kind\":\"Any\",\"default\":\"normalized\"}]},{\"type\":\"model\",\"name\":\"GridStack1\",\"properties\":[{\"name\":\"mode\",\"kind\":\"Any\",\"default\":\"warn\"},{\"name\":\"ncols\",\"kind\":\"Any\",\"default\":null},{\"name\":\"nrows\",\"kind\":\"Any\",\"default\":null},{\"name\":\"allow_resize\",\"kind\":\"Any\",\"default\":true},{\"name\":\"allow_drag\",\"kind\":\"Any\",\"default\":true},{\"name\":\"state\",\"kind\":\"Any\",\"default\":[]}]},{\"type\":\"model\",\"name\":\"drag1\",\"properties\":[{\"name\":\"slider_width\",\"kind\":\"Any\",\"default\":5},{\"name\":\"slider_color\",\"kind\":\"Any\",\"default\":\"black\"},{\"name\":\"value\",\"kind\":\"Any\",\"default\":50}]},{\"type\":\"model\",\"name\":\"click1\",\"properties\":[{\"name\":\"terminal_output\",\"kind\":\"Any\",\"default\":\"\"},{\"name\":\"debug_name\",\"kind\":\"Any\",\"default\":\"\"},{\"name\":\"clears\",\"kind\":\"Any\",\"default\":0}]},{\"type\":\"model\",\"name\":\"FastWrapper1\",\"properties\":[{\"name\":\"object\",\"kind\":\"Any\",\"default\":null},{\"name\":\"style\",\"kind\":\"Any\",\"default\":null}]},{\"type\":\"model\",\"name\":\"NotificationAreaBase1\",\"properties\":[{\"name\":\"js_events\",\"kind\":\"Any\",\"default\":{\"type\":\"map\"}},{\"name\":\"position\",\"kind\":\"Any\",\"default\":\"bottom-right\"},{\"name\":\"_clear\",\"kind\":\"Any\",\"default\":0}]},{\"type\":\"model\",\"name\":\"NotificationArea1\",\"properties\":[{\"name\":\"js_events\",\"kind\":\"Any\",\"default\":{\"type\":\"map\"}},{\"name\":\"notifications\",\"kind\":\"Any\",\"default\":[]},{\"name\":\"position\",\"kind\":\"Any\",\"default\":\"bottom-right\"},{\"name\":\"_clear\",\"kind\":\"Any\",\"default\":0},{\"name\":\"types\",\"kind\":\"Any\",\"default\":[{\"type\":\"map\",\"entries\":[[\"type\",\"warning\"],[\"background\",\"#ffc107\"],[\"icon\",{\"type\":\"map\",\"entries\":[[\"className\",\"fas fa-exclamation-triangle\"],[\"tagName\",\"i\"],[\"color\",\"white\"]]}]]},{\"type\":\"map\",\"entries\":[[\"type\",\"info\"],[\"background\",\"#007bff\"],[\"icon\",{\"type\":\"map\",\"entries\":[[\"className\",\"fas fa-info-circle\"],[\"tagName\",\"i\"],[\"color\",\"white\"]]}]]}]}]},{\"type\":\"model\",\"name\":\"Notification\",\"properties\":[{\"name\":\"background\",\"kind\":\"Any\",\"default\":null},{\"name\":\"duration\",\"kind\":\"Any\",\"default\":3000},{\"name\":\"icon\",\"kind\":\"Any\",\"default\":null},{\"name\":\"message\",\"kind\":\"Any\",\"default\":\"\"},{\"name\":\"notification_type\",\"kind\":\"Any\",\"default\":null},{\"name\":\"_destroyed\",\"kind\":\"Any\",\"default\":false}]},{\"type\":\"model\",\"name\":\"TemplateActions1\",\"properties\":[{\"name\":\"open_modal\",\"kind\":\"Any\",\"default\":0},{\"name\":\"close_modal\",\"kind\":\"Any\",\"default\":0}]},{\"type\":\"model\",\"name\":\"BootstrapTemplateActions1\",\"properties\":[{\"name\":\"open_modal\",\"kind\":\"Any\",\"default\":0},{\"name\":\"close_modal\",\"kind\":\"Any\",\"default\":0}]},{\"type\":\"model\",\"name\":\"MaterialTemplateActions1\",\"properties\":[{\"name\":\"open_modal\",\"kind\":\"Any\",\"default\":0},{\"name\":\"close_modal\",\"kind\":\"Any\",\"default\":0}]}]}};\n",
       "  var render_items = [{\"docid\":\"a1789da1-2de1-4337-afd0-2d5fee1ad5c8\",\"roots\":{\"p1096\":\"f81bb70e-8f9f-4f6e-b786-8eaabdb204c8\"},\"root_ids\":[\"p1096\"]}];\n",
       "  var docs = Object.values(docs_json)\n",
       "  if (!docs) {\n",
       "    return\n",
       "  }\n",
       "  const py_version = docs[0].version.replace('rc', '-rc.').replace('.dev', '-dev.')\n",
       "  const is_dev = py_version.indexOf(\"+\") !== -1 || py_version.indexOf(\"-\") !== -1\n",
       "  function embed_document(root) {\n",
       "    var Bokeh = get_bokeh(root)\n",
       "    Bokeh.embed.embed_items_notebook(docs_json, render_items);\n",
       "    for (const render_item of render_items) {\n",
       "      for (const root_id of render_item.root_ids) {\n",
       "\tconst id_el = document.getElementById(root_id)\n",
       "\tif (id_el.children.length && (id_el.children[0].className === 'bk-root')) {\n",
       "\t  const root_el = id_el.children[0]\n",
       "\t  root_el.id = root_el.id + '-rendered'\n",
       "\t}\n",
       "      }\n",
       "    }\n",
       "  }\n",
       "  function get_bokeh(root) {\n",
       "    if (root.Bokeh === undefined) {\n",
       "      return null\n",
       "    } else if (root.Bokeh.version !== py_version && !is_dev) {\n",
       "      if (root.Bokeh.versions === undefined || !root.Bokeh.versions.has(py_version)) {\n",
       "\treturn null\n",
       "      }\n",
       "      return root.Bokeh.versions.get(py_version);\n",
       "    } else if (root.Bokeh.version === py_version) {\n",
       "      return root.Bokeh\n",
       "    }\n",
       "    return null\n",
       "  }\n",
       "  function is_loaded(root) {\n",
       "    var Bokeh = get_bokeh(root)\n",
       "    return (Bokeh != null && Bokeh.Panel !== undefined)\n",
       "  }\n",
       "  if (is_loaded(root)) {\n",
       "    embed_document(root);\n",
       "  } else {\n",
       "    var attempts = 0;\n",
       "    var timer = setInterval(function(root) {\n",
       "      if (is_loaded(root)) {\n",
       "        clearInterval(timer);\n",
       "        embed_document(root);\n",
       "      } else if (document.readyState == \"complete\") {\n",
       "        attempts++;\n",
       "        if (attempts > 200) {\n",
       "          clearInterval(timer);\n",
       "\t  var Bokeh = get_bokeh(root)\n",
       "\t  if (Bokeh == null || Bokeh.Panel == null) {\n",
       "            console.warn(\"Panel: ERROR: Unable to run Panel code because Bokeh or Panel library is missing\");\n",
       "\t  } else {\n",
       "\t    console.warn(\"Panel: WARNING: Attempting to render but not all required libraries could be resolved.\")\n",
       "\t    embed_document(root)\n",
       "\t  }\n",
       "        }\n",
       "      }\n",
       "    }, 25, root)\n",
       "  }\n",
       "})(window);</script>"
      ],
      "text/plain": [
       ":Bars   [Compared]   (Percentage)"
      ]
     },
     "execution_count": 29,
     "metadata": {
      "application/vnd.holoviews_exec.v0+json": {
       "id": "p1096"
      }
     },
     "output_type": "execute_result"
    }
   ],
   "source": [
    "user_roi_chart = CanaryFinancialCalculations.roi_chart(compared_roi, 'Compared', 'Percentage')\n",
    "user_roi_chart"
   ]
  },
  {
   "cell_type": "markdown",
   "metadata": {},
   "source": [
    "# Beta Chart"
   ]
  },
  {
   "cell_type": "code",
   "execution_count": 30,
   "metadata": {},
   "outputs": [
    {
     "data": {},
     "metadata": {},
     "output_type": "display_data"
    },
    {
     "data": {
      "application/vnd.holoviews_exec.v0+json": "",
      "text/html": [
       "<div id='p1154'>\n",
       "  <div id=\"d544827b-160a-4674-b5f5-f31f09fe50b2\" data-root-id=\"p1154\" style=\"display: contents;\"></div>\n",
       "</div>\n",
       "<script type=\"application/javascript\">(function(root) {\n",
       "  var docs_json = {\"bfbfc4bc-2026-4d5d-bd37-8f997fc71f81\":{\"version\":\"3.2.1\",\"title\":\"Bokeh Application\",\"roots\":[{\"type\":\"object\",\"name\":\"Row\",\"id\":\"p1154\",\"attributes\":{\"name\":\"Row01170\",\"tags\":[\"embedded\"],\"stylesheets\":[\"\\n:host(.pn-loading.pn-arc):before, .pn-loading.pn-arc:before {\\n  background-image: url(\\\"data:image/svg+xml;base64,PHN2ZyB4bWxucz0iaHR0cDovL3d3dy53My5vcmcvMjAwMC9zdmciIHN0eWxlPSJtYXJnaW46IGF1dG87IGJhY2tncm91bmQ6IG5vbmU7IGRpc3BsYXk6IGJsb2NrOyBzaGFwZS1yZW5kZXJpbmc6IGF1dG87IiB2aWV3Qm94PSIwIDAgMTAwIDEwMCIgcHJlc2VydmVBc3BlY3RSYXRpbz0ieE1pZFlNaWQiPiAgPGNpcmNsZSBjeD0iNTAiIGN5PSI1MCIgZmlsbD0ibm9uZSIgc3Ryb2tlPSIjYzNjM2MzIiBzdHJva2Utd2lkdGg9IjEwIiByPSIzNSIgc3Ryb2tlLWRhc2hhcnJheT0iMTY0LjkzMzYxNDMxMzQ2NDE1IDU2Ljk3Nzg3MTQzNzgyMTM4Ij4gICAgPGFuaW1hdGVUcmFuc2Zvcm0gYXR0cmlidXRlTmFtZT0idHJhbnNmb3JtIiB0eXBlPSJyb3RhdGUiIHJlcGVhdENvdW50PSJpbmRlZmluaXRlIiBkdXI9IjFzIiB2YWx1ZXM9IjAgNTAgNTA7MzYwIDUwIDUwIiBrZXlUaW1lcz0iMDsxIj48L2FuaW1hdGVUcmFuc2Zvcm0+ICA8L2NpcmNsZT48L3N2Zz4=\\\");\\n  background-size: auto calc(min(50%, 400px));\\n}\",{\"type\":\"object\",\"name\":\"ImportedStyleSheet\",\"id\":\"p1157\",\"attributes\":{\"url\":\"https://cdn.holoviz.org/panel/1.2.3/dist/css/loading.css\"}},{\"type\":\"object\",\"name\":\"ImportedStyleSheet\",\"id\":\"p1223\",\"attributes\":{\"url\":\"https://cdn.holoviz.org/panel/1.2.3/dist/css/listpanel.css\"}},{\"type\":\"object\",\"name\":\"ImportedStyleSheet\",\"id\":\"p1155\",\"attributes\":{\"url\":\"https://cdn.holoviz.org/panel/1.2.3/dist/bundled/theme/default.css\"}},{\"type\":\"object\",\"name\":\"ImportedStyleSheet\",\"id\":\"p1156\",\"attributes\":{\"url\":\"https://cdn.holoviz.org/panel/1.2.3/dist/bundled/theme/native.css\"}}],\"min_width\":820,\"margin\":0,\"sizing_mode\":\"stretch_width\",\"align\":\"start\",\"children\":[{\"type\":\"object\",\"name\":\"Spacer\",\"id\":\"p1158\",\"attributes\":{\"name\":\"HSpacer01181\",\"stylesheets\":[\"\\n:host(.pn-loading.pn-arc):before, .pn-loading.pn-arc:before {\\n  background-image: url(\\\"data:image/svg+xml;base64,PHN2ZyB4bWxucz0iaHR0cDovL3d3dy53My5vcmcvMjAwMC9zdmciIHN0eWxlPSJtYXJnaW46IGF1dG87IGJhY2tncm91bmQ6IG5vbmU7IGRpc3BsYXk6IGJsb2NrOyBzaGFwZS1yZW5kZXJpbmc6IGF1dG87IiB2aWV3Qm94PSIwIDAgMTAwIDEwMCIgcHJlc2VydmVBc3BlY3RSYXRpbz0ieE1pZFlNaWQiPiAgPGNpcmNsZSBjeD0iNTAiIGN5PSI1MCIgZmlsbD0ibm9uZSIgc3Ryb2tlPSIjYzNjM2MzIiBzdHJva2Utd2lkdGg9IjEwIiByPSIzNSIgc3Ryb2tlLWRhc2hhcnJheT0iMTY0LjkzMzYxNDMxMzQ2NDE1IDU2Ljk3Nzg3MTQzNzgyMTM4Ij4gICAgPGFuaW1hdGVUcmFuc2Zvcm0gYXR0cmlidXRlTmFtZT0idHJhbnNmb3JtIiB0eXBlPSJyb3RhdGUiIHJlcGVhdENvdW50PSJpbmRlZmluaXRlIiBkdXI9IjFzIiB2YWx1ZXM9IjAgNTAgNTA7MzYwIDUwIDUwIiBrZXlUaW1lcz0iMDsxIj48L2FuaW1hdGVUcmFuc2Zvcm0+ICA8L2NpcmNsZT48L3N2Zz4=\\\");\\n  background-size: auto calc(min(50%, 400px));\\n}\",{\"id\":\"p1157\"},{\"id\":\"p1155\"},{\"id\":\"p1156\"}],\"margin\":0,\"sizing_mode\":\"stretch_width\",\"align\":\"start\"}},{\"type\":\"object\",\"name\":\"Figure\",\"id\":\"p1166\",\"attributes\":{\"width\":820,\"height\":500,\"margin\":[5,10],\"sizing_mode\":\"fixed\",\"align\":\"start\",\"x_range\":{\"type\":\"object\",\"name\":\"Range1d\",\"id\":\"p1159\",\"attributes\":{\"tags\":[[[\"Date\",\"Date\",null]],[]],\"start\":1517443200000.0,\"end\":1672358400000.0,\"reset_start\":1517443200000.0,\"reset_end\":1672358400000.0}},\"y_range\":{\"type\":\"object\",\"name\":\"Range1d\",\"id\":\"p1160\",\"attributes\":{\"tags\":[[[\"Beta\",\"Beta\",null]],{\"type\":\"map\",\"entries\":[[\"invert_yaxis\",false],[\"autorange\",false]]}],\"start\":-0.07536806151722697,\"end\":2.511404730202644,\"reset_start\":-0.07536806151722697,\"reset_end\":2.511404730202644}},\"x_scale\":{\"type\":\"object\",\"name\":\"LinearScale\",\"id\":\"p1176\"},\"y_scale\":{\"type\":\"object\",\"name\":\"LinearScale\",\"id\":\"p1177\"},\"title\":{\"type\":\"object\",\"name\":\"Title\",\"id\":\"p1169\",\"attributes\":{\"text_color\":\"black\",\"text_font_size\":\"12pt\"}},\"renderers\":[{\"type\":\"object\",\"name\":\"GlyphRenderer\",\"id\":\"p1214\",\"attributes\":{\"data_source\":{\"type\":\"object\",\"name\":\"ColumnDataSource\",\"id\":\"p1205\",\"attributes\":{\"selected\":{\"type\":\"object\",\"name\":\"Selection\",\"id\":\"p1206\",\"attributes\":{\"indices\":[],\"line_indices\":[]}},\"selection_policy\":{\"type\":\"object\",\"name\":\"UnionRenderers\",\"id\":\"p1207\"},\"data\":{\"type\":\"map\",\"entries\":[[\"Date\",{\"type\":\"ndarray\",\"array\":{\"type\":\"bytes\",\"data\":\"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\"},\"shape\":[1238],\"dtype\":\"float64\",\"order\":\"little\"}],[\"Beta\",{\"type\":\"ndarray\",\"array\":{\"type\":\"bytes\",\"data\":\"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\"},\"shape\":[1238],\"dtype\":\"float64\",\"order\":\"little\"}]]}}},\"view\":{\"type\":\"object\",\"name\":\"CDSView\",\"id\":\"p1215\",\"attributes\":{\"filter\":{\"type\":\"object\",\"name\":\"AllIndices\",\"id\":\"p1216\"}}},\"glyph\":{\"type\":\"object\",\"name\":\"Line\",\"id\":\"p1211\",\"attributes\":{\"tags\":[\"apply_ranges\"],\"x\":{\"type\":\"field\",\"field\":\"Date\"},\"y\":{\"type\":\"field\",\"field\":\"Beta\"},\"line_color\":\"#30a2da\",\"line_width\":2}},\"selection_glyph\":{\"type\":\"object\",\"name\":\"Line\",\"id\":\"p1217\",\"attributes\":{\"tags\":[\"apply_ranges\"],\"x\":{\"type\":\"field\",\"field\":\"Date\"},\"y\":{\"type\":\"field\",\"field\":\"Beta\"},\"line_color\":\"#30a2da\",\"line_width\":2}},\"nonselection_glyph\":{\"type\":\"object\",\"name\":\"Line\",\"id\":\"p1212\",\"attributes\":{\"tags\":[\"apply_ranges\"],\"x\":{\"type\":\"field\",\"field\":\"Date\"},\"y\":{\"type\":\"field\",\"field\":\"Beta\"},\"line_color\":\"#30a2da\",\"line_alpha\":0.1,\"line_width\":2}},\"muted_glyph\":{\"type\":\"object\",\"name\":\"Line\",\"id\":\"p1213\",\"attributes\":{\"tags\":[\"apply_ranges\"],\"x\":{\"type\":\"field\",\"field\":\"Date\"},\"y\":{\"type\":\"field\",\"field\":\"Beta\"},\"line_color\":\"#30a2da\",\"line_alpha\":0.2,\"line_width\":2}}}}],\"toolbar\":{\"type\":\"object\",\"name\":\"Toolbar\",\"id\":\"p1175\",\"attributes\":{\"tools\":[{\"type\":\"object\",\"name\":\"WheelZoomTool\",\"id\":\"p1164\",\"attributes\":{\"tags\":[\"hv_created\"],\"zoom_together\":\"none\"}},{\"type\":\"object\",\"name\":\"HoverTool\",\"id\":\"p1165\",\"attributes\":{\"tags\":[\"hv_created\"],\"renderers\":[{\"id\":\"p1214\"}],\"tooltips\":[[\"Date\",\"@{Date}{%F %T}\"],[\"Beta\",\"@{Beta}\"]],\"formatters\":{\"type\":\"map\",\"entries\":[[\"@{Date}\",\"datetime\"]]}}},{\"type\":\"object\",\"name\":\"SaveTool\",\"id\":\"p1200\"},{\"type\":\"object\",\"name\":\"PanTool\",\"id\":\"p1201\"},{\"type\":\"object\",\"name\":\"BoxZoomTool\",\"id\":\"p1202\",\"attributes\":{\"overlay\":{\"type\":\"object\",\"name\":\"BoxAnnotation\",\"id\":\"p1203\",\"attributes\":{\"syncable\":false,\"level\":\"overlay\",\"visible\":false,\"left_units\":\"canvas\",\"right_units\":\"canvas\",\"bottom_units\":\"canvas\",\"top_units\":\"canvas\",\"line_color\":\"black\",\"line_alpha\":1.0,\"line_width\":2,\"line_dash\":[4,4],\"fill_color\":\"lightgrey\",\"fill_alpha\":0.5}}}},{\"type\":\"object\",\"name\":\"ResetTool\",\"id\":\"p1204\"}],\"active_drag\":{\"id\":\"p1201\"},\"active_scroll\":{\"id\":\"p1164\"}}},\"left\":[{\"type\":\"object\",\"name\":\"LinearAxis\",\"id\":\"p1195\",\"attributes\":{\"ticker\":{\"type\":\"object\",\"name\":\"BasicTicker\",\"id\":\"p1196\",\"attributes\":{\"mantissas\":[1,2,5]}},\"formatter\":{\"type\":\"object\",\"name\":\"PrintfTickFormatter\",\"id\":\"p1219\",\"attributes\":{\"format\":\"%.0f\"}},\"axis_label\":\"Beta\",\"major_label_policy\":{\"type\":\"object\",\"name\":\"AllLabels\",\"id\":\"p1198\"}}}],\"below\":[{\"type\":\"object\",\"name\":\"DatetimeAxis\",\"id\":\"p1178\",\"attributes\":{\"ticker\":{\"type\":\"object\",\"name\":\"DatetimeTicker\",\"id\":\"p1179\",\"attributes\":{\"num_minor_ticks\":5,\"tickers\":[{\"type\":\"object\",\"name\":\"AdaptiveTicker\",\"id\":\"p1180\",\"attributes\":{\"num_minor_ticks\":0,\"mantissas\":[1,2,5],\"max_interval\":500.0}},{\"type\":\"object\",\"name\":\"AdaptiveTicker\",\"id\":\"p1181\",\"attributes\":{\"num_minor_ticks\":0,\"base\":60,\"mantissas\":[1,2,5,10,15,20,30],\"min_interval\":1000.0,\"max_interval\":1800000.0}},{\"type\":\"object\",\"name\":\"AdaptiveTicker\",\"id\":\"p1182\",\"attributes\":{\"num_minor_ticks\":0,\"base\":24,\"mantissas\":[1,2,4,6,8,12],\"min_interval\":3600000.0,\"max_interval\":43200000.0}},{\"type\":\"object\",\"name\":\"DaysTicker\",\"id\":\"p1183\",\"attributes\":{\"days\":[1,2,3,4,5,6,7,8,9,10,11,12,13,14,15,16,17,18,19,20,21,22,23,24,25,26,27,28,29,30,31]}},{\"type\":\"object\",\"name\":\"DaysTicker\",\"id\":\"p1184\",\"attributes\":{\"days\":[1,4,7,10,13,16,19,22,25,28]}},{\"type\":\"object\",\"name\":\"DaysTicker\",\"id\":\"p1185\",\"attributes\":{\"days\":[1,8,15,22]}},{\"type\":\"object\",\"name\":\"DaysTicker\",\"id\":\"p1186\",\"attributes\":{\"days\":[1,15]}},{\"type\":\"object\",\"name\":\"MonthsTicker\",\"id\":\"p1187\",\"attributes\":{\"months\":[0,1,2,3,4,5,6,7,8,9,10,11]}},{\"type\":\"object\",\"name\":\"MonthsTicker\",\"id\":\"p1188\",\"attributes\":{\"months\":[0,2,4,6,8,10]}},{\"type\":\"object\",\"name\":\"MonthsTicker\",\"id\":\"p1189\",\"attributes\":{\"months\":[0,4,8]}},{\"type\":\"object\",\"name\":\"MonthsTicker\",\"id\":\"p1190\",\"attributes\":{\"months\":[0,6]}},{\"type\":\"object\",\"name\":\"YearsTicker\",\"id\":\"p1191\"}]}},\"formatter\":{\"type\":\"object\",\"name\":\"PrintfTickFormatter\",\"id\":\"p1218\",\"attributes\":{\"format\":\"%.0f\"}},\"axis_label\":\"Date\",\"major_label_policy\":{\"type\":\"object\",\"name\":\"AllLabels\",\"id\":\"p1193\"}}}],\"center\":[{\"type\":\"object\",\"name\":\"Grid\",\"id\":\"p1194\",\"attributes\":{\"axis\":{\"id\":\"p1178\"},\"grid_line_color\":null}},{\"type\":\"object\",\"name\":\"Grid\",\"id\":\"p1199\",\"attributes\":{\"dimension\":1,\"axis\":{\"id\":\"p1195\"},\"grid_line_color\":null}}],\"min_border_top\":10,\"min_border_bottom\":10,\"min_border_left\":10,\"min_border_right\":10,\"output_backend\":\"webgl\"}},{\"type\":\"object\",\"name\":\"Spacer\",\"id\":\"p1221\",\"attributes\":{\"name\":\"HSpacer01184\",\"stylesheets\":[\"\\n:host(.pn-loading.pn-arc):before, .pn-loading.pn-arc:before {\\n  background-image: url(\\\"data:image/svg+xml;base64,PHN2ZyB4bWxucz0iaHR0cDovL3d3dy53My5vcmcvMjAwMC9zdmciIHN0eWxlPSJtYXJnaW46IGF1dG87IGJhY2tncm91bmQ6IG5vbmU7IGRpc3BsYXk6IGJsb2NrOyBzaGFwZS1yZW5kZXJpbmc6IGF1dG87IiB2aWV3Qm94PSIwIDAgMTAwIDEwMCIgcHJlc2VydmVBc3BlY3RSYXRpbz0ieE1pZFlNaWQiPiAgPGNpcmNsZSBjeD0iNTAiIGN5PSI1MCIgZmlsbD0ibm9uZSIgc3Ryb2tlPSIjYzNjM2MzIiBzdHJva2Utd2lkdGg9IjEwIiByPSIzNSIgc3Ryb2tlLWRhc2hhcnJheT0iMTY0LjkzMzYxNDMxMzQ2NDE1IDU2Ljk3Nzg3MTQzNzgyMTM4Ij4gICAgPGFuaW1hdGVUcmFuc2Zvcm0gYXR0cmlidXRlTmFtZT0idHJhbnNmb3JtIiB0eXBlPSJyb3RhdGUiIHJlcGVhdENvdW50PSJpbmRlZmluaXRlIiBkdXI9IjFzIiB2YWx1ZXM9IjAgNTAgNTA7MzYwIDUwIDUwIiBrZXlUaW1lcz0iMDsxIj48L2FuaW1hdGVUcmFuc2Zvcm0+ICA8L2NpcmNsZT48L3N2Zz4=\\\");\\n  background-size: auto calc(min(50%, 400px));\\n}\",{\"id\":\"p1157\"},{\"id\":\"p1155\"},{\"id\":\"p1156\"}],\"margin\":0,\"sizing_mode\":\"stretch_width\",\"align\":\"start\"}}]}}],\"defs\":[{\"type\":\"model\",\"name\":\"ReactiveHTML1\"},{\"type\":\"model\",\"name\":\"FlexBox1\",\"properties\":[{\"name\":\"align_content\",\"kind\":\"Any\",\"default\":\"flex-start\"},{\"name\":\"align_items\",\"kind\":\"Any\",\"default\":\"flex-start\"},{\"name\":\"flex_direction\",\"kind\":\"Any\",\"default\":\"row\"},{\"name\":\"flex_wrap\",\"kind\":\"Any\",\"default\":\"wrap\"},{\"name\":\"justify_content\",\"kind\":\"Any\",\"default\":\"flex-start\"}]},{\"type\":\"model\",\"name\":\"FloatPanel1\",\"properties\":[{\"name\":\"config\",\"kind\":\"Any\",\"default\":{\"type\":\"map\"}},{\"name\":\"contained\",\"kind\":\"Any\",\"default\":true},{\"name\":\"position\",\"kind\":\"Any\",\"default\":\"right-top\"},{\"name\":\"offsetx\",\"kind\":\"Any\",\"default\":null},{\"name\":\"offsety\",\"kind\":\"Any\",\"default\":null},{\"name\":\"theme\",\"kind\":\"Any\",\"default\":\"primary\"},{\"name\":\"status\",\"kind\":\"Any\",\"default\":\"normalized\"}]},{\"type\":\"model\",\"name\":\"GridStack1\",\"properties\":[{\"name\":\"mode\",\"kind\":\"Any\",\"default\":\"warn\"},{\"name\":\"ncols\",\"kind\":\"Any\",\"default\":null},{\"name\":\"nrows\",\"kind\":\"Any\",\"default\":null},{\"name\":\"allow_resize\",\"kind\":\"Any\",\"default\":true},{\"name\":\"allow_drag\",\"kind\":\"Any\",\"default\":true},{\"name\":\"state\",\"kind\":\"Any\",\"default\":[]}]},{\"type\":\"model\",\"name\":\"drag1\",\"properties\":[{\"name\":\"slider_width\",\"kind\":\"Any\",\"default\":5},{\"name\":\"slider_color\",\"kind\":\"Any\",\"default\":\"black\"},{\"name\":\"value\",\"kind\":\"Any\",\"default\":50}]},{\"type\":\"model\",\"name\":\"click1\",\"properties\":[{\"name\":\"terminal_output\",\"kind\":\"Any\",\"default\":\"\"},{\"name\":\"debug_name\",\"kind\":\"Any\",\"default\":\"\"},{\"name\":\"clears\",\"kind\":\"Any\",\"default\":0}]},{\"type\":\"model\",\"name\":\"FastWrapper1\",\"properties\":[{\"name\":\"object\",\"kind\":\"Any\",\"default\":null},{\"name\":\"style\",\"kind\":\"Any\",\"default\":null}]},{\"type\":\"model\",\"name\":\"NotificationAreaBase1\",\"properties\":[{\"name\":\"js_events\",\"kind\":\"Any\",\"default\":{\"type\":\"map\"}},{\"name\":\"position\",\"kind\":\"Any\",\"default\":\"bottom-right\"},{\"name\":\"_clear\",\"kind\":\"Any\",\"default\":0}]},{\"type\":\"model\",\"name\":\"NotificationArea1\",\"properties\":[{\"name\":\"js_events\",\"kind\":\"Any\",\"default\":{\"type\":\"map\"}},{\"name\":\"notifications\",\"kind\":\"Any\",\"default\":[]},{\"name\":\"position\",\"kind\":\"Any\",\"default\":\"bottom-right\"},{\"name\":\"_clear\",\"kind\":\"Any\",\"default\":0},{\"name\":\"types\",\"kind\":\"Any\",\"default\":[{\"type\":\"map\",\"entries\":[[\"type\",\"warning\"],[\"background\",\"#ffc107\"],[\"icon\",{\"type\":\"map\",\"entries\":[[\"className\",\"fas fa-exclamation-triangle\"],[\"tagName\",\"i\"],[\"color\",\"white\"]]}]]},{\"type\":\"map\",\"entries\":[[\"type\",\"info\"],[\"background\",\"#007bff\"],[\"icon\",{\"type\":\"map\",\"entries\":[[\"className\",\"fas fa-info-circle\"],[\"tagName\",\"i\"],[\"color\",\"white\"]]}]]}]}]},{\"type\":\"model\",\"name\":\"Notification\",\"properties\":[{\"name\":\"background\",\"kind\":\"Any\",\"default\":null},{\"name\":\"duration\",\"kind\":\"Any\",\"default\":3000},{\"name\":\"icon\",\"kind\":\"Any\",\"default\":null},{\"name\":\"message\",\"kind\":\"Any\",\"default\":\"\"},{\"name\":\"notification_type\",\"kind\":\"Any\",\"default\":null},{\"name\":\"_destroyed\",\"kind\":\"Any\",\"default\":false}]},{\"type\":\"model\",\"name\":\"TemplateActions1\",\"properties\":[{\"name\":\"open_modal\",\"kind\":\"Any\",\"default\":0},{\"name\":\"close_modal\",\"kind\":\"Any\",\"default\":0}]},{\"type\":\"model\",\"name\":\"BootstrapTemplateActions1\",\"properties\":[{\"name\":\"open_modal\",\"kind\":\"Any\",\"default\":0},{\"name\":\"close_modal\",\"kind\":\"Any\",\"default\":0}]},{\"type\":\"model\",\"name\":\"MaterialTemplateActions1\",\"properties\":[{\"name\":\"open_modal\",\"kind\":\"Any\",\"default\":0},{\"name\":\"close_modal\",\"kind\":\"Any\",\"default\":0}]}]}};\n",
       "  var render_items = [{\"docid\":\"bfbfc4bc-2026-4d5d-bd37-8f997fc71f81\",\"roots\":{\"p1154\":\"d544827b-160a-4674-b5f5-f31f09fe50b2\"},\"root_ids\":[\"p1154\"]}];\n",
       "  var docs = Object.values(docs_json)\n",
       "  if (!docs) {\n",
       "    return\n",
       "  }\n",
       "  const py_version = docs[0].version.replace('rc', '-rc.').replace('.dev', '-dev.')\n",
       "  const is_dev = py_version.indexOf(\"+\") !== -1 || py_version.indexOf(\"-\") !== -1\n",
       "  function embed_document(root) {\n",
       "    var Bokeh = get_bokeh(root)\n",
       "    Bokeh.embed.embed_items_notebook(docs_json, render_items);\n",
       "    for (const render_item of render_items) {\n",
       "      for (const root_id of render_item.root_ids) {\n",
       "\tconst id_el = document.getElementById(root_id)\n",
       "\tif (id_el.children.length && (id_el.children[0].className === 'bk-root')) {\n",
       "\t  const root_el = id_el.children[0]\n",
       "\t  root_el.id = root_el.id + '-rendered'\n",
       "\t}\n",
       "      }\n",
       "    }\n",
       "  }\n",
       "  function get_bokeh(root) {\n",
       "    if (root.Bokeh === undefined) {\n",
       "      return null\n",
       "    } else if (root.Bokeh.version !== py_version && !is_dev) {\n",
       "      if (root.Bokeh.versions === undefined || !root.Bokeh.versions.has(py_version)) {\n",
       "\treturn null\n",
       "      }\n",
       "      return root.Bokeh.versions.get(py_version);\n",
       "    } else if (root.Bokeh.version === py_version) {\n",
       "      return root.Bokeh\n",
       "    }\n",
       "    return null\n",
       "  }\n",
       "  function is_loaded(root) {\n",
       "    var Bokeh = get_bokeh(root)\n",
       "    return (Bokeh != null && Bokeh.Panel !== undefined)\n",
       "  }\n",
       "  if (is_loaded(root)) {\n",
       "    embed_document(root);\n",
       "  } else {\n",
       "    var attempts = 0;\n",
       "    var timer = setInterval(function(root) {\n",
       "      if (is_loaded(root)) {\n",
       "        clearInterval(timer);\n",
       "        embed_document(root);\n",
       "      } else if (document.readyState == \"complete\") {\n",
       "        attempts++;\n",
       "        if (attempts > 200) {\n",
       "          clearInterval(timer);\n",
       "\t  var Bokeh = get_bokeh(root)\n",
       "\t  if (Bokeh == null || Bokeh.Panel == null) {\n",
       "            console.warn(\"Panel: ERROR: Unable to run Panel code because Bokeh or Panel library is missing\");\n",
       "\t  } else {\n",
       "\t    console.warn(\"Panel: WARNING: Attempting to render but not all required libraries could be resolved.\")\n",
       "\t    embed_document(root)\n",
       "\t  }\n",
       "        }\n",
       "      }\n",
       "    }, 25, root)\n",
       "  }\n",
       "})(window);</script>"
      ],
      "text/plain": [
       ":Curve   [Date]   (Beta)"
      ]
     },
     "execution_count": 30,
     "metadata": {
      "application/vnd.holoviews_exec.v0+json": {
       "id": "p1154"
      }
     },
     "output_type": "execute_result"
    }
   ],
   "source": [
    "user_beta.hvplot.line(x='Date', y='Beta', value_label='Beta', legend='top', height=500, width=820, xformatter='%.0f', yformatter='%.0f')"
   ]
  }
 ],
 "metadata": {
  "kernelspec": {
   "display_name": "ucbenv",
   "language": "python",
   "name": "python3"
  },
  "language_info": {
   "codemirror_mode": {
    "name": "ipython",
    "version": 3
   },
   "file_extension": ".py",
   "mimetype": "text/x-python",
   "name": "python",
   "nbconvert_exporter": "python",
   "pygments_lexer": "ipython3",
   "version": "3.10.13"
  }
 },
 "nbformat": 4,
 "nbformat_minor": 2
}
