{
 "cells": [
  {
   "cell_type": "markdown",
   "metadata": {},
   "source": [
    "# Canary Quant"
   ]
  },
  {
   "cell_type": "markdown",
   "metadata": {},
   "source": [
    "### Import libraries"
   ]
  },
  {
   "cell_type": "code",
   "execution_count": 202,
   "metadata": {},
   "outputs": [],
   "source": [
    "import alpaca_trade_api as tradeapi\n",
    "import numpy as np\n",
    "import pandas as pd\n",
    "from datetime import date\n",
    "from CanaryFinancialCalculations import CanaryFinancialCalculations \n",
    "import hvplot.pandas\n",
    "import warnings\n",
    "import seaborn as sns\n",
    "import matplotlib.pyplot as plt\n",
    "from scipy.stats import pearsonr\n",
    "from bokeh.models.formatters import DatetimeTickFormatter\n",
    "import plotly.express as px"
   ]
  },
  {
   "cell_type": "code",
   "execution_count": 203,
   "metadata": {},
   "outputs": [],
   "source": [
    "warnings.filterwarnings('ignore')"
   ]
  },
  {
   "cell_type": "markdown",
   "metadata": {},
   "source": [
    "### Initiate variables to pull data from Alpaca"
   ]
  },
  {
   "cell_type": "code",
   "execution_count": 204,
   "metadata": {},
   "outputs": [],
   "source": [
    "alpaca_api_key = 'PK306FA7SFOSMY9LBUZ4'\n",
    "alpaca_secret_key = 'oNujbWMi3ZLrZuVggRN1DnZBLs38EJO00cwyOgsE'\n",
    "base_url = 'https://paper-api.alpaca.markets'\n",
    "\n",
    "alpaca = tradeapi.REST(\n",
    "    alpaca_api_key,\n",
    "    alpaca_secret_key,\n",
    "    base_url,\n",
    "    api_version=\"v2\")\n",
    "\n",
    "tickers = [\"TSLA\", \"AAPL\", \"AMD\", \"GOOGL\"]\n",
    "benchmark= [\"SPY\", \"QQQ\", \"PSI\", \"IGM\"]\n",
    "timeframe = '1Day'\n",
    "initial_investment = 10000\n",
    "weights = [(1 / len(tickers))] * len(tickers)\n",
    "weights_benchmark = [(1 / len(benchmark))] * len(benchmark)\n",
    "\n",
    "start_date = pd.Timestamp(\"2018-01-01\", tz=\"America/New_York\").isoformat()\n",
    "end_date = pd.Timestamp(\"2023-11-01\", tz=\"America/New_York\").isoformat()\n"
   ]
  },
  {
   "cell_type": "markdown",
   "metadata": {},
   "source": [
    "## User Portfolio"
   ]
  },
  {
   "cell_type": "markdown",
   "metadata": {},
   "source": [
    "### Use the functions provided in CanaryFinancialCalculations.py to create the user's portfolio"
   ]
  },
  {
   "cell_type": "code",
   "execution_count": 205,
   "metadata": {},
   "outputs": [
    {
     "data": {
      "text/html": [
       "<div>\n",
       "<style scoped>\n",
       "    .dataframe tbody tr th:only-of-type {\n",
       "        vertical-align: middle;\n",
       "    }\n",
       "\n",
       "    .dataframe tbody tr th {\n",
       "        vertical-align: top;\n",
       "    }\n",
       "\n",
       "    .dataframe thead th {\n",
       "        text-align: right;\n",
       "    }\n",
       "</style>\n",
       "<table border=\"1\" class=\"dataframe\">\n",
       "  <thead>\n",
       "    <tr style=\"text-align: right;\">\n",
       "      <th>symbol</th>\n",
       "      <th>AAPL</th>\n",
       "      <th>AMD</th>\n",
       "      <th>GOOGL</th>\n",
       "      <th>TSLA</th>\n",
       "    </tr>\n",
       "    <tr>\n",
       "      <th>Date</th>\n",
       "      <th></th>\n",
       "      <th></th>\n",
       "      <th></th>\n",
       "      <th></th>\n",
       "    </tr>\n",
       "  </thead>\n",
       "  <tbody>\n",
       "    <tr>\n",
       "      <th>2018-01-02</th>\n",
       "      <td>40.67</td>\n",
       "      <td>10.98</td>\n",
       "      <td>53.66</td>\n",
       "      <td>21.37</td>\n",
       "    </tr>\n",
       "    <tr>\n",
       "      <th>2018-01-03</th>\n",
       "      <td>40.66</td>\n",
       "      <td>11.55</td>\n",
       "      <td>54.58</td>\n",
       "      <td>21.15</td>\n",
       "    </tr>\n",
       "    <tr>\n",
       "      <th>2018-01-04</th>\n",
       "      <td>40.85</td>\n",
       "      <td>12.12</td>\n",
       "      <td>54.79</td>\n",
       "      <td>20.97</td>\n",
       "    </tr>\n",
       "    <tr>\n",
       "      <th>2018-01-05</th>\n",
       "      <td>41.31</td>\n",
       "      <td>11.88</td>\n",
       "      <td>55.51</td>\n",
       "      <td>21.11</td>\n",
       "    </tr>\n",
       "    <tr>\n",
       "      <th>2018-01-08</th>\n",
       "      <td>41.16</td>\n",
       "      <td>12.28</td>\n",
       "      <td>55.71</td>\n",
       "      <td>22.43</td>\n",
       "    </tr>\n",
       "    <tr>\n",
       "      <th>...</th>\n",
       "      <td>...</td>\n",
       "      <td>...</td>\n",
       "      <td>...</td>\n",
       "      <td>...</td>\n",
       "    </tr>\n",
       "    <tr>\n",
       "      <th>2023-10-26</th>\n",
       "      <td>166.68</td>\n",
       "      <td>93.67</td>\n",
       "      <td>122.28</td>\n",
       "      <td>205.76</td>\n",
       "    </tr>\n",
       "    <tr>\n",
       "      <th>2023-10-27</th>\n",
       "      <td>168.00</td>\n",
       "      <td>96.43</td>\n",
       "      <td>122.17</td>\n",
       "      <td>207.30</td>\n",
       "    </tr>\n",
       "    <tr>\n",
       "      <th>2023-10-30</th>\n",
       "      <td>170.07</td>\n",
       "      <td>96.18</td>\n",
       "      <td>124.46</td>\n",
       "      <td>197.36</td>\n",
       "    </tr>\n",
       "    <tr>\n",
       "      <th>2023-10-31</th>\n",
       "      <td>170.55</td>\n",
       "      <td>98.50</td>\n",
       "      <td>124.08</td>\n",
       "      <td>200.84</td>\n",
       "    </tr>\n",
       "    <tr>\n",
       "      <th>2023-11-01</th>\n",
       "      <td>173.75</td>\n",
       "      <td>108.04</td>\n",
       "      <td>126.45</td>\n",
       "      <td>205.66</td>\n",
       "    </tr>\n",
       "  </tbody>\n",
       "</table>\n",
       "<p>1469 rows × 4 columns</p>\n",
       "</div>"
      ],
      "text/plain": [
       "symbol        AAPL     AMD   GOOGL    TSLA\n",
       "Date                                      \n",
       "2018-01-02   40.67   10.98   53.66   21.37\n",
       "2018-01-03   40.66   11.55   54.58   21.15\n",
       "2018-01-04   40.85   12.12   54.79   20.97\n",
       "2018-01-05   41.31   11.88   55.51   21.11\n",
       "2018-01-08   41.16   12.28   55.71   22.43\n",
       "...            ...     ...     ...     ...\n",
       "2023-10-26  166.68   93.67  122.28  205.76\n",
       "2023-10-27  168.00   96.43  122.17  207.30\n",
       "2023-10-30  170.07   96.18  124.46  197.36\n",
       "2023-10-31  170.55   98.50  124.08  200.84\n",
       "2023-11-01  173.75  108.04  126.45  205.66\n",
       "\n",
       "[1469 rows x 4 columns]"
      ]
     },
     "execution_count": 205,
     "metadata": {},
     "output_type": "execute_result"
    }
   ],
   "source": [
    "portfolio_df = CanaryFinancialCalculations.portfolio_df(tickers, start_date, end_date, timeframe, alpaca)\n",
    "portfolio_df"
   ]
  },
  {
   "cell_type": "code",
   "execution_count": 206,
   "metadata": {},
   "outputs": [
    {
     "data": {
      "text/html": [
       "<div>\n",
       "<style scoped>\n",
       "    .dataframe tbody tr th:only-of-type {\n",
       "        vertical-align: middle;\n",
       "    }\n",
       "\n",
       "    .dataframe tbody tr th {\n",
       "        vertical-align: top;\n",
       "    }\n",
       "\n",
       "    .dataframe thead th {\n",
       "        text-align: right;\n",
       "    }\n",
       "</style>\n",
       "<table border=\"1\" class=\"dataframe\">\n",
       "  <thead>\n",
       "    <tr style=\"text-align: right;\">\n",
       "      <th></th>\n",
       "      <th>Portfolio</th>\n",
       "    </tr>\n",
       "    <tr>\n",
       "      <th>Date</th>\n",
       "      <th></th>\n",
       "    </tr>\n",
       "  </thead>\n",
       "  <tbody>\n",
       "    <tr>\n",
       "      <th>2018-01-02</th>\n",
       "      <td>31.6700</td>\n",
       "    </tr>\n",
       "    <tr>\n",
       "      <th>2018-01-03</th>\n",
       "      <td>31.9850</td>\n",
       "    </tr>\n",
       "    <tr>\n",
       "      <th>2018-01-04</th>\n",
       "      <td>32.1825</td>\n",
       "    </tr>\n",
       "    <tr>\n",
       "      <th>2018-01-05</th>\n",
       "      <td>32.4525</td>\n",
       "    </tr>\n",
       "    <tr>\n",
       "      <th>2018-01-08</th>\n",
       "      <td>32.8950</td>\n",
       "    </tr>\n",
       "    <tr>\n",
       "      <th>...</th>\n",
       "      <td>...</td>\n",
       "    </tr>\n",
       "    <tr>\n",
       "      <th>2023-10-26</th>\n",
       "      <td>147.0975</td>\n",
       "    </tr>\n",
       "    <tr>\n",
       "      <th>2023-10-27</th>\n",
       "      <td>148.4750</td>\n",
       "    </tr>\n",
       "    <tr>\n",
       "      <th>2023-10-30</th>\n",
       "      <td>147.0175</td>\n",
       "    </tr>\n",
       "    <tr>\n",
       "      <th>2023-10-31</th>\n",
       "      <td>148.4925</td>\n",
       "    </tr>\n",
       "    <tr>\n",
       "      <th>2023-11-01</th>\n",
       "      <td>153.4750</td>\n",
       "    </tr>\n",
       "  </tbody>\n",
       "</table>\n",
       "<p>1469 rows × 1 columns</p>\n",
       "</div>"
      ],
      "text/plain": [
       "            Portfolio\n",
       "Date                 \n",
       "2018-01-02    31.6700\n",
       "2018-01-03    31.9850\n",
       "2018-01-04    32.1825\n",
       "2018-01-05    32.4525\n",
       "2018-01-08    32.8950\n",
       "...               ...\n",
       "2023-10-26   147.0975\n",
       "2023-10-27   148.4750\n",
       "2023-10-30   147.0175\n",
       "2023-10-31   148.4925\n",
       "2023-11-01   153.4750\n",
       "\n",
       "[1469 rows x 1 columns]"
      ]
     },
     "execution_count": 206,
     "metadata": {},
     "output_type": "execute_result"
    }
   ],
   "source": [
    "weighted_portfolio_df = CanaryFinancialCalculations.weighted_df(portfolio_df, weights)\n",
    "weighted_portfolio_df"
   ]
  },
  {
   "cell_type": "code",
   "execution_count": 207,
   "metadata": {},
   "outputs": [
    {
     "data": {
      "text/html": [
       "<div>\n",
       "<style scoped>\n",
       "    .dataframe tbody tr th:only-of-type {\n",
       "        vertical-align: middle;\n",
       "    }\n",
       "\n",
       "    .dataframe tbody tr th {\n",
       "        vertical-align: top;\n",
       "    }\n",
       "\n",
       "    .dataframe thead th {\n",
       "        text-align: right;\n",
       "    }\n",
       "</style>\n",
       "<table border=\"1\" class=\"dataframe\">\n",
       "  <thead>\n",
       "    <tr style=\"text-align: right;\">\n",
       "      <th></th>\n",
       "      <th>Portfolio</th>\n",
       "    </tr>\n",
       "    <tr>\n",
       "      <th>Date</th>\n",
       "      <th></th>\n",
       "    </tr>\n",
       "  </thead>\n",
       "  <tbody>\n",
       "    <tr>\n",
       "      <th>2018-01-03</th>\n",
       "      <td>0.014629</td>\n",
       "    </tr>\n",
       "    <tr>\n",
       "      <th>2018-01-04</th>\n",
       "      <td>0.012340</td>\n",
       "    </tr>\n",
       "    <tr>\n",
       "      <th>2018-01-05</th>\n",
       "      <td>0.002819</td>\n",
       "    </tr>\n",
       "    <tr>\n",
       "      <th>2018-01-08</th>\n",
       "      <td>0.024043</td>\n",
       "    </tr>\n",
       "    <tr>\n",
       "      <th>2018-01-09</th>\n",
       "      <td>-0.011746</td>\n",
       "    </tr>\n",
       "    <tr>\n",
       "      <th>...</th>\n",
       "      <td>...</td>\n",
       "    </tr>\n",
       "    <tr>\n",
       "      <th>2023-10-26</th>\n",
       "      <td>-0.026818</td>\n",
       "    </tr>\n",
       "    <tr>\n",
       "      <th>2023-10-27</th>\n",
       "      <td>0.010992</td>\n",
       "    </tr>\n",
       "    <tr>\n",
       "      <th>2023-10-30</th>\n",
       "      <td>-0.004869</td>\n",
       "    </tr>\n",
       "    <tr>\n",
       "      <th>2023-10-31</th>\n",
       "      <td>0.010381</td>\n",
       "    </tr>\n",
       "    <tr>\n",
       "      <th>2023-11-01</th>\n",
       "      <td>0.039679</td>\n",
       "    </tr>\n",
       "  </tbody>\n",
       "</table>\n",
       "<p>1468 rows × 1 columns</p>\n",
       "</div>"
      ],
      "text/plain": [
       "            Portfolio\n",
       "Date                 \n",
       "2018-01-03   0.014629\n",
       "2018-01-04   0.012340\n",
       "2018-01-05   0.002819\n",
       "2018-01-08   0.024043\n",
       "2018-01-09  -0.011746\n",
       "...               ...\n",
       "2023-10-26  -0.026818\n",
       "2023-10-27   0.010992\n",
       "2023-10-30  -0.004869\n",
       "2023-10-31   0.010381\n",
       "2023-11-01   0.039679\n",
       "\n",
       "[1468 rows x 1 columns]"
      ]
     },
     "execution_count": 207,
     "metadata": {},
     "output_type": "execute_result"
    }
   ],
   "source": [
    "user_portfolio_pct_chg = CanaryFinancialCalculations.portfolio_pct_chg(portfolio_df, weights)\n",
    "user_portfolio_pct_chg"
   ]
  },
  {
   "cell_type": "markdown",
   "metadata": {},
   "source": [
    "## Benchmark Dataframe"
   ]
  },
  {
   "cell_type": "markdown",
   "metadata": {},
   "source": [
    "### Use functions to create dataframe for benchmark stocks"
   ]
  },
  {
   "cell_type": "code",
   "execution_count": 208,
   "metadata": {},
   "outputs": [
    {
     "data": {
      "text/html": [
       "<div>\n",
       "<style scoped>\n",
       "    .dataframe tbody tr th:only-of-type {\n",
       "        vertical-align: middle;\n",
       "    }\n",
       "\n",
       "    .dataframe tbody tr th {\n",
       "        vertical-align: top;\n",
       "    }\n",
       "\n",
       "    .dataframe thead th {\n",
       "        text-align: right;\n",
       "    }\n",
       "</style>\n",
       "<table border=\"1\" class=\"dataframe\">\n",
       "  <thead>\n",
       "    <tr style=\"text-align: right;\">\n",
       "      <th>symbol</th>\n",
       "      <th>IGM</th>\n",
       "      <th>PSI</th>\n",
       "      <th>QQQ</th>\n",
       "      <th>SPY</th>\n",
       "    </tr>\n",
       "    <tr>\n",
       "      <th>Date</th>\n",
       "      <th></th>\n",
       "      <th></th>\n",
       "      <th></th>\n",
       "      <th></th>\n",
       "    </tr>\n",
       "  </thead>\n",
       "  <tbody>\n",
       "    <tr>\n",
       "      <th>2018-01-02</th>\n",
       "      <td>166.9700</td>\n",
       "      <td>16.80</td>\n",
       "      <td>151.79</td>\n",
       "      <td>244.98</td>\n",
       "    </tr>\n",
       "    <tr>\n",
       "      <th>2018-01-03</th>\n",
       "      <td>169.0200</td>\n",
       "      <td>17.06</td>\n",
       "      <td>153.26</td>\n",
       "      <td>246.53</td>\n",
       "    </tr>\n",
       "    <tr>\n",
       "      <th>2018-01-04</th>\n",
       "      <td>169.8800</td>\n",
       "      <td>17.18</td>\n",
       "      <td>153.53</td>\n",
       "      <td>247.53</td>\n",
       "    </tr>\n",
       "    <tr>\n",
       "      <th>2018-01-05</th>\n",
       "      <td>171.7100</td>\n",
       "      <td>17.31</td>\n",
       "      <td>155.07</td>\n",
       "      <td>249.20</td>\n",
       "    </tr>\n",
       "    <tr>\n",
       "      <th>2018-01-08</th>\n",
       "      <td>172.8200</td>\n",
       "      <td>17.46</td>\n",
       "      <td>155.68</td>\n",
       "      <td>249.66</td>\n",
       "    </tr>\n",
       "    <tr>\n",
       "      <th>...</th>\n",
       "      <td>...</td>\n",
       "      <td>...</td>\n",
       "      <td>...</td>\n",
       "      <td>...</td>\n",
       "    </tr>\n",
       "    <tr>\n",
       "      <th>2023-10-26</th>\n",
       "      <td>365.8600</td>\n",
       "      <td>38.59</td>\n",
       "      <td>343.66</td>\n",
       "      <td>412.55</td>\n",
       "    </tr>\n",
       "    <tr>\n",
       "      <th>2023-10-27</th>\n",
       "      <td>367.2562</td>\n",
       "      <td>38.72</td>\n",
       "      <td>345.31</td>\n",
       "      <td>410.68</td>\n",
       "    </tr>\n",
       "    <tr>\n",
       "      <th>2023-10-30</th>\n",
       "      <td>371.2100</td>\n",
       "      <td>37.92</td>\n",
       "      <td>349.20</td>\n",
       "      <td>415.59</td>\n",
       "    </tr>\n",
       "    <tr>\n",
       "      <th>2023-10-31</th>\n",
       "      <td>373.8886</td>\n",
       "      <td>38.04</td>\n",
       "      <td>350.87</td>\n",
       "      <td>418.20</td>\n",
       "    </tr>\n",
       "    <tr>\n",
       "      <th>2023-11-01</th>\n",
       "      <td>380.6000</td>\n",
       "      <td>38.60</td>\n",
       "      <td>356.96</td>\n",
       "      <td>422.66</td>\n",
       "    </tr>\n",
       "  </tbody>\n",
       "</table>\n",
       "<p>1469 rows × 4 columns</p>\n",
       "</div>"
      ],
      "text/plain": [
       "symbol           IGM    PSI     QQQ     SPY\n",
       "Date                                       \n",
       "2018-01-02  166.9700  16.80  151.79  244.98\n",
       "2018-01-03  169.0200  17.06  153.26  246.53\n",
       "2018-01-04  169.8800  17.18  153.53  247.53\n",
       "2018-01-05  171.7100  17.31  155.07  249.20\n",
       "2018-01-08  172.8200  17.46  155.68  249.66\n",
       "...              ...    ...     ...     ...\n",
       "2023-10-26  365.8600  38.59  343.66  412.55\n",
       "2023-10-27  367.2562  38.72  345.31  410.68\n",
       "2023-10-30  371.2100  37.92  349.20  415.59\n",
       "2023-10-31  373.8886  38.04  350.87  418.20\n",
       "2023-11-01  380.6000  38.60  356.96  422.66\n",
       "\n",
       "[1469 rows x 4 columns]"
      ]
     },
     "execution_count": 208,
     "metadata": {},
     "output_type": "execute_result"
    }
   ],
   "source": [
    "benchmark_df = CanaryFinancialCalculations.portfolio_df(benchmark, start_date, end_date, timeframe, alpaca)\n",
    "benchmark_df"
   ]
  },
  {
   "cell_type": "code",
   "execution_count": 209,
   "metadata": {},
   "outputs": [
    {
     "data": {
      "text/html": [
       "<div>\n",
       "<style scoped>\n",
       "    .dataframe tbody tr th:only-of-type {\n",
       "        vertical-align: middle;\n",
       "    }\n",
       "\n",
       "    .dataframe tbody tr th {\n",
       "        vertical-align: top;\n",
       "    }\n",
       "\n",
       "    .dataframe thead th {\n",
       "        text-align: right;\n",
       "    }\n",
       "</style>\n",
       "<table border=\"1\" class=\"dataframe\">\n",
       "  <thead>\n",
       "    <tr style=\"text-align: right;\">\n",
       "      <th>symbol</th>\n",
       "      <th>IGM</th>\n",
       "      <th>PSI</th>\n",
       "      <th>QQQ</th>\n",
       "      <th>SPY</th>\n",
       "    </tr>\n",
       "    <tr>\n",
       "      <th>Date</th>\n",
       "      <th></th>\n",
       "      <th></th>\n",
       "      <th></th>\n",
       "      <th></th>\n",
       "    </tr>\n",
       "  </thead>\n",
       "  <tbody>\n",
       "    <tr>\n",
       "      <th>2018-01-03</th>\n",
       "      <td>0.012278</td>\n",
       "      <td>0.015476</td>\n",
       "      <td>0.009684</td>\n",
       "      <td>0.006327</td>\n",
       "    </tr>\n",
       "    <tr>\n",
       "      <th>2018-01-04</th>\n",
       "      <td>0.005088</td>\n",
       "      <td>0.007034</td>\n",
       "      <td>0.001762</td>\n",
       "      <td>0.004056</td>\n",
       "    </tr>\n",
       "    <tr>\n",
       "      <th>2018-01-05</th>\n",
       "      <td>0.010772</td>\n",
       "      <td>0.007567</td>\n",
       "      <td>0.010031</td>\n",
       "      <td>0.006747</td>\n",
       "    </tr>\n",
       "    <tr>\n",
       "      <th>2018-01-08</th>\n",
       "      <td>0.006464</td>\n",
       "      <td>0.008666</td>\n",
       "      <td>0.003934</td>\n",
       "      <td>0.001846</td>\n",
       "    </tr>\n",
       "    <tr>\n",
       "      <th>2018-01-09</th>\n",
       "      <td>-0.002430</td>\n",
       "      <td>-0.013746</td>\n",
       "      <td>0.000064</td>\n",
       "      <td>0.002283</td>\n",
       "    </tr>\n",
       "    <tr>\n",
       "      <th>...</th>\n",
       "      <td>...</td>\n",
       "      <td>...</td>\n",
       "      <td>...</td>\n",
       "      <td>...</td>\n",
       "    </tr>\n",
       "    <tr>\n",
       "      <th>2023-10-26</th>\n",
       "      <td>-0.017562</td>\n",
       "      <td>-0.003357</td>\n",
       "      <td>-0.019067</td>\n",
       "      <td>-0.011975</td>\n",
       "    </tr>\n",
       "    <tr>\n",
       "      <th>2023-10-27</th>\n",
       "      <td>0.003816</td>\n",
       "      <td>0.003369</td>\n",
       "      <td>0.004801</td>\n",
       "      <td>-0.004533</td>\n",
       "    </tr>\n",
       "    <tr>\n",
       "      <th>2023-10-30</th>\n",
       "      <td>0.010766</td>\n",
       "      <td>-0.020661</td>\n",
       "      <td>0.011265</td>\n",
       "      <td>0.011956</td>\n",
       "    </tr>\n",
       "    <tr>\n",
       "      <th>2023-10-31</th>\n",
       "      <td>0.007216</td>\n",
       "      <td>0.003165</td>\n",
       "      <td>0.004782</td>\n",
       "      <td>0.006280</td>\n",
       "    </tr>\n",
       "    <tr>\n",
       "      <th>2023-11-01</th>\n",
       "      <td>0.017950</td>\n",
       "      <td>0.014721</td>\n",
       "      <td>0.017357</td>\n",
       "      <td>0.010665</td>\n",
       "    </tr>\n",
       "  </tbody>\n",
       "</table>\n",
       "<p>1468 rows × 4 columns</p>\n",
       "</div>"
      ],
      "text/plain": [
       "symbol           IGM       PSI       QQQ       SPY\n",
       "Date                                              \n",
       "2018-01-03  0.012278  0.015476  0.009684  0.006327\n",
       "2018-01-04  0.005088  0.007034  0.001762  0.004056\n",
       "2018-01-05  0.010772  0.007567  0.010031  0.006747\n",
       "2018-01-08  0.006464  0.008666  0.003934  0.001846\n",
       "2018-01-09 -0.002430 -0.013746  0.000064  0.002283\n",
       "...              ...       ...       ...       ...\n",
       "2023-10-26 -0.017562 -0.003357 -0.019067 -0.011975\n",
       "2023-10-27  0.003816  0.003369  0.004801 -0.004533\n",
       "2023-10-30  0.010766 -0.020661  0.011265  0.011956\n",
       "2023-10-31  0.007216  0.003165  0.004782  0.006280\n",
       "2023-11-01  0.017950  0.014721  0.017357  0.010665\n",
       "\n",
       "[1468 rows x 4 columns]"
      ]
     },
     "execution_count": 209,
     "metadata": {},
     "output_type": "execute_result"
    }
   ],
   "source": [
    "benchmark_pct_change = CanaryFinancialCalculations.benchmark_pct_chg(benchmark_df)\n",
    "benchmark_pct_change"
   ]
  },
  {
   "cell_type": "markdown",
   "metadata": {},
   "source": [
    "## Combining Portfolio and SPY"
   ]
  },
  {
   "cell_type": "markdown",
   "metadata": {},
   "source": [
    "### Concatinate the portfolio with the benchmark stocks for comparison"
   ]
  },
  {
   "cell_type": "code",
   "execution_count": 210,
   "metadata": {},
   "outputs": [
    {
     "data": {
      "text/html": [
       "<div>\n",
       "<style scoped>\n",
       "    .dataframe tbody tr th:only-of-type {\n",
       "        vertical-align: middle;\n",
       "    }\n",
       "\n",
       "    .dataframe tbody tr th {\n",
       "        vertical-align: top;\n",
       "    }\n",
       "\n",
       "    .dataframe thead th {\n",
       "        text-align: right;\n",
       "    }\n",
       "</style>\n",
       "<table border=\"1\" class=\"dataframe\">\n",
       "  <thead>\n",
       "    <tr style=\"text-align: right;\">\n",
       "      <th></th>\n",
       "      <th>Portfolio</th>\n",
       "      <th>IGM</th>\n",
       "      <th>PSI</th>\n",
       "      <th>QQQ</th>\n",
       "      <th>SPY</th>\n",
       "    </tr>\n",
       "    <tr>\n",
       "      <th>Date</th>\n",
       "      <th></th>\n",
       "      <th></th>\n",
       "      <th></th>\n",
       "      <th></th>\n",
       "      <th></th>\n",
       "    </tr>\n",
       "  </thead>\n",
       "  <tbody>\n",
       "    <tr>\n",
       "      <th>2018-01-03</th>\n",
       "      <td>0.014629</td>\n",
       "      <td>0.012278</td>\n",
       "      <td>0.015476</td>\n",
       "      <td>0.009684</td>\n",
       "      <td>0.006327</td>\n",
       "    </tr>\n",
       "    <tr>\n",
       "      <th>2018-01-04</th>\n",
       "      <td>0.012340</td>\n",
       "      <td>0.005088</td>\n",
       "      <td>0.007034</td>\n",
       "      <td>0.001762</td>\n",
       "      <td>0.004056</td>\n",
       "    </tr>\n",
       "    <tr>\n",
       "      <th>2018-01-05</th>\n",
       "      <td>0.002819</td>\n",
       "      <td>0.010772</td>\n",
       "      <td>0.007567</td>\n",
       "      <td>0.010031</td>\n",
       "      <td>0.006747</td>\n",
       "    </tr>\n",
       "    <tr>\n",
       "      <th>2018-01-08</th>\n",
       "      <td>0.024043</td>\n",
       "      <td>0.006464</td>\n",
       "      <td>0.008666</td>\n",
       "      <td>0.003934</td>\n",
       "      <td>0.001846</td>\n",
       "    </tr>\n",
       "    <tr>\n",
       "      <th>2018-01-09</th>\n",
       "      <td>-0.011746</td>\n",
       "      <td>-0.002430</td>\n",
       "      <td>-0.013746</td>\n",
       "      <td>0.000064</td>\n",
       "      <td>0.002283</td>\n",
       "    </tr>\n",
       "    <tr>\n",
       "      <th>...</th>\n",
       "      <td>...</td>\n",
       "      <td>...</td>\n",
       "      <td>...</td>\n",
       "      <td>...</td>\n",
       "      <td>...</td>\n",
       "    </tr>\n",
       "    <tr>\n",
       "      <th>2023-10-26</th>\n",
       "      <td>-0.026818</td>\n",
       "      <td>-0.017562</td>\n",
       "      <td>-0.003357</td>\n",
       "      <td>-0.019067</td>\n",
       "      <td>-0.011975</td>\n",
       "    </tr>\n",
       "    <tr>\n",
       "      <th>2023-10-27</th>\n",
       "      <td>0.010992</td>\n",
       "      <td>0.003816</td>\n",
       "      <td>0.003369</td>\n",
       "      <td>0.004801</td>\n",
       "      <td>-0.004533</td>\n",
       "    </tr>\n",
       "    <tr>\n",
       "      <th>2023-10-30</th>\n",
       "      <td>-0.004869</td>\n",
       "      <td>0.010766</td>\n",
       "      <td>-0.020661</td>\n",
       "      <td>0.011265</td>\n",
       "      <td>0.011956</td>\n",
       "    </tr>\n",
       "    <tr>\n",
       "      <th>2023-10-31</th>\n",
       "      <td>0.010381</td>\n",
       "      <td>0.007216</td>\n",
       "      <td>0.003165</td>\n",
       "      <td>0.004782</td>\n",
       "      <td>0.006280</td>\n",
       "    </tr>\n",
       "    <tr>\n",
       "      <th>2023-11-01</th>\n",
       "      <td>0.039679</td>\n",
       "      <td>0.017950</td>\n",
       "      <td>0.014721</td>\n",
       "      <td>0.017357</td>\n",
       "      <td>0.010665</td>\n",
       "    </tr>\n",
       "  </tbody>\n",
       "</table>\n",
       "<p>1468 rows × 5 columns</p>\n",
       "</div>"
      ],
      "text/plain": [
       "            Portfolio       IGM       PSI       QQQ       SPY\n",
       "Date                                                         \n",
       "2018-01-03   0.014629  0.012278  0.015476  0.009684  0.006327\n",
       "2018-01-04   0.012340  0.005088  0.007034  0.001762  0.004056\n",
       "2018-01-05   0.002819  0.010772  0.007567  0.010031  0.006747\n",
       "2018-01-08   0.024043  0.006464  0.008666  0.003934  0.001846\n",
       "2018-01-09  -0.011746 -0.002430 -0.013746  0.000064  0.002283\n",
       "...               ...       ...       ...       ...       ...\n",
       "2023-10-26  -0.026818 -0.017562 -0.003357 -0.019067 -0.011975\n",
       "2023-10-27   0.010992  0.003816  0.003369  0.004801 -0.004533\n",
       "2023-10-30  -0.004869  0.010766 -0.020661  0.011265  0.011956\n",
       "2023-10-31   0.010381  0.007216  0.003165  0.004782  0.006280\n",
       "2023-11-01   0.039679  0.017950  0.014721  0.017357  0.010665\n",
       "\n",
       "[1468 rows x 5 columns]"
      ]
     },
     "execution_count": 210,
     "metadata": {},
     "output_type": "execute_result"
    }
   ],
   "source": [
    "comparing_portfolios_pct_chg = CanaryFinancialCalculations.pct_change_comparison(user_portfolio_pct_chg, benchmark_pct_change)\n",
    "comparing_portfolios_pct_chg"
   ]
  },
  {
   "cell_type": "markdown",
   "metadata": {},
   "source": [
    "# Calculations"
   ]
  },
  {
   "cell_type": "markdown",
   "metadata": {},
   "source": [
    "## Cumulative Returns"
   ]
  },
  {
   "cell_type": "code",
   "execution_count": 211,
   "metadata": {},
   "outputs": [
    {
     "data": {
      "text/html": [
       "<div>\n",
       "<style scoped>\n",
       "    .dataframe tbody tr th:only-of-type {\n",
       "        vertical-align: middle;\n",
       "    }\n",
       "\n",
       "    .dataframe tbody tr th {\n",
       "        vertical-align: top;\n",
       "    }\n",
       "\n",
       "    .dataframe thead th {\n",
       "        text-align: right;\n",
       "    }\n",
       "</style>\n",
       "<table border=\"1\" class=\"dataframe\">\n",
       "  <thead>\n",
       "    <tr style=\"text-align: right;\">\n",
       "      <th></th>\n",
       "      <th>Profit</th>\n",
       "    </tr>\n",
       "    <tr>\n",
       "      <th>Date</th>\n",
       "      <th></th>\n",
       "    </tr>\n",
       "  </thead>\n",
       "  <tbody>\n",
       "    <tr>\n",
       "      <th>2018-01-03</th>\n",
       "      <td>10146.29</td>\n",
       "    </tr>\n",
       "    <tr>\n",
       "      <th>2018-01-04</th>\n",
       "      <td>10271.50</td>\n",
       "    </tr>\n",
       "    <tr>\n",
       "      <th>2018-01-05</th>\n",
       "      <td>10300.45</td>\n",
       "    </tr>\n",
       "    <tr>\n",
       "      <th>2018-01-08</th>\n",
       "      <td>10548.11</td>\n",
       "    </tr>\n",
       "    <tr>\n",
       "      <th>2018-01-09</th>\n",
       "      <td>10424.21</td>\n",
       "    </tr>\n",
       "    <tr>\n",
       "      <th>...</th>\n",
       "      <td>...</td>\n",
       "    </tr>\n",
       "    <tr>\n",
       "      <th>2023-10-26</th>\n",
       "      <td>70118.34</td>\n",
       "    </tr>\n",
       "    <tr>\n",
       "      <th>2023-10-27</th>\n",
       "      <td>70889.11</td>\n",
       "    </tr>\n",
       "    <tr>\n",
       "      <th>2023-10-30</th>\n",
       "      <td>70543.94</td>\n",
       "    </tr>\n",
       "    <tr>\n",
       "      <th>2023-10-31</th>\n",
       "      <td>71276.24</td>\n",
       "    </tr>\n",
       "    <tr>\n",
       "      <th>2023-11-01</th>\n",
       "      <td>74104.40</td>\n",
       "    </tr>\n",
       "  </tbody>\n",
       "</table>\n",
       "<p>1468 rows × 1 columns</p>\n",
       "</div>"
      ],
      "text/plain": [
       "              Profit\n",
       "Date                \n",
       "2018-01-03  10146.29\n",
       "2018-01-04  10271.50\n",
       "2018-01-05  10300.45\n",
       "2018-01-08  10548.11\n",
       "2018-01-09  10424.21\n",
       "...              ...\n",
       "2023-10-26  70118.34\n",
       "2023-10-27  70889.11\n",
       "2023-10-30  70543.94\n",
       "2023-10-31  71276.24\n",
       "2023-11-01  74104.40\n",
       "\n",
       "[1468 rows x 1 columns]"
      ]
     },
     "execution_count": 211,
     "metadata": {},
     "output_type": "execute_result"
    }
   ],
   "source": [
    "user_cumulative_returns = CanaryFinancialCalculations.cumulative_returns(user_portfolio_pct_chg, initial_investment)\n",
    "user_cumulative_returns"
   ]
  },
  {
   "cell_type": "code",
   "execution_count": 212,
   "metadata": {},
   "outputs": [
    {
     "data": {
      "text/html": [
       "<div>\n",
       "<style scoped>\n",
       "    .dataframe tbody tr th:only-of-type {\n",
       "        vertical-align: middle;\n",
       "    }\n",
       "\n",
       "    .dataframe tbody tr th {\n",
       "        vertical-align: top;\n",
       "    }\n",
       "\n",
       "    .dataframe thead th {\n",
       "        text-align: right;\n",
       "    }\n",
       "</style>\n",
       "<table border=\"1\" class=\"dataframe\">\n",
       "  <thead>\n",
       "    <tr style=\"text-align: right;\">\n",
       "      <th></th>\n",
       "      <th>SPY</th>\n",
       "    </tr>\n",
       "    <tr>\n",
       "      <th>Date</th>\n",
       "      <th></th>\n",
       "    </tr>\n",
       "  </thead>\n",
       "  <tbody>\n",
       "    <tr>\n",
       "      <th>2018-01-03</th>\n",
       "      <td>10063.27</td>\n",
       "    </tr>\n",
       "    <tr>\n",
       "      <th>2018-01-04</th>\n",
       "      <td>10104.09</td>\n",
       "    </tr>\n",
       "    <tr>\n",
       "      <th>2018-01-05</th>\n",
       "      <td>10172.26</td>\n",
       "    </tr>\n",
       "    <tr>\n",
       "      <th>2018-01-08</th>\n",
       "      <td>10191.04</td>\n",
       "    </tr>\n",
       "    <tr>\n",
       "      <th>2018-01-09</th>\n",
       "      <td>10214.30</td>\n",
       "    </tr>\n",
       "    <tr>\n",
       "      <th>...</th>\n",
       "      <td>...</td>\n",
       "    </tr>\n",
       "    <tr>\n",
       "      <th>2023-10-26</th>\n",
       "      <td>16840.15</td>\n",
       "    </tr>\n",
       "    <tr>\n",
       "      <th>2023-10-27</th>\n",
       "      <td>16763.82</td>\n",
       "    </tr>\n",
       "    <tr>\n",
       "      <th>2023-10-30</th>\n",
       "      <td>16964.24</td>\n",
       "    </tr>\n",
       "    <tr>\n",
       "      <th>2023-10-31</th>\n",
       "      <td>17070.78</td>\n",
       "    </tr>\n",
       "    <tr>\n",
       "      <th>2023-11-01</th>\n",
       "      <td>17252.84</td>\n",
       "    </tr>\n",
       "  </tbody>\n",
       "</table>\n",
       "<p>1468 rows × 1 columns</p>\n",
       "</div>"
      ],
      "text/plain": [
       "                 SPY\n",
       "Date                \n",
       "2018-01-03  10063.27\n",
       "2018-01-04  10104.09\n",
       "2018-01-05  10172.26\n",
       "2018-01-08  10191.04\n",
       "2018-01-09  10214.30\n",
       "...              ...\n",
       "2023-10-26  16840.15\n",
       "2023-10-27  16763.82\n",
       "2023-10-30  16964.24\n",
       "2023-10-31  17070.78\n",
       "2023-11-01  17252.84\n",
       "\n",
       "[1468 rows x 1 columns]"
      ]
     },
     "execution_count": 212,
     "metadata": {},
     "output_type": "execute_result"
    }
   ],
   "source": [
    "spy_returns = CanaryFinancialCalculations.cumulative_returns_benchmark(comparing_portfolios_pct_chg, initial_investment, \"SPY\")\n",
    "spy_returns"
   ]
  },
  {
   "cell_type": "code",
   "execution_count": 213,
   "metadata": {},
   "outputs": [
    {
     "data": {
      "text/html": [
       "<div>\n",
       "<style scoped>\n",
       "    .dataframe tbody tr th:only-of-type {\n",
       "        vertical-align: middle;\n",
       "    }\n",
       "\n",
       "    .dataframe tbody tr th {\n",
       "        vertical-align: top;\n",
       "    }\n",
       "\n",
       "    .dataframe thead th {\n",
       "        text-align: right;\n",
       "    }\n",
       "</style>\n",
       "<table border=\"1\" class=\"dataframe\">\n",
       "  <thead>\n",
       "    <tr style=\"text-align: right;\">\n",
       "      <th></th>\n",
       "      <th>IGM</th>\n",
       "    </tr>\n",
       "    <tr>\n",
       "      <th>Date</th>\n",
       "      <th></th>\n",
       "    </tr>\n",
       "  </thead>\n",
       "  <tbody>\n",
       "    <tr>\n",
       "      <th>2018-01-03</th>\n",
       "      <td>10122.78</td>\n",
       "    </tr>\n",
       "    <tr>\n",
       "      <th>2018-01-04</th>\n",
       "      <td>10174.28</td>\n",
       "    </tr>\n",
       "    <tr>\n",
       "      <th>2018-01-05</th>\n",
       "      <td>10283.88</td>\n",
       "    </tr>\n",
       "    <tr>\n",
       "      <th>2018-01-08</th>\n",
       "      <td>10350.36</td>\n",
       "    </tr>\n",
       "    <tr>\n",
       "      <th>2018-01-09</th>\n",
       "      <td>10325.21</td>\n",
       "    </tr>\n",
       "    <tr>\n",
       "      <th>...</th>\n",
       "      <td>...</td>\n",
       "    </tr>\n",
       "    <tr>\n",
       "      <th>2023-10-26</th>\n",
       "      <td>21911.72</td>\n",
       "    </tr>\n",
       "    <tr>\n",
       "      <th>2023-10-27</th>\n",
       "      <td>21995.34</td>\n",
       "    </tr>\n",
       "    <tr>\n",
       "      <th>2023-10-30</th>\n",
       "      <td>22232.14</td>\n",
       "    </tr>\n",
       "    <tr>\n",
       "      <th>2023-10-31</th>\n",
       "      <td>22392.56</td>\n",
       "    </tr>\n",
       "    <tr>\n",
       "      <th>2023-11-01</th>\n",
       "      <td>22794.51</td>\n",
       "    </tr>\n",
       "  </tbody>\n",
       "</table>\n",
       "<p>1468 rows × 1 columns</p>\n",
       "</div>"
      ],
      "text/plain": [
       "                 IGM\n",
       "Date                \n",
       "2018-01-03  10122.78\n",
       "2018-01-04  10174.28\n",
       "2018-01-05  10283.88\n",
       "2018-01-08  10350.36\n",
       "2018-01-09  10325.21\n",
       "...              ...\n",
       "2023-10-26  21911.72\n",
       "2023-10-27  21995.34\n",
       "2023-10-30  22232.14\n",
       "2023-10-31  22392.56\n",
       "2023-11-01  22794.51\n",
       "\n",
       "[1468 rows x 1 columns]"
      ]
     },
     "execution_count": 213,
     "metadata": {},
     "output_type": "execute_result"
    }
   ],
   "source": [
    "igm_returns = CanaryFinancialCalculations.cumulative_returns_benchmark(comparing_portfolios_pct_chg, initial_investment, \"IGM\")\n",
    "igm_returns"
   ]
  },
  {
   "cell_type": "code",
   "execution_count": 214,
   "metadata": {},
   "outputs": [
    {
     "data": {
      "text/html": [
       "<div>\n",
       "<style scoped>\n",
       "    .dataframe tbody tr th:only-of-type {\n",
       "        vertical-align: middle;\n",
       "    }\n",
       "\n",
       "    .dataframe tbody tr th {\n",
       "        vertical-align: top;\n",
       "    }\n",
       "\n",
       "    .dataframe thead th {\n",
       "        text-align: right;\n",
       "    }\n",
       "</style>\n",
       "<table border=\"1\" class=\"dataframe\">\n",
       "  <thead>\n",
       "    <tr style=\"text-align: right;\">\n",
       "      <th></th>\n",
       "      <th>PSI</th>\n",
       "    </tr>\n",
       "    <tr>\n",
       "      <th>Date</th>\n",
       "      <th></th>\n",
       "    </tr>\n",
       "  </thead>\n",
       "  <tbody>\n",
       "    <tr>\n",
       "      <th>2018-01-03</th>\n",
       "      <td>10154.76</td>\n",
       "    </tr>\n",
       "    <tr>\n",
       "      <th>2018-01-04</th>\n",
       "      <td>10226.19</td>\n",
       "    </tr>\n",
       "    <tr>\n",
       "      <th>2018-01-05</th>\n",
       "      <td>10303.57</td>\n",
       "    </tr>\n",
       "    <tr>\n",
       "      <th>2018-01-08</th>\n",
       "      <td>10392.86</td>\n",
       "    </tr>\n",
       "    <tr>\n",
       "      <th>2018-01-09</th>\n",
       "      <td>10250.00</td>\n",
       "    </tr>\n",
       "    <tr>\n",
       "      <th>...</th>\n",
       "      <td>...</td>\n",
       "    </tr>\n",
       "    <tr>\n",
       "      <th>2023-10-26</th>\n",
       "      <td>22970.24</td>\n",
       "    </tr>\n",
       "    <tr>\n",
       "      <th>2023-10-27</th>\n",
       "      <td>23047.62</td>\n",
       "    </tr>\n",
       "    <tr>\n",
       "      <th>2023-10-30</th>\n",
       "      <td>22571.43</td>\n",
       "    </tr>\n",
       "    <tr>\n",
       "      <th>2023-10-31</th>\n",
       "      <td>22642.86</td>\n",
       "    </tr>\n",
       "    <tr>\n",
       "      <th>2023-11-01</th>\n",
       "      <td>22976.19</td>\n",
       "    </tr>\n",
       "  </tbody>\n",
       "</table>\n",
       "<p>1468 rows × 1 columns</p>\n",
       "</div>"
      ],
      "text/plain": [
       "                 PSI\n",
       "Date                \n",
       "2018-01-03  10154.76\n",
       "2018-01-04  10226.19\n",
       "2018-01-05  10303.57\n",
       "2018-01-08  10392.86\n",
       "2018-01-09  10250.00\n",
       "...              ...\n",
       "2023-10-26  22970.24\n",
       "2023-10-27  23047.62\n",
       "2023-10-30  22571.43\n",
       "2023-10-31  22642.86\n",
       "2023-11-01  22976.19\n",
       "\n",
       "[1468 rows x 1 columns]"
      ]
     },
     "execution_count": 214,
     "metadata": {},
     "output_type": "execute_result"
    }
   ],
   "source": [
    "psi_returns = CanaryFinancialCalculations.cumulative_returns_benchmark(comparing_portfolios_pct_chg, initial_investment, \"PSI\")\n",
    "psi_returns"
   ]
  },
  {
   "cell_type": "code",
   "execution_count": 215,
   "metadata": {},
   "outputs": [
    {
     "data": {
      "text/html": [
       "<div>\n",
       "<style scoped>\n",
       "    .dataframe tbody tr th:only-of-type {\n",
       "        vertical-align: middle;\n",
       "    }\n",
       "\n",
       "    .dataframe tbody tr th {\n",
       "        vertical-align: top;\n",
       "    }\n",
       "\n",
       "    .dataframe thead th {\n",
       "        text-align: right;\n",
       "    }\n",
       "</style>\n",
       "<table border=\"1\" class=\"dataframe\">\n",
       "  <thead>\n",
       "    <tr style=\"text-align: right;\">\n",
       "      <th></th>\n",
       "      <th>QQQ</th>\n",
       "    </tr>\n",
       "    <tr>\n",
       "      <th>Date</th>\n",
       "      <th></th>\n",
       "    </tr>\n",
       "  </thead>\n",
       "  <tbody>\n",
       "    <tr>\n",
       "      <th>2018-01-03</th>\n",
       "      <td>10096.84</td>\n",
       "    </tr>\n",
       "    <tr>\n",
       "      <th>2018-01-04</th>\n",
       "      <td>10114.63</td>\n",
       "    </tr>\n",
       "    <tr>\n",
       "      <th>2018-01-05</th>\n",
       "      <td>10216.09</td>\n",
       "    </tr>\n",
       "    <tr>\n",
       "      <th>2018-01-08</th>\n",
       "      <td>10256.28</td>\n",
       "    </tr>\n",
       "    <tr>\n",
       "      <th>2018-01-09</th>\n",
       "      <td>10256.93</td>\n",
       "    </tr>\n",
       "    <tr>\n",
       "      <th>...</th>\n",
       "      <td>...</td>\n",
       "    </tr>\n",
       "    <tr>\n",
       "      <th>2023-10-26</th>\n",
       "      <td>22640.49</td>\n",
       "    </tr>\n",
       "    <tr>\n",
       "      <th>2023-10-27</th>\n",
       "      <td>22749.19</td>\n",
       "    </tr>\n",
       "    <tr>\n",
       "      <th>2023-10-30</th>\n",
       "      <td>23005.47</td>\n",
       "    </tr>\n",
       "    <tr>\n",
       "      <th>2023-10-31</th>\n",
       "      <td>23115.49</td>\n",
       "    </tr>\n",
       "    <tr>\n",
       "      <th>2023-11-01</th>\n",
       "      <td>23516.70</td>\n",
       "    </tr>\n",
       "  </tbody>\n",
       "</table>\n",
       "<p>1468 rows × 1 columns</p>\n",
       "</div>"
      ],
      "text/plain": [
       "                 QQQ\n",
       "Date                \n",
       "2018-01-03  10096.84\n",
       "2018-01-04  10114.63\n",
       "2018-01-05  10216.09\n",
       "2018-01-08  10256.28\n",
       "2018-01-09  10256.93\n",
       "...              ...\n",
       "2023-10-26  22640.49\n",
       "2023-10-27  22749.19\n",
       "2023-10-30  23005.47\n",
       "2023-10-31  23115.49\n",
       "2023-11-01  23516.70\n",
       "\n",
       "[1468 rows x 1 columns]"
      ]
     },
     "execution_count": 215,
     "metadata": {},
     "output_type": "execute_result"
    }
   ],
   "source": [
    "qqq_returns = CanaryFinancialCalculations.cumulative_returns_benchmark(comparing_portfolios_pct_chg, initial_investment, \"QQQ\")\n",
    "qqq_returns"
   ]
  },
  {
   "cell_type": "markdown",
   "metadata": {},
   "source": [
    "## Correlation"
   ]
  },
  {
   "cell_type": "code",
   "execution_count": 216,
   "metadata": {},
   "outputs": [
    {
     "data": {
      "text/html": [
       "<div>\n",
       "<style scoped>\n",
       "    .dataframe tbody tr th:only-of-type {\n",
       "        vertical-align: middle;\n",
       "    }\n",
       "\n",
       "    .dataframe tbody tr th {\n",
       "        vertical-align: top;\n",
       "    }\n",
       "\n",
       "    .dataframe thead th {\n",
       "        text-align: right;\n",
       "    }\n",
       "</style>\n",
       "<table border=\"1\" class=\"dataframe\">\n",
       "  <thead>\n",
       "    <tr style=\"text-align: right;\">\n",
       "      <th></th>\n",
       "      <th></th>\n",
       "      <th>Portfolio</th>\n",
       "      <th>IGM</th>\n",
       "      <th>PSI</th>\n",
       "      <th>QQQ</th>\n",
       "      <th>SPY</th>\n",
       "    </tr>\n",
       "    <tr>\n",
       "      <th>Date</th>\n",
       "      <th></th>\n",
       "      <th></th>\n",
       "      <th></th>\n",
       "      <th></th>\n",
       "      <th></th>\n",
       "      <th></th>\n",
       "    </tr>\n",
       "  </thead>\n",
       "  <tbody>\n",
       "    <tr>\n",
       "      <th rowspan=\"5\" valign=\"top\">2018-01-17</th>\n",
       "      <th>Portfolio</th>\n",
       "      <td>1.00</td>\n",
       "      <td>0.64</td>\n",
       "      <td>0.74</td>\n",
       "      <td>0.45</td>\n",
       "      <td>0.33</td>\n",
       "    </tr>\n",
       "    <tr>\n",
       "      <th>IGM</th>\n",
       "      <td>0.64</td>\n",
       "      <td>1.00</td>\n",
       "      <td>0.89</td>\n",
       "      <td>0.96</td>\n",
       "      <td>0.88</td>\n",
       "    </tr>\n",
       "    <tr>\n",
       "      <th>PSI</th>\n",
       "      <td>0.74</td>\n",
       "      <td>0.89</td>\n",
       "      <td>1.00</td>\n",
       "      <td>0.80</td>\n",
       "      <td>0.71</td>\n",
       "    </tr>\n",
       "    <tr>\n",
       "      <th>QQQ</th>\n",
       "      <td>0.45</td>\n",
       "      <td>0.96</td>\n",
       "      <td>0.80</td>\n",
       "      <td>1.00</td>\n",
       "      <td>0.93</td>\n",
       "    </tr>\n",
       "    <tr>\n",
       "      <th>SPY</th>\n",
       "      <td>0.33</td>\n",
       "      <td>0.88</td>\n",
       "      <td>0.71</td>\n",
       "      <td>0.93</td>\n",
       "      <td>1.00</td>\n",
       "    </tr>\n",
       "    <tr>\n",
       "      <th>...</th>\n",
       "      <th>...</th>\n",
       "      <td>...</td>\n",
       "      <td>...</td>\n",
       "      <td>...</td>\n",
       "      <td>...</td>\n",
       "      <td>...</td>\n",
       "    </tr>\n",
       "    <tr>\n",
       "      <th rowspan=\"5\" valign=\"top\">2023-11-01</th>\n",
       "      <th>Portfolio</th>\n",
       "      <td>1.00</td>\n",
       "      <td>0.90</td>\n",
       "      <td>0.86</td>\n",
       "      <td>0.92</td>\n",
       "      <td>0.81</td>\n",
       "    </tr>\n",
       "    <tr>\n",
       "      <th>IGM</th>\n",
       "      <td>0.90</td>\n",
       "      <td>1.00</td>\n",
       "      <td>0.67</td>\n",
       "      <td>0.98</td>\n",
       "      <td>0.91</td>\n",
       "    </tr>\n",
       "    <tr>\n",
       "      <th>PSI</th>\n",
       "      <td>0.86</td>\n",
       "      <td>0.67</td>\n",
       "      <td>1.00</td>\n",
       "      <td>0.67</td>\n",
       "      <td>0.57</td>\n",
       "    </tr>\n",
       "    <tr>\n",
       "      <th>QQQ</th>\n",
       "      <td>0.92</td>\n",
       "      <td>0.98</td>\n",
       "      <td>0.67</td>\n",
       "      <td>1.00</td>\n",
       "      <td>0.93</td>\n",
       "    </tr>\n",
       "    <tr>\n",
       "      <th>SPY</th>\n",
       "      <td>0.81</td>\n",
       "      <td>0.91</td>\n",
       "      <td>0.57</td>\n",
       "      <td>0.93</td>\n",
       "      <td>1.00</td>\n",
       "    </tr>\n",
       "  </tbody>\n",
       "</table>\n",
       "<p>7295 rows × 5 columns</p>\n",
       "</div>"
      ],
      "text/plain": [
       "                      Portfolio   IGM   PSI   QQQ   SPY\n",
       "Date                                                   \n",
       "2018-01-17 Portfolio       1.00  0.64  0.74  0.45  0.33\n",
       "           IGM             0.64  1.00  0.89  0.96  0.88\n",
       "           PSI             0.74  0.89  1.00  0.80  0.71\n",
       "           QQQ             0.45  0.96  0.80  1.00  0.93\n",
       "           SPY             0.33  0.88  0.71  0.93  1.00\n",
       "...                         ...   ...   ...   ...   ...\n",
       "2023-11-01 Portfolio       1.00  0.90  0.86  0.92  0.81\n",
       "           IGM             0.90  1.00  0.67  0.98  0.91\n",
       "           PSI             0.86  0.67  1.00  0.67  0.57\n",
       "           QQQ             0.92  0.98  0.67  1.00  0.93\n",
       "           SPY             0.81  0.91  0.57  0.93  1.00\n",
       "\n",
       "[7295 rows x 5 columns]"
      ]
     },
     "execution_count": 216,
     "metadata": {},
     "output_type": "execute_result"
    }
   ],
   "source": [
    "user_rolling_correlation = CanaryFinancialCalculations.rolling_correlation(comparing_portfolios_pct_chg)\n",
    "user_rolling_correlation"
   ]
  },
  {
   "cell_type": "code",
   "execution_count": 217,
   "metadata": {},
   "outputs": [
    {
     "data": {
      "text/html": [
       "<div>\n",
       "<style scoped>\n",
       "    .dataframe tbody tr th:only-of-type {\n",
       "        vertical-align: middle;\n",
       "    }\n",
       "\n",
       "    .dataframe tbody tr th {\n",
       "        vertical-align: top;\n",
       "    }\n",
       "\n",
       "    .dataframe thead th {\n",
       "        text-align: right;\n",
       "    }\n",
       "</style>\n",
       "<table border=\"1\" class=\"dataframe\">\n",
       "  <thead>\n",
       "    <tr style=\"text-align: right;\">\n",
       "      <th></th>\n",
       "      <th>Portfolio</th>\n",
       "      <th>IGM</th>\n",
       "      <th>PSI</th>\n",
       "      <th>QQQ</th>\n",
       "      <th>SPY</th>\n",
       "    </tr>\n",
       "  </thead>\n",
       "  <tbody>\n",
       "    <tr>\n",
       "      <th>Portfolio</th>\n",
       "      <td>1.00</td>\n",
       "      <td>0.87</td>\n",
       "      <td>0.80</td>\n",
       "      <td>0.89</td>\n",
       "      <td>0.80</td>\n",
       "    </tr>\n",
       "    <tr>\n",
       "      <th>IGM</th>\n",
       "      <td>0.87</td>\n",
       "      <td>1.00</td>\n",
       "      <td>0.87</td>\n",
       "      <td>0.99</td>\n",
       "      <td>0.92</td>\n",
       "    </tr>\n",
       "    <tr>\n",
       "      <th>PSI</th>\n",
       "      <td>0.80</td>\n",
       "      <td>0.87</td>\n",
       "      <td>1.00</td>\n",
       "      <td>0.86</td>\n",
       "      <td>0.82</td>\n",
       "    </tr>\n",
       "    <tr>\n",
       "      <th>QQQ</th>\n",
       "      <td>0.89</td>\n",
       "      <td>0.99</td>\n",
       "      <td>0.86</td>\n",
       "      <td>1.00</td>\n",
       "      <td>0.93</td>\n",
       "    </tr>\n",
       "    <tr>\n",
       "      <th>SPY</th>\n",
       "      <td>0.80</td>\n",
       "      <td>0.92</td>\n",
       "      <td>0.82</td>\n",
       "      <td>0.93</td>\n",
       "      <td>1.00</td>\n",
       "    </tr>\n",
       "  </tbody>\n",
       "</table>\n",
       "</div>"
      ],
      "text/plain": [
       "           Portfolio   IGM   PSI   QQQ   SPY\n",
       "Portfolio       1.00  0.87  0.80  0.89  0.80\n",
       "IGM             0.87  1.00  0.87  0.99  0.92\n",
       "PSI             0.80  0.87  1.00  0.86  0.82\n",
       "QQQ             0.89  0.99  0.86  1.00  0.93\n",
       "SPY             0.80  0.92  0.82  0.93  1.00"
      ]
     },
     "execution_count": 217,
     "metadata": {},
     "output_type": "execute_result"
    }
   ],
   "source": [
    "user_correlation = CanaryFinancialCalculations.correlation(comparing_portfolios_pct_chg)\n",
    "user_correlation"
   ]
  },
  {
   "cell_type": "markdown",
   "metadata": {},
   "source": [
    "## Covariance"
   ]
  },
  {
   "cell_type": "code",
   "execution_count": 218,
   "metadata": {},
   "outputs": [
    {
     "data": {
      "text/plain": [
       "Date\n",
       "2018-01-03         NaN\n",
       "2018-01-04         NaN\n",
       "2018-01-05         NaN\n",
       "2018-01-08         NaN\n",
       "2018-01-09         NaN\n",
       "                ...   \n",
       "2023-10-26    0.000143\n",
       "2023-10-27    0.000131\n",
       "2023-10-30    0.000131\n",
       "2023-10-31    0.000136\n",
       "2023-11-01    0.000149\n",
       "Length: 1468, dtype: float64"
      ]
     },
     "execution_count": 218,
     "metadata": {},
     "output_type": "execute_result"
    }
   ],
   "source": [
    "user_covariance = CanaryFinancialCalculations.covariance(comparing_portfolios_pct_chg, \"Portfolio\", \"SPY\")\n",
    "user_covariance"
   ]
  },
  {
   "cell_type": "markdown",
   "metadata": {},
   "source": [
    "## Variance"
   ]
  },
  {
   "cell_type": "code",
   "execution_count": 219,
   "metadata": {},
   "outputs": [
    {
     "data": {
      "text/plain": [
       "Date\n",
       "2018-01-03         NaN\n",
       "2018-01-04         NaN\n",
       "2018-01-05         NaN\n",
       "2018-01-08         NaN\n",
       "2018-01-09         NaN\n",
       "                ...   \n",
       "2023-10-26    0.000072\n",
       "2023-10-27    0.000069\n",
       "2023-10-30    0.000079\n",
       "2023-10-31    0.000081\n",
       "2023-11-01    0.000079\n",
       "Name: SPY, Length: 1468, dtype: float64"
      ]
     },
     "execution_count": 219,
     "metadata": {},
     "output_type": "execute_result"
    }
   ],
   "source": [
    "user_variance = CanaryFinancialCalculations.variance(comparing_portfolios_pct_chg, \"SPY\")\n",
    "user_variance"
   ]
  },
  {
   "cell_type": "markdown",
   "metadata": {},
   "source": [
    "## Beta"
   ]
  },
  {
   "cell_type": "code",
   "execution_count": 220,
   "metadata": {},
   "outputs": [
    {
     "data": {
      "text/html": [
       "<div>\n",
       "<style scoped>\n",
       "    .dataframe tbody tr th:only-of-type {\n",
       "        vertical-align: middle;\n",
       "    }\n",
       "\n",
       "    .dataframe tbody tr th {\n",
       "        vertical-align: top;\n",
       "    }\n",
       "\n",
       "    .dataframe thead th {\n",
       "        text-align: right;\n",
       "    }\n",
       "</style>\n",
       "<table border=\"1\" class=\"dataframe\">\n",
       "  <thead>\n",
       "    <tr style=\"text-align: right;\">\n",
       "      <th></th>\n",
       "      <th>Beta</th>\n",
       "    </tr>\n",
       "    <tr>\n",
       "      <th>Date</th>\n",
       "      <th></th>\n",
       "    </tr>\n",
       "  </thead>\n",
       "  <tbody>\n",
       "    <tr>\n",
       "      <th>2018-02-01</th>\n",
       "      <td>1.066304</td>\n",
       "    </tr>\n",
       "    <tr>\n",
       "      <th>2018-02-02</th>\n",
       "      <td>1.482470</td>\n",
       "    </tr>\n",
       "    <tr>\n",
       "      <th>2018-02-05</th>\n",
       "      <td>1.225184</td>\n",
       "    </tr>\n",
       "    <tr>\n",
       "      <th>2018-02-06</th>\n",
       "      <td>1.202182</td>\n",
       "    </tr>\n",
       "    <tr>\n",
       "      <th>2018-02-07</th>\n",
       "      <td>1.180657</td>\n",
       "    </tr>\n",
       "    <tr>\n",
       "      <th>...</th>\n",
       "      <td>...</td>\n",
       "    </tr>\n",
       "    <tr>\n",
       "      <th>2023-10-26</th>\n",
       "      <td>1.986899</td>\n",
       "    </tr>\n",
       "    <tr>\n",
       "      <th>2023-10-27</th>\n",
       "      <td>1.891297</td>\n",
       "    </tr>\n",
       "    <tr>\n",
       "      <th>2023-10-30</th>\n",
       "      <td>1.663414</td>\n",
       "    </tr>\n",
       "    <tr>\n",
       "      <th>2023-10-31</th>\n",
       "      <td>1.665763</td>\n",
       "    </tr>\n",
       "    <tr>\n",
       "      <th>2023-11-01</th>\n",
       "      <td>1.885446</td>\n",
       "    </tr>\n",
       "  </tbody>\n",
       "</table>\n",
       "<p>1448 rows × 1 columns</p>\n",
       "</div>"
      ],
      "text/plain": [
       "                Beta\n",
       "Date                \n",
       "2018-02-01  1.066304\n",
       "2018-02-02  1.482470\n",
       "2018-02-05  1.225184\n",
       "2018-02-06  1.202182\n",
       "2018-02-07  1.180657\n",
       "...              ...\n",
       "2023-10-26  1.986899\n",
       "2023-10-27  1.891297\n",
       "2023-10-30  1.663414\n",
       "2023-10-31  1.665763\n",
       "2023-11-01  1.885446\n",
       "\n",
       "[1448 rows x 1 columns]"
      ]
     },
     "execution_count": 220,
     "metadata": {},
     "output_type": "execute_result"
    }
   ],
   "source": [
    "user_beta = CanaryFinancialCalculations.beta(user_covariance, user_variance)\n",
    "user_beta"
   ]
  },
  {
   "cell_type": "code",
   "execution_count": 221,
   "metadata": {},
   "outputs": [
    {
     "name": "stdout",
     "output_type": "stream",
     "text": [
      "The average beta of your portfolio is 1.55\n"
     ]
    }
   ],
   "source": [
    "user_avg_beta = CanaryFinancialCalculations.avg_beta(user_beta)\n",
    "print(f'The average beta of your portfolio is {user_avg_beta[0]}')"
   ]
  },
  {
   "cell_type": "markdown",
   "metadata": {},
   "source": [
    "## Drawdown"
   ]
  },
  {
   "cell_type": "code",
   "execution_count": 222,
   "metadata": {},
   "outputs": [
    {
     "data": {
      "text/html": [
       "<div>\n",
       "<style scoped>\n",
       "    .dataframe tbody tr th:only-of-type {\n",
       "        vertical-align: middle;\n",
       "    }\n",
       "\n",
       "    .dataframe tbody tr th {\n",
       "        vertical-align: top;\n",
       "    }\n",
       "\n",
       "    .dataframe thead th {\n",
       "        text-align: right;\n",
       "    }\n",
       "</style>\n",
       "<table border=\"1\" class=\"dataframe\">\n",
       "  <thead>\n",
       "    <tr style=\"text-align: right;\">\n",
       "      <th></th>\n",
       "      <th>Portfolio</th>\n",
       "    </tr>\n",
       "    <tr>\n",
       "      <th>Date</th>\n",
       "      <th></th>\n",
       "    </tr>\n",
       "  </thead>\n",
       "  <tbody>\n",
       "    <tr>\n",
       "      <th>2018-01-02</th>\n",
       "      <td>0.00</td>\n",
       "    </tr>\n",
       "    <tr>\n",
       "      <th>2018-01-03</th>\n",
       "      <td>0.98</td>\n",
       "    </tr>\n",
       "    <tr>\n",
       "      <th>2018-01-04</th>\n",
       "      <td>1.59</td>\n",
       "    </tr>\n",
       "    <tr>\n",
       "      <th>2018-01-05</th>\n",
       "      <td>2.41</td>\n",
       "    </tr>\n",
       "    <tr>\n",
       "      <th>2018-01-08</th>\n",
       "      <td>3.72</td>\n",
       "    </tr>\n",
       "    <tr>\n",
       "      <th>...</th>\n",
       "      <td>...</td>\n",
       "    </tr>\n",
       "    <tr>\n",
       "      <th>2023-10-26</th>\n",
       "      <td>86.68</td>\n",
       "    </tr>\n",
       "    <tr>\n",
       "      <th>2023-10-27</th>\n",
       "      <td>86.68</td>\n",
       "    </tr>\n",
       "    <tr>\n",
       "      <th>2023-10-30</th>\n",
       "      <td>86.68</td>\n",
       "    </tr>\n",
       "    <tr>\n",
       "      <th>2023-10-31</th>\n",
       "      <td>86.68</td>\n",
       "    </tr>\n",
       "    <tr>\n",
       "      <th>2023-11-01</th>\n",
       "      <td>86.68</td>\n",
       "    </tr>\n",
       "  </tbody>\n",
       "</table>\n",
       "<p>1469 rows × 1 columns</p>\n",
       "</div>"
      ],
      "text/plain": [
       "            Portfolio\n",
       "Date                 \n",
       "2018-01-02       0.00\n",
       "2018-01-03       0.98\n",
       "2018-01-04       1.59\n",
       "2018-01-05       2.41\n",
       "2018-01-08       3.72\n",
       "...               ...\n",
       "2023-10-26      86.68\n",
       "2023-10-27      86.68\n",
       "2023-10-30      86.68\n",
       "2023-10-31      86.68\n",
       "2023-11-01      86.68\n",
       "\n",
       "[1469 rows x 1 columns]"
      ]
     },
     "execution_count": 222,
     "metadata": {},
     "output_type": "execute_result"
    }
   ],
   "source": [
    "user_daily_drawdown = CanaryFinancialCalculations.daily_drawdown(weighted_portfolio_df)\n",
    "user_daily_drawdown"
   ]
  },
  {
   "cell_type": "markdown",
   "metadata": {},
   "source": [
    "## Compounded Annual Growth Rate"
   ]
  },
  {
   "cell_type": "code",
   "execution_count": 223,
   "metadata": {},
   "outputs": [
    {
     "name": "stdout",
     "output_type": "stream",
     "text": [
      "The compounded annual growth rate of your portfolio is 37.11% \n"
     ]
    }
   ],
   "source": [
    "user_annual_returns = CanaryFinancialCalculations.annual_return(weighted_portfolio_df, 'Portfolio')\n",
    "print(f'The compounded annual growth rate of your portfolio is {user_annual_returns}% ')"
   ]
  },
  {
   "cell_type": "code",
   "execution_count": 224,
   "metadata": {},
   "outputs": [
    {
     "name": "stdout",
     "output_type": "stream",
     "text": [
      "The compounded annual growth rate of SPY is 11.52%\n"
     ]
    }
   ],
   "source": [
    "benchmark_annual_return = CanaryFinancialCalculations.annual_return(benchmark_df, 'SPY')\n",
    "print(f'The compounded annual growth rate of SPY is {benchmark_annual_return}%')"
   ]
  },
  {
   "cell_type": "markdown",
   "metadata": {},
   "source": [
    "## Tracking Error"
   ]
  },
  {
   "cell_type": "code",
   "execution_count": 225,
   "metadata": {},
   "outputs": [
    {
     "name": "stdout",
     "output_type": "stream",
     "text": [
      "The tracking error of your portfolio compared to SPY is 25.59% CAGR\n"
     ]
    }
   ],
   "source": [
    "user_tracking_error = CanaryFinancialCalculations.tracking_error(user_annual_returns, benchmark_annual_return)\n",
    "print(f'The tracking error of your portfolio compared to SPY is {user_tracking_error}% CAGR')"
   ]
  },
  {
   "cell_type": "markdown",
   "metadata": {},
   "source": [
    "## Sharpe Ratio"
   ]
  },
  {
   "cell_type": "code",
   "execution_count": 226,
   "metadata": {},
   "outputs": [
    {
     "name": "stdout",
     "output_type": "stream",
     "text": [
      "The sharpe ratio of your portfolio is 1.13\n"
     ]
    }
   ],
   "source": [
    "user_sharpe_ratio = CanaryFinancialCalculations.sharpe_ratio(user_portfolio_pct_chg)\n",
    "print(f'The sharpe ratio of your portfolio is {user_sharpe_ratio[0]}')"
   ]
  },
  {
   "cell_type": "markdown",
   "metadata": {},
   "source": [
    "## Return on Investment"
   ]
  },
  {
   "cell_type": "code",
   "execution_count": 227,
   "metadata": {},
   "outputs": [
    {
     "name": "stdout",
     "output_type": "stream",
     "text": [
      "The return on investment for your portfolio is 641.04%\n"
     ]
    }
   ],
   "source": [
    "user_roi = CanaryFinancialCalculations.return_on_investment(user_cumulative_returns, 'Profit', initial_investment)\n",
    "print(f'The return on investment for your portfolio is {user_roi}%')"
   ]
  },
  {
   "cell_type": "code",
   "execution_count": 228,
   "metadata": {},
   "outputs": [
    {
     "name": "stdout",
     "output_type": "stream",
     "text": [
      "The return on investment for SPY would have been 72.53%\n"
     ]
    }
   ],
   "source": [
    "spy_roi = CanaryFinancialCalculations.return_on_investment(spy_returns, 'SPY', initial_investment)\n",
    "print(f'The return on investment for SPY would have been {spy_roi}%')"
   ]
  },
  {
   "cell_type": "code",
   "execution_count": 229,
   "metadata": {},
   "outputs": [
    {
     "name": "stdout",
     "output_type": "stream",
     "text": [
      "The return on investment for IGM would have been 127.95%\n"
     ]
    }
   ],
   "source": [
    "igm_roi = CanaryFinancialCalculations.return_on_investment(igm_returns, 'IGM', initial_investment)\n",
    "print(f'The return on investment for IGM would have been {igm_roi}%')"
   ]
  },
  {
   "cell_type": "code",
   "execution_count": 230,
   "metadata": {},
   "outputs": [
    {
     "name": "stdout",
     "output_type": "stream",
     "text": [
      "The return on investment for PSI would have been 129.76%\n"
     ]
    }
   ],
   "source": [
    "psi_roi = CanaryFinancialCalculations.return_on_investment(psi_returns, 'PSI', initial_investment)\n",
    "print(f'The return on investment for PSI would have been {psi_roi}%')"
   ]
  },
  {
   "cell_type": "code",
   "execution_count": 231,
   "metadata": {},
   "outputs": [
    {
     "name": "stdout",
     "output_type": "stream",
     "text": [
      "The return on investment for QQQ would have been 135.17%\n"
     ]
    }
   ],
   "source": [
    "qqq_roi = CanaryFinancialCalculations.return_on_investment(qqq_returns, 'QQQ', initial_investment)\n",
    "print(f'The return on investment for QQQ would have been {qqq_roi}%')"
   ]
  },
  {
   "cell_type": "code",
   "execution_count": 232,
   "metadata": {},
   "outputs": [
    {
     "data": {
      "text/html": [
       "<div>\n",
       "<style scoped>\n",
       "    .dataframe tbody tr th:only-of-type {\n",
       "        vertical-align: middle;\n",
       "    }\n",
       "\n",
       "    .dataframe tbody tr th {\n",
       "        vertical-align: top;\n",
       "    }\n",
       "\n",
       "    .dataframe thead th {\n",
       "        text-align: right;\n",
       "    }\n",
       "</style>\n",
       "<table border=\"1\" class=\"dataframe\">\n",
       "  <thead>\n",
       "    <tr style=\"text-align: right;\">\n",
       "      <th></th>\n",
       "      <th>Compared</th>\n",
       "      <th>Percentage</th>\n",
       "    </tr>\n",
       "  </thead>\n",
       "  <tbody>\n",
       "    <tr>\n",
       "      <th>0</th>\n",
       "      <td>Portfolio</td>\n",
       "      <td>641.04</td>\n",
       "    </tr>\n",
       "    <tr>\n",
       "      <th>1</th>\n",
       "      <td>SPY</td>\n",
       "      <td>72.53</td>\n",
       "    </tr>\n",
       "    <tr>\n",
       "      <th>2</th>\n",
       "      <td>IGM</td>\n",
       "      <td>127.95</td>\n",
       "    </tr>\n",
       "    <tr>\n",
       "      <th>3</th>\n",
       "      <td>PSI</td>\n",
       "      <td>129.76</td>\n",
       "    </tr>\n",
       "    <tr>\n",
       "      <th>4</th>\n",
       "      <td>QQQ</td>\n",
       "      <td>135.17</td>\n",
       "    </tr>\n",
       "  </tbody>\n",
       "</table>\n",
       "</div>"
      ],
      "text/plain": [
       "    Compared  Percentage\n",
       "0  Portfolio      641.04\n",
       "1        SPY       72.53\n",
       "2        IGM      127.95\n",
       "3        PSI      129.76\n",
       "4        QQQ      135.17"
      ]
     },
     "execution_count": 232,
     "metadata": {},
     "output_type": "execute_result"
    }
   ],
   "source": [
    "compared_roi = CanaryFinancialCalculations.roi_comparison(user_roi, spy_roi, igm_roi, psi_roi, qqq_roi)\n",
    "compared_roi"
   ]
  },
  {
   "cell_type": "markdown",
   "metadata": {},
   "source": [
    "## Standard Deviation"
   ]
  },
  {
   "cell_type": "code",
   "execution_count": 233,
   "metadata": {},
   "outputs": [
    {
     "data": {
      "text/html": [
       "<div>\n",
       "<style scoped>\n",
       "    .dataframe tbody tr th:only-of-type {\n",
       "        vertical-align: middle;\n",
       "    }\n",
       "\n",
       "    .dataframe tbody tr th {\n",
       "        vertical-align: top;\n",
       "    }\n",
       "\n",
       "    .dataframe thead th {\n",
       "        text-align: right;\n",
       "    }\n",
       "</style>\n",
       "<table border=\"1\" class=\"dataframe\">\n",
       "  <thead>\n",
       "    <tr style=\"text-align: right;\">\n",
       "      <th></th>\n",
       "      <th>Portfolio</th>\n",
       "    </tr>\n",
       "    <tr>\n",
       "      <th>Date</th>\n",
       "      <th></th>\n",
       "    </tr>\n",
       "  </thead>\n",
       "  <tbody>\n",
       "    <tr>\n",
       "      <th>2018-02-01</th>\n",
       "      <td>12.13</td>\n",
       "    </tr>\n",
       "    <tr>\n",
       "      <th>2018-02-02</th>\n",
       "      <td>15.70</td>\n",
       "    </tr>\n",
       "    <tr>\n",
       "      <th>2018-02-05</th>\n",
       "      <td>18.36</td>\n",
       "    </tr>\n",
       "    <tr>\n",
       "      <th>2018-02-06</th>\n",
       "      <td>18.79</td>\n",
       "    </tr>\n",
       "    <tr>\n",
       "      <th>2018-02-07</th>\n",
       "      <td>17.94</td>\n",
       "    </tr>\n",
       "    <tr>\n",
       "      <th>...</th>\n",
       "      <td>...</td>\n",
       "    </tr>\n",
       "    <tr>\n",
       "      <th>2023-10-26</th>\n",
       "      <td>19.08</td>\n",
       "    </tr>\n",
       "    <tr>\n",
       "      <th>2023-10-27</th>\n",
       "      <td>18.51</td>\n",
       "    </tr>\n",
       "    <tr>\n",
       "      <th>2023-10-30</th>\n",
       "      <td>18.46</td>\n",
       "    </tr>\n",
       "    <tr>\n",
       "      <th>2023-10-31</th>\n",
       "      <td>18.37</td>\n",
       "    </tr>\n",
       "    <tr>\n",
       "      <th>2023-11-01</th>\n",
       "      <td>20.39</td>\n",
       "    </tr>\n",
       "  </tbody>\n",
       "</table>\n",
       "<p>1448 rows × 1 columns</p>\n",
       "</div>"
      ],
      "text/plain": [
       "            Portfolio\n",
       "Date                 \n",
       "2018-02-01      12.13\n",
       "2018-02-02      15.70\n",
       "2018-02-05      18.36\n",
       "2018-02-06      18.79\n",
       "2018-02-07      17.94\n",
       "...               ...\n",
       "2023-10-26      19.08\n",
       "2023-10-27      18.51\n",
       "2023-10-30      18.46\n",
       "2023-10-31      18.37\n",
       "2023-11-01      20.39\n",
       "\n",
       "[1448 rows x 1 columns]"
      ]
     },
     "execution_count": 233,
     "metadata": {},
     "output_type": "execute_result"
    }
   ],
   "source": [
    "user_rolling_std = CanaryFinancialCalculations.standard_deviation(user_portfolio_pct_chg)\n",
    "user_rolling_std"
   ]
  },
  {
   "cell_type": "code",
   "execution_count": 234,
   "metadata": {},
   "outputs": [
    {
     "name": "stdout",
     "output_type": "stream",
     "text": [
      "The average standard deviation of your portfolio is 21.16\n"
     ]
    }
   ],
   "source": [
    "user_std = CanaryFinancialCalculations.standard_deviation_mean(user_rolling_std)\n",
    "print(f'The average standard deviation of your portfolio is {user_std[0]}')"
   ]
  },
  {
   "cell_type": "markdown",
   "metadata": {},
   "source": [
    "# Charts"
   ]
  },
  {
   "cell_type": "markdown",
   "metadata": {},
   "source": [
    "## Portfolio Distribution"
   ]
  },
  {
   "cell_type": "code",
   "execution_count": 235,
   "metadata": {},
   "outputs": [
    {
     "data": {
      "application/vnd.plotly.v1+json": {
       "config": {
        "plotlyServerURL": "https://plot.ly"
       },
       "data": [
        {
         "domain": {
          "x": [
           0,
           1
          ],
          "y": [
           0,
           1
          ]
         },
         "hole": 0.5,
         "hovertemplate": "label=%{label}<br>value=%{value}<extra></extra>",
         "labels": [
          "TSLA",
          "AAPL",
          "AMD",
          "GOOGL"
         ],
         "legendgroup": "",
         "name": "",
         "showlegend": true,
         "type": "pie",
         "values": [
          0.25,
          0.25,
          0.25,
          0.25
         ]
        }
       ],
       "layout": {
        "legend": {
         "font": {
          "color": "white"
         },
         "tracegroupgap": 0
        },
        "paper_bgcolor": "#00221c",
        "piecolorway": [
         "#289c40",
         "#a5e06c",
         "#0e5b45",
         "#1d9371"
        ],
        "plot_bgcolor": "#00221c",
        "template": {
         "data": {
          "bar": [
           {
            "error_x": {
             "color": "#2a3f5f"
            },
            "error_y": {
             "color": "#2a3f5f"
            },
            "marker": {
             "line": {
              "color": "#E5ECF6",
              "width": 0.5
             },
             "pattern": {
              "fillmode": "overlay",
              "size": 10,
              "solidity": 0.2
             }
            },
            "type": "bar"
           }
          ],
          "barpolar": [
           {
            "marker": {
             "line": {
              "color": "#E5ECF6",
              "width": 0.5
             },
             "pattern": {
              "fillmode": "overlay",
              "size": 10,
              "solidity": 0.2
             }
            },
            "type": "barpolar"
           }
          ],
          "carpet": [
           {
            "aaxis": {
             "endlinecolor": "#2a3f5f",
             "gridcolor": "white",
             "linecolor": "white",
             "minorgridcolor": "white",
             "startlinecolor": "#2a3f5f"
            },
            "baxis": {
             "endlinecolor": "#2a3f5f",
             "gridcolor": "white",
             "linecolor": "white",
             "minorgridcolor": "white",
             "startlinecolor": "#2a3f5f"
            },
            "type": "carpet"
           }
          ],
          "choropleth": [
           {
            "colorbar": {
             "outlinewidth": 0,
             "ticks": ""
            },
            "type": "choropleth"
           }
          ],
          "contour": [
           {
            "colorbar": {
             "outlinewidth": 0,
             "ticks": ""
            },
            "colorscale": [
             [
              0,
              "#0d0887"
             ],
             [
              0.1111111111111111,
              "#46039f"
             ],
             [
              0.2222222222222222,
              "#7201a8"
             ],
             [
              0.3333333333333333,
              "#9c179e"
             ],
             [
              0.4444444444444444,
              "#bd3786"
             ],
             [
              0.5555555555555556,
              "#d8576b"
             ],
             [
              0.6666666666666666,
              "#ed7953"
             ],
             [
              0.7777777777777778,
              "#fb9f3a"
             ],
             [
              0.8888888888888888,
              "#fdca26"
             ],
             [
              1,
              "#f0f921"
             ]
            ],
            "type": "contour"
           }
          ],
          "contourcarpet": [
           {
            "colorbar": {
             "outlinewidth": 0,
             "ticks": ""
            },
            "type": "contourcarpet"
           }
          ],
          "heatmap": [
           {
            "colorbar": {
             "outlinewidth": 0,
             "ticks": ""
            },
            "colorscale": [
             [
              0,
              "#0d0887"
             ],
             [
              0.1111111111111111,
              "#46039f"
             ],
             [
              0.2222222222222222,
              "#7201a8"
             ],
             [
              0.3333333333333333,
              "#9c179e"
             ],
             [
              0.4444444444444444,
              "#bd3786"
             ],
             [
              0.5555555555555556,
              "#d8576b"
             ],
             [
              0.6666666666666666,
              "#ed7953"
             ],
             [
              0.7777777777777778,
              "#fb9f3a"
             ],
             [
              0.8888888888888888,
              "#fdca26"
             ],
             [
              1,
              "#f0f921"
             ]
            ],
            "type": "heatmap"
           }
          ],
          "heatmapgl": [
           {
            "colorbar": {
             "outlinewidth": 0,
             "ticks": ""
            },
            "colorscale": [
             [
              0,
              "#0d0887"
             ],
             [
              0.1111111111111111,
              "#46039f"
             ],
             [
              0.2222222222222222,
              "#7201a8"
             ],
             [
              0.3333333333333333,
              "#9c179e"
             ],
             [
              0.4444444444444444,
              "#bd3786"
             ],
             [
              0.5555555555555556,
              "#d8576b"
             ],
             [
              0.6666666666666666,
              "#ed7953"
             ],
             [
              0.7777777777777778,
              "#fb9f3a"
             ],
             [
              0.8888888888888888,
              "#fdca26"
             ],
             [
              1,
              "#f0f921"
             ]
            ],
            "type": "heatmapgl"
           }
          ],
          "histogram": [
           {
            "marker": {
             "pattern": {
              "fillmode": "overlay",
              "size": 10,
              "solidity": 0.2
             }
            },
            "type": "histogram"
           }
          ],
          "histogram2d": [
           {
            "colorbar": {
             "outlinewidth": 0,
             "ticks": ""
            },
            "colorscale": [
             [
              0,
              "#0d0887"
             ],
             [
              0.1111111111111111,
              "#46039f"
             ],
             [
              0.2222222222222222,
              "#7201a8"
             ],
             [
              0.3333333333333333,
              "#9c179e"
             ],
             [
              0.4444444444444444,
              "#bd3786"
             ],
             [
              0.5555555555555556,
              "#d8576b"
             ],
             [
              0.6666666666666666,
              "#ed7953"
             ],
             [
              0.7777777777777778,
              "#fb9f3a"
             ],
             [
              0.8888888888888888,
              "#fdca26"
             ],
             [
              1,
              "#f0f921"
             ]
            ],
            "type": "histogram2d"
           }
          ],
          "histogram2dcontour": [
           {
            "colorbar": {
             "outlinewidth": 0,
             "ticks": ""
            },
            "colorscale": [
             [
              0,
              "#0d0887"
             ],
             [
              0.1111111111111111,
              "#46039f"
             ],
             [
              0.2222222222222222,
              "#7201a8"
             ],
             [
              0.3333333333333333,
              "#9c179e"
             ],
             [
              0.4444444444444444,
              "#bd3786"
             ],
             [
              0.5555555555555556,
              "#d8576b"
             ],
             [
              0.6666666666666666,
              "#ed7953"
             ],
             [
              0.7777777777777778,
              "#fb9f3a"
             ],
             [
              0.8888888888888888,
              "#fdca26"
             ],
             [
              1,
              "#f0f921"
             ]
            ],
            "type": "histogram2dcontour"
           }
          ],
          "mesh3d": [
           {
            "colorbar": {
             "outlinewidth": 0,
             "ticks": ""
            },
            "type": "mesh3d"
           }
          ],
          "parcoords": [
           {
            "line": {
             "colorbar": {
              "outlinewidth": 0,
              "ticks": ""
             }
            },
            "type": "parcoords"
           }
          ],
          "pie": [
           {
            "automargin": true,
            "type": "pie"
           }
          ],
          "scatter": [
           {
            "fillpattern": {
             "fillmode": "overlay",
             "size": 10,
             "solidity": 0.2
            },
            "type": "scatter"
           }
          ],
          "scatter3d": [
           {
            "line": {
             "colorbar": {
              "outlinewidth": 0,
              "ticks": ""
             }
            },
            "marker": {
             "colorbar": {
              "outlinewidth": 0,
              "ticks": ""
             }
            },
            "type": "scatter3d"
           }
          ],
          "scattercarpet": [
           {
            "marker": {
             "colorbar": {
              "outlinewidth": 0,
              "ticks": ""
             }
            },
            "type": "scattercarpet"
           }
          ],
          "scattergeo": [
           {
            "marker": {
             "colorbar": {
              "outlinewidth": 0,
              "ticks": ""
             }
            },
            "type": "scattergeo"
           }
          ],
          "scattergl": [
           {
            "marker": {
             "colorbar": {
              "outlinewidth": 0,
              "ticks": ""
             }
            },
            "type": "scattergl"
           }
          ],
          "scattermapbox": [
           {
            "marker": {
             "colorbar": {
              "outlinewidth": 0,
              "ticks": ""
             }
            },
            "type": "scattermapbox"
           }
          ],
          "scatterpolar": [
           {
            "marker": {
             "colorbar": {
              "outlinewidth": 0,
              "ticks": ""
             }
            },
            "type": "scatterpolar"
           }
          ],
          "scatterpolargl": [
           {
            "marker": {
             "colorbar": {
              "outlinewidth": 0,
              "ticks": ""
             }
            },
            "type": "scatterpolargl"
           }
          ],
          "scatterternary": [
           {
            "marker": {
             "colorbar": {
              "outlinewidth": 0,
              "ticks": ""
             }
            },
            "type": "scatterternary"
           }
          ],
          "surface": [
           {
            "colorbar": {
             "outlinewidth": 0,
             "ticks": ""
            },
            "colorscale": [
             [
              0,
              "#0d0887"
             ],
             [
              0.1111111111111111,
              "#46039f"
             ],
             [
              0.2222222222222222,
              "#7201a8"
             ],
             [
              0.3333333333333333,
              "#9c179e"
             ],
             [
              0.4444444444444444,
              "#bd3786"
             ],
             [
              0.5555555555555556,
              "#d8576b"
             ],
             [
              0.6666666666666666,
              "#ed7953"
             ],
             [
              0.7777777777777778,
              "#fb9f3a"
             ],
             [
              0.8888888888888888,
              "#fdca26"
             ],
             [
              1,
              "#f0f921"
             ]
            ],
            "type": "surface"
           }
          ],
          "table": [
           {
            "cells": {
             "fill": {
              "color": "#EBF0F8"
             },
             "line": {
              "color": "white"
             }
            },
            "header": {
             "fill": {
              "color": "#C8D4E3"
             },
             "line": {
              "color": "white"
             }
            },
            "type": "table"
           }
          ]
         },
         "layout": {
          "annotationdefaults": {
           "arrowcolor": "#2a3f5f",
           "arrowhead": 0,
           "arrowwidth": 1
          },
          "autotypenumbers": "strict",
          "coloraxis": {
           "colorbar": {
            "outlinewidth": 0,
            "ticks": ""
           }
          },
          "colorscale": {
           "diverging": [
            [
             0,
             "#8e0152"
            ],
            [
             0.1,
             "#c51b7d"
            ],
            [
             0.2,
             "#de77ae"
            ],
            [
             0.3,
             "#f1b6da"
            ],
            [
             0.4,
             "#fde0ef"
            ],
            [
             0.5,
             "#f7f7f7"
            ],
            [
             0.6,
             "#e6f5d0"
            ],
            [
             0.7,
             "#b8e186"
            ],
            [
             0.8,
             "#7fbc41"
            ],
            [
             0.9,
             "#4d9221"
            ],
            [
             1,
             "#276419"
            ]
           ],
           "sequential": [
            [
             0,
             "#0d0887"
            ],
            [
             0.1111111111111111,
             "#46039f"
            ],
            [
             0.2222222222222222,
             "#7201a8"
            ],
            [
             0.3333333333333333,
             "#9c179e"
            ],
            [
             0.4444444444444444,
             "#bd3786"
            ],
            [
             0.5555555555555556,
             "#d8576b"
            ],
            [
             0.6666666666666666,
             "#ed7953"
            ],
            [
             0.7777777777777778,
             "#fb9f3a"
            ],
            [
             0.8888888888888888,
             "#fdca26"
            ],
            [
             1,
             "#f0f921"
            ]
           ],
           "sequentialminus": [
            [
             0,
             "#0d0887"
            ],
            [
             0.1111111111111111,
             "#46039f"
            ],
            [
             0.2222222222222222,
             "#7201a8"
            ],
            [
             0.3333333333333333,
             "#9c179e"
            ],
            [
             0.4444444444444444,
             "#bd3786"
            ],
            [
             0.5555555555555556,
             "#d8576b"
            ],
            [
             0.6666666666666666,
             "#ed7953"
            ],
            [
             0.7777777777777778,
             "#fb9f3a"
            ],
            [
             0.8888888888888888,
             "#fdca26"
            ],
            [
             1,
             "#f0f921"
            ]
           ]
          },
          "colorway": [
           "#636efa",
           "#EF553B",
           "#00cc96",
           "#ab63fa",
           "#FFA15A",
           "#19d3f3",
           "#FF6692",
           "#B6E880",
           "#FF97FF",
           "#FECB52"
          ],
          "font": {
           "color": "#2a3f5f"
          },
          "geo": {
           "bgcolor": "white",
           "lakecolor": "white",
           "landcolor": "#E5ECF6",
           "showlakes": true,
           "showland": true,
           "subunitcolor": "white"
          },
          "hoverlabel": {
           "align": "left"
          },
          "hovermode": "closest",
          "mapbox": {
           "style": "light"
          },
          "paper_bgcolor": "white",
          "plot_bgcolor": "#E5ECF6",
          "polar": {
           "angularaxis": {
            "gridcolor": "white",
            "linecolor": "white",
            "ticks": ""
           },
           "bgcolor": "#E5ECF6",
           "radialaxis": {
            "gridcolor": "white",
            "linecolor": "white",
            "ticks": ""
           }
          },
          "scene": {
           "xaxis": {
            "backgroundcolor": "#E5ECF6",
            "gridcolor": "white",
            "gridwidth": 2,
            "linecolor": "white",
            "showbackground": true,
            "ticks": "",
            "zerolinecolor": "white"
           },
           "yaxis": {
            "backgroundcolor": "#E5ECF6",
            "gridcolor": "white",
            "gridwidth": 2,
            "linecolor": "white",
            "showbackground": true,
            "ticks": "",
            "zerolinecolor": "white"
           },
           "zaxis": {
            "backgroundcolor": "#E5ECF6",
            "gridcolor": "white",
            "gridwidth": 2,
            "linecolor": "white",
            "showbackground": true,
            "ticks": "",
            "zerolinecolor": "white"
           }
          },
          "shapedefaults": {
           "line": {
            "color": "#2a3f5f"
           }
          },
          "ternary": {
           "aaxis": {
            "gridcolor": "white",
            "linecolor": "white",
            "ticks": ""
           },
           "baxis": {
            "gridcolor": "white",
            "linecolor": "white",
            "ticks": ""
           },
           "bgcolor": "#E5ECF6",
           "caxis": {
            "gridcolor": "white",
            "linecolor": "white",
            "ticks": ""
           }
          },
          "title": {
           "x": 0.05
          },
          "xaxis": {
           "automargin": true,
           "gridcolor": "white",
           "linecolor": "white",
           "ticks": "",
           "title": {
            "standoff": 15
           },
           "zerolinecolor": "white",
           "zerolinewidth": 2
          },
          "yaxis": {
           "automargin": true,
           "gridcolor": "white",
           "linecolor": "white",
           "ticks": "",
           "title": {
            "standoff": 15
           },
           "zerolinecolor": "white",
           "zerolinewidth": 2
          }
         }
        },
        "title": {
         "font": {
          "color": "white"
         },
         "text": "Portfolio Distribution",
         "x": 0.487
        },
        "width": 500
       }
      }
     },
     "metadata": {},
     "output_type": "display_data"
    }
   ],
   "source": [
    "user_portfolio_distribution = CanaryFinancialCalculations.portfolio_distribution_chart(tickers, weights)\n",
    "user_portfolio_distribution"
   ]
  },
  {
   "cell_type": "markdown",
   "metadata": {},
   "source": [
    "## Cumulative Return Chart"
   ]
  },
  {
   "cell_type": "code",
   "execution_count": 236,
   "metadata": {},
   "outputs": [
    {
     "data": {
      "text/html": [
       "<div>\n",
       "<style scoped>\n",
       "    .dataframe tbody tr th:only-of-type {\n",
       "        vertical-align: middle;\n",
       "    }\n",
       "\n",
       "    .dataframe tbody tr th {\n",
       "        vertical-align: top;\n",
       "    }\n",
       "\n",
       "    .dataframe thead th {\n",
       "        text-align: right;\n",
       "    }\n",
       "</style>\n",
       "<table border=\"1\" class=\"dataframe\">\n",
       "  <thead>\n",
       "    <tr style=\"text-align: right;\">\n",
       "      <th></th>\n",
       "      <th>Date</th>\n",
       "      <th>Portfolio</th>\n",
       "      <th>SPY</th>\n",
       "    </tr>\n",
       "  </thead>\n",
       "  <tbody>\n",
       "    <tr>\n",
       "      <th>0</th>\n",
       "      <td>2018-01-03</td>\n",
       "      <td>10146.0</td>\n",
       "      <td>10063.0</td>\n",
       "    </tr>\n",
       "    <tr>\n",
       "      <th>1</th>\n",
       "      <td>2018-01-04</td>\n",
       "      <td>10272.0</td>\n",
       "      <td>10104.0</td>\n",
       "    </tr>\n",
       "    <tr>\n",
       "      <th>2</th>\n",
       "      <td>2018-01-05</td>\n",
       "      <td>10300.0</td>\n",
       "      <td>10172.0</td>\n",
       "    </tr>\n",
       "    <tr>\n",
       "      <th>3</th>\n",
       "      <td>2018-01-08</td>\n",
       "      <td>10548.0</td>\n",
       "      <td>10191.0</td>\n",
       "    </tr>\n",
       "    <tr>\n",
       "      <th>4</th>\n",
       "      <td>2018-01-09</td>\n",
       "      <td>10424.0</td>\n",
       "      <td>10214.0</td>\n",
       "    </tr>\n",
       "    <tr>\n",
       "      <th>...</th>\n",
       "      <td>...</td>\n",
       "      <td>...</td>\n",
       "      <td>...</td>\n",
       "    </tr>\n",
       "    <tr>\n",
       "      <th>1463</th>\n",
       "      <td>2023-10-26</td>\n",
       "      <td>70118.0</td>\n",
       "      <td>16840.0</td>\n",
       "    </tr>\n",
       "    <tr>\n",
       "      <th>1464</th>\n",
       "      <td>2023-10-27</td>\n",
       "      <td>70889.0</td>\n",
       "      <td>16764.0</td>\n",
       "    </tr>\n",
       "    <tr>\n",
       "      <th>1465</th>\n",
       "      <td>2023-10-30</td>\n",
       "      <td>70544.0</td>\n",
       "      <td>16964.0</td>\n",
       "    </tr>\n",
       "    <tr>\n",
       "      <th>1466</th>\n",
       "      <td>2023-10-31</td>\n",
       "      <td>71276.0</td>\n",
       "      <td>17071.0</td>\n",
       "    </tr>\n",
       "    <tr>\n",
       "      <th>1467</th>\n",
       "      <td>2023-11-01</td>\n",
       "      <td>74104.0</td>\n",
       "      <td>17253.0</td>\n",
       "    </tr>\n",
       "  </tbody>\n",
       "</table>\n",
       "<p>1468 rows × 3 columns</p>\n",
       "</div>"
      ],
      "text/plain": [
       "            Date  Portfolio      SPY\n",
       "0     2018-01-03    10146.0  10063.0\n",
       "1     2018-01-04    10272.0  10104.0\n",
       "2     2018-01-05    10300.0  10172.0\n",
       "3     2018-01-08    10548.0  10191.0\n",
       "4     2018-01-09    10424.0  10214.0\n",
       "...          ...        ...      ...\n",
       "1463  2023-10-26    70118.0  16840.0\n",
       "1464  2023-10-27    70889.0  16764.0\n",
       "1465  2023-10-30    70544.0  16964.0\n",
       "1466  2023-10-31    71276.0  17071.0\n",
       "1467  2023-11-01    74104.0  17253.0\n",
       "\n",
       "[1468 rows x 3 columns]"
      ]
     },
     "execution_count": 236,
     "metadata": {},
     "output_type": "execute_result"
    }
   ],
   "source": [
    "comparing_cumulative_returns_df = CanaryFinancialCalculations.comparing_cumulative_returns(user_cumulative_returns, spy_returns)\n",
    "comparing_cumulative_returns_df"
   ]
  },
  {
   "cell_type": "code",
   "execution_count": 237,
   "metadata": {},
   "outputs": [
    {
     "data": {},
     "metadata": {},
     "output_type": "display_data"
    },
    {
     "data": {
      "application/vnd.holoviews_exec.v0+json": "",
      "text/html": [
       "<div id='p2108'>\n",
       "  <div id=\"d241d45c-e11e-4c06-99cf-68a427ef2482\" data-root-id=\"p2108\" style=\"display: contents;\"></div>\n",
       "</div>\n",
       "<script type=\"application/javascript\">(function(root) {\n",
       "  var docs_json = {\"b5108111-7a93-41cc-9143-97bf7a39ff23\":{\"version\":\"3.2.1\",\"title\":\"Bokeh Application\",\"roots\":[{\"type\":\"object\",\"name\":\"Row\",\"id\":\"p2108\",\"attributes\":{\"name\":\"Row04532\",\"tags\":[\"embedded\"],\"stylesheets\":[\"\\n:host(.pn-loading.pn-arc):before, .pn-loading.pn-arc:before {\\n  background-image: url(\\\"data:image/svg+xml;base64,PHN2ZyB4bWxucz0iaHR0cDovL3d3dy53My5vcmcvMjAwMC9zdmciIHN0eWxlPSJtYXJnaW46IGF1dG87IGJhY2tncm91bmQ6IG5vbmU7IGRpc3BsYXk6IGJsb2NrOyBzaGFwZS1yZW5kZXJpbmc6IGF1dG87IiB2aWV3Qm94PSIwIDAgMTAwIDEwMCIgcHJlc2VydmVBc3BlY3RSYXRpbz0ieE1pZFlNaWQiPiAgPGNpcmNsZSBjeD0iNTAiIGN5PSI1MCIgZmlsbD0ibm9uZSIgc3Ryb2tlPSIjYzNjM2MzIiBzdHJva2Utd2lkdGg9IjEwIiByPSIzNSIgc3Ryb2tlLWRhc2hhcnJheT0iMTY0LjkzMzYxNDMxMzQ2NDE1IDU2Ljk3Nzg3MTQzNzgyMTM4Ij4gICAgPGFuaW1hdGVUcmFuc2Zvcm0gYXR0cmlidXRlTmFtZT0idHJhbnNmb3JtIiB0eXBlPSJyb3RhdGUiIHJlcGVhdENvdW50PSJpbmRlZmluaXRlIiBkdXI9IjFzIiB2YWx1ZXM9IjAgNTAgNTA7MzYwIDUwIDUwIiBrZXlUaW1lcz0iMDsxIj48L2FuaW1hdGVUcmFuc2Zvcm0+ICA8L2NpcmNsZT48L3N2Zz4=\\\");\\n  background-size: auto calc(min(50%, 400px));\\n}\",{\"type\":\"object\",\"name\":\"ImportedStyleSheet\",\"id\":\"p2111\",\"attributes\":{\"url\":\"https://cdn.holoviz.org/panel/1.2.3/dist/css/loading.css\"}},{\"type\":\"object\",\"name\":\"ImportedStyleSheet\",\"id\":\"p2192\",\"attributes\":{\"url\":\"https://cdn.holoviz.org/panel/1.2.3/dist/css/listpanel.css\"}},{\"type\":\"object\",\"name\":\"ImportedStyleSheet\",\"id\":\"p2109\",\"attributes\":{\"url\":\"https://cdn.holoviz.org/panel/1.2.3/dist/bundled/theme/default.css\"}},{\"type\":\"object\",\"name\":\"ImportedStyleSheet\",\"id\":\"p2110\",\"attributes\":{\"url\":\"https://cdn.holoviz.org/panel/1.2.3/dist/bundled/theme/native.css\"}}],\"min_width\":820,\"margin\":0,\"sizing_mode\":\"stretch_width\",\"align\":\"start\",\"children\":[{\"type\":\"object\",\"name\":\"Spacer\",\"id\":\"p2112\",\"attributes\":{\"name\":\"HSpacer04543\",\"stylesheets\":[\"\\n:host(.pn-loading.pn-arc):before, .pn-loading.pn-arc:before {\\n  background-image: url(\\\"data:image/svg+xml;base64,PHN2ZyB4bWxucz0iaHR0cDovL3d3dy53My5vcmcvMjAwMC9zdmciIHN0eWxlPSJtYXJnaW46IGF1dG87IGJhY2tncm91bmQ6IG5vbmU7IGRpc3BsYXk6IGJsb2NrOyBzaGFwZS1yZW5kZXJpbmc6IGF1dG87IiB2aWV3Qm94PSIwIDAgMTAwIDEwMCIgcHJlc2VydmVBc3BlY3RSYXRpbz0ieE1pZFlNaWQiPiAgPGNpcmNsZSBjeD0iNTAiIGN5PSI1MCIgZmlsbD0ibm9uZSIgc3Ryb2tlPSIjYzNjM2MzIiBzdHJva2Utd2lkdGg9IjEwIiByPSIzNSIgc3Ryb2tlLWRhc2hhcnJheT0iMTY0LjkzMzYxNDMxMzQ2NDE1IDU2Ljk3Nzg3MTQzNzgyMTM4Ij4gICAgPGFuaW1hdGVUcmFuc2Zvcm0gYXR0cmlidXRlTmFtZT0idHJhbnNmb3JtIiB0eXBlPSJyb3RhdGUiIHJlcGVhdENvdW50PSJpbmRlZmluaXRlIiBkdXI9IjFzIiB2YWx1ZXM9IjAgNTAgNTA7MzYwIDUwIDUwIiBrZXlUaW1lcz0iMDsxIj48L2FuaW1hdGVUcmFuc2Zvcm0+ICA8L2NpcmNsZT48L3N2Zz4=\\\");\\n  background-size: auto calc(min(50%, 400px));\\n}\",{\"id\":\"p2111\"},{\"id\":\"p2109\"},{\"id\":\"p2110\"}],\"margin\":0,\"sizing_mode\":\"stretch_width\",\"align\":\"start\"}},{\"type\":\"object\",\"name\":\"Figure\",\"id\":\"p2123\",\"attributes\":{\"width\":820,\"height\":500,\"margin\":[5,10],\"sizing_mode\":\"fixed\",\"align\":\"start\",\"x_range\":{\"type\":\"object\",\"name\":\"Range1d\",\"id\":\"p2113\",\"attributes\":{\"tags\":[[[\"Date\",\"Date\",null]],[]],\"start\":1514937600000.0,\"end\":1698796800000.0,\"reset_start\":1514937600000.0,\"reset_end\":1698796800000.0}},\"y_range\":{\"type\":\"object\",\"name\":\"Range1d\",\"id\":\"p2114\",\"attributes\":{\"tags\":[[[\"Portfolio\",\"Portfolio\",null]],{\"type\":\"map\",\"entries\":[[\"invert_yaxis\",false],[\"autorange\",false]]}],\"start\":273.89999999999964,\"end\":100391.1,\"reset_start\":273.89999999999964,\"reset_end\":100391.1}},\"x_scale\":{\"type\":\"object\",\"name\":\"LinearScale\",\"id\":\"p2133\"},\"y_scale\":{\"type\":\"object\",\"name\":\"LinearScale\",\"id\":\"p2134\"},\"title\":{\"type\":\"object\",\"name\":\"Title\",\"id\":\"p2126\",\"attributes\":{\"text\":\"Portfolio Cumulative Returns vs SPY\",\"text_color\":\"black\",\"text_font_size\":\"12pt\"}},\"renderers\":[{\"type\":\"object\",\"name\":\"GlyphRenderer\",\"id\":\"p2172\",\"attributes\":{\"data_source\":{\"type\":\"object\",\"name\":\"ColumnDataSource\",\"id\":\"p2163\",\"attributes\":{\"selected\":{\"type\":\"object\",\"name\":\"Selection\",\"id\":\"p2164\",\"attributes\":{\"indices\":[],\"line_indices\":[]}},\"selection_policy\":{\"type\":\"object\",\"name\":\"UnionRenderers\",\"id\":\"p2165\"},\"data\":{\"type\":\"map\",\"entries\":[[\"Date\",{\"type\":\"ndarray\",\"array\":{\"type\":\"bytes\",\"data\":\"AACAFJULdkIAAEB65wt2QgAAAOA5DHZCAABAETENdkIAAAB3gw12QgAAwNzVDXZCAACAQigOdkIAAECoeg52QgAAQD/ED3ZCAAAApRYQdkIAAMAKaRB2QgAAgHC7EHZCAADAobIRdkIAAIAHBRJ2QgAAQG1XEnZCAAAA06kSdkIAAMA4/BJ2QgAAAGrzE3ZCAADAz0UUdkIAAIA1mBR2QgAAQJvqFHZCAAAAAT0VdkIAAEAyNBZ2QgAAAJiGFnZCAADA/dgWdkIAAIBjKxd2QgAAQMl9F3ZCAACA+nQYdkIAAEBgxxh2QgAAAMYZGXZCAADAK2wZdkIAAICRvhl2QgAAgCgIG3ZCAABAjlobdkIAAAD0rBt2QgAAwFn/G3ZCAAAAi/YcdkIAAMDwSB12QgAAgFabHXZCAABAvO0ddkIAAAAiQB52QgAAQFM3H3ZCAAAAuYkfdkIAAMAe3B92QgAAgIQuIHZCAABA6oAgdkIAAIAbeCF2QgAAQIHKIXZCAAAA5xwidkIAAMBMbyJ2QgAAgLLBInZCAADA47gjdkIAAIBJCyR2QgAAQK9dJHZCAAAAFbAkdkIAAMB6AiV2QgAAAKz5JXZCAADAEUwmdkIAAIB3niZ2QgAAQN3wJnZCAABAdDoodkIAAADajCh2QgAAwD/fKHZCAACApTEpdkIAAEALhCl2QgAAgDx7KnZCAABAos0qdkIAAAAIICt2QgAAwG1yK3ZCAACA08QrdkIAAMAEvCx2QgAAgGoOLXZCAABA0GAtdkIAAAA2sy12QgAAwJsFLnZCAAAAzfwudkIAAMAyTy92QgAAgJihL3ZCAABA/vMvdkIAAABkRjB2QgAAQJU9MXZCAAAA+48xdkIAAMBg4jF2QgAAgMY0MnZCAABALIcydkIAAIBdfjN2QgAAQMPQM3ZCAAAAKSM0dkIAAMCOdTR2QgAAgPTHNHZCAADAJb81dkIAAICLETZ2QgAAQPFjNnZCAAAAV7Y2dkIAAMC8CDd2QgAAAO7/N3ZCAADAU1I4dkIAAIC5pDh2QgAAQB/3OHZCAAAAhUk5dkIAAAAckzp2QgAAwIHlOnZCAACA5zc7dkIAAEBNijt2QgAAgH6BPHZCAABA5NM8dkIAAABKJj12QgAAwK94PXZCAACAFcs9dkIAAMBGwj52QgAAgKwUP3ZCAABAEmc/dkIAAAB4uT92QgAAwN0LQHZCAAAADwNBdkIAAMB0VUF2QgAAgNqnQXZCAABAQPpBdkIAAACmTEJ2QgAAQNdDQ3ZCAAAAPZZDdkIAAMCi6EN2QgAAgAg7RHZCAABAbo1EdkIAAICfhEV2QgAAQAXXRXZCAADA0HtGdkIAAIA2zkZ2QgAAwGfFR3ZCAACAzRdIdkIAAEAzakh2QgAAAJm8SHZCAADA/g5JdkIAAAAwBkp2QgAAwJVYSnZCAACA+6pKdkIAAEBh/Up2QgAAAMdPS3ZCAABA+EZMdkIAAABemUx2QgAAwMPrTHZCAACAKT5NdkIAAECPkE12QgAAgMCHTnZCAABAJtpOdkIAAACMLE92QgAAwPF+T3ZCAACAV9FPdkIAAMCIyFB2QgAAgO4aUXZCAABAVG1RdkIAAAC6v1F2QgAAwB8SUnZCAAAAUQlTdkIAAMC2W1N2QgAAgByuU3ZCAABAggBUdkIAAADoUlR2QgAAQBlKVXZCAAAAf5xVdkIAAMDk7lV2QgAAgEpBVnZCAABAsJNWdkIAAIDhild2QgAAQEfdV3ZCAAAArS9YdkIAAMASglh2QgAAgHjUWHZCAACADx5adkIAAEB1cFp2QgAAANvCWnZCAADAQBVbdkIAAAByDFx2QgAAwNdeXHZCAACAPbFcdkIAAECjA112QgAAAAlWXXZCAABAOk1edkIAAACgn152QgAAwAXyXnZCAACAa0RfdkIAAEDRll92QgAAgAKOYHZCAABAaOBgdkIAAADOMmF2QgAAwDOFYXZCAACAmddhdkIAAMDKzmJ2QgAAgDAhY3ZCAABAlnNjdkIAAAD8xWN2QgAAwGEYZHZCAAAAkw9ldkIAAMD4YWV2QgAAgF60ZXZCAABAxAZmdkIAAAAqWWZ2QgAAQFtQZ3ZCAAAAwaJndkIAAMAm9Wd2QgAAgIxHaHZCAABA8plodkIAAIAjkWl2QgAAQInjaXZCAAAA7zVqdkIAAMBUiGp2QgAAgLraanZCAADA69FrdkIAAIBRJGx2QgAAQLd2bHZCAAAAHclsdkIAAMCCG212QgAAALQSbnZCAADAGWVudkIAAIB/t252QgAAQOUJb3ZCAAAAS1xvdkIAAEB8U3B2QgAAAOKlcHZCAADAR/hwdkIAAICtSnF2QgAAQBOdcXZCAACARJRydkIAAECq5nJ2QgAAABA5c3ZCAACA291zdkIAAMAM1XR2QgAAgHIndXZCAABA2Hl1dkIAAAA+zHV2QgAAwKMednZCAAAA1RV3dkIAAMA6aHd2QgAAQAYNeHZCAAAAbF94dkIAAECdVnl2QgAAAAOpeXZCAADAaPt5dkIAAIDOTXp2QgAAQDSgenZCAACAZZd7dkIAAEDL6Xt2QgAAADE8fHZCAADAlo58dkIAAID84Hx2QgAAwC3YfXZCAABA+Xx+dkIAAABfz352QgAAwMQhf3ZCAAAA9hiAdkIAAIDBvYB2QgAAQCcQgXZCAAAAjWKBdkIAAEC+WYJ2QgAAACSsgnZCAADAif6CdkIAAIDvUIN2QgAAQFWjg3ZCAACAhpqEdkIAAEDs7IR2QgAAAFI/hXZCAADAt5GFdkIAAIAd5IV2QgAAgLQth3ZCAABAGoCHdkIAAACA0od2QgAAwOUkiHZCAAAAFxyJdkIAAMB8bol2QgAAgOLAiXZCAABASBOKdkIAAACuZYp2QgAAQN9ci3ZCAAAARa+LdkIAAMCqAYx2QgAAgBBUjHZCAABAdqaMdkIAAICnnY12QgAAQA3wjXZCAAAAc0KOdkIAAMDYlI52QgAAgD7njnZCAACA1TCQdkIAAEA7g5B2QgAAAKHVkHZCAADABiiRdkIAAAA4H5J2QgAAwJ1xknZCAACAA8SSdkIAAEBpFpN2QgAAAM9ok3ZCAABAAGCUdkIAAABmspR2QgAAwMsElXZCAACAMVeVdkIAAECXqZV2QgAAgMiglnZCAABALvOWdkIAAACURZd2QgAAwPmXl3ZCAACAX+qXdkIAAMCQ4Zh2QgAAgPYzmXZCAABAXIaZdkIAAADC2Jl2QgAAwCcrmnZCAAAAWSKbdkIAAMC+dJt2QgAAgCTHm3ZCAABAihmcdkIAAADwa5x2QgAAQCFjnXZCAAAAh7WddkIAAMDsB552QgAAgFJannZCAABAuKyedkIAAIDpo592QgAAQE/2n3ZCAAAAtUigdkIAAMAam6B2QgAAgIDtoHZCAADAseShdkIAAIAXN6J2QgAAQH2JonZCAAAA49uidkIAAAB6JaR2QgAAwN93pHZCAACARcqkdkIAAECrHKV2QgAAABFvpXZCAABAQmamdkIAAACouKZ2QgAAwA0Lp3ZCAACAc12ndkIAAEDZr6d2QgAAgAqnqHZCAABAcPmodkIAAADWS6l2QgAAwDueqXZCAACAofCpdkIAAMDS56p2QgAAgDg6q3ZCAABAnoyrdkIAAAAE36t2QgAAwGkxrHZCAAAAmyitdkIAAMAAe612QgAAgGbNrXZCAABAzB+udkIAAAAycq52QgAAAMm7r3ZCAADALg6wdkIAAICUYLB2QgAAQPqysHZCAACAK6qxdkIAAECR/LF2QgAAAPdOsnZCAADAXKGydkIAAIDC87J2QgAAwPPqs3ZCAACAWT20dkIAAEC/j7R2QgAAACXitHZCAADAijS1dkIAAAC8K7Z2QgAAwCF+tnZCAACAh9C2dkIAAEDtIrd2QgAAAFN1t3ZCAABAhGy4dkIAAADqvrh2QgAAwE8RuXZCAACAtWO5dkIAAEAbtrl2QgAAgEytunZCAABAsv+6dkIAAAAYUrt2QgAAgOP2u3ZCAADAFO68dkIAAIB6QL12QgAAQOCSvXZCAAAARuW9dkIAAMCrN752QgAAAN0uv3ZCAADAQoG/dkIAAICo0792QgAAQA4mwHZCAAAAdHjAdkIAAEClb8F2QgAAAAvCwXZCAADAcBTCdkIAAIDWZsJ2QgAAQDy5wnZCAACAbbDDdkIAAEDTAsR2QgAAADlVxHZCAADAnqfEdkIAAIAE+sR2QgAAwDXxxXZCAACAm0PGdkIAAEABlsZ2QgAAAGfoxnZCAADAzDrHdkIAAAD+Mch2QgAAwGOEyHZCAACAydbIdkIAAEAvKcl2QgAAAJV7yXZCAABAxnLKdkIAAAAsxcp2QgAAwJEXy3ZCAACA92nLdkIAAEBdvMt2QgAAgI6zzHZCAABA9AXNdkIAAABaWM12QgAAwL+qzXZCAACAJf3NdkIAAIC8Rs92QgAAQCKZz3ZCAAAAiOvPdkIAAMDtPdB2QgAAAB810XZCAADAhIfRdkIAAIDq2dF2QgAAQFAs0nZCAAAAtn7SdkIAAEDnddN2QgAAAE3I03ZCAADAshrUdkIAAIAYbdR2QgAAQH6/1HZCAACAr7bVdkIAAEAVCdZ2QgAAAHtb1nZCAADA4K3WdkIAAIBGANd2QgAAwHf313ZCAACA3UnYdkIAAEBDnNh2QgAAAKnu2HZCAADADkHZdkIAAABAONp2QgAAwKWK2nZCAACAC93adkIAAEBxL9t2QgAAANeB23ZCAABACHncdkIAAABuy9x2QgAAwNMd3XZCAACAOXDddkIAAECfwt12QgAAgNC53nZCAABANgzfdkIAAACcXt92QgAAwAGx33ZCAACAZwPgdkIAAMCY+uB2QgAAgP5M4XZCAABAZJ/hdkIAAADK8eF2QgAAwC9E4nZCAAAAYTvjdkIAAMDGjeN2QgAAgCzg43ZCAABAkjLkdkIAAAD4hOR2QgAAQCl85XZCAAAAj87ldkIAAMD0IOZ2QgAAgFpz5nZCAABAwMXmdkIAAIDxvOd2QgAAQFcP6HZCAAAAvWHodkIAAMAitOh2QgAAgIgG6XZCAADAuf3pdkIAAIAfUOp2QgAAQIWi6nZCAADAUEfrdkIAAACCPux2QgAAwOeQ7HZCAACATePsdkIAAECzNe12QgAAABmI7XZCAABASn/udkIAAACw0e52QgAAwBUk73ZCAACAe3bvdkIAAEDhyO92QgAAgBLA8HZCAABAeBLxdkIAAADeZPF2QgAAwEO38XZCAACAqQnydkIAAMDaAPN2QgAAgEBT83ZCAAAADPjzdkIAAMBxSvR2QgAAAKNB9XZCAADACJT1dkIAAEDUOPZ2QgAAADqL9nZCAABAa4L3dkIAAADR1Pd2QgAAwDYn+HZCAACAnHn4dkIAAEACzPh2QgAAgDPD+XZCAABAmRX6dkIAAAD/Z/p2QgAAwGS6+nZCAACAygz7dkIAAIBhVvx2QgAAQMeo/HZCAAAALfv8dkIAAMCSTf12QgAAAMRE/nZCAADAKZf+dkIAAICP6f52QgAAQPU7/3ZCAAAAW47/dkIAAECMhQB3QgAAAPLXAHdCAADAVyoBd0IAAIC9fAF3QgAAQCPPAXdCAACAVMYCd0IAAEC6GAN3QgAAACBrA3dCAADAhb0Dd0IAAIDrDwR3QgAAgIJZBXdCAABA6KsFd0IAAABO/gV3QgAAwLNQBndCAAAA5UcHd0IAAMBKmgd3QgAAgLDsB3dCAABAFj8Id0IAAAB8kQh3QgAAQK2ICXdCAAAAE9sJd0IAAMB4LQp3QgAAgN5/CndCAABARNIKd0IAAIB1yQt3QgAAQNsbDHdCAAAAQW4Md0IAAMCmwAx3QgAAgAwTDXdCAADAPQoOd0IAAICjXA53QgAAQAmvDndCAAAAbwEPd0IAAMDUUw93QgAAAAZLEHdCAADAa50Qd0IAAIDR7xB3QgAAQDdCEXdCAAAAnZQRd0IAAEDOixJ3QgAAADTeEndCAADAmTATd0IAAID/ghN3QgAAQGXVE3dCAACAlswUd0IAAED8HhV3QgAAAGJxFXdCAADAx8MVd0IAAMBeDRd3QgAAgMRfF3dCAABAKrIXd0IAAACQBBh3QgAAwPVWGHdCAAAAJ04Zd0IAAMCMoBl3QgAAgPLyGXdCAABAWEUad0IAAAC+lxp3QgAAQO+OG3dCAAAAVeEbd0IAAMC6Mxx3QgAAgCCGHHdCAABAhtgcd0IAAIC3zx13QgAAQB0iHndCAAAAg3Qed0IAAMDoxh53QgAAgE4ZH3dCAADAfxAgd0IAAIDlYiB3QgAAQEu1IHdCAAAAsQchd0IAAMAWWiF3QgAAAEhRIndCAADAraMid0IAAIAT9iJ3QgAAQHlII3dCAAAA35ojd0IAAAB25CR3QgAAwNs2JXdCAACAQYkld0IAAECn2yV3QgAAgNjSJndCAABAPiUnd0IAAACkdyd3QgAAwAnKJ3dCAACAbxwod0IAAMCgEyl3QgAAgAZmKXdCAABAbLgpd0IAAADSCip3QgAAwDddKndCAAAAaVQrd0IAAMDOpit3QgAAgDT5K3dCAABAmkssd0IAAAAAnix3QgAAQDGVLXdCAAAAl+ctd0IAAMD8OS53QgAAgGKMLndCAABAyN4ud0IAAID51S93QgAAQF8oMHdCAAAAxXowd0IAAMAqzTB3QgAAwMEWMndCAACAJ2kyd0IAAECNuzJ3QgAAAPMNM3dCAADAWGAzd0IAAACKVzR3QgAAwO+pNHdCAACAVfw0d0IAAEC7TjV3QgAAACGhNXdCAABAUpg2d0IAAAC46jZ3QgAAwB09N3dCAACAg483d0IAAEDp4Td3QgAAgBrZOHdCAABAgCs5d0IAAADmfTl3QgAAwEvQOXdCAACAsSI6d0IAAMDiGTt3QgAAgEhsO3dCAABArr47d0IAAAAUETx3QgAAwHljPHdCAAAAq1o9d0IAAMAQrT13QgAAgHb/PXdCAABA3FE+d0IAAABCpD53QgAAQHObP3dCAAAA2e0/d0IAAMA+QEB3QgAAgKSSQHdCAABACuVAd0IAAIA73EF3QgAAQKEuQndCAAAAB4FCd0IAAMBs00J3QgAAgNIlQ3dCAADAAx1Ed0IAAIBpb0R3QgAAQM/BRHdCAAAANRRFd0IAAMCaZkV3QgAAwDGwRndCAACAlwJHd0IAAED9VEd3QgAAAGOnR3dCAABAlJ5Id0IAAAD68Eh3QgAAwF9DSXdCAACAxZVJd0IAAEAr6El3QgAAgFzfSndCAABAwjFLd0IAAAAohEt3QgAAwI3WS3dCAACA8yhMd0IAAMAkIE13QgAAgIpyTXdCAABA8MRNd0IAAABWF053QgAAwLtpTndCAAAA7WBPd0IAAMBSs093QgAAgLgFUHdCAABAHlhQd0IAAACEqlB3QgAAQLWhUXdCAAAAG/RRd0IAAMCARlJ3QgAAgOaYUndCAABATOtSd0IAAIB94lN3QgAAQOM0VHdCAAAASYdUd0IAAMCu2VR3QgAAgBQsVXdCAADARSNWd0IAAICrdVZ3QgAAQBHIVndCAAAAdxpXd0IAAMDcbFd3QgAAAA5kWHdCAADAc7ZYd0IAAIDZCFl3QgAAQD9bWXdCAAAApa1Zd0IAAEDWpFp3QgAAADz3WndCAADAoUlbd0IAAIAHnFt3QgAAQG3uW3dCAACAnuVcd0IAAEAEOF13QgAAAGqKXXdCAADAz9xdd0IAAIA1L153QgAAwGYmX3dCAACAzHhfd0IAAEAyy193QgAAwP1vYHdCAAAAL2dhd0IAAMCUuWF3QgAAgPoLYndCAABAYF5id0IAAADGsGJ3QgAAQPenY3dCAAAAXfpjd0IAAMDCTGR3QgAAgCifZHdCAABAjvFkd0IAAIC/6GV3QgAAQCU7ZndCAAAAi41md0IAAMDw32Z3QgAAgFYyZ3dCAADAhylod0IAAIDte2h3QgAAQFPOaHdCAAAAuSBpd0IAAABQamp3QgAAwLW8andCAACAGw9rd0IAAECBYWt3QgAAQBirbHdCAAAAfv1sd0IAAMDjT213QgAAgEmibXdCAABAr/Rtd0IAAIDg6253QgAAQEY+b3dCAAAArJBvd0IAAMAR4293QgAAgHc1cHdCAACADn9xd0IAAEB00XF3QgAAANojcndCAADAP3Zyd0IAAABxbXN3QgAAwNa/c3dCAACAPBJ0d0IAAECiZHR3QgAAAAi3dHdCAABAOa51d0IAAACfAHZ3QgAAwARTdndCAACAaqV2d0IAAEDQ93Z3QgAAgAHvd3dCAABAZ0F4d0IAAADNk3h3QgAAwDLmeHdCAACAmDh5d0IAAIAvgnp3QgAAQJXUendCAAAA+yZ7d0IAAMBgeXt3QgAAAJJwfHdCAADA98J8d0IAAIBdFX13QgAAQMNnfXdCAAAAKbp9d0IAAEBasX53QgAAAMADf3dCAADAJVZ/d0IAAICLqH93QgAAQPH6f3dCAACAIvKAd0IAAECIRIF3QgAAAO6WgXdCAADAU+mBd0IAAIC5O4J3QgAAwOoyg3dCAACAUIWDd0IAAEC214N3QgAAABwqhHdCAADAgXyEd0IAAACzc4V3QgAAwBjGhXdCAACAfhiGd0IAAEDkaoZ3QgAAAEq9hndCAABAe7SHd0IAAADhBoh3QgAAwEZZiHdCAACArKuId0IAAIBD9Yl3QgAAQKlHindCAAAAD5qKd0IAAMB07Ip3QgAAgNo+i3dCAADACzaMd0IAAIBxiIx3QgAAQNfajHdCAAAAPS2Nd0IAAMCif413QgAAANR2jndCAADAOcmOd0IAAICfG493QgAAQAVuj3dCAAAAa8CPd0IAAECct5B3QgAAAAIKkXdCAADAZ1yRd0IAAIDNrpF3QgAAQDMBkndCAACAZPiSd0IAAEDKSpN3QgAAADCdk3dCAADAle+Td0IAAID7QZR3QgAAwCw5lXdCAACAkouVd0IAAED43ZV3QgAAAF4wlndCAADAw4KWd0IAAAD1eZd3QgAAwFrMl3dCAACAwB6Yd0IAAEAmcZh3QgAAAIzDmHdCAABAvbqZd0IAAAAjDZp3QgAAwIhfmndCAACA7rGad0IAAEBUBJt3QgAAQOtNnHdCAAAAUaCcd0IAAMC28px3QgAAgBxFnXdCAADATTyed0IAAICzjp53QgAAQBnhnndCAAAAfzOfd0IAAMDkhZ93QgAAABZ9oHdCAADAe8+gd0IAAIDhIaF3QgAAQEd0oXdCAAAArcahd0IAAEDevaJ3QgAAAEQQo3dCAADAqWKjd0IAAIAPtaN3QgAAQHUHpHdCAACApv6kd0IAAEAMUaV3QgAAAHKjpXdCAADA1/Wld0IAAIA9SKZ3QgAAgNSRp3dCAABAOuSnd0IAAACgNqh3QgAAwAWJqHdCAAAAN4Cpd0IAAMCc0ql3QgAAgAIlqndCAABAaHeqd0IAAADOyap3QgAAQP/Aq3dCAAAAZROsd0IAAMDKZax3QgAAgDC4rHdCAABAlgqtd0IAAIDHAa53QgAAQC1UrndCAAAAk6aud0IAAMD4+K53QgAAgF5Lr3dCAADAj0Kwd0IAAID1lLB3QgAAQFvnsHdCAAAAwTmxd0IAAMAmjLF3QgAAAFiDsndCAADAvdWyd0IAAIAjKLN3QgAAQIl6s3dCAAAA78yzd0IAAEAgxLR3QgAAAIYWtXdCAADA62i1d0IAAIBRu7V3QgAAQLcNtndCAACA6AS3d0IAAEBOV7d3QgAAALSpt3dCAADAGfy3d0IAAIB/Trh3QgAAwLBFuXdCAACAFpi5d0IAAEB86rl3QgAAAOI8undCAADAR4+6d0IAAMDe2Lt3QgAAgEQrvHdCAABAqn28d0IAAAAQ0Lx3QgAAQEHHvXdCAAAApxm+d0IAAMAMbL53QgAAgHK+vndCAABA2BC/d0IAAIAJCMB3QgAAQG9awHdCAAAA1azAd0IAAMA6/8B3QgAAgKBRwXdCAADA0UjCd0IAAIA3m8J3QgAAQJ3twndCAAAAA0DDd0IAAMBoksN3QgAAAJqJxHdCAADA/9vEd0IAAIBlLsV3QgAAQMuAxXdCAAAAMdPFd0IAAEBiysZ3QgAAAMgcx3dCAADALW/Hd0IAAICTwcd3QgAAQPkTyHdCAACAKgvJd0IAAECQXcl3QgAAAPavyXdCAADAWwLKd0IAAIDBVMp3QgAAwPJLy3dCAACAWJ7Ld0IAAEC+8Mt3QgAAACRDzHdCAADAiZXMd0IAAAC7jM13QgAAwCDfzXdCAACAhjHOd0IAAEDsg853QgAAAFLWzndCAABAg83Pd0IAAADpH9B3QgAAwE5y0HdCAACAtMTQd0IAAEAaF9F3QgAAgEsO0ndCAABAsWDSd0IAAAAXs9J3QgAAwHwF03dCAACA4lfTd0IAAMATT9R3QgAAgHmh1HdCAABA3/PUd0IAAMCqmNV3QgAAANyP1ndCAADAQeLWd0IAAICnNNd3QgAAQA2H13dCAAAAc9nXd0IAAECk0Nh3QgAAAAoj2XdCAADAb3XZd0IAAIDVx9l3QgAAQDsa2ndCAACAbBHbd0IAAEDSY9t3QgAAADi223dCAADAnQjcd0IAAIADW9x3QgAAwDRS3XdCAACAmqTdd0IAAEAA9913QgAAAGZJ3ndCAAAA/ZLfd0IAAMBi5d93QgAAgMg34HdCAABALorgd0IAAACU3OB3QgAAQMXT4XdCAAAAKybid0IAAMCQeOJ3QgAAgPbK4ndCAABAXB3jd0IAAICNFOR3QgAAQPNm5HdCAAAAWbnkd0IAAMC+C+V3QgAAgCRe5XdCAACAu6fmd0IAAEAh+uZ3QgAAAIdM53dCAADA7J7nd0IAAAAeluh3QgAAwIPo6HdCAACA6Trpd0IAAEBPjel3QgAAALXf6XdCAABA5tbqd0IAAABMKet3QgAAwLF763dCAACAF87rd0IAAEB9IOx3QgAAgK4X7XdCAABAFGrtd0IAAAB6vO13QgAAwN8O7ndCAACARWHud0IAAMB2WO93QgAAgNyq73dCAABAQv3vd0IAAACoT/B3QgAAwA2i8HdCAADApOvxd0IAAIAKPvJ3QgAAQHCQ8ndCAAAA1uLyd0IAAEAH2vN3QgAAAG0s9HdCAADA0n70d0IAAIA40fR3QgAAQJ4j9XdCAACAzxr2d0IAAEA1bfZ3QgAAAJu/9ndCAADAABL3d0IAAIBmZPd3QgAAwJdb+HdCAACA/a34d0IAAEBjAPl3QgAAAMlS+XdCAADALqX5d0IAAABgnPp3QgAAwMXu+ndCAACAK0H7d0IAAECRk/t3QgAAAPfl+3dCAABAKN38d0IAAACOL/13QgAAwPOB/XdCAACAWdT9d0IAAEC/Jv53QgAAgPAd/3dCAABAVnD/d0IAAAC8wv93QgAAwCEVAHhCAACAh2cAeEIAAMC4XgF4QgAAgB6xAXhCAABAhAMCeEIAAADqVQJ4QgAAAIGfA3hCAADA5vEDeEIAAIBMRAR4QgAAQLKWBHhCAAAAGOkEeEIAAEBJ4AV4QgAAAK8yBnhCAADAFIUGeEIAAIB61wZ4QgAAQOApB3hCAACAESEIeEIAAEB3cwh4QgAAAN3FCHhCAADAQhgJeEIAAICoagl4QgAAwNlhCnhCAACAP7QKeEIAAEClBgt4QgAAAAtZC3hCAADAcKsLeEIAAACiogx4QgAAwAf1DHhCAACAbUcNeEIAAEDTmQ14QgAAADnsDXhCAABAauMOeEIAAADQNQ94QgAAwDWID3hCAACAm9oPeEIAAEABLRB4QgAAQJh2EXhCAAAA/sgReEIAAMBjGxJ4QgAAgMltEnhCAADA+mQTeEIAAIBgtxN4QgAAQMYJFHhCAAAALFwUeEIAAMCRrhR4QgAAAMOlFXhCAADAKPgVeEIAAICOShZ4QgAAQPScFnhCAAAAWu8WeEIAAADxOBh4QgAAwFaLGHhCAACAvN0YeEIAAEAiMBl4QgAAgFMnGnhCAABAuXkaeEIAAAAfzBp4QgAAwIQeG3hCAACA6nAbeEIAAICBuhx4QgAAQOcMHXhCAAAATV8deEIAAMCysR14QgAAAOSoHnhCAADASfseeEIAAICvTR94QgAAQBWgH3hCAAAAe/IfeEIAAECs6SB4QgAAABI8IXhCAADAd44heEIAAIDd4CF4QgAAQEMzInhCAACAdCojeEIAAEDafCN4QgAAAEDPI3hCAADApSEkeEIAAIALdCR4QgAAwDxrJXhCAACAor0leEIAAEAIECZ4QgAAAG5iJnhCAADA07QmeEIAAAAFrCd4QgAAwGr+J3hCAACA0FAoeEIAAEA2oyh4QgAAAJz1KHhCAABAzewpeEIAAAAzPyp4QgAAwJiRKnhCAACA/uMqeEIAAEBkNit4QgAAgJUtLHhCAABA+38seEIAAABh0ix4QgAAwMYkLXhCAACALHcteEIAAMBdbi54QgAAgMPALnhCAABAKRMveEIAAACPZS94QgAAwPS3L3hCAADAiwExeEIAAIDxUzF4QgAAQFemMXhCAAAAvfgxeEIAAEDu7zJ4QgAAAFRCM3hCAADAuZQzeEIAAIAf5zN4QgAAQIU5NHhCAACAtjA1eEIAAEAcgzV4QgAAAILVNXhCAADA5yc2eEIAAIBNejZ4QgAAwH5xN3hCAACA5MM3eEIAAEBKFjh4QgAAALBoOHhCAADAFbs4eEIAAABHsjl4QgAAwKwEOnhCAACAElc6eEIAAEB4qTp4QgAAAN77OnhCAABAD/M7eEIAAAB1RTx4QgAAwNqXPHhCAACAQOo8eEIAAECmPD14QgAAgNczPnhCAABAPYY+eEIAAACj2D54QgAAwAgrP3hCAACAbn0/eEIAAMCfdEB4QgAAgAXHQHhCAABAaxlBeEIAAADRa0F4QgAAwDa+QXhCAAAAaLVCeEIAAMDNB0N4QgAAgDNaQ3hCAABAmaxDeEIAAAD//kN4QgAAQDD2RHhCAAAAlkhFeEIAAMD7mkV4QgAAgGHtRXhCAABAxz9GeEIAAID4Nkd4QgAAQF6JR3hCAAAAxNtHeEIAAMApLkh4QgAAgI+ASHhCAADAwHdJeEIAAIAmykl4QgAAQIwcSnhCAADAV8FKeEIAAACJuEt4QgAAwO4KTHhCAACAVF1MeEIAAEC6r0x4QgAAACACTXhCAABAUflNeEIAAAC3S054QgAAwByeTnhCAACAgvBOeEIAAEDoQk94QgAAgBk6UHhCAABAf4xQeEIAAADl3lB4QgAAwEoxUXhCAACAsINReEIAAMDhelJ4QgAAgEfNUnhCAABArR9TeEIAAAATclN4QgAAwHjEU3hCAADADw5VeEIAAIB1YFV4QgAAQNuyVXhCAAAAQQVWeEIAAADYTld4QgAAwD2hV3hCAACAo/NXeEIAAEAJRlh4QgAAgDo9WXhCAABAoI9ZeEIAAAAG4ll4QgAAwGs0WnhCAACA0YZaeEIAAIBo0Ft4QgAAQM4iXHhCAAAANHVceEIAAMCZx1x4QgAAAMu+XXhCAADAMBFeeEIAAICWY154QgAAQPy1XnhCAAAAYghfeEIAAECT/194QgAAAPlRYHhCAADAXqRgeEIAAIDE9mB4QgAAQCpJYXhCAACAW0BieEIAAEDBkmJ4QgAAACflYnhCAADAjDdjeEIAAIDyiWN4QgAAwCOBZHhCAACAidNkeEIAAEDvJWV4QgAAAFV4ZXhCAADAuspleEIAAMBRFGd4QgAAgLdmZ3hCAABAHblneEIAAACDC2h4QgAAQLQCaXhCAAAAGlVpeEIAAMB/p2l4QgAAgOX5aXhCAABAS0xqeEIAAIB8Q2t4QgAAQOKVa3hCAAAASOhreEIAAMCtOmx4QgAAgBONbHhCAADARIRteEIAAICq1m14QgAAQBApbnhCAAAAdntueEIAAMDbzW54QgAAAA3Fb3hCAADAchdweEIAAIDYaXB4QgAAQD68cHhCAAAApA5xeEIAAEDVBXJ4QgAAADtYcnhCAADAoKpyeEIAAIAG/XJ4QgAAQGxPc3hCAACAnUZ0eEIAAEADmXR4QgAAAGnrdHhCAADAzj11eEIAAMBlh3Z4QgAAgMvZdnhCAABAMSx3eEIAAACXfnd4QgAAwPzQd3hCAAAALsh4eEIAAMCTGnl4QgAAgPlseXhCAABAX795eEIAAADFEXp4QgAAQPYIe3hCAAAAXFt7eEIAAMDBrXt4QgAAgCcAfHhCAABAjVJ8eEIAAIC+SX14QgAAQCScfXhCAAAAiu59eEIAAMDvQH54QgAAgFWTfnhCAADAhop/eEIAAIDs3H94QgAAQFIvgHhCAAAAuIGAeEIAAMAd1IB4QgAAAE/LgXhCAADAtB2CeEIAAIAacIJ4QgAAQIDCgnhCAAAA5hSDeEIAAEAXDIR4QgAAAH1ehHhCAADA4rCEeEIAAIBIA4V4QgAAQK5VhXhCAABARZ+GeEIAAACr8YZ4QgAAwBBEh3hCAACAdpaHeEIAAMCnjYh4QgAAgA3giHhCAABAczKJeEIAAADZhIl4QgAAwD7XiXhCAAAAcM6KeEIAAMDVIIt4QgAAgDtzi3hCAABAocWLeEIAAAAHGIx4QgAAAJ5hjXhCAADAA7SNeEIAAIBpBo54QgAAQM9YjnhCAACAAFCPeEIAAEBmoo94QgAAAMz0j3hCAADAMUeQeEIAAICXmZB4QgAAwMiQkXhCAABAlDWSeEIAAAD6h5J4QgAAwF/aknhCAAAAkdGTeEIAAMD2I5R4QgAAgFx2lHhCAABAwsiUeEIAAAAoG5V4QgAAQFkSlnhCAAAAv2SWeEIAAMAkt5Z4QgAAgIoJl3hCAABA8FuXeEIAAIAhU5h4QgAAQIelmHhCAAAA7feYeEIAAMBSSpl4QgAAgLicmXhCAADA6ZOaeEIAAIBP5pp4QgAAQLU4m3hCAAAAG4ubeEIAAMCA3Zt4QgAAALLUnHhCAADAFyedeEIAAIB9eZ14QgAAQOPLnXhCAAAASR6eeEIAAEB6FZ94QgAAAOBnn3hCAADARbqfeEIAAICrDKB4QgAAQBFfoHhCAACAQlaheEIAAECoqKF4QgAAAA77oXhCAADAc02ieEIAAIDZn6J4QgAAwAqXo3hCAACAcOmjeEIAAEDWO6R4QgAAADyOpHhCAADAoeCkeEIAAMA4KqZ4QgAAgJ58pnhCAABABM+meEIAAABqIad4QgAAQJsYqHhCAAAAAWuoeEIAAMBmvah4QgAAgMwPqXhCAABAMmKpeEIAAIBjWap4QgAAQMmrqnhCAAAAL/6qeEIAAMCUUKt4QgAAgPqiq3hCAADAK5qseEIAAICR7Kx4QgAAQPc+rXhCAAAAXZGteEIAAMDC4614QgAAAPTarnhCAADAWS2veEIAAIC/f694QgAAQCXSr3hCAAAAiySweEIAAEC8G7F4QgAAACJusXhCAADAh8CxeEIAAIDtErJ4QgAAQFNlsnhCAACAhFyzeEIAAEDqrrN4QgAAAFABtHhCAADAtVO0eEIAAIAbprR4QgAAwEydtXhCAACAsu+1eEIAAEAYQrZ4QgAAAH6UtnhCAADA4+a2eEIAAAAV3rd4QgAAwHowuHhCAACA4IK4eEI=\"},\"shape\":[1468],\"dtype\":\"float64\",\"order\":\"little\"}],[\"Portfolio\",{\"type\":\"ndarray\",\"array\":{\"type\":\"bytes\",\"data\":\"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\"},\"shape\":[1468],\"dtype\":\"float64\",\"order\":\"little\"}]]}}},\"view\":{\"type\":\"object\",\"name\":\"CDSView\",\"id\":\"p2173\",\"attributes\":{\"filter\":{\"type\":\"object\",\"name\":\"AllIndices\",\"id\":\"p2174\"}}},\"glyph\":{\"type\":\"object\",\"name\":\"Line\",\"id\":\"p2169\",\"attributes\":{\"tags\":[\"apply_ranges\"],\"x\":{\"type\":\"field\",\"field\":\"Date\"},\"y\":{\"type\":\"field\",\"field\":\"Portfolio\"},\"line_color\":\"#289c40\",\"line_width\":2}},\"selection_glyph\":{\"type\":\"object\",\"name\":\"Line\",\"id\":\"p2175\",\"attributes\":{\"tags\":[\"apply_ranges\"],\"x\":{\"type\":\"field\",\"field\":\"Date\"},\"y\":{\"type\":\"field\",\"field\":\"Portfolio\"},\"line_color\":\"#289c40\",\"line_width\":2}},\"nonselection_glyph\":{\"type\":\"object\",\"name\":\"Line\",\"id\":\"p2170\",\"attributes\":{\"tags\":[\"apply_ranges\"],\"x\":{\"type\":\"field\",\"field\":\"Date\"},\"y\":{\"type\":\"field\",\"field\":\"Portfolio\"},\"line_color\":\"#289c40\",\"line_alpha\":0.1,\"line_width\":2}},\"muted_glyph\":{\"type\":\"object\",\"name\":\"Line\",\"id\":\"p2171\",\"attributes\":{\"tags\":[\"apply_ranges\"],\"x\":{\"type\":\"field\",\"field\":\"Date\"},\"y\":{\"type\":\"field\",\"field\":\"Portfolio\"},\"line_color\":\"#289c40\",\"line_alpha\":0.2,\"line_width\":2}}}},{\"type\":\"object\",\"name\":\"GlyphRenderer\",\"id\":\"p2185\",\"attributes\":{\"data_source\":{\"type\":\"object\",\"name\":\"ColumnDataSource\",\"id\":\"p2176\",\"attributes\":{\"selected\":{\"type\":\"object\",\"name\":\"Selection\",\"id\":\"p2177\",\"attributes\":{\"indices\":[],\"line_indices\":[]}},\"selection_policy\":{\"type\":\"object\",\"name\":\"UnionRenderers\",\"id\":\"p2178\"},\"data\":{\"type\":\"map\",\"entries\":[[\"Date\",{\"type\":\"ndarray\",\"array\":{\"type\":\"bytes\",\"data\":\"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\"},\"shape\":[1468],\"dtype\":\"float64\",\"order\":\"little\"}],[\"SPY\",{\"type\":\"ndarray\",\"array\":{\"type\":\"bytes\",\"data\":\"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\"},\"shape\":[1468],\"dtype\":\"float64\",\"order\":\"little\"}]]}}},\"view\":{\"type\":\"object\",\"name\":\"CDSView\",\"id\":\"p2186\",\"attributes\":{\"filter\":{\"type\":\"object\",\"name\":\"AllIndices\",\"id\":\"p2187\"}}},\"glyph\":{\"type\":\"object\",\"name\":\"Line\",\"id\":\"p2182\",\"attributes\":{\"tags\":[\"apply_ranges\"],\"x\":{\"type\":\"field\",\"field\":\"Date\"},\"y\":{\"type\":\"field\",\"field\":\"SPY\"},\"line_color\":\"#a5e06c\",\"line_width\":2}},\"selection_glyph\":{\"type\":\"object\",\"name\":\"Line\",\"id\":\"p2188\",\"attributes\":{\"tags\":[\"apply_ranges\"],\"x\":{\"type\":\"field\",\"field\":\"Date\"},\"y\":{\"type\":\"field\",\"field\":\"SPY\"},\"line_color\":\"#a5e06c\",\"line_width\":2}},\"nonselection_glyph\":{\"type\":\"object\",\"name\":\"Line\",\"id\":\"p2183\",\"attributes\":{\"tags\":[\"apply_ranges\"],\"x\":{\"type\":\"field\",\"field\":\"Date\"},\"y\":{\"type\":\"field\",\"field\":\"SPY\"},\"line_color\":\"#a5e06c\",\"line_alpha\":0.1,\"line_width\":2}},\"muted_glyph\":{\"type\":\"object\",\"name\":\"Line\",\"id\":\"p2184\",\"attributes\":{\"tags\":[\"apply_ranges\"],\"x\":{\"type\":\"field\",\"field\":\"Date\"},\"y\":{\"type\":\"field\",\"field\":\"SPY\"},\"line_color\":\"#a5e06c\",\"line_alpha\":0.2,\"line_width\":2}}}}],\"toolbar\":{\"type\":\"object\",\"name\":\"Toolbar\",\"id\":\"p2132\",\"attributes\":{\"tools\":[{\"type\":\"object\",\"name\":\"WheelZoomTool\",\"id\":\"p2118\",\"attributes\":{\"tags\":[\"hv_created\"],\"zoom_together\":\"none\"}},{\"type\":\"object\",\"name\":\"HoverTool\",\"id\":\"p2119\",\"attributes\":{\"tags\":[\"hv_created\"],\"renderers\":[{\"id\":\"p2172\"}],\"tooltips\":[[\"Date\",\"@{Date}{%F %T}\"],[\"Portfolio\",\"@{Portfolio}\"]],\"formatters\":{\"type\":\"map\",\"entries\":[[\"@{Date}\",\"datetime\"]]}}},{\"type\":\"object\",\"name\":\"HoverTool\",\"id\":\"p2122\",\"attributes\":{\"tags\":[\"hv_created\"],\"renderers\":[{\"id\":\"p2185\"}],\"tooltips\":[[\"Date\",\"@{Date}{%F %T}\"],[\"SPY\",\"@{SPY}\"]],\"formatters\":{\"type\":\"map\",\"entries\":[[\"@{Date}\",\"datetime\"]]}}},{\"type\":\"object\",\"name\":\"SaveTool\",\"id\":\"p2157\"},{\"type\":\"object\",\"name\":\"PanTool\",\"id\":\"p2158\"},{\"type\":\"object\",\"name\":\"BoxZoomTool\",\"id\":\"p2159\",\"attributes\":{\"overlay\":{\"type\":\"object\",\"name\":\"BoxAnnotation\",\"id\":\"p2160\",\"attributes\":{\"syncable\":false,\"level\":\"overlay\",\"visible\":false,\"left_units\":\"canvas\",\"right_units\":\"canvas\",\"bottom_units\":\"canvas\",\"top_units\":\"canvas\",\"line_color\":\"black\",\"line_alpha\":1.0,\"line_width\":2,\"line_dash\":[4,4],\"fill_color\":\"lightgrey\",\"fill_alpha\":0.5}}}},{\"type\":\"object\",\"name\":\"ResetTool\",\"id\":\"p2161\"}],\"active_drag\":{\"id\":\"p2158\"},\"active_scroll\":{\"id\":\"p2118\"}}},\"left\":[{\"type\":\"object\",\"name\":\"LinearAxis\",\"id\":\"p2152\",\"attributes\":{\"ticker\":{\"type\":\"object\",\"name\":\"BasicTicker\",\"id\":\"p2153\",\"attributes\":{\"mantissas\":[1,2,5]}},\"formatter\":{\"type\":\"object\",\"name\":\"PrintfTickFormatter\",\"id\":\"p2162\",\"attributes\":{\"format\":\"%.0f\"}},\"axis_label\":\"Value\",\"major_label_policy\":{\"type\":\"object\",\"name\":\"AllLabels\",\"id\":\"p2155\"}}}],\"below\":[{\"type\":\"object\",\"name\":\"DatetimeAxis\",\"id\":\"p2135\",\"attributes\":{\"ticker\":{\"type\":\"object\",\"name\":\"DatetimeTicker\",\"id\":\"p2136\",\"attributes\":{\"num_minor_ticks\":5,\"tickers\":[{\"type\":\"object\",\"name\":\"AdaptiveTicker\",\"id\":\"p2137\",\"attributes\":{\"num_minor_ticks\":0,\"mantissas\":[1,2,5],\"max_interval\":500.0}},{\"type\":\"object\",\"name\":\"AdaptiveTicker\",\"id\":\"p2138\",\"attributes\":{\"num_minor_ticks\":0,\"base\":60,\"mantissas\":[1,2,5,10,15,20,30],\"min_interval\":1000.0,\"max_interval\":1800000.0}},{\"type\":\"object\",\"name\":\"AdaptiveTicker\",\"id\":\"p2139\",\"attributes\":{\"num_minor_ticks\":0,\"base\":24,\"mantissas\":[1,2,4,6,8,12],\"min_interval\":3600000.0,\"max_interval\":43200000.0}},{\"type\":\"object\",\"name\":\"DaysTicker\",\"id\":\"p2140\",\"attributes\":{\"days\":[1,2,3,4,5,6,7,8,9,10,11,12,13,14,15,16,17,18,19,20,21,22,23,24,25,26,27,28,29,30,31]}},{\"type\":\"object\",\"name\":\"DaysTicker\",\"id\":\"p2141\",\"attributes\":{\"days\":[1,4,7,10,13,16,19,22,25,28]}},{\"type\":\"object\",\"name\":\"DaysTicker\",\"id\":\"p2142\",\"attributes\":{\"days\":[1,8,15,22]}},{\"type\":\"object\",\"name\":\"DaysTicker\",\"id\":\"p2143\",\"attributes\":{\"days\":[1,15]}},{\"type\":\"object\",\"name\":\"MonthsTicker\",\"id\":\"p2144\",\"attributes\":{\"months\":[0,1,2,3,4,5,6,7,8,9,10,11]}},{\"type\":\"object\",\"name\":\"MonthsTicker\",\"id\":\"p2145\",\"attributes\":{\"months\":[0,2,4,6,8,10]}},{\"type\":\"object\",\"name\":\"MonthsTicker\",\"id\":\"p2146\",\"attributes\":{\"months\":[0,4,8]}},{\"type\":\"object\",\"name\":\"MonthsTicker\",\"id\":\"p2147\",\"attributes\":{\"months\":[0,6]}},{\"type\":\"object\",\"name\":\"YearsTicker\",\"id\":\"p2148\"}]}},\"formatter\":{\"type\":\"object\",\"name\":\"DatetimeTickFormatter\",\"id\":\"p2149\",\"attributes\":{\"months\":\"%b %Y\"}},\"axis_label\":\"Date\",\"major_label_policy\":{\"type\":\"object\",\"name\":\"AllLabels\",\"id\":\"p2150\"}}}],\"center\":[{\"type\":\"object\",\"name\":\"Grid\",\"id\":\"p2151\",\"attributes\":{\"axis\":{\"id\":\"p2135\"},\"grid_line_color\":null}},{\"type\":\"object\",\"name\":\"Grid\",\"id\":\"p2156\",\"attributes\":{\"dimension\":1,\"axis\":{\"id\":\"p2152\"},\"grid_line_color\":null}}],\"background_fill_color\":\"#00221c\",\"border_fill_color\":\"#1d9371\",\"min_border_top\":10,\"min_border_bottom\":10,\"min_border_left\":10,\"min_border_right\":10,\"output_backend\":\"webgl\"}},{\"type\":\"object\",\"name\":\"Spacer\",\"id\":\"p2190\",\"attributes\":{\"name\":\"HSpacer04546\",\"stylesheets\":[\"\\n:host(.pn-loading.pn-arc):before, .pn-loading.pn-arc:before {\\n  background-image: url(\\\"data:image/svg+xml;base64,PHN2ZyB4bWxucz0iaHR0cDovL3d3dy53My5vcmcvMjAwMC9zdmciIHN0eWxlPSJtYXJnaW46IGF1dG87IGJhY2tncm91bmQ6IG5vbmU7IGRpc3BsYXk6IGJsb2NrOyBzaGFwZS1yZW5kZXJpbmc6IGF1dG87IiB2aWV3Qm94PSIwIDAgMTAwIDEwMCIgcHJlc2VydmVBc3BlY3RSYXRpbz0ieE1pZFlNaWQiPiAgPGNpcmNsZSBjeD0iNTAiIGN5PSI1MCIgZmlsbD0ibm9uZSIgc3Ryb2tlPSIjYzNjM2MzIiBzdHJva2Utd2lkdGg9IjEwIiByPSIzNSIgc3Ryb2tlLWRhc2hhcnJheT0iMTY0LjkzMzYxNDMxMzQ2NDE1IDU2Ljk3Nzg3MTQzNzgyMTM4Ij4gICAgPGFuaW1hdGVUcmFuc2Zvcm0gYXR0cmlidXRlTmFtZT0idHJhbnNmb3JtIiB0eXBlPSJyb3RhdGUiIHJlcGVhdENvdW50PSJpbmRlZmluaXRlIiBkdXI9IjFzIiB2YWx1ZXM9IjAgNTAgNTA7MzYwIDUwIDUwIiBrZXlUaW1lcz0iMDsxIj48L2FuaW1hdGVUcmFuc2Zvcm0+ICA8L2NpcmNsZT48L3N2Zz4=\\\");\\n  background-size: auto calc(min(50%, 400px));\\n}\",{\"id\":\"p2111\"},{\"id\":\"p2109\"},{\"id\":\"p2110\"}],\"margin\":0,\"sizing_mode\":\"stretch_width\",\"align\":\"start\"}}]}}],\"defs\":[{\"type\":\"model\",\"name\":\"ReactiveHTML1\"},{\"type\":\"model\",\"name\":\"FlexBox1\",\"properties\":[{\"name\":\"align_content\",\"kind\":\"Any\",\"default\":\"flex-start\"},{\"name\":\"align_items\",\"kind\":\"Any\",\"default\":\"flex-start\"},{\"name\":\"flex_direction\",\"kind\":\"Any\",\"default\":\"row\"},{\"name\":\"flex_wrap\",\"kind\":\"Any\",\"default\":\"wrap\"},{\"name\":\"justify_content\",\"kind\":\"Any\",\"default\":\"flex-start\"}]},{\"type\":\"model\",\"name\":\"FloatPanel1\",\"properties\":[{\"name\":\"config\",\"kind\":\"Any\",\"default\":{\"type\":\"map\"}},{\"name\":\"contained\",\"kind\":\"Any\",\"default\":true},{\"name\":\"position\",\"kind\":\"Any\",\"default\":\"right-top\"},{\"name\":\"offsetx\",\"kind\":\"Any\",\"default\":null},{\"name\":\"offsety\",\"kind\":\"Any\",\"default\":null},{\"name\":\"theme\",\"kind\":\"Any\",\"default\":\"primary\"},{\"name\":\"status\",\"kind\":\"Any\",\"default\":\"normalized\"}]},{\"type\":\"model\",\"name\":\"GridStack1\",\"properties\":[{\"name\":\"mode\",\"kind\":\"Any\",\"default\":\"warn\"},{\"name\":\"ncols\",\"kind\":\"Any\",\"default\":null},{\"name\":\"nrows\",\"kind\":\"Any\",\"default\":null},{\"name\":\"allow_resize\",\"kind\":\"Any\",\"default\":true},{\"name\":\"allow_drag\",\"kind\":\"Any\",\"default\":true},{\"name\":\"state\",\"kind\":\"Any\",\"default\":[]}]},{\"type\":\"model\",\"name\":\"drag1\",\"properties\":[{\"name\":\"slider_width\",\"kind\":\"Any\",\"default\":5},{\"name\":\"slider_color\",\"kind\":\"Any\",\"default\":\"black\"},{\"name\":\"value\",\"kind\":\"Any\",\"default\":50}]},{\"type\":\"model\",\"name\":\"click1\",\"properties\":[{\"name\":\"terminal_output\",\"kind\":\"Any\",\"default\":\"\"},{\"name\":\"debug_name\",\"kind\":\"Any\",\"default\":\"\"},{\"name\":\"clears\",\"kind\":\"Any\",\"default\":0}]},{\"type\":\"model\",\"name\":\"FastWrapper1\",\"properties\":[{\"name\":\"object\",\"kind\":\"Any\",\"default\":null},{\"name\":\"style\",\"kind\":\"Any\",\"default\":null}]},{\"type\":\"model\",\"name\":\"NotificationAreaBase1\",\"properties\":[{\"name\":\"js_events\",\"kind\":\"Any\",\"default\":{\"type\":\"map\"}},{\"name\":\"position\",\"kind\":\"Any\",\"default\":\"bottom-right\"},{\"name\":\"_clear\",\"kind\":\"Any\",\"default\":0}]},{\"type\":\"model\",\"name\":\"NotificationArea1\",\"properties\":[{\"name\":\"js_events\",\"kind\":\"Any\",\"default\":{\"type\":\"map\"}},{\"name\":\"notifications\",\"kind\":\"Any\",\"default\":[]},{\"name\":\"position\",\"kind\":\"Any\",\"default\":\"bottom-right\"},{\"name\":\"_clear\",\"kind\":\"Any\",\"default\":0},{\"name\":\"types\",\"kind\":\"Any\",\"default\":[{\"type\":\"map\",\"entries\":[[\"type\",\"warning\"],[\"background\",\"#ffc107\"],[\"icon\",{\"type\":\"map\",\"entries\":[[\"className\",\"fas fa-exclamation-triangle\"],[\"tagName\",\"i\"],[\"color\",\"white\"]]}]]},{\"type\":\"map\",\"entries\":[[\"type\",\"info\"],[\"background\",\"#007bff\"],[\"icon\",{\"type\":\"map\",\"entries\":[[\"className\",\"fas fa-info-circle\"],[\"tagName\",\"i\"],[\"color\",\"white\"]]}]]}]}]},{\"type\":\"model\",\"name\":\"Notification\",\"properties\":[{\"name\":\"background\",\"kind\":\"Any\",\"default\":null},{\"name\":\"duration\",\"kind\":\"Any\",\"default\":3000},{\"name\":\"icon\",\"kind\":\"Any\",\"default\":null},{\"name\":\"message\",\"kind\":\"Any\",\"default\":\"\"},{\"name\":\"notification_type\",\"kind\":\"Any\",\"default\":null},{\"name\":\"_destroyed\",\"kind\":\"Any\",\"default\":false}]},{\"type\":\"model\",\"name\":\"TemplateActions1\",\"properties\":[{\"name\":\"open_modal\",\"kind\":\"Any\",\"default\":0},{\"name\":\"close_modal\",\"kind\":\"Any\",\"default\":0}]},{\"type\":\"model\",\"name\":\"BootstrapTemplateActions1\",\"properties\":[{\"name\":\"open_modal\",\"kind\":\"Any\",\"default\":0},{\"name\":\"close_modal\",\"kind\":\"Any\",\"default\":0}]},{\"type\":\"model\",\"name\":\"MaterialTemplateActions1\",\"properties\":[{\"name\":\"open_modal\",\"kind\":\"Any\",\"default\":0},{\"name\":\"close_modal\",\"kind\":\"Any\",\"default\":0}]}]}};\n",
       "  var render_items = [{\"docid\":\"b5108111-7a93-41cc-9143-97bf7a39ff23\",\"roots\":{\"p2108\":\"d241d45c-e11e-4c06-99cf-68a427ef2482\"},\"root_ids\":[\"p2108\"]}];\n",
       "  var docs = Object.values(docs_json)\n",
       "  if (!docs) {\n",
       "    return\n",
       "  }\n",
       "  const py_version = docs[0].version.replace('rc', '-rc.').replace('.dev', '-dev.')\n",
       "  const is_dev = py_version.indexOf(\"+\") !== -1 || py_version.indexOf(\"-\") !== -1\n",
       "  function embed_document(root) {\n",
       "    var Bokeh = get_bokeh(root)\n",
       "    Bokeh.embed.embed_items_notebook(docs_json, render_items);\n",
       "    for (const render_item of render_items) {\n",
       "      for (const root_id of render_item.root_ids) {\n",
       "\tconst id_el = document.getElementById(root_id)\n",
       "\tif (id_el.children.length && (id_el.children[0].className === 'bk-root')) {\n",
       "\t  const root_el = id_el.children[0]\n",
       "\t  root_el.id = root_el.id + '-rendered'\n",
       "\t}\n",
       "      }\n",
       "    }\n",
       "  }\n",
       "  function get_bokeh(root) {\n",
       "    if (root.Bokeh === undefined) {\n",
       "      return null\n",
       "    } else if (root.Bokeh.version !== py_version && !is_dev) {\n",
       "      if (root.Bokeh.versions === undefined || !root.Bokeh.versions.has(py_version)) {\n",
       "\treturn null\n",
       "      }\n",
       "      return root.Bokeh.versions.get(py_version);\n",
       "    } else if (root.Bokeh.version === py_version) {\n",
       "      return root.Bokeh\n",
       "    }\n",
       "    return null\n",
       "  }\n",
       "  function is_loaded(root) {\n",
       "    var Bokeh = get_bokeh(root)\n",
       "    return (Bokeh != null && Bokeh.Panel !== undefined)\n",
       "  }\n",
       "  if (is_loaded(root)) {\n",
       "    embed_document(root);\n",
       "  } else {\n",
       "    var attempts = 0;\n",
       "    var timer = setInterval(function(root) {\n",
       "      if (is_loaded(root)) {\n",
       "        clearInterval(timer);\n",
       "        embed_document(root);\n",
       "      } else if (document.readyState == \"complete\") {\n",
       "        attempts++;\n",
       "        if (attempts > 200) {\n",
       "          clearInterval(timer);\n",
       "\t  var Bokeh = get_bokeh(root)\n",
       "\t  if (Bokeh == null || Bokeh.Panel == null) {\n",
       "            console.warn(\"Panel: ERROR: Unable to run Panel code because Bokeh or Panel library is missing\");\n",
       "\t  } else {\n",
       "\t    console.warn(\"Panel: WARNING: Attempting to render but not all required libraries could be resolved.\")\n",
       "\t    embed_document(root)\n",
       "\t  }\n",
       "        }\n",
       "      }\n",
       "    }, 25, root)\n",
       "  }\n",
       "})(window);</script>"
      ],
      "text/plain": [
       ":Overlay\n",
       "   .Curve.I  :Curve   [Date]   (Portfolio)\n",
       "   .Curve.II :Curve   [Date]   (SPY)"
      ]
     },
     "execution_count": 237,
     "metadata": {
      "application/vnd.holoviews_exec.v0+json": {
       "id": "p2108"
      }
     },
     "output_type": "execute_result"
    }
   ],
   "source": [
    "user_cr_chart = CanaryFinancialCalculations.cumulative_return_chart(comparing_cumulative_returns_df, 'Portfolio', 'SPY', 'Date')\n",
    "user_cr_chart"
   ]
  },
  {
   "cell_type": "markdown",
   "metadata": {},
   "source": [
    "## Return on Investment Chart"
   ]
  },
  {
   "cell_type": "code",
   "execution_count": 238,
   "metadata": {},
   "outputs": [
    {
     "data": {},
     "metadata": {},
     "output_type": "display_data"
    },
    {
     "data": {
      "application/vnd.holoviews_exec.v0+json": "",
      "text/html": [
       "<div id='p2198'>\n",
       "  <div id=\"dcf7eacf-5883-4791-97b3-ae6abec49b4d\" data-root-id=\"p2198\" style=\"display: contents;\"></div>\n",
       "</div>\n",
       "<script type=\"application/javascript\">(function(root) {\n",
       "  var docs_json = {\"7fb900c7-bca0-44f7-9de4-7a50a8be9e12\":{\"version\":\"3.2.1\",\"title\":\"Bokeh Application\",\"roots\":[{\"type\":\"object\",\"name\":\"Row\",\"id\":\"p2198\",\"attributes\":{\"name\":\"Row04725\",\"tags\":[\"embedded\"],\"stylesheets\":[\"\\n:host(.pn-loading.pn-arc):before, .pn-loading.pn-arc:before {\\n  background-image: url(\\\"data:image/svg+xml;base64,PHN2ZyB4bWxucz0iaHR0cDovL3d3dy53My5vcmcvMjAwMC9zdmciIHN0eWxlPSJtYXJnaW46IGF1dG87IGJhY2tncm91bmQ6IG5vbmU7IGRpc3BsYXk6IGJsb2NrOyBzaGFwZS1yZW5kZXJpbmc6IGF1dG87IiB2aWV3Qm94PSIwIDAgMTAwIDEwMCIgcHJlc2VydmVBc3BlY3RSYXRpbz0ieE1pZFlNaWQiPiAgPGNpcmNsZSBjeD0iNTAiIGN5PSI1MCIgZmlsbD0ibm9uZSIgc3Ryb2tlPSIjYzNjM2MzIiBzdHJva2Utd2lkdGg9IjEwIiByPSIzNSIgc3Ryb2tlLWRhc2hhcnJheT0iMTY0LjkzMzYxNDMxMzQ2NDE1IDU2Ljk3Nzg3MTQzNzgyMTM4Ij4gICAgPGFuaW1hdGVUcmFuc2Zvcm0gYXR0cmlidXRlTmFtZT0idHJhbnNmb3JtIiB0eXBlPSJyb3RhdGUiIHJlcGVhdENvdW50PSJpbmRlZmluaXRlIiBkdXI9IjFzIiB2YWx1ZXM9IjAgNTAgNTA7MzYwIDUwIDUwIiBrZXlUaW1lcz0iMDsxIj48L2FuaW1hdGVUcmFuc2Zvcm0+ICA8L2NpcmNsZT48L3N2Zz4=\\\");\\n  background-size: auto calc(min(50%, 400px));\\n}\",{\"type\":\"object\",\"name\":\"ImportedStyleSheet\",\"id\":\"p2201\",\"attributes\":{\"url\":\"https://cdn.holoviz.org/panel/1.2.3/dist/css/loading.css\"}},{\"type\":\"object\",\"name\":\"ImportedStyleSheet\",\"id\":\"p2253\",\"attributes\":{\"url\":\"https://cdn.holoviz.org/panel/1.2.3/dist/css/listpanel.css\"}},{\"type\":\"object\",\"name\":\"ImportedStyleSheet\",\"id\":\"p2199\",\"attributes\":{\"url\":\"https://cdn.holoviz.org/panel/1.2.3/dist/bundled/theme/default.css\"}},{\"type\":\"object\",\"name\":\"ImportedStyleSheet\",\"id\":\"p2200\",\"attributes\":{\"url\":\"https://cdn.holoviz.org/panel/1.2.3/dist/bundled/theme/native.css\"}}],\"min_width\":700,\"margin\":0,\"sizing_mode\":\"stretch_width\",\"align\":\"start\",\"children\":[{\"type\":\"object\",\"name\":\"Spacer\",\"id\":\"p2202\",\"attributes\":{\"name\":\"HSpacer04736\",\"stylesheets\":[\"\\n:host(.pn-loading.pn-arc):before, .pn-loading.pn-arc:before {\\n  background-image: url(\\\"data:image/svg+xml;base64,PHN2ZyB4bWxucz0iaHR0cDovL3d3dy53My5vcmcvMjAwMC9zdmciIHN0eWxlPSJtYXJnaW46IGF1dG87IGJhY2tncm91bmQ6IG5vbmU7IGRpc3BsYXk6IGJsb2NrOyBzaGFwZS1yZW5kZXJpbmc6IGF1dG87IiB2aWV3Qm94PSIwIDAgMTAwIDEwMCIgcHJlc2VydmVBc3BlY3RSYXRpbz0ieE1pZFlNaWQiPiAgPGNpcmNsZSBjeD0iNTAiIGN5PSI1MCIgZmlsbD0ibm9uZSIgc3Ryb2tlPSIjYzNjM2MzIiBzdHJva2Utd2lkdGg9IjEwIiByPSIzNSIgc3Ryb2tlLWRhc2hhcnJheT0iMTY0LjkzMzYxNDMxMzQ2NDE1IDU2Ljk3Nzg3MTQzNzgyMTM4Ij4gICAgPGFuaW1hdGVUcmFuc2Zvcm0gYXR0cmlidXRlTmFtZT0idHJhbnNmb3JtIiB0eXBlPSJyb3RhdGUiIHJlcGVhdENvdW50PSJpbmRlZmluaXRlIiBkdXI9IjFzIiB2YWx1ZXM9IjAgNTAgNTA7MzYwIDUwIDUwIiBrZXlUaW1lcz0iMDsxIj48L2FuaW1hdGVUcmFuc2Zvcm0+ICA8L2NpcmNsZT48L3N2Zz4=\\\");\\n  background-size: auto calc(min(50%, 400px));\\n}\",{\"id\":\"p2201\"},{\"id\":\"p2199\"},{\"id\":\"p2200\"}],\"margin\":0,\"sizing_mode\":\"stretch_width\",\"align\":\"start\"}},{\"type\":\"object\",\"name\":\"Figure\",\"id\":\"p2210\",\"attributes\":{\"width\":700,\"height\":300,\"margin\":[5,10],\"sizing_mode\":\"fixed\",\"align\":\"start\",\"x_range\":{\"type\":\"object\",\"name\":\"FactorRange\",\"id\":\"p2203\",\"attributes\":{\"tags\":[[[\"Compared\",\"Compared\",null]],[]],\"factors\":[\"Portfolio\",\"SPY\",\"IGM\",\"PSI\",\"QQQ\"]}},\"y_range\":{\"type\":\"object\",\"name\":\"Range1d\",\"id\":\"p2204\",\"attributes\":{\"tags\":[[[\"Percentage\",\"Percentage\",null]],{\"type\":\"map\",\"entries\":[[\"invert_yaxis\",false],[\"autorange\",false]]}],\"end\":697.891,\"reset_start\":0.0,\"reset_end\":697.891}},\"x_scale\":{\"type\":\"object\",\"name\":\"CategoricalScale\",\"id\":\"p2220\"},\"y_scale\":{\"type\":\"object\",\"name\":\"LinearScale\",\"id\":\"p2221\"},\"title\":{\"type\":\"object\",\"name\":\"Title\",\"id\":\"p2213\",\"attributes\":{\"text\":\"Portfolio ROI vs. SPY ROI\",\"text_color\":\"black\",\"text_font_size\":\"12pt\"}},\"renderers\":[{\"type\":\"object\",\"name\":\"GlyphRenderer\",\"id\":\"p2246\",\"attributes\":{\"data_source\":{\"type\":\"object\",\"name\":\"ColumnDataSource\",\"id\":\"p2237\",\"attributes\":{\"selected\":{\"type\":\"object\",\"name\":\"Selection\",\"id\":\"p2238\",\"attributes\":{\"indices\":[],\"line_indices\":[]}},\"selection_policy\":{\"type\":\"object\",\"name\":\"UnionRenderers\",\"id\":\"p2239\"},\"data\":{\"type\":\"map\",\"entries\":[[\"Compared\",[\"Portfolio\",\"SPY\",\"IGM\",\"PSI\",\"QQQ\"]],[\"Percentage\",{\"type\":\"ndarray\",\"array\":{\"type\":\"bytes\",\"data\":\"uB6F61EIhEBSuB6F6yFSQM3MzMzM/F9AuB6F61E4YEA9CtejcOVgQA==\"},\"shape\":[5],\"dtype\":\"float64\",\"order\":\"little\"}]]}}},\"view\":{\"type\":\"object\",\"name\":\"CDSView\",\"id\":\"p2247\",\"attributes\":{\"filter\":{\"type\":\"object\",\"name\":\"AllIndices\",\"id\":\"p2248\"}}},\"glyph\":{\"type\":\"object\",\"name\":\"VBar\",\"id\":\"p2243\",\"attributes\":{\"tags\":[\"apply_ranges\"],\"x\":{\"type\":\"field\",\"field\":\"Compared\"},\"width\":{\"type\":\"value\",\"value\":0.8},\"top\":{\"type\":\"field\",\"field\":\"Percentage\"},\"fill_color\":{\"type\":\"value\",\"value\":\"#289c40\"},\"hatch_color\":{\"type\":\"value\",\"value\":\"#289c40\"}}},\"selection_glyph\":{\"type\":\"object\",\"name\":\"VBar\",\"id\":\"p2249\",\"attributes\":{\"tags\":[\"apply_ranges\"],\"x\":{\"type\":\"field\",\"field\":\"Compared\"},\"width\":{\"type\":\"value\",\"value\":0.8},\"bottom\":{\"type\":\"value\",\"value\":0},\"top\":{\"type\":\"field\",\"field\":\"Percentage\"},\"line_color\":{\"type\":\"value\",\"value\":\"black\"},\"line_alpha\":{\"type\":\"value\",\"value\":1.0},\"line_width\":{\"type\":\"value\",\"value\":1},\"line_join\":{\"type\":\"value\",\"value\":\"bevel\"},\"line_cap\":{\"type\":\"value\",\"value\":\"butt\"},\"line_dash\":{\"type\":\"value\",\"value\":[]},\"line_dash_offset\":{\"type\":\"value\",\"value\":0},\"fill_color\":{\"type\":\"value\",\"value\":\"#289c40\"},\"fill_alpha\":{\"type\":\"value\",\"value\":1.0},\"hatch_color\":{\"type\":\"value\",\"value\":\"#289c40\"},\"hatch_alpha\":{\"type\":\"value\",\"value\":1.0},\"hatch_scale\":{\"type\":\"value\",\"value\":12.0},\"hatch_pattern\":{\"type\":\"value\",\"value\":null},\"hatch_weight\":{\"type\":\"value\",\"value\":1.0}}},\"nonselection_glyph\":{\"type\":\"object\",\"name\":\"VBar\",\"id\":\"p2244\",\"attributes\":{\"tags\":[\"apply_ranges\"],\"x\":{\"type\":\"field\",\"field\":\"Compared\"},\"width\":{\"type\":\"value\",\"value\":0.8},\"top\":{\"type\":\"field\",\"field\":\"Percentage\"},\"line_alpha\":{\"type\":\"value\",\"value\":0.1},\"fill_color\":{\"type\":\"value\",\"value\":\"#289c40\"},\"fill_alpha\":{\"type\":\"value\",\"value\":0.1},\"hatch_color\":{\"type\":\"value\",\"value\":\"#289c40\"},\"hatch_alpha\":{\"type\":\"value\",\"value\":0.1}}},\"muted_glyph\":{\"type\":\"object\",\"name\":\"VBar\",\"id\":\"p2245\",\"attributes\":{\"tags\":[\"apply_ranges\"],\"x\":{\"type\":\"field\",\"field\":\"Compared\"},\"width\":{\"type\":\"value\",\"value\":0.8},\"top\":{\"type\":\"field\",\"field\":\"Percentage\"},\"line_alpha\":{\"type\":\"value\",\"value\":0.2},\"fill_color\":{\"type\":\"value\",\"value\":\"#289c40\"},\"fill_alpha\":{\"type\":\"value\",\"value\":0.2},\"hatch_color\":{\"type\":\"value\",\"value\":\"#289c40\"},\"hatch_alpha\":{\"type\":\"value\",\"value\":0.2}}}}}],\"toolbar\":{\"type\":\"object\",\"name\":\"Toolbar\",\"id\":\"p2219\",\"attributes\":{\"tools\":[{\"type\":\"object\",\"name\":\"WheelZoomTool\",\"id\":\"p2208\",\"attributes\":{\"tags\":[\"hv_created\"],\"zoom_together\":\"none\"}},{\"type\":\"object\",\"name\":\"HoverTool\",\"id\":\"p2209\",\"attributes\":{\"tags\":[\"hv_created\"],\"renderers\":[{\"id\":\"p2246\"}],\"tooltips\":[[\"Compared\",\"@{Compared}\"],[\"Percentage\",\"@{Percentage}\"]]}},{\"type\":\"object\",\"name\":\"SaveTool\",\"id\":\"p2232\"},{\"type\":\"object\",\"name\":\"PanTool\",\"id\":\"p2233\"},{\"type\":\"object\",\"name\":\"BoxZoomTool\",\"id\":\"p2234\",\"attributes\":{\"overlay\":{\"type\":\"object\",\"name\":\"BoxAnnotation\",\"id\":\"p2235\",\"attributes\":{\"syncable\":false,\"level\":\"overlay\",\"visible\":false,\"left_units\":\"canvas\",\"right_units\":\"canvas\",\"bottom_units\":\"canvas\",\"top_units\":\"canvas\",\"line_color\":\"black\",\"line_alpha\":1.0,\"line_width\":2,\"line_dash\":[4,4],\"fill_color\":\"lightgrey\",\"fill_alpha\":0.5}}}},{\"type\":\"object\",\"name\":\"ResetTool\",\"id\":\"p2236\"}],\"active_drag\":{\"id\":\"p2233\"},\"active_scroll\":{\"id\":\"p2208\"}}},\"left\":[{\"type\":\"object\",\"name\":\"LinearAxis\",\"id\":\"p2227\",\"attributes\":{\"ticker\":{\"type\":\"object\",\"name\":\"BasicTicker\",\"id\":\"p2228\",\"attributes\":{\"mantissas\":[1,2,5]}},\"formatter\":{\"type\":\"object\",\"name\":\"BasicTickFormatter\",\"id\":\"p2229\"},\"axis_label\":\"Percentage\",\"major_label_policy\":{\"type\":\"object\",\"name\":\"AllLabels\",\"id\":\"p2230\"}}}],\"below\":[{\"type\":\"object\",\"name\":\"CategoricalAxis\",\"id\":\"p2222\",\"attributes\":{\"ticker\":{\"type\":\"object\",\"name\":\"CategoricalTicker\",\"id\":\"p2223\"},\"formatter\":{\"type\":\"object\",\"name\":\"CategoricalTickFormatter\",\"id\":\"p2224\"},\"axis_label\":\"Compared\",\"major_label_policy\":{\"type\":\"object\",\"name\":\"AllLabels\",\"id\":\"p2225\"}}}],\"center\":[{\"type\":\"object\",\"name\":\"Grid\",\"id\":\"p2226\",\"attributes\":{\"axis\":{\"id\":\"p2222\"},\"grid_line_color\":null}},{\"type\":\"object\",\"name\":\"Grid\",\"id\":\"p2231\",\"attributes\":{\"dimension\":1,\"axis\":{\"id\":\"p2227\"},\"grid_line_color\":null}}],\"background_fill_color\":\"#00221c\",\"border_fill_color\":\"#1d9371\",\"min_border_top\":10,\"min_border_bottom\":10,\"min_border_left\":10,\"min_border_right\":10,\"output_backend\":\"webgl\"}},{\"type\":\"object\",\"name\":\"Spacer\",\"id\":\"p2251\",\"attributes\":{\"name\":\"HSpacer04739\",\"stylesheets\":[\"\\n:host(.pn-loading.pn-arc):before, .pn-loading.pn-arc:before {\\n  background-image: url(\\\"data:image/svg+xml;base64,PHN2ZyB4bWxucz0iaHR0cDovL3d3dy53My5vcmcvMjAwMC9zdmciIHN0eWxlPSJtYXJnaW46IGF1dG87IGJhY2tncm91bmQ6IG5vbmU7IGRpc3BsYXk6IGJsb2NrOyBzaGFwZS1yZW5kZXJpbmc6IGF1dG87IiB2aWV3Qm94PSIwIDAgMTAwIDEwMCIgcHJlc2VydmVBc3BlY3RSYXRpbz0ieE1pZFlNaWQiPiAgPGNpcmNsZSBjeD0iNTAiIGN5PSI1MCIgZmlsbD0ibm9uZSIgc3Ryb2tlPSIjYzNjM2MzIiBzdHJva2Utd2lkdGg9IjEwIiByPSIzNSIgc3Ryb2tlLWRhc2hhcnJheT0iMTY0LjkzMzYxNDMxMzQ2NDE1IDU2Ljk3Nzg3MTQzNzgyMTM4Ij4gICAgPGFuaW1hdGVUcmFuc2Zvcm0gYXR0cmlidXRlTmFtZT0idHJhbnNmb3JtIiB0eXBlPSJyb3RhdGUiIHJlcGVhdENvdW50PSJpbmRlZmluaXRlIiBkdXI9IjFzIiB2YWx1ZXM9IjAgNTAgNTA7MzYwIDUwIDUwIiBrZXlUaW1lcz0iMDsxIj48L2FuaW1hdGVUcmFuc2Zvcm0+ICA8L2NpcmNsZT48L3N2Zz4=\\\");\\n  background-size: auto calc(min(50%, 400px));\\n}\",{\"id\":\"p2201\"},{\"id\":\"p2199\"},{\"id\":\"p2200\"}],\"margin\":0,\"sizing_mode\":\"stretch_width\",\"align\":\"start\"}}]}}],\"defs\":[{\"type\":\"model\",\"name\":\"ReactiveHTML1\"},{\"type\":\"model\",\"name\":\"FlexBox1\",\"properties\":[{\"name\":\"align_content\",\"kind\":\"Any\",\"default\":\"flex-start\"},{\"name\":\"align_items\",\"kind\":\"Any\",\"default\":\"flex-start\"},{\"name\":\"flex_direction\",\"kind\":\"Any\",\"default\":\"row\"},{\"name\":\"flex_wrap\",\"kind\":\"Any\",\"default\":\"wrap\"},{\"name\":\"justify_content\",\"kind\":\"Any\",\"default\":\"flex-start\"}]},{\"type\":\"model\",\"name\":\"FloatPanel1\",\"properties\":[{\"name\":\"config\",\"kind\":\"Any\",\"default\":{\"type\":\"map\"}},{\"name\":\"contained\",\"kind\":\"Any\",\"default\":true},{\"name\":\"position\",\"kind\":\"Any\",\"default\":\"right-top\"},{\"name\":\"offsetx\",\"kind\":\"Any\",\"default\":null},{\"name\":\"offsety\",\"kind\":\"Any\",\"default\":null},{\"name\":\"theme\",\"kind\":\"Any\",\"default\":\"primary\"},{\"name\":\"status\",\"kind\":\"Any\",\"default\":\"normalized\"}]},{\"type\":\"model\",\"name\":\"GridStack1\",\"properties\":[{\"name\":\"mode\",\"kind\":\"Any\",\"default\":\"warn\"},{\"name\":\"ncols\",\"kind\":\"Any\",\"default\":null},{\"name\":\"nrows\",\"kind\":\"Any\",\"default\":null},{\"name\":\"allow_resize\",\"kind\":\"Any\",\"default\":true},{\"name\":\"allow_drag\",\"kind\":\"Any\",\"default\":true},{\"name\":\"state\",\"kind\":\"Any\",\"default\":[]}]},{\"type\":\"model\",\"name\":\"drag1\",\"properties\":[{\"name\":\"slider_width\",\"kind\":\"Any\",\"default\":5},{\"name\":\"slider_color\",\"kind\":\"Any\",\"default\":\"black\"},{\"name\":\"value\",\"kind\":\"Any\",\"default\":50}]},{\"type\":\"model\",\"name\":\"click1\",\"properties\":[{\"name\":\"terminal_output\",\"kind\":\"Any\",\"default\":\"\"},{\"name\":\"debug_name\",\"kind\":\"Any\",\"default\":\"\"},{\"name\":\"clears\",\"kind\":\"Any\",\"default\":0}]},{\"type\":\"model\",\"name\":\"FastWrapper1\",\"properties\":[{\"name\":\"object\",\"kind\":\"Any\",\"default\":null},{\"name\":\"style\",\"kind\":\"Any\",\"default\":null}]},{\"type\":\"model\",\"name\":\"NotificationAreaBase1\",\"properties\":[{\"name\":\"js_events\",\"kind\":\"Any\",\"default\":{\"type\":\"map\"}},{\"name\":\"position\",\"kind\":\"Any\",\"default\":\"bottom-right\"},{\"name\":\"_clear\",\"kind\":\"Any\",\"default\":0}]},{\"type\":\"model\",\"name\":\"NotificationArea1\",\"properties\":[{\"name\":\"js_events\",\"kind\":\"Any\",\"default\":{\"type\":\"map\"}},{\"name\":\"notifications\",\"kind\":\"Any\",\"default\":[]},{\"name\":\"position\",\"kind\":\"Any\",\"default\":\"bottom-right\"},{\"name\":\"_clear\",\"kind\":\"Any\",\"default\":0},{\"name\":\"types\",\"kind\":\"Any\",\"default\":[{\"type\":\"map\",\"entries\":[[\"type\",\"warning\"],[\"background\",\"#ffc107\"],[\"icon\",{\"type\":\"map\",\"entries\":[[\"className\",\"fas fa-exclamation-triangle\"],[\"tagName\",\"i\"],[\"color\",\"white\"]]}]]},{\"type\":\"map\",\"entries\":[[\"type\",\"info\"],[\"background\",\"#007bff\"],[\"icon\",{\"type\":\"map\",\"entries\":[[\"className\",\"fas fa-info-circle\"],[\"tagName\",\"i\"],[\"color\",\"white\"]]}]]}]}]},{\"type\":\"model\",\"name\":\"Notification\",\"properties\":[{\"name\":\"background\",\"kind\":\"Any\",\"default\":null},{\"name\":\"duration\",\"kind\":\"Any\",\"default\":3000},{\"name\":\"icon\",\"kind\":\"Any\",\"default\":null},{\"name\":\"message\",\"kind\":\"Any\",\"default\":\"\"},{\"name\":\"notification_type\",\"kind\":\"Any\",\"default\":null},{\"name\":\"_destroyed\",\"kind\":\"Any\",\"default\":false}]},{\"type\":\"model\",\"name\":\"TemplateActions1\",\"properties\":[{\"name\":\"open_modal\",\"kind\":\"Any\",\"default\":0},{\"name\":\"close_modal\",\"kind\":\"Any\",\"default\":0}]},{\"type\":\"model\",\"name\":\"BootstrapTemplateActions1\",\"properties\":[{\"name\":\"open_modal\",\"kind\":\"Any\",\"default\":0},{\"name\":\"close_modal\",\"kind\":\"Any\",\"default\":0}]},{\"type\":\"model\",\"name\":\"MaterialTemplateActions1\",\"properties\":[{\"name\":\"open_modal\",\"kind\":\"Any\",\"default\":0},{\"name\":\"close_modal\",\"kind\":\"Any\",\"default\":0}]}]}};\n",
       "  var render_items = [{\"docid\":\"7fb900c7-bca0-44f7-9de4-7a50a8be9e12\",\"roots\":{\"p2198\":\"dcf7eacf-5883-4791-97b3-ae6abec49b4d\"},\"root_ids\":[\"p2198\"]}];\n",
       "  var docs = Object.values(docs_json)\n",
       "  if (!docs) {\n",
       "    return\n",
       "  }\n",
       "  const py_version = docs[0].version.replace('rc', '-rc.').replace('.dev', '-dev.')\n",
       "  const is_dev = py_version.indexOf(\"+\") !== -1 || py_version.indexOf(\"-\") !== -1\n",
       "  function embed_document(root) {\n",
       "    var Bokeh = get_bokeh(root)\n",
       "    Bokeh.embed.embed_items_notebook(docs_json, render_items);\n",
       "    for (const render_item of render_items) {\n",
       "      for (const root_id of render_item.root_ids) {\n",
       "\tconst id_el = document.getElementById(root_id)\n",
       "\tif (id_el.children.length && (id_el.children[0].className === 'bk-root')) {\n",
       "\t  const root_el = id_el.children[0]\n",
       "\t  root_el.id = root_el.id + '-rendered'\n",
       "\t}\n",
       "      }\n",
       "    }\n",
       "  }\n",
       "  function get_bokeh(root) {\n",
       "    if (root.Bokeh === undefined) {\n",
       "      return null\n",
       "    } else if (root.Bokeh.version !== py_version && !is_dev) {\n",
       "      if (root.Bokeh.versions === undefined || !root.Bokeh.versions.has(py_version)) {\n",
       "\treturn null\n",
       "      }\n",
       "      return root.Bokeh.versions.get(py_version);\n",
       "    } else if (root.Bokeh.version === py_version) {\n",
       "      return root.Bokeh\n",
       "    }\n",
       "    return null\n",
       "  }\n",
       "  function is_loaded(root) {\n",
       "    var Bokeh = get_bokeh(root)\n",
       "    return (Bokeh != null && Bokeh.Panel !== undefined)\n",
       "  }\n",
       "  if (is_loaded(root)) {\n",
       "    embed_document(root);\n",
       "  } else {\n",
       "    var attempts = 0;\n",
       "    var timer = setInterval(function(root) {\n",
       "      if (is_loaded(root)) {\n",
       "        clearInterval(timer);\n",
       "        embed_document(root);\n",
       "      } else if (document.readyState == \"complete\") {\n",
       "        attempts++;\n",
       "        if (attempts > 200) {\n",
       "          clearInterval(timer);\n",
       "\t  var Bokeh = get_bokeh(root)\n",
       "\t  if (Bokeh == null || Bokeh.Panel == null) {\n",
       "            console.warn(\"Panel: ERROR: Unable to run Panel code because Bokeh or Panel library is missing\");\n",
       "\t  } else {\n",
       "\t    console.warn(\"Panel: WARNING: Attempting to render but not all required libraries could be resolved.\")\n",
       "\t    embed_document(root)\n",
       "\t  }\n",
       "        }\n",
       "      }\n",
       "    }, 25, root)\n",
       "  }\n",
       "})(window);</script>"
      ],
      "text/plain": [
       ":Bars   [Compared]   (Percentage)"
      ]
     },
     "execution_count": 238,
     "metadata": {
      "application/vnd.holoviews_exec.v0+json": {
       "id": "p2198"
      }
     },
     "output_type": "execute_result"
    }
   ],
   "source": [
    "user_roi_chart = CanaryFinancialCalculations.roi_chart(compared_roi, 'Compared', 'Percentage')\n",
    "user_roi_chart"
   ]
  },
  {
   "cell_type": "markdown",
   "metadata": {},
   "source": [
    "## Beta Chart"
   ]
  },
  {
   "cell_type": "code",
   "execution_count": 239,
   "metadata": {},
   "outputs": [
    {
     "data": {},
     "metadata": {},
     "output_type": "display_data"
    },
    {
     "data": {
      "application/vnd.holoviews_exec.v0+json": "",
      "text/html": [
       "<div id='p2257'>\n",
       "  <div id=\"bc999019-b24a-49c8-94ac-9d3c18f2e113\" data-root-id=\"p2257\" style=\"display: contents;\"></div>\n",
       "</div>\n",
       "<script type=\"application/javascript\">(function(root) {\n",
       "  var docs_json = {\"e8ed7762-f0f5-49df-9b20-393b4f2f9e0e\":{\"version\":\"3.2.1\",\"title\":\"Bokeh Application\",\"roots\":[{\"type\":\"object\",\"name\":\"Row\",\"id\":\"p2257\",\"attributes\":{\"name\":\"Row04887\",\"tags\":[\"embedded\"],\"stylesheets\":[\"\\n:host(.pn-loading.pn-arc):before, .pn-loading.pn-arc:before {\\n  background-image: url(\\\"data:image/svg+xml;base64,PHN2ZyB4bWxucz0iaHR0cDovL3d3dy53My5vcmcvMjAwMC9zdmciIHN0eWxlPSJtYXJnaW46IGF1dG87IGJhY2tncm91bmQ6IG5vbmU7IGRpc3BsYXk6IGJsb2NrOyBzaGFwZS1yZW5kZXJpbmc6IGF1dG87IiB2aWV3Qm94PSIwIDAgMTAwIDEwMCIgcHJlc2VydmVBc3BlY3RSYXRpbz0ieE1pZFlNaWQiPiAgPGNpcmNsZSBjeD0iNTAiIGN5PSI1MCIgZmlsbD0ibm9uZSIgc3Ryb2tlPSIjYzNjM2MzIiBzdHJva2Utd2lkdGg9IjEwIiByPSIzNSIgc3Ryb2tlLWRhc2hhcnJheT0iMTY0LjkzMzYxNDMxMzQ2NDE1IDU2Ljk3Nzg3MTQzNzgyMTM4Ij4gICAgPGFuaW1hdGVUcmFuc2Zvcm0gYXR0cmlidXRlTmFtZT0idHJhbnNmb3JtIiB0eXBlPSJyb3RhdGUiIHJlcGVhdENvdW50PSJpbmRlZmluaXRlIiBkdXI9IjFzIiB2YWx1ZXM9IjAgNTAgNTA7MzYwIDUwIDUwIiBrZXlUaW1lcz0iMDsxIj48L2FuaW1hdGVUcmFuc2Zvcm0+ICA8L2NpcmNsZT48L3N2Zz4=\\\");\\n  background-size: auto calc(min(50%, 400px));\\n}\",{\"type\":\"object\",\"name\":\"ImportedStyleSheet\",\"id\":\"p2260\",\"attributes\":{\"url\":\"https://cdn.holoviz.org/panel/1.2.3/dist/css/loading.css\"}},{\"type\":\"object\",\"name\":\"ImportedStyleSheet\",\"id\":\"p2324\",\"attributes\":{\"url\":\"https://cdn.holoviz.org/panel/1.2.3/dist/css/listpanel.css\"}},{\"type\":\"object\",\"name\":\"ImportedStyleSheet\",\"id\":\"p2258\",\"attributes\":{\"url\":\"https://cdn.holoviz.org/panel/1.2.3/dist/bundled/theme/default.css\"}},{\"type\":\"object\",\"name\":\"ImportedStyleSheet\",\"id\":\"p2259\",\"attributes\":{\"url\":\"https://cdn.holoviz.org/panel/1.2.3/dist/bundled/theme/native.css\"}}],\"min_width\":820,\"margin\":0,\"sizing_mode\":\"stretch_width\",\"align\":\"start\",\"children\":[{\"type\":\"object\",\"name\":\"Spacer\",\"id\":\"p2261\",\"attributes\":{\"name\":\"HSpacer04898\",\"stylesheets\":[\"\\n:host(.pn-loading.pn-arc):before, .pn-loading.pn-arc:before {\\n  background-image: url(\\\"data:image/svg+xml;base64,PHN2ZyB4bWxucz0iaHR0cDovL3d3dy53My5vcmcvMjAwMC9zdmciIHN0eWxlPSJtYXJnaW46IGF1dG87IGJhY2tncm91bmQ6IG5vbmU7IGRpc3BsYXk6IGJsb2NrOyBzaGFwZS1yZW5kZXJpbmc6IGF1dG87IiB2aWV3Qm94PSIwIDAgMTAwIDEwMCIgcHJlc2VydmVBc3BlY3RSYXRpbz0ieE1pZFlNaWQiPiAgPGNpcmNsZSBjeD0iNTAiIGN5PSI1MCIgZmlsbD0ibm9uZSIgc3Ryb2tlPSIjYzNjM2MzIiBzdHJva2Utd2lkdGg9IjEwIiByPSIzNSIgc3Ryb2tlLWRhc2hhcnJheT0iMTY0LjkzMzYxNDMxMzQ2NDE1IDU2Ljk3Nzg3MTQzNzgyMTM4Ij4gICAgPGFuaW1hdGVUcmFuc2Zvcm0gYXR0cmlidXRlTmFtZT0idHJhbnNmb3JtIiB0eXBlPSJyb3RhdGUiIHJlcGVhdENvdW50PSJpbmRlZmluaXRlIiBkdXI9IjFzIiB2YWx1ZXM9IjAgNTAgNTA7MzYwIDUwIDUwIiBrZXlUaW1lcz0iMDsxIj48L2FuaW1hdGVUcmFuc2Zvcm0+ICA8L2NpcmNsZT48L3N2Zz4=\\\");\\n  background-size: auto calc(min(50%, 400px));\\n}\",{\"id\":\"p2260\"},{\"id\":\"p2258\"},{\"id\":\"p2259\"}],\"margin\":0,\"sizing_mode\":\"stretch_width\",\"align\":\"start\"}},{\"type\":\"object\",\"name\":\"Figure\",\"id\":\"p2269\",\"attributes\":{\"width\":820,\"height\":500,\"margin\":[5,10],\"sizing_mode\":\"fixed\",\"align\":\"start\",\"x_range\":{\"type\":\"object\",\"name\":\"Range1d\",\"id\":\"p2262\",\"attributes\":{\"tags\":[[[\"Date\",\"Date\",null]],[]],\"start\":1517443200000.0,\"end\":1698796800000.0,\"reset_start\":1517443200000.0,\"reset_end\":1698796800000.0}},\"y_range\":{\"type\":\"object\",\"name\":\"Range1d\",\"id\":\"p2263\",\"attributes\":{\"tags\":[[[\"Beta\",\"Beta\",null]],{\"type\":\"map\",\"entries\":[[\"invert_yaxis\",false],[\"autorange\",false]]}],\"start\":-0.07076034190812,\"end\":3.4068477872408063,\"reset_start\":-0.07076034190812,\"reset_end\":3.4068477872408063}},\"x_scale\":{\"type\":\"object\",\"name\":\"LinearScale\",\"id\":\"p2279\"},\"y_scale\":{\"type\":\"object\",\"name\":\"LinearScale\",\"id\":\"p2280\"},\"title\":{\"type\":\"object\",\"name\":\"Title\",\"id\":\"p2272\",\"attributes\":{\"text_color\":\"black\",\"text_font_size\":\"12pt\"}},\"renderers\":[{\"type\":\"object\",\"name\":\"GlyphRenderer\",\"id\":\"p2317\",\"attributes\":{\"data_source\":{\"type\":\"object\",\"name\":\"ColumnDataSource\",\"id\":\"p2308\",\"attributes\":{\"selected\":{\"type\":\"object\",\"name\":\"Selection\",\"id\":\"p2309\",\"attributes\":{\"indices\":[],\"line_indices\":[]}},\"selection_policy\":{\"type\":\"object\",\"name\":\"UnionRenderers\",\"id\":\"p2310\"},\"data\":{\"type\":\"map\",\"entries\":[[\"Date\",{\"type\":\"ndarray\",\"array\":{\"type\":\"bytes\",\"data\":\"AABAm+oUdkIAAAABPRV2QgAAQDI0FnZCAAAAmIYWdkIAAMD92BZ2QgAAgGMrF3ZCAABAyX0XdkIAAID6dBh2QgAAQGDHGHZCAAAAxhkZdkIAAMArbBl2QgAAgJG+GXZCAACAKAgbdkIAAECOWht2QgAAAPSsG3ZCAADAWf8bdkIAAACL9hx2QgAAwPBIHXZCAACAVpsddkIAAEC87R12QgAAACJAHnZCAABAUzcfdkIAAAC5iR92QgAAwB7cH3ZCAACAhC4gdkIAAEDqgCB2QgAAgBt4IXZCAABAgcohdkIAAADnHCJ2QgAAwExvInZCAACAssEidkIAAMDjuCN2QgAAgEkLJHZCAABAr10kdkIAAAAVsCR2QgAAwHoCJXZCAAAArPkldkIAAMARTCZ2QgAAgHeeJnZCAABA3fAmdkIAAEB0Oih2QgAAANqMKHZCAADAP98odkIAAIClMSl2QgAAQAuEKXZCAACAPHsqdkIAAECizSp2QgAAAAggK3ZCAADAbXIrdkIAAIDTxCt2QgAAwAS8LHZCAACAag4tdkIAAEDQYC12QgAAADazLXZCAADAmwUudkIAAADN/C52QgAAwDJPL3ZCAACAmKEvdkIAAED+8y92QgAAAGRGMHZCAABAlT0xdkIAAAD7jzF2QgAAwGDiMXZCAACAxjQydkIAAEAshzJ2QgAAgF1+M3ZCAABAw9AzdkIAAAApIzR2QgAAwI51NHZCAACA9Mc0dkIAAMAlvzV2QgAAgIsRNnZCAABA8WM2dkIAAABXtjZ2QgAAwLwIN3ZCAAAA7v83dkIAAMBTUjh2QgAAgLmkOHZCAABAH/c4dkIAAACFSTl2QgAAAByTOnZCAADAgeU6dkIAAIDnNzt2QgAAQE2KO3ZCAACAfoE8dkIAAEDk0zx2QgAAAEomPXZCAADAr3g9dkIAAIAVyz12QgAAwEbCPnZCAACArBQ/dkIAAEASZz92QgAAAHi5P3ZCAADA3QtAdkIAAAAPA0F2QgAAwHRVQXZCAACA2qdBdkIAAEBA+kF2QgAAAKZMQnZCAABA10NDdkIAAAA9lkN2QgAAwKLoQ3ZCAACACDtEdkIAAEBujUR2QgAAgJ+ERXZCAABABddFdkIAAMDQe0Z2QgAAgDbORnZCAADAZ8VHdkIAAIDNF0h2QgAAQDNqSHZCAAAAmbxIdkIAAMD+Dkl2QgAAADAGSnZCAADAlVhKdkIAAID7qkp2QgAAQGH9SnZCAAAAx09LdkIAAED4Rkx2QgAAAF6ZTHZCAADAw+tMdkIAAIApPk12QgAAQI+QTXZCAACAwIdOdkIAAEAm2k52QgAAAIwsT3ZCAADA8X5PdkIAAIBX0U92QgAAwIjIUHZCAACA7hpRdkIAAEBUbVF2QgAAALq/UXZCAADAHxJSdkIAAABRCVN2QgAAwLZbU3ZCAACAHK5TdkIAAECCAFR2QgAAAOhSVHZCAABAGUpVdkIAAAB/nFV2QgAAwOTuVXZCAACASkFWdkIAAECwk1Z2QgAAgOGKV3ZCAABAR91XdkIAAACtL1h2QgAAwBKCWHZCAACAeNRYdkIAAIAPHlp2QgAAQHVwWnZCAAAA28JadkIAAMBAFVt2QgAAAHIMXHZCAADA115cdkIAAIA9sVx2QgAAQKMDXXZCAAAACVZddkIAAEA6TV52QgAAAKCfXnZCAADABfJedkIAAIBrRF92QgAAQNGWX3ZCAACAAo5gdkIAAEBo4GB2QgAAAM4yYXZCAADAM4VhdkIAAICZ12F2QgAAwMrOYnZCAACAMCFjdkIAAECWc2N2QgAAAPzFY3ZCAADAYRhkdkIAAACTD2V2QgAAwPhhZXZCAACAXrRldkIAAEDEBmZ2QgAAACpZZnZCAABAW1BndkIAAADBomd2QgAAwCb1Z3ZCAACAjEdodkIAAEDymWh2QgAAgCORaXZCAABAieNpdkIAAADvNWp2QgAAwFSIanZCAACAutpqdkIAAMDr0Wt2QgAAgFEkbHZCAABAt3ZsdkIAAAAdyWx2QgAAwIIbbXZCAAAAtBJudkIAAMAZZW52QgAAgH+3bnZCAABA5QlvdkIAAABLXG92QgAAQHxTcHZCAAAA4qVwdkIAAMBH+HB2QgAAgK1KcXZCAABAE51xdkIAAIBElHJ2QgAAQKrmcnZCAAAAEDlzdkIAAIDb3XN2QgAAwAzVdHZCAACAcid1dkIAAEDYeXV2QgAAAD7MdXZCAADAox52dkIAAADVFXd2QgAAwDpod3ZCAABABg14dkIAAABsX3h2QgAAQJ1WeXZCAAAAA6l5dkIAAMBo+3l2QgAAgM5NenZCAABANKB6dkIAAIBll3t2QgAAQMvpe3ZCAAAAMTx8dkIAAMCWjnx2QgAAgPzgfHZCAADALdh9dkIAAED5fH52QgAAAF/PfnZCAADAxCF/dkIAAAD2GIB2QgAAgMG9gHZCAABAJxCBdkIAAACNYoF2QgAAQL5ZgnZCAAAAJKyCdkIAAMCJ/oJ2QgAAgO9Qg3ZCAABAVaODdkIAAICGmoR2QgAAQOzshHZCAAAAUj+FdkIAAMC3kYV2QgAAgB3khXZCAACAtC2HdkIAAEAagId2QgAAAIDSh3ZCAADA5SSIdkIAAAAXHIl2QgAAwHxuiXZCAACA4sCJdkIAAEBIE4p2QgAAAK5linZCAABA31yLdkIAAABFr4t2QgAAwKoBjHZCAACAEFSMdkIAAEB2pox2QgAAgKedjXZCAABADfCNdkIAAABzQo52QgAAwNiUjnZCAACAPueOdkIAAIDVMJB2QgAAQDuDkHZCAAAAodWQdkIAAMAGKJF2QgAAADgfknZCAADAnXGSdkIAAIADxJJ2QgAAQGkWk3ZCAAAAz2iTdkIAAEAAYJR2QgAAAGaylHZCAADAywSVdkIAAIAxV5V2QgAAQJeplXZCAACAyKCWdkIAAEAu85Z2QgAAAJRFl3ZCAADA+ZeXdkIAAIBf6pd2QgAAwJDhmHZCAACA9jOZdkIAAEBchpl2QgAAAMLYmXZCAADAJyuadkIAAABZIpt2QgAAwL50m3ZCAACAJMebdkIAAECKGZx2QgAAAPBrnHZCAABAIWOddkIAAACHtZ12QgAAwOwHnnZCAACAUlqedkIAAEC4rJ52QgAAgOmjn3ZCAABAT/afdkIAAAC1SKB2QgAAwBqboHZCAACAgO2gdkIAAMCx5KF2QgAAgBc3onZCAABAfYmidkIAAADj26J2QgAAAHolpHZCAADA33ekdkIAAIBFyqR2QgAAQKscpXZCAAAAEW+ldkIAAEBCZqZ2QgAAAKi4pnZCAADADQundkIAAIBzXad2QgAAQNmvp3ZCAACACqeodkIAAEBw+ah2QgAAANZLqXZCAADAO56pdkIAAICh8Kl2QgAAwNLnqnZCAACAODqrdkIAAECejKt2QgAAAATfq3ZCAADAaTGsdkIAAACbKK12QgAAwAB7rXZCAACAZs2tdkIAAEDMH652QgAAADJyrnZCAAAAybuvdkIAAMAuDrB2QgAAgJRgsHZCAABA+rKwdkIAAIArqrF2QgAAQJH8sXZCAAAA906ydkIAAMBcobJ2QgAAgMLzsnZCAADA8+qzdkIAAIBZPbR2QgAAQL+PtHZCAAAAJeK0dkIAAMCKNLV2QgAAALwrtnZCAADAIX62dkIAAICH0LZ2QgAAQO0it3ZCAAAAU3W3dkIAAECEbLh2QgAAAOq+uHZCAADATxG5dkIAAIC1Y7l2QgAAQBu2uXZCAACATK26dkIAAECy/7p2QgAAABhSu3ZCAACA4/a7dkIAAMAU7rx2QgAAgHpAvXZCAABA4JK9dkIAAABG5b12QgAAwKs3vnZCAAAA3S6/dkIAAMBCgb92QgAAgKjTv3ZCAABADibAdkIAAAB0eMB2QgAAQKVvwXZCAAAAC8LBdkIAAMBwFMJ2QgAAgNZmwnZCAABAPLnCdkIAAIBtsMN2QgAAQNMCxHZCAAAAOVXEdkIAAMCep8R2QgAAgAT6xHZCAADANfHFdkIAAICbQ8Z2QgAAQAGWxnZCAAAAZ+jGdkIAAMDMOsd2QgAAAP4xyHZCAADAY4TIdkIAAIDJ1sh2QgAAQC8pyXZCAAAAlXvJdkIAAEDGcsp2QgAAACzFynZCAADAkRfLdkIAAID3act2QgAAQF28y3ZCAACAjrPMdkIAAED0Bc12QgAAAFpYzXZCAADAv6rNdkIAAIAl/c12QgAAgLxGz3ZCAABAIpnPdkIAAACI6892QgAAwO090HZCAAAAHzXRdkIAAMCEh9F2QgAAgOrZ0XZCAABAUCzSdkIAAAC2ftJ2QgAAQOd103ZCAAAATcjTdkIAAMCyGtR2QgAAgBht1HZCAABAfr/UdkIAAICvttV2QgAAQBUJ1nZCAAAAe1vWdkIAAMDgrdZ2QgAAgEYA13ZCAADAd/fXdkIAAIDdSdh2QgAAQEOc2HZCAAAAqe7YdkIAAMAOQdl2QgAAAEA42nZCAADApYradkIAAIAL3dp2QgAAQHEv23ZCAAAA14HbdkIAAEAIedx2QgAAAG7L3HZCAADA0x3ddkIAAIA5cN12QgAAQJ/C3XZCAACA0LnedkIAAEA2DN92QgAAAJxe33ZCAADAAbHfdkIAAIBnA+B2QgAAwJj64HZCAACA/kzhdkIAAEBkn+F2QgAAAMrx4XZCAADAL0TidkIAAABhO+N2QgAAwMaN43ZCAACALODjdkIAAECSMuR2QgAAAPiE5HZCAABAKXzldkIAAACPzuV2QgAAwPQg5nZCAACAWnPmdkIAAEDAxeZ2QgAAgPG853ZCAABAVw/odkIAAAC9Yeh2QgAAwCK06HZCAACAiAbpdkIAAMC5/el2QgAAgB9Q6nZCAABAhaLqdkIAAMBQR+t2QgAAAII+7HZCAADA55DsdkIAAIBN4+x2QgAAQLM17XZCAAAAGYjtdkIAAEBKf+52QgAAALDR7nZCAADAFSTvdkIAAIB7du92QgAAQOHI73ZCAACAEsDwdkIAAEB4EvF2QgAAAN5k8XZCAADAQ7fxdkIAAICpCfJ2QgAAwNoA83ZCAACAQFPzdkIAAAAM+PN2QgAAwHFK9HZCAAAAo0H1dkIAAMAIlPV2QgAAQNQ49nZCAAAAOov2dkIAAEBrgvd2QgAAANHU93ZCAADANif4dkIAAICcefh2QgAAQALM+HZCAACAM8P5dkIAAECZFfp2QgAAAP9n+nZCAADAZLr6dkIAAIDKDPt2QgAAgGFW/HZCAABAx6j8dkIAAAAt+/x2QgAAwJJN/XZCAAAAxET+dkIAAMApl/52QgAAgI/p/nZCAABA9Tv/dkIAAABbjv92QgAAQIyFAHdCAAAA8tcAd0IAAMBXKgF3QgAAgL18AXdCAABAI88Bd0IAAIBUxgJ3QgAAQLoYA3dCAAAAIGsDd0IAAMCFvQN3QgAAgOsPBHdCAACAglkFd0IAAEDoqwV3QgAAAE7+BXdCAADAs1AGd0IAAADlRwd3QgAAwEqaB3dCAACAsOwHd0IAAEAWPwh3QgAAAHyRCHdCAABArYgJd0IAAAAT2wl3QgAAwHgtCndCAACA3n8Kd0IAAEBE0gp3QgAAgHXJC3dCAABA2xsMd0IAAABBbgx3QgAAwKbADHdCAACADBMNd0IAAMA9Cg53QgAAgKNcDndCAABACa8Od0IAAABvAQ93QgAAwNRTD3dCAAAABksQd0IAAMBrnRB3QgAAgNHvEHdCAABAN0IRd0IAAACdlBF3QgAAQM6LEndCAAAANN4Sd0IAAMCZMBN3QgAAgP+CE3dCAABAZdUTd0IAAICWzBR3QgAAQPweFXdCAAAAYnEVd0IAAMDHwxV3QgAAwF4NF3dCAACAxF8Xd0IAAEAqshd3QgAAAJAEGHdCAADA9VYYd0IAAAAnThl3QgAAwIygGXdCAACA8vIZd0IAAEBYRRp3QgAAAL6XGndCAABA744bd0IAAABV4Rt3QgAAwLozHHdCAACAIIYcd0IAAECG2Bx3QgAAgLfPHXdCAABAHSIed0IAAACDdB53QgAAwOjGHndCAACAThkfd0IAAMB/ECB3QgAAgOViIHdCAABAS7Ugd0IAAACxByF3QgAAwBZaIXdCAAAASFEid0IAAMCtoyJ3QgAAgBP2IndCAABAeUgjd0IAAADfmiN3QgAAAHbkJHdCAADA2zYld0IAAIBBiSV3QgAAQKfbJXdCAACA2NImd0IAAEA+JSd3QgAAAKR3J3dCAADACcond0IAAIBvHCh3QgAAwKATKXdCAACABmYpd0IAAEBsuCl3QgAAANIKKndCAADAN10qd0IAAABpVCt3QgAAwM6mK3dCAACANPkrd0IAAECaSyx3QgAAAACeLHdCAABAMZUtd0IAAACX5y13QgAAwPw5LndCAACAYowud0IAAEDI3i53QgAAgPnVL3dCAABAXygwd0IAAADFejB3QgAAwCrNMHdCAADAwRYyd0IAAIAnaTJ3QgAAQI27MndCAAAA8w0zd0IAAMBYYDN3QgAAAIpXNHdCAADA76k0d0IAAIBV/DR3QgAAQLtONXdCAAAAIaE1d0IAAEBSmDZ3QgAAALjqNndCAADAHT03d0IAAICDjzd3QgAAQOnhN3dCAACAGtk4d0IAAECAKzl3QgAAAOZ9OXdCAADAS9A5d0IAAICxIjp3QgAAwOIZO3dCAACASGw7d0IAAECuvjt3QgAAABQRPHdCAADAeWM8d0IAAACrWj13QgAAwBCtPXdCAACAdv89d0IAAEDcUT53QgAAAEKkPndCAABAc5s/d0IAAADZ7T93QgAAwD5AQHdCAACApJJAd0IAAEAK5UB3QgAAgDvcQXdCAABAoS5Cd0IAAAAHgUJ3QgAAwGzTQndCAACA0iVDd0IAAMADHUR3QgAAgGlvRHdCAABAz8FEd0IAAAA1FEV3QgAAwJpmRXdCAADAMbBGd0IAAICXAkd3QgAAQP1UR3dCAAAAY6dHd0IAAECUnkh3QgAAAPrwSHdCAADAX0NJd0IAAIDFlUl3QgAAQCvoSXdCAACAXN9Kd0IAAEDCMUt3QgAAACiES3dCAADAjdZLd0IAAIDzKEx3QgAAwCQgTXdCAACAinJNd0IAAEDwxE13QgAAAFYXTndCAADAu2lOd0IAAADtYE93QgAAwFKzT3dCAACAuAVQd0IAAEAeWFB3QgAAAISqUHdCAABAtaFRd0IAAAAb9FF3QgAAwIBGUndCAACA5phSd0IAAEBM61J3QgAAgH3iU3dCAABA4zRUd0IAAABJh1R3QgAAwK7ZVHdCAACAFCxVd0IAAMBFI1Z3QgAAgKt1VndCAABAEchWd0IAAAB3Gld3QgAAwNxsV3dCAAAADmRYd0IAAMBztlh3QgAAgNkIWXdCAABAP1tZd0IAAAClrVl3QgAAQNakWndCAAAAPPdad0IAAMChSVt3QgAAgAecW3dCAABAbe5bd0IAAICe5Vx3QgAAQAQ4XXdCAAAAaopdd0IAAMDP3F13QgAAgDUvXndCAADAZiZfd0IAAIDMeF93QgAAQDLLX3dCAADA/W9gd0IAAAAvZ2F3QgAAwJS5YXdCAACA+gtid0IAAEBgXmJ3QgAAAMawYndCAABA96djd0IAAABd+mN3QgAAwMJMZHdCAACAKJ9kd0IAAECO8WR3QgAAgL/oZXdCAABAJTtmd0IAAACLjWZ3QgAAwPDfZndCAACAVjJnd0IAAMCHKWh3QgAAgO17aHdCAABAU85od0IAAAC5IGl3QgAAAFBqandCAADAtbxqd0IAAIAbD2t3QgAAQIFha3dCAABAGKtsd0IAAAB+/Wx3QgAAwONPbXdCAACASaJtd0IAAECv9G13QgAAgODrbndCAABARj5vd0IAAACskG93QgAAwBHjb3dCAACAdzVwd0IAAIAOf3F3QgAAQHTRcXdCAAAA2iNyd0IAAMA/dnJ3QgAAAHFtc3dCAADA1r9zd0IAAIA8EnR3QgAAQKJkdHdCAAAACLd0d0IAAEA5rnV3QgAAAJ8AdndCAADABFN2d0IAAIBqpXZ3QgAAQND3dndCAACAAe93d0IAAEBnQXh3QgAAAM2TeHdCAADAMuZ4d0IAAICYOHl3QgAAgC+CendCAABAldR6d0IAAAD7Jnt3QgAAwGB5e3dCAAAAknB8d0IAAMD3wnx3QgAAgF0VfXdCAABAw2d9d0IAAAApun13QgAAQFqxfndCAAAAwAN/d0IAAMAlVn93QgAAgIuof3dCAABA8fp/d0IAAIAi8oB3QgAAQIhEgXdCAAAA7paBd0IAAMBT6YF3QgAAgLk7gndCAADA6jKDd0IAAIBQhYN3QgAAQLbXg3dCAAAAHCqEd0IAAMCBfIR3QgAAALNzhXdCAADAGMaFd0IAAIB+GIZ3QgAAQORqhndCAAAASr2Gd0IAAEB7tId3QgAAAOEGiHdCAADARlmId0IAAICsq4h3QgAAgEP1iXdCAABAqUeKd0IAAAAPmop3QgAAwHTsindCAACA2j6Ld0IAAMALNox3QgAAgHGIjHdCAABA19qMd0IAAAA9LY13QgAAwKJ/jXdCAAAA1HaOd0IAAMA5yY53QgAAgJ8bj3dCAABABW6Pd0IAAABrwI93QgAAQJy3kHdCAAAAAgqRd0IAAMBnXJF3QgAAgM2ukXdCAABAMwGSd0IAAIBk+JJ3QgAAQMpKk3dCAAAAMJ2Td0IAAMCV75N3QgAAgPtBlHdCAADALDmVd0IAAICSi5V3QgAAQPjdlXdCAAAAXjCWd0IAAMDDgpZ3QgAAAPV5l3dCAADAWsyXd0IAAIDAHph3QgAAQCZxmHdCAAAAjMOYd0IAAEC9upl3QgAAACMNmndCAADAiF+ad0IAAIDusZp3QgAAQFQEm3dCAABA602cd0IAAABRoJx3QgAAwLbynHdCAACAHEWdd0IAAMBNPJ53QgAAgLOOnndCAABAGeGed0IAAAB/M593QgAAwOSFn3dCAAAAFn2gd0IAAMB7z6B3QgAAgOEhoXdCAABAR3Shd0IAAACtxqF3QgAAQN69ondCAAAARBCjd0IAAMCpYqN3QgAAgA+1o3dCAABAdQekd0IAAICm/qR3QgAAQAxRpXdCAAAAcqOld0IAAMDX9aV3QgAAgD1IpndCAACA1JGnd0IAAEA65Kd3QgAAAKA2qHdCAADABYmod0IAAAA3gKl3QgAAwJzSqXdCAACAAiWqd0IAAEBod6p3QgAAAM7JqndCAABA/8Crd0IAAABlE6x3QgAAwMplrHdCAACAMLisd0IAAECWCq13QgAAgMcBrndCAABALVSud0IAAACTpq53QgAAwPj4rndCAACAXkuvd0IAAMCPQrB3QgAAgPWUsHdCAABAW+ewd0IAAADBObF3QgAAwCaMsXdCAAAAWIOyd0IAAMC91bJ3QgAAgCMos3dCAABAiXqzd0IAAADvzLN3QgAAQCDEtHdCAAAAhha1d0IAAMDraLV3QgAAgFG7tXdCAABAtw22d0IAAIDoBLd3QgAAQE5Xt3dCAAAAtKm3d0IAAMAZ/Ld3QgAAgH9OuHdCAADAsEW5d0IAAIAWmLl3QgAAQHzquXdCAAAA4jy6d0IAAMBHj7p3QgAAwN7Yu3dCAACARCu8d0IAAECqfbx3QgAAABDQvHdCAABAQce9d0IAAACnGb53QgAAwAxsvndCAACAcr6+d0IAAEDYEL93QgAAgAkIwHdCAABAb1rAd0IAAADVrMB3QgAAwDr/wHdCAACAoFHBd0IAAMDRSMJ3QgAAgDebwndCAABAne3Cd0IAAAADQMN3QgAAwGiSw3dCAAAAmonEd0IAAMD/28R3QgAAgGUuxXdCAABAy4DFd0IAAAAx08V3QgAAQGLKxndCAAAAyBzHd0IAAMAtb8d3QgAAgJPBx3dCAABA+RPId0IAAIAqC8l3QgAAQJBdyXdCAAAA9q/Jd0IAAMBbAsp3QgAAgMFUyndCAADA8kvLd0IAAIBYnst3QgAAQL7wy3dCAAAAJEPMd0IAAMCJlcx3QgAAALuMzXdCAADAIN/Nd0IAAICGMc53QgAAQOyDzndCAAAAUtbOd0IAAECDzc93QgAAAOkf0HdCAADATnLQd0IAAIC0xNB3QgAAQBoX0XdCAACASw7Sd0IAAECxYNJ3QgAAABez0ndCAADAfAXTd0IAAIDiV9N3QgAAwBNP1HdCAACAeaHUd0IAAEDf89R3QgAAwKqY1XdCAAAA3I/Wd0IAAMBB4tZ3QgAAgKc013dCAABADYfXd0IAAABz2dd3QgAAQKTQ2HdCAAAACiPZd0IAAMBvddl3QgAAgNXH2XdCAABAOxrad0IAAIBsEdt3QgAAQNJj23dCAAAAOLbbd0IAAMCdCNx3QgAAgANb3HdCAADANFLdd0IAAICapN13QgAAQAD33XdCAAAAZkned0IAAAD9kt93QgAAwGLl33dCAACAyDfgd0IAAEAuiuB3QgAAAJTc4HdCAABAxdPhd0IAAAArJuJ3QgAAwJB44ndCAACA9srid0IAAEBcHeN3QgAAgI0U5HdCAABA82bkd0IAAABZueR3QgAAwL4L5XdCAACAJF7ld0IAAIC7p+Z3QgAAQCH65ndCAAAAh0znd0IAAMDsnud3QgAAAB6W6HdCAADAg+jod0IAAIDpOul3QgAAQE+N6XdCAAAAtd/pd0IAAEDm1up3QgAAAEwp63dCAADAsXvrd0IAAIAXzut3QgAAQH0g7HdCAACArhftd0IAAEAUau13QgAAAHq87XdCAADA3w7ud0IAAIBFYe53QgAAwHZY73dCAACA3Krvd0IAAEBC/e93QgAAAKhP8HdCAADADaLwd0IAAMCk6/F3QgAAgAo+8ndCAABAcJDyd0IAAADW4vJ3QgAAQAfa83dCAAAAbSz0d0IAAMDSfvR3QgAAgDjR9HdCAABAniP1d0IAAIDPGvZ3QgAAQDVt9ndCAAAAm7/2d0IAAMAAEvd3QgAAgGZk93dCAADAl1v4d0IAAID9rfh3QgAAQGMA+XdCAAAAyVL5d0IAAMAupfl3QgAAAGCc+ndCAADAxe76d0IAAIArQft3QgAAQJGT+3dCAAAA9+X7d0IAAEAo3fx3QgAAAI4v/XdCAADA84H9d0IAAIBZ1P13QgAAQL8m/ndCAACA8B3/d0IAAEBWcP93QgAAALzC/3dCAADAIRUAeEIAAICHZwB4QgAAwLheAXhCAACAHrEBeEIAAECEAwJ4QgAAAOpVAnhCAAAAgZ8DeEIAAMDm8QN4QgAAgExEBHhCAABAspYEeEIAAAAY6QR4QgAAQEngBXhCAAAArzIGeEIAAMAUhQZ4QgAAgHrXBnhCAABA4CkHeEIAAIARIQh4QgAAQHdzCHhCAAAA3cUIeEIAAMBCGAl4QgAAgKhqCXhCAADA2WEKeEIAAIA/tAp4QgAAQKUGC3hCAAAAC1kLeEIAAMBwqwt4QgAAAKKiDHhCAADAB/UMeEIAAIBtRw14QgAAQNOZDXhCAAAAOewNeEIAAEBq4w54QgAAANA1D3hCAADANYgPeEIAAICb2g94QgAAQAEtEHhCAABAmHYReEIAAAD+yBF4QgAAwGMbEnhCAACAyW0SeEIAAMD6ZBN4QgAAgGC3E3hCAABAxgkUeEIAAAAsXBR4QgAAwJGuFHhCAAAAw6UVeEIAAMAo+BV4QgAAgI5KFnhCAABA9JwWeEIAAABa7xZ4QgAAAPE4GHhCAADAVosYeEIAAIC83Rh4QgAAQCIwGXhCAACAUycaeEIAAEC5eRp4QgAAAB/MGnhCAADAhB4beEIAAIDqcBt4QgAAgIG6HHhCAABA5wwdeEIAAABNXx14QgAAwLKxHXhCAAAA5KgeeEIAAMBJ+x54QgAAgK9NH3hCAABAFaAfeEIAAAB78h94QgAAQKzpIHhCAAAAEjwheEIAAMB3jiF4QgAAgN3gIXhCAABAQzMieEIAAIB0KiN4QgAAQNp8I3hCAAAAQM8jeEIAAMClISR4QgAAgAt0JHhCAADAPGsleEIAAICivSV4QgAAQAgQJnhCAAAAbmImeEIAAMDTtCZ4QgAAAAWsJ3hCAADAav4neEIAAIDQUCh4QgAAQDajKHhCAAAAnPUoeEIAAEDN7Cl4QgAAADM/KnhCAADAmJEqeEIAAID+4yp4QgAAQGQ2K3hCAACAlS0seEIAAED7fyx4QgAAAGHSLHhCAADAxiQteEIAAIAsdy14QgAAwF1uLnhCAACAw8AueEIAAEApEy94QgAAAI9lL3hCAADA9LcveEIAAMCLATF4QgAAgPFTMXhCAABAV6YxeEIAAAC9+DF4QgAAQO7vMnhCAAAAVEIzeEIAAMC5lDN4QgAAgB/nM3hCAABAhTk0eEIAAIC2MDV4QgAAQByDNXhCAAAAgtU1eEIAAMDnJzZ4QgAAgE16NnhCAADAfnE3eEIAAIDkwzd4QgAAQEoWOHhCAAAAsGg4eEIAAMAVuzh4QgAAAEeyOXhCAADArAQ6eEIAAIASVzp4QgAAQHipOnhCAAAA3vs6eEIAAEAP8zt4QgAAAHVFPHhCAADA2pc8eEIAAIBA6jx4QgAAQKY8PXhCAACA1zM+eEIAAEA9hj54QgAAAKPYPnhCAADACCs/eEIAAIBufT94QgAAwJ90QHhCAACABcdAeEIAAEBrGUF4QgAAANFrQXhCAADANr5BeEIAAABotUJ4QgAAwM0HQ3hCAACAM1pDeEIAAECZrEN4QgAAAP/+Q3hCAABAMPZEeEIAAACWSEV4QgAAwPuaRXhCAACAYe1FeEIAAEDHP0Z4QgAAgPg2R3hCAABAXolHeEIAAADE20d4QgAAwCkuSHhCAACAj4BIeEIAAMDAd0l4QgAAgCbKSXhCAABAjBxKeEIAAMBXwUp4QgAAAIm4S3hCAADA7gpMeEIAAIBUXUx4QgAAQLqvTHhCAAAAIAJNeEIAAEBR+U14QgAAALdLTnhCAADAHJ5OeEIAAICC8E54QgAAQOhCT3hCAACAGTpQeEIAAEB/jFB4QgAAAOXeUHhCAADASjFReEIAAICwg1F4QgAAwOF6UnhCAACAR81SeEIAAECtH1N4QgAAABNyU3hCAADAeMRTeEIAAMAPDlV4QgAAgHVgVXhCAABA27JVeEIAAABBBVZ4QgAAANhOV3hCAADAPaFXeEIAAICj81d4QgAAQAlGWHhCAACAOj1ZeEIAAECgj1l4QgAAAAbiWXhCAADAazRaeEIAAIDRhlp4QgAAgGjQW3hCAABAziJceEIAAAA0dVx4QgAAwJnHXHhCAAAAy75deEIAAMAwEV54QgAAgJZjXnhCAABA/LVeeEIAAABiCF94QgAAQJP/X3hCAAAA+VFgeEIAAMBepGB4QgAAgMT2YHhCAABAKklheEIAAIBbQGJ4QgAAQMGSYnhCAAAAJ+VieEIAAMCMN2N4QgAAgPKJY3hCAADAI4FkeEIAAICJ02R4QgAAQO8lZXhCAAAAVXhleEIAAMC6ymV4QgAAwFEUZ3hCAACAt2ZneEIAAEAduWd4QgAAAIMLaHhCAABAtAJpeEIAAAAaVWl4QgAAwH+naXhCAACA5flpeEIAAEBLTGp4QgAAgHxDa3hCAABA4pVreEIAAABI6Gt4QgAAwK06bHhCAACAE41seEIAAMBEhG14QgAAgKrWbXhCAABAEClueEIAAAB2e254QgAAwNvNbnhCAAAADcVveEIAAMByF3B4QgAAgNhpcHhCAABAPrxweEIAAACkDnF4QgAAQNUFcnhCAAAAO1hyeEIAAMCgqnJ4QgAAgAb9cnhCAABAbE9zeEIAAICdRnR4QgAAQAOZdHhCAAAAaet0eEIAAMDOPXV4QgAAwGWHdnhCAACAy9l2eEIAAEAxLHd4QgAAAJd+d3hCAADA/NB3eEIAAAAuyHh4QgAAwJMaeXhCAACA+Wx5eEIAAEBfv3l4QgAAAMURenhCAABA9gh7eEIAAABcW3t4QgAAwMGte3hCAACAJwB8eEIAAECNUnx4QgAAgL5JfXhCAABAJJx9eEIAAACK7n14QgAAwO9AfnhCAACAVZN+eEIAAMCGin94QgAAgOzcf3hCAABAUi+AeEIAAAC4gYB4QgAAwB3UgHhCAAAAT8uBeEIAAMC0HYJ4QgAAgBpwgnhCAABAgMKCeEIAAADmFIN4QgAAQBcMhHhCAAAAfV6EeEIAAMDisIR4QgAAgEgDhXhCAABArlWFeEIAAEBFn4Z4QgAAAKvxhnhCAADAEESHeEIAAIB2lod4QgAAwKeNiHhCAACADeCIeEIAAEBzMol4QgAAANmEiXhCAADAPteJeEIAAABwzop4QgAAwNUgi3hCAACAO3OLeEIAAEChxYt4QgAAAAcYjHhCAAAAnmGNeEIAAMADtI14QgAAgGkGjnhCAABAz1iOeEIAAIAAUI94QgAAQGaij3hCAAAAzPSPeEIAAMAxR5B4QgAAgJeZkHhCAADAyJCReEIAAECUNZJ4QgAAAPqHknhCAADAX9qSeEIAAACR0ZN4QgAAwPYjlHhCAACAXHaUeEIAAEDCyJR4QgAAACgblXhCAABAWRKWeEIAAAC/ZJZ4QgAAwCS3lnhCAACAigmXeEIAAEDwW5d4QgAAgCFTmHhCAABAh6WYeEIAAADt95h4QgAAwFJKmXhCAACAuJyZeEIAAMDpk5p4QgAAgE/mmnhCAABAtTibeEIAAAAbi5t4QgAAwIDdm3hCAAAAstSceEIAAMAXJ514QgAAgH15nXhCAABA48udeEIAAABJHp54QgAAQHoVn3hCAAAA4GefeEIAAMBFup94QgAAgKsMoHhCAABAEV+geEIAAIBCVqF4QgAAQKiooXhCAAAADvuheEIAAMBzTaJ4QgAAgNmfonhCAADACpejeEIAAIBw6aN4QgAAQNY7pHhCAAAAPI6keEIAAMCh4KR4QgAAwDgqpnhCAACAnnymeEIAAEAEz6Z4QgAAAGohp3hCAABAmxioeEIAAAABa6h4QgAAwGa9qHhCAACAzA+peEIAAEAyYql4QgAAgGNZqnhCAABAyauqeEIAAAAv/qp4QgAAwJRQq3hCAACA+qKreEIAAMArmqx4QgAAgJHsrHhCAABA9z6teEIAAABdka14QgAAwMLjrXhCAAAA9NqueEIAAMBZLa94QgAAgL9/r3hCAABAJdKveEIAAACLJLB4QgAAQLwbsXhCAAAAIm6xeEIAAMCHwLF4QgAAgO0SsnhCAABAU2WyeEIAAICEXLN4QgAAQOqus3hCAAAAUAG0eEIAAMC1U7R4QgAAgBumtHhCAADATJ21eEIAAICy77V4QgAAQBhCtnhCAAAAfpS2eEIAAMDj5rZ4QgAAABXet3hCAADAejC4eEIAAIDggrh4Qg==\"},\"shape\":[1448],\"dtype\":\"float64\",\"order\":\"little\"}],[\"Beta\",{\"type\":\"ndarray\",\"array\":{\"type\":\"bytes\",\"data\":\"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\"},\"shape\":[1448],\"dtype\":\"float64\",\"order\":\"little\"}]]}}},\"view\":{\"type\":\"object\",\"name\":\"CDSView\",\"id\":\"p2318\",\"attributes\":{\"filter\":{\"type\":\"object\",\"name\":\"AllIndices\",\"id\":\"p2319\"}}},\"glyph\":{\"type\":\"object\",\"name\":\"Line\",\"id\":\"p2314\",\"attributes\":{\"tags\":[\"apply_ranges\"],\"x\":{\"type\":\"field\",\"field\":\"Date\"},\"y\":{\"type\":\"field\",\"field\":\"Beta\"},\"line_color\":\"#289c40\",\"line_width\":2}},\"selection_glyph\":{\"type\":\"object\",\"name\":\"Line\",\"id\":\"p2320\",\"attributes\":{\"tags\":[\"apply_ranges\"],\"x\":{\"type\":\"field\",\"field\":\"Date\"},\"y\":{\"type\":\"field\",\"field\":\"Beta\"},\"line_color\":\"#289c40\",\"line_width\":2}},\"nonselection_glyph\":{\"type\":\"object\",\"name\":\"Line\",\"id\":\"p2315\",\"attributes\":{\"tags\":[\"apply_ranges\"],\"x\":{\"type\":\"field\",\"field\":\"Date\"},\"y\":{\"type\":\"field\",\"field\":\"Beta\"},\"line_color\":\"#289c40\",\"line_alpha\":0.1,\"line_width\":2}},\"muted_glyph\":{\"type\":\"object\",\"name\":\"Line\",\"id\":\"p2316\",\"attributes\":{\"tags\":[\"apply_ranges\"],\"x\":{\"type\":\"field\",\"field\":\"Date\"},\"y\":{\"type\":\"field\",\"field\":\"Beta\"},\"line_color\":\"#289c40\",\"line_alpha\":0.2,\"line_width\":2}}}}],\"toolbar\":{\"type\":\"object\",\"name\":\"Toolbar\",\"id\":\"p2278\",\"attributes\":{\"tools\":[{\"type\":\"object\",\"name\":\"WheelZoomTool\",\"id\":\"p2267\",\"attributes\":{\"tags\":[\"hv_created\"],\"zoom_together\":\"none\"}},{\"type\":\"object\",\"name\":\"HoverTool\",\"id\":\"p2268\",\"attributes\":{\"tags\":[\"hv_created\"],\"renderers\":[{\"id\":\"p2317\"}],\"tooltips\":[[\"Date\",\"@{Date}{%F %T}\"],[\"Beta\",\"@{Beta}\"]],\"formatters\":{\"type\":\"map\",\"entries\":[[\"@{Date}\",\"datetime\"]]}}},{\"type\":\"object\",\"name\":\"SaveTool\",\"id\":\"p2303\"},{\"type\":\"object\",\"name\":\"PanTool\",\"id\":\"p2304\"},{\"type\":\"object\",\"name\":\"BoxZoomTool\",\"id\":\"p2305\",\"attributes\":{\"overlay\":{\"type\":\"object\",\"name\":\"BoxAnnotation\",\"id\":\"p2306\",\"attributes\":{\"syncable\":false,\"level\":\"overlay\",\"visible\":false,\"left_units\":\"canvas\",\"right_units\":\"canvas\",\"bottom_units\":\"canvas\",\"top_units\":\"canvas\",\"line_color\":\"black\",\"line_alpha\":1.0,\"line_width\":2,\"line_dash\":[4,4],\"fill_color\":\"lightgrey\",\"fill_alpha\":0.5}}}},{\"type\":\"object\",\"name\":\"ResetTool\",\"id\":\"p2307\"}],\"active_drag\":{\"id\":\"p2304\"},\"active_scroll\":{\"id\":\"p2267\"}}},\"left\":[{\"type\":\"object\",\"name\":\"LinearAxis\",\"id\":\"p2298\",\"attributes\":{\"ticker\":{\"type\":\"object\",\"name\":\"BasicTicker\",\"id\":\"p2299\",\"attributes\":{\"mantissas\":[1,2,5]}},\"formatter\":{\"type\":\"object\",\"name\":\"BasicTickFormatter\",\"id\":\"p2300\"},\"axis_label\":\"Beta\",\"major_label_policy\":{\"type\":\"object\",\"name\":\"AllLabels\",\"id\":\"p2301\"}}}],\"below\":[{\"type\":\"object\",\"name\":\"DatetimeAxis\",\"id\":\"p2281\",\"attributes\":{\"ticker\":{\"type\":\"object\",\"name\":\"DatetimeTicker\",\"id\":\"p2282\",\"attributes\":{\"num_minor_ticks\":5,\"tickers\":[{\"type\":\"object\",\"name\":\"AdaptiveTicker\",\"id\":\"p2283\",\"attributes\":{\"num_minor_ticks\":0,\"mantissas\":[1,2,5],\"max_interval\":500.0}},{\"type\":\"object\",\"name\":\"AdaptiveTicker\",\"id\":\"p2284\",\"attributes\":{\"num_minor_ticks\":0,\"base\":60,\"mantissas\":[1,2,5,10,15,20,30],\"min_interval\":1000.0,\"max_interval\":1800000.0}},{\"type\":\"object\",\"name\":\"AdaptiveTicker\",\"id\":\"p2285\",\"attributes\":{\"num_minor_ticks\":0,\"base\":24,\"mantissas\":[1,2,4,6,8,12],\"min_interval\":3600000.0,\"max_interval\":43200000.0}},{\"type\":\"object\",\"name\":\"DaysTicker\",\"id\":\"p2286\",\"attributes\":{\"days\":[1,2,3,4,5,6,7,8,9,10,11,12,13,14,15,16,17,18,19,20,21,22,23,24,25,26,27,28,29,30,31]}},{\"type\":\"object\",\"name\":\"DaysTicker\",\"id\":\"p2287\",\"attributes\":{\"days\":[1,4,7,10,13,16,19,22,25,28]}},{\"type\":\"object\",\"name\":\"DaysTicker\",\"id\":\"p2288\",\"attributes\":{\"days\":[1,8,15,22]}},{\"type\":\"object\",\"name\":\"DaysTicker\",\"id\":\"p2289\",\"attributes\":{\"days\":[1,15]}},{\"type\":\"object\",\"name\":\"MonthsTicker\",\"id\":\"p2290\",\"attributes\":{\"months\":[0,1,2,3,4,5,6,7,8,9,10,11]}},{\"type\":\"object\",\"name\":\"MonthsTicker\",\"id\":\"p2291\",\"attributes\":{\"months\":[0,2,4,6,8,10]}},{\"type\":\"object\",\"name\":\"MonthsTicker\",\"id\":\"p2292\",\"attributes\":{\"months\":[0,4,8]}},{\"type\":\"object\",\"name\":\"MonthsTicker\",\"id\":\"p2293\",\"attributes\":{\"months\":[0,6]}},{\"type\":\"object\",\"name\":\"YearsTicker\",\"id\":\"p2294\"}]}},\"formatter\":{\"type\":\"object\",\"name\":\"DatetimeTickFormatter\",\"id\":\"p2295\",\"attributes\":{\"months\":\"%b %Y\"}},\"axis_label\":\"Date\",\"major_label_policy\":{\"type\":\"object\",\"name\":\"AllLabels\",\"id\":\"p2296\"}}}],\"center\":[{\"type\":\"object\",\"name\":\"Grid\",\"id\":\"p2297\",\"attributes\":{\"axis\":{\"id\":\"p2281\"},\"grid_line_color\":null}},{\"type\":\"object\",\"name\":\"Grid\",\"id\":\"p2302\",\"attributes\":{\"dimension\":1,\"axis\":{\"id\":\"p2298\"},\"grid_line_color\":null}}],\"background_fill_color\":\"#00221c\",\"border_fill_color\":\"#1d9371\",\"min_border_top\":10,\"min_border_bottom\":10,\"min_border_left\":10,\"min_border_right\":10,\"output_backend\":\"webgl\"}},{\"type\":\"object\",\"name\":\"Spacer\",\"id\":\"p2322\",\"attributes\":{\"name\":\"HSpacer04901\",\"stylesheets\":[\"\\n:host(.pn-loading.pn-arc):before, .pn-loading.pn-arc:before {\\n  background-image: url(\\\"data:image/svg+xml;base64,PHN2ZyB4bWxucz0iaHR0cDovL3d3dy53My5vcmcvMjAwMC9zdmciIHN0eWxlPSJtYXJnaW46IGF1dG87IGJhY2tncm91bmQ6IG5vbmU7IGRpc3BsYXk6IGJsb2NrOyBzaGFwZS1yZW5kZXJpbmc6IGF1dG87IiB2aWV3Qm94PSIwIDAgMTAwIDEwMCIgcHJlc2VydmVBc3BlY3RSYXRpbz0ieE1pZFlNaWQiPiAgPGNpcmNsZSBjeD0iNTAiIGN5PSI1MCIgZmlsbD0ibm9uZSIgc3Ryb2tlPSIjYzNjM2MzIiBzdHJva2Utd2lkdGg9IjEwIiByPSIzNSIgc3Ryb2tlLWRhc2hhcnJheT0iMTY0LjkzMzYxNDMxMzQ2NDE1IDU2Ljk3Nzg3MTQzNzgyMTM4Ij4gICAgPGFuaW1hdGVUcmFuc2Zvcm0gYXR0cmlidXRlTmFtZT0idHJhbnNmb3JtIiB0eXBlPSJyb3RhdGUiIHJlcGVhdENvdW50PSJpbmRlZmluaXRlIiBkdXI9IjFzIiB2YWx1ZXM9IjAgNTAgNTA7MzYwIDUwIDUwIiBrZXlUaW1lcz0iMDsxIj48L2FuaW1hdGVUcmFuc2Zvcm0+ICA8L2NpcmNsZT48L3N2Zz4=\\\");\\n  background-size: auto calc(min(50%, 400px));\\n}\",{\"id\":\"p2260\"},{\"id\":\"p2258\"},{\"id\":\"p2259\"}],\"margin\":0,\"sizing_mode\":\"stretch_width\",\"align\":\"start\"}}]}}],\"defs\":[{\"type\":\"model\",\"name\":\"ReactiveHTML1\"},{\"type\":\"model\",\"name\":\"FlexBox1\",\"properties\":[{\"name\":\"align_content\",\"kind\":\"Any\",\"default\":\"flex-start\"},{\"name\":\"align_items\",\"kind\":\"Any\",\"default\":\"flex-start\"},{\"name\":\"flex_direction\",\"kind\":\"Any\",\"default\":\"row\"},{\"name\":\"flex_wrap\",\"kind\":\"Any\",\"default\":\"wrap\"},{\"name\":\"justify_content\",\"kind\":\"Any\",\"default\":\"flex-start\"}]},{\"type\":\"model\",\"name\":\"FloatPanel1\",\"properties\":[{\"name\":\"config\",\"kind\":\"Any\",\"default\":{\"type\":\"map\"}},{\"name\":\"contained\",\"kind\":\"Any\",\"default\":true},{\"name\":\"position\",\"kind\":\"Any\",\"default\":\"right-top\"},{\"name\":\"offsetx\",\"kind\":\"Any\",\"default\":null},{\"name\":\"offsety\",\"kind\":\"Any\",\"default\":null},{\"name\":\"theme\",\"kind\":\"Any\",\"default\":\"primary\"},{\"name\":\"status\",\"kind\":\"Any\",\"default\":\"normalized\"}]},{\"type\":\"model\",\"name\":\"GridStack1\",\"properties\":[{\"name\":\"mode\",\"kind\":\"Any\",\"default\":\"warn\"},{\"name\":\"ncols\",\"kind\":\"Any\",\"default\":null},{\"name\":\"nrows\",\"kind\":\"Any\",\"default\":null},{\"name\":\"allow_resize\",\"kind\":\"Any\",\"default\":true},{\"name\":\"allow_drag\",\"kind\":\"Any\",\"default\":true},{\"name\":\"state\",\"kind\":\"Any\",\"default\":[]}]},{\"type\":\"model\",\"name\":\"drag1\",\"properties\":[{\"name\":\"slider_width\",\"kind\":\"Any\",\"default\":5},{\"name\":\"slider_color\",\"kind\":\"Any\",\"default\":\"black\"},{\"name\":\"value\",\"kind\":\"Any\",\"default\":50}]},{\"type\":\"model\",\"name\":\"click1\",\"properties\":[{\"name\":\"terminal_output\",\"kind\":\"Any\",\"default\":\"\"},{\"name\":\"debug_name\",\"kind\":\"Any\",\"default\":\"\"},{\"name\":\"clears\",\"kind\":\"Any\",\"default\":0}]},{\"type\":\"model\",\"name\":\"FastWrapper1\",\"properties\":[{\"name\":\"object\",\"kind\":\"Any\",\"default\":null},{\"name\":\"style\",\"kind\":\"Any\",\"default\":null}]},{\"type\":\"model\",\"name\":\"NotificationAreaBase1\",\"properties\":[{\"name\":\"js_events\",\"kind\":\"Any\",\"default\":{\"type\":\"map\"}},{\"name\":\"position\",\"kind\":\"Any\",\"default\":\"bottom-right\"},{\"name\":\"_clear\",\"kind\":\"Any\",\"default\":0}]},{\"type\":\"model\",\"name\":\"NotificationArea1\",\"properties\":[{\"name\":\"js_events\",\"kind\":\"Any\",\"default\":{\"type\":\"map\"}},{\"name\":\"notifications\",\"kind\":\"Any\",\"default\":[]},{\"name\":\"position\",\"kind\":\"Any\",\"default\":\"bottom-right\"},{\"name\":\"_clear\",\"kind\":\"Any\",\"default\":0},{\"name\":\"types\",\"kind\":\"Any\",\"default\":[{\"type\":\"map\",\"entries\":[[\"type\",\"warning\"],[\"background\",\"#ffc107\"],[\"icon\",{\"type\":\"map\",\"entries\":[[\"className\",\"fas fa-exclamation-triangle\"],[\"tagName\",\"i\"],[\"color\",\"white\"]]}]]},{\"type\":\"map\",\"entries\":[[\"type\",\"info\"],[\"background\",\"#007bff\"],[\"icon\",{\"type\":\"map\",\"entries\":[[\"className\",\"fas fa-info-circle\"],[\"tagName\",\"i\"],[\"color\",\"white\"]]}]]}]}]},{\"type\":\"model\",\"name\":\"Notification\",\"properties\":[{\"name\":\"background\",\"kind\":\"Any\",\"default\":null},{\"name\":\"duration\",\"kind\":\"Any\",\"default\":3000},{\"name\":\"icon\",\"kind\":\"Any\",\"default\":null},{\"name\":\"message\",\"kind\":\"Any\",\"default\":\"\"},{\"name\":\"notification_type\",\"kind\":\"Any\",\"default\":null},{\"name\":\"_destroyed\",\"kind\":\"Any\",\"default\":false}]},{\"type\":\"model\",\"name\":\"TemplateActions1\",\"properties\":[{\"name\":\"open_modal\",\"kind\":\"Any\",\"default\":0},{\"name\":\"close_modal\",\"kind\":\"Any\",\"default\":0}]},{\"type\":\"model\",\"name\":\"BootstrapTemplateActions1\",\"properties\":[{\"name\":\"open_modal\",\"kind\":\"Any\",\"default\":0},{\"name\":\"close_modal\",\"kind\":\"Any\",\"default\":0}]},{\"type\":\"model\",\"name\":\"MaterialTemplateActions1\",\"properties\":[{\"name\":\"open_modal\",\"kind\":\"Any\",\"default\":0},{\"name\":\"close_modal\",\"kind\":\"Any\",\"default\":0}]}]}};\n",
       "  var render_items = [{\"docid\":\"e8ed7762-f0f5-49df-9b20-393b4f2f9e0e\",\"roots\":{\"p2257\":\"bc999019-b24a-49c8-94ac-9d3c18f2e113\"},\"root_ids\":[\"p2257\"]}];\n",
       "  var docs = Object.values(docs_json)\n",
       "  if (!docs) {\n",
       "    return\n",
       "  }\n",
       "  const py_version = docs[0].version.replace('rc', '-rc.').replace('.dev', '-dev.')\n",
       "  const is_dev = py_version.indexOf(\"+\") !== -1 || py_version.indexOf(\"-\") !== -1\n",
       "  function embed_document(root) {\n",
       "    var Bokeh = get_bokeh(root)\n",
       "    Bokeh.embed.embed_items_notebook(docs_json, render_items);\n",
       "    for (const render_item of render_items) {\n",
       "      for (const root_id of render_item.root_ids) {\n",
       "\tconst id_el = document.getElementById(root_id)\n",
       "\tif (id_el.children.length && (id_el.children[0].className === 'bk-root')) {\n",
       "\t  const root_el = id_el.children[0]\n",
       "\t  root_el.id = root_el.id + '-rendered'\n",
       "\t}\n",
       "      }\n",
       "    }\n",
       "  }\n",
       "  function get_bokeh(root) {\n",
       "    if (root.Bokeh === undefined) {\n",
       "      return null\n",
       "    } else if (root.Bokeh.version !== py_version && !is_dev) {\n",
       "      if (root.Bokeh.versions === undefined || !root.Bokeh.versions.has(py_version)) {\n",
       "\treturn null\n",
       "      }\n",
       "      return root.Bokeh.versions.get(py_version);\n",
       "    } else if (root.Bokeh.version === py_version) {\n",
       "      return root.Bokeh\n",
       "    }\n",
       "    return null\n",
       "  }\n",
       "  function is_loaded(root) {\n",
       "    var Bokeh = get_bokeh(root)\n",
       "    return (Bokeh != null && Bokeh.Panel !== undefined)\n",
       "  }\n",
       "  if (is_loaded(root)) {\n",
       "    embed_document(root);\n",
       "  } else {\n",
       "    var attempts = 0;\n",
       "    var timer = setInterval(function(root) {\n",
       "      if (is_loaded(root)) {\n",
       "        clearInterval(timer);\n",
       "        embed_document(root);\n",
       "      } else if (document.readyState == \"complete\") {\n",
       "        attempts++;\n",
       "        if (attempts > 200) {\n",
       "          clearInterval(timer);\n",
       "\t  var Bokeh = get_bokeh(root)\n",
       "\t  if (Bokeh == null || Bokeh.Panel == null) {\n",
       "            console.warn(\"Panel: ERROR: Unable to run Panel code because Bokeh or Panel library is missing\");\n",
       "\t  } else {\n",
       "\t    console.warn(\"Panel: WARNING: Attempting to render but not all required libraries could be resolved.\")\n",
       "\t    embed_document(root)\n",
       "\t  }\n",
       "        }\n",
       "      }\n",
       "    }, 25, root)\n",
       "  }\n",
       "})(window);</script>"
      ],
      "text/plain": [
       ":Curve   [Date]   (Beta)"
      ]
     },
     "execution_count": 239,
     "metadata": {
      "application/vnd.holoviews_exec.v0+json": {
       "id": "p2257"
      }
     },
     "output_type": "execute_result"
    }
   ],
   "source": [
    "user_beta_chart = CanaryFinancialCalculations.beta_chart(user_beta)\n",
    "user_beta_chart "
   ]
  },
  {
   "cell_type": "markdown",
   "metadata": {},
   "source": [
    "## Correlation"
   ]
  },
  {
   "cell_type": "code",
   "execution_count": 240,
   "metadata": {},
   "outputs": [
    {
     "data": {
      "image/png": "[encoded data removed]",
      "text/plain": [
       "<Figure size 1083.75x1000 with 20 Axes>"
      ]
     },
     "metadata": {},
     "output_type": "display_data"
    }
   ],
   "source": [
    "user_correlation_scatter_chart = CanaryFinancialCalculations.correlation_scatter_chart(user_rolling_correlation)\n",
    "user_correlation_scatter_chart"
   ]
  },
  {
   "cell_type": "code",
   "execution_count": 241,
   "metadata": {},
   "outputs": [
    {
     "data": {
      "image/png": "[encoded data removed]",
      "text/plain": [
       "<Figure size 800x600 with 2 Axes>"
      ]
     },
     "metadata": {},
     "output_type": "display_data"
    }
   ],
   "source": [
    "user_correlation_heatmap = CanaryFinancialCalculations.correlation_heatmap(user_correlation)\n",
    "user_correlation_heatmap"
   ]
  }
 ],
 "metadata": {
  "kernelspec": {
   "display_name": "ucbenv",
   "language": "python",
   "name": "python3"
  },
  "language_info": {
   "codemirror_mode": {
    "name": "ipython",
    "version": 3
   },
   "file_extension": ".py",
   "mimetype": "text/x-python",
   "name": "python",
   "nbconvert_exporter": "python",
   "pygments_lexer": "ipython3",
   "version": "3.10.13"
  }
 },
 "nbformat": 4,
 "nbformat_minor": 2
}
