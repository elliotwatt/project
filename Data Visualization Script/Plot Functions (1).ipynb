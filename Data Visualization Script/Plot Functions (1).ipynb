{
 "cells": [
  {
   "cell_type": "code",
   "execution_count": 7,
   "metadata": {},
   "outputs": [],
   "source": [
    "import pandas as pd\n",
    "import numpy as np\n",
    "pd.options.display.float_format = '{:.2f}'.format\n",
    "import seaborn as sns\n",
    "import matplotlib.pyplot as plt\n",
    "import hvplot as hvp\n",
    "import datetime\n",
    "import altair as alt\n",
    "import seaborn as sns"
   ]
  },
  {
   "cell_type": "markdown",
   "metadata": {},
   "source": [
    "### DataFrame for Drawdown"
   ]
  },
  {
   "cell_type": "code",
   "execution_count": 8,
   "metadata": {},
   "outputs": [],
   "source": [
    "# Creating a range of dates\n",
    "start_date = datetime.datetime(2018, 1, 1)\n",
    "end_date = datetime.datetime(2023, 12, 31)\n",
    "date_range = pd.date_range(start_date, end_date, freq='D')\n",
    "# Dates df\n",
    "dates_df = pd.DataFrame(date_range, columns=['Date'])\n",
    "#print(dates_df.head(1825))\n",
    "\n",
    "# Creating a range of random \"prices\"\n",
    "portfolio_df = pd.DataFrame(\n",
    "    {\n",
    "    \"fake1\": np.random.uniform(1000, -500, 100),\n",
    "    \"fake2\": np.random.uniform(1000, -500, 100),\n",
    "    \"fake3\": np.random.uniform(1000, -500, 100)\n",
    "    }\n",
    "    )\n",
    "f1_portfolio_df = portfolio_df[\"fake1\"].to_frame()\n",
    "\n",
    "# Concatinating and finalizing test data\n",
    "returns = pd.concat([dates_df, portfolio_df], join = \"inner\", axis = 1)\n",
    "returns.set_index('Date', inplace = True)\n",
    "returns = pd.DataFrame(returns)\n",
    "returns = returns.reset_index().rename(columns={'Date': 'date'})\n",
    "returns.set_index('date', inplace = True)"
   ]
  },
  {
   "cell_type": "markdown",
   "metadata": {},
   "source": [
    "### Data Frame for Portfolio Pie Chart"
   ]
  },
  {
   "cell_type": "code",
   "execution_count": 9,
   "metadata": {},
   "outputs": [],
   "source": [
    "# Creating DataFrame for Bitcoin\n",
    "btc_portfolio_df = pd.DataFrame({\n",
    "    'stock': ['BTC:USD'],\n",
    "    'position_size': np.random.uniform(10, 150, size = 1)\n",
    "})\n",
    "\n",
    "# Creating DataFrame for Stocks\n",
    "stock_portfolio_df = pd.DataFrame({\n",
    "    'stock': ['AMC', 'VSCO', 'TSLA', 'GOOGL'],\n",
    "    'position_size': np.random.uniform(1000, 10000, 4)  # for 5 stocks\n",
    "})\n",
    "\n",
    "# Combining DataFrames\n",
    "size_portfolio_df = pd.concat([btc_portfolio_df, stock_portfolio_df], axis = 0).reset_index(drop = True)\n",
    "\n",
    "# Renaming stock column to securities\n",
    "size_portfolio_df = size_portfolio_df.rename(columns = {'stock' : 'securities'})"
   ]
  },
  {
   "cell_type": "markdown",
   "metadata": {},
   "source": [
    "### Portfolio Pie Chart Function"
   ]
  },
  {
   "cell_type": "code",
   "execution_count": 12,
   "metadata": {},
   "outputs": [],
   "source": [
    "# Defining Portfolio pie chart function\n",
    "def portfolio_piechart (holdings, size):\n",
    "    selection = alt.selection_single()\n",
    "    pie_chart = alt.Chart(size_portfolio_df).mark_arc(innerRadius=50).encode(\n",
    "        theta = alt.Theta(field = 'position_size', type = 'quantitative'),\n",
    "        color = alt.Color(field = 'securities', type = 'nominal'),\n",
    "        tooltip=['securities', 'position_size']\n",
    "    )\n",
    "    return pie_chart"
   ]
  },
  {
   "cell_type": "markdown",
   "metadata": {},
   "source": [
    "### Portfolio Pie Chart"
   ]
  },
  {
   "cell_type": "code",
   "execution_count": 13,
   "metadata": {},
   "outputs": [
    {
     "data": {
      "text/html": [
       "\n",
       "<style>\n",
       "  #altair-viz-dd53360ca6894ccc87433ab64dd5319a.vega-embed {\n",
       "    width: 100%;\n",
       "    display: flex;\n",
       "  }\n",
       "\n",
       "  #altair-viz-dd53360ca6894ccc87433ab64dd5319a.vega-embed details,\n",
       "  #altair-viz-dd53360ca6894ccc87433ab64dd5319a.vega-embed details summary {\n",
       "    position: relative;\n",
       "  }\n",
       "</style>\n",
       "<div id=\"altair-viz-dd53360ca6894ccc87433ab64dd5319a\"></div>\n",
       "<script type=\"text/javascript\">\n",
       "  var VEGA_DEBUG = (typeof VEGA_DEBUG == \"undefined\") ? {} : VEGA_DEBUG;\n",
       "  (function(spec, embedOpt){\n",
       "    let outputDiv = document.currentScript.previousElementSibling;\n",
       "    if (outputDiv.id !== \"altair-viz-dd53360ca6894ccc87433ab64dd5319a\") {\n",
       "      outputDiv = document.getElementById(\"altair-viz-dd53360ca6894ccc87433ab64dd5319a\");\n",
       "    }\n",
       "    const paths = {\n",
       "      \"vega\": \"https://cdn.jsdelivr.net/npm/vega@5?noext\",\n",
       "      \"vega-lib\": \"https://cdn.jsdelivr.net/npm/vega-lib?noext\",\n",
       "      \"vega-lite\": \"https://cdn.jsdelivr.net/npm/vega-lite@5.15.1?noext\",\n",
       "      \"vega-embed\": \"https://cdn.jsdelivr.net/npm/vega-embed@6?noext\",\n",
       "    };\n",
       "\n",
       "    function maybeLoadScript(lib, version) {\n",
       "      var key = `${lib.replace(\"-\", \"\")}_version`;\n",
       "      return (VEGA_DEBUG[key] == version) ?\n",
       "        Promise.resolve(paths[lib]) :\n",
       "        new Promise(function(resolve, reject) {\n",
       "          var s = document.createElement('script');\n",
       "          document.getElementsByTagName(\"head\")[0].appendChild(s);\n",
       "          s.async = true;\n",
       "          s.onload = () => {\n",
       "            VEGA_DEBUG[key] = version;\n",
       "            return resolve(paths[lib]);\n",
       "          };\n",
       "          s.onerror = () => reject(`Error loading script: ${paths[lib]}`);\n",
       "          s.src = paths[lib];\n",
       "        });\n",
       "    }\n",
       "\n",
       "    function showError(err) {\n",
       "      outputDiv.innerHTML = `<div class=\"error\" style=\"color:red;\">${err}</div>`;\n",
       "      throw err;\n",
       "    }\n",
       "\n",
       "    function displayChart(vegaEmbed) {\n",
       "      vegaEmbed(outputDiv, spec, embedOpt)\n",
       "        .catch(err => showError(`Javascript Error: ${err.message}<br>This usually means there's a typo in your chart specification. See the javascript console for the full traceback.`));\n",
       "    }\n",
       "\n",
       "    if(typeof define === \"function\" && define.amd) {\n",
       "      requirejs.config({paths});\n",
       "      require([\"vega-embed\"], displayChart, err => showError(`Error loading script: ${err.message}`));\n",
       "    } else {\n",
       "      maybeLoadScript(\"vega\", \"5\")\n",
       "        .then(() => maybeLoadScript(\"vega-lite\", \"5.15.1\"))\n",
       "        .then(() => maybeLoadScript(\"vega-embed\", \"6\"))\n",
       "        .catch(showError)\n",
       "        .then(() => displayChart(vegaEmbed));\n",
       "    }\n",
       "  })({\"config\": {\"view\": {\"continuousWidth\": 300, \"continuousHeight\": 300}}, \"data\": {\"name\": \"data-e2e9fbe32e42cc03803d8c490b1fbc3b\"}, \"mark\": {\"type\": \"arc\", \"innerRadius\": 50}, \"encoding\": {\"color\": {\"field\": \"securities\", \"type\": \"nominal\"}, \"theta\": {\"field\": \"position_size\", \"type\": \"quantitative\"}, \"tooltip\": [{\"field\": \"securities\", \"type\": \"nominal\"}, {\"field\": \"position_size\", \"type\": \"quantitative\"}]}, \"$schema\": \"https://vega.github.io/schema/vega-lite/v5.15.1.json\", \"datasets\": {\"data-e2e9fbe32e42cc03803d8c490b1fbc3b\": [{\"securities\": \"BTC:USD\", \"position_size\": 25.503103220614864}, {\"securities\": \"AMC\", \"position_size\": 9059.73829653786}, {\"securities\": \"VSCO\", \"position_size\": 7707.72598576736}, {\"securities\": \"TSLA\", \"position_size\": 3496.042450725957}, {\"securities\": \"GOOGL\", \"position_size\": 7343.823643099896}]}}, {\"mode\": \"vega-lite\"});\n",
       "</script>"
      ],
      "text/plain": [
       "alt.Chart(...)"
      ]
     },
     "execution_count": 13,
     "metadata": {},
     "output_type": "execute_result"
    }
   ],
   "source": [
    "one = size_portfolio_df['securities']\n",
    "two = size_portfolio_df['position_size']\n",
    "user_in_holdings = portfolio_piechart(one, two)\n",
    "user_in_holdings"
   ]
  },
  {
   "cell_type": "code",
   "execution_count": null,
   "metadata": {},
   "outputs": [],
   "source": [
    "initial_investment = 10000"
   ]
  },
  {
   "cell_type": "code",
   "execution_count": null,
   "metadata": {},
   "outputs": [],
   "source": [
    "def cumulative_returns(df):\n",
    "    return (1 + df).cumprod()"
   ]
  },
  {
   "cell_type": "code",
   "execution_count": null,
   "metadata": {},
   "outputs": [
    {
     "data": {
      "text/html": [
       "<div>\n",
       "<style scoped>\n",
       "    .dataframe tbody tr th:only-of-type {\n",
       "        vertical-align: middle;\n",
       "    }\n",
       "\n",
       "    .dataframe tbody tr th {\n",
       "        vertical-align: top;\n",
       "    }\n",
       "\n",
       "    .dataframe thead th {\n",
       "        text-align: right;\n",
       "    }\n",
       "</style>\n",
       "<table border=\"1\" class=\"dataframe\">\n",
       "  <thead>\n",
       "    <tr style=\"text-align: right;\">\n",
       "      <th></th>\n",
       "      <th>fake1</th>\n",
       "      <th>fake2</th>\n",
       "      <th>fake3</th>\n",
       "    </tr>\n",
       "  </thead>\n",
       "  <tbody>\n",
       "    <tr>\n",
       "      <th>0</th>\n",
       "      <td>397.22</td>\n",
       "      <td>96.43</td>\n",
       "      <td>965.74</td>\n",
       "    </tr>\n",
       "    <tr>\n",
       "      <th>1</th>\n",
       "      <td>63632.67</td>\n",
       "      <td>-15025.60</td>\n",
       "      <td>-207690.10</td>\n",
       "    </tr>\n",
       "    <tr>\n",
       "      <th>2</th>\n",
       "      <td>2472355.02</td>\n",
       "      <td>6361141.27</td>\n",
       "      <td>-99221211.97</td>\n",
       "    </tr>\n",
       "    <tr>\n",
       "      <th>3</th>\n",
       "      <td>2243878011.38</td>\n",
       "      <td>4429292343.57</td>\n",
       "      <td>-36244795353.06</td>\n",
       "    </tr>\n",
       "    <tr>\n",
       "      <th>4</th>\n",
       "      <td>1725350047432.78</td>\n",
       "      <td>560898485281.88</td>\n",
       "      <td>18050758474933.47</td>\n",
       "    </tr>\n",
       "    <tr>\n",
       "      <th>...</th>\n",
       "      <td>...</td>\n",
       "      <td>...</td>\n",
       "      <td>...</td>\n",
       "    </tr>\n",
       "    <tr>\n",
       "      <th>95</th>\n",
       "      <td>28491515710858010221383357071736135520529474723...</td>\n",
       "      <td>20864239141066284548098726124803400755670767774...</td>\n",
       "      <td>31808583619163694608066815202591482697941562829...</td>\n",
       "    </tr>\n",
       "    <tr>\n",
       "      <th>96</th>\n",
       "      <td>41161507490919220497617111873231033989867828668...</td>\n",
       "      <td>19230490401060299373112230233544783339693722164...</td>\n",
       "      <td>-9272664138343251949870914568347074468436354707...</td>\n",
       "    </tr>\n",
       "    <tr>\n",
       "      <th>97</th>\n",
       "      <td>19318679759189134094545794607773847920189414799...</td>\n",
       "      <td>11402517743292813455666391345527756403032275335...</td>\n",
       "      <td>-1405938621974242263771001535387259799553987364...</td>\n",
       "    </tr>\n",
       "    <tr>\n",
       "      <th>98</th>\n",
       "      <td>16880069310911117989787959779974842796932512399...</td>\n",
       "      <td>11226749701812217723508171083470536978751864427...</td>\n",
       "      <td>-6627437706872876017098929845439896191969003303...</td>\n",
       "    </tr>\n",
       "    <tr>\n",
       "      <th>99</th>\n",
       "      <td>16291781491991284749159197618739790031668410512...</td>\n",
       "      <td>61777100028223047994972211128220236263643015882...</td>\n",
       "      <td>-1518336950915109355626918483152528825911146021...</td>\n",
       "    </tr>\n",
       "  </tbody>\n",
       "</table>\n",
       "<p>100 rows × 3 columns</p>\n",
       "</div>"
      ],
      "text/plain": [
       "                                                fake1  \\\n",
       "0                                              397.22   \n",
       "1                                            63632.67   \n",
       "2                                          2472355.02   \n",
       "3                                       2243878011.38   \n",
       "4                                    1725350047432.78   \n",
       "..                                                ...   \n",
       "95 28491515710858010221383357071736135520529474723...   \n",
       "96 41161507490919220497617111873231033989867828668...   \n",
       "97 19318679759189134094545794607773847920189414799...   \n",
       "98 16880069310911117989787959779974842796932512399...   \n",
       "99 16291781491991284749159197618739790031668410512...   \n",
       "\n",
       "                                                fake2  \\\n",
       "0                                               96.43   \n",
       "1                                           -15025.60   \n",
       "2                                          6361141.27   \n",
       "3                                       4429292343.57   \n",
       "4                                     560898485281.88   \n",
       "..                                                ...   \n",
       "95 20864239141066284548098726124803400755670767774...   \n",
       "96 19230490401060299373112230233544783339693722164...   \n",
       "97 11402517743292813455666391345527756403032275335...   \n",
       "98 11226749701812217723508171083470536978751864427...   \n",
       "99 61777100028223047994972211128220236263643015882...   \n",
       "\n",
       "                                                fake3  \n",
       "0                                              965.74  \n",
       "1                                          -207690.10  \n",
       "2                                        -99221211.97  \n",
       "3                                     -36244795353.06  \n",
       "4                                   18050758474933.47  \n",
       "..                                                ...  \n",
       "95 31808583619163694608066815202591482697941562829...  \n",
       "96 -9272664138343251949870914568347074468436354707...  \n",
       "97 -1405938621974242263771001535387259799553987364...  \n",
       "98 -6627437706872876017098929845439896191969003303...  \n",
       "99 -1518336950915109355626918483152528825911146021...  \n",
       "\n",
       "[100 rows x 3 columns]"
      ]
     },
     "execution_count": 8,
     "metadata": {},
     "output_type": "execute_result"
    }
   ],
   "source": [
    "user_cr = cumulative_returns(portfolio_df)\n",
    "user_cr"
   ]
  },
  {
   "cell_type": "markdown",
   "metadata": {},
   "source": [
    "### Correlation"
   ]
  },
  {
   "cell_type": "code",
   "execution_count": null,
   "metadata": {},
   "outputs": [
    {
     "data": {
      "text/html": [
       "<div>\n",
       "<style scoped>\n",
       "    .dataframe tbody tr th:only-of-type {\n",
       "        vertical-align: middle;\n",
       "    }\n",
       "\n",
       "    .dataframe tbody tr th {\n",
       "        vertical-align: top;\n",
       "    }\n",
       "\n",
       "    .dataframe thead th {\n",
       "        text-align: right;\n",
       "    }\n",
       "</style>\n",
       "<table border=\"1\" class=\"dataframe\">\n",
       "  <thead>\n",
       "    <tr style=\"text-align: right;\">\n",
       "      <th></th>\n",
       "      <th>fake1</th>\n",
       "      <th>fake2</th>\n",
       "      <th>fake3</th>\n",
       "    </tr>\n",
       "  </thead>\n",
       "  <tbody>\n",
       "    <tr>\n",
       "      <th>fake1</th>\n",
       "      <td>1.00</td>\n",
       "      <td>0.03</td>\n",
       "      <td>-0.02</td>\n",
       "    </tr>\n",
       "    <tr>\n",
       "      <th>fake2</th>\n",
       "      <td>0.03</td>\n",
       "      <td>1.00</td>\n",
       "      <td>-0.06</td>\n",
       "    </tr>\n",
       "    <tr>\n",
       "      <th>fake3</th>\n",
       "      <td>-0.02</td>\n",
       "      <td>-0.06</td>\n",
       "      <td>1.00</td>\n",
       "    </tr>\n",
       "  </tbody>\n",
       "</table>\n",
       "</div>"
      ],
      "text/plain": [
       "       fake1  fake2  fake3\n",
       "fake1   1.00   0.03  -0.02\n",
       "fake2   0.03   1.00  -0.06\n",
       "fake3  -0.02  -0.06   1.00"
      ]
     },
     "execution_count": 9,
     "metadata": {},
     "output_type": "execute_result"
    }
   ],
   "source": [
    "returns_cor = returns.corr()\n",
    "returns_cor"
   ]
  },
  {
   "cell_type": "markdown",
   "metadata": {},
   "source": [
    "### Correlation Plot Function"
   ]
  },
  {
   "cell_type": "code",
   "execution_count": 23,
   "metadata": {},
   "outputs": [],
   "source": [
    "#In the works\n",
    "# def correlation_chart(returns):\n",
    "#     returns_cor = returns.corr()\n",
    "#     corr_chart= sns.heatmap(returns_cor, vmin=-1 , vmax = 1)\n",
    "#     return corr_chart\n",
    "\n",
    "def correlation_chart(returns):\n",
    "    \n",
    "    alt.Chart(returns).mark_circle(size=60).encode(\n",
    "        x='dates',\n",
    "        y='fake1',\n",
    "        color='Origin',\n",
    "        tooltip=['Name', 'fake1', 'fake1', 'dates']\n",
    "    ).interactive()\n"
   ]
  },
  {
   "cell_type": "markdown",
   "metadata": {},
   "source": [
    "### Correlation Chart"
   ]
  },
  {
   "cell_type": "code",
   "execution_count": 24,
   "metadata": {},
   "outputs": [
    {
     "data": {
      "text/plain": [
       "<function __main__.correlation_chart(returns)>"
      ]
     },
     "execution_count": 24,
     "metadata": {},
     "output_type": "execute_result"
    }
   ],
   "source": [
    "correlation_chart(returns)\n",
    "correlation_chart"
   ]
  },
  {
   "cell_type": "markdown",
   "metadata": {},
   "source": [
    "### Covariance"
   ]
  },
  {
   "cell_type": "code",
   "execution_count": null,
   "metadata": {},
   "outputs": [],
   "source": [
    "def covariance(df, ticker, market):\n",
    "    return df[ticker].cov(df[market])"
   ]
  },
  {
   "cell_type": "code",
   "execution_count": null,
   "metadata": {},
   "outputs": [
    {
     "data": {
      "text/plain": [
       "-10738.101867839925"
      ]
     },
     "execution_count": 13,
     "metadata": {},
     "output_type": "execute_result"
    }
   ],
   "source": [
    "user_covariance = covariance(portfolio_df, 'fake2', 'fake3')\n",
    "user_covariance"
   ]
  },
  {
   "cell_type": "markdown",
   "metadata": {},
   "source": [
    "### Variance"
   ]
  },
  {
   "cell_type": "code",
   "execution_count": null,
   "metadata": {},
   "outputs": [],
   "source": [
    "def variance(df, market):\n",
    "    return df[market].var()"
   ]
  },
  {
   "cell_type": "code",
   "execution_count": null,
   "metadata": {},
   "outputs": [
    {
     "data": {
      "text/plain": [
       "186184.34335511425"
      ]
     },
     "execution_count": 15,
     "metadata": {},
     "output_type": "execute_result"
    }
   ],
   "source": [
    "user_variance = variance(portfolio_df, 'fake3')\n",
    "user_variance"
   ]
  },
  {
   "cell_type": "markdown",
   "metadata": {},
   "source": [
    "### Drawdown"
   ]
  },
  {
   "cell_type": "code",
   "execution_count": null,
   "metadata": {},
   "outputs": [],
   "source": [
    "def drawdown(df, tickers):\n",
    "    Roll_Max = df[tickers].cummax()\n",
    "    Daily_Drawdown = df[tickers]/Roll_Max - 1.0\n",
    "    Max_Daily_Drawdown = Daily_Drawdown.cummin() * 100"
   ]
  },
  {
   "cell_type": "code",
   "execution_count": null,
   "metadata": {},
   "outputs": [],
   "source": [
    "user_drawdown = drawdown(portfolio_df, 'fake1')\n",
    "user_drawdown"
   ]
  },
  {
   "cell_type": "markdown",
   "metadata": {},
   "source": [
    "### Drawdown Chart Function"
   ]
  },
  {
   "cell_type": "code",
   "execution_count": null,
   "metadata": {},
   "outputs": [],
   "source": [
    "def drawdown_chart(df, date, quant):\n",
    "    '''\n",
    "    df: dataframe\n",
    "    date: str: should be a date column name\n",
    "    quant: str: should be a quantitative data type\n",
    "    '''\n",
    "    chart = alt.Chart(df.reset_index()).mark_bar().encode(\n",
    "        x = date + ':T',  # T specifies temporal data type for x-axis\n",
    "        y = quant + ':Q',  # Q specifies a quantitative data type for y-axis\n",
    "        color = alt.condition(\n",
    "            getattr(alt.datum, quant) > 0,\n",
    "            alt.value(\"Green\"),  # The positive color\n",
    "            alt.value(\"red\")\n",
    "    ), tooltip= [date + ':T', quant + ':Q']\n",
    "    ).properties(width=800)\n",
    "    chart = chart.interactive()\n",
    "    return chart"
   ]
  },
  {
   "cell_type": "code",
   "execution_count": null,
   "metadata": {},
   "outputs": [
    {
     "data": {
      "text/html": [
       "\n",
       "<style>\n",
       "  #altair-viz-7078af1b2fdf459bbabc4c138a1ae98c.vega-embed {\n",
       "    width: 100%;\n",
       "    display: flex;\n",
       "  }\n",
       "\n",
       "  #altair-viz-7078af1b2fdf459bbabc4c138a1ae98c.vega-embed details,\n",
       "  #altair-viz-7078af1b2fdf459bbabc4c138a1ae98c.vega-embed details summary {\n",
       "    position: relative;\n",
       "  }\n",
       "</style>\n",
       "<div id=\"altair-viz-7078af1b2fdf459bbabc4c138a1ae98c\"></div>\n",
       "<script type=\"text/javascript\">\n",
       "  var VEGA_DEBUG = (typeof VEGA_DEBUG == \"undefined\") ? {} : VEGA_DEBUG;\n",
       "  (function(spec, embedOpt){\n",
       "    let outputDiv = document.currentScript.previousElementSibling;\n",
       "    if (outputDiv.id !== \"altair-viz-7078af1b2fdf459bbabc4c138a1ae98c\") {\n",
       "      outputDiv = document.getElementById(\"altair-viz-7078af1b2fdf459bbabc4c138a1ae98c\");\n",
       "    }\n",
       "    const paths = {\n",
       "      \"vega\": \"https://cdn.jsdelivr.net/npm/vega@5?noext\",\n",
       "      \"vega-lib\": \"https://cdn.jsdelivr.net/npm/vega-lib?noext\",\n",
       "      \"vega-lite\": \"https://cdn.jsdelivr.net/npm/vega-lite@5.15.1?noext\",\n",
       "      \"vega-embed\": \"https://cdn.jsdelivr.net/npm/vega-embed@6?noext\",\n",
       "    };\n",
       "\n",
       "    function maybeLoadScript(lib, version) {\n",
       "      var key = `${lib.replace(\"-\", \"\")}_version`;\n",
       "      return (VEGA_DEBUG[key] == version) ?\n",
       "        Promise.resolve(paths[lib]) :\n",
       "        new Promise(function(resolve, reject) {\n",
       "          var s = document.createElement('script');\n",
       "          document.getElementsByTagName(\"head\")[0].appendChild(s);\n",
       "          s.async = true;\n",
       "          s.onload = () => {\n",
       "            VEGA_DEBUG[key] = version;\n",
       "            return resolve(paths[lib]);\n",
       "          };\n",
       "          s.onerror = () => reject(`Error loading script: ${paths[lib]}`);\n",
       "          s.src = paths[lib];\n",
       "        });\n",
       "    }\n",
       "\n",
       "    function showError(err) {\n",
       "      outputDiv.innerHTML = `<div class=\"error\" style=\"color:red;\">${err}</div>`;\n",
       "      throw err;\n",
       "    }\n",
       "\n",
       "    function displayChart(vegaEmbed) {\n",
       "      vegaEmbed(outputDiv, spec, embedOpt)\n",
       "        .catch(err => showError(`Javascript Error: ${err.message}<br>This usually means there's a typo in your chart specification. See the javascript console for the full traceback.`));\n",
       "    }\n",
       "\n",
       "    if(typeof define === \"function\" && define.amd) {\n",
       "      requirejs.config({paths});\n",
       "      require([\"vega-embed\"], displayChart, err => showError(`Error loading script: ${err.message}`));\n",
       "    } else {\n",
       "      maybeLoadScript(\"vega\", \"5\")\n",
       "        .then(() => maybeLoadScript(\"vega-lite\", \"5.15.1\"))\n",
       "        .then(() => maybeLoadScript(\"vega-embed\", \"6\"))\n",
       "        .catch(showError)\n",
       "        .then(() => displayChart(vegaEmbed));\n",
       "    }\n",
       "  })({\"config\": {\"view\": {\"continuousWidth\": 300, \"continuousHeight\": 300}}, \"data\": {\"name\": \"data-68cf875661d03b6b91839f164c421e4b\"}, \"mark\": {\"type\": \"bar\"}, \"encoding\": {\"color\": {\"condition\": {\"test\": \"(datum.fake1 > 0)\", \"value\": \"Green\"}, \"value\": \"red\"}, \"tooltip\": [{\"field\": \"date\", \"type\": \"temporal\"}, {\"field\": \"fake1\", \"type\": \"quantitative\"}], \"x\": {\"field\": \"date\", \"type\": \"temporal\"}, \"y\": {\"field\": \"fake1\", \"type\": \"quantitative\"}}, \"params\": [{\"name\": \"param_2\", \"select\": {\"type\": \"interval\", \"encodings\": [\"x\", \"y\"]}, \"bind\": \"scales\"}], \"width\": 800, \"$schema\": \"https://vega.github.io/schema/vega-lite/v5.15.1.json\", \"datasets\": {\"data-68cf875661d03b6b91839f164c421e4b\": [{\"date\": \"2018-01-01T00:00:00\", \"fake1\": 396.22297925576663, \"fake2\": 95.42727241517218, \"fake3\": 964.7395812433368}, {\"date\": \"2018-01-02T00:00:00\", \"fake1\": 159.19382973711743, \"fake2\": -156.82313096186, \"fake3\": -216.05807666473697}, {\"date\": \"2018-01-03T00:00:00\", \"fake1\": 37.853548085124885, \"fake2\": -424.3535757225759, \"fake3\": 476.73684663714573}, {\"date\": \"2018-01-04T00:00:00\", \"fake1\": 906.5872992636527, \"fake2\": 695.3046648755421, \"fake3\": 364.2928102060109}, {\"date\": \"2018-01-05T00:00:00\", \"fake1\": 767.9143699816325, \"fake2\": 125.6338822942015, \"fake3\": -499.0234623785914}, {\"date\": \"2018-01-06T00:00:00\", \"fake1\": 889.7322456605016, \"fake2\": 30.01434045020187, \"fake3\": -121.99102343019672}, {\"date\": \"2018-01-07T00:00:00\", \"fake1\": -349.53628922039866, \"fake2\": 554.4332969791451, \"fake3\": -401.7090763081135}, {\"date\": \"2018-01-08T00:00:00\", \"fake1\": -176.77209946636094, \"fake2\": 359.8195598990201, \"fake3\": 50.44565257021861}, {\"date\": \"2018-01-09T00:00:00\", \"fake1\": 540.5224257559311, \"fake2\": 612.8366976762665, \"fake3\": 884.3784405651853}, {\"date\": \"2018-01-10T00:00:00\", \"fake1\": 807.982141094278, \"fake2\": 488.7873123617427, \"fake3\": 33.33720905547136}, {\"date\": \"2018-01-11T00:00:00\", \"fake1\": -394.9122401274424, \"fake2\": -360.8969828476129, \"fake3\": 415.8577313337357}, {\"date\": \"2018-01-12T00:00:00\", \"fake1\": 210.73621198480112, \"fake2\": 148.21042574366948, \"fake3\": 312.4192732679875}, {\"date\": \"2018-01-13T00:00:00\", \"fake1\": 758.3675280380905, \"fake2\": 805.2153668981258, \"fake3\": 200.26035948337494}, {\"date\": \"2018-01-14T00:00:00\", \"fake1\": 42.518954777370254, \"fake2\": -150.82843554313058, \"fake3\": -487.1116264940863}, {\"date\": \"2018-01-15T00:00:00\", \"fake1\": 674.0539176130926, \"fake2\": 736.9094554043375, \"fake3\": 132.59919856218028}, {\"date\": \"2018-01-16T00:00:00\", \"fake1\": 474.8081453894498, \"fake2\": 484.796740665265, \"fake3\": 679.6309024867624}, {\"date\": \"2018-01-17T00:00:00\", \"fake1\": 688.5309928208753, \"fake2\": 728.2635551586447, \"fake3\": 921.3819785212588}, {\"date\": \"2018-01-18T00:00:00\", \"fake1\": -319.17233769955214, \"fake2\": -148.2018190423821, \"fake3\": 322.1570908384788}, {\"date\": \"2018-01-19T00:00:00\", \"fake1\": -104.99217377462651, \"fake2\": -0.8971653463232769, \"fake3\": 462.021495937425}, {\"date\": \"2018-01-20T00:00:00\", \"fake1\": -240.9630004042849, \"fake2\": -465.5899744518615, \"fake3\": -214.04393489353174}, {\"date\": \"2018-01-21T00:00:00\", \"fake1\": 394.02968646413035, \"fake2\": 345.56420578838527, \"fake3\": 736.3337187285968}, {\"date\": \"2018-01-22T00:00:00\", \"fake1\": 527.6835122786905, \"fake2\": 381.42099016311033, \"fake3\": 73.91609851705937}, {\"date\": \"2018-01-23T00:00:00\", \"fake1\": 810.8648545989812, \"fake2\": 220.3279211280411, \"fake3\": -278.96981921724046}, {\"date\": \"2018-01-24T00:00:00\", \"fake1\": 125.90857895777287, \"fake2\": 190.10387928099271, \"fake3\": 77.45766301881372}, {\"date\": \"2018-01-25T00:00:00\", \"fake1\": -182.0478539277533, \"fake2\": 945.9266301742596, \"fake3\": -357.6938715775161}, {\"date\": \"2018-01-26T00:00:00\", \"fake1\": 211.2216093441001, \"fake2\": 10.493186052310989, \"fake3\": -444.96469225180886}, {\"date\": \"2018-01-27T00:00:00\", \"fake1\": 36.66645678150235, \"fake2\": -318.55116428666474, \"fake3\": 431.5843539954592}, {\"date\": \"2018-01-28T00:00:00\", \"fake1\": 124.01907213275285, \"fake2\": -258.63149705287015, \"fake3\": 708.6547124014137}, {\"date\": \"2018-01-29T00:00:00\", \"fake1\": 606.679889963814, \"fake2\": 171.229750824613, \"fake3\": 127.81309424190579}, {\"date\": \"2018-01-30T00:00:00\", \"fake1\": 803.4628314944382, \"fake2\": -56.43755315587464, \"fake3\": 726.1136870413715}, {\"date\": \"2018-01-31T00:00:00\", \"fake1\": 435.1275997912212, \"fake2\": 951.4005896138616, \"fake3\": -56.617335423234636}, {\"date\": \"2018-02-01T00:00:00\", \"fake1\": 926.6304825877397, \"fake2\": 824.1072940628819, \"fake3\": -343.43066906539366}, {\"date\": \"2018-02-02T00:00:00\", \"fake1\": 7.311665150384215, \"fake2\": 160.52642675848733, \"fake3\": 223.99704424849529}, {\"date\": \"2018-02-03T00:00:00\", \"fake1\": 635.7009832515098, \"fake2\": 461.72775873901935, \"fake3\": 137.35410031142146}, {\"date\": \"2018-02-04T00:00:00\", \"fake1\": 765.6873922437925, \"fake2\": -77.86282404180383, \"fake3\": 973.0722992436466}, {\"date\": \"2018-02-05T00:00:00\", \"fake1\": 473.3492672323397, \"fake2\": -287.72241812933976, \"fake3\": 526.2497925860131}, {\"date\": \"2018-02-06T00:00:00\", \"fake1\": 708.0382717349346, \"fake2\": -296.64094185995486, \"fake3\": 675.7444396252527}, {\"date\": \"2018-02-07T00:00:00\", \"fake1\": 50.95163043427499, \"fake2\": 98.94961920014998, \"fake3\": 732.9878344597357}, {\"date\": \"2018-02-08T00:00:00\", \"fake1\": 568.5266218755703, \"fake2\": 18.635419722266874, \"fake3\": -33.21690215032413}, {\"date\": \"2018-02-09T00:00:00\", \"fake1\": 143.45291693812123, \"fake2\": 204.24194134371805, \"fake3\": -480.03636558096036}, {\"date\": \"2018-02-10T00:00:00\", \"fake1\": -191.951666995913, \"fake2\": -352.1686414906278, \"fake3\": 9.349133117793144}, {\"date\": \"2018-02-11T00:00:00\", \"fake1\": 647.5032859752574, \"fake2\": 553.9480341926148, \"fake3\": 613.4221165429462}, {\"date\": \"2018-02-12T00:00:00\", \"fake1\": 403.887566697852, \"fake2\": 377.7806575820766, \"fake3\": 618.1479681172332}, {\"date\": \"2018-02-13T00:00:00\", \"fake1\": -371.0755808183808, \"fake2\": 164.21059192860196, \"fake3\": 839.7274404475393}, {\"date\": \"2018-02-14T00:00:00\", \"fake1\": -457.0841469658169, \"fake2\": 878.0009433753381, \"fake3\": 622.5103593456894}, {\"date\": \"2018-02-15T00:00:00\", \"fake1\": 641.119252229929, \"fake2\": 640.720906177995, \"fake3\": -97.15197408667564}, {\"date\": \"2018-02-16T00:00:00\", \"fake1\": -302.58600816514104, \"fake2\": 496.096677183143, \"fake3\": 545.8160162873266}, {\"date\": \"2018-02-17T00:00:00\", \"fake1\": -20.30080744040822, \"fake2\": 302.3468357006507, \"fake3\": -218.21589372512835}, {\"date\": \"2018-02-18T00:00:00\", \"fake1\": -483.03633868390875, \"fake2\": 855.4519988539901, \"fake3\": 904.3582325167965}, {\"date\": \"2018-02-19T00:00:00\", \"fake1\": 356.46518153778845, \"fake2\": -79.3284453519982, \"fake3\": -442.17506896491204}, {\"date\": \"2018-02-20T00:00:00\", \"fake1\": -179.5269328522886, \"fake2\": 626.5217262535324, \"fake3\": 130.1138593547737}, {\"date\": \"2018-02-21T00:00:00\", \"fake1\": 912.2830016978761, \"fake2\": -435.62622959071587, \"fake3\": 255.66388093016633}, {\"date\": \"2018-02-22T00:00:00\", \"fake1\": 776.3943559446867, \"fake2\": -300.5097484739981, \"fake3\": 0.53153023586367}, {\"date\": \"2018-02-23T00:00:00\", \"fake1\": 544.8487969553096, \"fake2\": -258.65601494161956, \"fake3\": -300.01919707139996}, {\"date\": \"2018-02-24T00:00:00\", \"fake1\": 462.5040587074591, \"fake2\": -456.9614789729069, \"fake3\": 668.0169141555668}, {\"date\": \"2018-02-25T00:00:00\", \"fake1\": 563.2231804692989, \"fake2\": -70.0101992130526, \"fake3\": 883.8519993400738}, {\"date\": \"2018-02-26T00:00:00\", \"fake1\": 341.81485156624933, \"fake2\": -16.264269351364646, \"fake3\": 652.3522581904897}, {\"date\": \"2018-02-27T00:00:00\", \"fake1\": -5.567310219688011, \"fake2\": -297.6501785858768, \"fake3\": 729.4154120062477}, {\"date\": \"2018-02-28T00:00:00\", \"fake1\": 419.3711220663223, \"fake2\": -238.8825845264621, \"fake3\": 529.3703630021107}, {\"date\": \"2018-03-01T00:00:00\", \"fake1\": -377.3854942217272, \"fake2\": 767.3438039303716, \"fake3\": 899.8039037276678}, {\"date\": \"2018-03-02T00:00:00\", \"fake1\": -135.85622045909986, \"fake2\": 156.2067617625329, \"fake3\": 878.9890932898529}, {\"date\": \"2018-03-03T00:00:00\", \"fake1\": 205.940950401259, \"fake2\": 353.51463130931756, \"fake3\": 681.5859884077365}, {\"date\": \"2018-03-04T00:00:00\", \"fake1\": 222.28432232529292, \"fake2\": 519.8250614529627, \"fake3\": 284.72777856434675}, {\"date\": \"2018-03-05T00:00:00\", \"fake1\": 649.9786295028166, \"fake2\": 288.92150633358074, \"fake3\": -118.11495908075221}, {\"date\": \"2018-03-06T00:00:00\", \"fake1\": 599.7510828877589, \"fake2\": -420.1712921071976, \"fake3\": -432.621959628279}, {\"date\": \"2018-03-07T00:00:00\", \"fake1\": 449.63365002395415, \"fake2\": 578.692969654754, \"fake3\": 443.95283728423533}, {\"date\": \"2018-03-08T00:00:00\", \"fake1\": 514.0266240611248, \"fake2\": 147.4276239773061, \"fake3\": 773.751251736795}, {\"date\": \"2018-03-09T00:00:00\", \"fake1\": 907.9353556867931, \"fake2\": 812.8521915099564, \"fake3\": 465.7224807831684}, {\"date\": \"2018-03-10T00:00:00\", \"fake1\": 735.7259963330141, \"fake2\": 189.39398364007673, \"fake3\": 482.5077202636754}, {\"date\": \"2018-03-11T00:00:00\", \"fake1\": 794.540502309129, \"fake2\": -354.97622381436327, \"fake3\": 9.189750591389156}, {\"date\": \"2018-03-12T00:00:00\", \"fake1\": 591.1729692112539, \"fake2\": 498.59699108655855, \"fake3\": 499.4383883939821}, {\"date\": \"2018-03-13T00:00:00\", \"fake1\": -317.05021935937543, \"fake2\": 139.8922133775103, \"fake3\": 877.4885304270082}, {\"date\": \"2018-03-14T00:00:00\", \"fake1\": 960.4982976920325, \"fake2\": -484.6000927632183, \"fake3\": 519.2369498098897}, {\"date\": \"2018-03-15T00:00:00\", \"fake1\": -283.37946928585666, \"fake2\": -101.94314238482252, \"fake3\": 495.0584898883075}, {\"date\": \"2018-03-16T00:00:00\", \"fake1\": -456.85006347185094, \"fake2\": 460.67334178884084, \"fake3\": 870.6204747302646}, {\"date\": \"2018-03-17T00:00:00\", \"fake1\": 111.71200578256332, \"fake2\": -320.2510060486286, \"fake3\": 333.78513718687464}, {\"date\": \"2018-03-18T00:00:00\", \"fake1\": 888.4857046543341, \"fake2\": 925.4553611944436, \"fake3\": 511.74233502650276}, {\"date\": \"2018-03-19T00:00:00\", \"fake1\": 112.45689350327166, \"fake2\": 255.43882316113582, \"fake3\": 557.14624153263}, {\"date\": \"2018-03-20T00:00:00\", \"fake1\": 635.4115846215922, \"fake2\": -175.83973836835526, \"fake3\": 974.3611482914448}, {\"date\": \"2018-03-21T00:00:00\", \"fake1\": -1.4119956045168465, \"fake2\": 187.60723617436474, \"fake3\": -199.31655182387522}, {\"date\": \"2018-03-22T00:00:00\", \"fake1\": -333.25956032575755, \"fake2\": 733.2415382134734, \"fake3\": -174.86116984502246}, {\"date\": \"2018-03-23T00:00:00\", \"fake1\": 55.00754177888689, \"fake2\": -37.896244569903956, \"fake3\": 740.4657069532503}, {\"date\": \"2018-03-24T00:00:00\", \"fake1\": -185.88725113635428, \"fake2\": 923.420303546164, \"fake3\": 91.94424396351496}, {\"date\": \"2018-03-25T00:00:00\", \"fake1\": -405.4651901253105, \"fake2\": 173.585154408054, \"fake3\": 763.3095866580318}, {\"date\": \"2018-03-26T00:00:00\", \"fake1\": -429.524092384662, \"fake2\": -384.07973449064843, \"fake3\": -306.48185713808493}, {\"date\": \"2018-03-27T00:00:00\", \"fake1\": -73.99453460937661, \"fake2\": 578.2129731050659, \"fake3\": -388.7920232649649}, {\"date\": \"2018-03-28T00:00:00\", \"fake1\": 874.3582679081373, \"fake2\": 128.76423126673023, \"fake3\": 175.19525151574942}, {\"date\": \"2018-03-29T00:00:00\", \"fake1\": 314.9498334987028, \"fake2\": 228.60053889323444, \"fake3\": -91.44158784468846}, {\"date\": \"2018-03-30T00:00:00\", \"fake1\": 386.8267160940775, \"fake2\": 1.6970459197093533, \"fake3\": 625.1603052545365}, {\"date\": \"2018-03-31T00:00:00\", \"fake1\": 725.6895621543467, \"fake2\": 608.1398408530542, \"fake3\": 474.7504801987843}, {\"date\": \"2018-04-01T00:00:00\", \"fake1\": -115.77193233249159, \"fake2\": 830.355852580604, \"fake3\": -392.86449181401986}, {\"date\": \"2018-04-02T00:00:00\", \"fake1\": 908.744188915013, \"fake2\": 423.17759587187584, \"fake3\": 384.1244285299508}, {\"date\": \"2018-04-03T00:00:00\", \"fake1\": -195.53112934939827, \"fake2\": -463.1206193539208, \"fake3\": 363.0833109820604}, {\"date\": \"2018-04-04T00:00:00\", \"fake1\": 90.99765592722645, \"fake2\": 463.70681827744306, \"fake3\": 834.5922298465395}, {\"date\": \"2018-04-05T00:00:00\", \"fake1\": 291.4396482881659, \"fake2\": -254.14978047064983, \"fake3\": 670.7589423072055}, {\"date\": \"2018-04-06T00:00:00\", \"fake1\": 335.6027746459764, \"fake2\": 989.6760496672158, \"fake3\": -136.48506843730001}, {\"date\": \"2018-04-07T00:00:00\", \"fake1\": 13.446934978342597, \"fake2\": 920.6962224713798, \"fake3\": -292.5145248013105}, {\"date\": \"2018-04-08T00:00:00\", \"fake1\": 468.3384896909107, \"fake2\": 58.29395197672193, \"fake3\": 150.62186411568246}, {\"date\": \"2018-04-09T00:00:00\", \"fake1\": 872.7693010766916, \"fake2\": 983.5851551878544, \"fake3\": 470.3888361332956}, {\"date\": \"2018-04-10T00:00:00\", \"fake1\": 964.1489689950757, \"fake2\": 549.2670111034097, \"fake3\": 228.0986378250742}]}}, {\"mode\": \"vega-lite\"});\n",
       "</script>"
      ],
      "text/plain": [
       "alt.Chart(...)"
      ]
     },
     "execution_count": 19,
     "metadata": {},
     "output_type": "execute_result"
    }
   ],
   "source": [
    "user_drawdown = drawdown_chart(returns, 'date', 'fake1')\n",
    "user_drawdown"
   ]
  },
  {
   "cell_type": "code",
   "execution_count": null,
   "metadata": {},
   "outputs": [],
   "source": [
    "def tracking_error(df, tickers, market):\n",
    "    track_error = np.sqrt(sum([i**2 for i in df[tickers] - df[market]]))\n",
    "    return track_error"
   ]
  },
  {
   "cell_type": "code",
   "execution_count": null,
   "metadata": {},
   "outputs": [
    {
     "data": {
      "text/plain": [
       "6233.26767693277"
      ]
     },
     "execution_count": 21,
     "metadata": {},
     "output_type": "execute_result"
    }
   ],
   "source": [
    "user_tracking_error = tracking_error(portfolio_df, 'fake2', 'fake3')\n",
    "user_tracking_error"
   ]
  },
  {
   "cell_type": "markdown",
   "metadata": {},
   "source": [
    "### Beta"
   ]
  },
  {
   "cell_type": "code",
   "execution_count": null,
   "metadata": {},
   "outputs": [],
   "source": [
    "def beta(covariance, variance):\n",
    "    chart_beta = covariance / variance\n",
    "    chart_beta = chart_beta\n",
    "    return chart_beta"
   ]
  },
  {
   "cell_type": "code",
   "execution_count": null,
   "metadata": {},
   "outputs": [
    {
     "data": {
      "text/plain": [
       "-0.057674569592346785"
      ]
     },
     "execution_count": 23,
     "metadata": {},
     "output_type": "execute_result"
    }
   ],
   "source": [
    "user_beta = beta(user_covariance, user_variance)\n",
    "user_beta"
   ]
  },
  {
   "cell_type": "markdown",
   "metadata": {},
   "source": [
    "### Beta chart function"
   ]
  },
  {
   "cell_type": "code",
   "execution_count": null,
   "metadata": {},
   "outputs": [],
   "source": [
    "# In the works\n",
    "# def beta_chart(covariance, variance):\n",
    "#     chart_beta = covariance / variance\n",
    "#     chart_beta = chart_beta.rolling(window = 21).plot()\n",
    "#     plt.show()\n",
    "#     beta.shape\n",
    "#     chart_beta.plot()\n",
    "#     return chart_beta"
   ]
  },
  {
   "cell_type": "markdown",
   "metadata": {},
   "source": [
    "### Sharpe Ratio"
   ]
  },
  {
   "cell_type": "code",
   "execution_count": null,
   "metadata": {},
   "outputs": [],
   "source": [
    "def sharpe_ratio(df):\n",
    "    sharpe = (df.mean()*252) / (df.std() * np.sqrt(252))\n",
    "    return sharpe"
   ]
  },
  {
   "cell_type": "code",
   "execution_count": null,
   "metadata": {},
   "outputs": [
    {
     "data": {
      "text/plain": [
       "fake1   10.90\n",
       "fake2    8.29\n",
       "fake3   10.81\n",
       "dtype: float64"
      ]
     },
     "execution_count": 26,
     "metadata": {},
     "output_type": "execute_result"
    }
   ],
   "source": [
    "user_sharpe_ratio = sharpe_ratio(portfolio_df)\n",
    "user_sharpe_ratio"
   ]
  },
  {
   "cell_type": "markdown",
   "metadata": {},
   "source": [
    "### Return on Investment"
   ]
  },
  {
   "cell_type": "code",
   "execution_count": null,
   "metadata": {},
   "outputs": [],
   "source": [
    "def return_on_investment(investment, returns):\n",
    "    cumulative_profit = investment * returns\n",
    "    return_oi = (cumulative_profit - investment) / investment\n",
    "    return(return_oi)"
   ]
  },
  {
   "cell_type": "markdown",
   "metadata": {},
   "source": [
    "### Return on Investment"
   ]
  },
  {
   "cell_type": "code",
   "execution_count": null,
   "metadata": {},
   "outputs": [],
   "source": [
    "def return_on_investment(investment, returns):\n",
    "    cumulative_profit = investment * returns\n",
    "    return_oi = (cumulative_profit - investment) / investment\n",
    "    return(return_oi)"
   ]
  },
  {
   "cell_type": "code",
   "execution_count": null,
   "metadata": {},
   "outputs": [
    {
     "data": {
      "text/html": [
       "<div>\n",
       "<style scoped>\n",
       "    .dataframe tbody tr th:only-of-type {\n",
       "        vertical-align: middle;\n",
       "    }\n",
       "\n",
       "    .dataframe tbody tr th {\n",
       "        vertical-align: top;\n",
       "    }\n",
       "\n",
       "    .dataframe thead th {\n",
       "        text-align: right;\n",
       "    }\n",
       "</style>\n",
       "<table border=\"1\" class=\"dataframe\">\n",
       "  <thead>\n",
       "    <tr style=\"text-align: right;\">\n",
       "      <th></th>\n",
       "      <th>fake1</th>\n",
       "      <th>fake2</th>\n",
       "      <th>fake3</th>\n",
       "    </tr>\n",
       "  </thead>\n",
       "  <tbody>\n",
       "    <tr>\n",
       "      <th>0</th>\n",
       "      <td>396.22</td>\n",
       "      <td>95.43</td>\n",
       "      <td>964.74</td>\n",
       "    </tr>\n",
       "    <tr>\n",
       "      <th>1</th>\n",
       "      <td>63631.67</td>\n",
       "      <td>-15026.60</td>\n",
       "      <td>-207691.10</td>\n",
       "    </tr>\n",
       "    <tr>\n",
       "      <th>2</th>\n",
       "      <td>2472354.02</td>\n",
       "      <td>6361140.27</td>\n",
       "      <td>-99221212.97</td>\n",
       "    </tr>\n",
       "    <tr>\n",
       "      <th>3</th>\n",
       "      <td>2243878010.38</td>\n",
       "      <td>4429292342.57</td>\n",
       "      <td>-36244795354.06</td>\n",
       "    </tr>\n",
       "    <tr>\n",
       "      <th>4</th>\n",
       "      <td>1725350047431.78</td>\n",
       "      <td>560898485280.88</td>\n",
       "      <td>18050758474932.47</td>\n",
       "    </tr>\n",
       "    <tr>\n",
       "      <th>...</th>\n",
       "      <td>...</td>\n",
       "      <td>...</td>\n",
       "      <td>...</td>\n",
       "    </tr>\n",
       "    <tr>\n",
       "      <th>95</th>\n",
       "      <td>28491515710858010221383357071736135520529474723...</td>\n",
       "      <td>20864239141066284548098726124803400755670767774...</td>\n",
       "      <td>31808583619163694608066815202591482697941562829...</td>\n",
       "    </tr>\n",
       "    <tr>\n",
       "      <th>96</th>\n",
       "      <td>41161507490919220497617111873231033989867828668...</td>\n",
       "      <td>19230490401060299373112230233544783339693722164...</td>\n",
       "      <td>-9272664138343251949870914568347074468436354707...</td>\n",
       "    </tr>\n",
       "    <tr>\n",
       "      <th>97</th>\n",
       "      <td>19318679759189134094545794607773847920189414799...</td>\n",
       "      <td>11402517743292813455666391345527756403032275335...</td>\n",
       "      <td>-1405938621974242263771001535387259799553987364...</td>\n",
       "    </tr>\n",
       "    <tr>\n",
       "      <th>98</th>\n",
       "      <td>16880069310911117989787959779974842796932512399...</td>\n",
       "      <td>11226749701812219169403317942077895416695591636...</td>\n",
       "      <td>-6627437706872876017098929845439896191969003303...</td>\n",
       "    </tr>\n",
       "    <tr>\n",
       "      <th>99</th>\n",
       "      <td>16291781491991284749159197618739790031668410512...</td>\n",
       "      <td>61777100028223040591989059212150561061371132573...</td>\n",
       "      <td>-1518336950915109355626918483152528825911146021...</td>\n",
       "    </tr>\n",
       "  </tbody>\n",
       "</table>\n",
       "<p>100 rows × 3 columns</p>\n",
       "</div>"
      ],
      "text/plain": [
       "                                                fake1  \\\n",
       "0                                              396.22   \n",
       "1                                            63631.67   \n",
       "2                                          2472354.02   \n",
       "3                                       2243878010.38   \n",
       "4                                    1725350047431.78   \n",
       "..                                                ...   \n",
       "95 28491515710858010221383357071736135520529474723...   \n",
       "96 41161507490919220497617111873231033989867828668...   \n",
       "97 19318679759189134094545794607773847920189414799...   \n",
       "98 16880069310911117989787959779974842796932512399...   \n",
       "99 16291781491991284749159197618739790031668410512...   \n",
       "\n",
       "                                                fake2  \\\n",
       "0                                               95.43   \n",
       "1                                           -15026.60   \n",
       "2                                          6361140.27   \n",
       "3                                       4429292342.57   \n",
       "4                                     560898485280.88   \n",
       "..                                                ...   \n",
       "95 20864239141066284548098726124803400755670767774...   \n",
       "96 19230490401060299373112230233544783339693722164...   \n",
       "97 11402517743292813455666391345527756403032275335...   \n",
       "98 11226749701812219169403317942077895416695591636...   \n",
       "99 61777100028223040591989059212150561061371132573...   \n",
       "\n",
       "                                                fake3  \n",
       "0                                              964.74  \n",
       "1                                          -207691.10  \n",
       "2                                        -99221212.97  \n",
       "3                                     -36244795354.06  \n",
       "4                                   18050758474932.47  \n",
       "..                                                ...  \n",
       "95 31808583619163694608066815202591482697941562829...  \n",
       "96 -9272664138343251949870914568347074468436354707...  \n",
       "97 -1405938621974242263771001535387259799553987364...  \n",
       "98 -6627437706872876017098929845439896191969003303...  \n",
       "99 -1518336950915109355626918483152528825911146021...  \n",
       "\n",
       "[100 rows x 3 columns]"
      ]
     },
     "execution_count": 29,
     "metadata": {},
     "output_type": "execute_result"
    }
   ],
   "source": [
    "user_roi = return_on_investment(initial_investment, user_cr)\n",
    "user_roi"
   ]
  },
  {
   "cell_type": "markdown",
   "metadata": {},
   "source": [
    "### ROI Chart"
   ]
  },
  {
   "cell_type": "code",
   "execution_count": null,
   "metadata": {},
   "outputs": [],
   "source": [
    "# In the works\n",
    "# source = data.wheat()\n",
    "\n",
    "# bar = alt.Chart(source).mark_bar().encode(\n",
    "#     x = df + ':O',\n",
    "#     y = returns + ':Q'\n",
    "# )\n",
    "\n",
    "# <!-- line = alt.Chart(source).mark_line(color='red').transform_window(\n",
    "#     # The field to average\n",
    "#     rolling_mean='mean(wheat)',\n",
    "#     # The number of values before and after the current value to include.\n",
    "#     frame=[-9, 0]\n",
    "# ).encode(\n",
    "#     x='year:O',\n",
    "#     y='rolling_mean:Q'\n",
    "# )\n",
    "\n",
    "# (bar + line).properties(width=600) -->"
   ]
  }
 ],
 "metadata": {
  "kernelspec": {
   "display_name": "ucbenv",
   "language": "python",
   "name": "python3"
  },
  "language_info": {
   "codemirror_mode": {
    "name": "ipython",
    "version": 3
   },
   "file_extension": ".py",
   "mimetype": "text/x-python",
   "name": "python",
   "nbconvert_exporter": "python",
   "pygments_lexer": "ipython3",
   "version": "3.9.13"
  }
 },
 "nbformat": 4,
 "nbformat_minor": 2
}
