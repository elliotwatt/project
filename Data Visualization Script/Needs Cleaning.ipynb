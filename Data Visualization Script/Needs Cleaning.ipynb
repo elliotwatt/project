{
 "cells": [
  {
   "cell_type": "code",
   "execution_count": 1,
   "metadata": {},
   "outputs": [],
   "source": [
    "import pandas as pd\n",
    "import numpy as np\n",
    "pd.options.display.float_format = '{:.2f}'.format\n",
    "import seaborn as sns\n",
    "import matplotlib.pyplot as plt\n",
    "import hvplot as hvp\n",
    "import datetime\n",
    "import altair as alt\n",
    "import seaborn as sns"
   ]
  },
  {
   "cell_type": "markdown",
   "metadata": {},
   "source": [
    "### DataFrame for Drawdown"
   ]
  },
  {
   "cell_type": "code",
   "execution_count": 2,
   "metadata": {},
   "outputs": [],
   "source": [
    "# Creating a range of dates\n",
    "start_date = datetime.datetime(2018, 1, 1)\n",
    "end_date = datetime.datetime(2023, 12, 31)\n",
    "date_range = pd.date_range(start_date, end_date, freq='D')\n",
    "# Dates df\n",
    "dates_df = pd.DataFrame(date_range, columns=['Date'])\n",
    "#print(dates_df.head(1825))\n",
    "\n",
    "# Creating a range of random \"prices\"\n",
    "portfolio_df = pd.DataFrame(\n",
    "    {\n",
    "    \"fake1\": np.random.uniform(100, -50, 100),\n",
    "    \"fake2\": np.random.uniform(100, -50, 100),\n",
    "    \"fake3\": np.random.uniform(100, -50, 100)\n",
    "    }\n",
    "    )\n",
    "f1_portfolio_df = portfolio_df[\"fake1\"].to_frame()\n",
    "\n",
    "# Concatinating and finalizing test data\n",
    "returns = pd.concat([dates_df, portfolio_df], join = \"inner\", axis = 1)\n",
    "returns.set_index('Date', inplace = True)\n",
    "returns = pd.DataFrame(returns)\n",
    "returns = returns.reset_index().rename(columns={'Date': 'date'})\n",
    "returns.set_index('date', inplace = True)"
   ]
  },
  {
   "cell_type": "markdown",
   "metadata": {},
   "source": [
    "### Data Frame for Portfolio Pie Chart"
   ]
  },
  {
   "cell_type": "code",
   "execution_count": 3,
   "metadata": {},
   "outputs": [],
   "source": [
    "# Creating DataFrame for Bitcoin\n",
    "btc_portfolio_df = pd.DataFrame({\n",
    "    'stock': ['BTC:USD'],\n",
    "    'position_size': np.random.uniform(10, 150, size = 1)\n",
    "})\n",
    "\n",
    "# Creating DataFrame for Stocks\n",
    "stock_portfolio_df = pd.DataFrame({\n",
    "    'stock': ['AMC', 'VSCO', 'TSLA', 'GOOGL'],\n",
    "    'position_size': np.random.uniform(1000, 10000, 4)  # for 5 stocks\n",
    "})\n",
    "\n",
    "# Combining DataFrames\n",
    "size_portfolio_df = pd.concat([btc_portfolio_df, stock_portfolio_df], axis = 0).reset_index(drop = True)\n",
    "\n",
    "# Renaming stock column to securities\n",
    "size_portfolio_df = size_portfolio_df.rename(columns = {'stock' : 'securities'})"
   ]
  },
  {
   "cell_type": "markdown",
   "metadata": {},
   "source": [
    "### Portfolio Pie Chart Function"
   ]
  },
  {
   "cell_type": "code",
   "execution_count": 4,
   "metadata": {},
   "outputs": [],
   "source": [
    "# Defining Portfolio pie chart function\n",
    "def portfolio_piechart (holdings, size):\n",
    "    selection = alt.selection_single()\n",
    "    pie_chart = alt.Chart(size_portfolio_df).mark_arc(innerRadius=50).encode(\n",
    "        theta = alt.Theta(field = 'position_size', type = 'quantitative'),\n",
    "        color = alt.Color(field = 'securities', type = 'nominal'),\n",
    "        tooltip=['securities', 'position_size']\n",
    "    )\n",
    "    return pie_chart"
   ]
  },
  {
   "cell_type": "markdown",
   "metadata": {},
   "source": [
    "### Portfolio Pie Chart"
   ]
  },
  {
   "cell_type": "code",
   "execution_count": 5,
   "metadata": {},
   "outputs": [
    {
     "name": "stderr",
     "output_type": "stream",
     "text": [
      "/Library/Frameworks/Python.framework/Versions/3.10/lib/python3.10/site-packages/altair/utils/deprecation.py:65: AltairDeprecationWarning: 'selection_single' is deprecated.  Use 'selection_point'\n",
      "  warnings.warn(message, AltairDeprecationWarning, stacklevel=1)\n"
     ]
    },
    {
     "data": {
      "text/html": [
       "\n",
       "<style>\n",
       "  #altair-viz-4ef3dea89fd947e28a230d895567cb75.vega-embed {\n",
       "    width: 100%;\n",
       "    display: flex;\n",
       "  }\n",
       "\n",
       "  #altair-viz-4ef3dea89fd947e28a230d895567cb75.vega-embed details,\n",
       "  #altair-viz-4ef3dea89fd947e28a230d895567cb75.vega-embed details summary {\n",
       "    position: relative;\n",
       "  }\n",
       "</style>\n",
       "<div id=\"altair-viz-4ef3dea89fd947e28a230d895567cb75\"></div>\n",
       "<script type=\"text/javascript\">\n",
       "  var VEGA_DEBUG = (typeof VEGA_DEBUG == \"undefined\") ? {} : VEGA_DEBUG;\n",
       "  (function(spec, embedOpt){\n",
       "    let outputDiv = document.currentScript.previousElementSibling;\n",
       "    if (outputDiv.id !== \"altair-viz-4ef3dea89fd947e28a230d895567cb75\") {\n",
       "      outputDiv = document.getElementById(\"altair-viz-4ef3dea89fd947e28a230d895567cb75\");\n",
       "    }\n",
       "    const paths = {\n",
       "      \"vega\": \"https://cdn.jsdelivr.net/npm/vega@5?noext\",\n",
       "      \"vega-lib\": \"https://cdn.jsdelivr.net/npm/vega-lib?noext\",\n",
       "      \"vega-lite\": \"https://cdn.jsdelivr.net/npm/vega-lite@5.15.1?noext\",\n",
       "      \"vega-embed\": \"https://cdn.jsdelivr.net/npm/vega-embed@6?noext\",\n",
       "    };\n",
       "\n",
       "    function maybeLoadScript(lib, version) {\n",
       "      var key = `${lib.replace(\"-\", \"\")}_version`;\n",
       "      return (VEGA_DEBUG[key] == version) ?\n",
       "        Promise.resolve(paths[lib]) :\n",
       "        new Promise(function(resolve, reject) {\n",
       "          var s = document.createElement('script');\n",
       "          document.getElementsByTagName(\"head\")[0].appendChild(s);\n",
       "          s.async = true;\n",
       "          s.onload = () => {\n",
       "            VEGA_DEBUG[key] = version;\n",
       "            return resolve(paths[lib]);\n",
       "          };\n",
       "          s.onerror = () => reject(`Error loading script: ${paths[lib]}`);\n",
       "          s.src = paths[lib];\n",
       "        });\n",
       "    }\n",
       "\n",
       "    function showError(err) {\n",
       "      outputDiv.innerHTML = `<div class=\"error\" style=\"color:red;\">${err}</div>`;\n",
       "      throw err;\n",
       "    }\n",
       "\n",
       "    function displayChart(vegaEmbed) {\n",
       "      vegaEmbed(outputDiv, spec, embedOpt)\n",
       "        .catch(err => showError(`Javascript Error: ${err.message}<br>This usually means there's a typo in your chart specification. See the javascript console for the full traceback.`));\n",
       "    }\n",
       "\n",
       "    if(typeof define === \"function\" && define.amd) {\n",
       "      requirejs.config({paths});\n",
       "      require([\"vega-embed\"], displayChart, err => showError(`Error loading script: ${err.message}`));\n",
       "    } else {\n",
       "      maybeLoadScript(\"vega\", \"5\")\n",
       "        .then(() => maybeLoadScript(\"vega-lite\", \"5.15.1\"))\n",
       "        .then(() => maybeLoadScript(\"vega-embed\", \"6\"))\n",
       "        .catch(showError)\n",
       "        .then(() => displayChart(vegaEmbed));\n",
       "    }\n",
       "  })({\"config\": {\"view\": {\"continuousWidth\": 300, \"continuousHeight\": 300}}, \"data\": {\"name\": \"data-a75b089a26b3a3a28a30b524c0b9d76c\"}, \"mark\": {\"type\": \"arc\", \"innerRadius\": 50}, \"encoding\": {\"color\": {\"field\": \"securities\", \"type\": \"nominal\"}, \"theta\": {\"field\": \"position_size\", \"type\": \"quantitative\"}, \"tooltip\": [{\"field\": \"securities\", \"type\": \"nominal\"}, {\"field\": \"position_size\", \"type\": \"quantitative\"}]}, \"$schema\": \"https://vega.github.io/schema/vega-lite/v5.15.1.json\", \"datasets\": {\"data-a75b089a26b3a3a28a30b524c0b9d76c\": [{\"securities\": \"BTC:USD\", \"position_size\": 28.035465615297493}, {\"securities\": \"AMC\", \"position_size\": 7399.876944116608}, {\"securities\": \"VSCO\", \"position_size\": 1521.519276898313}, {\"securities\": \"TSLA\", \"position_size\": 4436.027943841602}, {\"securities\": \"GOOGL\", \"position_size\": 8551.240145472808}]}}, {\"mode\": \"vega-lite\"});\n",
       "</script>"
      ],
      "text/plain": [
       "alt.Chart(...)"
      ]
     },
     "execution_count": 5,
     "metadata": {},
     "output_type": "execute_result"
    }
   ],
   "source": [
    "one = size_portfolio_df['securities']\n",
    "two = size_portfolio_df['position_size']\n",
    "user_in_holdings = portfolio_piechart(one, two)\n",
    "user_in_holdings"
   ]
  },
  {
   "cell_type": "code",
   "execution_count": 6,
   "metadata": {},
   "outputs": [],
   "source": [
    "initial_investment = 10000"
   ]
  },
  {
   "cell_type": "markdown",
   "metadata": {},
   "source": [
    "### Cumulative Returns"
   ]
  },
  {
   "cell_type": "code",
   "execution_count": 7,
   "metadata": {},
   "outputs": [],
   "source": [
    "def cumulative_returns(df):\n",
    "    return (1 + df).cumprod()"
   ]
  },
  {
   "cell_type": "code",
   "execution_count": 8,
   "metadata": {},
   "outputs": [
    {
     "data": {
      "text/html": [
       "<div>\n",
       "<style scoped>\n",
       "    .dataframe tbody tr th:only-of-type {\n",
       "        vertical-align: middle;\n",
       "    }\n",
       "\n",
       "    .dataframe tbody tr th {\n",
       "        vertical-align: top;\n",
       "    }\n",
       "\n",
       "    .dataframe thead th {\n",
       "        text-align: right;\n",
       "    }\n",
       "</style>\n",
       "<table border=\"1\" class=\"dataframe\">\n",
       "  <thead>\n",
       "    <tr style=\"text-align: right;\">\n",
       "      <th></th>\n",
       "      <th>fake1</th>\n",
       "      <th>fake2</th>\n",
       "      <th>fake3</th>\n",
       "    </tr>\n",
       "  </thead>\n",
       "  <tbody>\n",
       "    <tr>\n",
       "      <th>0</th>\n",
       "      <td>9.57</td>\n",
       "      <td>-23.57</td>\n",
       "      <td>-32.26</td>\n",
       "    </tr>\n",
       "    <tr>\n",
       "      <th>1</th>\n",
       "      <td>826.12</td>\n",
       "      <td>-1953.47</td>\n",
       "      <td>-2403.40</td>\n",
       "    </tr>\n",
       "    <tr>\n",
       "      <th>2</th>\n",
       "      <td>21487.79</td>\n",
       "      <td>-144278.67</td>\n",
       "      <td>19688.38</td>\n",
       "    </tr>\n",
       "    <tr>\n",
       "      <th>3</th>\n",
       "      <td>-319941.06</td>\n",
       "      <td>-6532314.77</td>\n",
       "      <td>1196079.96</td>\n",
       "    </tr>\n",
       "    <tr>\n",
       "      <th>4</th>\n",
       "      <td>-22505851.56</td>\n",
       "      <td>-269644082.98</td>\n",
       "      <td>-17699004.08</td>\n",
       "    </tr>\n",
       "    <tr>\n",
       "      <th>...</th>\n",
       "      <td>...</td>\n",
       "      <td>...</td>\n",
       "      <td>...</td>\n",
       "    </tr>\n",
       "    <tr>\n",
       "      <th>95</th>\n",
       "      <td>-1660894243351350757811715276901521166230956204...</td>\n",
       "      <td>64287370754789170203935432693573762037914029025...</td>\n",
       "      <td>-5930893788543936351505593155577868674634497897...</td>\n",
       "    </tr>\n",
       "    <tr>\n",
       "      <th>96</th>\n",
       "      <td>-7493978990043776093721557696942857114733788395...</td>\n",
       "      <td>24942463884595091713479622206066684908476662771...</td>\n",
       "      <td>-5853331948683717928647273205427888240883708342...</td>\n",
       "    </tr>\n",
       "    <tr>\n",
       "      <th>97</th>\n",
       "      <td>-3924607265302792527654907076532660771332317336...</td>\n",
       "      <td>-1221626267389910863691191203025261227015692859...</td>\n",
       "      <td>69207272253017451357678092584556265823136722468...</td>\n",
       "    </tr>\n",
       "    <tr>\n",
       "      <th>98</th>\n",
       "      <td>-7655730153726858980418857979581158488597779457...</td>\n",
       "      <td>-1162529545346147197736125789981058110694221085...</td>\n",
       "      <td>-3315228244058720783912377814178563171635398592...</td>\n",
       "    </tr>\n",
       "    <tr>\n",
       "      <th>99</th>\n",
       "      <td>-6538061005961244826215708869565711259811393871...</td>\n",
       "      <td>-8176238698649117417580774595404187810500497340...</td>\n",
       "      <td>10471261661757122826886864036565877438175262791...</td>\n",
       "    </tr>\n",
       "  </tbody>\n",
       "</table>\n",
       "<p>100 rows × 3 columns</p>\n",
       "</div>"
      ],
      "text/plain": [
       "                                                fake1  \\\n",
       "0                                                9.57   \n",
       "1                                              826.12   \n",
       "2                                            21487.79   \n",
       "3                                          -319941.06   \n",
       "4                                        -22505851.56   \n",
       "..                                                ...   \n",
       "95 -1660894243351350757811715276901521166230956204...   \n",
       "96 -7493978990043776093721557696942857114733788395...   \n",
       "97 -3924607265302792527654907076532660771332317336...   \n",
       "98 -7655730153726858980418857979581158488597779457...   \n",
       "99 -6538061005961244826215708869565711259811393871...   \n",
       "\n",
       "                                                fake2  \\\n",
       "0                                              -23.57   \n",
       "1                                            -1953.47   \n",
       "2                                          -144278.67   \n",
       "3                                         -6532314.77   \n",
       "4                                       -269644082.98   \n",
       "..                                                ...   \n",
       "95 64287370754789170203935432693573762037914029025...   \n",
       "96 24942463884595091713479622206066684908476662771...   \n",
       "97 -1221626267389910863691191203025261227015692859...   \n",
       "98 -1162529545346147197736125789981058110694221085...   \n",
       "99 -8176238698649117417580774595404187810500497340...   \n",
       "\n",
       "                                                fake3  \n",
       "0                                              -32.26  \n",
       "1                                            -2403.40  \n",
       "2                                            19688.38  \n",
       "3                                          1196079.96  \n",
       "4                                        -17699004.08  \n",
       "..                                                ...  \n",
       "95 -5930893788543936351505593155577868674634497897...  \n",
       "96 -5853331948683717928647273205427888240883708342...  \n",
       "97 69207272253017451357678092584556265823136722468...  \n",
       "98 -3315228244058720783912377814178563171635398592...  \n",
       "99 10471261661757122826886864036565877438175262791...  \n",
       "\n",
       "[100 rows x 3 columns]"
      ]
     },
     "execution_count": 8,
     "metadata": {},
     "output_type": "execute_result"
    }
   ],
   "source": [
    "user_cr = cumulative_returns(portfolio_df)\n",
    "user_cr"
   ]
  },
  {
   "cell_type": "markdown",
   "metadata": {},
   "source": [
    "### Correlation"
   ]
  },
  {
   "cell_type": "code",
   "execution_count": 9,
   "metadata": {},
   "outputs": [
    {
     "data": {
      "text/html": [
       "<div>\n",
       "<style scoped>\n",
       "    .dataframe tbody tr th:only-of-type {\n",
       "        vertical-align: middle;\n",
       "    }\n",
       "\n",
       "    .dataframe tbody tr th {\n",
       "        vertical-align: top;\n",
       "    }\n",
       "\n",
       "    .dataframe thead th {\n",
       "        text-align: right;\n",
       "    }\n",
       "</style>\n",
       "<table border=\"1\" class=\"dataframe\">\n",
       "  <thead>\n",
       "    <tr style=\"text-align: right;\">\n",
       "      <th></th>\n",
       "      <th>fake1</th>\n",
       "      <th>fake2</th>\n",
       "      <th>fake3</th>\n",
       "    </tr>\n",
       "  </thead>\n",
       "  <tbody>\n",
       "    <tr>\n",
       "      <th>fake1</th>\n",
       "      <td>1.00</td>\n",
       "      <td>0.17</td>\n",
       "      <td>0.02</td>\n",
       "    </tr>\n",
       "    <tr>\n",
       "      <th>fake2</th>\n",
       "      <td>0.17</td>\n",
       "      <td>1.00</td>\n",
       "      <td>0.05</td>\n",
       "    </tr>\n",
       "    <tr>\n",
       "      <th>fake3</th>\n",
       "      <td>0.02</td>\n",
       "      <td>0.05</td>\n",
       "      <td>1.00</td>\n",
       "    </tr>\n",
       "  </tbody>\n",
       "</table>\n",
       "</div>"
      ],
      "text/plain": [
       "       fake1  fake2  fake3\n",
       "fake1   1.00   0.17   0.02\n",
       "fake2   0.17   1.00   0.05\n",
       "fake3   0.02   0.05   1.00"
      ]
     },
     "execution_count": 9,
     "metadata": {},
     "output_type": "execute_result"
    }
   ],
   "source": [
    "returns_cor = returns.corr()\n",
    "returns_cor"
   ]
  },
  {
   "cell_type": "code",
   "execution_count": 10,
   "metadata": {},
   "outputs": [
    {
     "data": {
      "image/png": "[encoded data removed]",
      "text/plain": [
       "<Figure size 800x600 with 2 Axes>"
      ]
     },
     "metadata": {},
     "output_type": "display_data"
    }
   ],
   "source": [
    "df = pd.DataFrame(returns_cor)\n",
    "\n",
    "# Create a correlation matrix\n",
    "correlation_matrix = df.corr()\n",
    "\n",
    "# Create a heatmap using Seaborn\n",
    "plt.figure(figsize=(8, 6))\n",
    "sns.heatmap(correlation_matrix, annot=True, cmap='coolwarm', fmt=\".2f\", linewidths=.5)\n",
    "plt.title('Correlation Plot')\n",
    "plt.show()"
   ]
  },
  {
   "cell_type": "markdown",
   "metadata": {},
   "source": [
    "### Correlation Plot Function"
   ]
  },
  {
   "cell_type": "code",
   "execution_count": 11,
   "metadata": {},
   "outputs": [],
   "source": [
    "\n",
    "def correlation_chart(df, quant_x,  quant_y):\n",
    "    corr_chart = alt.Chart(df).mark_circle(size = 60).encode(\n",
    "        x=alt.X(f'{quant_x}:Q', title = \"Asset_1\"),\n",
    "        y=alt.Y(f'{quant_y}:Q', title = \"Asset_2\"),\n",
    "        tooltip= [quant_x, quant_y]\n",
    "    ).interactive()\n",
    "    return returns_cor"
   ]
  },
  {
   "cell_type": "code",
   "execution_count": 35,
   "metadata": {},
   "outputs": [
    {
     "data": {
      "image/png": "[encoded data removed]",
      "text/plain": [
       "<Figure size 800x600 with 1 Axes>"
      ]
     },
     "metadata": {},
     "output_type": "display_data"
    }
   ],
   "source": [
    "\n",
    "\n",
    "df = pd.DataFrame(returns_cor)\n",
    "\n",
    "# Create a scatter plot\n",
    "plt.figure(figsize=(8, 6))\n",
    "\n",
    "# Scatter plot for Variable1 against Variable2\n",
    "plt.scatter(df['fake1'], df['fake2'], label='fake1 vs fake2', color='blue')\n",
    "\n",
    "# Scatter plot for Variable1 against Variable3\n",
    "plt.scatter(df['fake1'], df['fake3'], label='fake1 vs fake3', color='red')\n",
    "plt.scatter(df['fake2'], df['fake1'], label='fake2 vs fake1', color='purple')\n",
    "plt.scatter(df['fake2'], df['fake3'], label='fake2 vs fake3', color='orange')\n",
    "plt.scatter(df['fake3'], df['fake2'], label='fake3 vs fake1', color='yellow')\n",
    "plt.scatter(df['fake3'], df['fake1'], label='fake3 vs fake2', color='green')\n",
    "\n",
    "\n",
    "# Customize the plot\n",
    "plt.title('Scatter Plot')\n",
    "plt.xlabel('fake1')\n",
    "plt.ylabel('fake Value')\n",
    "plt.legend()\n",
    "plt.grid(True)\n",
    "\n",
    "# Show the plot\n",
    "plt.show()\n"
   ]
  },
  {
   "cell_type": "markdown",
   "metadata": {},
   "source": [
    "### Correlation Chart"
   ]
  },
  {
   "cell_type": "code",
   "execution_count": 13,
   "metadata": {},
   "outputs": [
    {
     "data": {
      "text/plain": [
       "<function __main__.correlation_chart(df, quant_x, quant_y)>"
      ]
     },
     "execution_count": 13,
     "metadata": {},
     "output_type": "execute_result"
    }
   ],
   "source": [
    "correlation_chart(returns, 'fake1', 'fake2')\n",
    "correlation_chart"
   ]
  },
  {
   "cell_type": "markdown",
   "metadata": {},
   "source": [
    "### Covariance"
   ]
  },
  {
   "cell_type": "code",
   "execution_count": 14,
   "metadata": {},
   "outputs": [],
   "source": [
    "def covariance(df, ticker, market):\n",
    "    return df[ticker].cov(df[market])"
   ]
  },
  {
   "cell_type": "code",
   "execution_count": 15,
   "metadata": {},
   "outputs": [
    {
     "data": {
      "text/plain": [
       "82.09471355141089"
      ]
     },
     "execution_count": 15,
     "metadata": {},
     "output_type": "execute_result"
    }
   ],
   "source": [
    "user_covariance = covariance(portfolio_df, 'fake2', 'fake3')\n",
    "user_covariance"
   ]
  },
  {
   "cell_type": "markdown",
   "metadata": {},
   "source": [
    "### Variance"
   ]
  },
  {
   "cell_type": "code",
   "execution_count": 16,
   "metadata": {},
   "outputs": [],
   "source": [
    "def variance(df, market):\n",
    "    return df[market].var()"
   ]
  },
  {
   "cell_type": "code",
   "execution_count": 17,
   "metadata": {},
   "outputs": [
    {
     "data": {
      "text/plain": [
       "1821.2813918131276"
      ]
     },
     "execution_count": 17,
     "metadata": {},
     "output_type": "execute_result"
    }
   ],
   "source": [
    "user_variance = variance(portfolio_df, 'fake3')\n",
    "user_variance"
   ]
  },
  {
   "cell_type": "markdown",
   "metadata": {},
   "source": [
    "### Drawdown"
   ]
  },
  {
   "cell_type": "code",
   "execution_count": 18,
   "metadata": {},
   "outputs": [],
   "source": [
    "def drawdown(df, tickers):\n",
    "    Roll_Max = df[tickers].cummax()\n",
    "    Daily_Drawdown = df[tickers]/Roll_Max - 1.0\n",
    "    Max_Daily_Drawdown = Daily_Drawdown.cummin() * 100"
   ]
  },
  {
   "cell_type": "code",
   "execution_count": 19,
   "metadata": {},
   "outputs": [],
   "source": [
    "user_drawdown = drawdown(portfolio_df, 'fake1')\n",
    "user_drawdown"
   ]
  },
  {
   "cell_type": "markdown",
   "metadata": {},
   "source": [
    "### Drawdown Chart Function"
   ]
  },
  {
   "cell_type": "code",
   "execution_count": 20,
   "metadata": {},
   "outputs": [],
   "source": [
    "def drawdown_chart(df, date, quant):\n",
    "    '''\n",
    "    df: dataframe\n",
    "    date: str: should be a date column name\n",
    "    quant: str: should be a quantitative data type\n",
    "    '''\n",
    "    chart = alt.Chart(df.reset_index()).mark_bar().encode(\n",
    "        x = date + ':T',  # T specifies temporal data type for x-axis\n",
    "        y = quant + ':Q',  # Q specifies a quantitative data type for y-axis\n",
    "        color = alt.condition(\n",
    "            getattr(alt.datum, quant) > 0,\n",
    "            alt.value(\"Green\"),  # The positive color\n",
    "            alt.value(\"red\")\n",
    "    ), tooltip= [date + ':T', quant + ':Q']\n",
    "    ).properties(width=800)\n",
    "    chart = chart.interactive()\n",
    "    return chart"
   ]
  },
  {
   "cell_type": "code",
   "execution_count": 21,
   "metadata": {},
   "outputs": [
    {
     "data": {
      "text/html": [
       "\n",
       "<style>\n",
       "  #altair-viz-12f0b849554c4dce889cc789e6878b83.vega-embed {\n",
       "    width: 100%;\n",
       "    display: flex;\n",
       "  }\n",
       "\n",
       "  #altair-viz-12f0b849554c4dce889cc789e6878b83.vega-embed details,\n",
       "  #altair-viz-12f0b849554c4dce889cc789e6878b83.vega-embed details summary {\n",
       "    position: relative;\n",
       "  }\n",
       "</style>\n",
       "<div id=\"altair-viz-12f0b849554c4dce889cc789e6878b83\"></div>\n",
       "<script type=\"text/javascript\">\n",
       "  var VEGA_DEBUG = (typeof VEGA_DEBUG == \"undefined\") ? {} : VEGA_DEBUG;\n",
       "  (function(spec, embedOpt){\n",
       "    let outputDiv = document.currentScript.previousElementSibling;\n",
       "    if (outputDiv.id !== \"altair-viz-12f0b849554c4dce889cc789e6878b83\") {\n",
       "      outputDiv = document.getElementById(\"altair-viz-12f0b849554c4dce889cc789e6878b83\");\n",
       "    }\n",
       "    const paths = {\n",
       "      \"vega\": \"https://cdn.jsdelivr.net/npm/vega@5?noext\",\n",
       "      \"vega-lib\": \"https://cdn.jsdelivr.net/npm/vega-lib?noext\",\n",
       "      \"vega-lite\": \"https://cdn.jsdelivr.net/npm/vega-lite@5.15.1?noext\",\n",
       "      \"vega-embed\": \"https://cdn.jsdelivr.net/npm/vega-embed@6?noext\",\n",
       "    };\n",
       "\n",
       "    function maybeLoadScript(lib, version) {\n",
       "      var key = `${lib.replace(\"-\", \"\")}_version`;\n",
       "      return (VEGA_DEBUG[key] == version) ?\n",
       "        Promise.resolve(paths[lib]) :\n",
       "        new Promise(function(resolve, reject) {\n",
       "          var s = document.createElement('script');\n",
       "          document.getElementsByTagName(\"head\")[0].appendChild(s);\n",
       "          s.async = true;\n",
       "          s.onload = () => {\n",
       "            VEGA_DEBUG[key] = version;\n",
       "            return resolve(paths[lib]);\n",
       "          };\n",
       "          s.onerror = () => reject(`Error loading script: ${paths[lib]}`);\n",
       "          s.src = paths[lib];\n",
       "        });\n",
       "    }\n",
       "\n",
       "    function showError(err) {\n",
       "      outputDiv.innerHTML = `<div class=\"error\" style=\"color:red;\">${err}</div>`;\n",
       "      throw err;\n",
       "    }\n",
       "\n",
       "    function displayChart(vegaEmbed) {\n",
       "      vegaEmbed(outputDiv, spec, embedOpt)\n",
       "        .catch(err => showError(`Javascript Error: ${err.message}<br>This usually means there's a typo in your chart specification. See the javascript console for the full traceback.`));\n",
       "    }\n",
       "\n",
       "    if(typeof define === \"function\" && define.amd) {\n",
       "      requirejs.config({paths});\n",
       "      require([\"vega-embed\"], displayChart, err => showError(`Error loading script: ${err.message}`));\n",
       "    } else {\n",
       "      maybeLoadScript(\"vega\", \"5\")\n",
       "        .then(() => maybeLoadScript(\"vega-lite\", \"5.15.1\"))\n",
       "        .then(() => maybeLoadScript(\"vega-embed\", \"6\"))\n",
       "        .catch(showError)\n",
       "        .then(() => displayChart(vegaEmbed));\n",
       "    }\n",
       "  })({\"config\": {\"view\": {\"continuousWidth\": 300, \"continuousHeight\": 300}}, \"data\": {\"name\": \"data-a54d00634a563c04aa2201759fa12936\"}, \"mark\": {\"type\": \"bar\"}, \"encoding\": {\"color\": {\"condition\": {\"test\": \"(datum.fake1 > 0)\", \"value\": \"Green\"}, \"value\": \"red\"}, \"tooltip\": [{\"field\": \"date\", \"type\": \"temporal\"}, {\"field\": \"fake1\", \"type\": \"quantitative\"}], \"x\": {\"field\": \"date\", \"type\": \"temporal\"}, \"y\": {\"field\": \"fake1\", \"type\": \"quantitative\"}}, \"params\": [{\"name\": \"param_3\", \"select\": {\"type\": \"interval\", \"encodings\": [\"x\", \"y\"]}, \"bind\": \"scales\"}], \"width\": 800, \"$schema\": \"https://vega.github.io/schema/vega-lite/v5.15.1.json\", \"datasets\": {\"data-a54d00634a563c04aa2201759fa12936\": [{\"date\": \"2018-01-01T00:00:00\", \"fake1\": 8.56679987487584, \"fake2\": -24.571359441424136, \"fake3\": -33.255690147601086}, {\"date\": \"2018-01-02T00:00:00\", \"fake1\": 85.35327210904161, \"fake2\": 81.8746694996388, \"fake3\": 73.51098070396964}, {\"date\": \"2018-01-03T00:00:00\", \"fake1\": 25.010349387486386, \"fake2\": 72.85768541884376, \"fake3\": -9.191876495640699}, {\"date\": \"2018-01-04T00:00:00\", \"fake1\": -15.889437974570441, \"fake2\": 44.27567882691985, \"fake3\": 59.750548222934434}, {\"date\": \"2018-01-05T00:00:00\", \"fake1\": 69.34374269227307, \"fake2\": 40.27848892397567, \"fake3\": -15.797509034790124}, {\"date\": \"2018-01-06T00:00:00\", \"fake1\": 73.11767640152311, \"fake2\": 12.846110177894374, \"fake3\": -44.956603924557726}, {\"date\": \"2018-01-07T00:00:00\", \"fake1\": 16.74224515877384, \"fake2\": -47.11018896360085, \"fake3\": 38.44063516087045}, {\"date\": \"2018-01-08T00:00:00\", \"fake1\": -16.792145858371484, \"fake2\": 33.478378120074964, \"fake3\": 92.30013395172578}, {\"date\": \"2018-01-09T00:00:00\", \"fake1\": 94.59980755757115, \"fake2\": 19.235471408057705, \"fake3\": -22.2562905910182}, {\"date\": \"2018-01-10T00:00:00\", \"fake1\": 9.692451613850537, \"fake2\": 13.310664493318185, \"fake3\": 33.293161303337044}, {\"date\": \"2018-01-11T00:00:00\", \"fake1\": 72.78790145191441, \"fake2\": -18.22491534093031, \"fake3\": 80.66875934956778}, {\"date\": \"2018-01-12T00:00:00\", \"fake1\": 58.38523309282579, \"fake2\": 24.297927535370363, \"fake3\": 29.424649619310784}, {\"date\": \"2018-01-13T00:00:00\", \"fake1\": 23.696725334801144, \"fake2\": 65.8957645285873, \"fake3\": 58.96812618650239}, {\"date\": \"2018-01-14T00:00:00\", \"fake1\": 82.79631246066292, \"fake2\": -41.411017198124966, \"fake3\": -20.009348020659644}, {\"date\": \"2018-01-15T00:00:00\", \"fake1\": 11.390579896296103, \"fake2\": 24.148160953535182, \"fake3\": 24.008452194653103}, {\"date\": \"2018-01-16T00:00:00\", \"fake1\": 46.08334595897358, \"fake2\": 9.422524943169819, \"fake3\": -15.75944642677463}, {\"date\": \"2018-01-17T00:00:00\", \"fake1\": 25.5176905035171, \"fake2\": 13.866199793695415, \"fake3\": 95.09437425661295}, {\"date\": \"2018-01-18T00:00:00\", \"fake1\": 56.93331714704113, \"fake2\": -4.371089768277429, \"fake3\": -43.58111869491191}, {\"date\": \"2018-01-19T00:00:00\", \"fake1\": 33.7944661768163, \"fake2\": -26.48237769557683, \"fake3\": 69.25180702336891}, {\"date\": \"2018-01-20T00:00:00\", \"fake1\": 88.5031203567436, \"fake2\": 39.55715928532219, \"fake3\": 79.5331577522724}, {\"date\": \"2018-01-21T00:00:00\", \"fake1\": 82.91478854041583, \"fake2\": 30.549464018722162, \"fake3\": 80.72640808552184}, {\"date\": \"2018-01-22T00:00:00\", \"fake1\": 34.98973216296132, \"fake2\": 56.50682599520812, \"fake3\": 5.066411288240275}, {\"date\": \"2018-01-23T00:00:00\", \"fake1\": 30.285900763943488, \"fake2\": -17.265915975579688, \"fake3\": -17.8328402835145}, {\"date\": \"2018-01-24T00:00:00\", \"fake1\": -44.47166057708344, \"fake2\": -21.700843219781987, \"fake3\": -40.34725209647357}, {\"date\": \"2018-01-25T00:00:00\", \"fake1\": 68.41899786705243, \"fake2\": -45.5393372465889, \"fake3\": 38.97255373622859}, {\"date\": \"2018-01-26T00:00:00\", \"fake1\": 74.68791084048071, \"fake2\": 8.479091571575765, \"fake3\": 56.681138773337985}, {\"date\": \"2018-01-27T00:00:00\", \"fake1\": 97.46612595884318, \"fake2\": 91.07800511152091, \"fake3\": 77.63304702933901}, {\"date\": \"2018-01-28T00:00:00\", \"fake1\": -29.076688043671197, \"fake2\": 26.858080738861034, \"fake3\": 90.35490757219314}, {\"date\": \"2018-01-29T00:00:00\", \"fake1\": -3.9579157000802496, \"fake2\": 43.72100842165162, \"fake3\": -18.460561988365924}, {\"date\": \"2018-01-30T00:00:00\", \"fake1\": -43.89203478483586, \"fake2\": -37.76165833882064, \"fake3\": 14.054024005961281}, {\"date\": \"2018-01-31T00:00:00\", \"fake1\": -34.02118634918989, \"fake2\": -48.35304193872557, \"fake3\": -40.76136362367214}, {\"date\": \"2018-02-01T00:00:00\", \"fake1\": 85.75279381364959, \"fake2\": 19.607714564354893, \"fake3\": 1.6708065007645416}, {\"date\": \"2018-02-02T00:00:00\", \"fake1\": -12.09435997351838, \"fake2\": 17.400913102673982, \"fake3\": 53.80397951439299}, {\"date\": \"2018-02-03T00:00:00\", \"fake1\": 54.77901553166938, \"fake2\": 46.40903528243332, \"fake3\": 13.73174415258687}, {\"date\": \"2018-02-04T00:00:00\", \"fake1\": 12.448393004709132, \"fake2\": 26.206880848841152, \"fake3\": 49.18640096438465}, {\"date\": \"2018-02-05T00:00:00\", \"fake1\": 8.173900723068144, \"fake2\": 49.416153250687, \"fake3\": 48.17083531772867}, {\"date\": \"2018-02-06T00:00:00\", \"fake1\": -18.77606933701594, \"fake2\": -49.704146549712874, \"fake3\": 10.133119854159759}, {\"date\": \"2018-02-07T00:00:00\", \"fake1\": -32.42894543193859, \"fake2\": 20.320118173034288, \"fake3\": 64.71486879124419}, {\"date\": \"2018-02-08T00:00:00\", \"fake1\": -45.77802762433845, \"fake2\": -48.13691928521334, \"fake3\": 12.550851886151833}, {\"date\": \"2018-02-09T00:00:00\", \"fake1\": -13.893060735171488, \"fake2\": -31.11934858082722, \"fake3\": 99.59953327934245}, {\"date\": \"2018-02-10T00:00:00\", \"fake1\": 26.129472552217123, \"fake2\": 8.240045723657957, \"fake3\": 1.5334149787424565}, {\"date\": \"2018-02-11T00:00:00\", \"fake1\": -41.26858406952374, \"fake2\": 90.0305000293045, \"fake3\": -9.381308552092165}, {\"date\": \"2018-02-12T00:00:00\", \"fake1\": 76.01894944784823, \"fake2\": 86.32232304129356, \"fake3\": 48.47122444691982}, {\"date\": \"2018-02-13T00:00:00\", \"fake1\": 22.679096668027043, \"fake2\": -21.507912876781944, \"fake3\": 43.59515581016332}, {\"date\": \"2018-02-14T00:00:00\", \"fake1\": -40.36263877140968, \"fake2\": -21.91486868648579, \"fake3\": 64.17611585811062}, {\"date\": \"2018-02-15T00:00:00\", \"fake1\": 78.24086199389302, \"fake2\": 28.56447825300613, \"fake3\": 85.47150729321423}, {\"date\": \"2018-02-16T00:00:00\", \"fake1\": 5.487015725954038, \"fake2\": -29.361686756597607, \"fake3\": 79.04874009391887}, {\"date\": \"2018-02-17T00:00:00\", \"fake1\": -13.84239160516286, \"fake2\": 31.593828854134614, \"fake3\": -43.23033476447503}, {\"date\": \"2018-02-18T00:00:00\", \"fake1\": -32.94915543613985, \"fake2\": 12.183712336479815, \"fake3\": 58.52010458560714}, {\"date\": \"2018-02-19T00:00:00\", \"fake1\": 74.63906309814209, \"fake2\": 51.472883187593574, \"fake3\": -3.4934545409153657}, {\"date\": \"2018-02-20T00:00:00\", \"fake1\": 9.7662553083821, \"fake2\": 57.99359507214141, \"fake3\": 1.296522047960579}, {\"date\": \"2018-02-21T00:00:00\", \"fake1\": 78.52871769910928, \"fake2\": 89.59032788587044, \"fake3\": 62.73579772136489}, {\"date\": \"2018-02-22T00:00:00\", \"fake1\": -48.14961904983332, \"fake2\": -1.4655133430186567, \"fake3\": -13.125917600515109}, {\"date\": \"2018-02-23T00:00:00\", \"fake1\": 32.587708466123246, \"fake2\": 60.71586682404827, \"fake3\": 35.61983816865656}, {\"date\": \"2018-02-24T00:00:00\", \"fake1\": -3.1940292516406146, \"fake2\": 31.562387206811266, \"fake3\": 87.74442452337107}, {\"date\": \"2018-02-25T00:00:00\", \"fake1\": 42.44568551024738, \"fake2\": 77.80288509143804, \"fake3\": 57.722832251806096}, {\"date\": \"2018-02-26T00:00:00\", \"fake1\": 84.61359515675147, \"fake2\": 94.21464918332211, \"fake3\": 86.45350707646924}, {\"date\": \"2018-02-27T00:00:00\", \"fake1\": 73.43068676133757, \"fake2\": 23.251042300427642, \"fake3\": -44.57893475243705}, {\"date\": \"2018-02-28T00:00:00\", \"fake1\": 52.39608000338665, \"fake2\": 52.98161710484666, \"fake3\": -47.96552826069947}, {\"date\": \"2018-03-01T00:00:00\", \"fake1\": 68.05636186939951, \"fake2\": 0.7229182526385358, \"fake3\": -22.347383177611846}, {\"date\": \"2018-03-02T00:00:00\", \"fake1\": 78.910295836042, \"fake2\": 75.31524581273175, \"fake3\": -13.001170878757108}, {\"date\": \"2018-03-03T00:00:00\", \"fake1\": 28.35606069781916, \"fake2\": 75.6122971933096, \"fake3\": -47.73296752116818}, {\"date\": \"2018-03-04T00:00:00\", \"fake1\": -0.12913966261753274, \"fake2\": -1.8063078665685879, \"fake3\": 42.16437754950464}, {\"date\": \"2018-03-05T00:00:00\", \"fake1\": 55.29264679321806, \"fake2\": 26.97504799916419, \"fake3\": 40.08701784130653}, {\"date\": \"2018-03-06T00:00:00\", \"fake1\": -29.432995385625418, \"fake2\": 16.762684537010344, \"fake3\": 70.44688666340033}, {\"date\": \"2018-03-07T00:00:00\", \"fake1\": -47.10882149432365, \"fake2\": 27.78265250057794, \"fake3\": 23.082099622074978}, {\"date\": \"2018-03-08T00:00:00\", \"fake1\": -13.302594016324832, \"fake2\": 3.75666092950334, \"fake3\": 68.7470801292196}, {\"date\": \"2018-03-09T00:00:00\", \"fake1\": 27.565670487278467, \"fake2\": 86.74567374065475, \"fake3\": 2.60170437746676}, {\"date\": \"2018-03-10T00:00:00\", \"fake1\": 73.09908473462674, \"fake2\": 48.6758504636827, \"fake3\": -27.762294150295645}, {\"date\": \"2018-03-11T00:00:00\", \"fake1\": 66.99505290540564, \"fake2\": 19.600205413060138, \"fake3\": 19.545111447944024}, {\"date\": \"2018-03-12T00:00:00\", \"fake1\": -47.49762025030856, \"fake2\": -32.42950026392333, \"fake3\": 18.45469155122906}, {\"date\": \"2018-03-13T00:00:00\", \"fake1\": 29.354629406995443, \"fake2\": -11.649120313117862, \"fake3\": 27.42534306088247}, {\"date\": \"2018-03-14T00:00:00\", \"fake1\": 5.519399394735331, \"fake2\": 19.08358861003893, \"fake3\": 21.647939361672286}, {\"date\": \"2018-03-15T00:00:00\", \"fake1\": 15.738327103299582, \"fake2\": 1.0771729746897591, \"fake3\": 81.60810789750403}, {\"date\": \"2018-03-16T00:00:00\", \"fake1\": 65.15210042185066, \"fake2\": 0.18006769625402796, \"fake3\": 77.38246708567245}, {\"date\": \"2018-03-17T00:00:00\", \"fake1\": 40.407565516918375, \"fake2\": 70.51932261393247, \"fake3\": 26.404965219833514}, {\"date\": \"2018-03-18T00:00:00\", \"fake1\": 92.00845012995643, \"fake2\": -43.364847781612525, \"fake3\": 11.50634617319524}, {\"date\": \"2018-03-19T00:00:00\", \"fake1\": 5.211006449772455, \"fake2\": 40.84793358363968, \"fake3\": 80.46881288492835}, {\"date\": \"2018-03-20T00:00:00\", \"fake1\": 22.794297529388146, \"fake2\": 35.56966886516399, \"fake3\": 2.7106957983584863}, {\"date\": \"2018-03-21T00:00:00\", \"fake1\": 5.5854727467880565, \"fake2\": 58.29106010017106, \"fake3\": 37.86418092260354}, {\"date\": \"2018-03-22T00:00:00\", \"fake1\": 50.965850920298976, \"fake2\": 4.146102413559248, \"fake3\": 90.10272648023422}, {\"date\": \"2018-03-23T00:00:00\", \"fake1\": -20.239124070206486, \"fake2\": 20.794276101787545, \"fake3\": -22.65137444301476}, {\"date\": \"2018-03-24T00:00:00\", \"fake1\": 35.64860621890905, \"fake2\": -6.9487028005541305, \"fake3\": 55.80293937655148}, {\"date\": \"2018-03-25T00:00:00\", \"fake1\": -48.667342616001065, \"fake2\": 55.23892104321563, \"fake3\": 35.62433742097093}, {\"date\": \"2018-03-26T00:00:00\", \"fake1\": -28.60508655113256, \"fake2\": -22.653310992667997, \"fake3\": -46.85488491504546}, {\"date\": \"2018-03-27T00:00:00\", \"fake1\": 96.11838774076625, \"fake2\": 48.24226685664465, \"fake3\": 19.806981416017706}, {\"date\": \"2018-03-28T00:00:00\", \"fake1\": 10.025481817729826, \"fake2\": 69.48017610046463, \"fake3\": 23.94760061897192}, {\"date\": \"2018-03-29T00:00:00\", \"fake1\": 96.77501233328343, \"fake2\": 96.76310923332005, \"fake3\": 46.6313509351816}, {\"date\": \"2018-03-30T00:00:00\", \"fake1\": -7.992837993808038, \"fake2\": 58.53060900166467, \"fake3\": 75.99857573942913}, {\"date\": \"2018-03-31T00:00:00\", \"fake1\": 69.62174635912932, \"fake2\": -48.564001824994875, \"fake3\": 66.21458285925357}, {\"date\": \"2018-04-01T00:00:00\", \"fake1\": -14.38575858163638, \"fake2\": 96.99922564779695, \"fake3\": 64.26636165211562}, {\"date\": \"2018-04-02T00:00:00\", \"fake1\": -38.332470478015864, \"fake2\": 22.43153299888175, \"fake3\": 64.95226331628432}, {\"date\": \"2018-04-03T00:00:00\", \"fake1\": -15.068819808479205, \"fake2\": 97.30018610620992, \"fake3\": -14.16281418861844}, {\"date\": \"2018-04-04T00:00:00\", \"fake1\": 97.50934526731893, \"fake2\": -17.930742679504107, \"fake3\": 50.62771743521967}, {\"date\": \"2018-04-05T00:00:00\", \"fake1\": 5.814005208342735, \"fake2\": 9.389428189233897, \"fake3\": 60.178598848316064}, {\"date\": \"2018-04-06T00:00:00\", \"fake1\": 55.44511741912182, \"fake2\": 60.306981819608446, \"fake3\": 67.26750097203998}, {\"date\": \"2018-04-07T00:00:00\", \"fake1\": 44.12014548814639, \"fake2\": 37.79838853533603, \"fake3\": 97.6922402824}, {\"date\": \"2018-04-08T00:00:00\", \"fake1\": 51.3701396883669, \"fake2\": -49.97777032141596, \"fake3\": -12.823568671614566}, {\"date\": \"2018-04-09T00:00:00\", \"fake1\": 18.50699684376241, \"fake2\": 94.16245486682045, \"fake3\": -5.790288847013727}, {\"date\": \"2018-04-10T00:00:00\", \"fake1\": 7.540088110052409, \"fake2\": 69.33144861892188, \"fake3\": -32.58534161417953}]}}, {\"mode\": \"vega-lite\"});\n",
       "</script>"
      ],
      "text/plain": [
       "alt.Chart(...)"
      ]
     },
     "execution_count": 21,
     "metadata": {},
     "output_type": "execute_result"
    }
   ],
   "source": [
    "user_drawdown = drawdown_chart(returns, 'date', 'fake1')\n",
    "user_drawdown"
   ]
  },
  {
   "cell_type": "code",
   "execution_count": 22,
   "metadata": {},
   "outputs": [],
   "source": [
    "def tracking_error(df, tickers, market):\n",
    "    track_error = np.sqrt(sum([i**2 for i in df[tickers] - df[market]]))\n",
    "    return track_error"
   ]
  },
  {
   "cell_type": "code",
   "execution_count": 23,
   "metadata": {},
   "outputs": [
    {
     "data": {
      "text/plain": [
       "578.725849141165"
      ]
     },
     "execution_count": 23,
     "metadata": {},
     "output_type": "execute_result"
    }
   ],
   "source": [
    "user_tracking_error = tracking_error(portfolio_df, 'fake2', 'fake3')\n",
    "user_tracking_error"
   ]
  },
  {
   "cell_type": "markdown",
   "metadata": {},
   "source": [
    "### Beta"
   ]
  },
  {
   "cell_type": "code",
   "execution_count": 24,
   "metadata": {},
   "outputs": [],
   "source": [
    "def beta(covariance, variance):\n",
    "    chart_beta = covariance / variance\n",
    "    chart_beta = chart_beta\n",
    "    return chart_beta"
   ]
  },
  {
   "cell_type": "code",
   "execution_count": 25,
   "metadata": {},
   "outputs": [
    {
     "data": {
      "text/plain": [
       "0.04507524972277003"
      ]
     },
     "execution_count": 25,
     "metadata": {},
     "output_type": "execute_result"
    }
   ],
   "source": [
    "user_beta = beta(user_covariance, user_variance)\n",
    "user_beta"
   ]
  },
  {
   "cell_type": "markdown",
   "metadata": {},
   "source": [
    "### Sharpe Ratio"
   ]
  },
  {
   "cell_type": "code",
   "execution_count": 26,
   "metadata": {},
   "outputs": [],
   "source": [
    "def sharpe_ratio(df):\n",
    "    sharpe = (df.mean()*252) / (df.std() * np.sqrt(252))\n",
    "    return sharpe"
   ]
  },
  {
   "cell_type": "code",
   "execution_count": 27,
   "metadata": {},
   "outputs": [
    {
     "data": {
      "text/plain": [
       "fake1    9.50\n",
       "fake2    9.26\n",
       "fake3   10.81\n",
       "dtype: float64"
      ]
     },
     "execution_count": 27,
     "metadata": {},
     "output_type": "execute_result"
    }
   ],
   "source": [
    "user_sharpe_ratio = sharpe_ratio(portfolio_df)\n",
    "user_sharpe_ratio"
   ]
  },
  {
   "cell_type": "markdown",
   "metadata": {},
   "source": [
    "### Return on Investment Function"
   ]
  },
  {
   "cell_type": "code",
   "execution_count": 28,
   "metadata": {},
   "outputs": [],
   "source": [
    "def return_on_investment(investment, returns):\n",
    "    cumulative_profit = investment * returns\n",
    "    return_oi = (cumulative_profit - investment) / investment\n",
    "    return(return_oi)"
   ]
  },
  {
   "cell_type": "markdown",
   "metadata": {},
   "source": [
    "### ROI "
   ]
  },
  {
   "cell_type": "code",
   "execution_count": 29,
   "metadata": {},
   "outputs": [
    {
     "data": {
      "text/html": [
       "<div>\n",
       "<style scoped>\n",
       "    .dataframe tbody tr th:only-of-type {\n",
       "        vertical-align: middle;\n",
       "    }\n",
       "\n",
       "    .dataframe tbody tr th {\n",
       "        vertical-align: top;\n",
       "    }\n",
       "\n",
       "    .dataframe thead th {\n",
       "        text-align: right;\n",
       "    }\n",
       "</style>\n",
       "<table border=\"1\" class=\"dataframe\">\n",
       "  <thead>\n",
       "    <tr style=\"text-align: right;\">\n",
       "      <th></th>\n",
       "      <th>fake1</th>\n",
       "      <th>fake2</th>\n",
       "      <th>fake3</th>\n",
       "    </tr>\n",
       "  </thead>\n",
       "  <tbody>\n",
       "    <tr>\n",
       "      <th>0</th>\n",
       "      <td>8.57</td>\n",
       "      <td>-24.57</td>\n",
       "      <td>-33.26</td>\n",
       "    </tr>\n",
       "    <tr>\n",
       "      <th>1</th>\n",
       "      <td>825.12</td>\n",
       "      <td>-1954.47</td>\n",
       "      <td>-2404.40</td>\n",
       "    </tr>\n",
       "    <tr>\n",
       "      <th>2</th>\n",
       "      <td>21486.79</td>\n",
       "      <td>-144279.67</td>\n",
       "      <td>19687.38</td>\n",
       "    </tr>\n",
       "    <tr>\n",
       "      <th>3</th>\n",
       "      <td>-319942.06</td>\n",
       "      <td>-6532315.77</td>\n",
       "      <td>1196078.96</td>\n",
       "    </tr>\n",
       "    <tr>\n",
       "      <th>4</th>\n",
       "      <td>-22505852.56</td>\n",
       "      <td>-269644083.98</td>\n",
       "      <td>-17699005.08</td>\n",
       "    </tr>\n",
       "    <tr>\n",
       "      <th>...</th>\n",
       "      <td>...</td>\n",
       "      <td>...</td>\n",
       "      <td>...</td>\n",
       "    </tr>\n",
       "    <tr>\n",
       "      <th>95</th>\n",
       "      <td>-1660894243351350974426535130090182070794564340...</td>\n",
       "      <td>64287370754789178467135042571681248936855379434...</td>\n",
       "      <td>-5930893788543936351505593155577868674634497897...</td>\n",
       "    </tr>\n",
       "    <tr>\n",
       "      <th>96</th>\n",
       "      <td>-7493978990043776093721557696942857114733788395...</td>\n",
       "      <td>24942463884595091713479622206066684908476662771...</td>\n",
       "      <td>-5853331948683718638450714900356492292957739483...</td>\n",
       "    </tr>\n",
       "    <tr>\n",
       "      <th>97</th>\n",
       "      <td>-3924607265302792527654907076532660771332317336...</td>\n",
       "      <td>-1221626267389910863691191203025261227015692859...</td>\n",
       "      <td>69207272253017451357678092584556265823136722468...</td>\n",
       "    </tr>\n",
       "    <tr>\n",
       "      <th>98</th>\n",
       "      <td>-7655730153726858980418857979581158488597779457...</td>\n",
       "      <td>-1162529545346147197736125789981058110694221085...</td>\n",
       "      <td>-3315228244058720783912377814178563171635398592...</td>\n",
       "    </tr>\n",
       "    <tr>\n",
       "      <th>99</th>\n",
       "      <td>-6538061005961244826215708869565711259811393871...</td>\n",
       "      <td>-8176238698649117417580774595404187810500497340...</td>\n",
       "      <td>10471261661757122826886864036565877438175262791...</td>\n",
       "    </tr>\n",
       "  </tbody>\n",
       "</table>\n",
       "<p>100 rows × 3 columns</p>\n",
       "</div>"
      ],
      "text/plain": [
       "                                                fake1  \\\n",
       "0                                                8.57   \n",
       "1                                              825.12   \n",
       "2                                            21486.79   \n",
       "3                                          -319942.06   \n",
       "4                                        -22505852.56   \n",
       "..                                                ...   \n",
       "95 -1660894243351350974426535130090182070794564340...   \n",
       "96 -7493978990043776093721557696942857114733788395...   \n",
       "97 -3924607265302792527654907076532660771332317336...   \n",
       "98 -7655730153726858980418857979581158488597779457...   \n",
       "99 -6538061005961244826215708869565711259811393871...   \n",
       "\n",
       "                                                fake2  \\\n",
       "0                                              -24.57   \n",
       "1                                            -1954.47   \n",
       "2                                          -144279.67   \n",
       "3                                         -6532315.77   \n",
       "4                                       -269644083.98   \n",
       "..                                                ...   \n",
       "95 64287370754789178467135042571681248936855379434...   \n",
       "96 24942463884595091713479622206066684908476662771...   \n",
       "97 -1221626267389910863691191203025261227015692859...   \n",
       "98 -1162529545346147197736125789981058110694221085...   \n",
       "99 -8176238698649117417580774595404187810500497340...   \n",
       "\n",
       "                                                fake3  \n",
       "0                                              -33.26  \n",
       "1                                            -2404.40  \n",
       "2                                            19687.38  \n",
       "3                                          1196078.96  \n",
       "4                                        -17699005.08  \n",
       "..                                                ...  \n",
       "95 -5930893788543936351505593155577868674634497897...  \n",
       "96 -5853331948683718638450714900356492292957739483...  \n",
       "97 69207272253017451357678092584556265823136722468...  \n",
       "98 -3315228244058720783912377814178563171635398592...  \n",
       "99 10471261661757122826886864036565877438175262791...  \n",
       "\n",
       "[100 rows x 3 columns]"
      ]
     },
     "execution_count": 29,
     "metadata": {},
     "output_type": "execute_result"
    }
   ],
   "source": [
    "user_roi = return_on_investment(initial_investment, user_cr)\n",
    "user_roi"
   ]
  },
  {
   "cell_type": "markdown",
   "metadata": {},
   "source": [
    "### ROI Chart"
   ]
  },
  {
   "cell_type": "code",
   "execution_count": 30,
   "metadata": {},
   "outputs": [],
   "source": [
    "def roi_chart(df, initial_investment = 10000, width = 400):\n",
    "    # Transforms to long format\n",
    "    df_melted = df.reset_index().melt(var_name = 'Asset', value_name = 'ROI').query(\"Asset != 'index'\")\n",
    "\n",
    "    # Creating a bar chart\n",
    "    bars = alt.Chart(df_melted).mark_bar().encode(\n",
    "        x = alt.X('Asset:N', title = \"Asset\"),\n",
    "        y = alt.Y('ROI:Q', title = \"Return on Investment\"),\n",
    "    )\n",
    "\n",
    "    # Creating a DataFrame for the initial investment line\n",
    "    initial_investment_df = pd.DataFrame({\n",
    "        'Asset': df_melted['Asset'].unique(),\n",
    "        'Initial Investment': [initial_investment] * len(df_melted['Asset'].unique())\n",
    "    })\n",
    "\n",
    "    # Creating a line chart for the initial investment\n",
    "    line = alt.Chart(initial_investment_df).mark_rule(color = 'firebrick').encode(\n",
    "        y = 'Initial Investment:Q'\n",
    "    )\n",
    "\n",
    "    return alt.layer(bars, line)"
   ]
  },
  {
   "cell_type": "code",
   "execution_count": 31,
   "metadata": {},
   "outputs": [
    {
     "data": {
      "text/html": [
       "\n",
       "<style>\n",
       "  #altair-viz-ac079b37fa2542caa4edf520419afcc8.vega-embed {\n",
       "    width: 100%;\n",
       "    display: flex;\n",
       "  }\n",
       "\n",
       "  #altair-viz-ac079b37fa2542caa4edf520419afcc8.vega-embed details,\n",
       "  #altair-viz-ac079b37fa2542caa4edf520419afcc8.vega-embed details summary {\n",
       "    position: relative;\n",
       "  }\n",
       "</style>\n",
       "<div id=\"altair-viz-ac079b37fa2542caa4edf520419afcc8\"></div>\n",
       "<script type=\"text/javascript\">\n",
       "  var VEGA_DEBUG = (typeof VEGA_DEBUG == \"undefined\") ? {} : VEGA_DEBUG;\n",
       "  (function(spec, embedOpt){\n",
       "    let outputDiv = document.currentScript.previousElementSibling;\n",
       "    if (outputDiv.id !== \"altair-viz-ac079b37fa2542caa4edf520419afcc8\") {\n",
       "      outputDiv = document.getElementById(\"altair-viz-ac079b37fa2542caa4edf520419afcc8\");\n",
       "    }\n",
       "    const paths = {\n",
       "      \"vega\": \"https://cdn.jsdelivr.net/npm/vega@5?noext\",\n",
       "      \"vega-lib\": \"https://cdn.jsdelivr.net/npm/vega-lib?noext\",\n",
       "      \"vega-lite\": \"https://cdn.jsdelivr.net/npm/vega-lite@5.15.1?noext\",\n",
       "      \"vega-embed\": \"https://cdn.jsdelivr.net/npm/vega-embed@6?noext\",\n",
       "    };\n",
       "\n",
       "    function maybeLoadScript(lib, version) {\n",
       "      var key = `${lib.replace(\"-\", \"\")}_version`;\n",
       "      return (VEGA_DEBUG[key] == version) ?\n",
       "        Promise.resolve(paths[lib]) :\n",
       "        new Promise(function(resolve, reject) {\n",
       "          var s = document.createElement('script');\n",
       "          document.getElementsByTagName(\"head\")[0].appendChild(s);\n",
       "          s.async = true;\n",
       "          s.onload = () => {\n",
       "            VEGA_DEBUG[key] = version;\n",
       "            return resolve(paths[lib]);\n",
       "          };\n",
       "          s.onerror = () => reject(`Error loading script: ${paths[lib]}`);\n",
       "          s.src = paths[lib];\n",
       "        });\n",
       "    }\n",
       "\n",
       "    function showError(err) {\n",
       "      outputDiv.innerHTML = `<div class=\"error\" style=\"color:red;\">${err}</div>`;\n",
       "      throw err;\n",
       "    }\n",
       "\n",
       "    function displayChart(vegaEmbed) {\n",
       "      vegaEmbed(outputDiv, spec, embedOpt)\n",
       "        .catch(err => showError(`Javascript Error: ${err.message}<br>This usually means there's a typo in your chart specification. See the javascript console for the full traceback.`));\n",
       "    }\n",
       "\n",
       "    if(typeof define === \"function\" && define.amd) {\n",
       "      requirejs.config({paths});\n",
       "      require([\"vega-embed\"], displayChart, err => showError(`Error loading script: ${err.message}`));\n",
       "    } else {\n",
       "      maybeLoadScript(\"vega\", \"5\")\n",
       "        .then(() => maybeLoadScript(\"vega-lite\", \"5.15.1\"))\n",
       "        .then(() => maybeLoadScript(\"vega-embed\", \"6\"))\n",
       "        .catch(showError)\n",
       "        .then(() => displayChart(vegaEmbed));\n",
       "    }\n",
       "  })({\"config\": {\"view\": {\"continuousWidth\": 300, \"continuousHeight\": 300}}, \"layer\": [{\"data\": {\"name\": \"data-29ed0b3a9691467e9752bf881025adf7\"}, \"mark\": {\"type\": \"bar\"}, \"encoding\": {\"x\": {\"field\": \"Asset\", \"title\": \"Asset\", \"type\": \"nominal\"}, \"y\": {\"field\": \"ROI\", \"title\": \"Return on Investment\", \"type\": \"quantitative\"}}}, {\"data\": {\"name\": \"data-f70a905245c7c5466a1fee4fc97ffe32\"}, \"mark\": {\"type\": \"rule\", \"color\": \"firebrick\"}, \"encoding\": {\"y\": {\"field\": \"Initial Investment\", \"type\": \"quantitative\"}}}], \"$schema\": \"https://vega.github.io/schema/vega-lite/v5.15.1.json\", \"datasets\": {\"data-29ed0b3a9691467e9752bf881025adf7\": [{\"Asset\": \"fake1\", \"ROI\": 9.56679987487584}, {\"Asset\": \"fake1\", \"ROI\": 826.1244728078988}, {\"Asset\": \"fake1\", \"ROI\": 21487.786175286445}, {\"Asset\": \"fake1\", \"ROI\": -319941.05946775974}, {\"Asset\": \"fake1\", \"ROI\": -22505851.563893326}, {\"Asset\": \"fake1\", \"ROI\": -1668081423.3533583}, {\"Asset\": \"fake1\", \"ROI\": -29595509557.931698}, {\"Asset\": \"fake1\", \"ROI\": 467376603691.68475}, {\"Asset\": \"fake1\", \"ROI\": 44681113369836.266}, {\"Asset\": \"fake1\", \"ROI\": 477750642759944.56}, {\"Asset\": \"fake1\", \"ROI\": 3.5252217346559556e+16}, {\"Asset\": \"fake1\", \"ROI\": 2.093461144164396e+18}, {\"Asset\": \"fake1\", \"ROI\": 5.170163487650663e+19}, {\"Asset\": \"fake1\", \"ROI\": 4.332406350838857e+21}, {\"Asset\": \"fake1\", \"ROI\": 5.36810270332895e+22}, {\"Asset\": \"fake1\", \"ROI\": 2.527482367241383e+24}, {\"Asset\": \"fake1\", \"ROI\": 6.702299516760374e+25}, {\"Asset\": \"fake1\", \"ROI\": 3.8828644351893925e+27}, {\"Asset\": \"fake1\", \"ROI\": 1.3510219525936024e+29}, {\"Asset\": \"fake1\", \"ROI\": 1.2092068042758794e+31}, {\"Asset\": \"fake1\", \"ROI\": 1.0147033328244241e+33}, {\"Asset\": \"fake1\", \"ROI\": 3.6518901173215217e+34}, {\"Asset\": \"fake1\", \"ROI\": 1.1425267181134706e+36}, {\"Asset\": \"fake1\", \"ROI\": -4.966753369007789e+37}, {\"Asset\": \"fake1\", \"ROI\": -3.447870415293271e+39}, {\"Asset\": \"fake1\", \"ROI\": -2.6096210858224832e+41}, {\"Asset\": \"fake1\", \"ROI\": -2.5695927854144976e+43}, {\"Asset\": \"fake1\", \"ROI\": 7.2145655035351e+44}, {\"Asset\": \"fake1\", \"ROI\": -2.1340076572163845e+45}, {\"Asset\": \"fake1\", \"ROI\": 9.153193066443123e+46}, {\"Asset\": \"fake1\", \"ROI\": -3.022492939371312e+48}, {\"Asset\": \"fake1\", \"ROI\": -2.622097067724911e+50}, {\"Asset\": \"fake1\", \"ROI\": 2.9090488754847163e+51}, {\"Asset\": \"fake1\", \"ROI\": 1.6226388240804733e+53}, {\"Asset\": \"fake1\", \"ROI\": 2.182188461093329e+54}, {\"Asset\": \"fake1\", \"ROI\": 2.001918030109505e+55}, {\"Asset\": \"fake1\", \"ROI\": -3.5586233710248924e+56}, {\"Asset\": \"fake1\", \"ROI\": 1.1184377974076269e+58}, {\"Asset\": \"fake1\", \"ROI\": -5.008143858842297e+59}, {\"Asset\": \"fake1\", \"ROI\": 6.457030294252984e+60}, {\"Asset\": \"fake1\", \"ROI\": 1.751758261367708e+62}, {\"Asset\": \"fake1\", \"ROI\": -7.054082481736828e+63}, {\"Asset\": \"fake1\", \"ROI\": -5.432980220618405e+65}, {\"Asset\": \"fake1\", \"ROI\": -1.286480638395021e+67}, {\"Asset\": \"fake1\", \"ROI\": 5.063927265555573e+68}, {\"Asset\": \"fake1\", \"ROI\": 4.012699615970012e+70}, {\"Asset\": \"fake1\", \"ROI\": 2.6030445512327197e+71}, {\"Asset\": \"fake1\", \"ROI\": -3.3429317492616e+72}, {\"Asset\": \"fake1\", \"ROI\": 1.0680384606956574e+74}, {\"Asset\": \"fake1\", \"ROI\": 8.078542851980138e+75}, {\"Asset\": \"fake1\", \"ROI\": 8.697565486412343e+76}, {\"Asset\": \"fake1\", \"ROI\": 6.917062302384033e+78}, {\"Asset\": \"fake1\", \"ROI\": -3.261368525013701e+80}, {\"Asset\": \"fake1\", \"ROI\": -1.0954189521875058e+82}, {\"Asset\": \"fake1\", \"ROI\": 2.4033812239008994e+82}, {\"Asset\": \"fake1\", \"ROI\": 1.0441654481483193e+84}, {\"Asset\": \"fake1\", \"ROI\": 8.939475795443818e+85}, {\"Asset\": \"fake1\", \"ROI\": 6.653713227412378e+87}, {\"Asset\": \"fake1\", \"ROI\": 3.552822038105033e+89}, {\"Asset\": \"fake1\", \"ROI\": 2.4534496432095865e+91}, {\"Asset\": \"fake1\", \"ROI\": 1.9605588680770974e+93}, {\"Asset\": \"fake1\", \"ROI\": 5.75542851329189e+94}, {\"Asset\": \"fake1\", \"ROI\": 5.012174416866047e+94}, {\"Asset\": \"fake1\", \"ROI\": 2.821485641146441e+96}, {\"Asset\": \"fake1\", \"ROI\": -8.022328821532513e+97}, {\"Asset\": \"fake1\", \"ROI\": 3.6990012760081047e+99}, {\"Asset\": \"fake1\", \"ROI\": -4.5507310964595225e+100}, {\"Asset\": \"fake1\", \"ROI\": -1.2999468497767417e+102}, {\"Asset\": \"fake1\", \"ROI\": -9.632487177211788e+103}, {\"Asset\": \"fake1\", \"ROI\": -6.54961475225157e+105}, {\"Asset\": \"fake1\", \"ROI\": 3.0454149953601224e+107}, {\"Asset\": \"fake1\", \"ROI\": 9.244244357466327e+108}, {\"Asset\": \"fake1\", \"ROI\": 6.0266921068851464e+109}, {\"Asset\": \"fake1\", \"ROI\": 1.0087674383591731e+111}, {\"Asset\": \"fake1\", \"ROI\": 6.673208488462907e+112}, {\"Asset\": \"fake1\", \"ROI\": 2.763213176940836e+114}, {\"Asset\": \"fake1\", \"ROI\": 2.5700217496594025e+116}, {\"Asset\": \"fake1\", \"ROI\": 1.5962421663190038e+117}, {\"Asset\": \"fake1\", \"ROI\": 3.7981461034349454e+118}, {\"Asset\": \"fake1\", \"ROI\": 2.5012587652490085e+119}, {\"Asset\": \"fake1\", \"ROI\": 1.2998004010802108e+121}, {\"Asset\": \"fake1\", \"ROI\": -2.500702118288633e+122}, {\"Asset\": \"fake1\", \"ROI\": -9.164724720395184e+123}, {\"Asset\": \"fake1\", \"ROI\": 4.3685807322841176e+125}, {\"Asset\": \"fake1\", \"ROI\": -1.2059504922031312e+127}, {\"Asset\": \"fake1\", \"ROI\": -1.171199674979516e+129}, {\"Asset\": \"fake1\", \"ROI\": -1.2913040721417736e+130}, {\"Asset\": \"fake1\", \"ROI\": -1.2625727157968102e+132}, {\"Asset\": \"fake1\", \"ROI\": 8.828966456969333e+132}, {\"Asset\": \"fake1\", \"ROI\": 6.235170297373488e+134}, {\"Asset\": \"fake1\", \"ROI\": -8.346248431603144e+135}, {\"Asset\": \"fake1\", \"ROI\": 3.115860731750106e+137}, {\"Asset\": \"fake1\", \"ROI\": -4.38364831833084e+138}, {\"Asset\": \"fake1\", \"ROI\": -4.318303257209548e+140}, {\"Asset\": \"fake1\", \"ROI\": -2.9424940885829255e+141}, {\"Asset\": \"fake1\", \"ROI\": -1.6608942433513508e+143}, {\"Asset\": \"fake1\", \"ROI\": -7.493978990043776e+144}, {\"Asset\": \"fake1\", \"ROI\": -3.9246072653027925e+146}, {\"Asset\": \"fake1\", \"ROI\": -7.655730153726859e+147}, {\"Asset\": \"fake1\", \"ROI\": -6.538061005961245e+148}, {\"Asset\": \"fake2\", \"ROI\": -23.571359441424136}, {\"Asset\": \"fake2\", \"ROI\": -1953.4686233652158}, {\"Asset\": \"fake2\", \"ROI\": -144278.6710600899}, {\"Asset\": \"fake2\", \"ROI\": -6532314.772491446}, {\"Asset\": \"fake2\", \"ROI\": -269644082.9842108}, {\"Asset\": \"fake2\", \"ROI\": -3733521681.816676}, {\"Asset\": \"fake2\", \"ROI\": 172153390248.2678}, {\"Asset\": \"fake2\", \"ROI\": 5935569683632.603}, {\"Asset\": \"fake2\", \"ROI\": 120109050623681.66}, {\"Asset\": \"fake2\", \"ROI\": 1718840326086477.5}, {\"Asset\": \"fake2\", \"ROI\": -2.960687910141662e+16}, {\"Asset\": \"fake2\", \"ROI\": -7.489926820561088e+17}, {\"Asset\": \"fake2\", \"ROI\": -5.0104438092460515e+19}, {\"Asset\": \"fake2\", \"ROI\": 2.0247713094568095e+21}, {\"Asset\": \"fake2\", \"ROI\": 5.091927478432004e+22}, {\"Asset\": \"fake2\", \"ROI\": 5.307074115276936e+23}, {\"Asset\": \"fake2\", \"ROI\": 7.889602411765627e+24}, {\"Asset\": \"fake2\", \"ROI\": -2.659655796608003e+25}, {\"Asset\": \"fake2\", \"ROI\": 6.77743535493954e+26}, {\"Asset\": \"fake2\", \"ROI\": 2.748735252362571e+28}, {\"Asset\": \"fake2\", \"ROI\": 8.672112394140611e+29}, {\"Asset\": \"fake2\", \"ROI\": 4.987056584607318e+31}, {\"Asset\": \"fake2\", \"ROI\": -8.111904337068405e+32}, {\"Asset\": \"fake2\", \"ROI\": 1.6792325989552257e+34}, {\"Asset\": \"fake2\", \"ROI\": -7.479190704033276e+35}, {\"Asset\": \"fake2\", \"ROI\": -7.089593356480963e+36}, {\"Asset\": \"fake2\", \"ROI\": -6.5279561331665884e+38}, {\"Asset\": \"fake2\", \"ROI\": -1.8185632901749788e+40}, {\"Asset\": \"fake2\", \"ROI\": -8.13279842152217e+41}, {\"Asset\": \"fake2\", \"ROI\": 2.989751569104978e+43}, {\"Asset\": \"fake2\", \"ROI\": -1.415738314381986e+45}, {\"Asset\": \"fake2\", \"ROI\": -2.91751310806049e+46}, {\"Asset\": \"fake2\", \"ROI\": -5.368490517733336e+47}, {\"Asset\": \"fake2\", \"ROI\": -2.545149563686285e+49}, {\"Asset\": \"fake2\", \"ROI\": -6.92455809216928e+50}, {\"Asset\": \"fake2\", \"ROI\": -3.491095819680912e+52}, {\"Asset\": \"fake2\", \"ROI\": 1.7003084242082913e+54}, {\"Asset\": \"fake2\", \"ROI\": 3.6250776534726484e+55}, {\"Asset\": \"fake2\", \"ROI\": -1.708749927543708e+57}, {\"Asset\": \"fake2\", \"ROI\": 5.14664347051522e+58}, {\"Asset\": \"fake2\", \"ROI\": 4.755522099092631e+59}, {\"Asset\": \"fake2\", \"ROI\": 4.328975545808099e+61}, {\"Asset\": \"fake2\", \"ROI\": 3.780162010489149e+63}, {\"Asset\": \"fake2\", \"ROI\": -7.752323317123234e+64}, {\"Asset\": \"fake2\", \"ROI\": 1.6213882419281438e+66}, {\"Asset\": \"fake2\", \"ROI\": 4.7935497418164446e+67}, {\"Asset\": \"fake2\", \"ROI\": -1.3595315622956733e+69}, {\"Asset\": \"fake2\", \"ROI\": -4.4312339063259425e+70}, {\"Asset\": \"fake2\", \"ROI\": -5.842011311665697e+71}, {\"Asset\": \"fake2\", \"ROI\": -3.065471771376344e+73}, {\"Asset\": \"fake2\", \"ROI\": -1.808432003856561e+75}, {\"Asset\": \"fake2\", \"ROI\": -1.6382644818866758e+77}, {\"Asset\": \"fake2\", \"ROI\": 7.62633975711794e+76}, {\"Asset\": \"fake2\", \"ROI\": 4.706661688052354e+78}, {\"Asset\": \"fake2\", \"ROI\": 1.5326014033782467e+80}, {\"Asset\": \"fake2\", \"ROI\": 1.2077341228139267e+82}, {\"Asset\": \"fake2\", \"ROI\": 1.149939808104553e+84}, {\"Asset\": \"fake2\", \"ROI\": 2.788723892928916e+85}, {\"Asset\": \"fake2\", \"ROI\": 1.5053982539922615e+87}, {\"Asset\": \"fake2\", \"ROI\": 2.59367812929345e+87}, {\"Asset\": \"fake2\", \"ROI\": 1.9793718399613586e+89}, {\"Asset\": \"fake2\", \"ROI\": 1.5164422365918766e+91}, {\"Asset\": \"fake2\", \"ROI\": -1.2227193045608939e+91}, {\"Asset\": \"fake2\", \"ROI\": -3.4205631234595665e+92}, {\"Asset\": \"fake2\", \"ROI\": -6.075838370094305e+93}, {\"Asset\": \"fake2\", \"ROI\": -1.7487874445610223e+95}, {\"Asset\": \"fake2\", \"ROI\": -8.318388911549404e+95}, {\"Asset\": \"fake2\", \"ROI\": -7.299026394806942e+97}, {\"Asset\": \"fake2\", \"ROI\": -3.6258534371890265e+99}, {\"Asset\": \"fake2\", \"ROI\": -7.469332560374409e+100}, {\"Asset\": \"fake2\", \"ROI\": 2.347573896776186e+102}, {\"Asset\": \"fake2\", \"ROI\": -2.499959687070454e+103}, {\"Asset\": \"fake2\", \"ROI\": -5.0208161896804653e+104}, {\"Asset\": \"fake2\", \"ROI\": -1.0429103700089074e+105}, {\"Asset\": \"fake2\", \"ROI\": -1.2307048377358472e+105}, {\"Asset\": \"fake2\", \"ROI\": -8.801917633255746e+106}, {\"Asset\": \"fake2\", \"ROI\": 3.728919007191709e+108}, {\"Asset\": \"fake2\", \"ROI\": 1.5604755495173026e+110}, {\"Asset\": \"fake2\", \"ROI\": 5.706607411803257e+111}, {\"Asset\": \"fake2\", \"ROI\": 3.3835080302130856e+113}, {\"Asset\": \"fake2\", \"ROI\": 1.7411878840576657e+114}, {\"Asset\": \"fake2\", \"ROI\": 3.794792949024001e+115}, {\"Asset\": \"fake2\", \"ROI\": -2.257409544338214e+116}, {\"Asset\": \"fake2\", \"ROI\": -1.269542771262382e+118}, {\"Asset\": \"fake2\", \"ROI\": 2.7489804444637928e+119}, {\"Asset\": \"fake2\", \"ROI\": 1.353660286299837e+121}, {\"Asset\": \"fake2\", \"ROI\": 9.540621535861789e+122}, {\"Asset\": \"fake2\", \"ROI\": 9.327208253642218e+124}, {\"Asset\": \"fake2\", \"ROI\": 5.552543876246744e+126}, {\"Asset\": \"fake2\", \"ROI\": -2.6410120706316424e+128}, {\"Asset\": \"fake2\", \"ROI\": -2.588171378483858e+130}, {\"Asset\": \"fake2\", \"ROI\": -6.064482306170578e+131}, {\"Asset\": \"fake2\", \"ROI\": -5.961397393343849e+133}, {\"Asset\": \"fake2\", \"ROI\": 1.0093088527697124e+135}, {\"Asset\": \"fake2\", \"ROI\": 1.0486141846608975e+136}, {\"Asset\": \"fake2\", \"ROI\": 6.428737075478917e+137}, {\"Asset\": \"fake2\", \"ROI\": 2.494246388459509e+139}, {\"Asset\": \"fake2\", \"ROI\": -1.2216262673899109e+141}, {\"Asset\": \"fake2\", \"ROI\": -1.1625295453461472e+143}, {\"Asset\": \"fake2\", \"ROI\": -8.176238698649117e+144}, {\"Asset\": \"fake3\", \"ROI\": -32.255690147601086}, {\"Asset\": \"fake3\", \"ROI\": -2403.403106181128}, {\"Asset\": \"fake3\", \"ROI\": 19688.38141507503}, {\"Asset\": \"fake3\", \"ROI\": 1196079.9645880417}, {\"Asset\": \"fake3\", \"ROI\": -17699004.082323}, {\"Asset\": \"fake3\", \"ROI\": 777988112.3058023}, {\"Asset\": \"fake3\", \"ROI\": 30684345296.947456}, {\"Asset\": \"fake3\", \"ROI\": 2862853526426.2046}, {\"Asset\": \"fake3\", \"ROI\": -60853646477236.6}, {\"Asset\": \"fake3\", \"ROI\": -2086863914540122.8}, {\"Asset\": \"fake3\", \"ROI\": -1.7043158683187427e+17}, {\"Asset\": \"fake3\", \"ROI\": -5.185321313422917e+18}, {\"Asset\": \"fake3\", \"ROI\": -3.109540028409058e+20}, {\"Asset\": \"fake3\", \"ROI\": 5.911032858419966e+21}, {\"Asset\": \"fake3\", \"ROI\": 1.478257826608194e+23}, {\"Asset\": \"fake3\", \"ROI\": -2.181826719678394e+24}, {\"Asset\": \"fake3\", \"ROI\": -2.0966127336385373e+26}, {\"Asset\": \"fake3\", \"ROI\": 8.927611566832628e+27}, {\"Asset\": \"fake3\", \"ROI\": 6.27180844972722e+29}, {\"Asset\": \"fake3\", \"ROI\": 5.050885392739172e+31}, {\"Asset\": \"fake3\", \"ROI\": 4.127907208002028e+33}, {\"Asset\": \"fake3\", \"ROI\": 2.5041582883431897e+34}, {\"Asset\": \"fake3\", \"ROI\": -4.2152096512319964e+35}, {\"Asset\": \"fake3\", \"ROI\": 1.658569167865138e+37}, {\"Asset\": \"fake3\", \"ROI\": 6.629724518774116e+38}, {\"Asset\": \"fake3\", \"ROI\": 3.824100599964112e+40}, {\"Asset\": \"fake3\", \"ROI\": 3.0070068232190154e+42}, {\"Asset\": \"fake3\", \"ROI\": 2.747048304041273e+44}, {\"Asset\": \"fake3\", \"ROI\": -4.796500719774813e+45}, {\"Asset\": \"fake3\", \"ROI\": -7.22066369801006e+46}, {\"Asset\": \"fake3\", \"ROI\": 2.8710343490082713e+48}, {\"Asset\": \"fake3\", \"ROI\": 7.667977203249585e+48}, {\"Asset\": \"fake3\", \"ROI\": 4.2023566556372275e+50}, {\"Asset\": \"fake3\", \"ROI\": 6.190804308876824e+51}, {\"Asset\": \"fake3\", \"ROI\": 3.106941873373325e+53}, {\"Asset\": \"fake3\", \"ROI\": 1.5277092719739515e+55}, {\"Asset\": \"fake3\", \"ROI\": 1.700817042719715e+56}, {\"Asset\": \"fake3\", \"ROI\": 1.1176896880023802e+58}, {\"Asset\": \"fake3\", \"ROI\": 1.5145647416799507e+59}, {\"Asset\": \"fake3\", \"ROI\": 1.523645061343509e+61}, {\"Asset\": \"fake3\", \"ROI\": 3.8600252206946145e+61}, {\"Asset\": \"fake3\", \"ROI\": -3.2352062393499216e+62}, {\"Asset\": \"fake3\", \"ROI\": -1.6004961399895538e+64}, {\"Asset\": \"fake3\", \"ROI\": -7.137437473639911e+65}, {\"Asset\": \"fake3\", \"ROI\": -4.651904517119752e+67}, {\"Asset\": \"fake3\", \"ROI\": -4.022571953794568e+69}, {\"Asset\": \"fake3\", \"ROI\": -3.2200181683838877e+71}, {\"Asset\": \"fake3\", \"ROI\": 1.3598244519854331e+73}, {\"Asset\": \"fake3\", \"ROI\": 8.09368936002389e+74}, {\"Asset\": \"fake3\", \"ROI\": -2.0181246487509947e+75}, {\"Asset\": \"fake3\", \"ROI\": -4.634667751389358e+75}, {\"Asset\": \"fake3\", \"ROI\": -2.953942463082852e+77}, {\"Asset\": \"fake3\", \"ROI\": 3.581926290400531e+78}, {\"Asset\": \"fake3\", \"ROI\": 1.3116956108652375e+80}, {\"Asset\": \"fake3\", \"ROI\": 1.1640567213606717e+82}, {\"Asset\": \"fake3\", \"ROI\": 6.835670758005011e+83}, {\"Asset\": \"fake3\", \"ROI\": 5.9780338100760506e+85}, {\"Asset\": \"fake3\", \"ROI\": -2.6051634535716685e+87}, {\"Asset\": \"fake3\", \"ROI\": 1.2235287780246164e+89}, {\"Asset\": \"fake3\", \"ROI\": -2.6119137653326674e+90}, {\"Asset\": \"fake3\", \"ROI\": 3.1346023418335237e+91}, {\"Asset\": \"fake3\", \"ROI\": -1.4648926943268377e+93}, {\"Asset\": \"fake3\", \"ROI\": -6.323118132743472e+94}, {\"Asset\": \"fake3\", \"ROI\": -2.597980675327199e+96}, {\"Asset\": \"fake3\", \"ROI\": -1.8561763086380665e+98}, {\"Asset\": \"fake3\", \"ROI\": -4.470062278075731e+99}, {\"Asset\": \"fake3\", \"ROI\": -3.117737918915499e+101}, {\"Asset\": \"fake3\", \"ROI\": -1.122917031035206e+102}, {\"Asset\": \"fake3\", \"ROI\": 3.0051835890940845e+103}, {\"Asset\": \"fake3\", \"ROI\": 6.174183175947038e+104}, {\"Asset\": \"fake3\", \"ROI\": 1.2011682926883747e+106}, {\"Asset\": \"fake3\", \"ROI\": 3.414362079352153e+107}, {\"Asset\": \"fake3\", \"ROI\": 7.732826533196086e+108}, {\"Asset\": \"fake3\", \"ROI\": 6.387941686069443e+110}, {\"Asset\": \"fake3\", \"ROI\": 5.007026289535331e+112}, {\"Asset\": \"fake3\", \"ROI\": 1.3721738131950779e+114}, {\"Asset\": \"fake3\", \"ROI\": 1.7160880717610983e+115}, {\"Asset\": \"fake3\", \"ROI\": 1.398076580123624e+117}, {\"Asset\": \"fake3\", \"ROI\": 5.187836891648134e+117}, {\"Asset\": \"fake3\", \"ROI\": 2.0162103155397022e+119}, {\"Asset\": \"fake3\", \"ROI\": 1.8368225690324024e+121}, {\"Asset\": \"fake3\", \"ROI\": -3.976973322750087e+122}, {\"Asset\": \"fake3\", \"ROI\": -2.259037745543357e+124}, {\"Asset\": \"fake3\", \"ROI\": -8.273576063948937e+125}, {\"Asset\": \"fake3\", \"ROI\": 3.793838782482533e+127}, {\"Asset\": \"fake3\", \"ROI\": 7.893833304248131e+128}, {\"Asset\": \"fake3\", \"ROI\": 1.9693220062712183e+130}, {\"Asset\": \"fake3\", \"ROI\": 9.38014675850803e+131}, {\"Asset\": \"fake3\", \"ROI\": 7.222579406319412e+133}, {\"Asset\": \"fake3\", \"ROI\": 4.854626619635945e+135}, {\"Asset\": \"fake3\", \"ROI\": 3.168438166431471e+137}, {\"Asset\": \"fake3\", \"ROI\": 2.0896566825385345e+139}, {\"Asset\": \"fake3\", \"ROI\": -2.7505762630259563e+140}, {\"Asset\": \"fake3\", \"ROI\": -1.4200597409152654e+142}, {\"Asset\": \"fake3\", \"ROI\": -8.687726523009866e+143}, {\"Asset\": \"fake3\", \"ROI\": -5.930893788543936e+145}, {\"Asset\": \"fake3\", \"ROI\": -5.853331948683718e+147}, {\"Asset\": \"fake3\", \"ROI\": 6.920727225301745e+148}, {\"Asset\": \"fake3\", \"ROI\": -3.315228244058721e+149}, {\"Asset\": \"fake3\", \"ROI\": 1.0471261661757123e+151}], \"data-f70a905245c7c5466a1fee4fc97ffe32\": [{\"Asset\": \"fake1\", \"Initial Investment\": 10000}, {\"Asset\": \"fake2\", \"Initial Investment\": 10000}, {\"Asset\": \"fake3\", \"Initial Investment\": 10000}]}}, {\"mode\": \"vega-lite\"});\n",
       "</script>"
      ],
      "text/plain": [
       "alt.LayerChart(...)"
      ]
     },
     "execution_count": 31,
     "metadata": {},
     "output_type": "execute_result"
    }
   ],
   "source": [
    "roi_chart(user_cr)"
   ]
  },
  {
   "cell_type": "code",
   "execution_count": null,
   "metadata": {},
   "outputs": [],
   "source": []
  }
 ],
 "metadata": {
  "kernelspec": {
   "display_name": "ucbenv",
   "language": "python",
   "name": "python3"
  },
  "language_info": {
   "codemirror_mode": {
    "name": "ipython",
    "version": 3
   },
   "file_extension": ".py",
   "mimetype": "text/x-python",
   "name": "python",
   "nbconvert_exporter": "python",
   "pygments_lexer": "ipython3",
   "version": "3.10.4"
  }
 },
 "nbformat": 4,
 "nbformat_minor": 2
}
