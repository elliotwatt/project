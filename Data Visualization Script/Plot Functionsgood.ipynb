{
 "cells": [
  {
   "cell_type": "code",
   "execution_count": 1,
   "metadata": {},
   "outputs": [],
   "source": [
    "import pandas as pd\n",
    "import numpy as np\n",
    "pd.options.display.float_format = '{:.2f}'.format\n",
    "import seaborn as sns\n",
    "import matplotlib.pyplot as plt\n",
    "import hvplot as hvp\n",
    "import datetime\n",
    "import altair as alt\n",
    "import seaborn as sns"
   ]
  },
  {
   "cell_type": "markdown",
   "metadata": {},
   "source": [
    "### DataFrame for Drawdown"
   ]
  },
  {
   "cell_type": "code",
   "execution_count": 2,
   "metadata": {},
   "outputs": [],
   "source": [
    "# Creating a range of dates\n",
    "start_date = datetime.datetime(2018, 1, 1)\n",
    "end_date = datetime.datetime(2023, 12, 31)\n",
    "date_range = pd.date_range(start_date, end_date, freq='D')\n",
    "# Dates df\n",
    "dates_df = pd.DataFrame(date_range, columns=['Date'])\n",
    "#print(dates_df.head(1825))\n",
    "\n",
    "# Creating a range of random \"prices\"\n",
    "portfolio_df = pd.DataFrame(\n",
    "    {\n",
    "    \"fake1\": np.random.uniform(1000, -500, 100),\n",
    "    \"fake2\": np.random.uniform(1000, -500, 100),\n",
    "    \"fake3\": np.random.uniform(1000, -500, 100)\n",
    "    }\n",
    "    )\n",
    "f1_portfolio_df = portfolio_df[\"fake1\"].to_frame()\n",
    "\n",
    "# Concatinating and finalizing test data\n",
    "returns = pd.concat([dates_df, portfolio_df], join = \"inner\", axis = 1)\n",
    "returns.set_index('Date', inplace = True)\n",
    "returns = pd.DataFrame(returns)\n",
    "returns = returns.reset_index().rename(columns={'Date': 'date'})\n",
    "returns.set_index('date', inplace = True)"
   ]
  },
  {
   "cell_type": "markdown",
   "metadata": {},
   "source": [
    "### Data Frame for Portfolio Pie Chart"
   ]
  },
  {
   "cell_type": "code",
   "execution_count": 3,
   "metadata": {},
   "outputs": [],
   "source": [
    "# Creating DataFrame for Bitcoin\n",
    "btc_portfolio_df = pd.DataFrame({\n",
    "    'stock': ['BTC:USD'],\n",
    "    'position_size': np.random.uniform(10, 150, size = 1)\n",
    "})\n",
    "\n",
    "# Creating DataFrame for Stocks\n",
    "stock_portfolio_df = pd.DataFrame({\n",
    "    'stock': ['AMC', 'VSCO', 'TSLA', 'GOOGL'],\n",
    "    'position_size': np.random.uniform(1000, 10000, 4)  # for 5 stocks\n",
    "})\n",
    "\n",
    "# Combining DataFrames\n",
    "size_portfolio_df = pd.concat([btc_portfolio_df, stock_portfolio_df], axis = 0).reset_index(drop = True)\n",
    "\n",
    "# Renaming stock column to securities\n",
    "size_portfolio_df = size_portfolio_df.rename(columns = {'stock' : 'securities'})"
   ]
  },
  {
   "cell_type": "markdown",
   "metadata": {},
   "source": [
    "### Portfolio Pie Chart Function"
   ]
  },
  {
   "cell_type": "code",
   "execution_count": 4,
   "metadata": {},
   "outputs": [],
   "source": [
    "# Defining Portfolio pie chart function\n",
    "def portfolio_piechart (holdings, size):\n",
    "    selection = alt.selection_single()\n",
    "    pie_chart = alt.Chart(size_portfolio_df).mark_arc(innerRadius=50).encode(\n",
    "        theta = alt.Theta(field = 'position_size', type = 'quantitative'),\n",
    "        color = alt.Color(field = 'securities', type = 'nominal'),\n",
    "        tooltip=['securities', 'position_size']\n",
    "    )\n",
    "    return pie_chart"
   ]
  },
  {
   "cell_type": "markdown",
   "metadata": {},
   "source": [
    "### Portfolio Pie Chart"
   ]
  },
  {
   "cell_type": "code",
   "execution_count": 5,
   "metadata": {},
   "outputs": [
    {
     "name": "stderr",
     "output_type": "stream",
     "text": [
      "/Library/Frameworks/Python.framework/Versions/3.10/lib/python3.10/site-packages/altair/utils/deprecation.py:65: AltairDeprecationWarning: 'selection_single' is deprecated.  Use 'selection_point'\n",
      "  warnings.warn(message, AltairDeprecationWarning, stacklevel=1)\n"
     ]
    },
    {
     "data": {
      "text/html": [
       "\n",
       "<style>\n",
       "  #altair-viz-29a79a0cb99749029c9b59607330b45d.vega-embed {\n",
       "    width: 100%;\n",
       "    display: flex;\n",
       "  }\n",
       "\n",
       "  #altair-viz-29a79a0cb99749029c9b59607330b45d.vega-embed details,\n",
       "  #altair-viz-29a79a0cb99749029c9b59607330b45d.vega-embed details summary {\n",
       "    position: relative;\n",
       "  }\n",
       "</style>\n",
       "<div id=\"altair-viz-29a79a0cb99749029c9b59607330b45d\"></div>\n",
       "<script type=\"text/javascript\">\n",
       "  var VEGA_DEBUG = (typeof VEGA_DEBUG == \"undefined\") ? {} : VEGA_DEBUG;\n",
       "  (function(spec, embedOpt){\n",
       "    let outputDiv = document.currentScript.previousElementSibling;\n",
       "    if (outputDiv.id !== \"altair-viz-29a79a0cb99749029c9b59607330b45d\") {\n",
       "      outputDiv = document.getElementById(\"altair-viz-29a79a0cb99749029c9b59607330b45d\");\n",
       "    }\n",
       "    const paths = {\n",
       "      \"vega\": \"https://cdn.jsdelivr.net/npm/vega@5?noext\",\n",
       "      \"vega-lib\": \"https://cdn.jsdelivr.net/npm/vega-lib?noext\",\n",
       "      \"vega-lite\": \"https://cdn.jsdelivr.net/npm/vega-lite@5.15.1?noext\",\n",
       "      \"vega-embed\": \"https://cdn.jsdelivr.net/npm/vega-embed@6?noext\",\n",
       "    };\n",
       "\n",
       "    function maybeLoadScript(lib, version) {\n",
       "      var key = `${lib.replace(\"-\", \"\")}_version`;\n",
       "      return (VEGA_DEBUG[key] == version) ?\n",
       "        Promise.resolve(paths[lib]) :\n",
       "        new Promise(function(resolve, reject) {\n",
       "          var s = document.createElement('script');\n",
       "          document.getElementsByTagName(\"head\")[0].appendChild(s);\n",
       "          s.async = true;\n",
       "          s.onload = () => {\n",
       "            VEGA_DEBUG[key] = version;\n",
       "            return resolve(paths[lib]);\n",
       "          };\n",
       "          s.onerror = () => reject(`Error loading script: ${paths[lib]}`);\n",
       "          s.src = paths[lib];\n",
       "        });\n",
       "    }\n",
       "\n",
       "    function showError(err) {\n",
       "      outputDiv.innerHTML = `<div class=\"error\" style=\"color:red;\">${err}</div>`;\n",
       "      throw err;\n",
       "    }\n",
       "\n",
       "    function displayChart(vegaEmbed) {\n",
       "      vegaEmbed(outputDiv, spec, embedOpt)\n",
       "        .catch(err => showError(`Javascript Error: ${err.message}<br>This usually means there's a typo in your chart specification. See the javascript console for the full traceback.`));\n",
       "    }\n",
       "\n",
       "    if(typeof define === \"function\" && define.amd) {\n",
       "      requirejs.config({paths});\n",
       "      require([\"vega-embed\"], displayChart, err => showError(`Error loading script: ${err.message}`));\n",
       "    } else {\n",
       "      maybeLoadScript(\"vega\", \"5\")\n",
       "        .then(() => maybeLoadScript(\"vega-lite\", \"5.15.1\"))\n",
       "        .then(() => maybeLoadScript(\"vega-embed\", \"6\"))\n",
       "        .catch(showError)\n",
       "        .then(() => displayChart(vegaEmbed));\n",
       "    }\n",
       "  })({\"config\": {\"view\": {\"continuousWidth\": 300, \"continuousHeight\": 300}}, \"data\": {\"name\": \"data-43c7d492dbaf8460ca310952c4dff70c\"}, \"mark\": {\"type\": \"arc\", \"innerRadius\": 50}, \"encoding\": {\"color\": {\"field\": \"securities\", \"type\": \"nominal\"}, \"theta\": {\"field\": \"position_size\", \"type\": \"quantitative\"}, \"tooltip\": [{\"field\": \"securities\", \"type\": \"nominal\"}, {\"field\": \"position_size\", \"type\": \"quantitative\"}]}, \"$schema\": \"https://vega.github.io/schema/vega-lite/v5.15.1.json\", \"datasets\": {\"data-43c7d492dbaf8460ca310952c4dff70c\": [{\"securities\": \"BTC:USD\", \"position_size\": 112.08278074630792}, {\"securities\": \"AMC\", \"position_size\": 1724.8110532448154}, {\"securities\": \"VSCO\", \"position_size\": 3406.215536369299}, {\"securities\": \"TSLA\", \"position_size\": 9872.877208729622}, {\"securities\": \"GOOGL\", \"position_size\": 8468.718812897925}]}}, {\"mode\": \"vega-lite\"});\n",
       "</script>"
      ],
      "text/plain": [
       "alt.Chart(...)"
      ]
     },
     "execution_count": 5,
     "metadata": {},
     "output_type": "execute_result"
    }
   ],
   "source": [
    "one = size_portfolio_df['securities']\n",
    "two = size_portfolio_df['position_size']\n",
    "user_in_holdings = portfolio_piechart(one, two)\n",
    "user_in_holdings"
   ]
  },
  {
   "cell_type": "code",
   "execution_count": 6,
   "metadata": {},
   "outputs": [],
   "source": [
    "initial_investment = 10000"
   ]
  },
  {
   "cell_type": "code",
   "execution_count": 7,
   "metadata": {},
   "outputs": [],
   "source": [
    "def cumulative_returns(df):\n",
    "    return (1 + df).cumprod()"
   ]
  },
  {
   "cell_type": "code",
   "execution_count": 8,
   "metadata": {},
   "outputs": [
    {
     "data": {
      "text/html": [
       "<div>\n",
       "<style scoped>\n",
       "    .dataframe tbody tr th:only-of-type {\n",
       "        vertical-align: middle;\n",
       "    }\n",
       "\n",
       "    .dataframe tbody tr th {\n",
       "        vertical-align: top;\n",
       "    }\n",
       "\n",
       "    .dataframe thead th {\n",
       "        text-align: right;\n",
       "    }\n",
       "</style>\n",
       "<table border=\"1\" class=\"dataframe\">\n",
       "  <thead>\n",
       "    <tr style=\"text-align: right;\">\n",
       "      <th></th>\n",
       "      <th>fake1</th>\n",
       "      <th>fake2</th>\n",
       "      <th>fake3</th>\n",
       "    </tr>\n",
       "  </thead>\n",
       "  <tbody>\n",
       "    <tr>\n",
       "      <th>0</th>\n",
       "      <td>-135.89</td>\n",
       "      <td>705.10</td>\n",
       "      <td>640.62</td>\n",
       "    </tr>\n",
       "    <tr>\n",
       "      <th>1</th>\n",
       "      <td>-80726.33</td>\n",
       "      <td>19971.65</td>\n",
       "      <td>170370.99</td>\n",
       "    </tr>\n",
       "    <tr>\n",
       "      <th>2</th>\n",
       "      <td>-37443929.75</td>\n",
       "      <td>14759436.89</td>\n",
       "      <td>-13231.25</td>\n",
       "    </tr>\n",
       "    <tr>\n",
       "      <th>3</th>\n",
       "      <td>6027217523.35</td>\n",
       "      <td>9445706506.40</td>\n",
       "      <td>989537.11</td>\n",
       "    </tr>\n",
       "    <tr>\n",
       "      <th>4</th>\n",
       "      <td>1309930597665.32</td>\n",
       "      <td>736496840439.65</td>\n",
       "      <td>-235210997.44</td>\n",
       "    </tr>\n",
       "    <tr>\n",
       "      <th>...</th>\n",
       "      <td>...</td>\n",
       "      <td>...</td>\n",
       "      <td>...</td>\n",
       "    </tr>\n",
       "    <tr>\n",
       "      <th>95</th>\n",
       "      <td>-1373370543460402500555530064617655452378433984...</td>\n",
       "      <td>-2162356010649305493990049589565027705342404278...</td>\n",
       "      <td>-1506423872740697538596604252817618537453543155...</td>\n",
       "    </tr>\n",
       "    <tr>\n",
       "      <th>96</th>\n",
       "      <td>-5848523490661315328286849571893596896251911338...</td>\n",
       "      <td>64097529628278542208283764535611381430960450131...</td>\n",
       "      <td>18508692806027938781502175852445660823658550698...</td>\n",
       "    </tr>\n",
       "    <tr>\n",
       "      <th>97</th>\n",
       "      <td>-1667138695252075872870948924275306949947279363...</td>\n",
       "      <td>53214654516177641126291439690745987743444931104...</td>\n",
       "      <td>35118940152444541201109131219545796903811445981...</td>\n",
       "    </tr>\n",
       "    <tr>\n",
       "      <th>98</th>\n",
       "      <td>22539072695639665607791649646816445875122548795...</td>\n",
       "      <td>13665220203770980731375387424876289786054748010...</td>\n",
       "      <td>23285246419080999005526007692217860176186904581...</td>\n",
       "    </tr>\n",
       "    <tr>\n",
       "      <th>99</th>\n",
       "      <td>-8058638572676855058006675554047387615205888416...</td>\n",
       "      <td>-6191419888653044082370881472869128481661814348...</td>\n",
       "      <td>-1154475494191219198510146829478282121251175658...</td>\n",
       "    </tr>\n",
       "  </tbody>\n",
       "</table>\n",
       "<p>100 rows × 3 columns</p>\n",
       "</div>"
      ],
      "text/plain": [
       "                                                fake1  \\\n",
       "0                                             -135.89   \n",
       "1                                           -80726.33   \n",
       "2                                        -37443929.75   \n",
       "3                                       6027217523.35   \n",
       "4                                    1309930597665.32   \n",
       "..                                                ...   \n",
       "95 -1373370543460402500555530064617655452378433984...   \n",
       "96 -5848523490661315328286849571893596896251911338...   \n",
       "97 -1667138695252075872870948924275306949947279363...   \n",
       "98 22539072695639665607791649646816445875122548795...   \n",
       "99 -8058638572676855058006675554047387615205888416...   \n",
       "\n",
       "                                                fake2  \\\n",
       "0                                              705.10   \n",
       "1                                            19971.65   \n",
       "2                                         14759436.89   \n",
       "3                                       9445706506.40   \n",
       "4                                     736496840439.65   \n",
       "..                                                ...   \n",
       "95 -2162356010649305493990049589565027705342404278...   \n",
       "96 64097529628278542208283764535611381430960450131...   \n",
       "97 53214654516177641126291439690745987743444931104...   \n",
       "98 13665220203770980731375387424876289786054748010...   \n",
       "99 -6191419888653044082370881472869128481661814348...   \n",
       "\n",
       "                                                fake3  \n",
       "0                                              640.62  \n",
       "1                                           170370.99  \n",
       "2                                           -13231.25  \n",
       "3                                           989537.11  \n",
       "4                                       -235210997.44  \n",
       "..                                                ...  \n",
       "95 -1506423872740697538596604252817618537453543155...  \n",
       "96 18508692806027938781502175852445660823658550698...  \n",
       "97 35118940152444541201109131219545796903811445981...  \n",
       "98 23285246419080999005526007692217860176186904581...  \n",
       "99 -1154475494191219198510146829478282121251175658...  \n",
       "\n",
       "[100 rows x 3 columns]"
      ]
     },
     "execution_count": 8,
     "metadata": {},
     "output_type": "execute_result"
    }
   ],
   "source": [
    "user_cr = cumulative_returns(portfolio_df)\n",
    "user_cr"
   ]
  },
  {
   "cell_type": "markdown",
   "metadata": {},
   "source": [
    "### Correlation"
   ]
  },
  {
   "cell_type": "code",
   "execution_count": 9,
   "metadata": {},
   "outputs": [
    {
     "data": {
      "text/html": [
       "<div>\n",
       "<style scoped>\n",
       "    .dataframe tbody tr th:only-of-type {\n",
       "        vertical-align: middle;\n",
       "    }\n",
       "\n",
       "    .dataframe tbody tr th {\n",
       "        vertical-align: top;\n",
       "    }\n",
       "\n",
       "    .dataframe thead th {\n",
       "        text-align: right;\n",
       "    }\n",
       "</style>\n",
       "<table border=\"1\" class=\"dataframe\">\n",
       "  <thead>\n",
       "    <tr style=\"text-align: right;\">\n",
       "      <th></th>\n",
       "      <th>fake1</th>\n",
       "      <th>fake2</th>\n",
       "      <th>fake3</th>\n",
       "    </tr>\n",
       "  </thead>\n",
       "  <tbody>\n",
       "    <tr>\n",
       "      <th>fake1</th>\n",
       "      <td>1.00</td>\n",
       "      <td>-0.06</td>\n",
       "      <td>0.19</td>\n",
       "    </tr>\n",
       "    <tr>\n",
       "      <th>fake2</th>\n",
       "      <td>-0.06</td>\n",
       "      <td>1.00</td>\n",
       "      <td>0.05</td>\n",
       "    </tr>\n",
       "    <tr>\n",
       "      <th>fake3</th>\n",
       "      <td>0.19</td>\n",
       "      <td>0.05</td>\n",
       "      <td>1.00</td>\n",
       "    </tr>\n",
       "  </tbody>\n",
       "</table>\n",
       "</div>"
      ],
      "text/plain": [
       "       fake1  fake2  fake3\n",
       "fake1   1.00  -0.06   0.19\n",
       "fake2  -0.06   1.00   0.05\n",
       "fake3   0.19   0.05   1.00"
      ]
     },
     "execution_count": 9,
     "metadata": {},
     "output_type": "execute_result"
    }
   ],
   "source": [
    "returns_cor = returns.corr()\n",
    "returns_cor"
   ]
  },
  {
   "cell_type": "markdown",
   "metadata": {},
   "source": [
    "### Correlation Plot Function"
   ]
  },
  {
   "cell_type": "code",
   "execution_count": 63,
   "metadata": {},
   "outputs": [],
   "source": [
    "#In the works\n",
    "# def correlation_chart(returns):\n",
    "#     returns_cor = returns.corr()\n",
    "#     corr_chart= sns.heatmap(returns_cor, vmin=-1 , vmax = 1)\n",
    "#     return corr_chart\n",
    "\n",
    "def correlation_chart(df, quant_x,  quant_y):\n",
    "    corr_chart = alt.Chart(df).mark_circle(size = 60).encode(\n",
    "        x=alt.X(f'{quant_x}:Q', title = \"Asset_1\"),\n",
    "        y=alt.Y(f'{quant_y}:Q', title = \"Asset_2\"),\n",
    "        tooltip= [quant_x, quant_y]\n",
    "    ).interactive()\n",
    "    return returns_cor"
   ]
  },
  {
   "cell_type": "markdown",
   "metadata": {},
   "source": [
    "### Correlation Chart"
   ]
  },
  {
   "cell_type": "code",
   "execution_count": 64,
   "metadata": {},
   "outputs": [
    {
     "data": {
      "text/plain": [
       "<function __main__.correlation_chart(df, quant_x, quant_y)>"
      ]
     },
     "execution_count": 64,
     "metadata": {},
     "output_type": "execute_result"
    }
   ],
   "source": [
    "correlation_chart(returns, 'fake1', 'fake2')\n",
    "correlation_chart"
   ]
  },
  {
   "cell_type": "markdown",
   "metadata": {},
   "source": [
    "### Covariance"
   ]
  },
  {
   "cell_type": "code",
   "execution_count": 12,
   "metadata": {},
   "outputs": [],
   "source": [
    "def covariance(df, ticker, market):\n",
    "    return df[ticker].cov(df[market])"
   ]
  },
  {
   "cell_type": "code",
   "execution_count": 13,
   "metadata": {},
   "outputs": [
    {
     "data": {
      "text/plain": [
       "9462.50408220147"
      ]
     },
     "execution_count": 13,
     "metadata": {},
     "output_type": "execute_result"
    }
   ],
   "source": [
    "user_covariance = covariance(portfolio_df, 'fake2', 'fake3')\n",
    "user_covariance"
   ]
  },
  {
   "cell_type": "markdown",
   "metadata": {},
   "source": [
    "### Variance"
   ]
  },
  {
   "cell_type": "code",
   "execution_count": 14,
   "metadata": {},
   "outputs": [],
   "source": [
    "def variance(df, market):\n",
    "    return df[market].var()"
   ]
  },
  {
   "cell_type": "code",
   "execution_count": 15,
   "metadata": {},
   "outputs": [
    {
     "data": {
      "text/plain": [
       "186145.82437766952"
      ]
     },
     "execution_count": 15,
     "metadata": {},
     "output_type": "execute_result"
    }
   ],
   "source": [
    "user_variance = variance(portfolio_df, 'fake3')\n",
    "user_variance"
   ]
  },
  {
   "cell_type": "markdown",
   "metadata": {},
   "source": [
    "### Drawdown"
   ]
  },
  {
   "cell_type": "code",
   "execution_count": 16,
   "metadata": {},
   "outputs": [],
   "source": [
    "def drawdown(df, tickers):\n",
    "    Roll_Max = df[tickers].cummax()\n",
    "    Daily_Drawdown = df[tickers]/Roll_Max - 1.0\n",
    "    Max_Daily_Drawdown = Daily_Drawdown.cummin() * 100"
   ]
  },
  {
   "cell_type": "code",
   "execution_count": 17,
   "metadata": {},
   "outputs": [],
   "source": [
    "user_drawdown = drawdown(portfolio_df, 'fake1')\n",
    "user_drawdown"
   ]
  },
  {
   "cell_type": "markdown",
   "metadata": {},
   "source": [
    "### Drawdown Chart Function"
   ]
  },
  {
   "cell_type": "code",
   "execution_count": 18,
   "metadata": {},
   "outputs": [],
   "source": [
    "def drawdown_chart(df, date, quant):\n",
    "    '''\n",
    "    df: dataframe\n",
    "    date: str: should be a date column name\n",
    "    quant: str: should be a quantitative data type\n",
    "    '''\n",
    "    chart = alt.Chart(df.reset_index()).mark_bar().encode(\n",
    "        x = date + ':T',  # T specifies temporal data type for x-axis\n",
    "        y = quant + ':Q',  # Q specifies a quantitative data type for y-axis\n",
    "        color = alt.condition(\n",
    "            getattr(alt.datum, quant) > 0,\n",
    "            alt.value(\"Green\"),  # The positive color\n",
    "            alt.value(\"red\")\n",
    "    ), tooltip= [date + ':T', quant + ':Q']\n",
    "    ).properties(width=800)\n",
    "    chart = chart.interactive()\n",
    "    return chart"
   ]
  },
  {
   "cell_type": "code",
   "execution_count": 19,
   "metadata": {},
   "outputs": [
    {
     "data": {
      "text/html": [
       "\n",
       "<style>\n",
       "  #altair-viz-99813524f92f47e2b3388e9f5442e886.vega-embed {\n",
       "    width: 100%;\n",
       "    display: flex;\n",
       "  }\n",
       "\n",
       "  #altair-viz-99813524f92f47e2b3388e9f5442e886.vega-embed details,\n",
       "  #altair-viz-99813524f92f47e2b3388e9f5442e886.vega-embed details summary {\n",
       "    position: relative;\n",
       "  }\n",
       "</style>\n",
       "<div id=\"altair-viz-99813524f92f47e2b3388e9f5442e886\"></div>\n",
       "<script type=\"text/javascript\">\n",
       "  var VEGA_DEBUG = (typeof VEGA_DEBUG == \"undefined\") ? {} : VEGA_DEBUG;\n",
       "  (function(spec, embedOpt){\n",
       "    let outputDiv = document.currentScript.previousElementSibling;\n",
       "    if (outputDiv.id !== \"altair-viz-99813524f92f47e2b3388e9f5442e886\") {\n",
       "      outputDiv = document.getElementById(\"altair-viz-99813524f92f47e2b3388e9f5442e886\");\n",
       "    }\n",
       "    const paths = {\n",
       "      \"vega\": \"https://cdn.jsdelivr.net/npm/vega@5?noext\",\n",
       "      \"vega-lib\": \"https://cdn.jsdelivr.net/npm/vega-lib?noext\",\n",
       "      \"vega-lite\": \"https://cdn.jsdelivr.net/npm/vega-lite@5.15.1?noext\",\n",
       "      \"vega-embed\": \"https://cdn.jsdelivr.net/npm/vega-embed@6?noext\",\n",
       "    };\n",
       "\n",
       "    function maybeLoadScript(lib, version) {\n",
       "      var key = `${lib.replace(\"-\", \"\")}_version`;\n",
       "      return (VEGA_DEBUG[key] == version) ?\n",
       "        Promise.resolve(paths[lib]) :\n",
       "        new Promise(function(resolve, reject) {\n",
       "          var s = document.createElement('script');\n",
       "          document.getElementsByTagName(\"head\")[0].appendChild(s);\n",
       "          s.async = true;\n",
       "          s.onload = () => {\n",
       "            VEGA_DEBUG[key] = version;\n",
       "            return resolve(paths[lib]);\n",
       "          };\n",
       "          s.onerror = () => reject(`Error loading script: ${paths[lib]}`);\n",
       "          s.src = paths[lib];\n",
       "        });\n",
       "    }\n",
       "\n",
       "    function showError(err) {\n",
       "      outputDiv.innerHTML = `<div class=\"error\" style=\"color:red;\">${err}</div>`;\n",
       "      throw err;\n",
       "    }\n",
       "\n",
       "    function displayChart(vegaEmbed) {\n",
       "      vegaEmbed(outputDiv, spec, embedOpt)\n",
       "        .catch(err => showError(`Javascript Error: ${err.message}<br>This usually means there's a typo in your chart specification. See the javascript console for the full traceback.`));\n",
       "    }\n",
       "\n",
       "    if(typeof define === \"function\" && define.amd) {\n",
       "      requirejs.config({paths});\n",
       "      require([\"vega-embed\"], displayChart, err => showError(`Error loading script: ${err.message}`));\n",
       "    } else {\n",
       "      maybeLoadScript(\"vega\", \"5\")\n",
       "        .then(() => maybeLoadScript(\"vega-lite\", \"5.15.1\"))\n",
       "        .then(() => maybeLoadScript(\"vega-embed\", \"6\"))\n",
       "        .catch(showError)\n",
       "        .then(() => displayChart(vegaEmbed));\n",
       "    }\n",
       "  })({\"config\": {\"view\": {\"continuousWidth\": 300, \"continuousHeight\": 300}}, \"data\": {\"name\": \"data-f1e6310abb8fe26673d9f0c194b078a7\"}, \"mark\": {\"type\": \"bar\"}, \"encoding\": {\"color\": {\"condition\": {\"test\": \"(datum.fake1 > 0)\", \"value\": \"Green\"}, \"value\": \"red\"}, \"tooltip\": [{\"field\": \"date\", \"type\": \"temporal\"}, {\"field\": \"fake1\", \"type\": \"quantitative\"}], \"x\": {\"field\": \"date\", \"type\": \"temporal\"}, \"y\": {\"field\": \"fake1\", \"type\": \"quantitative\"}}, \"params\": [{\"name\": \"param_3\", \"select\": {\"type\": \"interval\", \"encodings\": [\"x\", \"y\"]}, \"bind\": \"scales\"}], \"width\": 800, \"$schema\": \"https://vega.github.io/schema/vega-lite/v5.15.1.json\", \"datasets\": {\"data-f1e6310abb8fe26673d9f0c194b078a7\": [{\"date\": \"2018-01-01T00:00:00\", \"fake1\": -136.88914034992808, \"fake2\": 704.1045547653039, \"fake3\": 639.6172040936874}, {\"date\": \"2018-01-02T00:00:00\", \"fake1\": 593.0602017645833, \"fake2\": 27.32437474191704, \"fake3\": 264.9481938630877}, {\"date\": \"2018-01-03T00:00:00\", \"fake1\": 462.83787901964934, \"fake2\": 738.0195656036201, \"fake3\": -1.0776613920155569}, {\"date\": \"2018-01-04T00:00:00\", \"fake1\": -161.96647877347914, \"fake2\": 638.9774313320254, \"fake3\": -75.78788856531833}, {\"date\": \"2018-01-05T00:00:00\", \"fake1\": 216.33587556604982, \"fake2\": 76.97159904772491, \"fake3\": -238.69800557988287}, {\"date\": \"2018-01-06T00:00:00\", \"fake1\": 319.737011399705, \"fake2\": 774.0451562901857, \"fake3\": 986.8176896114406}, {\"date\": \"2018-01-07T00:00:00\", \"fake1\": 455.9954399523332, \"fake2\": -272.5601039689757, \"fake3\": -120.67197274504474}, {\"date\": \"2018-01-08T00:00:00\", \"fake1\": -346.1263207128045, \"fake2\": 625.5333996517743, \"fake3\": -259.913876238443}, {\"date\": \"2018-01-09T00:00:00\", \"fake1\": 972.7960834340859, \"fake2\": -245.62382481204872, \"fake3\": 581.7068759084667}, {\"date\": \"2018-01-10T00:00:00\", \"fake1\": 103.90371392378177, \"fake2\": 186.95697518868792, \"fake3\": -227.5653813212291}, {\"date\": \"2018-01-11T00:00:00\", \"fake1\": -147.86260858630135, \"fake2\": -327.0226036803597, \"fake3\": 580.7308702082565}, {\"date\": \"2018-01-12T00:00:00\", \"fake1\": 91.63333266110305, \"fake2\": 684.8629467259352, \"fake3\": -108.0563585446098}, {\"date\": \"2018-01-13T00:00:00\", \"fake1\": 11.129540039076232, \"fake2\": 200.17458261609022, \"fake3\": 160.8263469868267}, {\"date\": \"2018-01-14T00:00:00\", \"fake1\": 183.91808682793578, \"fake2\": 693.297063091298, \"fake3\": -61.43110727903968}, {\"date\": \"2018-01-15T00:00:00\", \"fake1\": 420.92915238130195, \"fake2\": -303.2454297001593, \"fake3\": -110.38542333813757}, {\"date\": \"2018-01-16T00:00:00\", \"fake1\": 185.73520373544852, \"fake2\": -310.45613008136775, \"fake3\": 734.3885106937291}, {\"date\": \"2018-01-17T00:00:00\", \"fake1\": -462.15392268359506, \"fake2\": 351.07487296090426, \"fake3\": -45.820948736842865}, {\"date\": \"2018-01-18T00:00:00\", \"fake1\": -265.78744152621016, \"fake2\": 907.3039275215385, \"fake3\": 144.445033500239}, {\"date\": \"2018-01-19T00:00:00\", \"fake1\": -418.8782527388446, \"fake2\": -48.18039985720543, \"fake3\": -158.01790686614527}, {\"date\": \"2018-01-20T00:00:00\", \"fake1\": 477.62016785898504, \"fake2\": -224.73746360174232, \"fake3\": 313.7420268756048}, {\"date\": \"2018-01-21T00:00:00\", \"fake1\": 378.1829778567716, \"fake2\": -279.0089214682491, \"fake3\": 469.66769126772635}, {\"date\": \"2018-01-22T00:00:00\", \"fake1\": 756.9968406214712, \"fake2\": 284.7269801182497, \"fake3\": -436.61118559889064}, {\"date\": \"2018-01-23T00:00:00\", \"fake1\": -197.77149044616112, \"fake2\": 594.7410489150956, \"fake3\": 929.1753915830866}, {\"date\": \"2018-01-24T00:00:00\", \"fake1\": 879.7255769932069, \"fake2\": 450.60233128279424, \"fake3\": 177.5504630539598}, {\"date\": \"2018-01-25T00:00:00\", \"fake1\": 333.8279017977467, \"fake2\": -245.37072654208146, \"fake3\": 862.5109392668813}, {\"date\": \"2018-01-26T00:00:00\", \"fake1\": 10.081940142216695, \"fake2\": 43.35275538738438, \"fake3\": 105.79344949368306}, {\"date\": \"2018-01-27T00:00:00\", \"fake1\": 520.3657419560948, \"fake2\": 552.0314788282441, \"fake3\": 842.4812327614159}, {\"date\": \"2018-01-28T00:00:00\", \"fake1\": 666.5846817069576, \"fake2\": -147.8018989515681, \"fake3\": -55.02263938343481}, {\"date\": \"2018-01-29T00:00:00\", \"fake1\": 24.661996144873342, \"fake2\": 502.0156034737035, \"fake3\": 616.6500930540788}, {\"date\": \"2018-01-30T00:00:00\", \"fake1\": -191.77311857998188, \"fake2\": -378.5956477599507, \"fake3\": 350.1074985468541}, {\"date\": \"2018-01-31T00:00:00\", \"fake1\": -113.57209867216852, \"fake2\": -209.79369997718982, \"fake3\": 255.4713908460095}, {\"date\": \"2018-02-01T00:00:00\", \"fake1\": -117.4193825900611, \"fake2\": 614.8777563662056, \"fake3\": -171.46269969472928}, {\"date\": \"2018-02-02T00:00:00\", \"fake1\": -425.8532519008372, \"fake2\": 171.6490741481922, \"fake3\": -117.95188568553158}, {\"date\": \"2018-02-03T00:00:00\", \"fake1\": -324.51229381263374, \"fake2\": 502.28623962624056, \"fake3\": -7.365929951522844}, {\"date\": \"2018-02-04T00:00:00\", \"fake1\": 181.53546387095207, \"fake2\": 243.25088360041707, \"fake3\": 958.8073788975375}, {\"date\": \"2018-02-05T00:00:00\", \"fake1\": -53.710838876744674, \"fake2\": 266.77782928149054, \"fake3\": 676.5873637652958}, {\"date\": \"2018-02-06T00:00:00\", \"fake1\": 762.0496703116108, \"fake2\": 112.43543637962478, \"fake3\": 154.2271008469968}, {\"date\": \"2018-02-07T00:00:00\", \"fake1\": 982.6642970184866, \"fake2\": -387.4788461972871, \"fake3\": 228.63917134142832}, {\"date\": \"2018-02-08T00:00:00\", \"fake1\": 181.60121315949607, \"fake2\": -18.60310500726166, \"fake3\": -454.95078988539444}, {\"date\": \"2018-02-09T00:00:00\", \"fake1\": 858.6978582958542, \"fake2\": 553.7417298924238, \"fake3\": 852.6096765894516}, {\"date\": \"2018-02-10T00:00:00\", \"fake1\": -432.3484302011261, \"fake2\": -165.3051589332431, \"fake3\": 254.7888154145495}, {\"date\": \"2018-02-11T00:00:00\", \"fake1\": 197.62436586840522, \"fake2\": 850.0018210889442, \"fake3\": 835.2733858721241}, {\"date\": \"2018-02-12T00:00:00\", \"fake1\": -107.60053029189817, \"fake2\": 972.3620471265539, \"fake3\": -67.42358472483397}, {\"date\": \"2018-02-13T00:00:00\", \"fake1\": 796.6196672594785, \"fake2\": 476.82728394925005, \"fake3\": -343.3942500890205}, {\"date\": \"2018-02-14T00:00:00\", \"fake1\": -129.82244595720772, \"fake2\": 21.288196703200924, \"fake3\": 219.78915581534523}, {\"date\": \"2018-02-15T00:00:00\", \"fake1\": 300.5919909365248, \"fake2\": 824.7019494251484, \"fake3\": -101.5767049542028}, {\"date\": \"2018-02-16T00:00:00\", \"fake1\": -286.4548931746301, \"fake2\": 363.1397997799403, \"fake3\": 832.2640973356524}, {\"date\": \"2018-02-17T00:00:00\", \"fake1\": 14.574079180793774, \"fake2\": -373.33948376604417, \"fake3\": 892.8036890386845}, {\"date\": \"2018-02-18T00:00:00\", \"fake1\": 504.00474175935864, \"fake2\": -466.4079688120289, \"fake3\": -69.15032777185479}, {\"date\": \"2018-02-19T00:00:00\", \"fake1\": 186.609134364454, \"fake2\": 373.9104724993106, \"fake3\": -19.96022747186987}, {\"date\": \"2018-02-20T00:00:00\", \"fake1\": -232.9231630169836, \"fake2\": -414.347363615022, \"fake3\": -201.26025647118718}, {\"date\": \"2018-02-21T00:00:00\", \"fake1\": 710.9368278028785, \"fake2\": 121.38932183544625, \"fake3\": -493.89078685948994}, {\"date\": \"2018-02-22T00:00:00\", \"fake1\": 626.8734456712662, \"fake2\": -191.54450408851335, \"fake3\": 774.5239108599394}, {\"date\": \"2018-02-23T00:00:00\", \"fake1\": 742.8885431798444, \"fake2\": 762.2596047430881, \"fake3\": -264.897734288631}, {\"date\": \"2018-02-24T00:00:00\", \"fake1\": 254.97578601697478, \"fake2\": 968.8209593161789, \"fake3\": -265.01834331425175}, {\"date\": \"2018-02-25T00:00:00\", \"fake1\": 427.8940626747336, \"fake2\": 733.3163911716618, \"fake3\": 433.26729594656047}, {\"date\": \"2018-02-26T00:00:00\", \"fake1\": -101.86914842094711, \"fake2\": -67.24109294691903, \"fake3\": -151.3961657661132}, {\"date\": \"2018-02-27T00:00:00\", \"fake1\": 670.1671817309448, \"fake2\": -379.1272120487197, \"fake3\": 947.8863440936792}, {\"date\": \"2018-02-28T00:00:00\", \"fake1\": -27.712245196430786, \"fake2\": -210.21715146134102, \"fake3\": 120.39323909552638}, {\"date\": \"2018-03-01T00:00:00\", \"fake1\": 707.811575628743, \"fake2\": -93.26081637706443, \"fake3\": 996.371447457817}, {\"date\": \"2018-03-02T00:00:00\", \"fake1\": 903.9019782975324, \"fake2\": 42.77301772368139, \"fake3\": -142.78466661867128}, {\"date\": \"2018-03-03T00:00:00\", \"fake1\": 991.0487520843357, \"fake2\": -8.205242709882782, \"fake3\": 810.5511189789188}, {\"date\": \"2018-03-04T00:00:00\", \"fake1\": -161.87259755863943, \"fake2\": -4.82054214183961, \"fake3\": 284.50207739077155}, {\"date\": \"2018-03-05T00:00:00\", \"fake1\": 8.972879410378823, \"fake2\": -478.5175719314004, \"fake3\": 97.82865561054325}, {\"date\": \"2018-03-06T00:00:00\", \"fake1\": 403.37017185689444, \"fake2\": 512.9104990165637, \"fake3\": 506.4617957500203}, {\"date\": \"2018-03-07T00:00:00\", \"fake1\": 298.1651677164766, \"fake2\": 129.01564166827995, \"fake3\": 222.92027119755437}, {\"date\": \"2018-03-08T00:00:00\", \"fake1\": -448.1972178462829, \"fake2\": 551.0722151127109, \"fake3\": -452.72142600400184}, {\"date\": \"2018-03-09T00:00:00\", \"fake1\": 670.6028270803026, \"fake2\": 463.9605629348225, \"fake3\": -250.67396320127682}, {\"date\": \"2018-03-10T00:00:00\", \"fake1\": 365.9004178502586, \"fake2\": -219.075094894122, \"fake3\": 59.188370236558285}, {\"date\": \"2018-03-11T00:00:00\", \"fake1\": 731.0240606958225, \"fake2\": -198.37993109926333, \"fake3\": -51.78340767958002}, {\"date\": \"2018-03-12T00:00:00\", \"fake1\": -208.00218891892428, \"fake2\": 438.9971911826751, \"fake3\": 407.1443727716726}, {\"date\": \"2018-03-13T00:00:00\", \"fake1\": 187.6679596126694, \"fake2\": 166.65876237236876, \"fake3\": 249.0977825344322}, {\"date\": \"2018-03-14T00:00:00\", \"fake1\": 266.57715989557994, \"fake2\": 221.80753568362104, \"fake3\": -25.67874148013857}, {\"date\": \"2018-03-15T00:00:00\", \"fake1\": 208.90588693951236, \"fake2\": 694.0311543024957, \"fake3\": -132.569222111734}, {\"date\": \"2018-03-16T00:00:00\", \"fake1\": 473.37638022232295, \"fake2\": 977.3009795371077, \"fake3\": 700.6890733002724}, {\"date\": \"2018-03-17T00:00:00\", \"fake1\": -270.3885011752227, \"fake2\": 890.2562392278096, \"fake3\": -444.3066527807139}, {\"date\": \"2018-03-18T00:00:00\", \"fake1\": 141.46079385370217, \"fake2\": 950.2173426729404, \"fake3\": 409.96505933118374}, {\"date\": \"2018-03-19T00:00:00\", \"fake1\": -199.89550771680524, \"fake2\": 666.9558965257929, \"fake3\": -182.73903407481703}, {\"date\": \"2018-03-20T00:00:00\", \"fake1\": 272.3432944501658, \"fake2\": 375.91138697723886, \"fake3\": -43.40963507514812}, {\"date\": \"2018-03-21T00:00:00\", \"fake1\": 971.678489104246, \"fake2\": 533.1762954518247, \"fake3\": -42.38369580124413}, {\"date\": \"2018-03-22T00:00:00\", \"fake1\": -491.91103862911655, \"fake2\": -13.811828979313304, \"fake3\": 11.553367581904922}, {\"date\": \"2018-03-23T00:00:00\", \"fake1\": 467.3211766473569, \"fake2\": -226.49453385578204, \"fake3\": 466.3778772958551}, {\"date\": \"2018-03-24T00:00:00\", \"fake1\": 466.1494260147472, \"fake2\": 772.1441421287509, \"fake3\": 293.1220594543554}, {\"date\": \"2018-03-25T00:00:00\", \"fake1\": -70.21283052288186, \"fake2\": -418.15786300188756, \"fake3\": -251.89367319359485}, {\"date\": \"2018-03-26T00:00:00\", \"fake1\": -0.07268130651289084, \"fake2\": 946.1180504193649, \"fake3\": -203.3648232821604}, {\"date\": \"2018-03-27T00:00:00\", \"fake1\": -286.8166318405829, \"fake2\": -199.2123923180959, \"fake3\": -361.0574751254894}, {\"date\": \"2018-03-28T00:00:00\", \"fake1\": -173.4815312587698, \"fake2\": 254.0065774145612, \"fake3\": 269.77798937605723}, {\"date\": \"2018-03-29T00:00:00\", \"fake1\": 340.62980453729335, \"fake2\": 431.8689035160837, \"fake3\": 760.6277227866935}, {\"date\": \"2018-03-30T00:00:00\", \"fake1\": -7.5599275900852945, \"fake2\": -208.5948881365507, \"fake3\": -487.38885960634593}, {\"date\": \"2018-03-31T00:00:00\", \"fake1\": -220.0787315619932, \"fake2\": 770.0423784202055, \"fake3\": 555.8200660325407}, {\"date\": \"2018-04-01T00:00:00\", \"fake1\": 362.89907329896687, \"fake2\": 759.027228596949, \"fake3\": 988.5866814833539}, {\"date\": \"2018-04-02T00:00:00\", \"fake1\": 270.24268037628644, \"fake2\": 276.0706249834351, \"fake3\": 896.49419773074}, {\"date\": \"2018-04-03T00:00:00\", \"fake1\": 903.6185218963326, \"fake2\": 839.976489772642, \"fake3\": 951.7873185170664}, {\"date\": \"2018-04-04T00:00:00\", \"fake1\": -476.203753444973, \"fake2\": 781.5338093562641, \"fake3\": 338.2698017615436}, {\"date\": \"2018-04-05T00:00:00\", \"fake1\": 198.52903842117053, \"fake2\": 952.0140014724047, \"fake3\": 406.370741306172}, {\"date\": \"2018-04-06T00:00:00\", \"fake1\": 989.5581984649273, \"fake2\": 276.3032643627679, \"fake3\": 750.0518645850423}, {\"date\": \"2018-04-07T00:00:00\", \"fake1\": 41.58518226206547, \"fake2\": -297.4244986145068, \"fake3\": -123.86510550549315}, {\"date\": \"2018-04-08T00:00:00\", \"fake1\": 284.0529194101888, \"fake2\": 829.2138136178716, \"fake3\": 188.7429522467786}, {\"date\": \"2018-04-09T00:00:00\", \"fake1\": -136.19614630642172, \"fake2\": 255.7943046518634, \"fake3\": 662.0395540982797}, {\"date\": \"2018-04-10T00:00:00\", \"fake1\": -36.754082173202505, \"fake2\": -454.0786768400917, \"fake3\": -496.79698381254366}]}}, {\"mode\": \"vega-lite\"});\n",
       "</script>"
      ],
      "text/plain": [
       "alt.Chart(...)"
      ]
     },
     "execution_count": 19,
     "metadata": {},
     "output_type": "execute_result"
    }
   ],
   "source": [
    "user_drawdown = drawdown_chart(returns, 'date', 'fake1')\n",
    "user_drawdown"
   ]
  },
  {
   "cell_type": "code",
   "execution_count": 20,
   "metadata": {},
   "outputs": [],
   "source": [
    "def tracking_error(df, tickers, market):\n",
    "    track_error = np.sqrt(sum([i**2 for i in df[tickers] - df[market]]))\n",
    "    return track_error"
   ]
  },
  {
   "cell_type": "code",
   "execution_count": 21,
   "metadata": {},
   "outputs": [
    {
     "data": {
      "text/plain": [
       "5983.29857357601"
      ]
     },
     "execution_count": 21,
     "metadata": {},
     "output_type": "execute_result"
    }
   ],
   "source": [
    "user_tracking_error = tracking_error(portfolio_df, 'fake2', 'fake3')\n",
    "user_tracking_error"
   ]
  },
  {
   "cell_type": "markdown",
   "metadata": {},
   "source": [
    "### Beta"
   ]
  },
  {
   "cell_type": "code",
   "execution_count": 22,
   "metadata": {},
   "outputs": [],
   "source": [
    "def beta(covariance, variance):\n",
    "    chart_beta = covariance / variance\n",
    "    chart_beta = chart_beta\n",
    "    return chart_beta"
   ]
  },
  {
   "cell_type": "code",
   "execution_count": 23,
   "metadata": {},
   "outputs": [
    {
     "data": {
      "text/plain": [
       "0.05083382404003372"
      ]
     },
     "execution_count": 23,
     "metadata": {},
     "output_type": "execute_result"
    }
   ],
   "source": [
    "user_beta = beta(user_covariance, user_variance)\n",
    "user_beta"
   ]
  },
  {
   "cell_type": "markdown",
   "metadata": {},
   "source": [
    "### Beta chart function"
   ]
  },
  {
   "cell_type": "code",
   "execution_count": 24,
   "metadata": {},
   "outputs": [],
   "source": [
    "# In the works\n",
    "# def beta_chart(covariance, variance):\n",
    "#     chart_beta = covariance / variance\n",
    "#     chart_beta = chart_beta.rolling(window = 21).plot()\n",
    "#     plt.show()\n",
    "#     beta.shape\n",
    "#     chart_beta.plot()\n",
    "#     return chart_beta"
   ]
  },
  {
   "cell_type": "markdown",
   "metadata": {},
   "source": [
    "### Sharpe Ratio"
   ]
  },
  {
   "cell_type": "code",
   "execution_count": 25,
   "metadata": {},
   "outputs": [],
   "source": [
    "def sharpe_ratio(df):\n",
    "    sharpe = (df.mean()*252) / (df.std() * np.sqrt(252))\n",
    "    return sharpe"
   ]
  },
  {
   "cell_type": "code",
   "execution_count": 26,
   "metadata": {},
   "outputs": [
    {
     "data": {
      "text/plain": [
       "fake1   8.05\n",
       "fake2   9.13\n",
       "fake3   7.79\n",
       "dtype: float64"
      ]
     },
     "execution_count": 26,
     "metadata": {},
     "output_type": "execute_result"
    }
   ],
   "source": [
    "user_sharpe_ratio = sharpe_ratio(portfolio_df)\n",
    "user_sharpe_ratio"
   ]
  },
  {
   "cell_type": "markdown",
   "metadata": {},
   "source": [
    "### Return on Investment"
   ]
  },
  {
   "cell_type": "code",
   "execution_count": 27,
   "metadata": {},
   "outputs": [],
   "source": [
    "def return_on_investment(investment, returns):\n",
    "    cumulative_profit = investment * returns\n",
    "    return_oi = (cumulative_profit - investment) / investment\n",
    "    return(return_oi)"
   ]
  },
  {
   "cell_type": "markdown",
   "metadata": {},
   "source": [
    "### Return on Investment"
   ]
  },
  {
   "cell_type": "code",
   "execution_count": 28,
   "metadata": {},
   "outputs": [],
   "source": [
    "def return_on_investment(investment, returns):\n",
    "    cumulative_profit = investment * returns\n",
    "    return_oi = (cumulative_profit - investment) / investment\n",
    "    return(return_oi)"
   ]
  },
  {
   "cell_type": "code",
   "execution_count": 29,
   "metadata": {},
   "outputs": [
    {
     "data": {
      "text/html": [
       "<div>\n",
       "<style scoped>\n",
       "    .dataframe tbody tr th:only-of-type {\n",
       "        vertical-align: middle;\n",
       "    }\n",
       "\n",
       "    .dataframe tbody tr th {\n",
       "        vertical-align: top;\n",
       "    }\n",
       "\n",
       "    .dataframe thead th {\n",
       "        text-align: right;\n",
       "    }\n",
       "</style>\n",
       "<table border=\"1\" class=\"dataframe\">\n",
       "  <thead>\n",
       "    <tr style=\"text-align: right;\">\n",
       "      <th></th>\n",
       "      <th>fake1</th>\n",
       "      <th>fake2</th>\n",
       "      <th>fake3</th>\n",
       "    </tr>\n",
       "  </thead>\n",
       "  <tbody>\n",
       "    <tr>\n",
       "      <th>0</th>\n",
       "      <td>-136.89</td>\n",
       "      <td>704.10</td>\n",
       "      <td>639.62</td>\n",
       "    </tr>\n",
       "    <tr>\n",
       "      <th>1</th>\n",
       "      <td>-80727.33</td>\n",
       "      <td>19970.65</td>\n",
       "      <td>170369.99</td>\n",
       "    </tr>\n",
       "    <tr>\n",
       "      <th>2</th>\n",
       "      <td>-37443930.75</td>\n",
       "      <td>14759435.89</td>\n",
       "      <td>-13232.25</td>\n",
       "    </tr>\n",
       "    <tr>\n",
       "      <th>3</th>\n",
       "      <td>6027217522.35</td>\n",
       "      <td>9445706505.40</td>\n",
       "      <td>989536.11</td>\n",
       "    </tr>\n",
       "    <tr>\n",
       "      <th>4</th>\n",
       "      <td>1309930597664.32</td>\n",
       "      <td>736496840438.65</td>\n",
       "      <td>-235210998.44</td>\n",
       "    </tr>\n",
       "    <tr>\n",
       "      <th>...</th>\n",
       "      <td>...</td>\n",
       "      <td>...</td>\n",
       "      <td>...</td>\n",
       "    </tr>\n",
       "    <tr>\n",
       "      <th>95</th>\n",
       "      <td>-1373370543460402500555530064617655452378433984...</td>\n",
       "      <td>-2162356010649305493990049589565027705342404278...</td>\n",
       "      <td>-1506423872740697538596604252817618537453543155...</td>\n",
       "    </tr>\n",
       "    <tr>\n",
       "      <th>96</th>\n",
       "      <td>-5848523490661315328286849571893596896251911338...</td>\n",
       "      <td>64097529628278542208283764535611381430960450131...</td>\n",
       "      <td>18508692806027938781502175852445660823658550698...</td>\n",
       "    </tr>\n",
       "    <tr>\n",
       "      <th>97</th>\n",
       "      <td>-1667138695252075872870948924275306949947279363...</td>\n",
       "      <td>53214654516177635203904918157890247581627424457...</td>\n",
       "      <td>35118940152444541201109131219545796903811445981...</td>\n",
       "    </tr>\n",
       "    <tr>\n",
       "      <th>98</th>\n",
       "      <td>22539072695639665607791649646816445875122548795...</td>\n",
       "      <td>13665220203770980731375387424876289786054748010...</td>\n",
       "      <td>23285246419080999005526007692217860176186904581...</td>\n",
       "    </tr>\n",
       "    <tr>\n",
       "      <th>99</th>\n",
       "      <td>-8058638572676855961691142340676986638920717922...</td>\n",
       "      <td>-6191419888653043306111835322514660907172070117...</td>\n",
       "      <td>-1154475494191219198510146829478282121251175658...</td>\n",
       "    </tr>\n",
       "  </tbody>\n",
       "</table>\n",
       "<p>100 rows × 3 columns</p>\n",
       "</div>"
      ],
      "text/plain": [
       "                                                fake1  \\\n",
       "0                                             -136.89   \n",
       "1                                           -80727.33   \n",
       "2                                        -37443930.75   \n",
       "3                                       6027217522.35   \n",
       "4                                    1309930597664.32   \n",
       "..                                                ...   \n",
       "95 -1373370543460402500555530064617655452378433984...   \n",
       "96 -5848523490661315328286849571893596896251911338...   \n",
       "97 -1667138695252075872870948924275306949947279363...   \n",
       "98 22539072695639665607791649646816445875122548795...   \n",
       "99 -8058638572676855961691142340676986638920717922...   \n",
       "\n",
       "                                                fake2  \\\n",
       "0                                              704.10   \n",
       "1                                            19970.65   \n",
       "2                                         14759435.89   \n",
       "3                                       9445706505.40   \n",
       "4                                     736496840438.65   \n",
       "..                                                ...   \n",
       "95 -2162356010649305493990049589565027705342404278...   \n",
       "96 64097529628278542208283764535611381430960450131...   \n",
       "97 53214654516177635203904918157890247581627424457...   \n",
       "98 13665220203770980731375387424876289786054748010...   \n",
       "99 -6191419888653043306111835322514660907172070117...   \n",
       "\n",
       "                                                fake3  \n",
       "0                                              639.62  \n",
       "1                                           170369.99  \n",
       "2                                           -13232.25  \n",
       "3                                           989536.11  \n",
       "4                                       -235210998.44  \n",
       "..                                                ...  \n",
       "95 -1506423872740697538596604252817618537453543155...  \n",
       "96 18508692806027938781502175852445660823658550698...  \n",
       "97 35118940152444541201109131219545796903811445981...  \n",
       "98 23285246419080999005526007692217860176186904581...  \n",
       "99 -1154475494191219198510146829478282121251175658...  \n",
       "\n",
       "[100 rows x 3 columns]"
      ]
     },
     "execution_count": 29,
     "metadata": {},
     "output_type": "execute_result"
    }
   ],
   "source": [
    "user_roi = return_on_investment(initial_investment, user_cr)\n",
    "user_roi"
   ]
  },
  {
   "cell_type": "markdown",
   "metadata": {},
   "source": [
    "### ROI Chart"
   ]
  },
  {
   "cell_type": "code",
   "execution_count": 30,
   "metadata": {},
   "outputs": [],
   "source": [
    "# In the works\n",
    "# source = data.wheat()\n",
    "\n",
    "# bar = alt.Chart(source).mark_bar().encode(\n",
    "#     x = df + ':O',\n",
    "#     y = returns + ':Q'\n",
    "# )\n",
    "\n",
    "# <!-- line = alt.Chart(source).mark_line(color='red').transform_window(\n",
    "#     # The field to average\n",
    "#     rolling_mean='mean(wheat)',\n",
    "#     # The number of values before and after the current value to include.\n",
    "#     frame=[-9, 0]\n",
    "# ).encode(\n",
    "#     x='year:O',\n",
    "#     y='rolling_mean:Q'\n",
    "# )\n",
    "\n",
    "# (bar + line).properties(width=600) -->"
   ]
  }
 ],
 "metadata": {
  "kernelspec": {
   "display_name": "ucbenv",
   "language": "python",
   "name": "python3"
  },
  "language_info": {
   "codemirror_mode": {
    "name": "ipython",
    "version": 3
   },
   "file_extension": ".py",
   "mimetype": "text/x-python",
   "name": "python",
   "nbconvert_exporter": "python",
   "pygments_lexer": "ipython3",
   "version": "3.10.4"
  }
 },
 "nbformat": 4,
 "nbformat_minor": 2
}
