{
 "cells": [
  {
   "cell_type": "code",
   "execution_count": 15,
   "metadata": {},
   "outputs": [],
   "source": [
    "import pandas as pd\n",
    "import numpy as np\n",
    "pd.options.display.float_format = '{:.2f}'.format\n",
    "import seaborn as sns\n",
    "import matplotlib.pyplot as plt\n",
    "import hvplot as hvp\n",
    "import datetime\n",
    "import altair as alt"
   ]
  },
  {
   "cell_type": "code",
   "execution_count": 16,
   "metadata": {},
   "outputs": [
    {
     "data": {
      "text/html": [
       "<div>\n",
       "<style scoped>\n",
       "    .dataframe tbody tr th:only-of-type {\n",
       "        vertical-align: middle;\n",
       "    }\n",
       "\n",
       "    .dataframe tbody tr th {\n",
       "        vertical-align: top;\n",
       "    }\n",
       "\n",
       "    .dataframe thead th {\n",
       "        text-align: right;\n",
       "    }\n",
       "</style>\n",
       "<table border=\"1\" class=\"dataframe\">\n",
       "  <thead>\n",
       "    <tr style=\"text-align: right;\">\n",
       "      <th></th>\n",
       "      <th>fake1</th>\n",
       "      <th>fake2</th>\n",
       "      <th>fake3</th>\n",
       "    </tr>\n",
       "    <tr>\n",
       "      <th>Date</th>\n",
       "      <th></th>\n",
       "      <th></th>\n",
       "      <th></th>\n",
       "    </tr>\n",
       "  </thead>\n",
       "  <tbody>\n",
       "    <tr>\n",
       "      <th>2018-01-01</th>\n",
       "      <td>841.05</td>\n",
       "      <td>559.57</td>\n",
       "      <td>547.41</td>\n",
       "    </tr>\n",
       "    <tr>\n",
       "      <th>2018-01-02</th>\n",
       "      <td>540.89</td>\n",
       "      <td>-7.26</td>\n",
       "      <td>209.09</td>\n",
       "    </tr>\n",
       "    <tr>\n",
       "      <th>2018-01-03</th>\n",
       "      <td>-209.58</td>\n",
       "      <td>33.88</td>\n",
       "      <td>-136.60</td>\n",
       "    </tr>\n",
       "    <tr>\n",
       "      <th>2018-01-04</th>\n",
       "      <td>-14.14</td>\n",
       "      <td>-286.39</td>\n",
       "      <td>852.62</td>\n",
       "    </tr>\n",
       "    <tr>\n",
       "      <th>2018-01-05</th>\n",
       "      <td>466.83</td>\n",
       "      <td>272.84</td>\n",
       "      <td>-282.46</td>\n",
       "    </tr>\n",
       "  </tbody>\n",
       "</table>\n",
       "</div>"
      ],
      "text/plain": [
       "             fake1   fake2   fake3\n",
       "Date                              \n",
       "2018-01-01  841.05  559.57  547.41\n",
       "2018-01-02  540.89   -7.26  209.09\n",
       "2018-01-03 -209.58   33.88 -136.60\n",
       "2018-01-04  -14.14 -286.39  852.62\n",
       "2018-01-05  466.83  272.84 -282.46"
      ]
     },
     "execution_count": 16,
     "metadata": {},
     "output_type": "execute_result"
    }
   ],
   "source": [
    "# Creating a range of dates\n",
    "start_date = datetime.datetime(2018, 1, 1)\n",
    "end_date = datetime.datetime(2023, 12, 31)\n",
    "date_range = pd.date_range(start_date, end_date, freq='D')\n",
    "# Dates df\n",
    "dates_df = pd.DataFrame(date_range, columns=['Date'])\n",
    "#print(dates_df.head(1825))\n",
    "\n",
    "# Creating a range of random \"prices\"\n",
    "portfolio_df = pd.DataFrame(\n",
    "    {\n",
    "    \"fake1\": np.random.uniform(1000, -500, 100),\n",
    "    \"fake2\": np.random.uniform(1000, -500, 100),\n",
    "    \"fake3\": np.random.uniform(1000, -500, 100)\n",
    "    }\n",
    "    )\n",
    "f1_portfolio_df = portfolio_df[\"fake1\"].to_frame()\n",
    "\n",
    "# Concatinating and finalizing test data\n",
    "returns = pd.concat([dates_df, portfolio_df], join = \"inner\", axis = 1)\n",
    "returns.set_index('Date', inplace = True)\n",
    "returns = pd.DataFrame(returns)\n",
    "returns.head()"
   ]
  },
  {
   "cell_type": "code",
   "execution_count": 17,
   "metadata": {},
   "outputs": [],
   "source": [
    "initial_investment = 10000"
   ]
  },
  {
   "cell_type": "code",
   "execution_count": 18,
   "metadata": {},
   "outputs": [],
   "source": [
    "def cumulative_returns(df):\n",
    "    return (1 + df).cumprod()"
   ]
  },
  {
   "cell_type": "code",
   "execution_count": 19,
   "metadata": {},
   "outputs": [
    {
     "data": {
      "text/html": [
       "<div>\n",
       "<style scoped>\n",
       "    .dataframe tbody tr th:only-of-type {\n",
       "        vertical-align: middle;\n",
       "    }\n",
       "\n",
       "    .dataframe tbody tr th {\n",
       "        vertical-align: top;\n",
       "    }\n",
       "\n",
       "    .dataframe thead th {\n",
       "        text-align: right;\n",
       "    }\n",
       "</style>\n",
       "<table border=\"1\" class=\"dataframe\">\n",
       "  <thead>\n",
       "    <tr style=\"text-align: right;\">\n",
       "      <th></th>\n",
       "      <th>fake1</th>\n",
       "      <th>fake2</th>\n",
       "      <th>fake3</th>\n",
       "    </tr>\n",
       "  </thead>\n",
       "  <tbody>\n",
       "    <tr>\n",
       "      <th>0</th>\n",
       "      <td>842.05</td>\n",
       "      <td>560.57</td>\n",
       "      <td>548.41</td>\n",
       "    </tr>\n",
       "    <tr>\n",
       "      <th>1</th>\n",
       "      <td>456295.22</td>\n",
       "      <td>-3507.60</td>\n",
       "      <td>115214.59</td>\n",
       "    </tr>\n",
       "    <tr>\n",
       "      <th>2</th>\n",
       "      <td>-95175960.45</td>\n",
       "      <td>-122353.47</td>\n",
       "      <td>-15623428.00</td>\n",
       "    </tr>\n",
       "    <tr>\n",
       "      <th>3</th>\n",
       "      <td>1250293337.78</td>\n",
       "      <td>34917864.40</td>\n",
       "      <td>-13336432250.63</td>\n",
       "    </tr>\n",
       "    <tr>\n",
       "      <th>4</th>\n",
       "      <td>584928953081.26</td>\n",
       "      <td>9561761715.71</td>\n",
       "      <td>3753693147220.16</td>\n",
       "    </tr>\n",
       "    <tr>\n",
       "      <th>...</th>\n",
       "      <td>...</td>\n",
       "      <td>...</td>\n",
       "      <td>...</td>\n",
       "    </tr>\n",
       "    <tr>\n",
       "      <th>95</th>\n",
       "      <td>35312096125214629335458687034141881396030180416...</td>\n",
       "      <td>-6867429026005095138796052459523316561429745811...</td>\n",
       "      <td>-2582887973744781219430378244842482405595657013...</td>\n",
       "    </tr>\n",
       "    <tr>\n",
       "      <th>96</th>\n",
       "      <td>-7950769813388714786822310290182416728990345768...</td>\n",
       "      <td>15813915555050549818288116143898031913530048088...</td>\n",
       "      <td>-1172729110178211631183771793299779158196105537...</td>\n",
       "    </tr>\n",
       "    <tr>\n",
       "      <th>97</th>\n",
       "      <td>26136158328368763521319138797441027849982604505...</td>\n",
       "      <td>-6363357661147628616178459668021609248674883941...</td>\n",
       "      <td>-1547432301691821973087139658257119034456319927...</td>\n",
       "    </tr>\n",
       "    <tr>\n",
       "      <th>98</th>\n",
       "      <td>11944221787043471928439677639368192538678799251...</td>\n",
       "      <td>-5428741621888304296641844748130388687017437320...</td>\n",
       "      <td>-1146925766438616922156603092950465635901781814...</td>\n",
       "    </tr>\n",
       "    <tr>\n",
       "      <th>99</th>\n",
       "      <td>-4951899223901692346461108092678152789129162194...</td>\n",
       "      <td>-4755257199820659476253847667174747910108750177...</td>\n",
       "      <td>-5385976676262488796733647012693096858962652424...</td>\n",
       "    </tr>\n",
       "  </tbody>\n",
       "</table>\n",
       "<p>100 rows × 3 columns</p>\n",
       "</div>"
      ],
      "text/plain": [
       "                                                fake1  \\\n",
       "0                                              842.05   \n",
       "1                                           456295.22   \n",
       "2                                        -95175960.45   \n",
       "3                                       1250293337.78   \n",
       "4                                     584928953081.26   \n",
       "..                                                ...   \n",
       "95 35312096125214629335458687034141881396030180416...   \n",
       "96 -7950769813388714786822310290182416728990345768...   \n",
       "97 26136158328368763521319138797441027849982604505...   \n",
       "98 11944221787043471928439677639368192538678799251...   \n",
       "99 -4951899223901692346461108092678152789129162194...   \n",
       "\n",
       "                                                fake2  \\\n",
       "0                                              560.57   \n",
       "1                                            -3507.60   \n",
       "2                                          -122353.47   \n",
       "3                                         34917864.40   \n",
       "4                                       9561761715.71   \n",
       "..                                                ...   \n",
       "95 -6867429026005095138796052459523316561429745811...   \n",
       "96 15813915555050549818288116143898031913530048088...   \n",
       "97 -6363357661147628616178459668021609248674883941...   \n",
       "98 -5428741621888304296641844748130388687017437320...   \n",
       "99 -4755257199820659476253847667174747910108750177...   \n",
       "\n",
       "                                                fake3  \n",
       "0                                              548.41  \n",
       "1                                           115214.59  \n",
       "2                                        -15623428.00  \n",
       "3                                     -13336432250.63  \n",
       "4                                    3753693147220.16  \n",
       "..                                                ...  \n",
       "95 -2582887973744781219430378244842482405595657013...  \n",
       "96 -1172729110178211631183771793299779158196105537...  \n",
       "97 -1547432301691821973087139658257119034456319927...  \n",
       "98 -1146925766438616922156603092950465635901781814...  \n",
       "99 -5385976676262488796733647012693096858962652424...  \n",
       "\n",
       "[100 rows x 3 columns]"
      ]
     },
     "execution_count": 19,
     "metadata": {},
     "output_type": "execute_result"
    }
   ],
   "source": [
    "user_cr = cumulative_returns(portfolio_df)\n",
    "user_cr"
   ]
  },
  {
   "cell_type": "markdown",
   "metadata": {},
   "source": [
    "## Correlation"
   ]
  },
  {
   "cell_type": "code",
   "execution_count": 20,
   "metadata": {},
   "outputs": [
    {
     "data": {
      "text/html": [
       "<div>\n",
       "<style scoped>\n",
       "    .dataframe tbody tr th:only-of-type {\n",
       "        vertical-align: middle;\n",
       "    }\n",
       "\n",
       "    .dataframe tbody tr th {\n",
       "        vertical-align: top;\n",
       "    }\n",
       "\n",
       "    .dataframe thead th {\n",
       "        text-align: right;\n",
       "    }\n",
       "</style>\n",
       "<table border=\"1\" class=\"dataframe\">\n",
       "  <thead>\n",
       "    <tr style=\"text-align: right;\">\n",
       "      <th></th>\n",
       "      <th>fake1</th>\n",
       "      <th>fake2</th>\n",
       "      <th>fake3</th>\n",
       "    </tr>\n",
       "  </thead>\n",
       "  <tbody>\n",
       "    <tr>\n",
       "      <th>fake1</th>\n",
       "      <td>1.00</td>\n",
       "      <td>-0.04</td>\n",
       "      <td>0.16</td>\n",
       "    </tr>\n",
       "    <tr>\n",
       "      <th>fake2</th>\n",
       "      <td>-0.04</td>\n",
       "      <td>1.00</td>\n",
       "      <td>0.05</td>\n",
       "    </tr>\n",
       "    <tr>\n",
       "      <th>fake3</th>\n",
       "      <td>0.16</td>\n",
       "      <td>0.05</td>\n",
       "      <td>1.00</td>\n",
       "    </tr>\n",
       "  </tbody>\n",
       "</table>\n",
       "</div>"
      ],
      "text/plain": [
       "       fake1  fake2  fake3\n",
       "fake1   1.00  -0.04   0.16\n",
       "fake2  -0.04   1.00   0.05\n",
       "fake3   0.16   0.05   1.00"
      ]
     },
     "execution_count": 20,
     "metadata": {},
     "output_type": "execute_result"
    }
   ],
   "source": [
    "returns_cor = returns.corr()\n",
    "returns_cor"
   ]
  },
  {
   "cell_type": "markdown",
   "metadata": {},
   "source": [
    "## Correlation Plot"
   ]
  },
  {
   "cell_type": "code",
   "execution_count": 21,
   "metadata": {},
   "outputs": [],
   "source": [
    "#In the works\n",
    "# source = returns_cor\n",
    "\n",
    "# alt.Chart(source).mark_circle(size=60).encode(\n",
    "#     x='Horsepower',\n",
    "#     y='Miles_per_Gallon',\n",
    "#     color='Origin',\n",
    "#     tooltip=['Name', 'Origin', 'Horsepower', 'Miles_per_Gallon']\n",
    "# ).interactive()"
   ]
  },
  {
   "cell_type": "code",
   "execution_count": 22,
   "metadata": {},
   "outputs": [],
   "source": [
    "def covariance(df, ticker, market):\n",
    "    return df[ticker].cov(df[market])"
   ]
  },
  {
   "cell_type": "code",
   "execution_count": 23,
   "metadata": {},
   "outputs": [
    {
     "data": {
      "text/plain": [
       "10561.885209700968"
      ]
     },
     "execution_count": 23,
     "metadata": {},
     "output_type": "execute_result"
    }
   ],
   "source": [
    "user_covariance = covariance(portfolio_df, 'fake2', 'fake3')\n",
    "user_covariance"
   ]
  },
  {
   "cell_type": "code",
   "execution_count": 24,
   "metadata": {},
   "outputs": [],
   "source": [
    "def variance(df, market):\n",
    "    return df[market].var()"
   ]
  },
  {
   "cell_type": "code",
   "execution_count": 25,
   "metadata": {},
   "outputs": [
    {
     "data": {
      "text/plain": [
       "180060.51715415236"
      ]
     },
     "execution_count": 25,
     "metadata": {},
     "output_type": "execute_result"
    }
   ],
   "source": [
    "user_variance = variance(portfolio_df, 'fake3')\n",
    "user_variance"
   ]
  },
  {
   "cell_type": "markdown",
   "metadata": {},
   "source": [
    "### Drawdown"
   ]
  },
  {
   "cell_type": "code",
   "execution_count": 26,
   "metadata": {},
   "outputs": [],
   "source": [
    "def drawdown(df, tickers):\n",
    "    Roll_Max = df[tickers].cummax()\n",
    "    Daily_Drawdown = df[tickers]/Roll_Max - 1.0\n",
    "    Max_Daily_Drawdown = Daily_Drawdown.cummin() * 100"
   ]
  },
  {
   "cell_type": "code",
   "execution_count": 27,
   "metadata": {},
   "outputs": [],
   "source": [
    "user_drawdown = drawdown(portfolio_df, 'fake1')\n",
    "user_drawdown"
   ]
  },
  {
   "cell_type": "markdown",
   "metadata": {},
   "source": [
    "### Drawdown Chart"
   ]
  },
  {
   "cell_type": "code",
   "execution_count": 28,
   "metadata": {},
   "outputs": [],
   "source": [
    "def drawdown_chart(returns, date, quant):\n",
    "    '''\n",
    "    return: is a dataframe\n",
    "    date: str: should be a date column name\n",
    "    quant: str: should be a quantitative data type\n",
    "    '''\n",
    "    chart = alt.Chart(df.reset_index()).mark_bar().encode(\n",
    "        x = date + ':T',  # T specifies temporal data type for x-axis\n",
    "        y = quant + ':Q',  # Q specifies a quantitative data type for y-axis\n",
    "        color = alt.condition(\n",
    "            getattr(alt.datum, quant) > 0,\n",
    "            alt.value(\"Green\"),  # The positive color\n",
    "            alt.value(\"red\")\n",
    "    ), tooltip= [date + ':T', quant + ':Q']\n",
    "    ).properties(width=800)\n",
    "    chart = chart.interactive()\n",
    "    return chart"
   ]
  },
  {
   "cell_type": "code",
   "execution_count": 29,
   "metadata": {},
   "outputs": [],
   "source": [
    "def tracking_error(df, tickers, market):\n",
    "    track_error = np.sqrt(sum([i**2 for i in df[tickers] - df[market]]))\n",
    "    return track_error"
   ]
  },
  {
   "cell_type": "code",
   "execution_count": 30,
   "metadata": {},
   "outputs": [
    {
     "data": {
      "text/plain": [
       "6057.6532654634975"
      ]
     },
     "execution_count": 30,
     "metadata": {},
     "output_type": "execute_result"
    }
   ],
   "source": [
    "user_tracking_error = tracking_error(portfolio_df, 'fake2', 'fake3')\n",
    "user_tracking_error"
   ]
  },
  {
   "cell_type": "code",
   "execution_count": 31,
   "metadata": {},
   "outputs": [],
   "source": [
    "def beta(covariance, variance):\n",
    "    chart_beta = covariance / variance\n",
    "    chart_beta = chart_beta.rolling(window = 21).plot()\n",
    "    plt.show()\n",
    "    beta.shape\n",
    "    chart_beta.plot()\n",
    "    return chart_beta"
   ]
  },
  {
   "cell_type": "code",
   "execution_count": 32,
   "metadata": {},
   "outputs": [
    {
     "data": {
      "text/html": [
       "<div>\n",
       "<style scoped>\n",
       "    .dataframe tbody tr th:only-of-type {\n",
       "        vertical-align: middle;\n",
       "    }\n",
       "\n",
       "    .dataframe tbody tr th {\n",
       "        vertical-align: top;\n",
       "    }\n",
       "\n",
       "    .dataframe thead th {\n",
       "        text-align: right;\n",
       "    }\n",
       "</style>\n",
       "<table border=\"1\" class=\"dataframe\">\n",
       "  <thead>\n",
       "    <tr style=\"text-align: right;\">\n",
       "      <th></th>\n",
       "      <th>fake1</th>\n",
       "      <th>fake2</th>\n",
       "      <th>fake3</th>\n",
       "    </tr>\n",
       "    <tr>\n",
       "      <th>Date</th>\n",
       "      <th></th>\n",
       "      <th></th>\n",
       "      <th></th>\n",
       "    </tr>\n",
       "  </thead>\n",
       "  <tbody>\n",
       "    <tr>\n",
       "      <th>2018-04-06</th>\n",
       "      <td>351.77</td>\n",
       "      <td>968.85</td>\n",
       "      <td>847.58</td>\n",
       "    </tr>\n",
       "    <tr>\n",
       "      <th>2018-04-07</th>\n",
       "      <td>-23.52</td>\n",
       "      <td>-24.03</td>\n",
       "      <td>453.04</td>\n",
       "    </tr>\n",
       "    <tr>\n",
       "      <th>2018-04-08</th>\n",
       "      <td>-329.72</td>\n",
       "      <td>-403.39</td>\n",
       "      <td>130.95</td>\n",
       "    </tr>\n",
       "    <tr>\n",
       "      <th>2018-04-09</th>\n",
       "      <td>456.00</td>\n",
       "      <td>852.13</td>\n",
       "      <td>740.18</td>\n",
       "    </tr>\n",
       "    <tr>\n",
       "      <th>2018-04-10</th>\n",
       "      <td>-415.59</td>\n",
       "      <td>874.94</td>\n",
       "      <td>468.60</td>\n",
       "    </tr>\n",
       "  </tbody>\n",
       "</table>\n",
       "</div>"
      ],
      "text/plain": [
       "             fake1   fake2  fake3\n",
       "Date                             \n",
       "2018-04-06  351.77  968.85 847.58\n",
       "2018-04-07  -23.52  -24.03 453.04\n",
       "2018-04-08 -329.72 -403.39 130.95\n",
       "2018-04-09  456.00  852.13 740.18\n",
       "2018-04-10 -415.59  874.94 468.60"
      ]
     },
     "execution_count": 32,
     "metadata": {},
     "output_type": "execute_result"
    }
   ],
   "source": [
    "# user_beta = beta(user_covariance, user_variance)\n",
    "# user_beta\n",
    "returns.tail()"
   ]
  },
  {
   "cell_type": "code",
   "execution_count": 39,
   "metadata": {},
   "outputs": [
    {
     "name": "stdout",
     "output_type": "stream",
     "text": [
      "             fake1   fake2   fake3\n",
      "Date                              \n",
      "2018-01-01  841.05  559.57  547.41\n",
      "2018-01-02  540.89   -7.26  209.09\n",
      "2018-01-03 -209.58   33.88 -136.60\n",
      "2018-01-04  -14.14 -286.39  852.62\n",
      "2018-01-05  466.83  272.84 -282.46\n",
      "...            ...     ...     ...\n",
      "2018-04-06  351.77  968.85  847.58\n",
      "2018-04-07  -23.52  -24.03  453.04\n",
      "2018-04-08 -329.72 -403.39  130.95\n",
      "2018-04-09  456.00  852.13  740.18\n",
      "2018-04-10 -415.59  874.94  468.60\n",
      "\n",
      "[100 rows x 3 columns]\n"
     ]
    }
   ],
   "source": [
    "def sharpe_ratio(df):\n",
    "    sharpe = (df.mean()*252) / (df.std() * np.sqrt(252))\n",
    "    return sharpe"
   ]
  },
  {
   "cell_type": "code",
   "execution_count": 34,
   "metadata": {},
   "outputs": [
    {
     "name": "stdout",
     "output_type": "stream",
     "text": [
      "fake1   10.36\n",
      "fake2    8.14\n",
      "fake3   10.05\n",
      "dtype: float64\n"
     ]
    }
   ],
   "source": [
    "user_sharpe_ratio = sharpe_ratio(portfolio_df)\n",
    "print(user_sharpe_ratio)"
   ]
  },
  {
   "cell_type": "markdown",
   "metadata": {},
   "source": [
    "## Return on Investment"
   ]
  },
  {
   "cell_type": "code",
   "execution_count": 35,
   "metadata": {},
   "outputs": [],
   "source": [
    "def return_on_investment(investment, returns):\n",
    "    cumulative_profit = investment * returns\n",
    "    return_oi = (cumulative_profit - investment) / investment\n",
    "    return(return_oi)"
   ]
  },
  {
   "cell_type": "markdown",
   "metadata": {},
   "source": [
    "## ROI chart"
   ]
  },
  {
   "cell_type": "code",
   "execution_count": 36,
   "metadata": {},
   "outputs": [],
   "source": [
    "def return_on_investment(investment, returns):\n",
    "    cumulative_profit = investment * returns\n",
    "    return_oi = (cumulative_profit - investment) / investment\n",
    "    return(return_oi)"
   ]
  },
  {
   "cell_type": "code",
   "execution_count": 42,
   "metadata": {},
   "outputs": [
    {
     "data": {
      "text/html": [
       "<div>\n",
       "<style scoped>\n",
       "    .dataframe tbody tr th:only-of-type {\n",
       "        vertical-align: middle;\n",
       "    }\n",
       "\n",
       "    .dataframe tbody tr th {\n",
       "        vertical-align: top;\n",
       "    }\n",
       "\n",
       "    .dataframe thead th {\n",
       "        text-align: right;\n",
       "    }\n",
       "</style>\n",
       "<table border=\"1\" class=\"dataframe\">\n",
       "  <thead>\n",
       "    <tr style=\"text-align: right;\">\n",
       "      <th></th>\n",
       "      <th>fake1</th>\n",
       "      <th>fake2</th>\n",
       "      <th>fake3</th>\n",
       "    </tr>\n",
       "  </thead>\n",
       "  <tbody>\n",
       "    <tr>\n",
       "      <th>0</th>\n",
       "      <td>841.05</td>\n",
       "      <td>559.57</td>\n",
       "      <td>547.41</td>\n",
       "    </tr>\n",
       "    <tr>\n",
       "      <th>1</th>\n",
       "      <td>456294.22</td>\n",
       "      <td>-3508.60</td>\n",
       "      <td>115213.59</td>\n",
       "    </tr>\n",
       "    <tr>\n",
       "      <th>2</th>\n",
       "      <td>-95175961.45</td>\n",
       "      <td>-122354.47</td>\n",
       "      <td>-15623429.00</td>\n",
       "    </tr>\n",
       "    <tr>\n",
       "      <th>3</th>\n",
       "      <td>1250293336.78</td>\n",
       "      <td>34917863.40</td>\n",
       "      <td>-13336432251.63</td>\n",
       "    </tr>\n",
       "    <tr>\n",
       "      <th>4</th>\n",
       "      <td>584928953080.26</td>\n",
       "      <td>9561761714.71</td>\n",
       "      <td>3753693147219.16</td>\n",
       "    </tr>\n",
       "    <tr>\n",
       "      <th>...</th>\n",
       "      <td>...</td>\n",
       "      <td>...</td>\n",
       "      <td>...</td>\n",
       "    </tr>\n",
       "    <tr>\n",
       "      <th>95</th>\n",
       "      <td>35312096125214629335458687034141881396030180416...</td>\n",
       "      <td>-6867429026005095138796052459523316561429745811...</td>\n",
       "      <td>-2582887973744781219430378244842482405595657013...</td>\n",
       "    </tr>\n",
       "    <tr>\n",
       "      <th>96</th>\n",
       "      <td>-7950769813388714786822310290182416728990345768...</td>\n",
       "      <td>15813915555050549818288116143898031913530048088...</td>\n",
       "      <td>-1172729110178211489983073857888904310740663427...</td>\n",
       "    </tr>\n",
       "    <tr>\n",
       "      <th>97</th>\n",
       "      <td>26136158328368766482512399563868897930891357829...</td>\n",
       "      <td>-6363357661147627839919413517667141674185139710...</td>\n",
       "      <td>-1547432301691821973087139658257119034456319927...</td>\n",
       "    </tr>\n",
       "    <tr>\n",
       "      <th>98</th>\n",
       "      <td>11944221787043471928439677639368192538678799251...</td>\n",
       "      <td>-5428741621888304296641844748130388687017437320...</td>\n",
       "      <td>-1146925766438616922156603092950465635901781814...</td>\n",
       "    </tr>\n",
       "    <tr>\n",
       "      <th>99</th>\n",
       "      <td>-4951899223901692346461108092678152789129162194...</td>\n",
       "      <td>-4755257199820659476253847667174747910108750177...</td>\n",
       "      <td>-5385976676262488796733647012693096858962652424...</td>\n",
       "    </tr>\n",
       "  </tbody>\n",
       "</table>\n",
       "<p>100 rows × 3 columns</p>\n",
       "</div>"
      ],
      "text/plain": [
       "                                                fake1  \\\n",
       "0                                              841.05   \n",
       "1                                           456294.22   \n",
       "2                                        -95175961.45   \n",
       "3                                       1250293336.78   \n",
       "4                                     584928953080.26   \n",
       "..                                                ...   \n",
       "95 35312096125214629335458687034141881396030180416...   \n",
       "96 -7950769813388714786822310290182416728990345768...   \n",
       "97 26136158328368766482512399563868897930891357829...   \n",
       "98 11944221787043471928439677639368192538678799251...   \n",
       "99 -4951899223901692346461108092678152789129162194...   \n",
       "\n",
       "                                                fake2  \\\n",
       "0                                              559.57   \n",
       "1                                            -3508.60   \n",
       "2                                          -122354.47   \n",
       "3                                         34917863.40   \n",
       "4                                       9561761714.71   \n",
       "..                                                ...   \n",
       "95 -6867429026005095138796052459523316561429745811...   \n",
       "96 15813915555050549818288116143898031913530048088...   \n",
       "97 -6363357661147627839919413517667141674185139710...   \n",
       "98 -5428741621888304296641844748130388687017437320...   \n",
       "99 -4755257199820659476253847667174747910108750177...   \n",
       "\n",
       "                                                fake3  \n",
       "0                                              547.41  \n",
       "1                                           115213.59  \n",
       "2                                        -15623429.00  \n",
       "3                                     -13336432251.63  \n",
       "4                                    3753693147219.16  \n",
       "..                                                ...  \n",
       "95 -2582887973744781219430378244842482405595657013...  \n",
       "96 -1172729110178211489983073857888904310740663427...  \n",
       "97 -1547432301691821973087139658257119034456319927...  \n",
       "98 -1146925766438616922156603092950465635901781814...  \n",
       "99 -5385976676262488796733647012693096858962652424...  \n",
       "\n",
       "[100 rows x 3 columns]"
      ]
     },
     "execution_count": 42,
     "metadata": {},
     "output_type": "execute_result"
    }
   ],
   "source": [
    "user_roi = return_on_investment(initial_investment, user_cr)\n",
    "user_roi"
   ]
  },
  {
   "cell_type": "code",
   "execution_count": null,
   "metadata": {},
   "outputs": [],
   "source": [
    "source = data.wheat()\n",
    "\n",
    "bar = alt.Chart(source).mark_bar().encode(\n",
    "    x = df + ':O',\n",
    "    y = returns + ':Q'\n",
    ")\n",
    "\n",
    "<!-- line = alt.Chart(source).mark_line(color='red').transform_window(\n",
    "    # The field to average\n",
    "    rolling_mean='mean(wheat)',\n",
    "    # The number of values before and after the current value to include.\n",
    "    frame=[-9, 0]\n",
    ").encode(\n",
    "    x='year:O',\n",
    "    y='rolling_mean:Q'\n",
    ")\n",
    "\n",
    "(bar + line).properties(width=600) -->"
   ]
  },
  {
   "cell_type": "markdown",
   "metadata": {},
   "source": [
    "   ## Porfolio Size and Holdings"
   ]
  },
  {
   "cell_type": "code",
   "execution_count": 38,
   "metadata": {},
   "outputs": [],
   "source": [
    "# In the works\n",
    "# source = returns\n",
    "def portfolio_pie (portfolio_df)\n",
    "# alt.Chart(source).mark_arc().encode(\n",
    "#     theta=\"value\",\n",
    "#     color = returns\n",
    "# )"
   ]
  }
 ],
 "metadata": {
  "kernelspec": {
   "display_name": "ucbenv",
   "language": "python",
   "name": "python3"
  },
  "language_info": {
   "codemirror_mode": {
    "name": "ipython",
    "version": 3
   },
   "file_extension": ".py",
   "mimetype": "text/x-python",
   "name": "python",
   "nbconvert_exporter": "python",
   "pygments_lexer": "ipython3",
   "version": "3.9.13"
  }
 },
 "nbformat": 4,
 "nbformat_minor": 2
}
