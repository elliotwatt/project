{
 "cells": [
  {
   "cell_type": "code",
   "execution_count": 1,
   "metadata": {},
   "outputs": [],
   "source": [
    "import pandas as pd\n",
    "import numpy as np\n",
    "pd.options.display.float_format = '{:.2f}'.format\n",
    "import seaborn as sns\n",
    "import matplotlib.pyplot as plt\n",
    "import hvplot as hvp\n",
    "import datetime\n",
    "import altair as alt\n",
    "import seaborn as sns"
   ]
  },
  {
   "cell_type": "markdown",
   "metadata": {},
   "source": [
    "### DataFrame for Drawdown + ROI"
   ]
  },
  {
   "cell_type": "code",
   "execution_count": 40,
   "metadata": {},
   "outputs": [
    {
     "data": {
      "text/html": [
       "<div>\n",
       "<style scoped>\n",
       "    .dataframe tbody tr th:only-of-type {\n",
       "        vertical-align: middle;\n",
       "    }\n",
       "\n",
       "    .dataframe tbody tr th {\n",
       "        vertical-align: top;\n",
       "    }\n",
       "\n",
       "    .dataframe thead th {\n",
       "        text-align: right;\n",
       "    }\n",
       "</style>\n",
       "<table border=\"1\" class=\"dataframe\">\n",
       "  <thead>\n",
       "    <tr style=\"text-align: right;\">\n",
       "      <th></th>\n",
       "      <th>fake1</th>\n",
       "      <th>fake2</th>\n",
       "      <th>fake3</th>\n",
       "    </tr>\n",
       "  </thead>\n",
       "  <tbody>\n",
       "    <tr>\n",
       "      <th>0</th>\n",
       "      <td>121.37</td>\n",
       "      <td>422.96</td>\n",
       "      <td>6.65</td>\n",
       "    </tr>\n",
       "    <tr>\n",
       "      <th>1</th>\n",
       "      <td>556.91</td>\n",
       "      <td>391.60</td>\n",
       "      <td>0.00</td>\n",
       "    </tr>\n",
       "    <tr>\n",
       "      <th>2</th>\n",
       "      <td>260.93</td>\n",
       "      <td>0.00</td>\n",
       "      <td>53.54</td>\n",
       "    </tr>\n",
       "    <tr>\n",
       "      <th>3</th>\n",
       "      <td>46.55</td>\n",
       "      <td>0.00</td>\n",
       "      <td>328.05</td>\n",
       "    </tr>\n",
       "    <tr>\n",
       "      <th>4</th>\n",
       "      <td>0.00</td>\n",
       "      <td>265.84</td>\n",
       "      <td>660.31</td>\n",
       "    </tr>\n",
       "  </tbody>\n",
       "</table>\n",
       "</div>"
      ],
      "text/plain": [
       "   fake1  fake2  fake3\n",
       "0 121.37 422.96   6.65\n",
       "1 556.91 391.60   0.00\n",
       "2 260.93   0.00  53.54\n",
       "3  46.55   0.00 328.05\n",
       "4   0.00 265.84 660.31"
      ]
     },
     "execution_count": 40,
     "metadata": {},
     "output_type": "execute_result"
    }
   ],
   "source": [
    "# Creating a range of dates\n",
    "start_date = datetime.datetime(2018, 1, 1)\n",
    "end_date = datetime.datetime(2023, 12, 31)\n",
    "date_range = pd.date_range(start_date, end_date, freq='D')\n",
    "# Dates df\n",
    "dates_df = pd.DataFrame(date_range, columns=['Date'])\n",
    "#print(dates_df.head(1825))\n",
    "\n",
    "# Creating a range of returns\n",
    "portfolio_df = pd.DataFrame(\n",
    "    {\n",
    "    \"fake1\": np.random.uniform(1000, -500, 100),\n",
    "    \"fake2\": np.random.uniform(1000, -500, 100),\n",
    "    \"fake3\": np.random.uniform(1000, -500, 100)\n",
    "    }\n",
    "    )\n",
    "f1_portfolio_df = portfolio_df[\"fake1\"].to_frame()\n",
    "\n",
    "# ROI df\n",
    "ini_investment_df = pd.DataFrame(portfolio_df - np.random.rand(*portfolio_df.shape))\n",
    "portfolio_df = portfolio_df.clip(lower=0)\n",
    "unique_row_date = [portfolio_df.index[0] - pd.Timedelta(days=1)]\n",
    "\n",
    "# Create a DataFrame for the unique row\n",
    "unique_row_df = pd.DataFrame(, index=unique_row_date)\n",
    "\n",
    "# Concatenate the unique row DataFrame with the original portfolio_df\n",
    "# Make sure to sort the index after concatenation if necessary\n",
    "portfolio_df = pd.concat([unique_row_df, portfolio_df]).sort_index()\n",
    "\n",
    "# Find the minimum positive value in the DataFrame\n",
    "min_positive_value = portfolio_df.min().min()\n",
    "initial_investment_df = portfolio_df.applymap(lambda x: x - np.random.uniform(0, x))\n",
    "initial_investment_df = initial_investment_df(column = {'fake1' :})\n",
    "\n",
    "# Concatinating and finalizing test data\n",
    "returns = pd.concat([dates_df, portfolio_df], join = \"inner\", axis = 1)\n",
    "returns.set_index('Date', inplace = True)\n",
    "returns = pd.DataFrame(returns)\n",
    "returns = returns.reset_index().rename(columns={'Date': 'date'})\n",
    "returns.set_index('date', inplace = True)\n",
    "initial_investment_df.head()"
   ]
  },
  {
   "cell_type": "code",
   "execution_count": 42,
   "metadata": {},
   "outputs": [
    {
     "data": {
      "text/html": [
       "<div>\n",
       "<style scoped>\n",
       "    .dataframe tbody tr th:only-of-type {\n",
       "        vertical-align: middle;\n",
       "    }\n",
       "\n",
       "    .dataframe tbody tr th {\n",
       "        vertical-align: top;\n",
       "    }\n",
       "\n",
       "    .dataframe thead th {\n",
       "        text-align: right;\n",
       "    }\n",
       "</style>\n",
       "<table border=\"1\" class=\"dataframe\">\n",
       "  <thead>\n",
       "    <tr style=\"text-align: right;\">\n",
       "      <th></th>\n",
       "      <th>fake1</th>\n",
       "      <th>fake2</th>\n",
       "      <th>fake3</th>\n",
       "    </tr>\n",
       "    <tr>\n",
       "      <th>date</th>\n",
       "      <th></th>\n",
       "      <th></th>\n",
       "      <th></th>\n",
       "    </tr>\n",
       "  </thead>\n",
       "  <tbody>\n",
       "    <tr>\n",
       "      <th>2018-01-01</th>\n",
       "      <td>588.46</td>\n",
       "      <td>723.83</td>\n",
       "      <td>118.73</td>\n",
       "    </tr>\n",
       "    <tr>\n",
       "      <th>2018-01-02</th>\n",
       "      <td>793.30</td>\n",
       "      <td>749.57</td>\n",
       "      <td>0.00</td>\n",
       "    </tr>\n",
       "    <tr>\n",
       "      <th>2018-01-03</th>\n",
       "      <td>480.28</td>\n",
       "      <td>0.00</td>\n",
       "      <td>676.21</td>\n",
       "    </tr>\n",
       "    <tr>\n",
       "      <th>2018-01-04</th>\n",
       "      <td>321.78</td>\n",
       "      <td>0.00</td>\n",
       "      <td>691.32</td>\n",
       "    </tr>\n",
       "    <tr>\n",
       "      <th>2018-01-05</th>\n",
       "      <td>0.00</td>\n",
       "      <td>346.79</td>\n",
       "      <td>673.65</td>\n",
       "    </tr>\n",
       "  </tbody>\n",
       "</table>\n",
       "</div>"
      ],
      "text/plain": [
       "            fake1  fake2  fake3\n",
       "date                           \n",
       "2018-01-01 588.46 723.83 118.73\n",
       "2018-01-02 793.30 749.57   0.00\n",
       "2018-01-03 480.28   0.00 676.21\n",
       "2018-01-04 321.78   0.00 691.32\n",
       "2018-01-05   0.00 346.79 673.65"
      ]
     },
     "execution_count": 42,
     "metadata": {},
     "output_type": "execute_result"
    }
   ],
   "source": [
    "returns.head()"
   ]
  },
  {
   "cell_type": "markdown",
   "metadata": {},
   "source": [
    "### Data Frame for Portfolio Pie Chart"
   ]
  },
  {
   "cell_type": "code",
   "execution_count": 41,
   "metadata": {},
   "outputs": [
    {
     "ename": "SyntaxError",
     "evalue": "invalid syntax (2793483973.py, line 20)",
     "output_type": "error",
     "traceback": [
      "\u001b[1;36m  Cell \u001b[1;32mIn[41], line 20\u001b[1;36m\u001b[0m\n\u001b[1;33m    initial_investment_df = initial_investment_df(column = {'fake1' :})\u001b[0m\n\u001b[1;37m                                                                     ^\u001b[0m\n\u001b[1;31mSyntaxError\u001b[0m\u001b[1;31m:\u001b[0m invalid syntax\n"
     ]
    }
   ],
   "source": [
    "# Creating DataFrame for Bitcoin\n",
    "btc_portfolio_df = pd.DataFrame({\n",
    "    'stock': ['BTC:USD'],\n",
    "    'position_size': np.random.uniform(10, 150, size = 1)\n",
    "})\n",
    "\n",
    "# Creating DataFrame for Stocks\n",
    "stock_portfolio_df = pd.DataFrame({\n",
    "    'stock': ['AMC', 'VSCO', 'TSLA', 'GOOGL'],\n",
    "    'position_size': np.random.uniform(1000, 10000, 4)  # for 5 stocks\n",
    "})\n",
    "\n",
    "# ROI df\n",
    "ini_investment_df = pd.DataFrame(portfolio_df - np.random.rand(*portfolio_df.shape))\n",
    "portfolio_df = portfolio_df.clip(lower=0)\n",
    "\n",
    "# Find the minimum positive value in the DataFrame\n",
    "min_positive_value = portfolio_df.min().min()\n",
    "initial_investment_df = portfolio_df.applymap(lambda x: x - np.random.uniform(0, x))\n",
    "initial_investment_df = initial_investment_df(column = {'fake1' :})\n",
    "# Combining DataFrames\n",
    "size_portfolio_df = pd.concat([btc_portfolio_df, stock_portfolio_df], axis = 0).reset_index(drop = True)\n",
    "\n",
    "# Renaming stock column to securities\n",
    "size_portfolio_df = size_portfolio_df.rename(columns = {'stock' : 'securities'})\n",
    "\n"
   ]
  },
  {
   "cell_type": "markdown",
   "metadata": {},
   "source": [
    "### Portfolio Pie Chart Function"
   ]
  },
  {
   "cell_type": "code",
   "execution_count": 4,
   "metadata": {},
   "outputs": [],
   "source": [
    "# Defining Portfolio pie chart function\n",
    "def portfolio_piechart (holdings, size):\n",
    "    selection = alt.selection_single()\n",
    "    pie_chart = alt.Chart(size_portfolio_df).mark_arc().encode(\n",
    "        theta = alt.Theta(field = 'position_size', type = 'quantitative'),\n",
    "        color = alt.Color(field = 'securities', type = 'nominal'),\n",
    "        tooltip=['securities', 'position_size']\n",
    "    )\n",
    "    return pie_chart"
   ]
  },
  {
   "cell_type": "markdown",
   "metadata": {},
   "source": [
    "### Portfolio Pie Chart"
   ]
  },
  {
   "cell_type": "code",
   "execution_count": 5,
   "metadata": {},
   "outputs": [
    {
     "name": "stderr",
     "output_type": "stream",
     "text": [
      "c:\\Users\\Gino\\AppData\\Local\\Programs\\Python\\Python39\\lib\\site-packages\\altair\\utils\\deprecation.py:65: AltairDeprecationWarning: 'selection_single' is deprecated.  Use 'selection_point'\n",
      "  warnings.warn(message, AltairDeprecationWarning, stacklevel=1)\n"
     ]
    },
    {
     "data": {
      "text/html": [
       "\n",
       "<style>\n",
       "  #altair-viz-7c1a8c10dc8c488d89574c0cff54f3d8.vega-embed {\n",
       "    width: 100%;\n",
       "    display: flex;\n",
       "  }\n",
       "\n",
       "  #altair-viz-7c1a8c10dc8c488d89574c0cff54f3d8.vega-embed details,\n",
       "  #altair-viz-7c1a8c10dc8c488d89574c0cff54f3d8.vega-embed details summary {\n",
       "    position: relative;\n",
       "  }\n",
       "</style>\n",
       "<div id=\"altair-viz-7c1a8c10dc8c488d89574c0cff54f3d8\"></div>\n",
       "<script type=\"text/javascript\">\n",
       "  var VEGA_DEBUG = (typeof VEGA_DEBUG == \"undefined\") ? {} : VEGA_DEBUG;\n",
       "  (function(spec, embedOpt){\n",
       "    let outputDiv = document.currentScript.previousElementSibling;\n",
       "    if (outputDiv.id !== \"altair-viz-7c1a8c10dc8c488d89574c0cff54f3d8\") {\n",
       "      outputDiv = document.getElementById(\"altair-viz-7c1a8c10dc8c488d89574c0cff54f3d8\");\n",
       "    }\n",
       "    const paths = {\n",
       "      \"vega\": \"https://cdn.jsdelivr.net/npm/vega@5?noext\",\n",
       "      \"vega-lib\": \"https://cdn.jsdelivr.net/npm/vega-lib?noext\",\n",
       "      \"vega-lite\": \"https://cdn.jsdelivr.net/npm/vega-lite@5.15.1?noext\",\n",
       "      \"vega-embed\": \"https://cdn.jsdelivr.net/npm/vega-embed@6?noext\",\n",
       "    };\n",
       "\n",
       "    function maybeLoadScript(lib, version) {\n",
       "      var key = `${lib.replace(\"-\", \"\")}_version`;\n",
       "      return (VEGA_DEBUG[key] == version) ?\n",
       "        Promise.resolve(paths[lib]) :\n",
       "        new Promise(function(resolve, reject) {\n",
       "          var s = document.createElement('script');\n",
       "          document.getElementsByTagName(\"head\")[0].appendChild(s);\n",
       "          s.async = true;\n",
       "          s.onload = () => {\n",
       "            VEGA_DEBUG[key] = version;\n",
       "            return resolve(paths[lib]);\n",
       "          };\n",
       "          s.onerror = () => reject(`Error loading script: ${paths[lib]}`);\n",
       "          s.src = paths[lib];\n",
       "        });\n",
       "    }\n",
       "\n",
       "    function showError(err) {\n",
       "      outputDiv.innerHTML = `<div class=\"error\" style=\"color:red;\">${err}</div>`;\n",
       "      throw err;\n",
       "    }\n",
       "\n",
       "    function displayChart(vegaEmbed) {\n",
       "      vegaEmbed(outputDiv, spec, embedOpt)\n",
       "        .catch(err => showError(`Javascript Error: ${err.message}<br>This usually means there's a typo in your chart specification. See the javascript console for the full traceback.`));\n",
       "    }\n",
       "\n",
       "    if(typeof define === \"function\" && define.amd) {\n",
       "      requirejs.config({paths});\n",
       "      require([\"vega-embed\"], displayChart, err => showError(`Error loading script: ${err.message}`));\n",
       "    } else {\n",
       "      maybeLoadScript(\"vega\", \"5\")\n",
       "        .then(() => maybeLoadScript(\"vega-lite\", \"5.15.1\"))\n",
       "        .then(() => maybeLoadScript(\"vega-embed\", \"6\"))\n",
       "        .catch(showError)\n",
       "        .then(() => displayChart(vegaEmbed));\n",
       "    }\n",
       "  })({\"config\": {\"view\": {\"continuousWidth\": 300, \"continuousHeight\": 300}}, \"data\": {\"name\": \"data-7c48d88e48e38b069f08aec40ed4398e\"}, \"mark\": {\"type\": \"arc\"}, \"encoding\": {\"color\": {\"field\": \"securities\", \"type\": \"nominal\"}, \"theta\": {\"field\": \"position_size\", \"type\": \"quantitative\"}, \"tooltip\": [{\"field\": \"securities\", \"type\": \"nominal\"}, {\"field\": \"position_size\", \"type\": \"quantitative\"}]}, \"$schema\": \"https://vega.github.io/schema/vega-lite/v5.15.1.json\", \"datasets\": {\"data-7c48d88e48e38b069f08aec40ed4398e\": [{\"securities\": \"BTC:USD\", \"position_size\": 122.53230230961798}, {\"securities\": \"AMC\", \"position_size\": 7987.798569423829}, {\"securities\": \"VSCO\", \"position_size\": 4881.924506139652}, {\"securities\": \"TSLA\", \"position_size\": 7132.503195180228}, {\"securities\": \"GOOGL\", \"position_size\": 6288.2190015808865}]}}, {\"mode\": \"vega-lite\"});\n",
       "</script>"
      ],
      "text/plain": [
       "alt.Chart(...)"
      ]
     },
     "execution_count": 5,
     "metadata": {},
     "output_type": "execute_result"
    }
   ],
   "source": [
    "one = size_portfolio_df['securities']\n",
    "two = size_portfolio_df['position_size']\n",
    "user_in_holdings = portfolio_piechart(one, two)\n",
    "user_in_holdings"
   ]
  },
  {
   "cell_type": "code",
   "execution_count": 6,
   "metadata": {},
   "outputs": [],
   "source": [
    "initial_investment = 10000"
   ]
  },
  {
   "cell_type": "code",
   "execution_count": 7,
   "metadata": {},
   "outputs": [],
   "source": [
    "def cumulative_returns(df):\n",
    "    return (1 + df).cumprod()"
   ]
  },
  {
   "cell_type": "code",
   "execution_count": 8,
   "metadata": {},
   "outputs": [
    {
     "data": {
      "text/html": [
       "<div>\n",
       "<style scoped>\n",
       "    .dataframe tbody tr th:only-of-type {\n",
       "        vertical-align: middle;\n",
       "    }\n",
       "\n",
       "    .dataframe tbody tr th {\n",
       "        vertical-align: top;\n",
       "    }\n",
       "\n",
       "    .dataframe thead th {\n",
       "        text-align: right;\n",
       "    }\n",
       "</style>\n",
       "<table border=\"1\" class=\"dataframe\">\n",
       "  <thead>\n",
       "    <tr style=\"text-align: right;\">\n",
       "      <th></th>\n",
       "      <th>fake1</th>\n",
       "      <th>fake2</th>\n",
       "      <th>fake3</th>\n",
       "    </tr>\n",
       "  </thead>\n",
       "  <tbody>\n",
       "    <tr>\n",
       "      <th>0</th>\n",
       "      <td>549.87</td>\n",
       "      <td>732.14</td>\n",
       "      <td>789.40</td>\n",
       "    </tr>\n",
       "    <tr>\n",
       "      <th>1</th>\n",
       "      <td>45024.86</td>\n",
       "      <td>507906.29</td>\n",
       "      <td>329010.22</td>\n",
       "    </tr>\n",
       "    <tr>\n",
       "      <th>2</th>\n",
       "      <td>-14967482.38</td>\n",
       "      <td>258724617.19</td>\n",
       "      <td>-35488578.59</td>\n",
       "    </tr>\n",
       "    <tr>\n",
       "      <th>3</th>\n",
       "      <td>-12406545152.63</td>\n",
       "      <td>47467716618.41</td>\n",
       "      <td>-35026394642.85</td>\n",
       "    </tr>\n",
       "    <tr>\n",
       "      <th>4</th>\n",
       "      <td>4475917805392.61</td>\n",
       "      <td>39477795819965.52</td>\n",
       "      <td>3867069364669.15</td>\n",
       "    </tr>\n",
       "    <tr>\n",
       "      <th>...</th>\n",
       "      <td>...</td>\n",
       "      <td>...</td>\n",
       "      <td>...</td>\n",
       "    </tr>\n",
       "    <tr>\n",
       "      <th>95</th>\n",
       "      <td>22035003672701331096395754999335905465895408971...</td>\n",
       "      <td>37314922549350880971640162584610574353556892182...</td>\n",
       "      <td>98352860255176750136009519934792358324997028212...</td>\n",
       "    </tr>\n",
       "    <tr>\n",
       "      <th>96</th>\n",
       "      <td>-9818220492994853555487275163843993324670717272...</td>\n",
       "      <td>29517136477590520057082235319641635455331219196...</td>\n",
       "      <td>-4713479085088262482853842282509745952603715433...</td>\n",
       "    </tr>\n",
       "    <tr>\n",
       "      <th>97</th>\n",
       "      <td>-6379777459199688852721152639090297459912959222...</td>\n",
       "      <td>-6709653938833715933405501827399982514088501722...</td>\n",
       "      <td>-3607329611668087457782929878407645516423240977...</td>\n",
       "    </tr>\n",
       "    <tr>\n",
       "      <th>98</th>\n",
       "      <td>-1650496537538625770734877292319820586703586498...</td>\n",
       "      <td>13974556616424987175800567074585905774965368209...</td>\n",
       "      <td>-2970799102272079147620074667173492448057372935...</td>\n",
       "    </tr>\n",
       "    <tr>\n",
       "      <th>99</th>\n",
       "      <td>-5044527331127846212149711329546826880463518391...</td>\n",
       "      <td>-4927039041372157644991190011036673106054377091...</td>\n",
       "      <td>59414081433736220306543045888364490048649829730...</td>\n",
       "    </tr>\n",
       "  </tbody>\n",
       "</table>\n",
       "<p>100 rows × 3 columns</p>\n",
       "</div>"
      ],
      "text/plain": [
       "                                                fake1  \\\n",
       "0                                              549.87   \n",
       "1                                            45024.86   \n",
       "2                                        -14967482.38   \n",
       "3                                     -12406545152.63   \n",
       "4                                    4475917805392.61   \n",
       "..                                                ...   \n",
       "95 22035003672701331096395754999335905465895408971...   \n",
       "96 -9818220492994853555487275163843993324670717272...   \n",
       "97 -6379777459199688852721152639090297459912959222...   \n",
       "98 -1650496537538625770734877292319820586703586498...   \n",
       "99 -5044527331127846212149711329546826880463518391...   \n",
       "\n",
       "                                                fake2  \\\n",
       "0                                              732.14   \n",
       "1                                           507906.29   \n",
       "2                                        258724617.19   \n",
       "3                                      47467716618.41   \n",
       "4                                   39477795819965.52   \n",
       "..                                                ...   \n",
       "95 37314922549350880971640162584610574353556892182...   \n",
       "96 29517136477590520057082235319641635455331219196...   \n",
       "97 -6709653938833715933405501827399982514088501722...   \n",
       "98 13974556616424987175800567074585905774965368209...   \n",
       "99 -4927039041372157644991190011036673106054377091...   \n",
       "\n",
       "                                                fake3  \n",
       "0                                              789.40  \n",
       "1                                           329010.22  \n",
       "2                                        -35488578.59  \n",
       "3                                     -35026394642.85  \n",
       "4                                    3867069364669.15  \n",
       "..                                                ...  \n",
       "95 98352860255176750136009519934792358324997028212...  \n",
       "96 -4713479085088262482853842282509745952603715433...  \n",
       "97 -3607329611668087457782929878407645516423240977...  \n",
       "98 -2970799102272079147620074667173492448057372935...  \n",
       "99 59414081433736220306543045888364490048649829730...  \n",
       "\n",
       "[100 rows x 3 columns]"
      ]
     },
     "execution_count": 8,
     "metadata": {},
     "output_type": "execute_result"
    }
   ],
   "source": [
    "user_cr = cumulative_returns(portfolio_df)\n",
    "user_cr"
   ]
  },
  {
   "cell_type": "markdown",
   "metadata": {},
   "source": [
    "### Correlation"
   ]
  },
  {
   "cell_type": "code",
   "execution_count": 9,
   "metadata": {},
   "outputs": [
    {
     "data": {
      "text/html": [
       "<div>\n",
       "<style scoped>\n",
       "    .dataframe tbody tr th:only-of-type {\n",
       "        vertical-align: middle;\n",
       "    }\n",
       "\n",
       "    .dataframe tbody tr th {\n",
       "        vertical-align: top;\n",
       "    }\n",
       "\n",
       "    .dataframe thead th {\n",
       "        text-align: right;\n",
       "    }\n",
       "</style>\n",
       "<table border=\"1\" class=\"dataframe\">\n",
       "  <thead>\n",
       "    <tr style=\"text-align: right;\">\n",
       "      <th></th>\n",
       "      <th>fake1</th>\n",
       "      <th>fake2</th>\n",
       "      <th>fake3</th>\n",
       "    </tr>\n",
       "  </thead>\n",
       "  <tbody>\n",
       "    <tr>\n",
       "      <th>fake1</th>\n",
       "      <td>1.00</td>\n",
       "      <td>-0.05</td>\n",
       "      <td>-0.06</td>\n",
       "    </tr>\n",
       "    <tr>\n",
       "      <th>fake2</th>\n",
       "      <td>-0.05</td>\n",
       "      <td>1.00</td>\n",
       "      <td>-0.09</td>\n",
       "    </tr>\n",
       "    <tr>\n",
       "      <th>fake3</th>\n",
       "      <td>-0.06</td>\n",
       "      <td>-0.09</td>\n",
       "      <td>1.00</td>\n",
       "    </tr>\n",
       "  </tbody>\n",
       "</table>\n",
       "</div>"
      ],
      "text/plain": [
       "       fake1  fake2  fake3\n",
       "fake1   1.00  -0.05  -0.06\n",
       "fake2  -0.05   1.00  -0.09\n",
       "fake3  -0.06  -0.09   1.00"
      ]
     },
     "execution_count": 9,
     "metadata": {},
     "output_type": "execute_result"
    }
   ],
   "source": [
    "returns_cor = returns.corr()\n",
    "returns_cor"
   ]
  },
  {
   "cell_type": "markdown",
   "metadata": {},
   "source": [
    "### Correlation Plot Function"
   ]
  },
  {
   "cell_type": "code",
   "execution_count": 46,
   "metadata": {},
   "outputs": [],
   "source": [
    "# Seaborn Heatmap\n",
    "# def correlation_chart(returns):\n",
    "#     returns_cor = returns.corr()\n",
    "#     corr_chart= sns.heatmap(returns_cor, vmin=-1 , vmax = 1)\n",
    "#     return corr_chart\n",
    "\n",
    "# Scatter plot function\n",
    "def correlation_chart(returns_df, corr_df):\n",
    "    returns_cor = returns.corr()\n",
    "\n",
    "    # Brush for selection\n",
    "    brush = alt.selection_interval()\n",
    "\n",
    "    # Scatter Plot\n",
    "    correlation_points = alt.Chart(returns).mark_point().encode(\n",
    "        x = returns + ':Q',\n",
    "        y = returns_cor + ':Q', \n",
    "        color=alt.condition(brush, alt.value('steelblue'), alt.value('grey'))\n",
    "    ).add_params(brush)\n",
    "    return correlation_points\n",
    "\n",
    "    # Base chart for data tables\n",
    "    ranked_text = alt.Chart(source).mark_text(align='right').encode(\n",
    "        y=alt.Y('row_number:O').axis(None)\n",
    "    ).transform_filter(\n",
    "        brush\n",
    "    ).transform_window(\n",
    "        row_number='row_number()'\n",
    "    ).transform_filter(\n",
    "        alt.datum.row_number < 15\n",
    "    )\n",
    "\n",
    "    # Data Tables\n",
    "    horsepower = ranked_text.encode(text='Horsepower:N').properties(\n",
    "        title=alt.Title(text='Horsepower', align='right')\n",
    "    )\n",
    "    mpg = ranked_text.encode(text='Miles_per_Gallon:N').properties(\n",
    "        title=alt.Title(text='MPG', align='right')\n",
    "    )\n",
    "    #origin = ranked_text.encode(text='Origin:N').properties(\n",
    "        #title=alt.Title(text='Origin', align='right')\n",
    "    #)\n",
    "    text = alt.hconcat(horsepower, mpg, origin) # Combine data tables\n",
    "\n",
    "    # Build chart\n",
    "    alt.hconcat(\n",
    "        points,\n",
    "        text\n",
    "    ).resolve_legend(\n",
    "        color=\"independent\"\n",
    "    ).configure_view(\n",
    "        stroke=None\n",
    "    )"
   ]
  },
  {
   "cell_type": "markdown",
   "metadata": {},
   "source": [
    "### Correlation Chart"
   ]
  },
  {
   "cell_type": "code",
   "execution_count": 47,
   "metadata": {},
   "outputs": [
    {
     "ename": "UFuncTypeError",
     "evalue": "ufunc 'add' did not contain a loop with signature matching types (dtype('float64'), dtype('<U2')) -> None",
     "output_type": "error",
     "traceback": [
      "\u001b[1;31m---------------------------------------------------------------------------\u001b[0m",
      "\u001b[1;31mUFuncTypeError\u001b[0m                            Traceback (most recent call last)",
      "\u001b[1;32mc:\\Users\\Gino\\OneDrive\\Desktop\\Project\\Data Visualization Script\\Plot Functions.ipynb Cell 19\u001b[0m line \u001b[0;36m4\n\u001b[0;32m      <a href='vscode-notebook-cell:/c%3A/Users/Gino/OneDrive/Desktop/Project/Data%20Visualization%20Script/Plot%20Functions.ipynb#X23sZmlsZQ%3D%3D?line=0'>1</a>\u001b[0m \u001b[39m# Seaborn plot\u001b[39;00m\n\u001b[0;32m      <a href='vscode-notebook-cell:/c%3A/Users/Gino/OneDrive/Desktop/Project/Data%20Visualization%20Script/Plot%20Functions.ipynb#X23sZmlsZQ%3D%3D?line=1'>2</a>\u001b[0m \u001b[39m# correlation_chart(returns)\u001b[39;00m\n\u001b[0;32m      <a href='vscode-notebook-cell:/c%3A/Users/Gino/OneDrive/Desktop/Project/Data%20Visualization%20Script/Plot%20Functions.ipynb#X23sZmlsZQ%3D%3D?line=2'>3</a>\u001b[0m \u001b[39m# correlation_chart\u001b[39;00m\n\u001b[1;32m----> <a href='vscode-notebook-cell:/c%3A/Users/Gino/OneDrive/Desktop/Project/Data%20Visualization%20Script/Plot%20Functions.ipynb#X23sZmlsZQ%3D%3D?line=3'>4</a>\u001b[0m correlation_chart(returns, returns_cor)\n",
      "\u001b[1;32mc:\\Users\\Gino\\OneDrive\\Desktop\\Project\\Data Visualization Script\\Plot Functions.ipynb Cell 19\u001b[0m line \u001b[0;36m1\n\u001b[0;32m     <a href='vscode-notebook-cell:/c%3A/Users/Gino/OneDrive/Desktop/Project/Data%20Visualization%20Script/Plot%20Functions.ipynb#X23sZmlsZQ%3D%3D?line=11'>12</a>\u001b[0m brush \u001b[39m=\u001b[39m alt\u001b[39m.\u001b[39mselection_interval()\n\u001b[0;32m     <a href='vscode-notebook-cell:/c%3A/Users/Gino/OneDrive/Desktop/Project/Data%20Visualization%20Script/Plot%20Functions.ipynb#X23sZmlsZQ%3D%3D?line=13'>14</a>\u001b[0m \u001b[39m# Scatter Plot\u001b[39;00m\n\u001b[0;32m     <a href='vscode-notebook-cell:/c%3A/Users/Gino/OneDrive/Desktop/Project/Data%20Visualization%20Script/Plot%20Functions.ipynb#X23sZmlsZQ%3D%3D?line=14'>15</a>\u001b[0m correlation_points \u001b[39m=\u001b[39m alt\u001b[39m.\u001b[39mChart(returns)\u001b[39m.\u001b[39mmark_point()\u001b[39m.\u001b[39mencode(\n\u001b[1;32m---> <a href='vscode-notebook-cell:/c%3A/Users/Gino/OneDrive/Desktop/Project/Data%20Visualization%20Script/Plot%20Functions.ipynb#X23sZmlsZQ%3D%3D?line=15'>16</a>\u001b[0m     x \u001b[39m=\u001b[39m returns \u001b[39m+\u001b[39;49m \u001b[39m'\u001b[39;49m\u001b[39m:Q\u001b[39;49m\u001b[39m'\u001b[39;49m,\n\u001b[0;32m     <a href='vscode-notebook-cell:/c%3A/Users/Gino/OneDrive/Desktop/Project/Data%20Visualization%20Script/Plot%20Functions.ipynb#X23sZmlsZQ%3D%3D?line=16'>17</a>\u001b[0m     y \u001b[39m=\u001b[39m returns_cor \u001b[39m+\u001b[39m \u001b[39m'\u001b[39m\u001b[39m:Q\u001b[39m\u001b[39m'\u001b[39m,\n\u001b[0;32m     <a href='vscode-notebook-cell:/c%3A/Users/Gino/OneDrive/Desktop/Project/Data%20Visualization%20Script/Plot%20Functions.ipynb#X23sZmlsZQ%3D%3D?line=17'>18</a>\u001b[0m     color\u001b[39m=\u001b[39malt\u001b[39m.\u001b[39mcondition(brush, alt\u001b[39m.\u001b[39mvalue(\u001b[39m'\u001b[39m\u001b[39msteelblue\u001b[39m\u001b[39m'\u001b[39m), alt\u001b[39m.\u001b[39mvalue(\u001b[39m'\u001b[39m\u001b[39mgrey\u001b[39m\u001b[39m'\u001b[39m))\n\u001b[0;32m     <a href='vscode-notebook-cell:/c%3A/Users/Gino/OneDrive/Desktop/Project/Data%20Visualization%20Script/Plot%20Functions.ipynb#X23sZmlsZQ%3D%3D?line=18'>19</a>\u001b[0m )\u001b[39m.\u001b[39madd_params(brush)\n\u001b[0;32m     <a href='vscode-notebook-cell:/c%3A/Users/Gino/OneDrive/Desktop/Project/Data%20Visualization%20Script/Plot%20Functions.ipynb#X23sZmlsZQ%3D%3D?line=19'>20</a>\u001b[0m \u001b[39mreturn\u001b[39;00m correlation_points\n\u001b[0;32m     <a href='vscode-notebook-cell:/c%3A/Users/Gino/OneDrive/Desktop/Project/Data%20Visualization%20Script/Plot%20Functions.ipynb#X23sZmlsZQ%3D%3D?line=21'>22</a>\u001b[0m \u001b[39m# Base chart for data tables\u001b[39;00m\n",
      "File \u001b[1;32mc:\\Users\\Gino\\AppData\\Local\\Programs\\Python\\Python39\\lib\\site-packages\\pandas\\core\\ops\\common.py:70\u001b[0m, in \u001b[0;36m_unpack_zerodim_and_defer.<locals>.new_method\u001b[1;34m(self, other)\u001b[0m\n\u001b[0;32m     66\u001b[0m             \u001b[39mreturn\u001b[39;00m \u001b[39mNotImplemented\u001b[39m\n\u001b[0;32m     68\u001b[0m other \u001b[39m=\u001b[39m item_from_zerodim(other)\n\u001b[1;32m---> 70\u001b[0m \u001b[39mreturn\u001b[39;00m method(\u001b[39mself\u001b[39;49m, other)\n",
      "File \u001b[1;32mc:\\Users\\Gino\\AppData\\Local\\Programs\\Python\\Python39\\lib\\site-packages\\pandas\\core\\arraylike.py:100\u001b[0m, in \u001b[0;36mOpsMixin.__add__\u001b[1;34m(self, other)\u001b[0m\n\u001b[0;32m     98\u001b[0m \u001b[39m@unpack_zerodim_and_defer\u001b[39m(\u001b[39m\"\u001b[39m\u001b[39m__add__\u001b[39m\u001b[39m\"\u001b[39m)\n\u001b[0;32m     99\u001b[0m \u001b[39mdef\u001b[39;00m \u001b[39m__add__\u001b[39m(\u001b[39mself\u001b[39m, other):\n\u001b[1;32m--> 100\u001b[0m     \u001b[39mreturn\u001b[39;00m \u001b[39mself\u001b[39;49m\u001b[39m.\u001b[39;49m_arith_method(other, operator\u001b[39m.\u001b[39;49madd)\n",
      "File \u001b[1;32mc:\\Users\\Gino\\AppData\\Local\\Programs\\Python\\Python39\\lib\\site-packages\\pandas\\core\\frame.py:6952\u001b[0m, in \u001b[0;36mDataFrame._arith_method\u001b[1;34m(self, other, op)\u001b[0m\n\u001b[0;32m   6948\u001b[0m other \u001b[39m=\u001b[39m ops\u001b[39m.\u001b[39mmaybe_prepare_scalar_for_op(other, (\u001b[39mself\u001b[39m\u001b[39m.\u001b[39mshape[axis],))\n\u001b[0;32m   6950\u001b[0m \u001b[39mself\u001b[39m, other \u001b[39m=\u001b[39m ops\u001b[39m.\u001b[39malign_method_FRAME(\u001b[39mself\u001b[39m, other, axis, flex\u001b[39m=\u001b[39m\u001b[39mTrue\u001b[39;00m, level\u001b[39m=\u001b[39m\u001b[39mNone\u001b[39;00m)\n\u001b[1;32m-> 6952\u001b[0m new_data \u001b[39m=\u001b[39m \u001b[39mself\u001b[39;49m\u001b[39m.\u001b[39;49m_dispatch_frame_op(other, op, axis\u001b[39m=\u001b[39;49maxis)\n\u001b[0;32m   6953\u001b[0m \u001b[39mreturn\u001b[39;00m \u001b[39mself\u001b[39m\u001b[39m.\u001b[39m_construct_result(new_data)\n",
      "File \u001b[1;32mc:\\Users\\Gino\\AppData\\Local\\Programs\\Python\\Python39\\lib\\site-packages\\pandas\\core\\frame.py:6979\u001b[0m, in \u001b[0;36mDataFrame._dispatch_frame_op\u001b[1;34m(self, right, func, axis)\u001b[0m\n\u001b[0;32m   6976\u001b[0m \u001b[39mif\u001b[39;00m \u001b[39mnot\u001b[39;00m is_list_like(right):\n\u001b[0;32m   6977\u001b[0m     \u001b[39m# i.e. scalar, faster than checking np.ndim(right) == 0\u001b[39;00m\n\u001b[0;32m   6978\u001b[0m     \u001b[39mwith\u001b[39;00m np\u001b[39m.\u001b[39merrstate(\u001b[39mall\u001b[39m\u001b[39m=\u001b[39m\u001b[39m\"\u001b[39m\u001b[39mignore\u001b[39m\u001b[39m\"\u001b[39m):\n\u001b[1;32m-> 6979\u001b[0m         bm \u001b[39m=\u001b[39m \u001b[39mself\u001b[39;49m\u001b[39m.\u001b[39;49m_mgr\u001b[39m.\u001b[39;49mapply(array_op, right\u001b[39m=\u001b[39;49mright)\n\u001b[0;32m   6980\u001b[0m     \u001b[39mreturn\u001b[39;00m \u001b[39mself\u001b[39m\u001b[39m.\u001b[39m_constructor(bm)\n\u001b[0;32m   6982\u001b[0m \u001b[39melif\u001b[39;00m \u001b[39misinstance\u001b[39m(right, DataFrame):\n",
      "File \u001b[1;32mc:\\Users\\Gino\\AppData\\Local\\Programs\\Python\\Python39\\lib\\site-packages\\pandas\\core\\internals\\managers.py:302\u001b[0m, in \u001b[0;36mBaseBlockManager.apply\u001b[1;34m(self, f, align_keys, ignore_failures, **kwargs)\u001b[0m\n\u001b[0;32m    300\u001b[0m \u001b[39mtry\u001b[39;00m:\n\u001b[0;32m    301\u001b[0m     \u001b[39mif\u001b[39;00m \u001b[39mcallable\u001b[39m(f):\n\u001b[1;32m--> 302\u001b[0m         applied \u001b[39m=\u001b[39m b\u001b[39m.\u001b[39mapply(f, \u001b[39m*\u001b[39m\u001b[39m*\u001b[39mkwargs)\n\u001b[0;32m    303\u001b[0m     \u001b[39melse\u001b[39;00m:\n\u001b[0;32m    304\u001b[0m         applied \u001b[39m=\u001b[39m \u001b[39mgetattr\u001b[39m(b, f)(\u001b[39m*\u001b[39m\u001b[39m*\u001b[39mkwargs)\n",
      "File \u001b[1;32mc:\\Users\\Gino\\AppData\\Local\\Programs\\Python\\Python39\\lib\\site-packages\\pandas\\core\\internals\\blocks.py:402\u001b[0m, in \u001b[0;36mBlock.apply\u001b[1;34m(self, func, **kwargs)\u001b[0m\n\u001b[0;32m    396\u001b[0m \u001b[39m@final\u001b[39m\n\u001b[0;32m    397\u001b[0m \u001b[39mdef\u001b[39;00m \u001b[39mapply\u001b[39m(\u001b[39mself\u001b[39m, func, \u001b[39m*\u001b[39m\u001b[39m*\u001b[39mkwargs) \u001b[39m-\u001b[39m\u001b[39m>\u001b[39m \u001b[39mlist\u001b[39m[Block]:\n\u001b[0;32m    398\u001b[0m \u001b[39m    \u001b[39m\u001b[39m\"\"\"\u001b[39;00m\n\u001b[0;32m    399\u001b[0m \u001b[39m    apply the function to my values; return a block if we are not\u001b[39;00m\n\u001b[0;32m    400\u001b[0m \u001b[39m    one\u001b[39;00m\n\u001b[0;32m    401\u001b[0m \u001b[39m    \"\"\"\u001b[39;00m\n\u001b[1;32m--> 402\u001b[0m     result \u001b[39m=\u001b[39m func(\u001b[39mself\u001b[39m\u001b[39m.\u001b[39mvalues, \u001b[39m*\u001b[39m\u001b[39m*\u001b[39mkwargs)\n\u001b[0;32m    404\u001b[0m     \u001b[39mreturn\u001b[39;00m \u001b[39mself\u001b[39m\u001b[39m.\u001b[39m_split_op_result(result)\n",
      "File \u001b[1;32mc:\\Users\\Gino\\AppData\\Local\\Programs\\Python\\Python39\\lib\\site-packages\\pandas\\core\\ops\\array_ops.py:222\u001b[0m, in \u001b[0;36marithmetic_op\u001b[1;34m(left, right, op)\u001b[0m\n\u001b[0;32m    217\u001b[0m \u001b[39melse\u001b[39;00m:\n\u001b[0;32m    218\u001b[0m     \u001b[39m# TODO we should handle EAs consistently and move this check before the if/else\u001b[39;00m\n\u001b[0;32m    219\u001b[0m     \u001b[39m# (https://github.com/pandas-dev/pandas/issues/41165)\u001b[39;00m\n\u001b[0;32m    220\u001b[0m     _bool_arith_check(op, left, right)\n\u001b[1;32m--> 222\u001b[0m     res_values \u001b[39m=\u001b[39m _na_arithmetic_op(left, right, op)\n\u001b[0;32m    224\u001b[0m \u001b[39mreturn\u001b[39;00m res_values\n",
      "File \u001b[1;32mc:\\Users\\Gino\\AppData\\Local\\Programs\\Python\\Python39\\lib\\site-packages\\pandas\\core\\ops\\array_ops.py:163\u001b[0m, in \u001b[0;36m_na_arithmetic_op\u001b[1;34m(left, right, op, is_cmp)\u001b[0m\n\u001b[0;32m    160\u001b[0m     func \u001b[39m=\u001b[39m partial(expressions\u001b[39m.\u001b[39mevaluate, op)\n\u001b[0;32m    162\u001b[0m \u001b[39mtry\u001b[39;00m:\n\u001b[1;32m--> 163\u001b[0m     result \u001b[39m=\u001b[39m func(left, right)\n\u001b[0;32m    164\u001b[0m \u001b[39mexcept\u001b[39;00m \u001b[39mTypeError\u001b[39;00m:\n\u001b[0;32m    165\u001b[0m     \u001b[39mif\u001b[39;00m \u001b[39mnot\u001b[39;00m is_cmp \u001b[39mand\u001b[39;00m (is_object_dtype(left\u001b[39m.\u001b[39mdtype) \u001b[39mor\u001b[39;00m is_object_dtype(right)):\n\u001b[0;32m    166\u001b[0m         \u001b[39m# For object dtype, fallback to a masked operation (only operating\u001b[39;00m\n\u001b[0;32m    167\u001b[0m         \u001b[39m#  on the non-missing values)\u001b[39;00m\n\u001b[0;32m    168\u001b[0m         \u001b[39m# Don't do this for comparisons, as that will handle complex numbers\u001b[39;00m\n\u001b[0;32m    169\u001b[0m         \u001b[39m#  incorrectly, see GH#32047\u001b[39;00m\n",
      "\u001b[1;31mUFuncTypeError\u001b[0m: ufunc 'add' did not contain a loop with signature matching types (dtype('float64'), dtype('<U2')) -> None"
     ]
    }
   ],
   "source": [
    "# Seaborn plot\n",
    "# correlation_chart(returns)\n",
    "# correlation_chart\n",
    "correlation_chart(returns, returns_cor)"
   ]
  },
  {
   "cell_type": "markdown",
   "metadata": {},
   "source": [
    "### Covariance"
   ]
  },
  {
   "cell_type": "code",
   "execution_count": 12,
   "metadata": {},
   "outputs": [],
   "source": [
    "def covariance(df, ticker, market):\n",
    "    return df[ticker].cov(df[market])"
   ]
  },
  {
   "cell_type": "code",
   "execution_count": 13,
   "metadata": {},
   "outputs": [
    {
     "data": {
      "text/plain": [
       "-16083.528151311688"
      ]
     },
     "execution_count": 13,
     "metadata": {},
     "output_type": "execute_result"
    }
   ],
   "source": [
    "user_covariance = covariance(portfolio_df, 'fake2', 'fake3')\n",
    "user_covariance"
   ]
  },
  {
   "cell_type": "markdown",
   "metadata": {},
   "source": [
    "### Variance"
   ]
  },
  {
   "cell_type": "code",
   "execution_count": 14,
   "metadata": {},
   "outputs": [],
   "source": [
    "def variance(df, market):\n",
    "    return df[market].var()"
   ]
  },
  {
   "cell_type": "code",
   "execution_count": 15,
   "metadata": {},
   "outputs": [
    {
     "data": {
      "text/plain": [
       "206148.8193420841"
      ]
     },
     "execution_count": 15,
     "metadata": {},
     "output_type": "execute_result"
    }
   ],
   "source": [
    "user_variance = variance(portfolio_df, 'fake3')\n",
    "user_variance"
   ]
  },
  {
   "cell_type": "markdown",
   "metadata": {},
   "source": [
    "### Drawdown"
   ]
  },
  {
   "cell_type": "code",
   "execution_count": 16,
   "metadata": {},
   "outputs": [],
   "source": [
    "def drawdown(df, tickers):\n",
    "    Roll_Max = df[tickers].cummax()\n",
    "    Daily_Drawdown = df[tickers]/Roll_Max - 1.0\n",
    "    Max_Daily_Drawdown = Daily_Drawdown.cummin() * 100"
   ]
  },
  {
   "cell_type": "code",
   "execution_count": 17,
   "metadata": {},
   "outputs": [],
   "source": [
    "user_drawdown = drawdown(portfolio_df, 'fake1')\n",
    "user_drawdown"
   ]
  },
  {
   "cell_type": "markdown",
   "metadata": {},
   "source": [
    "### Drawdown Chart Function"
   ]
  },
  {
   "cell_type": "code",
   "execution_count": 18,
   "metadata": {},
   "outputs": [],
   "source": [
    "def drawdown_chart(df, date, quant):\n",
    "    '''\n",
    "    df: dataframe\n",
    "    date: str: should be a date column name\n",
    "    quant: str: should be a quantitative data type\n",
    "    '''\n",
    "    chart = alt.Chart(df.reset_index()).mark_bar().encode(\n",
    "        x = date + ':T',  # T specifies temporal data type for x-axis\n",
    "        y = quant + ':Q',  # Q specifies a quantitative data type for y-axis\n",
    "        color = alt.condition(\n",
    "            getattr(alt.datum, quant) > 0,\n",
    "            alt.value(\"Green\"),  # The positive color\n",
    "            alt.value(\"red\")\n",
    "    ), tooltip= [date + ':T', quant + ':Q']\n",
    "    ).properties(width=800)\n",
    "    chart = chart.interactive()\n",
    "    return chart"
   ]
  },
  {
   "cell_type": "code",
   "execution_count": 19,
   "metadata": {},
   "outputs": [
    {
     "data": {
      "text/html": [
       "\n",
       "<style>\n",
       "  #altair-viz-d01a708e8d7a42b482eb3d1ae8e0d259.vega-embed {\n",
       "    width: 100%;\n",
       "    display: flex;\n",
       "  }\n",
       "\n",
       "  #altair-viz-d01a708e8d7a42b482eb3d1ae8e0d259.vega-embed details,\n",
       "  #altair-viz-d01a708e8d7a42b482eb3d1ae8e0d259.vega-embed details summary {\n",
       "    position: relative;\n",
       "  }\n",
       "</style>\n",
       "<div id=\"altair-viz-d01a708e8d7a42b482eb3d1ae8e0d259\"></div>\n",
       "<script type=\"text/javascript\">\n",
       "  var VEGA_DEBUG = (typeof VEGA_DEBUG == \"undefined\") ? {} : VEGA_DEBUG;\n",
       "  (function(spec, embedOpt){\n",
       "    let outputDiv = document.currentScript.previousElementSibling;\n",
       "    if (outputDiv.id !== \"altair-viz-d01a708e8d7a42b482eb3d1ae8e0d259\") {\n",
       "      outputDiv = document.getElementById(\"altair-viz-d01a708e8d7a42b482eb3d1ae8e0d259\");\n",
       "    }\n",
       "    const paths = {\n",
       "      \"vega\": \"https://cdn.jsdelivr.net/npm/vega@5?noext\",\n",
       "      \"vega-lib\": \"https://cdn.jsdelivr.net/npm/vega-lib?noext\",\n",
       "      \"vega-lite\": \"https://cdn.jsdelivr.net/npm/vega-lite@5.15.1?noext\",\n",
       "      \"vega-embed\": \"https://cdn.jsdelivr.net/npm/vega-embed@6?noext\",\n",
       "    };\n",
       "\n",
       "    function maybeLoadScript(lib, version) {\n",
       "      var key = `${lib.replace(\"-\", \"\")}_version`;\n",
       "      return (VEGA_DEBUG[key] == version) ?\n",
       "        Promise.resolve(paths[lib]) :\n",
       "        new Promise(function(resolve, reject) {\n",
       "          var s = document.createElement('script');\n",
       "          document.getElementsByTagName(\"head\")[0].appendChild(s);\n",
       "          s.async = true;\n",
       "          s.onload = () => {\n",
       "            VEGA_DEBUG[key] = version;\n",
       "            return resolve(paths[lib]);\n",
       "          };\n",
       "          s.onerror = () => reject(`Error loading script: ${paths[lib]}`);\n",
       "          s.src = paths[lib];\n",
       "        });\n",
       "    }\n",
       "\n",
       "    function showError(err) {\n",
       "      outputDiv.innerHTML = `<div class=\"error\" style=\"color:red;\">${err}</div>`;\n",
       "      throw err;\n",
       "    }\n",
       "\n",
       "    function displayChart(vegaEmbed) {\n",
       "      vegaEmbed(outputDiv, spec, embedOpt)\n",
       "        .catch(err => showError(`Javascript Error: ${err.message}<br>This usually means there's a typo in your chart specification. See the javascript console for the full traceback.`));\n",
       "    }\n",
       "\n",
       "    if(typeof define === \"function\" && define.amd) {\n",
       "      requirejs.config({paths});\n",
       "      require([\"vega-embed\"], displayChart, err => showError(`Error loading script: ${err.message}`));\n",
       "    } else {\n",
       "      maybeLoadScript(\"vega\", \"5\")\n",
       "        .then(() => maybeLoadScript(\"vega-lite\", \"5.15.1\"))\n",
       "        .then(() => maybeLoadScript(\"vega-embed\", \"6\"))\n",
       "        .catch(showError)\n",
       "        .then(() => displayChart(vegaEmbed));\n",
       "    }\n",
       "  })({\"config\": {\"view\": {\"continuousWidth\": 300, \"continuousHeight\": 300}}, \"data\": {\"name\": \"data-7392fb25b514df0e212dedd58aa07c95\"}, \"mark\": {\"type\": \"bar\"}, \"encoding\": {\"color\": {\"condition\": {\"test\": \"(datum.fake1 > 0)\", \"value\": \"Green\"}, \"value\": \"red\"}, \"tooltip\": [{\"field\": \"date\", \"type\": \"temporal\"}, {\"field\": \"fake1\", \"type\": \"quantitative\"}], \"x\": {\"field\": \"date\", \"type\": \"temporal\"}, \"y\": {\"field\": \"fake1\", \"type\": \"quantitative\"}}, \"params\": [{\"name\": \"param_2\", \"select\": {\"type\": \"interval\", \"encodings\": [\"x\", \"y\"]}, \"bind\": \"scales\"}], \"width\": 800, \"$schema\": \"https://vega.github.io/schema/vega-lite/v5.15.1.json\", \"datasets\": {\"data-7392fb25b514df0e212dedd58aa07c95\": [{\"date\": \"2018-01-01T00:00:00\", \"fake1\": 548.8650433452294, \"fake2\": 731.1444209712363, \"fake3\": 788.4017291967702}, {\"date\": \"2018-01-02T00:00:00\", \"fake1\": 80.88347740848496, \"fake2\": 692.7241849876423, \"fake3\": 415.78426273159926}, {\"date\": \"2018-01-03T00:00:00\", \"fake1\": -333.4270583644295, \"fake2\": 508.3943930337625, \"fake3\": -108.8646701075163}, {\"date\": \"2018-01-04T00:00:00\", \"fake1\": 827.8999337377877, \"fake2\": 182.46811035266796, \"fake3\": 985.9765437243168}, {\"date\": \"2018-01-05T00:00:00\", \"fake1\": -361.77068598297456, \"fake2\": 830.6767401584422, \"fake3\": -111.40443654277988}, {\"date\": \"2018-01-06T00:00:00\", \"fake1\": 48.94183027655322, \"fake2\": 61.8072973203607, \"fake3\": 773.9051409737106}, {\"date\": \"2018-01-07T00:00:00\", \"fake1\": -324.4117925424621, \"fake2\": 706.4438155320713, \"fake3\": 455.7059798111967}, {\"date\": \"2018-01-08T00:00:00\", \"fake1\": -328.1652427683737, \"fake2\": -333.3021127702025, \"fake3\": 842.4076748164381}, {\"date\": \"2018-01-09T00:00:00\", \"fake1\": -498.3600933577811, \"fake2\": 586.2682121646453, \"fake3\": 310.4467562862659}, {\"date\": \"2018-01-10T00:00:00\", \"fake1\": 928.6338678299584, \"fake2\": -427.87205611280365, \"fake3\": 369.6972367357174}, {\"date\": \"2018-01-11T00:00:00\", \"fake1\": -340.89064540337085, \"fake2\": -153.15425355455204, \"fake3\": 69.62840137462604}, {\"date\": \"2018-01-12T00:00:00\", \"fake1\": 336.78603106541334, \"fake2\": 501.4095708440579, \"fake3\": 643.6318205747649}, {\"date\": \"2018-01-13T00:00:00\", \"fake1\": 115.05178048001176, \"fake2\": 860.0805474118835, \"fake3\": 396.7431362604751}, {\"date\": \"2018-01-14T00:00:00\", \"fake1\": -126.28351553512493, \"fake2\": -401.2834082734528, \"fake3\": 322.5291683115547}, {\"date\": \"2018-01-15T00:00:00\", \"fake1\": 69.23410002040794, \"fake2\": 854.896050798108, \"fake3\": -215.22645169027828}, {\"date\": \"2018-01-16T00:00:00\", \"fake1\": 167.94674378145157, \"fake2\": 536.4697290947112, \"fake3\": 660.2510691611885}, {\"date\": \"2018-01-17T00:00:00\", \"fake1\": 403.75444411017213, \"fake2\": -166.35267036671712, \"fake3\": 747.2197085531001}, {\"date\": \"2018-01-18T00:00:00\", \"fake1\": -140.84860697736326, \"fake2\": 656.2643091713863, \"fake3\": 806.1428859308521}, {\"date\": \"2018-01-19T00:00:00\", \"fake1\": 136.71944245372094, \"fake2\": 194.63561172431002, \"fake3\": 739.4936583560662}, {\"date\": \"2018-01-20T00:00:00\", \"fake1\": -404.6592262209083, \"fake2\": 149.91419323849823, \"fake3\": 769.5538890162687}, {\"date\": \"2018-01-21T00:00:00\", \"fake1\": 124.9069597382537, \"fake2\": 630.9860377364078, \"fake3\": -371.5095490739002}, {\"date\": \"2018-01-22T00:00:00\", \"fake1\": -366.571123045946, \"fake2\": -35.08672471506998, \"fake3\": 484.95177150372376}, {\"date\": \"2018-01-23T00:00:00\", \"fake1\": 607.9778998269002, \"fake2\": 839.7684193887133, \"fake3\": 373.73738143404637}, {\"date\": \"2018-01-24T00:00:00\", \"fake1\": 898.8721626164468, \"fake2\": 461.5011266542268, \"fake3\": -74.9289010846685}, {\"date\": \"2018-01-25T00:00:00\", \"fake1\": -339.91460557019786, \"fake2\": 238.67353544384287, \"fake3\": -223.88724579748805}, {\"date\": \"2018-01-26T00:00:00\", \"fake1\": 551.7563511802043, \"fake2\": 523.8580340717389, \"fake3\": 568.0548636823362}, {\"date\": \"2018-01-27T00:00:00\", \"fake1\": 653.0001432738018, \"fake2\": 612.805418017488, \"fake3\": 925.3793123231734}, {\"date\": \"2018-01-28T00:00:00\", \"fake1\": 35.33709212877261, \"fake2\": 689.0893030030544, \"fake3\": 578.0302626882682}, {\"date\": \"2018-01-29T00:00:00\", \"fake1\": -173.62955794653158, \"fake2\": -293.5954972899972, \"fake3\": 99.03811595753007}, {\"date\": \"2018-01-30T00:00:00\", \"fake1\": 471.6618391379151, \"fake2\": 290.6796790410074, \"fake3\": 750.933922026019}, {\"date\": \"2018-01-31T00:00:00\", \"fake1\": 738.9942370491606, \"fake2\": -388.77771107593117, \"fake3\": -11.961437343847138}, {\"date\": \"2018-02-01T00:00:00\", \"fake1\": 885.6572696263379, \"fake2\": 697.9307596949221, \"fake3\": -495.3523932859546}, {\"date\": \"2018-02-02T00:00:00\", \"fake1\": 633.1371115164993, \"fake2\": 139.24105970016728, \"fake3\": 34.13608996576352}, {\"date\": \"2018-02-03T00:00:00\", \"fake1\": 582.6954020877471, \"fake2\": -220.1010580989207, \"fake3\": -215.48586551930293}, {\"date\": \"2018-02-04T00:00:00\", \"fake1\": 525.9739023375655, \"fake2\": 483.6941157476159, \"fake3\": 997.2027153992784}, {\"date\": \"2018-02-05T00:00:00\", \"fake1\": 746.2401120793445, \"fake2\": -236.2444333609376, \"fake3\": 930.3870676209337}, {\"date\": \"2018-02-06T00:00:00\", \"fake1\": 198.53161737092807, \"fake2\": -269.1425912596799, \"fake3\": 453.2697019811227}, {\"date\": \"2018-02-07T00:00:00\", \"fake1\": 537.5162813008287, \"fake2\": 247.9884457272401, \"fake3\": 6.084131920218283}, {\"date\": \"2018-02-08T00:00:00\", \"fake1\": -60.37970304088776, \"fake2\": -294.3143022241029, \"fake3\": -358.2055385718004}, {\"date\": \"2018-02-09T00:00:00\", \"fake1\": 997.8414691312155, \"fake2\": -120.81622958157027, \"fake3\": 692.4569634178858}, {\"date\": \"2018-02-10T00:00:00\", \"fake1\": -139.13044393402402, \"fake2\": -150.0116923143305, \"fake3\": -340.97797897917803}, {\"date\": \"2018-02-11T00:00:00\", \"fake1\": 34.065077916461405, \"fake2\": -194.87431162667622, \"fake3\": 909.7302871612491}, {\"date\": \"2018-02-12T00:00:00\", \"fake1\": 278.0757042739849, \"fake2\": 47.217521748569766, \"fake3\": 533.0442456280709}, {\"date\": \"2018-02-13T00:00:00\", \"fake1\": 770.1051542472297, \"fake2\": -399.21196614709834, \"fake3\": -336.06053632354315}, {\"date\": \"2018-02-14T00:00:00\", \"fake1\": -68.27074538136799, \"fake2\": -148.291681238524, \"fake3\": -207.18262221209943}, {\"date\": \"2018-02-15T00:00:00\", \"fake1\": 164.352984660576, \"fake2\": 594.0118407589041, \"fake3\": -392.58302873243815}, {\"date\": \"2018-02-16T00:00:00\", \"fake1\": 680.4299759104599, \"fake2\": 224.5177492733584, \"fake3\": -351.8876477127599}, {\"date\": \"2018-02-17T00:00:00\", \"fake1\": 624.3631275793136, \"fake2\": 523.3935118135814, \"fake3\": 599.7788403533451}, {\"date\": \"2018-02-18T00:00:00\", \"fake1\": -480.7152668466381, \"fake2\": 301.5865486582949, \"fake3\": 664.7703581447295}, {\"date\": \"2018-02-19T00:00:00\", \"fake1\": 122.65018445035366, \"fake2\": -306.60502935181444, \"fake3\": 548.2594060519159}, {\"date\": \"2018-02-20T00:00:00\", \"fake1\": 10.166428685955452, \"fake2\": 97.73391877760355, \"fake3\": -70.48343138332075}, {\"date\": \"2018-02-21T00:00:00\", \"fake1\": 623.702361764504, \"fake2\": -359.9126206774372, \"fake3\": 570.9113781352532}, {\"date\": \"2018-02-22T00:00:00\", \"fake1\": 40.85119698893834, \"fake2\": 521.834881804527, \"fake3\": -336.54719422804965}, {\"date\": \"2018-02-23T00:00:00\", \"fake1\": 56.64423873004421, \"fake2\": -46.07617830744016, \"fake3\": 945.4477647741904}, {\"date\": \"2018-02-24T00:00:00\", \"fake1\": -336.24212359623243, \"fake2\": 426.5529043580026, \"fake3\": 478.80011373501156}, {\"date\": \"2018-02-25T00:00:00\", \"fake1\": -68.42737307375796, \"fake2\": 373.71974176220283, \"fake3\": -400.1861442740103}, {\"date\": \"2018-02-26T00:00:00\", \"fake1\": 55.50665896987732, \"fake2\": -48.41421118650646, \"fake3\": -147.04209526195586}, {\"date\": \"2018-02-27T00:00:00\", \"fake1\": 512.698116337551, \"fake2\": -488.26507163401266, \"fake3\": -254.31546142161778}, {\"date\": \"2018-02-28T00:00:00\", \"fake1\": -402.8725698697933, \"fake2\": -75.13262881839978, \"fake3\": 884.1942783109455}, {\"date\": \"2018-03-01T00:00:00\", \"fake1\": -55.79599131158534, \"fake2\": -5.97994610317653, \"fake3\": -220.95792974850156}, {\"date\": \"2018-03-02T00:00:00\", \"fake1\": 100.04929155773164, \"fake2\": 964.9457555722045, \"fake3\": 386.9388567619859}, {\"date\": \"2018-03-03T00:00:00\", \"fake1\": 293.047935418786, \"fake2\": 440.1287969707097, \"fake3\": -451.5771936526098}, {\"date\": \"2018-03-04T00:00:00\", \"fake1\": -183.9660206133699, \"fake2\": 135.67797099396148, \"fake3\": -160.39750043521485}, {\"date\": \"2018-03-05T00:00:00\", \"fake1\": 555.3122508194303, \"fake2\": 596.630107682442, \"fake3\": -327.47555806770697}, {\"date\": \"2018-03-06T00:00:00\", \"fake1\": 526.5121197279975, \"fake2\": 724.0233611121258, \"fake3\": 12.294250731247075}, {\"date\": \"2018-03-07T00:00:00\", \"fake1\": 463.6936929360072, \"fake2\": -96.4608721593911, \"fake3\": 265.0937907392804}, {\"date\": \"2018-03-08T00:00:00\", \"fake1\": 409.7882491705366, \"fake2\": 278.3589839006489, \"fake3\": -413.15021542952627}, {\"date\": \"2018-03-09T00:00:00\", \"fake1\": -302.03146924407633, \"fake2\": -30.776843041307302, \"fake3\": 946.1210217575407}, {\"date\": \"2018-03-10T00:00:00\", \"fake1\": 181.04785684243734, \"fake2\": 577.1874951585371, \"fake3\": 13.654582617140932}, {\"date\": \"2018-03-11T00:00:00\", \"fake1\": -330.669920249868, \"fake2\": -335.19063652593013, \"fake3\": 424.0304822913216}, {\"date\": \"2018-03-12T00:00:00\", \"fake1\": 138.94903240205076, \"fake2\": -27.790578704210247, \"fake3\": -13.515968495022776}, {\"date\": \"2018-03-13T00:00:00\", \"fake1\": 615.444829162436, \"fake2\": 392.9647454793261, \"fake3\": 971.3083329108016}, {\"date\": \"2018-03-14T00:00:00\", \"fake1\": -490.7745879895049, \"fake2\": 215.73961447995077, \"fake3\": 392.92260102669127}, {\"date\": \"2018-03-15T00:00:00\", \"fake1\": 755.5574483981961, \"fake2\": 9.751765815810927, \"fake3\": 197.54535162142474}, {\"date\": \"2018-03-16T00:00:00\", \"fake1\": -250.21227807630748, \"fake2\": -158.7182607537111, \"fake3\": 989.1991742248498}, {\"date\": \"2018-03-17T00:00:00\", \"fake1\": 216.03198108517074, \"fake2\": -141.81148445136796, \"fake3\": -92.07008170355675}, {\"date\": \"2018-03-18T00:00:00\", \"fake1\": 846.0685226949086, \"fake2\": -455.3907715350099, \"fake3\": 487.1605491712744}, {\"date\": \"2018-03-19T00:00:00\", \"fake1\": 879.0425487199547, \"fake2\": 677.1303809478898, \"fake3\": 639.67746605047}, {\"date\": \"2018-03-20T00:00:00\", \"fake1\": -258.6599857692577, \"fake2\": 192.9811012363656, \"fake3\": 65.17533596155977}, {\"date\": \"2018-03-21T00:00:00\", \"fake1\": 11.665797528065468, \"fake2\": 843.8941570649865, \"fake3\": -260.7823886031106}, {\"date\": \"2018-03-22T00:00:00\", \"fake1\": 634.0987322170793, \"fake2\": 144.9658094580053, \"fake3\": -222.73866010823394}, {\"date\": \"2018-03-23T00:00:00\", \"fake1\": -456.7464375615168, \"fake2\": -305.9765924054143, \"fake3\": 359.9406799063597}, {\"date\": \"2018-03-24T00:00:00\", \"fake1\": 913.8072145623121, \"fake2\": 509.8685479858561, \"fake3\": -499.0480332558618}, {\"date\": \"2018-03-25T00:00:00\", \"fake1\": -249.5280382003275, \"fake2\": 802.4638411003376, \"fake3\": 281.56676936043027}, {\"date\": \"2018-03-26T00:00:00\", \"fake1\": -144.02381634466838, \"fake2\": -53.28167879594048, \"fake3\": 243.17631748796998}, {\"date\": \"2018-03-27T00:00:00\", \"fake1\": 471.07753171576155, \"fake2\": -377.09492322491565, \"fake3\": 43.25290475722932}, {\"date\": \"2018-03-28T00:00:00\", \"fake1\": 785.087686416059, \"fake2\": 874.7351501824005, \"fake3\": -68.55906184922196}, {\"date\": \"2018-03-29T00:00:00\", \"fake1\": -252.84059673638058, \"fake2\": 821.4203169856637, \"fake3\": 742.8347138276416}, {\"date\": \"2018-03-30T00:00:00\", \"fake1\": 869.5758581428847, \"fake2\": 462.86735177742196, \"fake3\": -246.53534017143625}, {\"date\": \"2018-03-31T00:00:00\", \"fake1\": 238.36809178151873, \"fake2\": 108.57196190778814, \"fake3\": 55.49982025697068}, {\"date\": \"2018-04-01T00:00:00\", \"fake1\": -309.577069254251, \"fake2\": 798.1988313765969, \"fake3\": 652.8336509797895}, {\"date\": \"2018-04-02T00:00:00\", \"fake1\": 506.7818086128612, \"fake2\": -182.62856334313528, \"fake3\": -28.974146524610433}, {\"date\": \"2018-04-03T00:00:00\", \"fake1\": -230.56763350371853, \"fake2\": -3.569995240547996, \"fake3\": 405.8753600074988}, {\"date\": \"2018-04-04T00:00:00\", \"fake1\": -258.42036174187547, \"fake2\": 250.8945249995661, \"fake3\": -48.717936339761536}, {\"date\": \"2018-04-05T00:00:00\", \"fake1\": -4.198610673051121, \"fake2\": 324.6166917207505, \"fake3\": -348.4411966223172}, {\"date\": \"2018-04-06T00:00:00\", \"fake1\": 645.5433243408406, \"fake2\": 295.6462742592895, \"fake3\": -148.20184052328}, {\"date\": \"2018-04-07T00:00:00\", \"fake1\": -446.5738078754407, \"fake2\": 790.0276763552868, \"fake3\": -480.2416888394632}, {\"date\": \"2018-04-08T00:00:00\", \"fake1\": 648.7895890351576, \"fake2\": -228.31385017404045, \"fake3\": 764.3220787762418}, {\"date\": \"2018-04-09T00:00:00\", \"fake1\": 257.7075408341394, \"fake2\": -209.27537073922576, \"fake3\": 822.5452320915953}, {\"date\": \"2018-04-10T00:00:00\", \"fake1\": 304.63695326805805, \"fake2\": -353.5721192170895, \"fake3\": -200.99360235532617}]}}, {\"mode\": \"vega-lite\"});\n",
       "</script>"
      ],
      "text/plain": [
       "alt.Chart(...)"
      ]
     },
     "execution_count": 19,
     "metadata": {},
     "output_type": "execute_result"
    }
   ],
   "source": [
    "user_drawdown = drawdown_chart(returns, 'date', 'fake1')\n",
    "user_drawdown"
   ]
  },
  {
   "cell_type": "code",
   "execution_count": 20,
   "metadata": {},
   "outputs": [],
   "source": [
    "# Line chart\n",
    "def tracking_error(df, tickers, market):\n",
    "    track_error = np.sqrt(sum([i**2 for i in df[tickers] - df[market]]))\n",
    "    return track_error"
   ]
  },
  {
   "cell_type": "code",
   "execution_count": 21,
   "metadata": {},
   "outputs": [
    {
     "data": {
      "text/plain": [
       "6329.537269817434"
      ]
     },
     "execution_count": 21,
     "metadata": {},
     "output_type": "execute_result"
    }
   ],
   "source": [
    "user_tracking_error = tracking_error(portfolio_df, 'fake2', 'fake3')\n",
    "user_tracking_error"
   ]
  },
  {
   "cell_type": "markdown",
   "metadata": {},
   "source": [
    "### Beta"
   ]
  },
  {
   "cell_type": "code",
   "execution_count": 22,
   "metadata": {},
   "outputs": [],
   "source": [
    "\n",
    "def beta(covariance, variance):\n",
    "    chart_beta = covariance / variance\n",
    "    chart_beta = chart_beta\n",
    "    return chart_beta"
   ]
  },
  {
   "cell_type": "code",
   "execution_count": 23,
   "metadata": {},
   "outputs": [
    {
     "data": {
      "text/plain": [
       "-0.0780190165660014"
      ]
     },
     "execution_count": 23,
     "metadata": {},
     "output_type": "execute_result"
    }
   ],
   "source": [
    "user_beta = beta(user_covariance, user_variance)\n",
    "user_beta"
   ]
  },
  {
   "cell_type": "markdown",
   "metadata": {},
   "source": [
    "### Beta chart function"
   ]
  },
  {
   "cell_type": "code",
   "execution_count": 24,
   "metadata": {},
   "outputs": [],
   "source": [
    "# In the works\n",
    "# def beta_chart(covariance, variance):\n",
    "#     chart_beta = covariance / variance\n",
    "#     chart_beta = chart_beta.rolling(window = 21).plot()\n",
    "#     plt.show()\n",
    "#     beta.shape\n",
    "#     chart_beta.plot()\n",
    "#     return chart_beta"
   ]
  },
  {
   "cell_type": "markdown",
   "metadata": {},
   "source": [
    "### Sharpe Ratio"
   ]
  },
  {
   "cell_type": "code",
   "execution_count": 25,
   "metadata": {},
   "outputs": [],
   "source": [
    "def sharpe_ratio(df):\n",
    "    sharpe = (df.mean()*252) / (df.std() * np.sqrt(252))\n",
    "    return sharpe"
   ]
  },
  {
   "cell_type": "code",
   "execution_count": 26,
   "metadata": {},
   "outputs": [
    {
     "data": {
      "text/plain": [
       "fake1   7.30\n",
       "fake2   8.10\n",
       "fake3   8.40\n",
       "dtype: float64"
      ]
     },
     "execution_count": 26,
     "metadata": {},
     "output_type": "execute_result"
    }
   ],
   "source": [
    "user_sharpe_ratio = sharpe_ratio(portfolio_df)\n",
    "user_sharpe_ratio"
   ]
  },
  {
   "cell_type": "markdown",
   "metadata": {},
   "source": [
    "### Return on Investment"
   ]
  },
  {
   "cell_type": "code",
   "execution_count": 27,
   "metadata": {},
   "outputs": [],
   "source": [
    "def return_on_investment(investment, returns):\n",
    "    cumulative_profit = investment * returns\n",
    "    return_oi = (cumulative_profit - investment) / investment\n",
    "    return(return_oi)"
   ]
  },
  {
   "cell_type": "markdown",
   "metadata": {},
   "source": [
    "### Return on Investment"
   ]
  },
  {
   "cell_type": "code",
   "execution_count": 28,
   "metadata": {},
   "outputs": [],
   "source": [
    "def return_on_investment(investment, returns):\n",
    "    cumulative_profit = investment * returns\n",
    "    return_oi = (cumulative_profit - investment) / investment\n",
    "    return(return_oi)"
   ]
  },
  {
   "cell_type": "code",
   "execution_count": 29,
   "metadata": {},
   "outputs": [
    {
     "data": {
      "text/html": [
       "<div>\n",
       "<style scoped>\n",
       "    .dataframe tbody tr th:only-of-type {\n",
       "        vertical-align: middle;\n",
       "    }\n",
       "\n",
       "    .dataframe tbody tr th {\n",
       "        vertical-align: top;\n",
       "    }\n",
       "\n",
       "    .dataframe thead th {\n",
       "        text-align: right;\n",
       "    }\n",
       "</style>\n",
       "<table border=\"1\" class=\"dataframe\">\n",
       "  <thead>\n",
       "    <tr style=\"text-align: right;\">\n",
       "      <th></th>\n",
       "      <th>fake1</th>\n",
       "      <th>fake2</th>\n",
       "      <th>fake3</th>\n",
       "    </tr>\n",
       "  </thead>\n",
       "  <tbody>\n",
       "    <tr>\n",
       "      <th>0</th>\n",
       "      <td>548.87</td>\n",
       "      <td>731.14</td>\n",
       "      <td>788.40</td>\n",
       "    </tr>\n",
       "    <tr>\n",
       "      <th>1</th>\n",
       "      <td>45023.86</td>\n",
       "      <td>507905.29</td>\n",
       "      <td>329009.22</td>\n",
       "    </tr>\n",
       "    <tr>\n",
       "      <th>2</th>\n",
       "      <td>-14967483.38</td>\n",
       "      <td>258724616.19</td>\n",
       "      <td>-35488579.59</td>\n",
       "    </tr>\n",
       "    <tr>\n",
       "      <th>3</th>\n",
       "      <td>-12406545153.63</td>\n",
       "      <td>47467716617.41</td>\n",
       "      <td>-35026394643.85</td>\n",
       "    </tr>\n",
       "    <tr>\n",
       "      <th>4</th>\n",
       "      <td>4475917805391.61</td>\n",
       "      <td>39477795819964.52</td>\n",
       "      <td>3867069364668.15</td>\n",
       "    </tr>\n",
       "    <tr>\n",
       "      <th>...</th>\n",
       "      <td>...</td>\n",
       "      <td>...</td>\n",
       "      <td>...</td>\n",
       "    </tr>\n",
       "    <tr>\n",
       "      <th>95</th>\n",
       "      <td>22035003672701333854221886550329554830259512686...</td>\n",
       "      <td>37314922549350880971640162584610574353556892182...</td>\n",
       "      <td>98352860255176750136009519934792358324997028212...</td>\n",
       "    </tr>\n",
       "    <tr>\n",
       "      <th>96</th>\n",
       "      <td>-9818220492994853555487275163843993324670717272...</td>\n",
       "      <td>29517136477590520057082235319641635455331219196...</td>\n",
       "      <td>-4713479085088262482853842282509745952603715433...</td>\n",
       "    </tr>\n",
       "    <tr>\n",
       "      <th>97</th>\n",
       "      <td>-6379777459199688852721152639090297459912959222...</td>\n",
       "      <td>-6709653938833715933405501827399982514088501722...</td>\n",
       "      <td>-3607329611668087457782929878407645516423240977...</td>\n",
       "    </tr>\n",
       "    <tr>\n",
       "      <th>98</th>\n",
       "      <td>-1650496537538625770734877292319820586703586498...</td>\n",
       "      <td>13974556616424987175800567074585905774965368209...</td>\n",
       "      <td>-2970799102272079147620074667173492448057372935...</td>\n",
       "    </tr>\n",
       "    <tr>\n",
       "      <th>99</th>\n",
       "      <td>-5044527331127846212149711329546826880463518391...</td>\n",
       "      <td>-4927039041372157644991190011036673106054377091...</td>\n",
       "      <td>59414081433736220306543045888364490048649829730...</td>\n",
       "    </tr>\n",
       "  </tbody>\n",
       "</table>\n",
       "<p>100 rows × 3 columns</p>\n",
       "</div>"
      ],
      "text/plain": [
       "                                                fake1  \\\n",
       "0                                              548.87   \n",
       "1                                            45023.86   \n",
       "2                                        -14967483.38   \n",
       "3                                     -12406545153.63   \n",
       "4                                    4475917805391.61   \n",
       "..                                                ...   \n",
       "95 22035003672701333854221886550329554830259512686...   \n",
       "96 -9818220492994853555487275163843993324670717272...   \n",
       "97 -6379777459199688852721152639090297459912959222...   \n",
       "98 -1650496537538625770734877292319820586703586498...   \n",
       "99 -5044527331127846212149711329546826880463518391...   \n",
       "\n",
       "                                                fake2  \\\n",
       "0                                              731.14   \n",
       "1                                           507905.29   \n",
       "2                                        258724616.19   \n",
       "3                                      47467716617.41   \n",
       "4                                   39477795819964.52   \n",
       "..                                                ...   \n",
       "95 37314922549350880971640162584610574353556892182...   \n",
       "96 29517136477590520057082235319641635455331219196...   \n",
       "97 -6709653938833715933405501827399982514088501722...   \n",
       "98 13974556616424987175800567074585905774965368209...   \n",
       "99 -4927039041372157644991190011036673106054377091...   \n",
       "\n",
       "                                                fake3  \n",
       "0                                              788.40  \n",
       "1                                           329009.22  \n",
       "2                                        -35488579.59  \n",
       "3                                     -35026394643.85  \n",
       "4                                    3867069364668.15  \n",
       "..                                                ...  \n",
       "95 98352860255176750136009519934792358324997028212...  \n",
       "96 -4713479085088262482853842282509745952603715433...  \n",
       "97 -3607329611668087457782929878407645516423240977...  \n",
       "98 -2970799102272079147620074667173492448057372935...  \n",
       "99 59414081433736220306543045888364490048649829730...  \n",
       "\n",
       "[100 rows x 3 columns]"
      ]
     },
     "execution_count": 29,
     "metadata": {},
     "output_type": "execute_result"
    }
   ],
   "source": [
    "user_roi = return_on_investment(initial_investment, user_cr)\n",
    "user_roi"
   ]
  },
  {
   "cell_type": "markdown",
   "metadata": {},
   "source": [
    "### ROI Chart"
   ]
  },
  {
   "cell_type": "code",
   "execution_count": 30,
   "metadata": {},
   "outputs": [],
   "source": [
    "\n",
    "def roi_chart(df, date, roi, initial_investment):\n",
    "    roi_chart = alt.Chart(df).mark_bar().encode(\n",
    "        x='project',\n",
    "        y='score'\n",
    "    ).properties(\n",
    "        width=alt.Step(40)  # controls width of bar.\n",
    "    )\n",
    "\n",
    "    tick = alt.Chart(df).mark_tick(\n",
    "        color='red',\n",
    "        thickness=2,\n",
    "        size=40 * 0.9,  # controls width of tick.\n",
    "    ).encode(\n",
    "        x = asset,\n",
    "        y = roi\n",
    "    )\n",
    "\n",
    "    bar + tick"
   ]
  }
 ],
 "metadata": {
  "kernelspec": {
   "display_name": "ucbenv",
   "language": "python",
   "name": "python3"
  },
  "language_info": {
   "codemirror_mode": {
    "name": "ipython",
    "version": 3
   },
   "file_extension": ".py",
   "mimetype": "text/x-python",
   "name": "python",
   "nbconvert_exporter": "python",
   "pygments_lexer": "ipython3",
   "version": "3.9.13"
  }
 },
 "nbformat": 4,
 "nbformat_minor": 2
}
