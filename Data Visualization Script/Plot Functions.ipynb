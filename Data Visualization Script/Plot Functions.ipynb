{
 "cells": [
  {
   "cell_type": "code",
   "execution_count": 3,
   "metadata": {},
   "outputs": [],
   "source": [
    "import pandas as pd\n",
    "import numpy as np\n",
    "pd.options.display.float_format = '{:.2f}'.format\n",
    "import seaborn as sns\n",
    "import matplotlib.pyplot as plt\n",
    "import hvplot as hvp\n",
    "import datetime\n",
    "import altair as alt"
   ]
  },
  {
   "cell_type": "code",
   "execution_count": 4,
   "metadata": {},
   "outputs": [
    {
     "data": {
      "text/html": [
       "<div>\n",
       "<style scoped>\n",
       "    .dataframe tbody tr th:only-of-type {\n",
       "        vertical-align: middle;\n",
       "    }\n",
       "\n",
       "    .dataframe tbody tr th {\n",
       "        vertical-align: top;\n",
       "    }\n",
       "\n",
       "    .dataframe thead th {\n",
       "        text-align: right;\n",
       "    }\n",
       "</style>\n",
       "<table border=\"1\" class=\"dataframe\">\n",
       "  <thead>\n",
       "    <tr style=\"text-align: right;\">\n",
       "      <th></th>\n",
       "      <th>fake1</th>\n",
       "      <th>fake2</th>\n",
       "      <th>fake3</th>\n",
       "    </tr>\n",
       "    <tr>\n",
       "      <th>Date</th>\n",
       "      <th></th>\n",
       "      <th></th>\n",
       "      <th></th>\n",
       "    </tr>\n",
       "  </thead>\n",
       "  <tbody>\n",
       "    <tr>\n",
       "      <th>2018-01-01</th>\n",
       "      <td>370.17</td>\n",
       "      <td>997.76</td>\n",
       "      <td>-211.71</td>\n",
       "    </tr>\n",
       "    <tr>\n",
       "      <th>2018-01-02</th>\n",
       "      <td>763.05</td>\n",
       "      <td>744.16</td>\n",
       "      <td>233.63</td>\n",
       "    </tr>\n",
       "    <tr>\n",
       "      <th>2018-01-03</th>\n",
       "      <td>-309.44</td>\n",
       "      <td>-150.84</td>\n",
       "      <td>600.00</td>\n",
       "    </tr>\n",
       "    <tr>\n",
       "      <th>2018-01-04</th>\n",
       "      <td>-382.87</td>\n",
       "      <td>826.67</td>\n",
       "      <td>-9.61</td>\n",
       "    </tr>\n",
       "    <tr>\n",
       "      <th>2018-01-05</th>\n",
       "      <td>820.37</td>\n",
       "      <td>879.06</td>\n",
       "      <td>330.41</td>\n",
       "    </tr>\n",
       "  </tbody>\n",
       "</table>\n",
       "</div>"
      ],
      "text/plain": [
       "             fake1   fake2   fake3\n",
       "Date                              \n",
       "2018-01-01  370.17  997.76 -211.71\n",
       "2018-01-02  763.05  744.16  233.63\n",
       "2018-01-03 -309.44 -150.84  600.00\n",
       "2018-01-04 -382.87  826.67   -9.61\n",
       "2018-01-05  820.37  879.06  330.41"
      ]
     },
     "execution_count": 4,
     "metadata": {},
     "output_type": "execute_result"
    }
   ],
   "source": [
    "# Creating a range of dates\n",
    "start_date = datetime.datetime(2018, 1, 1)\n",
    "end_date = datetime.datetime(2023, 12, 31)\n",
    "date_range = pd.date_range(start_date, end_date, freq='D')\n",
    "# Dates df\n",
    "dates_df = pd.DataFrame(date_range, columns=['Date'])\n",
    "#print(dates_df.head(1825))\n",
    "\n",
    "# Creating a range of random \"prices\"\n",
    "portfolio_df = pd.DataFrame(\n",
    "    {\n",
    "    \"fake1\": np.random.uniform(1000, -500, 100),\n",
    "    \"fake2\": np.random.uniform(1000, -500, 100),\n",
    "    \"fake3\": np.random.uniform(1000, -500, 100)\n",
    "    }\n",
    "    )\n",
    "f1_portfolio_df = portfolio_df[\"fake1\"].to_frame()\n",
    "\n",
    "# Concatinating and finalizing test data\n",
    "returns = pd.concat([dates_df, portfolio_df], join = \"inner\", axis = 1)\n",
    "returns.set_index('Date', inplace = True)\n",
    "returns = pd.DataFrame(returns)\n",
    "returns.head()"
   ]
  },
  {
   "cell_type": "code",
   "execution_count": 5,
   "metadata": {},
   "outputs": [],
   "source": [
    "initial_investment = 10000"
   ]
  },
  {
   "cell_type": "code",
   "execution_count": 6,
   "metadata": {},
   "outputs": [],
   "source": [
    "def cumulative_returns(df):\n",
    "    return (1 + df).cumprod()"
   ]
  },
  {
   "cell_type": "code",
   "execution_count": 7,
   "metadata": {},
   "outputs": [
    {
     "data": {
      "text/html": [
       "<div>\n",
       "<style scoped>\n",
       "    .dataframe tbody tr th:only-of-type {\n",
       "        vertical-align: middle;\n",
       "    }\n",
       "\n",
       "    .dataframe tbody tr th {\n",
       "        vertical-align: top;\n",
       "    }\n",
       "\n",
       "    .dataframe thead th {\n",
       "        text-align: right;\n",
       "    }\n",
       "</style>\n",
       "<table border=\"1\" class=\"dataframe\">\n",
       "  <thead>\n",
       "    <tr style=\"text-align: right;\">\n",
       "      <th></th>\n",
       "      <th>fake1</th>\n",
       "      <th>fake2</th>\n",
       "      <th>fake3</th>\n",
       "    </tr>\n",
       "  </thead>\n",
       "  <tbody>\n",
       "    <tr>\n",
       "      <th>0</th>\n",
       "      <td>371.17</td>\n",
       "      <td>998.76</td>\n",
       "      <td>-210.71</td>\n",
       "    </tr>\n",
       "    <tr>\n",
       "      <th>1</th>\n",
       "      <td>283592.41</td>\n",
       "      <td>744240.09</td>\n",
       "      <td>-49439.06</td>\n",
       "    </tr>\n",
       "    <tr>\n",
       "      <th>2</th>\n",
       "      <td>-87471435.53</td>\n",
       "      <td>-111514013.73</td>\n",
       "      <td>-29712995.88</td>\n",
       "    </tr>\n",
       "    <tr>\n",
       "      <th>3</th>\n",
       "      <td>33402604072.22</td>\n",
       "      <td>-92296898124.74</td>\n",
       "      <td>255816229.59</td>\n",
       "    </tr>\n",
       "    <tr>\n",
       "      <th>4</th>\n",
       "      <td>27435945665333.17</td>\n",
       "      <td>-81227070253938.64</td>\n",
       "      <td>84779742498.47</td>\n",
       "    </tr>\n",
       "    <tr>\n",
       "      <th>...</th>\n",
       "      <td>...</td>\n",
       "      <td>...</td>\n",
       "      <td>...</td>\n",
       "    </tr>\n",
       "    <tr>\n",
       "      <th>95</th>\n",
       "      <td>-1592016001213159931954983181141855848868652821...</td>\n",
       "      <td>-6669080194371434966975730247171745401847413941...</td>\n",
       "      <td>14706076377707886621587538250541780886110884704...</td>\n",
       "    </tr>\n",
       "    <tr>\n",
       "      <th>96</th>\n",
       "      <td>49588840910949677049993861773536274467985199595...</td>\n",
       "      <td>39481285134700637463323087831683346775080335967...</td>\n",
       "      <td>28700250777757478130277447259986741899714872607...</td>\n",
       "    </tr>\n",
       "    <tr>\n",
       "      <th>97</th>\n",
       "      <td>19100803369774009632943163044723884328131699310...</td>\n",
       "      <td>10922014003608890118700346949879142769058558217...</td>\n",
       "      <td>-1428655581377341982584071078762253070886138579...</td>\n",
       "    </tr>\n",
       "    <tr>\n",
       "      <th>98</th>\n",
       "      <td>97778116717738739991800194398393341203067184912...</td>\n",
       "      <td>-4017416600698394882035483092596977882066063885...</td>\n",
       "      <td>36411613391527270847628741704679084907131102585...</td>\n",
       "    </tr>\n",
       "    <tr>\n",
       "      <th>99</th>\n",
       "      <td>-1223495819630786128216764284828910845743917421...</td>\n",
       "      <td>84439732816659123340515608340423268660498239860...</td>\n",
       "      <td>27396104152397563369327976961285477782698122846...</td>\n",
       "    </tr>\n",
       "  </tbody>\n",
       "</table>\n",
       "<p>100 rows × 3 columns</p>\n",
       "</div>"
      ],
      "text/plain": [
       "                                                fake1  \\\n",
       "0                                              371.17   \n",
       "1                                           283592.41   \n",
       "2                                        -87471435.53   \n",
       "3                                      33402604072.22   \n",
       "4                                   27435945665333.17   \n",
       "..                                                ...   \n",
       "95 -1592016001213159931954983181141855848868652821...   \n",
       "96 49588840910949677049993861773536274467985199595...   \n",
       "97 19100803369774009632943163044723884328131699310...   \n",
       "98 97778116717738739991800194398393341203067184912...   \n",
       "99 -1223495819630786128216764284828910845743917421...   \n",
       "\n",
       "                                                fake2  \\\n",
       "0                                              998.76   \n",
       "1                                           744240.09   \n",
       "2                                       -111514013.73   \n",
       "3                                     -92296898124.74   \n",
       "4                                  -81227070253938.64   \n",
       "..                                                ...   \n",
       "95 -6669080194371434966975730247171745401847413941...   \n",
       "96 39481285134700637463323087831683346775080335967...   \n",
       "97 10922014003608890118700346949879142769058558217...   \n",
       "98 -4017416600698394882035483092596977882066063885...   \n",
       "99 84439732816659123340515608340423268660498239860...   \n",
       "\n",
       "                                                fake3  \n",
       "0                                             -210.71  \n",
       "1                                           -49439.06  \n",
       "2                                        -29712995.88  \n",
       "3                                        255816229.59  \n",
       "4                                      84779742498.47  \n",
       "..                                                ...  \n",
       "95 14706076377707886621587538250541780886110884704...  \n",
       "96 28700250777757478130277447259986741899714872607...  \n",
       "97 -1428655581377341982584071078762253070886138579...  \n",
       "98 36411613391527270847628741704679084907131102585...  \n",
       "99 27396104152397563369327976961285477782698122846...  \n",
       "\n",
       "[100 rows x 3 columns]"
      ]
     },
     "execution_count": 7,
     "metadata": {},
     "output_type": "execute_result"
    }
   ],
   "source": [
    "user_cr = cumulative_returns(portfolio_df)\n",
    "user_cr"
   ]
  },
  {
   "cell_type": "markdown",
   "metadata": {},
   "source": [
    "## Correlation"
   ]
  },
  {
   "cell_type": "code",
   "execution_count": 10,
   "metadata": {},
   "outputs": [
    {
     "data": {
      "text/html": [
       "<div>\n",
       "<style scoped>\n",
       "    .dataframe tbody tr th:only-of-type {\n",
       "        vertical-align: middle;\n",
       "    }\n",
       "\n",
       "    .dataframe tbody tr th {\n",
       "        vertical-align: top;\n",
       "    }\n",
       "\n",
       "    .dataframe thead th {\n",
       "        text-align: right;\n",
       "    }\n",
       "</style>\n",
       "<table border=\"1\" class=\"dataframe\">\n",
       "  <thead>\n",
       "    <tr style=\"text-align: right;\">\n",
       "      <th></th>\n",
       "      <th>fake1</th>\n",
       "      <th>fake2</th>\n",
       "      <th>fake3</th>\n",
       "    </tr>\n",
       "  </thead>\n",
       "  <tbody>\n",
       "    <tr>\n",
       "      <th>fake1</th>\n",
       "      <td>1.00</td>\n",
       "      <td>0.17</td>\n",
       "      <td>-0.07</td>\n",
       "    </tr>\n",
       "    <tr>\n",
       "      <th>fake2</th>\n",
       "      <td>0.17</td>\n",
       "      <td>1.00</td>\n",
       "      <td>-0.09</td>\n",
       "    </tr>\n",
       "    <tr>\n",
       "      <th>fake3</th>\n",
       "      <td>-0.07</td>\n",
       "      <td>-0.09</td>\n",
       "      <td>1.00</td>\n",
       "    </tr>\n",
       "  </tbody>\n",
       "</table>\n",
       "</div>"
      ],
      "text/plain": [
       "       fake1  fake2  fake3\n",
       "fake1   1.00   0.17  -0.07\n",
       "fake2   0.17   1.00  -0.09\n",
       "fake3  -0.07  -0.09   1.00"
      ]
     },
     "execution_count": 10,
     "metadata": {},
     "output_type": "execute_result"
    }
   ],
   "source": [
    "returns_cor = returns.corr()\n",
    "returns_cor"
   ]
  },
  {
   "cell_type": "markdown",
   "metadata": {},
   "source": [
    "## Correlation Plot"
   ]
  },
  {
   "cell_type": "code",
   "execution_count": 12,
   "metadata": {},
   "outputs": [],
   "source": [
    "#In the works\n",
    "# source = returns_cor\n",
    "\n",
    "# alt.Chart(source).mark_circle(size=60).encode(\n",
    "#     x='Horsepower',\n",
    "#     y='Miles_per_Gallon',\n",
    "#     color='Origin',\n",
    "#     tooltip=['Name', 'Origin', 'Horsepower', 'Miles_per_Gallon']\n",
    "# ).interactive()"
   ]
  },
  {
   "cell_type": "code",
   "execution_count": null,
   "metadata": {},
   "outputs": [],
   "source": [
    "def covariance(df, ticker, market):\n",
    "    return df[ticker].cov(df[market])"
   ]
  },
  {
   "cell_type": "code",
   "execution_count": null,
   "metadata": {},
   "outputs": [],
   "source": [
    "user_covariance = covariance(portfolio_df, 'fake2', 'fake3')\n",
    "user_covariance"
   ]
  },
  {
   "cell_type": "code",
   "execution_count": null,
   "metadata": {},
   "outputs": [],
   "source": [
    "def variance(df, market):\n",
    "    return df[market].var()"
   ]
  },
  {
   "cell_type": "code",
   "execution_count": null,
   "metadata": {},
   "outputs": [],
   "source": [
    "user_variance = variance(portfolio_df, 'fake3')\n",
    "user_variance"
   ]
  },
  {
   "cell_type": "markdown",
   "metadata": {},
   "source": [
    "### Drawdown"
   ]
  },
  {
   "cell_type": "code",
   "execution_count": null,
   "metadata": {},
   "outputs": [],
   "source": [
    "def drawdown(df, tickers):\n",
    "    Roll_Max = df[tickers].cummax()\n",
    "    Daily_Drawdown = df[tickers]/Roll_Max - 1.0\n",
    "    Max_Daily_Drawdown = Daily_Drawdown.cummin() * 100"
   ]
  },
  {
   "cell_type": "code",
   "execution_count": null,
   "metadata": {},
   "outputs": [],
   "source": [
    "user_drawdown = drawdown(portfolio_df, 'fake1')\n",
    "user_drawdown"
   ]
  },
  {
   "cell_type": "markdown",
   "metadata": {},
   "source": [
    "### Drawdown Chart"
   ]
  },
  {
   "cell_type": "code",
   "execution_count": null,
   "metadata": {},
   "outputs": [],
   "source": [
    "def drawdown_chart(returns, date, quant):\n",
    "    '''\n",
    "    return: is a dataframe\n",
    "    date: str: should be a date column name\n",
    "    quant: str: should be a quantitative data type\n",
    "    '''\n",
    "    chart = alt.Chart(df.reset_index()).mark_bar().encode(\n",
    "        x = date + ':T',  # T specifies temporal data type for x-axis\n",
    "        y = quant + ':Q',  # Q specifies a quantitative data type for y-axis\n",
    "        color = alt.condition(\n",
    "            getattr(alt.datum, quant) > 0,\n",
    "            alt.value(\"Green\"),  # The positive color\n",
    "            alt.value(\"red\")\n",
    "    ), tooltip= [date + ':T', quant + ':Q']\n",
    "    ).properties(width=800)\n",
    "    chart = chart.interactive()\n",
    "    return chart"
   ]
  },
  {
   "cell_type": "code",
   "execution_count": null,
   "metadata": {},
   "outputs": [],
   "source": [
    "def tracking_error(df, tickers, market):\n",
    "    track_error = np.sqrt(sum([i**2 for i in df[tickers] - df[market]]))\n",
    "    return track_error"
   ]
  },
  {
   "cell_type": "code",
   "execution_count": null,
   "metadata": {},
   "outputs": [],
   "source": [
    "user_tracking_error = tracking_error(portfolio_df, 'fake2', 'fake3')\n",
    "user_tracking_error"
   ]
  },
  {
   "cell_type": "code",
   "execution_count": null,
   "metadata": {},
   "outputs": [],
   "source": [
    "def beta(covariance, variance):\n",
    "    chart_beta = covariance / variance\n",
    "    chart_beta = chart_beta.rolling(window = 21).plot()\n",
    "    plt.show()\n",
    "    beta.shape\n",
    "    chart_beta.plot()\n",
    "    return chart_beta"
   ]
  },
  {
   "cell_type": "code",
   "execution_count": null,
   "metadata": {},
   "outputs": [
    {
     "data": {
      "text/html": [
       "<div>\n",
       "<style scoped>\n",
       "    .dataframe tbody tr th:only-of-type {\n",
       "        vertical-align: middle;\n",
       "    }\n",
       "\n",
       "    .dataframe tbody tr th {\n",
       "        vertical-align: top;\n",
       "    }\n",
       "\n",
       "    .dataframe thead th {\n",
       "        text-align: right;\n",
       "    }\n",
       "</style>\n",
       "<table border=\"1\" class=\"dataframe\">\n",
       "  <thead>\n",
       "    <tr style=\"text-align: right;\">\n",
       "      <th></th>\n",
       "      <th>fake1</th>\n",
       "      <th>fake2</th>\n",
       "      <th>fake3</th>\n",
       "    </tr>\n",
       "    <tr>\n",
       "      <th>Date</th>\n",
       "      <th></th>\n",
       "      <th></th>\n",
       "      <th></th>\n",
       "    </tr>\n",
       "  </thead>\n",
       "  <tbody>\n",
       "    <tr>\n",
       "      <th>2018-04-06</th>\n",
       "      <td>907.08</td>\n",
       "      <td>727.80</td>\n",
       "      <td>-258.16</td>\n",
       "    </tr>\n",
       "    <tr>\n",
       "      <th>2018-04-07</th>\n",
       "      <td>450.55</td>\n",
       "      <td>926.38</td>\n",
       "      <td>816.60</td>\n",
       "    </tr>\n",
       "    <tr>\n",
       "      <th>2018-04-08</th>\n",
       "      <td>183.61</td>\n",
       "      <td>-466.01</td>\n",
       "      <td>176.75</td>\n",
       "    </tr>\n",
       "    <tr>\n",
       "      <th>2018-04-09</th>\n",
       "      <td>675.85</td>\n",
       "      <td>445.23</td>\n",
       "      <td>593.01</td>\n",
       "    </tr>\n",
       "    <tr>\n",
       "      <th>2018-04-10</th>\n",
       "      <td>917.91</td>\n",
       "      <td>498.30</td>\n",
       "      <td>877.10</td>\n",
       "    </tr>\n",
       "  </tbody>\n",
       "</table>\n",
       "</div>"
      ],
      "text/plain": [
       "            fake1   fake2   fake3\n",
       "Date                             \n",
       "2018-04-06 907.08  727.80 -258.16\n",
       "2018-04-07 450.55  926.38  816.60\n",
       "2018-04-08 183.61 -466.01  176.75\n",
       "2018-04-09 675.85  445.23  593.01\n",
       "2018-04-10 917.91  498.30  877.10"
      ]
     },
     "execution_count": 41,
     "metadata": {},
     "output_type": "execute_result"
    }
   ],
   "source": [
    "# user_beta = beta(user_covariance, user_variance)\n",
    "# user_beta\n",
    "returns.tail()"
   ]
  },
  {
   "cell_type": "code",
   "execution_count": null,
   "metadata": {},
   "outputs": [],
   "source": [
    "def sharpe_ratio(df):\n",
    "    sharpe = (df.mean()*252) / (df.std() * np.sqrt(252))\n",
    "    return sharpe"
   ]
  },
  {
   "cell_type": "code",
   "execution_count": null,
   "metadata": {},
   "outputs": [],
   "source": [
    "user_sharpe_ratio = sharpe_ratio(portfolio_df)\n",
    "print(user_sharpe_ratio)"
   ]
  },
  {
   "cell_type": "markdown",
   "metadata": {},
   "source": [
    "## Return on Investment"
   ]
  },
  {
   "cell_type": "code",
   "execution_count": null,
   "metadata": {},
   "outputs": [],
   "source": [
    "def return_on_investment(investment, returns):\n",
    "    cumulative_profit = investment * returns\n",
    "    return_oi = (cumulative_profit - investment) / investment\n",
    "    chart_return_oi = return_oi.plot()\n",
    "    plt.show()\n",
    "    return(return_oi)"
   ]
  },
  {
   "cell_type": "markdown",
   "metadata": {},
   "source": [
    "## ROI chart"
   ]
  },
  {
   "cell_type": "code",
   "execution_count": null,
   "metadata": {},
   "outputs": [],
   "source": [
    "def return_on_investment(investment, returns):\n",
    "    cumulative_profit = investment * returns\n",
    "    return_oi = (cumulative_profit - investment) / investment\n",
    "    chart_return_oi = return_oi\n",
    "    plt.show()\n",
    "    return(return_oi)"
   ]
  },
  {
   "cell_type": "code",
   "execution_count": null,
   "metadata": {},
   "outputs": [
    {
     "data": {
      "text/html": [
       "<div>\n",
       "<style scoped>\n",
       "    .dataframe tbody tr th:only-of-type {\n",
       "        vertical-align: middle;\n",
       "    }\n",
       "\n",
       "    .dataframe tbody tr th {\n",
       "        vertical-align: top;\n",
       "    }\n",
       "\n",
       "    .dataframe thead th {\n",
       "        text-align: right;\n",
       "    }\n",
       "</style>\n",
       "<table border=\"1\" class=\"dataframe\">\n",
       "  <thead>\n",
       "    <tr style=\"text-align: right;\">\n",
       "      <th></th>\n",
       "      <th>fake1</th>\n",
       "      <th>fake2</th>\n",
       "      <th>fake3</th>\n",
       "    </tr>\n",
       "  </thead>\n",
       "  <tbody>\n",
       "    <tr>\n",
       "      <th>0</th>\n",
       "      <td>-480.82</td>\n",
       "      <td>-494.03</td>\n",
       "      <td>350.46</td>\n",
       "    </tr>\n",
       "    <tr>\n",
       "      <th>1</th>\n",
       "      <td>57835.76</td>\n",
       "      <td>-134065.92</td>\n",
       "      <td>176570.66</td>\n",
       "    </tr>\n",
       "    <tr>\n",
       "      <th>2</th>\n",
       "      <td>28650118.88</td>\n",
       "      <td>57699501.32</td>\n",
       "      <td>131842849.53</td>\n",
       "    </tr>\n",
       "    <tr>\n",
       "      <th>3</th>\n",
       "      <td>3617819587.11</td>\n",
       "      <td>57218554741.80</td>\n",
       "      <td>-48305185652.85</td>\n",
       "    </tr>\n",
       "    <tr>\n",
       "      <th>4</th>\n",
       "      <td>-257528051241.47</td>\n",
       "      <td>-27244507281509.60</td>\n",
       "      <td>-27740192623146.52</td>\n",
       "    </tr>\n",
       "    <tr>\n",
       "      <th>...</th>\n",
       "      <td>...</td>\n",
       "      <td>...</td>\n",
       "      <td>...</td>\n",
       "    </tr>\n",
       "    <tr>\n",
       "      <th>95</th>\n",
       "      <td>-7972071981440524776547539071537770031039396053...</td>\n",
       "      <td>-4743105153601428239207943572442221754097997037...</td>\n",
       "      <td>-3012469811436924757166351733881725817985390397...</td>\n",
       "    </tr>\n",
       "    <tr>\n",
       "      <th>96</th>\n",
       "      <td>-6035694403311019687938991770667577575126963207...</td>\n",
       "      <td>-2912643707175354029636790484322618363320270248...</td>\n",
       "      <td>11268391418462026261230672997052966158129016405...</td>\n",
       "    </tr>\n",
       "    <tr>\n",
       "      <th>97</th>\n",
       "      <td>11332110595457437722363591512688828514783400198...</td>\n",
       "      <td>-2413123043331214749784477421943330954067332986...</td>\n",
       "      <td>71443476518462852478681769246839488639949623178...</td>\n",
       "    </tr>\n",
       "    <tr>\n",
       "      <th>98</th>\n",
       "      <td>-3161384451529218882238401070351922761500642363...</td>\n",
       "      <td>-2337129121272126681852557161865977775103106180...</td>\n",
       "      <td>16729057682066967710303856286047031312443298882...</td>\n",
       "    </tr>\n",
       "    <tr>\n",
       "      <th>99</th>\n",
       "      <td>12709192999119690486598473315380318873374055520...</td>\n",
       "      <td>64751182238293071819815986576907814390116714593...</td>\n",
       "      <td>10693795209376063256880635613110193780144055474...</td>\n",
       "    </tr>\n",
       "  </tbody>\n",
       "</table>\n",
       "<p>100 rows × 3 columns</p>\n",
       "</div>"
      ],
      "text/plain": [
       "                                                fake1  \\\n",
       "0                                             -480.82   \n",
       "1                                            57835.76   \n",
       "2                                         28650118.88   \n",
       "3                                       3617819587.11   \n",
       "4                                    -257528051241.47   \n",
       "..                                                ...   \n",
       "95 -7972071981440524776547539071537770031039396053...   \n",
       "96 -6035694403311019687938991770667577575126963207...   \n",
       "97 11332110595457437722363591512688828514783400198...   \n",
       "98 -3161384451529218882238401070351922761500642363...   \n",
       "99 12709192999119690486598473315380318873374055520...   \n",
       "\n",
       "                                                fake2  \\\n",
       "0                                             -494.03   \n",
       "1                                          -134065.92   \n",
       "2                                         57699501.32   \n",
       "3                                      57218554741.80   \n",
       "4                                  -27244507281509.60   \n",
       "..                                                ...   \n",
       "95 -4743105153601428239207943572442221754097997037...   \n",
       "96 -2912643707175354029636790484322618363320270248...   \n",
       "97 -2413123043331214749784477421943330954067332986...   \n",
       "98 -2337129121272126681852557161865977775103106180...   \n",
       "99 64751182238293071819815986576907814390116714593...   \n",
       "\n",
       "                                                fake3  \n",
       "0                                              350.46  \n",
       "1                                           176570.66  \n",
       "2                                        131842849.53  \n",
       "3                                     -48305185652.85  \n",
       "4                                  -27740192623146.52  \n",
       "..                                                ...  \n",
       "95 -3012469811436924757166351733881725817985390397...  \n",
       "96 11268391418462026261230672997052966158129016405...  \n",
       "97 71443476518462852478681769246839488639949623178...  \n",
       "98 16729057682066967710303856286047031312443298882...  \n",
       "99 10693795209376063256880635613110193780144055474...  \n",
       "\n",
       "[100 rows x 3 columns]"
      ]
     },
     "execution_count": 39,
     "metadata": {},
     "output_type": "execute_result"
    }
   ],
   "source": [
    "user_roi = return_on_investment(initial_investment, user_cr)\n",
    "user_roi"
   ]
  },
  {
   "cell_type": "markdown",
   "metadata": {},
   "source": [
    "source = data.wheat()\n",
    "\n",
    "bar = alt.Chart(source).mark_bar().encode(\n",
    "    x = df + ':O',\n",
    "    y = returns + ':Q'\n",
    ")\n",
    "\n",
    "<!-- line = alt.Chart(source).mark_line(color='red').transform_window(\n",
    "    # The field to average\n",
    "    rolling_mean='mean(wheat)',\n",
    "    # The number of values before and after the current value to include.\n",
    "    frame=[-9, 0]\n",
    ").encode(\n",
    "    x='year:O',\n",
    "    y='rolling_mean:Q'\n",
    ")\n",
    "\n",
    "(bar + line).properties(width=600) -->"
   ]
  },
  {
   "cell_type": "markdown",
   "metadata": {},
   "source": [
    "   ## Porfolio Size and Holdings"
   ]
  },
  {
   "cell_type": "code",
   "execution_count": 13,
   "metadata": {},
   "outputs": [],
   "source": [
    "# In the works\n",
    "# source = returns\n",
    "\n",
    "# alt.Chart(source).mark_arc().encode(\n",
    "#     theta=\"value\",\n",
    "#     color = returns\n",
    "# )"
   ]
  },
  {
   "cell_type": "markdown",
   "metadata": {},
   "source": [
    "# HI MOM MUSTANGS ARE FUEGO"
   ]
  }
 ],
 "metadata": {
  "kernelspec": {
   "display_name": "ucbenv",
   "language": "python",
   "name": "python3"
  },
  "language_info": {
   "codemirror_mode": {
    "name": "ipython",
    "version": 3
   },
   "file_extension": ".py",
   "mimetype": "text/x-python",
   "name": "python",
   "nbconvert_exporter": "python",
   "pygments_lexer": "ipython3",
   "version": "3.9.13"
  }
 },
 "nbformat": 4,
 "nbformat_minor": 2
}
