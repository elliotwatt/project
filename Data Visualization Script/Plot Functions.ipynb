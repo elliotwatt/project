{
 "cells": [
  {
   "cell_type": "code",
   "execution_count": 13,
   "metadata": {},
   "outputs": [],
   "source": [
    "import pandas as pd\n",
    "import numpy as np\n",
    "pd.options.display.float_format = '{:.2f}'.format\n",
    "import seaborn as sns\n",
    "import matplotlib.pyplot as plt\n",
    "import hvplot as hvp\n",
    "import datetime\n",
    "import altair as alt\n",
    "%matplotlib inline"
   ]
  },
  {
   "cell_type": "code",
   "execution_count": 2,
   "metadata": {},
   "outputs": [],
   "source": [
    "# Creating a range of dates\n",
    "start_date = datetime.datetime(2018, 1, 1)\n",
    "end_date = datetime.datetime(2023, 12, 31)\n",
    "date_range = pd.date_range(start_date, end_date, freq='D')\n",
    "# Dates df\n",
    "dates_df = pd.DataFrame(date_range, columns=['Date'])\n",
    "#print(dates_df.head(1825))\n",
    "\n",
    "# Creating a range of random \"prices\"\n",
    "portfolio_df = pd.DataFrame(\n",
    "    {\n",
    "    \"fake1\": np.random.uniform(1000, -500, 100),\n",
    "    \"fake2\": np.random.uniform(1000, -500, 100),\n",
    "    \"fake3\": np.random.uniform(1000, -500, 100)\n",
    "    }\n",
    "    )\n",
    "f1_portfolio_df = portfolio_df[\"fake1\"].to_frame()\n",
    "\n",
    "# Concatinating and finalizing test data\n",
    "returns = pd.concat([dates_df, portfolio_df], join = \"inner\", axis = 1)\n",
    "returns.set_index('Date', inplace = True)\n",
    "returns = pd.DataFrame(returns)\n",
    "returns.head()"
   ]
  },
  {
   "cell_type": "code",
   "execution_count": 3,
   "metadata": {},
   "outputs": [],
   "source": [
    "initial_investment = 10000"
   ]
  },
  {
   "cell_type": "code",
   "execution_count": 4,
   "metadata": {},
   "outputs": [],
   "source": [
    "def cumulative_returns(df):\n",
    "    return (1 + df).cumprod()"
   ]
  },
  {
   "cell_type": "code",
   "execution_count": 5,
   "metadata": {},
   "outputs": [
    {
     "data": {
      "text/html": [
       "<div>\n",
       "<style scoped>\n",
       "    .dataframe tbody tr th:only-of-type {\n",
       "        vertical-align: middle;\n",
       "    }\n",
       "\n",
       "    .dataframe tbody tr th {\n",
       "        vertical-align: top;\n",
       "    }\n",
       "\n",
       "    .dataframe thead th {\n",
       "        text-align: right;\n",
       "    }\n",
       "</style>\n",
       "<table border=\"1\" class=\"dataframe\">\n",
       "  <thead>\n",
       "    <tr style=\"text-align: right;\">\n",
       "      <th></th>\n",
       "      <th>fake1</th>\n",
       "      <th>fake2</th>\n",
       "      <th>fake3</th>\n",
       "    </tr>\n",
       "  </thead>\n",
       "  <tbody>\n",
       "    <tr>\n",
       "      <th>0</th>\n",
       "      <td>-479.82</td>\n",
       "      <td>-493.03</td>\n",
       "      <td>351.46</td>\n",
       "    </tr>\n",
       "    <tr>\n",
       "      <th>1</th>\n",
       "      <td>57836.76</td>\n",
       "      <td>-134064.92</td>\n",
       "      <td>176571.66</td>\n",
       "    </tr>\n",
       "    <tr>\n",
       "      <th>2</th>\n",
       "      <td>28650119.88</td>\n",
       "      <td>57699502.32</td>\n",
       "      <td>131842850.53</td>\n",
       "    </tr>\n",
       "    <tr>\n",
       "      <th>3</th>\n",
       "      <td>3617819588.11</td>\n",
       "      <td>57218554742.80</td>\n",
       "      <td>-48305185651.85</td>\n",
       "    </tr>\n",
       "    <tr>\n",
       "      <th>4</th>\n",
       "      <td>-257528051240.47</td>\n",
       "      <td>-27244507281508.60</td>\n",
       "      <td>-27740192623145.52</td>\n",
       "    </tr>\n",
       "    <tr>\n",
       "      <th>...</th>\n",
       "      <td>...</td>\n",
       "      <td>...</td>\n",
       "      <td>...</td>\n",
       "    </tr>\n",
       "    <tr>\n",
       "      <th>95</th>\n",
       "      <td>-7972071981440524776547539071537770031039396053...</td>\n",
       "      <td>-4743105153601428239207943572442221754097997037...</td>\n",
       "      <td>-3012469811436924757166351733881725817985390397...</td>\n",
       "    </tr>\n",
       "    <tr>\n",
       "      <th>96</th>\n",
       "      <td>-6035694403311019687938991770667577575126963207...</td>\n",
       "      <td>-2912643707175353668163003769670778753834338446...</td>\n",
       "      <td>11268391418462026261230672997052966158129016405...</td>\n",
       "    </tr>\n",
       "    <tr>\n",
       "      <th>97</th>\n",
       "      <td>11332110595457437722363591512688828514783400198...</td>\n",
       "      <td>-2413123043331214749784477421943330954067332986...</td>\n",
       "      <td>71443476518462852478681769246839488639949623178...</td>\n",
       "    </tr>\n",
       "    <tr>\n",
       "      <th>98</th>\n",
       "      <td>-3161384451529218882238401070351922761500642363...</td>\n",
       "      <td>-2337129121272126681852557161865977775103106180...</td>\n",
       "      <td>16729057682066967710303856286047031312443298882...</td>\n",
       "    </tr>\n",
       "    <tr>\n",
       "      <th>99</th>\n",
       "      <td>12709192999119690486598473315380318873374055520...</td>\n",
       "      <td>64751182238293071819815986576907814390116714593...</td>\n",
       "      <td>10693795209376063256880635613110193780144055474...</td>\n",
       "    </tr>\n",
       "  </tbody>\n",
       "</table>\n",
       "<p>100 rows × 3 columns</p>\n",
       "</div>"
      ],
      "text/plain": [
       "                                                fake1  \\\n",
       "0                                             -479.82   \n",
       "1                                            57836.76   \n",
       "2                                         28650119.88   \n",
       "3                                       3617819588.11   \n",
       "4                                    -257528051240.47   \n",
       "..                                                ...   \n",
       "95 -7972071981440524776547539071537770031039396053...   \n",
       "96 -6035694403311019687938991770667577575126963207...   \n",
       "97 11332110595457437722363591512688828514783400198...   \n",
       "98 -3161384451529218882238401070351922761500642363...   \n",
       "99 12709192999119690486598473315380318873374055520...   \n",
       "\n",
       "                                                fake2  \\\n",
       "0                                             -493.03   \n",
       "1                                          -134064.92   \n",
       "2                                         57699502.32   \n",
       "3                                      57218554742.80   \n",
       "4                                  -27244507281508.60   \n",
       "..                                                ...   \n",
       "95 -4743105153601428239207943572442221754097997037...   \n",
       "96 -2912643707175353668163003769670778753834338446...   \n",
       "97 -2413123043331214749784477421943330954067332986...   \n",
       "98 -2337129121272126681852557161865977775103106180...   \n",
       "99 64751182238293071819815986576907814390116714593...   \n",
       "\n",
       "                                                fake3  \n",
       "0                                              351.46  \n",
       "1                                           176571.66  \n",
       "2                                        131842850.53  \n",
       "3                                     -48305185651.85  \n",
       "4                                  -27740192623145.52  \n",
       "..                                                ...  \n",
       "95 -3012469811436924757166351733881725817985390397...  \n",
       "96 11268391418462026261230672997052966158129016405...  \n",
       "97 71443476518462852478681769246839488639949623178...  \n",
       "98 16729057682066967710303856286047031312443298882...  \n",
       "99 10693795209376063256880635613110193780144055474...  \n",
       "\n",
       "[100 rows x 3 columns]"
      ]
     },
     "execution_count": 5,
     "metadata": {},
     "output_type": "execute_result"
    }
   ],
   "source": [
    "user_cr = cumulative_returns(portfolio_df)\n",
    "user_cr"
   ]
  },
  {
   "cell_type": "code",
   "execution_count": 6,
   "metadata": {},
   "outputs": [],
   "source": [
    "def covariance(df, ticker, market):\n",
    "    return df[ticker].cov(df[market])"
   ]
  },
  {
   "cell_type": "code",
   "execution_count": 7,
   "metadata": {},
   "outputs": [
    {
     "data": {
      "text/plain": [
       "18624.033133256282"
      ]
     },
     "execution_count": 7,
     "metadata": {},
     "output_type": "execute_result"
    }
   ],
   "source": [
    "user_covariance = covariance(portfolio_df, 'fake2', 'fake3')\n",
    "user_covariance"
   ]
  },
  {
   "cell_type": "code",
   "execution_count": 8,
   "metadata": {},
   "outputs": [],
   "source": [
    "def variance(df, market):\n",
    "    return df[market].var()"
   ]
  },
  {
   "cell_type": "code",
   "execution_count": 9,
   "metadata": {},
   "outputs": [
    {
     "data": {
      "text/plain": [
       "191593.09870678137"
      ]
     },
     "execution_count": 9,
     "metadata": {},
     "output_type": "execute_result"
    }
   ],
   "source": [
    "user_variance = variance(portfolio_df, 'fake3')\n",
    "user_variance"
   ]
  },
  {
   "cell_type": "markdown",
   "metadata": {},
   "source": [
    "### Drawdown"
   ]
  },
  {
   "cell_type": "code",
   "execution_count": 10,
   "metadata": {},
   "outputs": [],
   "source": [
    "def drawdown(df, tickers):\n",
    "    Roll_Max = df[tickers].cummax()\n",
    "    Daily_Drawdown = df[tickers]/Roll_Max - 1.0\n",
    "    Max_Daily_Drawdown = Daily_Drawdown.cummin() * 100"
   ]
  },
  {
   "cell_type": "code",
   "execution_count": 11,
   "metadata": {},
   "outputs": [],
   "source": [
    "user_drawdown = drawdown(portfolio_df, 'fake1')\n",
    "user_drawdown"
   ]
  },
  {
   "cell_type": "markdown",
   "metadata": {},
   "source": [
    "### Drawdown Chart"
   ]
  },
  {
   "cell_type": "code",
   "execution_count": 16,
   "metadata": {},
   "outputs": [
    {
     "ename": "SyntaxError",
     "evalue": "invalid syntax (1764296038.py, line 6)",
     "output_type": "error",
     "traceback": [
      "\u001b[1;36m  Cell \u001b[1;32mIn[16], line 6\u001b[1;36m\u001b[0m\n\u001b[1;33m    alt.datum.'fake1' > 0,\u001b[0m\n\u001b[1;37m              ^\u001b[0m\n\u001b[1;31mSyntaxError\u001b[0m\u001b[1;31m:\u001b[0m invalid syntax\n"
     ]
    }
   ],
   "source": [
    "returns.reset_index()\n",
    "chart = alt.Chart(returns.reset_index()).mark_bar().encode(\n",
    "    x='Date:T',  # T specifies temporal data type for x-axis\n",
    "    y='fake1:Q',  # Q specifies a quantitative data type for y-axis\n",
    "    color=alt.condition(\n",
    "        alt.datum.fake1 > 0,\n",
    "        alt.value(\"Green\"),  # The positive color\n",
    "        alt.value(\"red\")\n",
    "), tooltip= ['Date:T', 'fake1:Q']\n",
    ").properties(width=800)\n",
    "chart = chart.interactive()\n",
    "chart"
   ]
  },
  {
   "cell_type": "code",
   "execution_count": 24,
   "metadata": {},
   "outputs": [
    {
     "data": {
      "text/plain": [
       "datum.fake1"
      ]
     },
     "execution_count": 24,
     "metadata": {},
     "output_type": "execute_result"
    }
   ],
   "source": [
    "#both are the same\n",
    "getattr(alt.datum,'fake1') \n",
    "alt.datum.fake1"
   ]
  },
  {
   "cell_type": "code",
   "execution_count": 28,
   "metadata": {},
   "outputs": [],
   "source": [
    "def drawdown_chart(df, date, quant):\n",
    "    '''\n",
    "    return: is a dataframe\n",
    "    date: str: should be a date column name\n",
    "    quant: str: should be a quantitative data type\n",
    "    '''\n",
    "    chart = alt.Chart(df.reset_index()).mark_bar().encode(\n",
    "       x = date +':T',  # T specifies temporal data type for x-axis\n",
    "        y = quant +':Q',  # Q specifies a quantitative data type for y-axis\n",
    "        color=alt.condition(\n",
    "            getattr(alt.datum, quant) > 0,\n",
    "            alt.value(\"Green\"),  # The positive color\n",
    "            alt.value(\"red\")\n",
    "    ), tooltip= [date +':T', quant +':Q']\n",
    "    ).properties(width=800)\n",
    "    chart = chart.interactive()\n",
    "    return chart"
   ]
  },
  {
   "cell_type": "code",
   "execution_count": 29,
   "metadata": {},
   "outputs": [
    {
     "data": {
      "text/html": [
       "\n",
       "<style>\n",
       "  #altair-viz-5234ee66b88045699eb68651b4678dff.vega-embed {\n",
       "    width: 100%;\n",
       "    display: flex;\n",
       "  }\n",
       "\n",
       "  #altair-viz-5234ee66b88045699eb68651b4678dff.vega-embed details,\n",
       "  #altair-viz-5234ee66b88045699eb68651b4678dff.vega-embed details summary {\n",
       "    position: relative;\n",
       "  }\n",
       "</style>\n",
       "<div id=\"altair-viz-5234ee66b88045699eb68651b4678dff\"></div>\n",
       "<script type=\"text/javascript\">\n",
       "  var VEGA_DEBUG = (typeof VEGA_DEBUG == \"undefined\") ? {} : VEGA_DEBUG;\n",
       "  (function(spec, embedOpt){\n",
       "    let outputDiv = document.currentScript.previousElementSibling;\n",
       "    if (outputDiv.id !== \"altair-viz-5234ee66b88045699eb68651b4678dff\") {\n",
       "      outputDiv = document.getElementById(\"altair-viz-5234ee66b88045699eb68651b4678dff\");\n",
       "    }\n",
       "    const paths = {\n",
       "      \"vega\": \"https://cdn.jsdelivr.net/npm/vega@5?noext\",\n",
       "      \"vega-lib\": \"https://cdn.jsdelivr.net/npm/vega-lib?noext\",\n",
       "      \"vega-lite\": \"https://cdn.jsdelivr.net/npm/vega-lite@5.15.1?noext\",\n",
       "      \"vega-embed\": \"https://cdn.jsdelivr.net/npm/vega-embed@6?noext\",\n",
       "    };\n",
       "\n",
       "    function maybeLoadScript(lib, version) {\n",
       "      var key = `${lib.replace(\"-\", \"\")}_version`;\n",
       "      return (VEGA_DEBUG[key] == version) ?\n",
       "        Promise.resolve(paths[lib]) :\n",
       "        new Promise(function(resolve, reject) {\n",
       "          var s = document.createElement('script');\n",
       "          document.getElementsByTagName(\"head\")[0].appendChild(s);\n",
       "          s.async = true;\n",
       "          s.onload = () => {\n",
       "            VEGA_DEBUG[key] = version;\n",
       "            return resolve(paths[lib]);\n",
       "          };\n",
       "          s.onerror = () => reject(`Error loading script: ${paths[lib]}`);\n",
       "          s.src = paths[lib];\n",
       "        });\n",
       "    }\n",
       "\n",
       "    function showError(err) {\n",
       "      outputDiv.innerHTML = `<div class=\"error\" style=\"color:red;\">${err}</div>`;\n",
       "      throw err;\n",
       "    }\n",
       "\n",
       "    function displayChart(vegaEmbed) {\n",
       "      vegaEmbed(outputDiv, spec, embedOpt)\n",
       "        .catch(err => showError(`Javascript Error: ${err.message}<br>This usually means there's a typo in your chart specification. See the javascript console for the full traceback.`));\n",
       "    }\n",
       "\n",
       "    if(typeof define === \"function\" && define.amd) {\n",
       "      requirejs.config({paths});\n",
       "      require([\"vega-embed\"], displayChart, err => showError(`Error loading script: ${err.message}`));\n",
       "    } else {\n",
       "      maybeLoadScript(\"vega\", \"5\")\n",
       "        .then(() => maybeLoadScript(\"vega-lite\", \"5.15.1\"))\n",
       "        .then(() => maybeLoadScript(\"vega-embed\", \"6\"))\n",
       "        .catch(showError)\n",
       "        .then(() => displayChart(vegaEmbed));\n",
       "    }\n",
       "  })({\"config\": {\"view\": {\"continuousWidth\": 300, \"continuousHeight\": 300}}, \"data\": {\"name\": \"data-6377ba951524a82508b357bb4d6f6847\"}, \"mark\": {\"type\": \"bar\"}, \"encoding\": {\"color\": {\"condition\": {\"test\": \"(datum.fake1 > 0)\", \"value\": \"Green\"}, \"value\": \"red\"}, \"tooltip\": [{\"field\": \"Date\", \"type\": \"temporal\"}, {\"field\": \"fake1\", \"type\": \"quantitative\"}], \"x\": {\"field\": \"Date\", \"type\": \"temporal\"}, \"y\": {\"field\": \"fake1\", \"type\": \"quantitative\"}}, \"params\": [{\"name\": \"param_3\", \"select\": {\"type\": \"interval\", \"encodings\": [\"x\", \"y\"]}, \"bind\": \"scales\"}], \"width\": 800, \"$schema\": \"https://vega.github.io/schema/vega-lite/v5.15.1.json\", \"datasets\": {\"data-6377ba951524a82508b357bb4d6f6847\": [{\"Date\": \"2018-01-01T00:00:00\", \"fake1\": -480.8248725938806, \"fake2\": -494.0298275131022, \"fake3\": 350.46445235455053}, {\"Date\": \"2018-01-02T00:00:00\", \"fake1\": -121.5372195732682, \"fake2\": 270.9205128108008, \"fake3\": 501.3883844331896}, {\"Date\": \"2018-01-03T00:00:00\", \"fake1\": 494.3618053110599, \"fake2\": -431.38477778074616, \"fake3\": 745.6818385089282}, {\"Date\": \"2018-01-04T00:00:00\", \"fake1\": 125.2758970489482, \"fake2\": 990.6646147920379, \"fake3\": -367.38456662021576}, {\"Date\": \"2018-01-05T00:00:00\", \"fake1\": -72.1832209894335, \"fake2\": -477.1481202028326, \"fake3\": 573.2694546933021}, {\"Date\": \"2018-01-06T00:00:00\", \"fake1\": 535.0844156141541, \"fake2\": -133.3232443766408, \"fake3\": -428.0994415953737}, {\"Date\": \"2018-01-07T00:00:00\", \"fake1\": -268.77468605745185, \"fake2\": -109.74847138229939, \"fake3\": 459.14072724707614}, {\"Date\": \"2018-01-08T00:00:00\", \"fake1\": 558.9776054021281, \"fake2\": 658.3440680353726, \"fake3\": 381.2517066194681}, {\"Date\": \"2018-01-09T00:00:00\", \"fake1\": 882.3044442568853, \"fake2\": 906.7401441642138, \"fake3\": 159.74484631220662}, {\"Date\": \"2018-01-10T00:00:00\", \"fake1\": 396.58467036786453, \"fake2\": 935.7949537557523, \"fake3\": 272.9104569490105}, {\"Date\": \"2018-01-11T00:00:00\", \"fake1\": 535.6529423910673, \"fake2\": 527.1971419166805, \"fake3\": -213.46005611661622}, {\"Date\": \"2018-01-12T00:00:00\", \"fake1\": -365.2014403599926, \"fake2\": 854.8511948415196, \"fake3\": 92.52268043956315}, {\"Date\": \"2018-01-13T00:00:00\", \"fake1\": -80.90963613113308, \"fake2\": 555.7585165246178, \"fake3\": 87.36825010522728}, {\"Date\": \"2018-01-14T00:00:00\", \"fake1\": 945.0311723145813, \"fake2\": -17.92255675901265, \"fake3\": -39.57853743544979}, {\"Date\": \"2018-01-15T00:00:00\", \"fake1\": 834.921897512816, \"fake2\": 625.1069289727208, \"fake3\": 124.03060583544061}, {\"Date\": \"2018-01-16T00:00:00\", \"fake1\": 806.8709478102815, \"fake2\": -75.77190487564917, \"fake3\": 845.328534474184}, {\"Date\": \"2018-01-17T00:00:00\", \"fake1\": 370.1203353479601, \"fake2\": -359.1352066857405, \"fake3\": -178.71901738726388}, {\"Date\": \"2018-01-18T00:00:00\", \"fake1\": -356.6988251330065, \"fake2\": 456.34717853233747, \"fake3\": 115.52705758374043}, {\"Date\": \"2018-01-19T00:00:00\", \"fake1\": -445.6729326002255, \"fake2\": 241.1107461120523, \"fake3\": 262.3827855306531}, {\"Date\": \"2018-01-20T00:00:00\", \"fake1\": 575.024484338607, \"fake2\": 922.664718425828, \"fake3\": 801.9354119226723}, {\"Date\": \"2018-01-21T00:00:00\", \"fake1\": -39.40472673287809, \"fake2\": 646.1045481209694, \"fake3\": 817.6156236708257}, {\"Date\": \"2018-01-22T00:00:00\", \"fake1\": 711.7307120334432, \"fake2\": 415.3157054127827, \"fake3\": 679.0954056989416}, {\"Date\": \"2018-01-23T00:00:00\", \"fake1\": 37.8005430887664, \"fake2\": -306.56766437295323, \"fake3\": -219.05650746128867}, {\"Date\": \"2018-01-24T00:00:00\", \"fake1\": -220.04562792206752, \"fake2\": 462.3767929413483, \"fake3\": -75.41212250639796}, {\"Date\": \"2018-01-25T00:00:00\", \"fake1\": 945.8875870215188, \"fake2\": 458.99607072030324, \"fake3\": 460.63077285757026}, {\"Date\": \"2018-01-26T00:00:00\", \"fake1\": 195.33627369107808, \"fake2\": -72.21295603387807, \"fake3\": 338.6625236299759}, {\"Date\": \"2018-01-27T00:00:00\", \"fake1\": 25.926197722252937, \"fake2\": 12.352779450285311, \"fake3\": -363.9482572857803}, {\"Date\": \"2018-01-28T00:00:00\", \"fake1\": -242.00283387072363, \"fake2\": 50.747849286772066, \"fake3\": -340.07918624353715}, {\"Date\": \"2018-01-29T00:00:00\", \"fake1\": -317.29135664770865, \"fake2\": 643.8838011155942, \"fake3\": 334.24315374038883}, {\"Date\": \"2018-01-30T00:00:00\", \"fake1\": 325.2344152421266, \"fake2\": 104.74453887099821, \"fake3\": 199.87928038239772}, {\"Date\": \"2018-01-31T00:00:00\", \"fake1\": 580.5164164214154, \"fake2\": 753.2412545143288, \"fake3\": 966.6563202206803}, {\"Date\": \"2018-02-01T00:00:00\", \"fake1\": 335.76329853974494, \"fake2\": -394.5008246409709, \"fake3\": 184.79449405361947}, {\"Date\": \"2018-02-02T00:00:00\", \"fake1\": 600.76123332413, \"fake2\": 412.5429214759049, \"fake3\": 660.5316351634815}, {\"Date\": \"2018-02-03T00:00:00\", \"fake1\": 150.54556242608578, \"fake2\": 980.4821541502045, \"fake3\": 883.0753376166467}, {\"Date\": \"2018-02-04T00:00:00\", \"fake1\": -374.940230728678, \"fake2\": 143.59938914770999, \"fake3\": -55.87020228743654}, {\"Date\": \"2018-02-05T00:00:00\", \"fake1\": 189.37371134782018, \"fake2\": -145.9101802752466, \"fake3\": 202.2298330588004}, {\"Date\": \"2018-02-06T00:00:00\", \"fake1\": 538.6302798902753, \"fake2\": 362.2258783225783, \"fake3\": 638.9823655900303}, {\"Date\": \"2018-02-07T00:00:00\", \"fake1\": 206.02559167881282, \"fake2\": -154.92130549891112, \"fake3\": 865.517097496166}, {\"Date\": \"2018-02-08T00:00:00\", \"fake1\": 319.02904194220685, \"fake2\": -436.94267446185404, \"fake3\": -428.650007899045}, {\"Date\": \"2018-02-09T00:00:00\", \"fake1\": -126.25498447006566, \"fake2\": -192.85403394343462, \"fake3\": -421.3483368759489}, {\"Date\": \"2018-02-10T00:00:00\", \"fake1\": 657.0549905214536, \"fake2\": 569.0020245366363, \"fake3\": 764.4173748036275}, {\"Date\": \"2018-02-11T00:00:00\", \"fake1\": 859.3149010084137, \"fake2\": -275.050085002483, \"fake3\": 770.7958964917065}, {\"Date\": \"2018-02-12T00:00:00\", \"fake1\": -339.2573438556476, \"fake2\": 228.10875249126082, \"fake3\": 546.979895294904}, {\"Date\": \"2018-02-13T00:00:00\", \"fake1\": 33.59697688305425, \"fake2\": 204.52556317372205, \"fake3\": 24.296320224627834}, {\"Date\": \"2018-02-14T00:00:00\", \"fake1\": 142.43045779617455, \"fake2\": 718.0802733009135, \"fake3\": -279.6852627097237}, {\"Date\": \"2018-02-15T00:00:00\", \"fake1\": -235.41476008969494, \"fake2\": 734.3449227518576, \"fake3\": 203.62982127377052}, {\"Date\": \"2018-02-16T00:00:00\", \"fake1\": 466.29944712178894, \"fake2\": 784.3314326718775, \"fake3\": 618.9012697955344}, {\"Date\": \"2018-02-17T00:00:00\", \"fake1\": 897.1904728267622, \"fake2\": 257.5701918830621, \"fake3\": -82.55953662907609}, {\"Date\": \"2018-02-18T00:00:00\", \"fake1\": 798.2650893208249, \"fake2\": 798.9954146741596, \"fake3\": -245.1425770569233}, {\"Date\": \"2018-02-19T00:00:00\", \"fake1\": 617.9269594000377, \"fake2\": -314.8864774884237, \"fake3\": 737.5284881069883}, {\"Date\": \"2018-02-20T00:00:00\", \"fake1\": 747.1244297961413, \"fake2\": 50.19778822228034, \"fake3\": 997.0837121131084}, {\"Date\": \"2018-02-21T00:00:00\", \"fake1\": -194.30689148943134, \"fake2\": 112.95625712091396, \"fake3\": 376.58374251609575}, {\"Date\": \"2018-02-22T00:00:00\", \"fake1\": 347.0443911259317, \"fake2\": 77.25557857533158, \"fake3\": -376.8831073740025}, {\"Date\": \"2018-02-23T00:00:00\", \"fake1\": 272.9632364133637, \"fake2\": -444.20844152704217, \"fake3\": 108.68560232987431}, {\"Date\": \"2018-02-24T00:00:00\", \"fake1\": 736.266211367938, \"fake2\": -239.20036743252558, \"fake3\": -143.23053956664899}, {\"Date\": \"2018-02-25T00:00:00\", \"fake1\": 6.844014091175836, \"fake2\": 173.31616771846427, \"fake3\": -448.02857399134564}, {\"Date\": \"2018-02-26T00:00:00\", \"fake1\": 351.2654027817324, \"fake2\": 990.4116261355999, \"fake3\": 780.787477606689}, {\"Date\": \"2018-02-27T00:00:00\", \"fake1\": 255.27167352784306, \"fake2\": 157.04177848419613, \"fake3\": -366.06961271932346}, {\"Date\": \"2018-02-28T00:00:00\", \"fake1\": 32.07292022977663, \"fake2\": 957.3410176612242, \"fake3\": 733.9198460428872}, {\"Date\": \"2018-03-01T00:00:00\", \"fake1\": 265.3994319978432, \"fake2\": 761.3853893540004, \"fake3\": -68.45805437029162}, {\"Date\": \"2018-03-02T00:00:00\", \"fake1\": -243.58507838149376, \"fake2\": 43.99273603217682, \"fake3\": 765.1068828636057}, {\"Date\": \"2018-03-03T00:00:00\", \"fake1\": -262.61046084733744, \"fake2\": 303.7226308173788, \"fake3\": 393.8016880510037}, {\"Date\": \"2018-03-04T00:00:00\", \"fake1\": 339.6147461955368, \"fake2\": 351.74533659845656, \"fake3\": -301.0533120041173}, {\"Date\": \"2018-03-05T00:00:00\", \"fake1\": -130.35046525734083, \"fake2\": 485.46375307796484, \"fake3\": -466.20830018857737}, {\"Date\": \"2018-03-06T00:00:00\", \"fake1\": -40.56171924156979, \"fake2\": 333.1643753545577, \"fake3\": 493.3179526815332}, {\"Date\": \"2018-03-07T00:00:00\", \"fake1\": 570.833170680678, \"fake2\": 105.00751397877752, \"fake3\": 484.2450091642248}, {\"Date\": \"2018-03-08T00:00:00\", \"fake1\": 113.89218502623635, \"fake2\": -215.895748998184, \"fake3\": -89.81662355618664}, {\"Date\": \"2018-03-09T00:00:00\", \"fake1\": 729.316570899897, \"fake2\": 631.8805130161305, \"fake3\": 775.3036480576945}, {\"Date\": \"2018-03-10T00:00:00\", \"fake1\": -231.44836546892589, \"fake2\": 340.2931259522653, \"fake3\": -275.6618877469691}, {\"Date\": \"2018-03-11T00:00:00\", \"fake1\": 151.90308873681715, \"fake2\": 322.4432295865598, \"fake3\": 114.08822362156388}, {\"Date\": \"2018-03-12T00:00:00\", \"fake1\": 416.44584749165983, \"fake2\": -75.42027567025161, \"fake3\": 608.6778876195901}, {\"Date\": \"2018-03-13T00:00:00\", \"fake1\": 1.5115666985647067, \"fake2\": -320.1342625143625, \"fake3\": -105.43619719600838}, {\"Date\": \"2018-03-14T00:00:00\", \"fake1\": 384.16132690621134, \"fake2\": 312.21821469553436, \"fake3\": 999.654816007848}, {\"Date\": \"2018-03-15T00:00:00\", \"fake1\": 261.10277326251787, \"fake2\": 90.79125781075459, \"fake3\": 608.3970386091155}, {\"Date\": \"2018-03-16T00:00:00\", \"fake1\": -147.54061425082273, \"fake2\": 269.0495557773261, \"fake3\": -484.05911083910996}, {\"Date\": \"2018-03-17T00:00:00\", \"fake1\": -336.0902503486602, \"fake2\": -400.7184527213269, \"fake3\": -285.7240263755939}, {\"Date\": \"2018-03-18T00:00:00\", \"fake1\": 414.0628537149695, \"fake2\": -475.37566252903844, \"fake3\": 732.2638361010279}, {\"Date\": \"2018-03-19T00:00:00\", \"fake1\": 473.09457774784835, \"fake2\": 467.6696485372453, \"fake3\": -398.60134557203924}, {\"Date\": \"2018-03-20T00:00:00\", \"fake1\": -200.13596908693216, \"fake2\": -439.7349336213192, \"fake3\": 117.67796994325408}, {\"Date\": \"2018-03-21T00:00:00\", \"fake1\": 145.55515490432992, \"fake2\": 953.8729764629092, \"fake3\": 195.69706731187625}, {\"Date\": \"2018-03-22T00:00:00\", \"fake1\": -337.1093167442093, \"fake2\": 169.8342707926447, \"fake3\": 194.63371281313619}, {\"Date\": \"2018-03-23T00:00:00\", \"fake1\": 756.9704386745776, \"fake2\": 4.718594959503093, \"fake3\": 842.6794082103447}, {\"Date\": \"2018-03-24T00:00:00\", \"fake1\": -444.13311196467544, \"fake2\": -43.37525098160336, \"fake3\": 339.15644752409344}, {\"Date\": \"2018-03-25T00:00:00\", \"fake1\": 395.22835249930483, \"fake2\": 517.4968027810271, \"fake3\": -489.13464242916393}, {\"Date\": \"2018-03-26T00:00:00\", \"fake1\": -355.2358197914823, \"fake2\": 240.73619276278316, \"fake3\": 546.4382932756199}, {\"Date\": \"2018-03-27T00:00:00\", \"fake1\": 319.78449975258104, \"fake2\": 72.34964272629725, \"fake3\": -90.53300178841437}, {\"Date\": \"2018-03-28T00:00:00\", \"fake1\": 543.3481540661717, \"fake2\": -388.27924786367566, \"fake3\": -432.6310541846178}, {\"Date\": \"2018-03-29T00:00:00\", \"fake1\": -158.50033714549704, \"fake2\": -412.472688166175, \"fake3\": 166.24527330000103}, {\"Date\": \"2018-03-30T00:00:00\", \"fake1\": -118.57154708154758, \"fake2\": -6.916699967173031, \"fake3\": 761.7841314260927}, {\"Date\": \"2018-03-31T00:00:00\", \"fake1\": -0.6486312270913004, \"fake2\": -467.8030186489061, \"fake3\": -470.33216673993957}, {\"Date\": \"2018-04-01T00:00:00\", \"fake1\": -362.74110793141494, \"fake2\": -226.48063639254087, \"fake3\": -127.11722765333207}, {\"Date\": \"2018-04-02T00:00:00\", \"fake1\": 807.6121957594676, \"fake2\": 925.2867620720564, \"fake3\": 653.9061187131251}, {\"Date\": \"2018-04-03T00:00:00\", \"fake1\": 854.8613802897379, \"fake2\": 645.8119480428641, \"fake3\": 332.6408681853643}, {\"Date\": \"2018-04-04T00:00:00\", \"fake1\": 973.5477774350292, \"fake2\": 831.5908145448147, \"fake3\": 334.9756990712393}, {\"Date\": \"2018-04-05T00:00:00\", \"fake1\": 726.7698120909416, \"fake2\": -406.1849277323431, \"fake3\": 606.2181955699615}, {\"Date\": \"2018-04-06T00:00:00\", \"fake1\": 375.57757910192686, \"fake2\": -340.8528253050097, \"fake3\": 817.1699574227088}, {\"Date\": \"2018-04-07T00:00:00\", \"fake1\": 756.1048552198837, \"fake2\": 613.0795139158554, \"fake3\": -38.405823539480025}, {\"Date\": \"2018-04-08T00:00:00\", \"fake1\": -188.75156325411285, \"fake2\": 81.84992213041505, \"fake3\": 633.0166388026825}, {\"Date\": \"2018-04-09T00:00:00\", \"fake1\": -279.97578521661126, \"fake2\": 967.5080616717407, \"fake3\": 233.15794551576369}, {\"Date\": \"2018-04-10T00:00:00\", \"fake1\": -403.0135226821915, \"fake2\": -278.0543640440724, \"fake3\": 638.2347622089605}]}}, {\"mode\": \"vega-lite\"});\n",
       "</script>"
      ],
      "text/plain": [
       "alt.Chart(...)"
      ]
     },
     "execution_count": 29,
     "metadata": {},
     "output_type": "execute_result"
    }
   ],
   "source": [
    "drawdown_chart(returns, \"Date\", \"fake1\")"
   ]
  },
  {
   "cell_type": "code",
   "execution_count": null,
   "metadata": {},
   "outputs": [],
   "source": [
    "def tracking_error(df, tickers, market):\n",
    "    track_error = np.sqrt(sum([i**2 for i in df[tickers] - df[market]]))\n",
    "    return track_error"
   ]
  },
  {
   "cell_type": "code",
   "execution_count": null,
   "metadata": {},
   "outputs": [
    {
     "data": {
      "text/plain": [
       "6588.122249293263"
      ]
     },
     "execution_count": 95,
     "metadata": {},
     "output_type": "execute_result"
    }
   ],
   "source": [
    "user_tracking_error = tracking_error(portfolio_df, 'fake2', 'fake3')\n",
    "user_tracking_error"
   ]
  },
  {
   "cell_type": "code",
   "execution_count": null,
   "metadata": {},
   "outputs": [],
   "source": [
    "def beta(covariance, variance):\n",
    "    chart_beta = covariance / variance\n",
    "    chart_beta = chart_beta.rolling(window = 21).plot()\n",
    "    plt.show()\n",
    "    beta.shape\n",
    "    chart_beta.plot()\n",
    "    return chart_beta"
   ]
  },
  {
   "cell_type": "code",
   "execution_count": null,
   "metadata": {},
   "outputs": [
    {
     "ename": "NameError",
     "evalue": "name 'chart_beta' is not defined",
     "output_type": "error",
     "traceback": [
      "\u001b[1;31m---------------------------------------------------------------------------\u001b[0m",
      "\u001b[1;31mNameError\u001b[0m                                 Traceback (most recent call last)",
      "\u001b[1;32mc:\\Users\\Gino\\OneDrive\\Desktop\\Project\\Data Visualization Script\\Plot Functions.ipynb Cell 18\u001b[0m line \u001b[0;36m1\n\u001b[1;32m----> <a href='vscode-notebook-cell:/c%3A/Users/Gino/OneDrive/Desktop/Project/Data%20Visualization%20Script/Plot%20Functions.ipynb#X20sZmlsZQ%3D%3D?line=0'>1</a>\u001b[0m chart_beta\n\u001b[0;32m      <a href='vscode-notebook-cell:/c%3A/Users/Gino/OneDrive/Desktop/Project/Data%20Visualization%20Script/Plot%20Functions.ipynb#X20sZmlsZQ%3D%3D?line=1'>2</a>\u001b[0m \u001b[39m# user_beta = beta(user_covariance, user_variance)\u001b[39;00m\n\u001b[0;32m      <a href='vscode-notebook-cell:/c%3A/Users/Gino/OneDrive/Desktop/Project/Data%20Visualization%20Script/Plot%20Functions.ipynb#X20sZmlsZQ%3D%3D?line=2'>3</a>\u001b[0m \u001b[39m# user_beta\u001b[39;00m\n",
      "\u001b[1;31mNameError\u001b[0m: name 'chart_beta' is not defined"
     ]
    }
   ],
   "source": [
    "user_beta = beta(user_covariance, user_variance)\n",
    "user_beta\n"
   ]
  },
  {
   "cell_type": "code",
   "execution_count": null,
   "metadata": {},
   "outputs": [],
   "source": [
    "def sharpe_ratio(df):\n",
    "    sharpe = (df.mean()*252) / (df.std() * np.sqrt(252))\n",
    "    return sharpe"
   ]
  },
  {
   "cell_type": "code",
   "execution_count": null,
   "metadata": {},
   "outputs": [
    {
     "name": "stdout",
     "output_type": "stream",
     "text": [
      "fake1   8.16\n",
      "fake2   7.76\n",
      "fake3   8.04\n",
      "dtype: float64\n"
     ]
    }
   ],
   "source": [
    "user_sharpe_ratio = sharpe_ratio(portfolio_df)\n",
    "print(user_sharpe_ratio)"
   ]
  },
  {
   "cell_type": "code",
   "execution_count": null,
   "metadata": {},
   "outputs": [],
   "source": [
    "def return_on_investment(investment, returns):\n",
    "    cumulative_profit = investment * returns\n",
    "    return_oi = (cumulative_profit - investment) / investment\n",
    "    chart_return_oi = return_oi.plot()\n",
    "    plt.show()\n",
    "    return(return_oi)"
   ]
  },
  {
   "cell_type": "code",
   "execution_count": null,
   "metadata": {},
   "outputs": [],
   "source": [
    "user_roi = return_on_investment(initial_investment, user_cr)\n",
    "user_roi"
   ]
  },
  {
   "cell_type": "code",
   "execution_count": null,
   "metadata": {},
   "outputs": [],
   "source": []
  }
 ],
 "metadata": {
  "kernelspec": {
   "display_name": "ucbenv",
   "language": "python",
   "name": "python3"
  },
  "language_info": {
   "codemirror_mode": {
    "name": "ipython",
    "version": 3
   },
   "file_extension": ".py",
   "mimetype": "text/x-python",
   "name": "python",
   "nbconvert_exporter": "python",
   "pygments_lexer": "ipython3",
   "version": "3.9.13"
  }
 },
 "nbformat": 4,
 "nbformat_minor": 2
}
