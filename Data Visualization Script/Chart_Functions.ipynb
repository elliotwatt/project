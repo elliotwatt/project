{
 "cells": [
  {
   "cell_type": "code",
   "execution_count": 119,
   "metadata": {},
   "outputs": [],
   "source": [
    "import pandas as pd\n",
    "import numpy as np\n",
    "pd.options.display.float_format = '{:.2f}'.format\n",
    "import seaborn as sns\n",
    "import matplotlib.pyplot as plt\n",
    "import hvplot as hvp\n",
    "import datetime\n",
    "import altair as alt\n",
    "import seaborn as sns\n",
    "import ipywidgets as widgets\n",
    "from ipywidgets import interact\n",
    "import plotly.express as px"
   ]
  },
  {
   "cell_type": "markdown",
   "metadata": {},
   "source": [
    "### DataFrame for Drawdown"
   ]
  },
  {
   "cell_type": "code",
   "execution_count": 85,
   "metadata": {},
   "outputs": [],
   "source": [
    "# Creating a range of dates\n",
    "start_date = datetime.datetime(2018, 1, 1)\n",
    "end_date = datetime.datetime(2023, 12, 31)\n",
    "date_range = pd.date_range(start_date, end_date, freq='D')\n",
    "# Dates df\n",
    "dates_df = pd.DataFrame(date_range, columns=['Date'])\n",
    "#print(dates_df.head(1825))\n",
    "\n",
    "# Creating a range of random \"prices\"\n",
    "portfolio_df = pd.DataFrame(\n",
    "    {\n",
    "    \"fake1\": np.random.uniform(100, -50, 100),\n",
    "    \"fake2\": np.random.uniform(100, -50, 100),\n",
    "    \"fake3\": np.random.uniform(100, -50, 100)\n",
    "    }\n",
    "    )\n",
    "f1_portfolio_df = portfolio_df[\"fake1\"].to_frame()\n",
    "\n",
    "# Concatinating and finalizing test data\n",
    "returns = pd.concat([dates_df, portfolio_df], join = \"inner\", axis = 1)\n",
    "returns.set_index('Date', inplace = True)\n",
    "returns = pd.DataFrame(returns)\n",
    "returns = returns.reset_index().rename(columns={'Date': 'date'})\n",
    "returns.set_index('date', inplace = True)"
   ]
  },
  {
   "cell_type": "markdown",
   "metadata": {},
   "source": [
    "### Data Frame for Portfolio Pie Chart"
   ]
  },
  {
   "cell_type": "code",
   "execution_count": 133,
   "metadata": {},
   "outputs": [],
   "source": [
    "# Creating DataFrame for Bitcoin\n",
    "btc_portfolio_df = pd.DataFrame({\n",
    "    'stock': ['BTC:USD'],\n",
    "    'position_size': np.random.uniform(10, 150, size = 1)\n",
    "})\n",
    "\n",
    "# Creating DataFrame for Stocks\n",
    "stock_portfolio_df = pd.DataFrame({\n",
    "    'stock': ['AMC', 'VSCO', 'TSLA', 'GOOGL'],\n",
    "    'position_size': np.random.uniform(round(1000), 10000, 4)  # for 5 stocks\n",
    "})\n",
    "\n",
    "# Combining DataFrames\n",
    "size_portfolio_df = pd.concat([btc_portfolio_df, stock_portfolio_df], axis = 0).reset_index(drop = True)\n",
    "\n",
    "# Renaming stock column to securities\n",
    "size_portfolio_df = size_portfolio_df.rename(columns = {'stock' : 'securities'})"
   ]
  },
  {
   "cell_type": "markdown",
   "metadata": {},
   "source": [
    "### Portfolio Pie Chart Function"
   ]
  },
  {
   "cell_type": "code",
   "execution_count": 178,
   "metadata": {},
   "outputs": [],
   "source": [
    "# Defining Portfolio pie chart function\n",
    "def portfolio_piechart (holdings, size):\n",
    "    '''\n",
    "    holdings: str: Column name\n",
    "    size: str: Column Name\n",
    "    '''\n",
    "    selection = alt.selection_single()\n",
    "    pie_chart = alt.Chart(size_portfolio_df).mark_arc(innerRadius=50).encode(\n",
    "        theta = alt.Theta(field = 'position_size', type = 'quantitative'),\n",
    "        color = alt.Color(field = 'securities', type = 'nominal'),\n",
    "        tooltip=['securities', 'position_size']\n",
    "    )\n",
    "    return pie_chart"
   ]
  },
  {
   "cell_type": "markdown",
   "metadata": {},
   "source": [
    "### Portfolio Pie Chart"
   ]
  },
  {
   "cell_type": "code",
   "execution_count": 135,
   "metadata": {},
   "outputs": [
    {
     "name": "stderr",
     "output_type": "stream",
     "text": [
      "c:\\Users\\Gino\\AppData\\Local\\Programs\\Python\\Python39\\lib\\site-packages\\altair\\utils\\deprecation.py:65: AltairDeprecationWarning:\n",
      "\n",
      "'selection_single' is deprecated.  Use 'selection_point'\n",
      "\n"
     ]
    },
    {
     "data": {
      "text/html": [
       "\n",
       "<style>\n",
       "  #altair-viz-d33b3f53658a413dbebf1121bf32460e.vega-embed {\n",
       "    width: 100%;\n",
       "    display: flex;\n",
       "  }\n",
       "\n",
       "  #altair-viz-d33b3f53658a413dbebf1121bf32460e.vega-embed details,\n",
       "  #altair-viz-d33b3f53658a413dbebf1121bf32460e.vega-embed details summary {\n",
       "    position: relative;\n",
       "  }\n",
       "</style>\n",
       "<div id=\"altair-viz-d33b3f53658a413dbebf1121bf32460e\"></div>\n",
       "<script type=\"text/javascript\">\n",
       "  var VEGA_DEBUG = (typeof VEGA_DEBUG == \"undefined\") ? {} : VEGA_DEBUG;\n",
       "  (function(spec, embedOpt){\n",
       "    let outputDiv = document.currentScript.previousElementSibling;\n",
       "    if (outputDiv.id !== \"altair-viz-d33b3f53658a413dbebf1121bf32460e\") {\n",
       "      outputDiv = document.getElementById(\"altair-viz-d33b3f53658a413dbebf1121bf32460e\");\n",
       "    }\n",
       "    const paths = {\n",
       "      \"vega\": \"https://cdn.jsdelivr.net/npm/vega@5?noext\",\n",
       "      \"vega-lib\": \"https://cdn.jsdelivr.net/npm/vega-lib?noext\",\n",
       "      \"vega-lite\": \"https://cdn.jsdelivr.net/npm/vega-lite@5.15.1?noext\",\n",
       "      \"vega-embed\": \"https://cdn.jsdelivr.net/npm/vega-embed@6?noext\",\n",
       "    };\n",
       "\n",
       "    function maybeLoadScript(lib, version) {\n",
       "      var key = `${lib.replace(\"-\", \"\")}_version`;\n",
       "      return (VEGA_DEBUG[key] == version) ?\n",
       "        Promise.resolve(paths[lib]) :\n",
       "        new Promise(function(resolve, reject) {\n",
       "          var s = document.createElement('script');\n",
       "          document.getElementsByTagName(\"head\")[0].appendChild(s);\n",
       "          s.async = true;\n",
       "          s.onload = () => {\n",
       "            VEGA_DEBUG[key] = version;\n",
       "            return resolve(paths[lib]);\n",
       "          };\n",
       "          s.onerror = () => reject(`Error loading script: ${paths[lib]}`);\n",
       "          s.src = paths[lib];\n",
       "        });\n",
       "    }\n",
       "\n",
       "    function showError(err) {\n",
       "      outputDiv.innerHTML = `<div class=\"error\" style=\"color:red;\">${err}</div>`;\n",
       "      throw err;\n",
       "    }\n",
       "\n",
       "    function displayChart(vegaEmbed) {\n",
       "      vegaEmbed(outputDiv, spec, embedOpt)\n",
       "        .catch(err => showError(`Javascript Error: ${err.message}<br>This usually means there's a typo in your chart specification. See the javascript console for the full traceback.`));\n",
       "    }\n",
       "\n",
       "    if(typeof define === \"function\" && define.amd) {\n",
       "      requirejs.config({paths});\n",
       "      require([\"vega-embed\"], displayChart, err => showError(`Error loading script: ${err.message}`));\n",
       "    } else {\n",
       "      maybeLoadScript(\"vega\", \"5\")\n",
       "        .then(() => maybeLoadScript(\"vega-lite\", \"5.15.1\"))\n",
       "        .then(() => maybeLoadScript(\"vega-embed\", \"6\"))\n",
       "        .catch(showError)\n",
       "        .then(() => displayChart(vegaEmbed));\n",
       "    }\n",
       "  })({\"config\": {\"view\": {\"continuousWidth\": 300, \"continuousHeight\": 300}}, \"data\": {\"name\": \"data-bfa82bba16ab5d1427763a3c4fda68d9\"}, \"mark\": {\"type\": \"arc\", \"innerRadius\": 50}, \"encoding\": {\"color\": {\"field\": \"securities\", \"type\": \"nominal\"}, \"theta\": {\"field\": \"position_size\", \"type\": \"quantitative\"}, \"tooltip\": [{\"field\": \"securities\", \"type\": \"nominal\"}, {\"field\": \"position_size\", \"type\": \"quantitative\"}]}, \"$schema\": \"https://vega.github.io/schema/vega-lite/v5.15.1.json\", \"datasets\": {\"data-bfa82bba16ab5d1427763a3c4fda68d9\": [{\"securities\": \"BTC:USD\", \"position_size\": 140.8657406324458}, {\"securities\": \"AMC\", \"position_size\": 4269.244325142456}, {\"securities\": \"VSCO\", \"position_size\": 5348.820047466707}, {\"securities\": \"TSLA\", \"position_size\": 4657.198776308756}, {\"securities\": \"GOOGL\", \"position_size\": 8640.980851795186}]}}, {\"mode\": \"vega-lite\"});\n",
       "</script>"
      ],
      "text/plain": [
       "alt.Chart(...)"
      ]
     },
     "execution_count": 135,
     "metadata": {},
     "output_type": "execute_result"
    }
   ],
   "source": [
    "one = size_portfolio_df['securities']\n",
    "two = size_portfolio_df['position_size']\n",
    "user_in_holdings = portfolio_piechart(one, two)\n",
    "user_in_holdings"
   ]
  },
  {
   "cell_type": "code",
   "execution_count": 89,
   "metadata": {},
   "outputs": [],
   "source": [
    "initial_investment = 10000"
   ]
  },
  {
   "cell_type": "markdown",
   "metadata": {},
   "source": [
    "### Cumulative Returns"
   ]
  },
  {
   "cell_type": "code",
   "execution_count": 90,
   "metadata": {},
   "outputs": [],
   "source": [
    "def cumulative_returns(df):\n",
    "    return (1 + df).cumprod()"
   ]
  },
  {
   "cell_type": "code",
   "execution_count": 91,
   "metadata": {},
   "outputs": [
    {
     "data": {
      "text/html": [
       "<div>\n",
       "<style scoped>\n",
       "    .dataframe tbody tr th:only-of-type {\n",
       "        vertical-align: middle;\n",
       "    }\n",
       "\n",
       "    .dataframe tbody tr th {\n",
       "        vertical-align: top;\n",
       "    }\n",
       "\n",
       "    .dataframe thead th {\n",
       "        text-align: right;\n",
       "    }\n",
       "</style>\n",
       "<table border=\"1\" class=\"dataframe\">\n",
       "  <thead>\n",
       "    <tr style=\"text-align: right;\">\n",
       "      <th></th>\n",
       "      <th>fake1</th>\n",
       "      <th>fake2</th>\n",
       "      <th>fake3</th>\n",
       "    </tr>\n",
       "  </thead>\n",
       "  <tbody>\n",
       "    <tr>\n",
       "      <th>0</th>\n",
       "      <td>87.53</td>\n",
       "      <td>96.80</td>\n",
       "      <td>16.02</td>\n",
       "    </tr>\n",
       "    <tr>\n",
       "      <th>1</th>\n",
       "      <td>-184.63</td>\n",
       "      <td>1065.13</td>\n",
       "      <td>1358.50</td>\n",
       "    </tr>\n",
       "    <tr>\n",
       "      <th>2</th>\n",
       "      <td>-11396.58</td>\n",
       "      <td>40534.63</td>\n",
       "      <td>96377.17</td>\n",
       "    </tr>\n",
       "    <tr>\n",
       "      <th>3</th>\n",
       "      <td>-523718.88</td>\n",
       "      <td>2293940.55</td>\n",
       "      <td>6836385.65</td>\n",
       "    </tr>\n",
       "    <tr>\n",
       "      <th>4</th>\n",
       "      <td>9798961.03</td>\n",
       "      <td>-44156605.71</td>\n",
       "      <td>-168738253.87</td>\n",
       "    </tr>\n",
       "    <tr>\n",
       "      <th>...</th>\n",
       "      <td>...</td>\n",
       "      <td>...</td>\n",
       "      <td>...</td>\n",
       "    </tr>\n",
       "    <tr>\n",
       "      <th>95</th>\n",
       "      <td>-9518900413871881595774291171527515748753888394...</td>\n",
       "      <td>-2390893145988428193846601880828389051302124892...</td>\n",
       "      <td>21998096745622218812159958019716774264583288680...</td>\n",
       "    </tr>\n",
       "    <tr>\n",
       "      <th>96</th>\n",
       "      <td>-5264695441571634731834094946471777647848251640...</td>\n",
       "      <td>-2025503910048354302550410560262633185997132496...</td>\n",
       "      <td>79182757863742384903799784536685070628786475045...</td>\n",
       "    </tr>\n",
       "    <tr>\n",
       "      <th>97</th>\n",
       "      <td>-3175370251810505518383460355402917585596658494...</td>\n",
       "      <td>-2825492200563282864364738249778336954391801721...</td>\n",
       "      <td>42261704308131164524368776800899535195308506587...</td>\n",
       "    </tr>\n",
       "    <tr>\n",
       "      <th>98</th>\n",
       "      <td>48871598037999867441161165352756782975710881712...</td>\n",
       "      <td>-4118786334810994629799570814747287844536504930...</td>\n",
       "      <td>22257833591908679707181965549013500914760848616...</td>\n",
       "    </tr>\n",
       "    <tr>\n",
       "      <th>99</th>\n",
       "      <td>75343582017419944639073347922358527190829380635...</td>\n",
       "      <td>10505704794859286336374063337627307935023547911...</td>\n",
       "      <td>20717352359752436040257920696720849285248355611...</td>\n",
       "    </tr>\n",
       "  </tbody>\n",
       "</table>\n",
       "<p>100 rows × 3 columns</p>\n",
       "</div>"
      ],
      "text/plain": [
       "                                                fake1  \\\n",
       "0                                               87.53   \n",
       "1                                             -184.63   \n",
       "2                                           -11396.58   \n",
       "3                                          -523718.88   \n",
       "4                                          9798961.03   \n",
       "..                                                ...   \n",
       "95 -9518900413871881595774291171527515748753888394...   \n",
       "96 -5264695441571634731834094946471777647848251640...   \n",
       "97 -3175370251810505518383460355402917585596658494...   \n",
       "98 48871598037999867441161165352756782975710881712...   \n",
       "99 75343582017419944639073347922358527190829380635...   \n",
       "\n",
       "                                                fake2  \\\n",
       "0                                               96.80   \n",
       "1                                             1065.13   \n",
       "2                                            40534.63   \n",
       "3                                          2293940.55   \n",
       "4                                        -44156605.71   \n",
       "..                                                ...   \n",
       "95 -2390893145988428193846601880828389051302124892...   \n",
       "96 -2025503910048354302550410560262633185997132496...   \n",
       "97 -2825492200563282864364738249778336954391801721...   \n",
       "98 -4118786334810994629799570814747287844536504930...   \n",
       "99 10505704794859286336374063337627307935023547911...   \n",
       "\n",
       "                                                fake3  \n",
       "0                                               16.02  \n",
       "1                                             1358.50  \n",
       "2                                            96377.17  \n",
       "3                                          6836385.65  \n",
       "4                                       -168738253.87  \n",
       "..                                                ...  \n",
       "95 21998096745622218812159958019716774264583288680...  \n",
       "96 79182757863742384903799784536685070628786475045...  \n",
       "97 42261704308131164524368776800899535195308506587...  \n",
       "98 22257833591908679707181965549013500914760848616...  \n",
       "99 20717352359752436040257920696720849285248355611...  \n",
       "\n",
       "[100 rows x 3 columns]"
      ]
     },
     "execution_count": 91,
     "metadata": {},
     "output_type": "execute_result"
    }
   ],
   "source": [
    "user_cr = cumulative_returns(portfolio_df)\n",
    "user_cr"
   ]
  },
  {
   "cell_type": "markdown",
   "metadata": {},
   "source": [
    "### Correlation"
   ]
  },
  {
   "cell_type": "code",
   "execution_count": 92,
   "metadata": {},
   "outputs": [
    {
     "data": {
      "text/html": [
       "<div>\n",
       "<style scoped>\n",
       "    .dataframe tbody tr th:only-of-type {\n",
       "        vertical-align: middle;\n",
       "    }\n",
       "\n",
       "    .dataframe tbody tr th {\n",
       "        vertical-align: top;\n",
       "    }\n",
       "\n",
       "    .dataframe thead th {\n",
       "        text-align: right;\n",
       "    }\n",
       "</style>\n",
       "<table border=\"1\" class=\"dataframe\">\n",
       "  <thead>\n",
       "    <tr style=\"text-align: right;\">\n",
       "      <th></th>\n",
       "      <th>fake1</th>\n",
       "      <th>fake2</th>\n",
       "      <th>fake3</th>\n",
       "    </tr>\n",
       "  </thead>\n",
       "  <tbody>\n",
       "    <tr>\n",
       "      <th>fake1</th>\n",
       "      <td>1.00</td>\n",
       "      <td>0.03</td>\n",
       "      <td>0.02</td>\n",
       "    </tr>\n",
       "    <tr>\n",
       "      <th>fake2</th>\n",
       "      <td>0.03</td>\n",
       "      <td>1.00</td>\n",
       "      <td>0.12</td>\n",
       "    </tr>\n",
       "    <tr>\n",
       "      <th>fake3</th>\n",
       "      <td>0.02</td>\n",
       "      <td>0.12</td>\n",
       "      <td>1.00</td>\n",
       "    </tr>\n",
       "  </tbody>\n",
       "</table>\n",
       "</div>"
      ],
      "text/plain": [
       "       fake1  fake2  fake3\n",
       "fake1   1.00   0.03   0.02\n",
       "fake2   0.03   1.00   0.12\n",
       "fake3   0.02   0.12   1.00"
      ]
     },
     "execution_count": 92,
     "metadata": {},
     "output_type": "execute_result"
    }
   ],
   "source": [
    "returns_cor = returns.corr()\n",
    "returns_cor"
   ]
  },
  {
   "cell_type": "markdown",
   "metadata": {},
   "source": [
    "### Correlation Heatmap Function Interactive"
   ]
  },
  {
   "cell_type": "code",
   "execution_count": 122,
   "metadata": {},
   "outputs": [],
   "source": [
    "def corr_plot(df):\n",
    "    '''\n",
    "    df: correlation dataframe\n",
    "    '''\n",
    "    # px plotly package\n",
    "    fig = px.imshow(returns_cor, text_auto=True, aspect=\"auto\", \n",
    "                    color_continuous_scale='RdBu_r', zmin=-1, zmax=1)\n",
    "    fig.update_layout(width = 750, height = 600, title='Correlation Plot')"
   ]
  },
  {
   "cell_type": "markdown",
   "metadata": {},
   "source": [
    "### Correlation Heat map Interactive"
   ]
  },
  {
   "cell_type": "code",
   "execution_count": 123,
   "metadata": {},
   "outputs": [
    {
     "data": {
      "application/vnd.plotly.v1+json": {
       "config": {
        "plotlyServerURL": "https://plot.ly"
       },
       "data": [
        {
         "coloraxis": "coloraxis",
         "hovertemplate": "x: %{x}<br>y: %{y}<br>color: %{z}<extra></extra>",
         "name": "0",
         "texttemplate": "%{z}",
         "type": "heatmap",
         "x": [
          "fake1",
          "fake2",
          "fake3"
         ],
         "xaxis": "x",
         "y": [
          "fake1",
          "fake2",
          "fake3"
         ],
         "yaxis": "y",
         "z": [
          [
           1,
           0.03429670830997202,
           0.01704910686855998
          ],
          [
           0.03429670830997202,
           1,
           0.11775060780211477
          ],
          [
           0.01704910686855998,
           0.11775060780211477,
           1
          ]
         ]
        }
       ],
       "layout": {
        "coloraxis": {
         "cmax": 1,
         "cmin": -1,
         "colorscale": [
          [
           0,
           "rgb(5,48,97)"
          ],
          [
           0.1,
           "rgb(33,102,172)"
          ],
          [
           0.2,
           "rgb(67,147,195)"
          ],
          [
           0.3,
           "rgb(146,197,222)"
          ],
          [
           0.4,
           "rgb(209,229,240)"
          ],
          [
           0.5,
           "rgb(247,247,247)"
          ],
          [
           0.6,
           "rgb(253,219,199)"
          ],
          [
           0.7,
           "rgb(244,165,130)"
          ],
          [
           0.8,
           "rgb(214,96,77)"
          ],
          [
           0.9,
           "rgb(178,24,43)"
          ],
          [
           1,
           "rgb(103,0,31)"
          ]
         ]
        },
        "height": 600,
        "margin": {
         "t": 60
        },
        "template": {
         "data": {
          "bar": [
           {
            "error_x": {
             "color": "#2a3f5f"
            },
            "error_y": {
             "color": "#2a3f5f"
            },
            "marker": {
             "line": {
              "color": "#E5ECF6",
              "width": 0.5
             },
             "pattern": {
              "fillmode": "overlay",
              "size": 10,
              "solidity": 0.2
             }
            },
            "type": "bar"
           }
          ],
          "barpolar": [
           {
            "marker": {
             "line": {
              "color": "#E5ECF6",
              "width": 0.5
             },
             "pattern": {
              "fillmode": "overlay",
              "size": 10,
              "solidity": 0.2
             }
            },
            "type": "barpolar"
           }
          ],
          "carpet": [
           {
            "aaxis": {
             "endlinecolor": "#2a3f5f",
             "gridcolor": "white",
             "linecolor": "white",
             "minorgridcolor": "white",
             "startlinecolor": "#2a3f5f"
            },
            "baxis": {
             "endlinecolor": "#2a3f5f",
             "gridcolor": "white",
             "linecolor": "white",
             "minorgridcolor": "white",
             "startlinecolor": "#2a3f5f"
            },
            "type": "carpet"
           }
          ],
          "choropleth": [
           {
            "colorbar": {
             "outlinewidth": 0,
             "ticks": ""
            },
            "type": "choropleth"
           }
          ],
          "contour": [
           {
            "colorbar": {
             "outlinewidth": 0,
             "ticks": ""
            },
            "colorscale": [
             [
              0,
              "#0d0887"
             ],
             [
              0.1111111111111111,
              "#46039f"
             ],
             [
              0.2222222222222222,
              "#7201a8"
             ],
             [
              0.3333333333333333,
              "#9c179e"
             ],
             [
              0.4444444444444444,
              "#bd3786"
             ],
             [
              0.5555555555555556,
              "#d8576b"
             ],
             [
              0.6666666666666666,
              "#ed7953"
             ],
             [
              0.7777777777777778,
              "#fb9f3a"
             ],
             [
              0.8888888888888888,
              "#fdca26"
             ],
             [
              1,
              "#f0f921"
             ]
            ],
            "type": "contour"
           }
          ],
          "contourcarpet": [
           {
            "colorbar": {
             "outlinewidth": 0,
             "ticks": ""
            },
            "type": "contourcarpet"
           }
          ],
          "heatmap": [
           {
            "colorbar": {
             "outlinewidth": 0,
             "ticks": ""
            },
            "colorscale": [
             [
              0,
              "#0d0887"
             ],
             [
              0.1111111111111111,
              "#46039f"
             ],
             [
              0.2222222222222222,
              "#7201a8"
             ],
             [
              0.3333333333333333,
              "#9c179e"
             ],
             [
              0.4444444444444444,
              "#bd3786"
             ],
             [
              0.5555555555555556,
              "#d8576b"
             ],
             [
              0.6666666666666666,
              "#ed7953"
             ],
             [
              0.7777777777777778,
              "#fb9f3a"
             ],
             [
              0.8888888888888888,
              "#fdca26"
             ],
             [
              1,
              "#f0f921"
             ]
            ],
            "type": "heatmap"
           }
          ],
          "heatmapgl": [
           {
            "colorbar": {
             "outlinewidth": 0,
             "ticks": ""
            },
            "colorscale": [
             [
              0,
              "#0d0887"
             ],
             [
              0.1111111111111111,
              "#46039f"
             ],
             [
              0.2222222222222222,
              "#7201a8"
             ],
             [
              0.3333333333333333,
              "#9c179e"
             ],
             [
              0.4444444444444444,
              "#bd3786"
             ],
             [
              0.5555555555555556,
              "#d8576b"
             ],
             [
              0.6666666666666666,
              "#ed7953"
             ],
             [
              0.7777777777777778,
              "#fb9f3a"
             ],
             [
              0.8888888888888888,
              "#fdca26"
             ],
             [
              1,
              "#f0f921"
             ]
            ],
            "type": "heatmapgl"
           }
          ],
          "histogram": [
           {
            "marker": {
             "pattern": {
              "fillmode": "overlay",
              "size": 10,
              "solidity": 0.2
             }
            },
            "type": "histogram"
           }
          ],
          "histogram2d": [
           {
            "colorbar": {
             "outlinewidth": 0,
             "ticks": ""
            },
            "colorscale": [
             [
              0,
              "#0d0887"
             ],
             [
              0.1111111111111111,
              "#46039f"
             ],
             [
              0.2222222222222222,
              "#7201a8"
             ],
             [
              0.3333333333333333,
              "#9c179e"
             ],
             [
              0.4444444444444444,
              "#bd3786"
             ],
             [
              0.5555555555555556,
              "#d8576b"
             ],
             [
              0.6666666666666666,
              "#ed7953"
             ],
             [
              0.7777777777777778,
              "#fb9f3a"
             ],
             [
              0.8888888888888888,
              "#fdca26"
             ],
             [
              1,
              "#f0f921"
             ]
            ],
            "type": "histogram2d"
           }
          ],
          "histogram2dcontour": [
           {
            "colorbar": {
             "outlinewidth": 0,
             "ticks": ""
            },
            "colorscale": [
             [
              0,
              "#0d0887"
             ],
             [
              0.1111111111111111,
              "#46039f"
             ],
             [
              0.2222222222222222,
              "#7201a8"
             ],
             [
              0.3333333333333333,
              "#9c179e"
             ],
             [
              0.4444444444444444,
              "#bd3786"
             ],
             [
              0.5555555555555556,
              "#d8576b"
             ],
             [
              0.6666666666666666,
              "#ed7953"
             ],
             [
              0.7777777777777778,
              "#fb9f3a"
             ],
             [
              0.8888888888888888,
              "#fdca26"
             ],
             [
              1,
              "#f0f921"
             ]
            ],
            "type": "histogram2dcontour"
           }
          ],
          "mesh3d": [
           {
            "colorbar": {
             "outlinewidth": 0,
             "ticks": ""
            },
            "type": "mesh3d"
           }
          ],
          "parcoords": [
           {
            "line": {
             "colorbar": {
              "outlinewidth": 0,
              "ticks": ""
             }
            },
            "type": "parcoords"
           }
          ],
          "pie": [
           {
            "automargin": true,
            "type": "pie"
           }
          ],
          "scatter": [
           {
            "fillpattern": {
             "fillmode": "overlay",
             "size": 10,
             "solidity": 0.2
            },
            "type": "scatter"
           }
          ],
          "scatter3d": [
           {
            "line": {
             "colorbar": {
              "outlinewidth": 0,
              "ticks": ""
             }
            },
            "marker": {
             "colorbar": {
              "outlinewidth": 0,
              "ticks": ""
             }
            },
            "type": "scatter3d"
           }
          ],
          "scattercarpet": [
           {
            "marker": {
             "colorbar": {
              "outlinewidth": 0,
              "ticks": ""
             }
            },
            "type": "scattercarpet"
           }
          ],
          "scattergeo": [
           {
            "marker": {
             "colorbar": {
              "outlinewidth": 0,
              "ticks": ""
             }
            },
            "type": "scattergeo"
           }
          ],
          "scattergl": [
           {
            "marker": {
             "colorbar": {
              "outlinewidth": 0,
              "ticks": ""
             }
            },
            "type": "scattergl"
           }
          ],
          "scattermapbox": [
           {
            "marker": {
             "colorbar": {
              "outlinewidth": 0,
              "ticks": ""
             }
            },
            "type": "scattermapbox"
           }
          ],
          "scatterpolar": [
           {
            "marker": {
             "colorbar": {
              "outlinewidth": 0,
              "ticks": ""
             }
            },
            "type": "scatterpolar"
           }
          ],
          "scatterpolargl": [
           {
            "marker": {
             "colorbar": {
              "outlinewidth": 0,
              "ticks": ""
             }
            },
            "type": "scatterpolargl"
           }
          ],
          "scatterternary": [
           {
            "marker": {
             "colorbar": {
              "outlinewidth": 0,
              "ticks": ""
             }
            },
            "type": "scatterternary"
           }
          ],
          "surface": [
           {
            "colorbar": {
             "outlinewidth": 0,
             "ticks": ""
            },
            "colorscale": [
             [
              0,
              "#0d0887"
             ],
             [
              0.1111111111111111,
              "#46039f"
             ],
             [
              0.2222222222222222,
              "#7201a8"
             ],
             [
              0.3333333333333333,
              "#9c179e"
             ],
             [
              0.4444444444444444,
              "#bd3786"
             ],
             [
              0.5555555555555556,
              "#d8576b"
             ],
             [
              0.6666666666666666,
              "#ed7953"
             ],
             [
              0.7777777777777778,
              "#fb9f3a"
             ],
             [
              0.8888888888888888,
              "#fdca26"
             ],
             [
              1,
              "#f0f921"
             ]
            ],
            "type": "surface"
           }
          ],
          "table": [
           {
            "cells": {
             "fill": {
              "color": "#EBF0F8"
             },
             "line": {
              "color": "white"
             }
            },
            "header": {
             "fill": {
              "color": "#C8D4E3"
             },
             "line": {
              "color": "white"
             }
            },
            "type": "table"
           }
          ]
         },
         "layout": {
          "annotationdefaults": {
           "arrowcolor": "#2a3f5f",
           "arrowhead": 0,
           "arrowwidth": 1
          },
          "autotypenumbers": "strict",
          "coloraxis": {
           "colorbar": {
            "outlinewidth": 0,
            "ticks": ""
           }
          },
          "colorscale": {
           "diverging": [
            [
             0,
             "#8e0152"
            ],
            [
             0.1,
             "#c51b7d"
            ],
            [
             0.2,
             "#de77ae"
            ],
            [
             0.3,
             "#f1b6da"
            ],
            [
             0.4,
             "#fde0ef"
            ],
            [
             0.5,
             "#f7f7f7"
            ],
            [
             0.6,
             "#e6f5d0"
            ],
            [
             0.7,
             "#b8e186"
            ],
            [
             0.8,
             "#7fbc41"
            ],
            [
             0.9,
             "#4d9221"
            ],
            [
             1,
             "#276419"
            ]
           ],
           "sequential": [
            [
             0,
             "#0d0887"
            ],
            [
             0.1111111111111111,
             "#46039f"
            ],
            [
             0.2222222222222222,
             "#7201a8"
            ],
            [
             0.3333333333333333,
             "#9c179e"
            ],
            [
             0.4444444444444444,
             "#bd3786"
            ],
            [
             0.5555555555555556,
             "#d8576b"
            ],
            [
             0.6666666666666666,
             "#ed7953"
            ],
            [
             0.7777777777777778,
             "#fb9f3a"
            ],
            [
             0.8888888888888888,
             "#fdca26"
            ],
            [
             1,
             "#f0f921"
            ]
           ],
           "sequentialminus": [
            [
             0,
             "#0d0887"
            ],
            [
             0.1111111111111111,
             "#46039f"
            ],
            [
             0.2222222222222222,
             "#7201a8"
            ],
            [
             0.3333333333333333,
             "#9c179e"
            ],
            [
             0.4444444444444444,
             "#bd3786"
            ],
            [
             0.5555555555555556,
             "#d8576b"
            ],
            [
             0.6666666666666666,
             "#ed7953"
            ],
            [
             0.7777777777777778,
             "#fb9f3a"
            ],
            [
             0.8888888888888888,
             "#fdca26"
            ],
            [
             1,
             "#f0f921"
            ]
           ]
          },
          "colorway": [
           "#636efa",
           "#EF553B",
           "#00cc96",
           "#ab63fa",
           "#FFA15A",
           "#19d3f3",
           "#FF6692",
           "#B6E880",
           "#FF97FF",
           "#FECB52"
          ],
          "font": {
           "color": "#2a3f5f"
          },
          "geo": {
           "bgcolor": "white",
           "lakecolor": "white",
           "landcolor": "#E5ECF6",
           "showlakes": true,
           "showland": true,
           "subunitcolor": "white"
          },
          "hoverlabel": {
           "align": "left"
          },
          "hovermode": "closest",
          "mapbox": {
           "style": "light"
          },
          "paper_bgcolor": "white",
          "plot_bgcolor": "#E5ECF6",
          "polar": {
           "angularaxis": {
            "gridcolor": "white",
            "linecolor": "white",
            "ticks": ""
           },
           "bgcolor": "#E5ECF6",
           "radialaxis": {
            "gridcolor": "white",
            "linecolor": "white",
            "ticks": ""
           }
          },
          "scene": {
           "xaxis": {
            "backgroundcolor": "#E5ECF6",
            "gridcolor": "white",
            "gridwidth": 2,
            "linecolor": "white",
            "showbackground": true,
            "ticks": "",
            "zerolinecolor": "white"
           },
           "yaxis": {
            "backgroundcolor": "#E5ECF6",
            "gridcolor": "white",
            "gridwidth": 2,
            "linecolor": "white",
            "showbackground": true,
            "ticks": "",
            "zerolinecolor": "white"
           },
           "zaxis": {
            "backgroundcolor": "#E5ECF6",
            "gridcolor": "white",
            "gridwidth": 2,
            "linecolor": "white",
            "showbackground": true,
            "ticks": "",
            "zerolinecolor": "white"
           }
          },
          "shapedefaults": {
           "line": {
            "color": "#2a3f5f"
           }
          },
          "ternary": {
           "aaxis": {
            "gridcolor": "white",
            "linecolor": "white",
            "ticks": ""
           },
           "baxis": {
            "gridcolor": "white",
            "linecolor": "white",
            "ticks": ""
           },
           "bgcolor": "#E5ECF6",
           "caxis": {
            "gridcolor": "white",
            "linecolor": "white",
            "ticks": ""
           }
          },
          "title": {
           "x": 0.05
          },
          "xaxis": {
           "automargin": true,
           "gridcolor": "white",
           "linecolor": "white",
           "ticks": "",
           "title": {
            "standoff": 15
           },
           "zerolinecolor": "white",
           "zerolinewidth": 2
          },
          "yaxis": {
           "automargin": true,
           "gridcolor": "white",
           "linecolor": "white",
           "ticks": "",
           "title": {
            "standoff": 15
           },
           "zerolinecolor": "white",
           "zerolinewidth": 2
          }
         }
        },
        "title": {
         "text": "Correlation Plot"
        },
        "width": 750,
        "xaxis": {
         "anchor": "y",
         "domain": [
          0,
          1
         ]
        },
        "yaxis": {
         "anchor": "x",
         "autorange": "reversed",
         "domain": [
          0,
          1
         ]
        }
       }
      }
     },
     "metadata": {},
     "output_type": "display_data"
    }
   ],
   "source": [
    "corr_plot(returns_cor)"
   ]
  },
  {
   "cell_type": "markdown",
   "metadata": {},
   "source": [
    "### Scatter plot for correlation; non-interactive"
   ]
  },
  {
   "cell_type": "code",
   "execution_count": 151,
   "metadata": {},
   "outputs": [
    {
     "data": {
      "image/png": "[encoded data removed]",
      "text/plain": [
       "<Figure size 800x600 with 1 Axes>"
      ]
     },
     "metadata": {},
     "output_type": "display_data"
    }
   ],
   "source": [
    "def plot_scatter(df, x, y, color):\n",
    "    '''\n",
    "    df = Corr df\n",
    "    x: str: Column in a dataframe\n",
    "    y: str: Column in a dataframe\n",
    "    color: str: Color\n",
    "    '''\n",
    "    plt.figure(figsize=(8, 6))\n",
    "    plt.scatter(df[x], df[y], label=f'{x} vs {y}', color=color)\n",
    "    \n",
    "    # Customize the plot\n",
    "    plt.title('Scatter Plot')\n",
    "    plt.xlabel(x)\n",
    "    plt.ylabel(y)\n",
    "    plt.legend()\n",
    "    plt.grid(True)\n",
    "    \n",
    "plot_scatter(returns_cor, 'fake1', 'fake2', color = 'red')"
   ]
  },
  {
   "cell_type": "markdown",
   "metadata": {},
   "source": [
    "### Scatter plot for correlation; Interactive"
   ]
  },
  {
   "cell_type": "code",
   "execution_count": 161,
   "metadata": {},
   "outputs": [],
   "source": [
    "def interactive_scatter(df):\n",
    "    '''\n",
    "    df: correlation dataframe\n",
    "    '''\n",
    "    def plot(df, x_axis, y_axis, color):\n",
    "        '''\n",
    "        df: correlation dataframe\n",
    "        x_axis: str: variable 1; column \n",
    "        y_axis: str: variable 2; column \n",
    "        color: var: determined via user input\n",
    "        '''\n",
    "        plt.figure(figsize=(8, 6))\n",
    "        plt.scatter(df[x_axis], df[y_axis], label=f'{x_axis} vs {y_axis}', color=color)\n",
    "        plt.title('Scatter Plot')\n",
    "        plt.xlabel(x_axis)\n",
    "        plt.ylabel(y_axis)\n",
    "        plt.legend()\n",
    "        plt.grid(True)\n",
    "        plt.show()\n",
    "\n",
    "    interact(plot, \n",
    "             x_axis = widgets.Dropdown(options = df.columns.tolist(), value = 'fake1', description = 'X-axis'),\n",
    "             y_axis = widgets.Dropdown(options = df.columns.tolist(), value = 'fake2', description = 'Y-axis'),\n",
    "             color = widgets.ColorPicker(value = 'blue', description='Color')\n",
    "            )\n"
   ]
  },
  {
   "cell_type": "markdown",
   "metadata": {},
   "source": [
    "### Correlation scatter plot execution"
   ]
  },
  {
   "cell_type": "code",
   "execution_count": 158,
   "metadata": {},
   "outputs": [
    {
     "data": {
      "application/vnd.jupyter.widget-view+json": {
       "model_id": "c79774afb5cb44f880fcfd7ea13d505e",
       "version_major": 2,
       "version_minor": 0
      },
      "text/plain": [
       "interactive(children=(Dropdown(description='X-axis', options=('fake1', 'fake2', 'fake3'), value='fake1'), Drop…"
      ]
     },
     "metadata": {},
     "output_type": "display_data"
    }
   ],
   "source": [
    "interactive_scatter(returns_cor)"
   ]
  },
  {
   "cell_type": "markdown",
   "metadata": {},
   "source": [
    "### Covariance"
   ]
  },
  {
   "cell_type": "code",
   "execution_count": 97,
   "metadata": {},
   "outputs": [],
   "source": [
    "def covariance(df, ticker, market):\n",
    "    return df[ticker].cov(df[market])"
   ]
  },
  {
   "cell_type": "code",
   "execution_count": 98,
   "metadata": {},
   "outputs": [
    {
     "data": {
      "text/plain": [
       "241.8108808656938"
      ]
     },
     "execution_count": 98,
     "metadata": {},
     "output_type": "execute_result"
    }
   ],
   "source": [
    "user_covariance = covariance(portfolio_df, 'fake2', 'fake3')\n",
    "user_covariance"
   ]
  },
  {
   "cell_type": "markdown",
   "metadata": {},
   "source": [
    "### Variance"
   ]
  },
  {
   "cell_type": "code",
   "execution_count": 99,
   "metadata": {},
   "outputs": [],
   "source": [
    "def variance(df, market):\n",
    "    return df[market].var()"
   ]
  },
  {
   "cell_type": "code",
   "execution_count": 100,
   "metadata": {},
   "outputs": [
    {
     "data": {
      "text/plain": [
       "2011.9428760221542"
      ]
     },
     "execution_count": 100,
     "metadata": {},
     "output_type": "execute_result"
    }
   ],
   "source": [
    "user_variance = variance(portfolio_df, 'fake3')\n",
    "user_variance"
   ]
  },
  {
   "cell_type": "markdown",
   "metadata": {},
   "source": [
    "### Drawdown"
   ]
  },
  {
   "cell_type": "code",
   "execution_count": 101,
   "metadata": {},
   "outputs": [],
   "source": [
    "def drawdown(df, tickers):\n",
    "    Roll_Max = df[tickers].cummax()\n",
    "    Daily_Drawdown = df[tickers]/Roll_Max - 1.0\n",
    "    Max_Daily_Drawdown = Daily_Drawdown.cummin() * 100"
   ]
  },
  {
   "cell_type": "code",
   "execution_count": 102,
   "metadata": {},
   "outputs": [],
   "source": [
    "user_drawdown = drawdown(portfolio_df, 'fake1')\n",
    "user_drawdown"
   ]
  },
  {
   "cell_type": "markdown",
   "metadata": {},
   "source": [
    "### Drawdown Chart Function"
   ]
  },
  {
   "cell_type": "code",
   "execution_count": 103,
   "metadata": {},
   "outputs": [],
   "source": [
    "def drawdown_chart(df, date, quant):\n",
    "    '''\n",
    "    df: dataframe\n",
    "    date: str: should be a date column name\n",
    "    quant: str: should be a quantitative data type\n",
    "    '''\n",
    "    chart = alt.Chart(df.reset_index()).mark_bar().encode(\n",
    "        x = date + ':T',  # T specifies temporal data type for x-axis\n",
    "        y = quant + ':Q',  # Q specifies a quantitative data type for y-axis\n",
    "        color = alt.condition(\n",
    "            getattr(alt.datum, quant) > 0,\n",
    "            alt.value(\"Green\"),  # The positive color\n",
    "            alt.value(\"red\")\n",
    "    ), tooltip= [date + ':T', quant + ':Q']\n",
    "    ).properties(width=800)\n",
    "    chart = chart.interactive()\n",
    "    return chart"
   ]
  },
  {
   "cell_type": "code",
   "execution_count": 104,
   "metadata": {},
   "outputs": [
    {
     "data": {
      "text/html": [
       "\n",
       "<style>\n",
       "  #altair-viz-98b6206478954374b2b5ce39aa97e0d6.vega-embed {\n",
       "    width: 100%;\n",
       "    display: flex;\n",
       "  }\n",
       "\n",
       "  #altair-viz-98b6206478954374b2b5ce39aa97e0d6.vega-embed details,\n",
       "  #altair-viz-98b6206478954374b2b5ce39aa97e0d6.vega-embed details summary {\n",
       "    position: relative;\n",
       "  }\n",
       "</style>\n",
       "<div id=\"altair-viz-98b6206478954374b2b5ce39aa97e0d6\"></div>\n",
       "<script type=\"text/javascript\">\n",
       "  var VEGA_DEBUG = (typeof VEGA_DEBUG == \"undefined\") ? {} : VEGA_DEBUG;\n",
       "  (function(spec, embedOpt){\n",
       "    let outputDiv = document.currentScript.previousElementSibling;\n",
       "    if (outputDiv.id !== \"altair-viz-98b6206478954374b2b5ce39aa97e0d6\") {\n",
       "      outputDiv = document.getElementById(\"altair-viz-98b6206478954374b2b5ce39aa97e0d6\");\n",
       "    }\n",
       "    const paths = {\n",
       "      \"vega\": \"https://cdn.jsdelivr.net/npm/vega@5?noext\",\n",
       "      \"vega-lib\": \"https://cdn.jsdelivr.net/npm/vega-lib?noext\",\n",
       "      \"vega-lite\": \"https://cdn.jsdelivr.net/npm/vega-lite@5.15.1?noext\",\n",
       "      \"vega-embed\": \"https://cdn.jsdelivr.net/npm/vega-embed@6?noext\",\n",
       "    };\n",
       "\n",
       "    function maybeLoadScript(lib, version) {\n",
       "      var key = `${lib.replace(\"-\", \"\")}_version`;\n",
       "      return (VEGA_DEBUG[key] == version) ?\n",
       "        Promise.resolve(paths[lib]) :\n",
       "        new Promise(function(resolve, reject) {\n",
       "          var s = document.createElement('script');\n",
       "          document.getElementsByTagName(\"head\")[0].appendChild(s);\n",
       "          s.async = true;\n",
       "          s.onload = () => {\n",
       "            VEGA_DEBUG[key] = version;\n",
       "            return resolve(paths[lib]);\n",
       "          };\n",
       "          s.onerror = () => reject(`Error loading script: ${paths[lib]}`);\n",
       "          s.src = paths[lib];\n",
       "        });\n",
       "    }\n",
       "\n",
       "    function showError(err) {\n",
       "      outputDiv.innerHTML = `<div class=\"error\" style=\"color:red;\">${err}</div>`;\n",
       "      throw err;\n",
       "    }\n",
       "\n",
       "    function displayChart(vegaEmbed) {\n",
       "      vegaEmbed(outputDiv, spec, embedOpt)\n",
       "        .catch(err => showError(`Javascript Error: ${err.message}<br>This usually means there's a typo in your chart specification. See the javascript console for the full traceback.`));\n",
       "    }\n",
       "\n",
       "    if(typeof define === \"function\" && define.amd) {\n",
       "      requirejs.config({paths});\n",
       "      require([\"vega-embed\"], displayChart, err => showError(`Error loading script: ${err.message}`));\n",
       "    } else {\n",
       "      maybeLoadScript(\"vega\", \"5\")\n",
       "        .then(() => maybeLoadScript(\"vega-lite\", \"5.15.1\"))\n",
       "        .then(() => maybeLoadScript(\"vega-embed\", \"6\"))\n",
       "        .catch(showError)\n",
       "        .then(() => displayChart(vegaEmbed));\n",
       "    }\n",
       "  })({\"config\": {\"view\": {\"continuousWidth\": 300, \"continuousHeight\": 300}}, \"data\": {\"name\": \"data-6d283dfc6ba6da94d32f5acf96859076\"}, \"mark\": {\"type\": \"bar\"}, \"encoding\": {\"color\": {\"condition\": {\"test\": \"(datum.fake1 > 0)\", \"value\": \"Green\"}, \"value\": \"red\"}, \"tooltip\": [{\"field\": \"date\", \"type\": \"temporal\"}, {\"field\": \"fake1\", \"type\": \"quantitative\"}], \"x\": {\"field\": \"date\", \"type\": \"temporal\"}, \"y\": {\"field\": \"fake1\", \"type\": \"quantitative\"}}, \"params\": [{\"name\": \"param_9\", \"select\": {\"type\": \"interval\", \"encodings\": [\"x\", \"y\"]}, \"bind\": \"scales\"}], \"width\": 800, \"$schema\": \"https://vega.github.io/schema/vega-lite/v5.15.1.json\", \"datasets\": {\"data-6d283dfc6ba6da94d32f5acf96859076\": [{\"date\": \"2018-01-01T00:00:00\", \"fake1\": 86.53310634377443, \"fake2\": 95.80100354275147, \"fake3\": 15.020996981568473}, {\"date\": \"2018-01-02T00:00:00\", \"fake1\": -3.109277046784271, \"fake2\": 10.003294130875844, \"fake3\": 83.79474978609956}, {\"date\": \"2018-01-03T00:00:00\", \"fake1\": 60.7260666417984, \"fake2\": 37.0560411143729, \"fake3\": 69.94399615448106}, {\"date\": \"2018-01-04T00:00:00\", \"fake1\": 44.95403598139769, \"fake2\": 55.59212060155917, \"fake3\": 69.93366580205623}, {\"date\": \"2018-01-05T00:00:00\", \"fake1\": -19.710345186860934, \"fake2\": -20.249237213198, \"fake3\": -25.68237786539693}, {\"date\": \"2018-01-06T00:00:00\", \"fake1\": -7.264027224227078, \"fake2\": -10.002863355754428, \"fake3\": 18.38691026544707}, {\"date\": \"2018-01-07T00:00:00\", \"fake1\": -12.063634870716712, \"fake2\": 21.000583765132504, \"fake3\": -47.79742438610441}, {\"date\": \"2018-01-08T00:00:00\", \"fake1\": 56.62028974715707, \"fake2\": 11.74202431655867, \"fake3\": 14.624411624214872}, {\"date\": \"2018-01-09T00:00:00\", \"fake1\": -7.708590449605694, \"fake2\": 68.31515273881665, \"fake3\": 41.68344122813994}, {\"date\": \"2018-01-10T00:00:00\", \"fake1\": 92.29903240917943, \"fake2\": 27.861640477671955, \"fake3\": 84.16560026985925}, {\"date\": \"2018-01-11T00:00:00\", \"fake1\": -40.53656358193237, \"fake2\": 48.783970151270935, \"fake3\": -14.868344836440656}, {\"date\": \"2018-01-12T00:00:00\", \"fake1\": 19.439771084392746, \"fake2\": -40.10618850694627, \"fake3\": -35.82168353628387}, {\"date\": \"2018-01-13T00:00:00\", \"fake1\": 65.68613892356504, \"fake2\": 12.939158217310023, \"fake3\": 47.64268311875954}, {\"date\": \"2018-01-14T00:00:00\", \"fake1\": 37.289343392112684, \"fake2\": -32.41999989937821, \"fake3\": -22.35457538704341}, {\"date\": \"2018-01-15T00:00:00\", \"fake1\": 44.80062025423477, \"fake2\": 72.55668776557988, \"fake3\": 93.29714768745428}, {\"date\": \"2018-01-16T00:00:00\", \"fake1\": 72.71550166243864, \"fake2\": 94.56001673856615, \"fake3\": 48.80342504181602}, {\"date\": \"2018-01-17T00:00:00\", \"fake1\": 89.80388308084537, \"fake2\": 70.57238985264962, \"fake3\": 38.94112754054846}, {\"date\": \"2018-01-18T00:00:00\", \"fake1\": -47.302227855538376, \"fake2\": -42.077378132364004, \"fake3\": -48.61353273193632}, {\"date\": \"2018-01-19T00:00:00\", \"fake1\": 21.311473955690673, \"fake2\": 7.081099236615742, \"fake3\": 74.90121545021925}, {\"date\": \"2018-01-20T00:00:00\", \"fake1\": -27.254313650538762, \"fake2\": 65.9393131198945, \"fake3\": 36.49593767868436}, {\"date\": \"2018-01-21T00:00:00\", \"fake1\": -13.179802442218886, \"fake2\": 32.50369939441323, \"fake3\": 40.99296867958536}, {\"date\": \"2018-01-22T00:00:00\", \"fake1\": 83.76771960783049, \"fake2\": -49.720691284296976, \"fake3\": 22.62735402503783}, {\"date\": \"2018-01-23T00:00:00\", \"fake1\": -9.268054497869016, \"fake2\": 72.28279275380987, \"fake3\": 74.41635883639613}, {\"date\": \"2018-01-24T00:00:00\", \"fake1\": -27.074697456960507, \"fake2\": -5.227848693068125, \"fake3\": 39.60882895774261}, {\"date\": \"2018-01-25T00:00:00\", \"fake1\": -11.651871497757242, \"fake2\": 98.78154468396248, \"fake3\": 87.17607881633072}, {\"date\": \"2018-01-26T00:00:00\", \"fake1\": 18.52505188192653, \"fake2\": -32.226393081223506, \"fake3\": 17.309723882660307}, {\"date\": \"2018-01-27T00:00:00\", \"fake1\": 45.21421877205297, \"fake2\": 70.73552561235357, \"fake3\": 92.54012044628887}, {\"date\": \"2018-01-28T00:00:00\", \"fake1\": 55.59261789362649, \"fake2\": -46.81839519305561, \"fake3\": 3.72551586357244}, {\"date\": \"2018-01-29T00:00:00\", \"fake1\": -49.0534996425414, \"fake2\": -19.988282668285308, \"fake3\": 35.84650279861525}, {\"date\": \"2018-01-30T00:00:00\", \"fake1\": -46.46988730578826, \"fake2\": -2.232065505718438, \"fake3\": 4.28456397698821}, {\"date\": \"2018-01-31T00:00:00\", \"fake1\": 86.48184835615737, \"fake2\": 11.737791140936224, \"fake3\": 0.5176764047579212}, {\"date\": \"2018-02-01T00:00:00\", \"fake1\": 28.96160596671497, \"fake2\": 66.16250581759616, \"fake3\": 72.7136229137431}, {\"date\": \"2018-02-02T00:00:00\", \"fake1\": -49.62237680798634, \"fake2\": 65.59369309881015, \"fake3\": 99.82224839338494}, {\"date\": \"2018-02-03T00:00:00\", \"fake1\": -16.21092560794493, \"fake2\": 87.41260533924756, \"fake3\": -44.11176459208136}, {\"date\": \"2018-02-04T00:00:00\", \"fake1\": -7.732975242128646, \"fake2\": 92.77132445199992, \"fake3\": 82.78109149898185}, {\"date\": \"2018-02-05T00:00:00\", \"fake1\": 22.026965410877636, \"fake2\": 64.75932391083231, \"fake3\": -49.16378479139004}, {\"date\": \"2018-02-06T00:00:00\", \"fake1\": 86.48643107613321, \"fake2\": -21.082892078538407, \"fake3\": 17.817213186852015}, {\"date\": \"2018-02-07T00:00:00\", \"fake1\": -2.614402981510821, \"fake2\": 22.818489819757048, \"fake3\": 40.20776632470468}, {\"date\": \"2018-02-08T00:00:00\", \"fake1\": -39.52918423867905, \"fake2\": 25.530173766461346, \"fake3\": 67.35322167864479}, {\"date\": \"2018-02-09T00:00:00\", \"fake1\": 82.32416014766038, \"fake2\": 45.90928277628706, \"fake3\": 55.110821312908264}, {\"date\": \"2018-02-10T00:00:00\", \"fake1\": 70.94125518066552, \"fake2\": -19.978192366031706, \"fake3\": 17.259258909520852}, {\"date\": \"2018-02-11T00:00:00\", \"fake1\": -38.74713590714876, \"fake2\": -37.204944260362424, \"fake3\": -15.325603070984272}, {\"date\": \"2018-02-12T00:00:00\", \"fake1\": 79.52559023064717, \"fake2\": 63.28479868788695, \"fake3\": 50.33474022538945}, {\"date\": \"2018-02-13T00:00:00\", \"fake1\": -33.47677614472005, \"fake2\": -14.590773848131349, \"fake3\": 90.07520918932228}, {\"date\": \"2018-02-14T00:00:00\", \"fake1\": 62.45356556670161, \"fake2\": -35.44302058946502, \"fake3\": 21.564183960304135}, {\"date\": \"2018-02-15T00:00:00\", \"fake1\": -36.8469976654751, \"fake2\": 8.64799560723678, \"fake3\": 68.15643523186371}, {\"date\": \"2018-02-16T00:00:00\", \"fake1\": 91.36691176438106, \"fake2\": -44.452736866952364, \"fake3\": 80.5225718120083}, {\"date\": \"2018-02-17T00:00:00\", \"fake1\": -8.438337376253216, \"fake2\": -49.539443283059086, \"fake3\": 34.684499159241184}, {\"date\": \"2018-02-18T00:00:00\", \"fake1\": 15.878588694872974, \"fake2\": -8.007380331106674, \"fake3\": -47.73391220110355}, {\"date\": \"2018-02-19T00:00:00\", \"fake1\": -44.76010059734193, \"fake2\": 90.8957019491551, \"fake3\": 72.29958291302276}, {\"date\": \"2018-02-20T00:00:00\", \"fake1\": 70.19461384586357, \"fake2\": 94.58371541979805, \"fake3\": -25.546815871087574}, {\"date\": \"2018-02-21T00:00:00\", \"fake1\": 78.32036229466598, \"fake2\": -20.39685427397464, \"fake3\": -30.453731032260464}, {\"date\": \"2018-02-22T00:00:00\", \"fake1\": 96.81661564279526, \"fake2\": 1.344209700128772, \"fake3\": 2.619695580151017}, {\"date\": \"2018-02-23T00:00:00\", \"fake1\": 27.245559353811686, \"fake2\": 33.380123312982036, \"fake3\": -30.481386360837405}, {\"date\": \"2018-02-24T00:00:00\", \"fake1\": 36.819854917173195, \"fake2\": -22.28445258073512, \"fake3\": -3.0556308236432415}, {\"date\": \"2018-02-25T00:00:00\", \"fake1\": 80.34213904539357, \"fake2\": 31.008144348780377, \"fake3\": -10.346379498392835}, {\"date\": \"2018-02-26T00:00:00\", \"fake1\": 68.29890333635413, \"fake2\": -29.65919608702046, \"fake3\": -31.252584157729927}, {\"date\": \"2018-02-27T00:00:00\", \"fake1\": -20.519653185926828, \"fake2\": 52.92016211636793, \"fake3\": -37.7391233232853}, {\"date\": \"2018-02-28T00:00:00\", \"fake1\": 77.42516692678234, \"fake2\": 66.15027421257864, \"fake3\": 44.98131496399637}, {\"date\": \"2018-03-01T00:00:00\", \"fake1\": 37.95081035646938, \"fake2\": 49.972954429290496, \"fake3\": 92.80042674391632}, {\"date\": \"2018-03-02T00:00:00\", \"fake1\": 17.207989364232247, \"fake2\": -41.22757359063655, \"fake3\": 13.350279146723636}, {\"date\": \"2018-03-03T00:00:00\", \"fake1\": 73.34521463394447, \"fake2\": 24.276479982769402, \"fake3\": 35.10684826627622}, {\"date\": \"2018-03-04T00:00:00\", \"fake1\": -8.496192647182284, \"fake2\": 75.71044517339381, \"fake3\": 15.867955907550098}, {\"date\": \"2018-03-05T00:00:00\", \"fake1\": 16.40848950737322, \"fake2\": -25.940432538145416, \"fake3\": 68.04331863543273}, {\"date\": \"2018-03-06T00:00:00\", \"fake1\": 89.04376456980705, \"fake2\": 33.01341186439592, \"fake3\": 10.859290641293356}, {\"date\": \"2018-03-07T00:00:00\", \"fake1\": 86.73990058816804, \"fake2\": 93.50192142214705, \"fake3\": -25.63927344391071}, {\"date\": \"2018-03-08T00:00:00\", \"fake1\": -9.173423585090092, \"fake2\": 21.360204815459554, \"fake3\": 31.563312231333455}, {\"date\": \"2018-03-09T00:00:00\", \"fake1\": -28.12070730149958, \"fake2\": 88.22627666255356, \"fake3\": 78.44032721924982}, {\"date\": \"2018-03-10T00:00:00\", \"fake1\": 16.758157308066558, \"fake2\": -0.7469970527416336, \"fake3\": -25.296233652924556}, {\"date\": \"2018-03-11T00:00:00\", \"fake1\": 81.75793524652478, \"fake2\": 88.44974901137671, \"fake3\": 10.214867143180015}, {\"date\": \"2018-03-12T00:00:00\", \"fake1\": 25.019457331857794, \"fake2\": 77.2756751687255, \"fake3\": 95.64678856807173}, {\"date\": \"2018-03-13T00:00:00\", \"fake1\": 52.111588984318466, \"fake2\": -46.79694195520341, \"fake3\": -8.850641810510595}, {\"date\": \"2018-03-14T00:00:00\", \"fake1\": 46.999815651037615, \"fake2\": 74.52338889321007, \"fake3\": -31.627241463995944}, {\"date\": \"2018-03-15T00:00:00\", \"fake1\": -38.6680128038534, \"fake2\": 48.59617326642029, \"fake3\": 91.23997065222272}, {\"date\": \"2018-03-16T00:00:00\", \"fake1\": 52.60098893216866, \"fake2\": 89.35469026058084, \"fake3\": -35.62398437082899}, {\"date\": \"2018-03-17T00:00:00\", \"fake1\": 12.928084417121312, \"fake2\": 38.80941942047286, \"fake3\": 42.587828442910016}, {\"date\": \"2018-03-18T00:00:00\", \"fake1\": -38.62189993905264, \"fake2\": -46.46290104801284, \"fake3\": -25.372688263432025}, {\"date\": \"2018-03-19T00:00:00\", \"fake1\": 44.2020010195388, \"fake2\": -15.177972275556172, \"fake3\": 83.47753163472008}, {\"date\": \"2018-03-20T00:00:00\", \"fake1\": -18.72449555905831, \"fake2\": -20.979740243575563, \"fake3\": -3.8782115061101337}, {\"date\": \"2018-03-21T00:00:00\", \"fake1\": 36.525495671959774, \"fake2\": 15.612138450400224, \"fake3\": 38.664136216351054}, {\"date\": \"2018-03-22T00:00:00\", \"fake1\": 43.729140496787764, \"fake2\": 90.45434921972628, \"fake3\": 71.10525263249868}, {\"date\": \"2018-03-23T00:00:00\", \"fake1\": 16.20088761141713, \"fake2\": -24.32796343111538, \"fake3\": 98.81673848782681}, {\"date\": \"2018-03-24T00:00:00\", \"fake1\": 77.41295092596835, \"fake2\": 39.26881130318075, \"fake3\": 60.074727228357276}, {\"date\": \"2018-03-25T00:00:00\", \"fake1\": -11.646874613083881, \"fake2\": 35.33215895177938, \"fake3\": 44.80108187389341}, {\"date\": \"2018-03-26T00:00:00\", \"fake1\": 55.20060615238058, \"fake2\": -24.38391401474098, \"fake3\": 73.7556909774093}, {\"date\": \"2018-03-27T00:00:00\", \"fake1\": 80.8457756724351, \"fake2\": 56.04993337046814, \"fake3\": 61.92407336444932}, {\"date\": \"2018-03-28T00:00:00\", \"fake1\": 65.4951267725032, \"fake2\": -44.332225032965056, \"fake3\": 69.90816052464811}, {\"date\": \"2018-03-29T00:00:00\", \"fake1\": -44.70782123517574, \"fake2\": 27.394214173527487, \"fake3\": -40.979740257841854}, {\"date\": \"2018-03-30T00:00:00\", \"fake1\": 43.34034598064746, \"fake2\": -21.138192785496912, \"fake3\": 34.29436327356022}, {\"date\": \"2018-03-31T00:00:00\", \"fake1\": 28.417884322731965, \"fake2\": 88.20152396474312, \"fake3\": -46.17398473257117}, {\"date\": \"2018-04-01T00:00:00\", \"fake1\": 7.939289047020836, \"fake2\": 75.38921904593116, \"fake3\": 67.15449284590628}, {\"date\": \"2018-04-02T00:00:00\", \"fake1\": 55.18139314442015, \"fake2\": 39.41763056053082, \"fake3\": 41.73398727572112}, {\"date\": \"2018-04-03T00:00:00\", \"fake1\": 1.7982813291121005, \"fake2\": -32.645642494658745, \"fake3\": 92.95134622837598}, {\"date\": \"2018-04-04T00:00:00\", \"fake1\": 51.43483152497494, \"fake2\": 32.42797673793639, \"fake3\": 58.99894730933918}, {\"date\": \"2018-04-05T00:00:00\", \"fake1\": -22.655839847757363, \"fake2\": 61.23059181791743, \"fake3\": -42.355959648162525}, {\"date\": \"2018-04-06T00:00:00\", \"fake1\": -23.538869474061315, \"fake2\": 62.07818102146697, \"fake3\": -22.695346547572413}, {\"date\": \"2018-04-07T00:00:00\", \"fake1\": 54.30781090953952, \"fake2\": 83.7174585550532, \"fake3\": 34.995276672969595}, {\"date\": \"2018-04-08T00:00:00\", \"fake1\": 5.031441489923267, \"fake2\": 12.949576629036628, \"fake3\": 52.37235712458395}, {\"date\": \"2018-04-09T00:00:00\", \"fake1\": -16.3908345050895, \"fake2\": 13.577234840676198, \"fake3\": 51.666672952009336}, {\"date\": \"2018-04-10T00:00:00\", \"fake1\": 14.416639733948728, \"fake2\": -26.506797247693058, \"fake3\": 92.07892555762368}]}}, {\"mode\": \"vega-lite\"});\n",
       "</script>"
      ],
      "text/plain": [
       "alt.Chart(...)"
      ]
     },
     "execution_count": 104,
     "metadata": {},
     "output_type": "execute_result"
    }
   ],
   "source": [
    "user_drawdown = drawdown_chart(returns, 'date', 'fake1')\n",
    "user_drawdown"
   ]
  },
  {
   "cell_type": "code",
   "execution_count": 105,
   "metadata": {},
   "outputs": [],
   "source": [
    "def tracking_error(df, tickers, market):\n",
    "    track_error = np.sqrt(sum([i**2 for i in df[tickers] - df[market]]))\n",
    "    return track_error"
   ]
  },
  {
   "cell_type": "code",
   "execution_count": 106,
   "metadata": {},
   "outputs": [
    {
     "data": {
      "text/plain": [
       "601.0947008619255"
      ]
     },
     "execution_count": 106,
     "metadata": {},
     "output_type": "execute_result"
    }
   ],
   "source": [
    "user_tracking_error = tracking_error(portfolio_df, 'fake2', 'fake3')\n",
    "user_tracking_error"
   ]
  },
  {
   "cell_type": "markdown",
   "metadata": {},
   "source": [
    "### Beta"
   ]
  },
  {
   "cell_type": "code",
   "execution_count": 107,
   "metadata": {},
   "outputs": [],
   "source": [
    "def beta(covariance, variance):\n",
    "    chart_beta = covariance / variance\n",
    "    chart_beta = chart_beta\n",
    "    return chart_beta"
   ]
  },
  {
   "cell_type": "code",
   "execution_count": 108,
   "metadata": {},
   "outputs": [
    {
     "data": {
      "text/plain": [
       "0.12018774675341783"
      ]
     },
     "execution_count": 108,
     "metadata": {},
     "output_type": "execute_result"
    }
   ],
   "source": [
    "user_beta = beta(user_covariance, user_variance)\n",
    "user_beta"
   ]
  },
  {
   "cell_type": "markdown",
   "metadata": {},
   "source": [
    "### Sharpe Ratio"
   ]
  },
  {
   "cell_type": "code",
   "execution_count": 109,
   "metadata": {},
   "outputs": [],
   "source": [
    "def sharpe_ratio(df):\n",
    "    sharpe = (df.mean()*252) / (df.std() * np.sqrt(252))\n",
    "    return sharpe"
   ]
  },
  {
   "cell_type": "code",
   "execution_count": 110,
   "metadata": {},
   "outputs": [
    {
     "data": {
      "text/plain": [
       "fake1    8.94\n",
       "fake2    8.53\n",
       "fake3   10.48\n",
       "dtype: float64"
      ]
     },
     "execution_count": 110,
     "metadata": {},
     "output_type": "execute_result"
    }
   ],
   "source": [
    "user_sharpe_ratio = sharpe_ratio(portfolio_df)\n",
    "user_sharpe_ratio"
   ]
  },
  {
   "cell_type": "markdown",
   "metadata": {},
   "source": [
    "### Return on Investment Function"
   ]
  },
  {
   "cell_type": "code",
   "execution_count": 111,
   "metadata": {},
   "outputs": [],
   "source": [
    "def return_on_investment(investment, returns):\n",
    "    cumulative_profit = investment * returns\n",
    "    return_oi = (cumulative_profit - investment) / investment\n",
    "    return(return_oi)"
   ]
  },
  {
   "cell_type": "markdown",
   "metadata": {},
   "source": [
    "### ROI "
   ]
  },
  {
   "cell_type": "code",
   "execution_count": 177,
   "metadata": {},
   "outputs": [
    {
     "data": {
      "text/html": [
       "<div>\n",
       "<style scoped>\n",
       "    .dataframe tbody tr th:only-of-type {\n",
       "        vertical-align: middle;\n",
       "    }\n",
       "\n",
       "    .dataframe tbody tr th {\n",
       "        vertical-align: top;\n",
       "    }\n",
       "\n",
       "    .dataframe thead th {\n",
       "        text-align: right;\n",
       "    }\n",
       "</style>\n",
       "<table border=\"1\" class=\"dataframe\">\n",
       "  <thead>\n",
       "    <tr style=\"text-align: right;\">\n",
       "      <th></th>\n",
       "      <th>fake1</th>\n",
       "      <th>fake2</th>\n",
       "      <th>fake3</th>\n",
       "    </tr>\n",
       "  </thead>\n",
       "  <tbody>\n",
       "    <tr>\n",
       "      <th>0</th>\n",
       "      <td>86.53</td>\n",
       "      <td>95.80</td>\n",
       "      <td>15.02</td>\n",
       "    </tr>\n",
       "    <tr>\n",
       "      <th>1</th>\n",
       "      <td>-185.63</td>\n",
       "      <td>1064.13</td>\n",
       "      <td>1357.50</td>\n",
       "    </tr>\n",
       "    <tr>\n",
       "      <th>2</th>\n",
       "      <td>-11397.58</td>\n",
       "      <td>40533.63</td>\n",
       "      <td>96376.17</td>\n",
       "    </tr>\n",
       "    <tr>\n",
       "      <th>3</th>\n",
       "      <td>-523719.88</td>\n",
       "      <td>2293939.55</td>\n",
       "      <td>6836384.65</td>\n",
       "    </tr>\n",
       "    <tr>\n",
       "      <th>4</th>\n",
       "      <td>9798960.03</td>\n",
       "      <td>-44156606.71</td>\n",
       "      <td>-168738254.87</td>\n",
       "    </tr>\n",
       "    <tr>\n",
       "      <th>...</th>\n",
       "      <td>...</td>\n",
       "      <td>...</td>\n",
       "      <td>...</td>\n",
       "    </tr>\n",
       "    <tr>\n",
       "      <th>95</th>\n",
       "      <td>-9518900413871881595774291171527515748753888394...</td>\n",
       "      <td>-2390893145988428193846601880828389051302124892...</td>\n",
       "      <td>21998096745622221651373724799431190472879413242...</td>\n",
       "    </tr>\n",
       "    <tr>\n",
       "      <th>96</th>\n",
       "      <td>-5264695441571634731834094946471777647848251640...</td>\n",
       "      <td>-2025503910048354302550410560262633185997132496...</td>\n",
       "      <td>79182757863742384903799784536685070628786475045...</td>\n",
       "    </tr>\n",
       "    <tr>\n",
       "      <th>97</th>\n",
       "      <td>-3175370251810505518383460355402917585596658494...</td>\n",
       "      <td>-2825492200563282864364738249778336954391801721...</td>\n",
       "      <td>42261704308131164524368776800899535195308506587...</td>\n",
       "    </tr>\n",
       "    <tr>\n",
       "      <th>98</th>\n",
       "      <td>48871598037999867441161165352756782975710881712...</td>\n",
       "      <td>-4118786334810994629799570814747287844536504930...</td>\n",
       "      <td>22257833591908679707181965549013500914760848616...</td>\n",
       "    </tr>\n",
       "    <tr>\n",
       "      <th>99</th>\n",
       "      <td>75343582017419944639073347922358527190829380635...</td>\n",
       "      <td>10505704794859286336374063337627307935023547911...</td>\n",
       "      <td>20717352359752436040257920696720849285248355611...</td>\n",
       "    </tr>\n",
       "  </tbody>\n",
       "</table>\n",
       "<p>100 rows × 3 columns</p>\n",
       "</div>"
      ],
      "text/plain": [
       "                                                fake1  \\\n",
       "0                                               86.53   \n",
       "1                                             -185.63   \n",
       "2                                           -11397.58   \n",
       "3                                          -523719.88   \n",
       "4                                          9798960.03   \n",
       "..                                                ...   \n",
       "95 -9518900413871881595774291171527515748753888394...   \n",
       "96 -5264695441571634731834094946471777647848251640...   \n",
       "97 -3175370251810505518383460355402917585596658494...   \n",
       "98 48871598037999867441161165352756782975710881712...   \n",
       "99 75343582017419944639073347922358527190829380635...   \n",
       "\n",
       "                                                fake2  \\\n",
       "0                                               95.80   \n",
       "1                                             1064.13   \n",
       "2                                            40533.63   \n",
       "3                                          2293939.55   \n",
       "4                                        -44156606.71   \n",
       "..                                                ...   \n",
       "95 -2390893145988428193846601880828389051302124892...   \n",
       "96 -2025503910048354302550410560262633185997132496...   \n",
       "97 -2825492200563282864364738249778336954391801721...   \n",
       "98 -4118786334810994629799570814747287844536504930...   \n",
       "99 10505704794859286336374063337627307935023547911...   \n",
       "\n",
       "                                                fake3  \n",
       "0                                               15.02  \n",
       "1                                             1357.50  \n",
       "2                                            96376.17  \n",
       "3                                          6836384.65  \n",
       "4                                       -168738254.87  \n",
       "..                                                ...  \n",
       "95 21998096745622221651373724799431190472879413242...  \n",
       "96 79182757863742384903799784536685070628786475045...  \n",
       "97 42261704308131164524368776800899535195308506587...  \n",
       "98 22257833591908679707181965549013500914760848616...  \n",
       "99 20717352359752436040257920696720849285248355611...  \n",
       "\n",
       "[100 rows x 3 columns]"
      ]
     },
     "execution_count": 177,
     "metadata": {},
     "output_type": "execute_result"
    }
   ],
   "source": [
    "user_roi = return_on_investment(initial_investment, user_cr)\n",
    "user_roi"
   ]
  },
  {
   "cell_type": "markdown",
   "metadata": {},
   "source": [
    "### ROI Chart"
   ]
  },
  {
   "cell_type": "code",
   "execution_count": 186,
   "metadata": {},
   "outputs": [],
   "source": [
    "def roi_chart(df):\n",
    "    '''\n",
    "    df: var: ROI DF\n",
    "    '''\n",
    "    def roi_plot(df, initial_investment=10000, width=400):\n",
    "        '''\n",
    "        df: var: ROI DF\n",
    "        initial_investment: int\n",
    "        width: int\n",
    "        '''\n",
    "        # Melt the DataFrame to convert it into a long format\n",
    "        df_melted = df.reset_index().melt(id_vars = 'index', var_name = 'Asset', value_name = 'ROI')\n",
    "\n",
    "        # Bar chart\n",
    "        bars = alt.Chart(df_melted).mark_bar().encode(\n",
    "            x = alt.X('Asset:N', title = \"Asset\"),\n",
    "            y = alt.Y('ROI:Q', title = \"Return on Investment\"),\n",
    "            color = 'Asset:N',  # Adding color encoding for better distinction\n",
    "            tooltip = ['Asset', 'ROI']\n",
    "        ).properties(width=width)\n",
    "\n",
    "        # Initial investment line chart\n",
    "        initial_investment_df = pd.DataFrame({\n",
    "            'Asset': df.columns.tolist(),\n",
    "            'Initial Investment': [initial_investment] * len(df.columns)\n",
    "        })\n",
    "        line = alt.Chart(initial_investment_df).mark_rule(color = 'firebrick').encode(\n",
    "            y = 'Initial Investment:Q'\n",
    "        )\n",
    "\n",
    "        # Combine charts\n",
    "        return bars + line\n",
    "\n",
    "    return roi_plot(df)"
   ]
  },
  {
   "cell_type": "code",
   "execution_count": 185,
   "metadata": {},
   "outputs": [
    {
     "data": {
      "text/html": [
       "\n",
       "<style>\n",
       "  #altair-viz-400b194c085d492a8066b1f6d6552ed0.vega-embed {\n",
       "    width: 100%;\n",
       "    display: flex;\n",
       "  }\n",
       "\n",
       "  #altair-viz-400b194c085d492a8066b1f6d6552ed0.vega-embed details,\n",
       "  #altair-viz-400b194c085d492a8066b1f6d6552ed0.vega-embed details summary {\n",
       "    position: relative;\n",
       "  }\n",
       "</style>\n",
       "<div id=\"altair-viz-400b194c085d492a8066b1f6d6552ed0\"></div>\n",
       "<script type=\"text/javascript\">\n",
       "  var VEGA_DEBUG = (typeof VEGA_DEBUG == \"undefined\") ? {} : VEGA_DEBUG;\n",
       "  (function(spec, embedOpt){\n",
       "    let outputDiv = document.currentScript.previousElementSibling;\n",
       "    if (outputDiv.id !== \"altair-viz-400b194c085d492a8066b1f6d6552ed0\") {\n",
       "      outputDiv = document.getElementById(\"altair-viz-400b194c085d492a8066b1f6d6552ed0\");\n",
       "    }\n",
       "    const paths = {\n",
       "      \"vega\": \"https://cdn.jsdelivr.net/npm/vega@5?noext\",\n",
       "      \"vega-lib\": \"https://cdn.jsdelivr.net/npm/vega-lib?noext\",\n",
       "      \"vega-lite\": \"https://cdn.jsdelivr.net/npm/vega-lite@5.15.1?noext\",\n",
       "      \"vega-embed\": \"https://cdn.jsdelivr.net/npm/vega-embed@6?noext\",\n",
       "    };\n",
       "\n",
       "    function maybeLoadScript(lib, version) {\n",
       "      var key = `${lib.replace(\"-\", \"\")}_version`;\n",
       "      return (VEGA_DEBUG[key] == version) ?\n",
       "        Promise.resolve(paths[lib]) :\n",
       "        new Promise(function(resolve, reject) {\n",
       "          var s = document.createElement('script');\n",
       "          document.getElementsByTagName(\"head\")[0].appendChild(s);\n",
       "          s.async = true;\n",
       "          s.onload = () => {\n",
       "            VEGA_DEBUG[key] = version;\n",
       "            return resolve(paths[lib]);\n",
       "          };\n",
       "          s.onerror = () => reject(`Error loading script: ${paths[lib]}`);\n",
       "          s.src = paths[lib];\n",
       "        });\n",
       "    }\n",
       "\n",
       "    function showError(err) {\n",
       "      outputDiv.innerHTML = `<div class=\"error\" style=\"color:red;\">${err}</div>`;\n",
       "      throw err;\n",
       "    }\n",
       "\n",
       "    function displayChart(vegaEmbed) {\n",
       "      vegaEmbed(outputDiv, spec, embedOpt)\n",
       "        .catch(err => showError(`Javascript Error: ${err.message}<br>This usually means there's a typo in your chart specification. See the javascript console for the full traceback.`));\n",
       "    }\n",
       "\n",
       "    if(typeof define === \"function\" && define.amd) {\n",
       "      requirejs.config({paths});\n",
       "      require([\"vega-embed\"], displayChart, err => showError(`Error loading script: ${err.message}`));\n",
       "    } else {\n",
       "      maybeLoadScript(\"vega\", \"5\")\n",
       "        .then(() => maybeLoadScript(\"vega-lite\", \"5.15.1\"))\n",
       "        .then(() => maybeLoadScript(\"vega-embed\", \"6\"))\n",
       "        .catch(showError)\n",
       "        .then(() => displayChart(vegaEmbed));\n",
       "    }\n",
       "  })({\"config\": {\"view\": {\"continuousWidth\": 300, \"continuousHeight\": 300}}, \"layer\": [{\"data\": {\"name\": \"data-80b8b905b858907893520e2d8ad5bf7f\"}, \"mark\": {\"type\": \"bar\"}, \"encoding\": {\"color\": {\"field\": \"Asset\", \"type\": \"nominal\"}, \"tooltip\": [{\"field\": \"Asset\", \"type\": \"nominal\"}, {\"field\": \"ROI\", \"type\": \"quantitative\"}], \"x\": {\"field\": \"Asset\", \"title\": \"Asset\", \"type\": \"nominal\"}, \"y\": {\"field\": \"ROI\", \"title\": \"Return on Investment\", \"type\": \"quantitative\"}}}, {\"data\": {\"name\": \"data-f70a905245c7c5466a1fee4fc97ffe32\"}, \"mark\": {\"type\": \"rule\", \"color\": \"firebrick\"}, \"encoding\": {\"y\": {\"field\": \"Initial Investment\", \"type\": \"quantitative\"}}}], \"width\": 400, \"$schema\": \"https://vega.github.io/schema/vega-lite/v5.15.1.json\", \"datasets\": {\"data-80b8b905b858907893520e2d8ad5bf7f\": [{\"index\": 0, \"Asset\": \"fake1\", \"ROI\": 86.53310634377443}, {\"index\": 1, \"Asset\": \"fake1\", \"ROI\": -185.63157204465008}, {\"index\": 2, \"Asset\": \"fake1\", \"ROI\": -11397.580720208072}, {\"index\": 3, \"Asset\": \"fake1\", \"ROI\": -523719.880481345}, {\"index\": 4, \"Asset\": \"fake1\", \"ROI\": 9798960.03468233}, {\"index\": 5, \"Asset\": \"fake1\", \"ROI\": -61380959.69039045}, {\"index\": 6, \"Asset\": \"fake1\", \"ROI\": 679096513.9650258}, {\"index\": 7, \"Asset\": \"fake1\", \"ROI\": 39129737957.569374}, {\"index\": 8, \"Asset\": \"fake1\", \"ROI\": -262505386365.4319}, {\"index\": 9, \"Asset\": \"fake1\", \"ROI\": -24491498550000.3}, {\"index\": 10, \"Asset\": \"fake1\", \"ROI\": 968309689638850.8}, {\"index\": 11, \"Asset\": \"fake1\", \"ROI\": 1.9792028395017516e+16}, {\"index\": 12, \"Asset\": \"fake1\", \"ROI\": 1.319853955129282e+18}, {\"index\": 13, \"Asset\": \"fake1\", \"ROI\": 5.0536341315383165e+19}, {\"index\": 14, \"Asset\": \"fake1\", \"ROI\": 2.3145957776242597e+21}, {\"index\": 15, \"Asset\": \"fake1\", \"ROI\": 1.7062158889333458e+23}, {\"index\": 16, \"Asset\": \"fake1\", \"ROI\": 1.5493102808938418e+25}, {\"index\": 17, \"Asset\": \"fake1\", \"ROI\": -7.173651764487483e+26}, {\"index\": 18, \"Asset\": \"fake1\", \"ROI\": -1.600547445105569e+28}, {\"index\": 19, \"Asset\": \"fake1\", \"ROI\": 4.2021274636370086e+29}, {\"index\": 20, \"Asset\": \"fake1\", \"ROI\": -5.118108234412109e+30}, {\"index\": 21, \"Asset\": \"fake1\", \"ROI\": -4.33850363737174e+32}, {\"index\": 22, \"Asset\": \"fake1\", \"ROI\": 3.5870984512992503e+33}, {\"index\": 23, \"Asset\": \"fake1\", \"ROI\": -9.353250686595953e+34}, {\"index\": 24, \"Asset\": \"fake1\", \"ROI\": 9.962962439992978e+35}, {\"index\": 25, \"Asset\": \"fake1\", \"ROI\": 1.9452735853854821e+37}, {\"index\": 26, \"Asset\": \"fake1\", \"ROI\": 8.989929904650054e+38}, {\"index\": 27, \"Asset\": \"fake1\", \"ROI\": 5.087636679843465e+40}, {\"index\": 28, \"Asset\": \"fake1\", \"ROI\": -2.4447874737623845e+42}, {\"index\": 29, \"Asset\": \"fake1\", \"ROI\": 1.1116421091857841e+44}, {\"index\": 30, \"Asset\": \"fake1\", \"ROI\": 9.72485064221097e+45}, {\"index\": 31, \"Asset\": \"fake1\", \"ROI\": 2.913721430270801e+47}, {\"index\": 32, \"Asset\": \"fake1\", \"ROI\": -1.416720612961318e+49}, {\"index\": 33, \"Asset\": \"fake1\", \"ROI\": 2.154963185099675e+50}, {\"index\": 34, \"Asset\": \"fake1\", \"ROI\": -1.4509313772974801e+51}, {\"index\": 35, \"Asset\": \"fake1\", \"ROI\": -3.3410546638586124e+52}, {\"index\": 36, \"Asset\": \"fake1\", \"ROI\": -2.9229694857125994e+54}, {\"index\": 37, \"Asset\": \"fake1\", \"ROI\": 4.718850652599572e+54}, {\"index\": 38, \"Asset\": \"fake1\", \"ROI\": -1.8181346618881978e+56}, {\"index\": 39, \"Asset\": \"fake1\", \"ROI\": -1.5149454373718455e+58}, {\"index\": 40, \"Asset\": \"fake1\", \"ROI\": -1.0898707629475287e+60}, {\"index\": 41, \"Asset\": \"fake1\", \"ROI\": 4.1139499810208276e+61}, {\"index\": 42, \"Asset\": \"fake1\", \"ROI\": 3.312782504010619e+63}, {\"index\": 43, \"Asset\": \"fake1\", \"ROI\": -1.0758849579889802e+65}, {\"index\": 44, \"Asset\": \"fake1\", \"ROI\": -6.826873672398177e+66}, {\"index\": 45, \"Asset\": \"fake1\", \"ROI\": 2.447229245969509e+68}, {\"index\": 46, \"Asset\": \"fake1\", \"ROI\": 2.260430078296784e+70}, {\"index\": 47, \"Asset\": \"fake1\", \"ROI\": -1.6813841537801951e+71}, {\"index\": 48, \"Asset\": \"fake1\", \"ROI\": -2.8379391569732965e+72}, {\"index\": 49, \"Asset\": \"fake1\", \"ROI\": 1.241885029982872e+74}, {\"index\": 50, \"Asset\": \"fake1\", \"ROI\": 8.841552515058928e+75}, {\"index\": 51, \"Asset\": \"fake1\", \"ROI\": 7.013151487417893e+77}, {\"index\": 52, \"Asset\": \"fake1\", \"ROI\": 6.860027434894539e+79}, {\"index\": 53, \"Asset\": \"fake1\", \"ROI\": 1.9376531208109025e+81}, {\"index\": 54, \"Asset\": \"fake1\", \"ROI\": 7.32817599088762e+82}, {\"index\": 55, \"Asset\": \"fake1\", \"ROI\": 5.960895103998956e+84}, {\"index\": 56, \"Asset\": \"fake1\", \"ROI\": 4.130834936101703e+86}, {\"index\": 57, \"Asset\": \"fake1\", \"ROI\": -8.063246532101543e+87}, {\"index\": 58, \"Asset\": \"fake1\", \"ROI\": -6.323614552518624e+89}, {\"index\": 59, \"Asset\": \"fake1\", \"ROI\": -2.463099112025629e+91}, {\"index\": 60, \"Asset\": \"fake1\", \"ROI\": -4.4848082434812545e+92}, {\"index\": 61, \"Asset\": \"fake1\", \"ROI\": -3.3342403145369733e+94}, {\"index\": 62, \"Asset\": \"fake1\", \"ROI\": 2.4994107729770802e+95}, {\"index\": 63, \"Asset\": \"fake1\", \"ROI\": 4.351096621598709e+96}, {\"index\": 64, \"Asset\": \"fake1\", \"ROI\": 3.9178911981571703e+98}, {\"index\": 65, \"Asset\": \"fake1\", \"ROI\": 3.4375538424156873e+100}, {\"index\": 66, \"Asset\": \"fake1\", \"ROI\": -2.8096583650617445e+101}, {\"index\": 67, \"Asset\": \"fake1\", \"ROI\": 7.619992213604942e+102}, {\"index\": 68, \"Asset\": \"fake1\", \"ROI\": 1.3531702041543885e+104}, {\"index\": 69, \"Asset\": \"fake1\", \"ROI\": 1.1198557213293561e+106}, {\"index\": 70, \"Asset\": \"fake1\", \"ROI\": 2.9138038158966014e+107}, {\"index\": 71, \"Asset\": \"fake1\", \"ROI\": 1.5475675065083904e+109}, {\"index\": 72, \"Asset\": \"fake1\", \"ROI\": 7.42829550199387e+110}, {\"index\": 73, \"Asset\": \"fake1\", \"ROI\": -2.798091300799117e+112}, {\"index\": 74, \"Asset\": \"fake1\", \"ROI\": -1.4998046084533088e+114}, {\"index\": 75, \"Asset\": \"fake1\", \"ROI\": -2.088940519572526e+115}, {\"index\": 76, \"Asset\": \"fake1\", \"ROI\": 7.85899112059902e+116}, {\"index\": 77, \"Asset\": \"fake1\", \"ROI\": 3.552421246458633e+118}, {\"index\": 78, \"Asset\": \"fake1\", \"ROI\": -6.2964874606760426e+119}, {\"index\": 79, \"Asset\": \"fake1\", \"ROI\": -2.362788129541478e+121}, {\"index\": 80, \"Asset\": \"fake1\", \"ROI\": -1.0568548221040315e+123}, {\"index\": 81, \"Asset\": \"fake1\", \"ROI\": -1.817884101659569e+124}, {\"index\": 82, \"Asset\": \"fake1\", \"ROI\": -1.4254565685252983e+126}, {\"index\": 83, \"Asset\": \"fake1\", \"ROI\": 1.5176657351485662e+127}, {\"index\": 84, \"Asset\": \"fake1\", \"ROI\": 8.529373425204771e+128}, {\"index\": 85, \"Asset\": \"fake1\", \"ROI\": 6.980931839857391e+130}, {\"index\": 86, \"Asset\": \"fake1\", \"ROI\": 4.641979476815212e+132}, {\"index\": 87, \"Asset\": \"fake1\", \"ROI\": -2.028908091499939e+134}, {\"index\": 88, \"Asset\": \"fake1\", \"ROI\": -8.996248674004244e+135}, {\"index\": 89, \"Asset\": \"fake1\", \"ROI\": -2.646506028303877e+137}, {\"index\": 90, \"Asset\": \"fake1\", \"ROI\": -2.3657882351691458e+138}, {\"index\": 91, \"Asset\": \"fake1\", \"ROI\": -1.329132789364817e+140}, {\"index\": 92, \"Asset\": \"fake1\", \"ROI\": -3.7192874683902536e+140}, {\"index\": 93, \"Asset\": \"fake1\", \"ROI\": -1.950202117979935e+142}, {\"index\": 94, \"Asset\": \"fake1\", \"ROI\": 4.223326473773068e+143}, {\"index\": 95, \"Asset\": \"fake1\", \"ROI\": -9.518900413871882e+144}, {\"index\": 96, \"Asset\": \"fake1\", \"ROI\": -5.264695441571635e+146}, {\"index\": 97, \"Asset\": \"fake1\", \"ROI\": -3.1753702518105055e+147}, {\"index\": 98, \"Asset\": \"fake1\", \"ROI\": 4.887159803799987e+148}, {\"index\": 99, \"Asset\": \"fake1\", \"ROI\": 7.5343582017419945e+149}, {\"index\": 0, \"Asset\": \"fake2\", \"ROI\": 95.80100354275147}, {\"index\": 1, \"Asset\": \"fake2\", \"ROI\": 1064.129914144849}, {\"index\": 2, \"Asset\": \"fake2\", \"ROI\": 40533.62780484485}, {\"index\": 3, \"Asset\": \"fake2\", \"ROI\": 2293939.5452710935}, {\"index\": 4, \"Asset\": \"fake2\", \"ROI\": -44156606.70889605}, {\"index\": 5, \"Asset\": \"fake2\", \"ROI\": 397535886.45111704}, {\"index\": 6, \"Asset\": \"fake2\", \"ROI\": 8746021590.514587}, {\"index\": 7, \"Asset\": \"fake2\", \"ROI\": 111442019791.22603}, {\"index\": 8, \"Asset\": \"fake2\", \"ROI\": 7724620623419.374}, {\"index\": 9, \"Asset\": \"fake2\", \"ROI\": 222945223259568.06}, {\"index\": 10, \"Asset\": \"fake2\", \"ROI\": 1.1099098340122818e+16}, {\"index\": 11, \"Asset\": \"fake2\", \"ROI\": -4.340434319459774e+17}, {\"index\": 12, \"Asset\": \"fake2\", \"ROI\": -6.050200071079215e+18}, {\"index\": 13, \"Asset\": \"fake2\", \"ROI\": 1.90097285624527e+20}, {\"index\": 14, \"Asset\": \"fake2\", \"ROI\": 1.398292668376759e+22}, {\"index\": 15, \"Asset\": \"fake2\", \"ROI\": 1.336208707954974e+24}, {\"index\": 16, \"Asset\": \"fake2\", \"ROI\": 9.563565057025864e+25}, {\"index\": 17, \"Asset\": \"fake2\", \"ROI\": -3.9284617814091475e+27}, {\"index\": 18, \"Asset\": \"fake2\", \"ROI\": -3.174628950281958e+28}, {\"index\": 19, \"Asset\": \"fake2\", \"ROI\": -2.1250748134240602e+30}, {\"index\": 20, \"Asset\": \"fake2\", \"ROI\": -7.119786773959849e+31}, {\"index\": 21, \"Asset\": \"fake2\", \"ROI\": 3.468809334241185e+33}, {\"index\": 22, \"Asset\": \"fake2\", \"ROI\": 2.5420403554367793e+35}, {\"index\": 23, \"Asset\": \"fake2\", \"ROI\": -1.0747361994459821e+36}, {\"index\": 24, \"Asset\": \"fake2\", \"ROI\": -1.0723883810849128e+38}, {\"index\": 25, \"Asset\": \"fake2\", \"ROI\": 3.3486821123494395e+39}, {\"index\": 26, \"Asset\": \"fake2\", \"ROI\": 2.4021947143807346e+41}, {\"index\": 27, \"Asset\": \"fake2\", \"ROI\": -1.1006470675416585e+43}, {\"index\": 28, \"Asset\": \"fake2\", \"ROI\": 2.0899397636500322e+44}, {\"index\": 29, \"Asset\": \"fake2\", \"ROI\": -2.57494269182255e+44}, {\"index\": 30, \"Asset\": \"fake2\", \"ROI\": -3.279908220831575e+45}, {\"index\": 31, \"Asset\": \"fake2\", \"ROI\": -2.202868549627821e+47}, {\"index\": 32, \"Asset\": \"fake2\", \"ROI\": -1.4669715213093613e+49}, {\"index\": 33, \"Asset\": \"fake2\", \"ROI\": -1.2969877415744016e+51}, {\"index\": 34, \"Asset\": \"fake2\", \"ROI\": -1.2162025832543983e+53}, {\"index\": 35, \"Asset\": \"fake2\", \"ROI\": -7.997665961341697e+54}, {\"index\": 36, \"Asset\": \"fake2\", \"ROI\": 1.6061626238182541e+56}, {\"index\": 37, \"Asset\": \"fake2\", \"ROI\": 3.8256368104289355e+57}, {\"index\": 38, \"Asset\": \"fake2\", \"ROI\": 1.014948093480506e+59}, {\"index\": 39, \"Asset\": \"fake2\", \"ROI\": 4.761048712033049e+60}, {\"index\": 40, \"Asset\": \"fake2\", \"ROI\": -9.03560983210107e+61}, {\"index\": 41, \"Asset\": \"fake2\", \"ROI\": 3.2713375032960192e+63}, {\"index\": 42, \"Asset\": \"fake2\", \"ROI\": 2.1029727283951928e+65}, {\"index\": 43, \"Asset\": \"fake2\", \"ROI\": -2.8581026760406816e+66}, {\"index\": 44, \"Asset\": \"fake2\", \"ROI\": 9.844168931767429e+67}, {\"index\": 45, \"Asset\": \"fake2\", \"ROI\": 9.497649861058893e+68}, {\"index\": 46, \"Asset\": \"fake2\", \"ROI\": -4.126988802670388e+70}, {\"index\": 47, \"Asset\": \"fake2\", \"ROI\": 2.0032173891703924e+72}, {\"index\": 48, \"Asset\": \"fake2\", \"ROI\": -1.4037306131803471e+73}, {\"index\": 49, \"Asset\": \"fake2\", \"ROI\": -1.289968100457259e+75}, {\"index\": 50, \"Asset\": \"fake2\", \"ROI\": -1.232999438147241e+77}, {\"index\": 51, \"Asset\": \"fake2\", \"ROI\": 2.3916310421634643e+78}, {\"index\": 52, \"Asset\": \"fake2\", \"ROI\": 5.606484688168677e+78}, {\"index\": 53, \"Asset\": \"fake2\", \"ROI\": 1.9275163493158476e+80}, {\"index\": 54, \"Asset\": \"fake2\", \"ROI\": -4.102613033560483e+81}, {\"index\": 55, \"Asset\": \"fake2\", \"ROI\": -1.313170301853917e+83}, {\"index\": 56, \"Asset\": \"fake2\", \"ROI\": 3.763440517648326e+84}, {\"index\": 57, \"Asset\": \"fake2\", \"ROI\": 2.029253228269054e+86}, {\"index\": 58, \"Asset\": \"fake2\", \"ROI\": 1.3626491072502742e+88}, {\"index\": 59, \"Asset\": \"fake2\", \"ROI\": 6.94582508469816e+89}, {\"index\": 60, \"Asset\": \"fake2\", \"ROI\": -2.7941368974238458e+91}, {\"index\": 61, \"Asset\": \"fake2\", \"ROI\": -7.062594535685124e+92}, {\"index\": 62, \"Asset\": \"fake2\", \"ROI\": -5.417747709115844e+94}, {\"index\": 63, \"Asset\": \"fake2\", \"ROI\": 1.3512097124789558e+96}, {\"index\": 64, \"Asset\": \"fake2\", \"ROI\": 4.595925246571872e+97}, {\"index\": 65, \"Asset\": \"fake2\", \"ROI\": 4.3432376651359683e+99}, {\"index\": 66, \"Asset\": \"fake2\", \"ROI\": 9.711568375465858e+100}, {\"index\": 67, \"Asset\": \"fake2\", \"ROI\": 8.665270866966225e+102}, {\"index\": 68, \"Asset\": \"fake2\", \"ROI\": 2.1923390681345145e+102}, {\"index\": 69, \"Asset\": \"fake2\", \"ROI\": 1.9610417939246782e+104}, {\"index\": 70, \"Asset\": \"fake2\", \"ROI\": 1.5350187045354281e+106}, {\"index\": 71, \"Asset\": \"fake2\", \"ROI\": -7.029916251176055e+107}, {\"index\": 72, \"Asset\": \"fake2\", \"ROI\": -5.3092309892426665e+109}, {\"index\": 73, \"Asset\": \"fake2\", \"ROI\": -2.633175400539273e+111}, {\"index\": 74, \"Asset\": \"fake2\", \"ROI\": -2.379197477175069e+113}, {\"index\": 75, \"Asset\": \"fake2\", \"ROI\": -9.471447025299321e+114}, {\"index\": 76, \"Asset\": \"fake2\", \"ROI\": 4.305994588926786e+116}, {\"index\": 77, \"Asset\": \"fake2\", \"ROI\": -6.105027190049887e+117}, {\"index\": 78, \"Asset\": \"fake2\", \"ROI\": 1.2197685743716277e+119}, {\"index\": 79, \"Asset\": \"fake2\", \"ROI\": 2.026296443490878e+120}, {\"index\": 80, \"Asset\": \"fake2\", \"ROI\": 1.8531362256570413e+122}, {\"index\": 81, \"Asset\": \"fake2\", \"ROI\": -4.3229894105002637e+123}, {\"index\": 82, \"Asset\": \"fake2\", \"ROI\": -1.740816448370837e+125}, {\"index\": 83, \"Asset\": \"fake2\", \"ROI\": -6.324761990808129e+126}, {\"index\": 84, \"Asset\": \"fake2\", \"ROI\": 1.4789769055675926e+128}, {\"index\": 85, \"Asset\": \"fake2\", \"ROI\": 8.437553391909232e+129}, {\"index\": 86, \"Asset\": \"fake2\", \"ROI\": -3.656179623058684e+131}, {\"index\": 87, \"Asset\": \"fake2\", \"ROI\": -1.0381434727401527e+133}, {\"index\": 88, \"Asset\": \"fake2\", \"ROI\": 2.090633339304645e+134}, {\"index\": 89, \"Asset\": \"fake2\", \"ROI\": 1.8648767991747423e+136}, {\"index\": 90, \"Asset\": \"fake2\", \"ROI\": 1.4245648230583434e+138}, {\"index\": 91, \"Asset\": \"fake2\", \"ROI\": 5.757753472790008e+139}, {\"index\": 92, \"Asset\": \"fake2\", \"ROI\": -1.8220780797229243e+141}, {\"index\": 93, \"Asset\": \"fake2\", \"ROI\": -6.090838366368172e+142}, {\"index\": 94, \"Asset\": \"fake2\", \"ROI\": -3.790364762063687e+144}, {\"index\": 95, \"Asset\": \"fake2\", \"ROI\": -2.390893145988428e+146}, {\"index\": 96, \"Asset\": \"fake2\", \"ROI\": -2.0255039100483543e+148}, {\"index\": 97, \"Asset\": \"fake2\", \"ROI\": -2.825492200563283e+149}, {\"index\": 98, \"Asset\": \"fake2\", \"ROI\": -4.1187863348109946e+150}, {\"index\": 99, \"Asset\": \"fake2\", \"ROI\": 1.0505704794859286e+152}, {\"index\": 0, \"Asset\": \"fake3\", \"ROI\": 15.020996981568471}, {\"index\": 1, \"Asset\": \"fake3\", \"ROI\": 1357.496430375955}, {\"index\": 2, \"Asset\": \"fake3\", \"ROI\": 96376.16553246799}, {\"index\": 3, \"Asset\": \"fake3\", \"ROI\": 6836384.650829537}, {\"index\": 4, \"Asset\": \"fake3\", \"ROI\": -168738254.86735216}, {\"index\": 5, \"Asset\": \"fake3\", \"ROI\": -3271313387.0745835}, {\"index\": 6, \"Asset\": \"fake3\", \"ROI\": 153089040827.0765}, {\"index\": 7, \"Asset\": \"fake3\", \"ROI\": 2391926189053.1035}, {\"index\": 8, \"Asset\": \"fake3\", \"ROI\": 102095640912538.58}, {\"index\": 9, \"Asset\": \"fake3\", \"ROI\": 8695036543252432.0}, {\"index\": 10, \"Asset\": \"fake3\", \"ROI\": -1.2058576514727771e+17}, {\"index\": 11, \"Asset\": \"fake3\", \"ROI\": 4.198999352939153e+18}, {\"index\": 12, \"Asset\": \"fake3\", \"ROI\": 2.0425059494089556e+20}, {\"index\": 13, \"Asset\": \"fake3\", \"ROI\": -4.361684727513822e+21}, {\"index\": 14, \"Asset\": \"fake3\", \"ROI\": -4.112944289164847e+23}, {\"index\": 15, \"Asset\": \"fake3\", \"ROI\": -2.0483871260658674e+25}, {\"index\": 16, \"Asset\": \"fake3\", \"ROI\": -8.181489145461432e+26}, {\"index\": 17, \"Asset\": \"fake3\", \"ROI\": 3.8954960122340956e+28}, {\"index\": 18, \"Asset\": \"fake3\", \"ROI\": 2.9567288211005007e+30}, {\"index\": 19, \"Asset\": \"fake3\", \"ROI\": 1.1086531960875427e+32}, {\"index\": 20, \"Asset\": \"fake3\", \"ROI\": 4.655563893982639e+33}, {\"index\": 21, \"Asset\": \"fake3\", \"ROI\": 1.099986563093115e+35}, {\"index\": 22, \"Asset\": \"fake3\", \"ROI\": 8.295698135744445e+36}, {\"index\": 23, \"Asset\": \"fake3\", \"ROI\": 3.3687858667951038e+38}, {\"index\": 24, \"Asset\": \"fake3\", \"ROI\": 2.9704632810586605e+40}, {\"index\": 25, \"Asset\": \"fake3\", \"ROI\": 5.438836247976526e+41}, {\"index\": 26, \"Asset\": \"fake3\", \"ROI\": 5.08749397723366e+43}, {\"index\": 27, \"Asset\": \"fake3\", \"ROI\": 2.4041033495246907e+44}, {\"index\": 28, \"Asset\": \"fake3\", \"ROI\": 8.85828007964218e+45}, {\"index\": 29, \"Asset\": \"fake3\", \"ROI\": 4.681214780694932e+46}, {\"index\": 30, \"Asset\": \"fake3\", \"ROI\": 7.104569218264724e+46}, {\"index\": 31, \"Asset\": \"fake3\", \"ROI\": 5.237035363197524e+48}, {\"index\": 32, \"Asset\": \"fake3\", \"ROI\": 5.2800968023324165e+50}, {\"index\": 33, \"Asset\": \"fake3\", \"ROI\": -2.276342903655567e+52}, {\"index\": 34, \"Asset\": \"fake3\", \"ROI\": -1.9071449309422506e+54}, {\"index\": 35, \"Asset\": \"fake3\", \"ROI\": 9.185531801989297e+55}, {\"index\": 36, \"Asset\": \"fake3\", \"ROI\": 1.728461101526416e+57}, {\"index\": 37, \"Asset\": \"fake3\", \"ROI\": 7.12260211730422e+58}, {\"index\": 38, \"Asset\": \"fake3\", \"ROI\": 4.8685280145288006e+60}, {\"index\": 39, \"Asset\": \"fake3\", \"ROI\": 2.731771054801136e+62}, {\"index\": 40, \"Asset\": \"fake3\", \"ROI\": 4.988011497114882e+63}, {\"index\": 41, \"Asset\": \"fake3\", \"ROI\": -7.145627282117381e+64}, {\"index\": 42, \"Asset\": \"fake3\", \"ROI\": -3.668189202749514e+66}, {\"index\": 43, \"Asset\": \"fake3\", \"ROI\": -3.340810989864253e+68}, {\"index\": 44, \"Asset\": \"fake3\", \"ROI\": -7.538267375190276e+69}, {\"index\": 45, \"Asset\": \"fake3\", \"ROI\": -5.213196994928176e+71}, {\"index\": 46, \"Asset\": \"fake3\", \"ROI\": -4.2499322638917804e+73}, {\"index\": 47, \"Asset\": \"fake3\", \"ROI\": -1.5165670429767821e+75}, {\"index\": 48, \"Asset\": \"fake3\", \"ROI\": 7.087511103356418e+76}, {\"index\": 49, \"Asset\": \"fake3\", \"ROI\": 5.195116077674432e+78}, {\"index\": 50, \"Asset\": \"fake3\", \"ROI\": -1.2752355778760096e+80}, {\"index\": 51, \"Asset\": \"fake3\", \"ROI\": 3.756044571352923e+81}, {\"index\": 52, \"Asset\": \"fake3\", \"ROI\": 1.3595737933776396e+82}, {\"index\": 53, \"Asset\": \"fake3\", \"ROI\": -4.008212028863552e+83}, {\"index\": 54, \"Asset\": \"fake3\", \"ROI\": 8.239404194229532e+83}, {\"index\": 55, \"Asset\": \"fake3\", \"ROI\": -7.7008598439918835e+84}, {\"index\": 56, \"Asset\": \"fake3\", \"ROI\": 2.3297091051724741e+86}, {\"index\": 57, \"Asset\": \"fake3\", \"ROI\": -8.559147012231216e+87}, {\"index\": 58, \"Asset\": \"fake3\", \"ROI\": -3.9356083459255204e+89}, {\"index\": 59, \"Asset\": \"fake3\", \"ROI\": -3.6916174234473244e+91}, {\"index\": 60, \"Asset\": \"fake3\", \"ROI\": -5.297574052937778e+92}, {\"index\": 61, \"Asset\": \"fake3\", \"ROI\": -1.9127870250878627e+94}, {\"index\": 62, \"Asset\": \"fake3\", \"ROI\": -3.226480719971599e+95}, {\"index\": 63, \"Asset\": \"fake3\", \"ROI\": -2.2276693642007953e+97}, {\"index\": 64, \"Asset\": \"fake3\", \"ROI\": -2.6418578442762414e+98}, {\"index\": 65, \"Asset\": \"fake3\", \"ROI\": 6.50934578250628e+99}, {\"index\": 66, \"Asset\": \"fake3\", \"ROI\": 2.1196585913746556e+101}, {\"index\": 67, \"Asset\": \"fake3\", \"ROI\": 1.683863720918968e+103}, {\"index\": 68, \"Asset\": \"fake3\", \"ROI\": -4.0911546403130196e+104}, {\"index\": 69, \"Asset\": \"fake3\", \"ROI\": -4.588175575331494e+105}, {\"index\": 70, \"Asset\": \"fake3\", \"ROI\": -4.434324347422538e+107}, {\"index\": 71, \"Asset\": \"fake3\", \"ROI\": 3.4812292123240487e+108}, {\"index\": 72, \"Asset\": \"fake3\", \"ROI\": -1.0662044767736504e+110}, {\"index\": 73, \"Asset\": \"fake3\", \"ROI\": -9.834666964687e+111}, {\"index\": 74, \"Asset\": \"fake3\", \"ROI\": 3.405153552776309e+113}, {\"index\": 75, \"Asset\": \"fake3\", \"ROI\": 1.484232488801793e+115}, {\"index\": 76, \"Asset\": \"fake3\", \"ROI\": -3.6174735760023964e+116}, {\"index\": 77, \"Asset\": \"fake3\", \"ROI\": -3.055952384545064e+118}, {\"index\": 78, \"Asset\": \"fake3\", \"ROI\": 8.795677315322303e+118}, {\"index\": 79, \"Asset\": \"fake3\", \"ROI\": 3.4887294315001274e+120}, {\"index\": 80, \"Asset\": \"fake3\", \"ROI\": 2.515557170247502e+122}, {\"index\": 81, \"Asset\": \"fake3\", \"ROI\": 2.510947122137725e+124}, {\"index\": 82, \"Asset\": \"fake3\", \"ROI\": 1.5335541056939026e+126}, {\"index\": 83, \"Asset\": \"fake3\", \"ROI\": 7.0238437152931815e+127}, {\"index\": 84, \"Asset\": \"fake3\", \"ROI\": 5.250722902540755e+129}, {\"index\": 85, \"Asset\": \"fake3\", \"ROI\": 3.3039687313586875e+131}, {\"index\": 86, \"Asset\": \"fake3\", \"ROI\": 2.3427834517159976e+133}, {\"index\": 87, \"Asset\": \"fake3\", \"ROI\": -9.366387387997576e+134}, {\"index\": 88, \"Asset\": \"fake3\", \"ROI\": -3.305806790328793e+136}, {\"index\": 89, \"Asset\": \"fake3\", \"ROI\": 1.49336465475143e+138}, {\"index\": 90, \"Asset\": \"fake3\", \"ROI\": 1.0177951067858564e+140}, {\"index\": 91, \"Asset\": \"fake3\", \"ROI\": 4.3494443142678005e+141}, {\"index\": 92, \"Asset\": \"fake3\", \"ROI\": 4.086361486708154e+143}, {\"index\": 93, \"Asset\": \"fake3\", \"ROI\": 2.4517738752791547e+145}, {\"index\": 94, \"Asset\": \"fake3\", \"ROI\": -1.0139546145246379e+147}, {\"index\": 95, \"Asset\": \"fake3\", \"ROI\": 2.1998096745622222e+148}, {\"index\": 96, \"Asset\": \"fake3\", \"ROI\": 7.9182757863742385e+149}, {\"index\": 97, \"Asset\": \"fake3\", \"ROI\": 4.2261704308131165e+151}, {\"index\": 98, \"Asset\": \"fake3\", \"ROI\": 2.225783359190868e+153}, {\"index\": 99, \"Asset\": \"fake3\", \"ROI\": 2.0717352359752436e+155}], \"data-f70a905245c7c5466a1fee4fc97ffe32\": [{\"Asset\": \"fake1\", \"Initial Investment\": 10000}, {\"Asset\": \"fake2\", \"Initial Investment\": 10000}, {\"Asset\": \"fake3\", \"Initial Investment\": 10000}]}}, {\"mode\": \"vega-lite\"});\n",
       "</script>"
      ],
      "text/plain": [
       "alt.LayerChart(...)"
      ]
     },
     "execution_count": 185,
     "metadata": {},
     "output_type": "execute_result"
    }
   ],
   "source": [
    "chart = roi_chart(user_roi)\n",
    "chart"
   ]
  }
 ],
 "metadata": {
  "kernelspec": {
   "display_name": "ucbenv",
   "language": "python",
   "name": "python3"
  },
  "language_info": {
   "codemirror_mode": {
    "name": "ipython",
    "version": 3
   },
   "file_extension": ".py",
   "mimetype": "text/x-python",
   "name": "python",
   "nbconvert_exporter": "python",
   "pygments_lexer": "ipython3",
   "version": "3.9.13"
  }
 },
 "nbformat": 4,
 "nbformat_minor": 2
}
